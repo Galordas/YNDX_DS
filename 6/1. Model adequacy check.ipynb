{
 "cells": [
  {
   "cell_type": "markdown",
   "id": "b159e6f0-ca21-42dc-a808-8d2f960982b4",
   "metadata": {},
   "source": [
    "## 1. Подготовка признаков"
   ]
  },
  {
   "cell_type": "code",
   "id": "initial_id",
   "metadata": {
    "ExecuteTime": {
     "end_time": "2025-03-28T16:45:54.365193Z",
     "start_time": "2025-03-28T16:45:54.314077Z"
    }
   },
   "source": [
    "import pandas as pd\n",
    "df = pd.read_csv(r'E:\\COURSES\\Кодинг\\[Yandex praxis]. DS specialist + (2022)\\6\\Часть 6\\04 Несбалансированная классификация\\travel_insurance.csv')"
   ],
   "outputs": [
    {
     "ename": "FileNotFoundError",
     "evalue": "[Errno 2] No such file or directory: 'E:\\\\COURSES\\\\Кодинг\\\\[Yandex praxis]. DS specialist + (2022)\\\\6\\\\Часть 6\\\\04 Несбалансированная классификация\\\\travel_insurance.csv'",
     "output_type": "error",
     "traceback": [
      "\u001B[1;31m---------------------------------------------------------------------------\u001B[0m",
      "\u001B[1;31mFileNotFoundError\u001B[0m                         Traceback (most recent call last)",
      "Cell \u001B[1;32mIn[2], line 2\u001B[0m\n\u001B[0;32m      1\u001B[0m \u001B[38;5;28;01mimport\u001B[39;00m \u001B[38;5;21;01mpandas\u001B[39;00m \u001B[38;5;28;01mas\u001B[39;00m \u001B[38;5;21;01mpd\u001B[39;00m\n\u001B[1;32m----> 2\u001B[0m df \u001B[38;5;241m=\u001B[39m \u001B[43mpd\u001B[49m\u001B[38;5;241;43m.\u001B[39;49m\u001B[43mread_csv\u001B[49m\u001B[43m(\u001B[49m\u001B[38;5;124;43mr\u001B[39;49m\u001B[38;5;124;43m'\u001B[39;49m\u001B[38;5;124;43mE:\u001B[39;49m\u001B[38;5;124;43m\\\u001B[39;49m\u001B[38;5;124;43mCOURSES\u001B[39;49m\u001B[38;5;124;43m\\\u001B[39;49m\u001B[38;5;124;43mКодинг\u001B[39;49m\u001B[38;5;124;43m\\\u001B[39;49m\u001B[38;5;124;43m[Yandex praxis]. DS specialist + (2022)\u001B[39;49m\u001B[38;5;124;43m\\\u001B[39;49m\u001B[38;5;124;43m6\u001B[39;49m\u001B[38;5;124;43m\\\u001B[39;49m\u001B[38;5;124;43mЧасть 6\u001B[39;49m\u001B[38;5;124;43m\\\u001B[39;49m\u001B[38;5;124;43m04 Несбалансированная классификация\u001B[39;49m\u001B[38;5;124;43m\\\u001B[39;49m\u001B[38;5;124;43mtravel_insurance.csv\u001B[39;49m\u001B[38;5;124;43m'\u001B[39;49m\u001B[43m)\u001B[49m\n",
      "File \u001B[1;32m~\\AppData\\Local\\Programs\\Python\\Python312\\Lib\\site-packages\\pandas\\io\\parsers\\readers.py:1026\u001B[0m, in \u001B[0;36mread_csv\u001B[1;34m(filepath_or_buffer, sep, delimiter, header, names, index_col, usecols, dtype, engine, converters, true_values, false_values, skipinitialspace, skiprows, skipfooter, nrows, na_values, keep_default_na, na_filter, verbose, skip_blank_lines, parse_dates, infer_datetime_format, keep_date_col, date_parser, date_format, dayfirst, cache_dates, iterator, chunksize, compression, thousands, decimal, lineterminator, quotechar, quoting, doublequote, escapechar, comment, encoding, encoding_errors, dialect, on_bad_lines, delim_whitespace, low_memory, memory_map, float_precision, storage_options, dtype_backend)\u001B[0m\n\u001B[0;32m   1013\u001B[0m kwds_defaults \u001B[38;5;241m=\u001B[39m _refine_defaults_read(\n\u001B[0;32m   1014\u001B[0m     dialect,\n\u001B[0;32m   1015\u001B[0m     delimiter,\n\u001B[1;32m   (...)\u001B[0m\n\u001B[0;32m   1022\u001B[0m     dtype_backend\u001B[38;5;241m=\u001B[39mdtype_backend,\n\u001B[0;32m   1023\u001B[0m )\n\u001B[0;32m   1024\u001B[0m kwds\u001B[38;5;241m.\u001B[39mupdate(kwds_defaults)\n\u001B[1;32m-> 1026\u001B[0m \u001B[38;5;28;01mreturn\u001B[39;00m \u001B[43m_read\u001B[49m\u001B[43m(\u001B[49m\u001B[43mfilepath_or_buffer\u001B[49m\u001B[43m,\u001B[49m\u001B[43m \u001B[49m\u001B[43mkwds\u001B[49m\u001B[43m)\u001B[49m\n",
      "File \u001B[1;32m~\\AppData\\Local\\Programs\\Python\\Python312\\Lib\\site-packages\\pandas\\io\\parsers\\readers.py:620\u001B[0m, in \u001B[0;36m_read\u001B[1;34m(filepath_or_buffer, kwds)\u001B[0m\n\u001B[0;32m    617\u001B[0m _validate_names(kwds\u001B[38;5;241m.\u001B[39mget(\u001B[38;5;124m\"\u001B[39m\u001B[38;5;124mnames\u001B[39m\u001B[38;5;124m\"\u001B[39m, \u001B[38;5;28;01mNone\u001B[39;00m))\n\u001B[0;32m    619\u001B[0m \u001B[38;5;66;03m# Create the parser.\u001B[39;00m\n\u001B[1;32m--> 620\u001B[0m parser \u001B[38;5;241m=\u001B[39m \u001B[43mTextFileReader\u001B[49m\u001B[43m(\u001B[49m\u001B[43mfilepath_or_buffer\u001B[49m\u001B[43m,\u001B[49m\u001B[43m \u001B[49m\u001B[38;5;241;43m*\u001B[39;49m\u001B[38;5;241;43m*\u001B[39;49m\u001B[43mkwds\u001B[49m\u001B[43m)\u001B[49m\n\u001B[0;32m    622\u001B[0m \u001B[38;5;28;01mif\u001B[39;00m chunksize \u001B[38;5;129;01mor\u001B[39;00m iterator:\n\u001B[0;32m    623\u001B[0m     \u001B[38;5;28;01mreturn\u001B[39;00m parser\n",
      "File \u001B[1;32m~\\AppData\\Local\\Programs\\Python\\Python312\\Lib\\site-packages\\pandas\\io\\parsers\\readers.py:1620\u001B[0m, in \u001B[0;36mTextFileReader.__init__\u001B[1;34m(self, f, engine, **kwds)\u001B[0m\n\u001B[0;32m   1617\u001B[0m     \u001B[38;5;28mself\u001B[39m\u001B[38;5;241m.\u001B[39moptions[\u001B[38;5;124m\"\u001B[39m\u001B[38;5;124mhas_index_names\u001B[39m\u001B[38;5;124m\"\u001B[39m] \u001B[38;5;241m=\u001B[39m kwds[\u001B[38;5;124m\"\u001B[39m\u001B[38;5;124mhas_index_names\u001B[39m\u001B[38;5;124m\"\u001B[39m]\n\u001B[0;32m   1619\u001B[0m \u001B[38;5;28mself\u001B[39m\u001B[38;5;241m.\u001B[39mhandles: IOHandles \u001B[38;5;241m|\u001B[39m \u001B[38;5;28;01mNone\u001B[39;00m \u001B[38;5;241m=\u001B[39m \u001B[38;5;28;01mNone\u001B[39;00m\n\u001B[1;32m-> 1620\u001B[0m \u001B[38;5;28mself\u001B[39m\u001B[38;5;241m.\u001B[39m_engine \u001B[38;5;241m=\u001B[39m \u001B[38;5;28;43mself\u001B[39;49m\u001B[38;5;241;43m.\u001B[39;49m\u001B[43m_make_engine\u001B[49m\u001B[43m(\u001B[49m\u001B[43mf\u001B[49m\u001B[43m,\u001B[49m\u001B[43m \u001B[49m\u001B[38;5;28;43mself\u001B[39;49m\u001B[38;5;241;43m.\u001B[39;49m\u001B[43mengine\u001B[49m\u001B[43m)\u001B[49m\n",
      "File \u001B[1;32m~\\AppData\\Local\\Programs\\Python\\Python312\\Lib\\site-packages\\pandas\\io\\parsers\\readers.py:1880\u001B[0m, in \u001B[0;36mTextFileReader._make_engine\u001B[1;34m(self, f, engine)\u001B[0m\n\u001B[0;32m   1878\u001B[0m     \u001B[38;5;28;01mif\u001B[39;00m \u001B[38;5;124m\"\u001B[39m\u001B[38;5;124mb\u001B[39m\u001B[38;5;124m\"\u001B[39m \u001B[38;5;129;01mnot\u001B[39;00m \u001B[38;5;129;01min\u001B[39;00m mode:\n\u001B[0;32m   1879\u001B[0m         mode \u001B[38;5;241m+\u001B[39m\u001B[38;5;241m=\u001B[39m \u001B[38;5;124m\"\u001B[39m\u001B[38;5;124mb\u001B[39m\u001B[38;5;124m\"\u001B[39m\n\u001B[1;32m-> 1880\u001B[0m \u001B[38;5;28mself\u001B[39m\u001B[38;5;241m.\u001B[39mhandles \u001B[38;5;241m=\u001B[39m \u001B[43mget_handle\u001B[49m\u001B[43m(\u001B[49m\n\u001B[0;32m   1881\u001B[0m \u001B[43m    \u001B[49m\u001B[43mf\u001B[49m\u001B[43m,\u001B[49m\n\u001B[0;32m   1882\u001B[0m \u001B[43m    \u001B[49m\u001B[43mmode\u001B[49m\u001B[43m,\u001B[49m\n\u001B[0;32m   1883\u001B[0m \u001B[43m    \u001B[49m\u001B[43mencoding\u001B[49m\u001B[38;5;241;43m=\u001B[39;49m\u001B[38;5;28;43mself\u001B[39;49m\u001B[38;5;241;43m.\u001B[39;49m\u001B[43moptions\u001B[49m\u001B[38;5;241;43m.\u001B[39;49m\u001B[43mget\u001B[49m\u001B[43m(\u001B[49m\u001B[38;5;124;43m\"\u001B[39;49m\u001B[38;5;124;43mencoding\u001B[39;49m\u001B[38;5;124;43m\"\u001B[39;49m\u001B[43m,\u001B[49m\u001B[43m \u001B[49m\u001B[38;5;28;43;01mNone\u001B[39;49;00m\u001B[43m)\u001B[49m\u001B[43m,\u001B[49m\n\u001B[0;32m   1884\u001B[0m \u001B[43m    \u001B[49m\u001B[43mcompression\u001B[49m\u001B[38;5;241;43m=\u001B[39;49m\u001B[38;5;28;43mself\u001B[39;49m\u001B[38;5;241;43m.\u001B[39;49m\u001B[43moptions\u001B[49m\u001B[38;5;241;43m.\u001B[39;49m\u001B[43mget\u001B[49m\u001B[43m(\u001B[49m\u001B[38;5;124;43m\"\u001B[39;49m\u001B[38;5;124;43mcompression\u001B[39;49m\u001B[38;5;124;43m\"\u001B[39;49m\u001B[43m,\u001B[49m\u001B[43m \u001B[49m\u001B[38;5;28;43;01mNone\u001B[39;49;00m\u001B[43m)\u001B[49m\u001B[43m,\u001B[49m\n\u001B[0;32m   1885\u001B[0m \u001B[43m    \u001B[49m\u001B[43mmemory_map\u001B[49m\u001B[38;5;241;43m=\u001B[39;49m\u001B[38;5;28;43mself\u001B[39;49m\u001B[38;5;241;43m.\u001B[39;49m\u001B[43moptions\u001B[49m\u001B[38;5;241;43m.\u001B[39;49m\u001B[43mget\u001B[49m\u001B[43m(\u001B[49m\u001B[38;5;124;43m\"\u001B[39;49m\u001B[38;5;124;43mmemory_map\u001B[39;49m\u001B[38;5;124;43m\"\u001B[39;49m\u001B[43m,\u001B[49m\u001B[43m \u001B[49m\u001B[38;5;28;43;01mFalse\u001B[39;49;00m\u001B[43m)\u001B[49m\u001B[43m,\u001B[49m\n\u001B[0;32m   1886\u001B[0m \u001B[43m    \u001B[49m\u001B[43mis_text\u001B[49m\u001B[38;5;241;43m=\u001B[39;49m\u001B[43mis_text\u001B[49m\u001B[43m,\u001B[49m\n\u001B[0;32m   1887\u001B[0m \u001B[43m    \u001B[49m\u001B[43merrors\u001B[49m\u001B[38;5;241;43m=\u001B[39;49m\u001B[38;5;28;43mself\u001B[39;49m\u001B[38;5;241;43m.\u001B[39;49m\u001B[43moptions\u001B[49m\u001B[38;5;241;43m.\u001B[39;49m\u001B[43mget\u001B[49m\u001B[43m(\u001B[49m\u001B[38;5;124;43m\"\u001B[39;49m\u001B[38;5;124;43mencoding_errors\u001B[39;49m\u001B[38;5;124;43m\"\u001B[39;49m\u001B[43m,\u001B[49m\u001B[43m \u001B[49m\u001B[38;5;124;43m\"\u001B[39;49m\u001B[38;5;124;43mstrict\u001B[39;49m\u001B[38;5;124;43m\"\u001B[39;49m\u001B[43m)\u001B[49m\u001B[43m,\u001B[49m\n\u001B[0;32m   1888\u001B[0m \u001B[43m    \u001B[49m\u001B[43mstorage_options\u001B[49m\u001B[38;5;241;43m=\u001B[39;49m\u001B[38;5;28;43mself\u001B[39;49m\u001B[38;5;241;43m.\u001B[39;49m\u001B[43moptions\u001B[49m\u001B[38;5;241;43m.\u001B[39;49m\u001B[43mget\u001B[49m\u001B[43m(\u001B[49m\u001B[38;5;124;43m\"\u001B[39;49m\u001B[38;5;124;43mstorage_options\u001B[39;49m\u001B[38;5;124;43m\"\u001B[39;49m\u001B[43m,\u001B[49m\u001B[43m \u001B[49m\u001B[38;5;28;43;01mNone\u001B[39;49;00m\u001B[43m)\u001B[49m\u001B[43m,\u001B[49m\n\u001B[0;32m   1889\u001B[0m \u001B[43m\u001B[49m\u001B[43m)\u001B[49m\n\u001B[0;32m   1890\u001B[0m \u001B[38;5;28;01massert\u001B[39;00m \u001B[38;5;28mself\u001B[39m\u001B[38;5;241m.\u001B[39mhandles \u001B[38;5;129;01mis\u001B[39;00m \u001B[38;5;129;01mnot\u001B[39;00m \u001B[38;5;28;01mNone\u001B[39;00m\n\u001B[0;32m   1891\u001B[0m f \u001B[38;5;241m=\u001B[39m \u001B[38;5;28mself\u001B[39m\u001B[38;5;241m.\u001B[39mhandles\u001B[38;5;241m.\u001B[39mhandle\n",
      "File \u001B[1;32m~\\AppData\\Local\\Programs\\Python\\Python312\\Lib\\site-packages\\pandas\\io\\common.py:873\u001B[0m, in \u001B[0;36mget_handle\u001B[1;34m(path_or_buf, mode, encoding, compression, memory_map, is_text, errors, storage_options)\u001B[0m\n\u001B[0;32m    868\u001B[0m \u001B[38;5;28;01melif\u001B[39;00m \u001B[38;5;28misinstance\u001B[39m(handle, \u001B[38;5;28mstr\u001B[39m):\n\u001B[0;32m    869\u001B[0m     \u001B[38;5;66;03m# Check whether the filename is to be opened in binary mode.\u001B[39;00m\n\u001B[0;32m    870\u001B[0m     \u001B[38;5;66;03m# Binary mode does not support 'encoding' and 'newline'.\u001B[39;00m\n\u001B[0;32m    871\u001B[0m     \u001B[38;5;28;01mif\u001B[39;00m ioargs\u001B[38;5;241m.\u001B[39mencoding \u001B[38;5;129;01mand\u001B[39;00m \u001B[38;5;124m\"\u001B[39m\u001B[38;5;124mb\u001B[39m\u001B[38;5;124m\"\u001B[39m \u001B[38;5;129;01mnot\u001B[39;00m \u001B[38;5;129;01min\u001B[39;00m ioargs\u001B[38;5;241m.\u001B[39mmode:\n\u001B[0;32m    872\u001B[0m         \u001B[38;5;66;03m# Encoding\u001B[39;00m\n\u001B[1;32m--> 873\u001B[0m         handle \u001B[38;5;241m=\u001B[39m \u001B[38;5;28;43mopen\u001B[39;49m\u001B[43m(\u001B[49m\n\u001B[0;32m    874\u001B[0m \u001B[43m            \u001B[49m\u001B[43mhandle\u001B[49m\u001B[43m,\u001B[49m\n\u001B[0;32m    875\u001B[0m \u001B[43m            \u001B[49m\u001B[43mioargs\u001B[49m\u001B[38;5;241;43m.\u001B[39;49m\u001B[43mmode\u001B[49m\u001B[43m,\u001B[49m\n\u001B[0;32m    876\u001B[0m \u001B[43m            \u001B[49m\u001B[43mencoding\u001B[49m\u001B[38;5;241;43m=\u001B[39;49m\u001B[43mioargs\u001B[49m\u001B[38;5;241;43m.\u001B[39;49m\u001B[43mencoding\u001B[49m\u001B[43m,\u001B[49m\n\u001B[0;32m    877\u001B[0m \u001B[43m            \u001B[49m\u001B[43merrors\u001B[49m\u001B[38;5;241;43m=\u001B[39;49m\u001B[43merrors\u001B[49m\u001B[43m,\u001B[49m\n\u001B[0;32m    878\u001B[0m \u001B[43m            \u001B[49m\u001B[43mnewline\u001B[49m\u001B[38;5;241;43m=\u001B[39;49m\u001B[38;5;124;43m\"\u001B[39;49m\u001B[38;5;124;43m\"\u001B[39;49m\u001B[43m,\u001B[49m\n\u001B[0;32m    879\u001B[0m \u001B[43m        \u001B[49m\u001B[43m)\u001B[49m\n\u001B[0;32m    880\u001B[0m     \u001B[38;5;28;01melse\u001B[39;00m:\n\u001B[0;32m    881\u001B[0m         \u001B[38;5;66;03m# Binary mode\u001B[39;00m\n\u001B[0;32m    882\u001B[0m         handle \u001B[38;5;241m=\u001B[39m \u001B[38;5;28mopen\u001B[39m(handle, ioargs\u001B[38;5;241m.\u001B[39mmode)\n",
      "\u001B[1;31mFileNotFoundError\u001B[0m: [Errno 2] No such file or directory: 'E:\\\\COURSES\\\\Кодинг\\\\[Yandex praxis]. DS specialist + (2022)\\\\6\\\\Часть 6\\\\04 Несбалансированная классификация\\\\travel_insurance.csv'"
     ]
    }
   ],
   "execution_count": 2
  },
  {
   "cell_type": "code",
   "execution_count": 2,
   "id": "a4736f42a12d6f9b",
   "metadata": {
    "ExecuteTime": {
     "end_time": "2025-03-28T16:44:45.329224500Z",
     "start_time": "2025-03-28T07:37:51.974065Z"
    }
   },
   "outputs": [
    {
     "data": {
      "text/html": [
       "<div>\n",
       "<style scoped>\n",
       "    .dataframe tbody tr th:only-of-type {\n",
       "        vertical-align: middle;\n",
       "    }\n",
       "\n",
       "    .dataframe tbody tr th {\n",
       "        vertical-align: top;\n",
       "    }\n",
       "\n",
       "    .dataframe thead th {\n",
       "        text-align: right;\n",
       "    }\n",
       "</style>\n",
       "<table border=\"1\" class=\"dataframe\">\n",
       "  <thead>\n",
       "    <tr style=\"text-align: right;\">\n",
       "      <th></th>\n",
       "      <th>Agency</th>\n",
       "      <th>Agency Type</th>\n",
       "      <th>Distribution Channel</th>\n",
       "      <th>Product Name</th>\n",
       "      <th>Claim</th>\n",
       "      <th>Duration</th>\n",
       "      <th>Destination</th>\n",
       "      <th>Net Sales</th>\n",
       "      <th>Commission (in value)</th>\n",
       "      <th>Gender</th>\n",
       "      <th>Age</th>\n",
       "    </tr>\n",
       "  </thead>\n",
       "  <tbody>\n",
       "    <tr>\n",
       "      <th>0</th>\n",
       "      <td>JZI</td>\n",
       "      <td>Airlines</td>\n",
       "      <td>Online</td>\n",
       "      <td>Value Plan</td>\n",
       "      <td>0</td>\n",
       "      <td>12</td>\n",
       "      <td>TAIWAN, PROVINCE OF CHINA</td>\n",
       "      <td>45.0</td>\n",
       "      <td>15.75</td>\n",
       "      <td>M</td>\n",
       "      <td>39</td>\n",
       "    </tr>\n",
       "    <tr>\n",
       "      <th>1</th>\n",
       "      <td>EPX</td>\n",
       "      <td>Travel Agency</td>\n",
       "      <td>Online</td>\n",
       "      <td>Cancellation Plan</td>\n",
       "      <td>0</td>\n",
       "      <td>50</td>\n",
       "      <td>JAPAN</td>\n",
       "      <td>22.0</td>\n",
       "      <td>0.00</td>\n",
       "      <td>NaN</td>\n",
       "      <td>36</td>\n",
       "    </tr>\n",
       "  </tbody>\n",
       "</table>\n",
       "</div>"
      ],
      "text/plain": [
       "  Agency    Agency Type Distribution Channel       Product Name  Claim  \\\n",
       "0    JZI       Airlines               Online         Value Plan      0   \n",
       "1    EPX  Travel Agency               Online  Cancellation Plan      0   \n",
       "\n",
       "   Duration                Destination  Net Sales  Commission (in value)  \\\n",
       "0        12  TAIWAN, PROVINCE OF CHINA       45.0                  15.75   \n",
       "1        50                      JAPAN       22.0                   0.00   \n",
       "\n",
       "  Gender  Age  \n",
       "0      M   39  \n",
       "1    NaN   36  "
      ]
     },
     "execution_count": 2,
     "metadata": {},
     "output_type": "execute_result"
    }
   ],
   "source": [
    "df.head(2)"
   ]
  },
  {
   "cell_type": "code",
   "execution_count": 3,
   "id": "935cd747b1701539",
   "metadata": {
    "ExecuteTime": {
     "end_time": "2025-03-28T16:44:45.330221500Z",
     "start_time": "2025-03-28T07:37:56.732441Z"
    },
    "scrolled": true
   },
   "outputs": [
    {
     "name": "stdout",
     "output_type": "stream",
     "text": [
      "<class 'pandas.core.frame.DataFrame'>\n",
      "RangeIndex: 50660 entries, 0 to 50659\n",
      "Data columns (total 11 columns):\n",
      " #   Column                 Non-Null Count  Dtype  \n",
      "---  ------                 --------------  -----  \n",
      " 0   Agency                 50660 non-null  object \n",
      " 1   Agency Type            50660 non-null  object \n",
      " 2   Distribution Channel   50660 non-null  object \n",
      " 3   Product Name           50660 non-null  object \n",
      " 4   Claim                  50660 non-null  int64  \n",
      " 5   Duration               50660 non-null  int64  \n",
      " 6   Destination            50660 non-null  object \n",
      " 7   Net Sales              50660 non-null  float64\n",
      " 8   Commission (in value)  50660 non-null  float64\n",
      " 9   Gender                 14569 non-null  object \n",
      " 10  Age                    50660 non-null  int64  \n",
      "dtypes: float64(2), int64(3), object(6)\n",
      "memory usage: 4.3+ MB\n"
     ]
    }
   ],
   "source": [
    "df.info()"
   ]
  },
  {
   "cell_type": "code",
   "execution_count": 4,
   "id": "c1b23d6b-d380-4c0e-8610-7afa268eab26",
   "metadata": {},
   "outputs": [
    {
     "data": {
      "text/plain": [
       "Gender\n",
       "M    7496\n",
       "F    7073\n",
       "Name: count, dtype: int64"
      ]
     },
     "execution_count": 4,
     "metadata": {},
     "output_type": "execute_result"
    }
   ],
   "source": [
    "df.Gender.value_counts()"
   ]
  },
  {
   "cell_type": "markdown",
   "id": "9aab50de-d71c-4227-a83d-22bf55b756fd",
   "metadata": {},
   "source": [
    "Для анализа лучше перевести гендер в 1 и 0 для мужчины и женщины. Этого можно добиться разными способами.\n",
    "\n",
    "### 1.1. OHE (One-Hot Encoding)\n",
    "\n",
    "Преобразовать категориальные признаки в численные поможет техника прямого кодирования, или отображения (англ. One-Hot Encoding, OHE).\n",
    "\n",
    "Для каждого значения признака Gender (F, M, None) создаётся столбец:\n",
    "Gender_F (от англ. female, «женщина»),\n",
    "Gender_M (от англ. male, «мужчина»),\n",
    "Gender_None (данных о поле нет).\n",
    "Когда ставить единицу в добавленные столбцы, зависит от того, каково значение Gender. Например, если F, то 1 записывается в столбец Gender_F, а M — в `Gender_M`.\n",
    "\n",
    "Когда ставить единицу в добавленные столбцы, зависит от того, каково значение Gender. Например, если F, то 1 записывается в столбец Gender_F, а M — в `Gender_M`.\n",
    "\n",
    "\n",
    "Резюмируем. Техникой OHE категориальные признаки переводятся в численные в два этапа:\n",
    "Для каждого значения признака создаётся новый столбец;\n",
    "Если объекту категория подходит, присваивается 1, если нет — 0.\n",
    "Новые признаки (`Gender_F`, `Gender_M`, `Gender_None`) называются дамми-переменными, или дамми-признаками (англ. dummy variable, «фиктивная переменная»).\n",
    "\n",
    "Для прямого кодирования в библиотеке pandas есть функция `pd.get_dummies()` (от англ. «получить фиктивные переменные»)\n"
   ]
  },
  {
   "cell_type": "code",
   "execution_count": 5,
   "id": "aef8a854150ce26a",
   "metadata": {
    "ExecuteTime": {
     "end_time": "2025-03-28T16:44:45.382048100Z",
     "start_time": "2025-03-28T08:24:33.371116Z"
    }
   },
   "outputs": [
    {
     "name": "stdout",
     "output_type": "stream",
     "text": [
      "  Agency    Agency Type Distribution Channel       Product Name  Claim  \\\n",
      "0    JZI       Airlines               Online         Value Plan      0   \n",
      "1    EPX  Travel Agency               Online  Cancellation Plan      0   \n",
      "2    EPX  Travel Agency               Online  Cancellation Plan      0   \n",
      "3    EPX  Travel Agency               Online  Cancellation Plan      0   \n",
      "4    JZI       Airlines               Online         Value Plan      0   \n",
      "\n",
      "   Duration                Destination  Net Sales  Commission (in value)  Age  \\\n",
      "0        12  TAIWAN, PROVINCE OF CHINA       45.0                  15.75   39   \n",
      "1        50                      JAPAN       22.0                   0.00   36   \n",
      "2       251                     BRAZIL       80.0                   0.00   36   \n",
      "3         6                      INDIA      -10.0                   0.00   36   \n",
      "4         5                      CHINA       45.0                  15.75   34   \n",
      "\n",
      "   Gender_M  Gender_nan  \n",
      "0         1           0  \n",
      "1         0           1  \n",
      "2         0           1  \n",
      "3         0           1  \n",
      "4         1           0  \n"
     ]
    }
   ],
   "source": [
    "data_ohe = pd.get_dummies(df, columns=['Gender'], dummy_na=True, drop_first=True, dtype=int)\n",
    "print(data_ohe.head(5))"
   ]
  },
  {
   "cell_type": "code",
   "execution_count": 6,
   "id": "fc063ebe-0c09-4c19-b421-c2e4d4fbd5a3",
   "metadata": {},
   "outputs": [
    {
     "name": "stdout",
     "output_type": "stream",
     "text": [
      "7073\n"
     ]
    }
   ],
   "source": [
    "print(data_ohe.Gender_M.shape[0] - data_ohe.Gender_M.sum()-data_ohe.Gender_nan.sum())"
   ]
  },
  {
   "cell_type": "markdown",
   "id": "444b0ca6-7880-4bc1-b1d1-49330b89e406",
   "metadata": {},
   "source": [
    "### 1.2. Ordinal Encoder\n",
    "\n",
    "Чтобы закодировать цифрами выраженные в тексте категории — Ordinal Encoding (от англ. «кодирование по номеру категории»). Она работает так:\n",
    "Фиксируется, какой цифрой кодируется класс;\n",
    "Цифры размещаются в столбце.\n",
    "\n",
    "`from sklearn.preprocessing import OrdinalEncoder`\n",
    "\n",
    "Чтобы получить список категориальных признаков, вызываем метод `fit()` — как и в обучении модели. Передаём ему данные как аргумент.\n",
    "\n",
    "Преобразуем данные функцией `transform()` (англ. «преобразовать»). Изменённые данные будут храниться в переменной data_ordinal (англ. «порядковые данные»)."
   ]
  },
  {
   "cell_type": "code",
   "execution_count": 7,
   "id": "a301b2091328e477",
   "metadata": {
    "ExecuteTime": {
     "end_time": "2025-03-28T16:44:45.385038100Z",
     "start_time": "2025-03-28T08:24:36.824399Z"
    }
   },
   "outputs": [],
   "source": [
    "from sklearn.preprocessing import OrdinalEncoder\n",
    "encoder = OrdinalEncoder()\n",
    "data_ordinal = pd.DataFrame(encoder.fit_transform(df), columns = df.columns)"
   ]
  },
  {
   "cell_type": "code",
   "execution_count": 8,
   "id": "399b3c6f35b4c292",
   "metadata": {
    "ExecuteTime": {
     "end_time": "2025-03-28T16:44:45.403975Z",
     "start_time": "2025-03-28T08:24:38.429908Z"
    }
   },
   "outputs": [
    {
     "data": {
      "text/html": [
       "<div>\n",
       "<style scoped>\n",
       "    .dataframe tbody tr th:only-of-type {\n",
       "        vertical-align: middle;\n",
       "    }\n",
       "\n",
       "    .dataframe tbody tr th {\n",
       "        vertical-align: top;\n",
       "    }\n",
       "\n",
       "    .dataframe thead th {\n",
       "        text-align: right;\n",
       "    }\n",
       "</style>\n",
       "<table border=\"1\" class=\"dataframe\">\n",
       "  <thead>\n",
       "    <tr style=\"text-align: right;\">\n",
       "      <th></th>\n",
       "      <th>Agency</th>\n",
       "      <th>Agency Type</th>\n",
       "      <th>Distribution Channel</th>\n",
       "      <th>Product Name</th>\n",
       "      <th>Claim</th>\n",
       "      <th>Duration</th>\n",
       "      <th>Destination</th>\n",
       "      <th>Net Sales</th>\n",
       "      <th>Commission (in value)</th>\n",
       "      <th>Gender</th>\n",
       "      <th>Age</th>\n",
       "    </tr>\n",
       "  </thead>\n",
       "  <tbody>\n",
       "    <tr>\n",
       "      <th>0</th>\n",
       "      <td>9.0</td>\n",
       "      <td>0.0</td>\n",
       "      <td>1.0</td>\n",
       "      <td>24.0</td>\n",
       "      <td>0.0</td>\n",
       "      <td>14.0</td>\n",
       "      <td>121.0</td>\n",
       "      <td>602.0</td>\n",
       "      <td>486.0</td>\n",
       "      <td>1.0</td>\n",
       "      <td>37.0</td>\n",
       "    </tr>\n",
       "    <tr>\n",
       "      <th>1</th>\n",
       "      <td>7.0</td>\n",
       "      <td>1.0</td>\n",
       "      <td>1.0</td>\n",
       "      <td>10.0</td>\n",
       "      <td>0.0</td>\n",
       "      <td>52.0</td>\n",
       "      <td>61.0</td>\n",
       "      <td>470.0</td>\n",
       "      <td>0.0</td>\n",
       "      <td>NaN</td>\n",
       "      <td>34.0</td>\n",
       "    </tr>\n",
       "    <tr>\n",
       "      <th>2</th>\n",
       "      <td>7.0</td>\n",
       "      <td>1.0</td>\n",
       "      <td>1.0</td>\n",
       "      <td>10.0</td>\n",
       "      <td>0.0</td>\n",
       "      <td>253.0</td>\n",
       "      <td>16.0</td>\n",
       "      <td>735.0</td>\n",
       "      <td>0.0</td>\n",
       "      <td>NaN</td>\n",
       "      <td>34.0</td>\n",
       "    </tr>\n",
       "    <tr>\n",
       "      <th>3</th>\n",
       "      <td>7.0</td>\n",
       "      <td>1.0</td>\n",
       "      <td>1.0</td>\n",
       "      <td>10.0</td>\n",
       "      <td>0.0</td>\n",
       "      <td>8.0</td>\n",
       "      <td>54.0</td>\n",
       "      <td>121.0</td>\n",
       "      <td>0.0</td>\n",
       "      <td>NaN</td>\n",
       "      <td>34.0</td>\n",
       "    </tr>\n",
       "    <tr>\n",
       "      <th>4</th>\n",
       "      <td>9.0</td>\n",
       "      <td>0.0</td>\n",
       "      <td>1.0</td>\n",
       "      <td>24.0</td>\n",
       "      <td>0.0</td>\n",
       "      <td>7.0</td>\n",
       "      <td>24.0</td>\n",
       "      <td>602.0</td>\n",
       "      <td>486.0</td>\n",
       "      <td>1.0</td>\n",
       "      <td>32.0</td>\n",
       "    </tr>\n",
       "  </tbody>\n",
       "</table>\n",
       "</div>"
      ],
      "text/plain": [
       "   Agency  Agency Type  Distribution Channel  Product Name  Claim  Duration  \\\n",
       "0     9.0          0.0                   1.0          24.0    0.0      14.0   \n",
       "1     7.0          1.0                   1.0          10.0    0.0      52.0   \n",
       "2     7.0          1.0                   1.0          10.0    0.0     253.0   \n",
       "3     7.0          1.0                   1.0          10.0    0.0       8.0   \n",
       "4     9.0          0.0                   1.0          24.0    0.0       7.0   \n",
       "\n",
       "   Destination  Net Sales  Commission (in value)  Gender   Age  \n",
       "0        121.0      602.0                  486.0     1.0  37.0  \n",
       "1         61.0      470.0                    0.0     NaN  34.0  \n",
       "2         16.0      735.0                    0.0     NaN  34.0  \n",
       "3         54.0      121.0                    0.0     NaN  34.0  \n",
       "4         24.0      602.0                  486.0     1.0  32.0  "
      ]
     },
     "execution_count": 8,
     "metadata": {},
     "output_type": "execute_result"
    }
   ],
   "source": [
    "data_ordinal.head(5)"
   ]
  },
  {
   "cell_type": "code",
   "execution_count": 9,
   "id": "ae9ab81a-62dc-4b1f-b589-7b666f288a49",
   "metadata": {},
   "outputs": [
    {
     "data": {
      "text/plain": [
       "Gender\n",
       "1.0    7496\n",
       "0.0    7073\n",
       "Name: count, dtype: int64"
      ]
     },
     "execution_count": 9,
     "metadata": {},
     "output_type": "execute_result"
    }
   ],
   "source": [
    "data_ordinal['Gender'].value_counts()\n",
    "\n",
    "# 1 - Male, 0 - Female"
   ]
  },
  {
   "cell_type": "code",
   "execution_count": 10,
   "id": "b414207a-adba-45b1-9dfe-c9197e53a89c",
   "metadata": {},
   "outputs": [
    {
     "name": "stdout",
     "output_type": "stream",
     "text": [
      "(37995, 10)\n",
      "(12665, 10)\n",
      "       Agency  Agency Type  Distribution Channel  Product Name  Duration  \\\n",
      "33312     7.0          1.0                   1.0          10.0      79.0   \n",
      "50154     7.0          1.0                   1.0          10.0      22.0   \n",
      "\n",
      "       Destination  Net Sales  Commission (in value)  Gender   Age  \n",
      "33312         24.0      414.0                    0.0     NaN  34.0  \n",
      "50154        113.0      398.0                    0.0     NaN  34.0  \n"
     ]
    }
   ],
   "source": [
    "from sklearn.model_selection import train_test_split\n",
    "\n",
    "df_train, df_valid = train_test_split(data_ordinal, test_size=0.25, random_state=12345)\n",
    "features_train = df_train.drop('Claim', axis=1)\n",
    "target_train = df_train['Claim']\n",
    "features_valid = df_valid.drop('Claim', axis=1)\n",
    "target_valid = df_valid['Claim']\n",
    "\n",
    "print(features_train.shape)\n",
    "print(features_valid.shape)\n",
    "print(features_train.head(2))"
   ]
  },
  {
   "cell_type": "code",
   "execution_count": 11,
   "id": "eb17755c209de5fa",
   "metadata": {
    "ExecuteTime": {
     "end_time": "2025-03-28T16:44:45.406965200Z",
     "start_time": "2025-03-28T08:24:35.729417Z"
    }
   },
   "outputs": [
    {
     "name": "stdout",
     "output_type": "stream",
     "text": [
      "The best decision tree depth 1 The best score is: 0.9866561389656534\n"
     ]
    }
   ],
   "source": [
    "from sklearn.tree import DecisionTreeClassifier\n",
    "\n",
    "best_result_decision_tree = 0\n",
    "best_model_decision_tree = None\n",
    "best_depth_decision_tree = None\n",
    "\n",
    "for depth in range(1, 11):\n",
    "    model = DecisionTreeClassifier(random_state=333, max_depth=depth)\n",
    "    model.fit(features_train, target_train)\n",
    "    predictions = model.predict(features_valid)\n",
    "    result = model.score(features_valid, target_valid)\n",
    "    if result > best_result_decision_tree:\n",
    "        best_model_decision_tree = model\n",
    "        best_result_decision_tree = result\n",
    "        best_depth_decision_tree = depth\n",
    "print('The best decision tree depth', best_depth_decision_tree,\n",
    "      'The best score is:', best_result_decision_tree)"
   ]
  },
  {
   "cell_type": "markdown",
   "id": "d549d32d-c622-4e66-9158-a901d5582ac7",
   "metadata": {},
   "source": [
    "`Ordinal Encoding` doesn't fit for `Logistic Regression`\n",
    "\n",
    "Если все признаки должны стать количественными, подходит техника OHE;\n",
    "Когда все признаки категориальные, и их нужно преобразовать в числа — Ordinal Encoding.\n",
    "\n",
    "## 2. Data standardization\n",
    "\n",
    "В данных есть столбцы: `Age` и `Commission`. Допустим, возможен возраст от 0 до 100 лет, а страховая комиссия — от 100 долларов до 1000. Значения и их разбросы в столбце `Commission` больше, поэтому алгоритм автоматически решит, что этот признак важнее возраста. А это не так: все признаки значимы.\n",
    "\n",
    "Чтобы избежать этой ловушки, признаки масштабируют — приводят к одному масштабу.\n",
    "Один из методов масштабирования — стандартизация данных.\n",
    "\n",
    "Предположим, что все признаки распределены нормально, среднее (англ. mean, M) и дисперсия (лат. dispersio, D) определяются по выборке. Значения признака преобразуются по формуле:\n",
    "$$\n",
    "New\\ value = \\frac{Old\\ value - M}{\\sqrt{D}}\n",
    "$$\n",
    "\n",
    "В `sklearn` есть отдельная структура для стандартизации данных — `StandardScaler` (от англ. «преобразователь масштаба методом стандартизации»). Он находится в модуле `sklearn.preprocessing`.\n",
    "Импортируем `StandardScaler` из библиотеки:\n",
    "\n",
    "from `sklearn.preprocessing` import `StandardScaler`\n",
    "\n",
    "`scaler = StandardScaler()`\n",
    "\n",
    "`scaler.fit(features_train)` "
   ]
  },
  {
   "cell_type": "code",
   "execution_count": 12,
   "id": "d25475d7-d9d7-4c95-bb31-66993a25f1b4",
   "metadata": {},
   "outputs": [
    {
     "data": {
      "text/html": [
       "<div>\n",
       "<style scoped>\n",
       "    .dataframe tbody tr th:only-of-type {\n",
       "        vertical-align: middle;\n",
       "    }\n",
       "\n",
       "    .dataframe tbody tr th {\n",
       "        vertical-align: top;\n",
       "    }\n",
       "\n",
       "    .dataframe thead th {\n",
       "        text-align: right;\n",
       "    }\n",
       "</style>\n",
       "<table border=\"1\" class=\"dataframe\">\n",
       "  <thead>\n",
       "    <tr style=\"text-align: right;\">\n",
       "      <th></th>\n",
       "      <th>Agency</th>\n",
       "      <th>Agency Type</th>\n",
       "      <th>Distribution Channel</th>\n",
       "      <th>Product Name</th>\n",
       "      <th>Duration</th>\n",
       "      <th>Destination</th>\n",
       "      <th>Net Sales</th>\n",
       "      <th>Commission (in value)</th>\n",
       "      <th>Gender</th>\n",
       "      <th>Age</th>\n",
       "    </tr>\n",
       "  </thead>\n",
       "  <tbody>\n",
       "    <tr>\n",
       "      <th>33312</th>\n",
       "      <td>7.0</td>\n",
       "      <td>1.0</td>\n",
       "      <td>1.0</td>\n",
       "      <td>10.0</td>\n",
       "      <td>0.193861</td>\n",
       "      <td>24.0</td>\n",
       "      <td>-2.325353</td>\n",
       "      <td>1.103670</td>\n",
       "      <td>NaN</td>\n",
       "      <td>1.565044</td>\n",
       "    </tr>\n",
       "    <tr>\n",
       "      <th>50154</th>\n",
       "      <td>7.0</td>\n",
       "      <td>1.0</td>\n",
       "      <td>1.0</td>\n",
       "      <td>10.0</td>\n",
       "      <td>NaN</td>\n",
       "      <td>113.0</td>\n",
       "      <td>NaN</td>\n",
       "      <td>NaN</td>\n",
       "      <td>NaN</td>\n",
       "      <td>NaN</td>\n",
       "    </tr>\n",
       "    <tr>\n",
       "      <th>26729</th>\n",
       "      <td>7.0</td>\n",
       "      <td>1.0</td>\n",
       "      <td>1.0</td>\n",
       "      <td>10.0</td>\n",
       "      <td>-0.607112</td>\n",
       "      <td>76.0</td>\n",
       "      <td>-0.177956</td>\n",
       "      <td>1.013577</td>\n",
       "      <td>NaN</td>\n",
       "      <td>-0.214134</td>\n",
       "    </tr>\n",
       "    <tr>\n",
       "      <th>37842</th>\n",
       "      <td>7.0</td>\n",
       "      <td>1.0</td>\n",
       "      <td>1.0</td>\n",
       "      <td>1.0</td>\n",
       "      <td>-0.378262</td>\n",
       "      <td>124.0</td>\n",
       "      <td>-0.347180</td>\n",
       "      <td>-0.770269</td>\n",
       "      <td>NaN</td>\n",
       "      <td>-0.298857</td>\n",
       "    </tr>\n",
       "    <tr>\n",
       "      <th>23588</th>\n",
       "      <td>7.0</td>\n",
       "      <td>1.0</td>\n",
       "      <td>1.0</td>\n",
       "      <td>1.0</td>\n",
       "      <td>-0.063594</td>\n",
       "      <td>76.0</td>\n",
       "      <td>-0.732311</td>\n",
       "      <td>-0.770269</td>\n",
       "      <td>NaN</td>\n",
       "      <td>-0.298857</td>\n",
       "    </tr>\n",
       "  </tbody>\n",
       "</table>\n",
       "</div>"
      ],
      "text/plain": [
       "       Agency  Agency Type  Distribution Channel  Product Name  Duration  \\\n",
       "33312     7.0          1.0                   1.0          10.0  0.193861   \n",
       "50154     7.0          1.0                   1.0          10.0       NaN   \n",
       "26729     7.0          1.0                   1.0          10.0 -0.607112   \n",
       "37842     7.0          1.0                   1.0           1.0 -0.378262   \n",
       "23588     7.0          1.0                   1.0           1.0 -0.063594   \n",
       "\n",
       "       Destination  Net Sales  Commission (in value)  Gender       Age  \n",
       "33312         24.0  -2.325353               1.103670     NaN  1.565044  \n",
       "50154        113.0        NaN                    NaN     NaN       NaN  \n",
       "26729         76.0  -0.177956               1.013577     NaN -0.214134  \n",
       "37842        124.0  -0.347180              -0.770269     NaN -0.298857  \n",
       "23588         76.0  -0.732311              -0.770269     NaN -0.298857  "
      ]
     },
     "execution_count": 12,
     "metadata": {},
     "output_type": "execute_result"
    }
   ],
   "source": [
    "from sklearn.preprocessing import StandardScaler\n",
    "\n",
    "scaler = StandardScaler()\n",
    "\n",
    "numeric = ['Duration', 'Net Sales', 'Commission (in value)', 'Age']\n",
    "\n",
    "features_train[numeric] = (pd.DataFrame(\n",
    "    scaler\n",
    "    .fit_transform(features_train[numeric]),\n",
    "    columns = numeric)\n",
    "              )\n",
    "features_train.head(5)"
   ]
  },
  {
   "cell_type": "code",
   "execution_count": 61,
   "id": "8e150b0d-e421-4a7e-aff2-5ceb5b9a8766",
   "metadata": {},
   "outputs": [
    {
     "name": "stdout",
     "output_type": "stream",
     "text": [
      "The best decision tree depth 5 The best score is: 0.9867350967232531\n"
     ]
    }
   ],
   "source": [
    "from sklearn.tree import DecisionTreeClassifier\n",
    "\n",
    "best_result_decision_tree = 0\n",
    "best_model_decision_tree = None\n",
    "best_depth_decision_tree = None\n",
    "best_prediction_dt = None\n",
    "\n",
    "for depth in range(1, 11):\n",
    "    model = DecisionTreeClassifier(random_state=333, max_depth=depth)\n",
    "    model.fit(features_train, target_train)\n",
    "    predictions_dt = model.predict(features_valid)\n",
    "    result = model.score(features_valid, target_valid)\n",
    "    if result > best_result_decision_tree:\n",
    "        best_model_decision_tree = model\n",
    "        best_result_decision_tree = result\n",
    "        best_depth_decision_tree = depth\n",
    "        best_prediction_dt = predictions_dt\n",
    "print('The best decision tree depth', best_depth_decision_tree,\n",
    "      'The best score is:', best_result_decision_tree)"
   ]
  },
  {
   "cell_type": "markdown",
   "id": "352db198-d7cc-47e1-b545-f42d0cbfa7f6",
   "metadata": {},
   "source": [
    "## 3. Проверка адекватности модели"
   ]
  },
  {
   "cell_type": "markdown",
   "id": "401a2083-49be-4513-bc84-28b6556c5b2d",
   "metadata": {},
   "source": [
    "Чтобы оценить адекватность модели, проверим, как часто в целевом признаке встречается класс `«1»` или `«0»`. Количество уникальных значений подсчитывается методом `value_counts()`. Он группирует строго одинаковые величины."
   ]
  },
  {
   "cell_type": "code",
   "execution_count": 14,
   "id": "d9473fa8-eb84-4d13-a0d9-bcf76da7fc02",
   "metadata": {},
   "outputs": [
    {
     "name": "stdout",
     "output_type": "stream",
     "text": [
      "Claim\n",
      "0    0.985136\n",
      "1    0.014864\n",
      "Name: proportion, dtype: float64\n"
     ]
    },
    {
     "data": {
      "text/plain": [
       "<Axes: xlabel='Claim'>"
      ]
     },
     "execution_count": 14,
     "metadata": {},
     "output_type": "execute_result"
    },
    {
     "data": {
      "image/png": "[encoded data removed]",
      "text/plain": [
       "<Figure size 640x480 with 1 Axes>"
      ]
     },
     "metadata": {},
     "output_type": "display_data"
    }
   ],
   "source": [
    "class_frequency_original = df['Claim'].value_counts(normalize=True)\n",
    "print(class_frequency_original)\n",
    "class_frequency_original.plot(kind='bar') "
   ]
  },
  {
   "cell_type": "code",
   "execution_count": 15,
   "id": "dc94b160-f020-4c89-b80b-07543385662d",
   "metadata": {},
   "outputs": [
    {
     "name": "stdout",
     "output_type": "stream",
     "text": [
      "0.0    0.941098\n",
      "1.0    0.058902\n",
      "Name: proportion, dtype: float64\n"
     ]
    },
    {
     "data": {
      "text/plain": [
       "<Axes: >"
      ]
     },
     "execution_count": 15,
     "metadata": {},
     "output_type": "execute_result"
    },
    {
     "data": {
      "image/png": "[encoded data removed]",
      "text/plain": [
       "<Figure size 640x480 with 1 Axes>"
      ]
     },
     "metadata": {},
     "output_type": "display_data"
    }
   ],
   "source": [
    "from sklearn.tree import DecisionTreeClassifier\n",
    "from sklearn.metrics import accuracy_score\n",
    "from sklearn.model_selection import train_test_split\n",
    "\n",
    "predicted_valid = pd.Series(model.predict(features_valid))\n",
    "\n",
    "class_frequency_model = predicted_valid.value_counts(normalize=True)\n",
    "print(class_frequency_model)\n",
    "class_frequency_model.plot(kind='bar') "
   ]
  },
  {
   "cell_type": "markdown",
   "id": "dc85940e-0a77-4ab4-8152-76b805674af7",
   "metadata": {},
   "source": [
    "Создайте константную модель: любому объекту она прогнозирует класс `«0»`. Сохраните её предсказания в переменной `target_pred_constant`.\n",
    "Напечатайте на экране значение `accuracy`."
   ]
  },
  {
   "cell_type": "code",
   "execution_count": 24,
   "id": "dfe4d240-8bc5-4a6f-9256-73c761ce7fc6",
   "metadata": {},
   "outputs": [
    {
     "name": "stdout",
     "output_type": "stream",
     "text": [
      "0.9866561389656534\n",
      "Accuracy difference between the best decision tree result and Series full of [0] is 7.895775759969581e-05\n"
     ]
    }
   ],
   "source": [
    "target_pred_constant = pd.Series([0]*len(target_valid))\n",
    "print(accuracy_score(target_valid, target_pred_constant))\n",
    "print(f'Accuracy difference between the best decision tree result and Series full of [0] is {best_result_decision_tree-accuracy_score(target_valid, target_pred_constant)}')"
   ]
  },
  {
   "cell_type": "markdown",
   "id": "fbc252c6-d12a-4eb1-8198-539805764e6d",
   "metadata": {},
   "source": [
    "Модель не проходит проверку на адекватность, так как `accuracy_score` у модели эквивалентна константному значению"
   ]
  },
  {
   "cell_type": "markdown",
   "id": "d210862c-0a29-49cc-a801-63de5fe56ebf",
   "metadata": {},
   "source": [
    "### 4. Confusion matrix"
   ]
  },
  {
   "cell_type": "markdown",
   "id": "54ed7a36-6773-4a68-b081-274266e4d130",
   "metadata": {},
   "source": [
    "Вам нужно составить условия на последовательности: объединить их логическим оператором и найти сумму значений. Как вы знаете, оператор and в Pandas записывается символом &:\n",
    "\n",
    "Справиться с дисбалансом и более точно классифицировать ответы помогут новые метрики.\n",
    "Что значит истинно положительный ответ (TP)? Модель пометила объект единицей, и его настоящее значение тоже — 1.\n",
    "\n",
    "В нашей задаче истинно положительный ответ — это количество застрахованных, которые:\n",
    "* по прогнозу модели обратились за компенсацией;\n",
    "* фактически запросили страховую выплату."
   ]
  },
  {
   "cell_type": "code",
   "execution_count": 39,
   "id": "36733012-3bd3-4011-ba29-ac0874e786a4",
   "metadata": {},
   "outputs": [
    {
     "name": "stdout",
     "output_type": "stream",
     "text": [
      "5\n",
      "3\n",
      "4\n",
      "2\n"
     ]
    }
   ],
   "source": [
    "import pandas as pd\n",
    "target = pd.Series([1, 0, 0, 1, 1, 0, 1, 0, 1, 1, 0, 0, 0, 1])\n",
    "predictions = pd.Series([1, 1, 0, 0, 1, 1, 1, 0, 0, 1, 0, 1, 0, 1])\n",
    "\n",
    "#True positive - Model predicted 1 and it's 1.\n",
    "tp = ((target==1) & (predictions==1)).sum()\n",
    "print(tp.sum())\n",
    "\n",
    "#False positive - Model predicted 1 but it's 0.\n",
    "fp = ((target==0) & (predictions==1)).sum()\n",
    "print(fp.sum())\n",
    "\n",
    "#True negative - Model predicted 0 and it's 0.\n",
    "tn = ((target==0) & (predictions==0)).sum()\n",
    "print(tn.sum())\n",
    "\n",
    "#False negative - Model predicted 0 but it's 1.\n",
    "fn = ((target==1) & (predictions==0)).sum()\n",
    "print(fn.sum())"
   ]
  },
  {
   "cell_type": "markdown",
   "id": "05d713b4-dc0a-4bf2-b613-aabb8fb07731",
   "metadata": {},
   "source": [
    "Compute confusion matrix to evaluate the accuracy of a classification.\n",
    "\n",
    "`sklearn.metrics.confusion_matrix(y_true, y_pred, *, labels=None, sample_weight=None, normalize=None`\n",
    "\n",
    "\\begin{array}{c|c|c}\n",
    "\\text{Actual/Predicted} & \\text{Positive (1)} & \\text{Negative (0)} \\\\\n",
    "\\hline\n",
    "\\text{Positive (1)} & \\text{TN (True Negative)} & \\text{FP (False Positive)} \\\\\n",
    "\\text{Negative (0)} & \\text{FN (False Negative)} & \\text{TP (True Positive)} \\\\\n",
    "\\end{array}"
   ]
  },
  {
   "cell_type": "code",
   "execution_count": 53,
   "id": "1ef93e74-d5ef-46ce-b1f3-3f8144118156",
   "metadata": {},
   "outputs": [
    {
     "data": {
      "text/html": [
       "<div>\n",
       "<style scoped>\n",
       "    .dataframe tbody tr th:only-of-type {\n",
       "        vertical-align: middle;\n",
       "    }\n",
       "\n",
       "    .dataframe tbody tr th {\n",
       "        vertical-align: top;\n",
       "    }\n",
       "\n",
       "    .dataframe thead th {\n",
       "        text-align: right;\n",
       "    }\n",
       "</style>\n",
       "<table border=\"1\" class=\"dataframe\">\n",
       "  <thead>\n",
       "    <tr style=\"text-align: right;\">\n",
       "      <th></th>\n",
       "      <th>0</th>\n",
       "      <th>1</th>\n",
       "    </tr>\n",
       "  </thead>\n",
       "  <tbody>\n",
       "    <tr>\n",
       "      <th>0</th>\n",
       "      <td>4</td>\n",
       "      <td>3</td>\n",
       "    </tr>\n",
       "    <tr>\n",
       "      <th>1</th>\n",
       "      <td>2</td>\n",
       "      <td>5</td>\n",
       "    </tr>\n",
       "  </tbody>\n",
       "</table>\n",
       "</div>"
      ],
      "text/plain": [
       "   0  1\n",
       "0  4  3\n",
       "1  2  5"
      ]
     },
     "execution_count": 53,
     "metadata": {},
     "output_type": "execute_result"
    }
   ],
   "source": [
    "from sklearn.metrics import confusion_matrix \n",
    "pd.DataFrame(confusion_matrix(target, predictions)) "
   ]
  },
  {
   "cell_type": "markdown",
   "id": "ece3eda3-c9ec-4875-ae55-3f15ca95ab5d",
   "metadata": {},
   "source": [
    "Let's get back to the decision tree model and evaluate `confusion_matrix` on it"
   ]
  },
  {
   "cell_type": "code",
   "execution_count": 62,
   "id": "8449013e-20b9-4cac-b167-92df7104cbe3",
   "metadata": {},
   "outputs": [
    {
     "data": {
      "text/html": [
       "<div>\n",
       "<style scoped>\n",
       "    .dataframe tbody tr th:only-of-type {\n",
       "        vertical-align: middle;\n",
       "    }\n",
       "\n",
       "    .dataframe tbody tr th {\n",
       "        vertical-align: top;\n",
       "    }\n",
       "\n",
       "    .dataframe thead th {\n",
       "        text-align: right;\n",
       "    }\n",
       "</style>\n",
       "<table border=\"1\" class=\"dataframe\">\n",
       "  <thead>\n",
       "    <tr style=\"text-align: right;\">\n",
       "      <th></th>\n",
       "      <th>0</th>\n",
       "      <th>1</th>\n",
       "    </tr>\n",
       "  </thead>\n",
       "  <tbody>\n",
       "    <tr>\n",
       "      <th>0</th>\n",
       "      <td>12496</td>\n",
       "      <td>0</td>\n",
       "    </tr>\n",
       "    <tr>\n",
       "      <th>1</th>\n",
       "      <td>168</td>\n",
       "      <td>1</td>\n",
       "    </tr>\n",
       "  </tbody>\n",
       "</table>\n",
       "</div>"
      ],
      "text/plain": [
       "       0  1\n",
       "0  12496  0\n",
       "1    168  1"
      ]
     },
     "execution_count": 62,
     "metadata": {},
     "output_type": "execute_result"
    }
   ],
   "source": [
    "pd.DataFrame(confusion_matrix(target_valid,best_prediction_dt)) "
   ]
  },
  {
   "attachments": {},
   "cell_type": "markdown",
   "id": "ee79a8db-a433-4846-8dc7-5004ca65460b",
   "metadata": {},
   "source": [
    "### 5. Recall\n",
    "\n",
    "Полнота выявляет, какую долю положительных среди всех ответов выделила модель. Обычно они на вес золота, и важно понимать, как хорошо модель их находит.\n",
    "$$\n",
    "Recall = \\frac{TP }{TP + FN}\n",
    "$$\n",
    "\n",
    "`sklearn.metrics.recall_score(y_true, y_pred, *, labels=None, pos_label=1, average='binary', sample_weight=None, zero_division='warn')`\n",
    "\n",
    "Parameters:\n",
    "\n",
    "* `labels`: array-like, default=`None`. The set of labels to include when average != `'binary'`, and their order if average is `None`.\n",
    "\n",
    "* `pos_labelint`, float, bool or str, default=1. The class to report if average='binary' and the data is binary, otherwise this parameter is ignored.\n",
    "* `average{‘micro’, ‘macro’, ‘samples’, ‘weighted’, ‘binary’}` or `None`, default=`binary`\n",
    "\n",
    "Полнота должна стремиться к `1`"
   ]
  },
  {
   "cell_type": "code",
   "execution_count": 76,
   "id": "9dad907d-f060-42ee-b3c7-c96582521b07",
   "metadata": {},
   "outputs": [
    {
     "name": "stdout",
     "output_type": "stream",
     "text": [
      "0.005917159763313609\n"
     ]
    }
   ],
   "source": [
    "from sklearn.metrics import recall_score\n",
    "recall_score = recall_score(target_valid, best_prediction_dt)\n",
    "print(recall_score)"
   ]
  },
  {
   "cell_type": "markdown",
   "id": "ce7bfd01-78c2-4035-bc59-2cec4d87a276",
   "metadata": {},
   "source": [
    "### 6. Precision\n",
    "Точность определяет, как много отрицательных ответов нашла модель, пока искала положительные. Чем больше отрицательных, тем ниже точность.\n",
    "\n",
    "$$\n",
    "Precision = \\frac{TP }{TP + FP}\n",
    "$$\n",
    "\n",
    "`precision_score(y_true, y_pred, *, labels=None, pos_label=1, average='binary', sample_weight=None, zero_division='warn')`"
   ]
  },
  {
   "cell_type": "code",
   "execution_count": 77,
   "id": "96163dc2-0bc3-45da-8397-b70fed7b0aee",
   "metadata": {},
   "outputs": [
    {
     "name": "stdout",
     "output_type": "stream",
     "text": [
      "1.0\n"
     ]
    }
   ],
   "source": [
    "from sklearn.metrics import precision_score\n",
    "precision_score = precision_score(target_valid, best_prediction_dt)\n",
    "print(precision_score)"
   ]
  },
  {
   "cell_type": "markdown",
   "id": "1e485994-2516-4d9c-a1c1-f7223d597a88",
   "metadata": {},
   "source": [
    "### 7. F1-мера\n",
    "По отдельности полнота и точность не слишком информативны. Нужно одновременно повышать показатели обеих. Или обратиться к новой метрике, которая их объединит.\n",
    "\n",
    "Полнота и точность оценивают качество прогноза положительного класса с разных позиций. `Recall` описывает, как хорошо модель разобралась в особенностях этого класса и распознала его. `Precision` выявляет, не переусердствует ли модель, присваивая положительные метки.\n",
    "\n",
    "Важны обе метрики. Контролировать их параллельно помогают агрегирующие метрики, одна из которых — `F1-мера` (англ. `F1-score`). Это среднее гармоническое полноты и точности. Единица в `F1` означает, что соотношение полноты и точности равно 1:1.\n",
    "\n",
    "$$\n",
    "F1 = \\frac{2 * Precision * Recall}{Precision + Recall}\n",
    "$$\n",
    "\n",
    "`sklearn.metrics.f1_score(y_true, y_pred, *, labels=None, pos_label=1, average='binary', sample_weight=None, zero_division='warn')`"
   ]
  },
  {
   "cell_type": "code",
   "execution_count": 78,
   "id": "39965d01-f564-43d6-842f-cc6c6fb0f975",
   "metadata": {},
   "outputs": [
    {
     "name": "stderr",
     "output_type": "stream",
     "text": [
      "C:\\Users\\stazher3\\AppData\\Local\\Temp\\ipykernel_19164\\2675527397.py:10: RuntimeWarning: invalid value encountered in divide\n",
      "  F1 = 2 * (P * R) / (P + R)\n"
     ]
    },
    {
     "data": {
      "image/png": "[encoded data removed]",
      "text/plain": [
       "<Figure size 800x600 with 2 Axes>"
      ]
     },
     "metadata": {},
     "output_type": "display_data"
    }
   ],
   "source": [
    "import numpy as np\n",
    "import matplotlib.pyplot as plt\n",
    "\n",
    "# Создаем сетку значений для точности и полноты\n",
    "precision = np.linspace(0, 1, 100)\n",
    "recall = np.linspace(0, 1, 100)\n",
    "P, R = np.meshgrid(precision, recall)\n",
    "\n",
    "# Вычисляем F1-меру для каждой пары (точность, полнота)\n",
    "F1 = 2 * (P * R) / (P + R)\n",
    "F1[np.isnan(F1)] = 0  # Устанавливаем F1 = 0, когда P + R = 0\n",
    "\n",
    "# Создаем график\n",
    "plt.figure(figsize=(8, 6))\n",
    "contour = plt.contourf(P, R, F1, levels=20, cmap='YlGnBu_r')  # Используем цветовую схему от синего к жёлтому\n",
    "\n",
    "# Добавляем цветную шкалу\n",
    "cbar = plt.colorbar(contour)\n",
    "cbar.set_label('F1-measure')\n",
    "\n",
    "# Настраиваем оси\n",
    "plt.xlabel('Precision')\n",
    "plt.ylabel('Recall')\n",
    "plt.title('F1-measure as a function of Precision and Recall')\n",
    "\n",
    "# Отображаем график\n",
    "plt.show()"
   ]
  },
  {
   "cell_type": "code",
   "execution_count": 79,
   "id": "9945749c-010c-4ca8-baeb-07234ff77d85",
   "metadata": {},
   "outputs": [
    {
     "name": "stdout",
     "output_type": "stream",
     "text": [
      "0.011764705882352941\n"
     ]
    }
   ],
   "source": [
    "from sklearn.metrics import f1_score\n",
    "\n",
    "f1_score = f1_score(target_valid, best_prediction_dt)\n",
    "print(f1_score)"
   ]
  },
  {
   "cell_type": "markdown",
   "id": "215e7f9a-b191-4534-862d-1b6b9a0dcc3e",
   "metadata": {},
   "source": [
    "Precision is 1.0 and recall is close to 0. F-1 is summarizing the total result"
   ]
  },
  {
   "cell_type": "code",
   "execution_count": null,
   "id": "d14d94e9-4a42-468c-bc5c-574cd1f3489a",
   "metadata": {},
   "outputs": [],
   "source": []
  }
 ],
 "metadata": {
  "kernelspec": {
   "display_name": "Python 3 (ipykernel)",
   "language": "python",
   "name": "python3"
  },
  "language_info": {
   "codemirror_mode": {
    "name": "ipython",
    "version": 3
   },
   "file_extension": ".py",
   "mimetype": "text/x-python",
   "name": "python",
   "nbconvert_exporter": "python",
   "pygments_lexer": "ipython3",
   "version": "3.12.3"
  }
 },
 "nbformat": 4,
 "nbformat_minor": 5
}
