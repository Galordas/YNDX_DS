{
 "cells": [
  {
   "cell_type": "markdown",
   "id": "ff84b8f0-2f2d-4303-954a-2483a70ee659",
   "metadata": {},
   "source": "# 2. Improving quality of classification models"
  },
  {
   "cell_type": "markdown",
   "id": "9648ad7f-74c2-450d-9171-d89b727ffaa4",
   "metadata": {},
   "source": [
    "### 2.1. Взвешивание классов\n",
    "Придадим объектам редкого класса больший вес.\n",
    "\n",
    "Алгоритмы машинного обучения считают все объекты обучающей выборки равнозначными по умолчанию. Если важно указать, что какие-то объекты важнее, их классу присваивается вес (англ. class_weight, «вес класса»).\n",
    "\n",
    "В алгоритме логистической регрессии в библиотеке `sklearn` есть аргумент `class_weight`. По умолчанию он равен `None`, т. е. классы равнозначны:\n",
    "\n",
    "Если указать `class_weight='balanced'` (англ. «сбалансированный»), алгоритм посчитает, во сколько раз класс `«0»` встречается чаще класса `«1»` Обозначим это число `N` (неизвестное количество раз). Новые веса классов выглядят так:\n",
    "\n",
    "`вес класса «0» = 1.0`\n",
    "`вес класса «1» = N`\n",
    "\n",
    "Бóльший вес будет у редкого класса.\n",
    "Аргумент `class_weight` также есть у решающего дерева и случайного леса."
   ]
  },
  {
   "cell_type": "code",
   "id": "0d09add2-9ced-41fe-8212-c64555fa2fbb",
   "metadata": {
    "ExecuteTime": {
     "end_time": "2025-03-29T04:27:19.562713Z",
     "start_time": "2025-03-29T04:27:18.373062Z"
    }
   },
   "source": [
    "import pandas as pd\n",
    "from numpy.random.mtrand import random\n",
    "from sklearn.metrics import f1_score\n",
    "from sklearn.model_selection import train_test_split\n",
    "from sklearn.linear_model import LogisticRegression\n",
    "\n",
    "\n",
    "data = pd.read_csv(r'E:\\COURSES\\Кодинг\\[Yandex praxis]. DS specialist + (2022)\\6\\Часть 6\\04 Несбалансированная классификация\\travel_insurance_preprocessed.csv')\n",
    "target = data['Claim']\n",
    "features = data.drop('Claim', axis=1)\n",
    "features_train, features_valid, target_train, target_valid = train_test_split(\n",
    "    features, target, test_size=0.25, random_state=12345)\n",
    "\n",
    "model = LogisticRegression(random_state=12345, solver='liblinear', class_weight='balanced')\n",
    "model.fit(features_train, target_train)\n",
    "predicted_valid = model.predict(features_valid)\n",
    "\n",
    "print(\"F1:\", f1_score(target_valid, predicted_valid))"
   ],
   "outputs": [
    {
     "name": "stdout",
     "output_type": "stream",
     "text": [
      "F1: 0.08698830409356725\n"
     ]
    }
   ],
   "execution_count": 1
  },
  {
   "cell_type": "markdown",
   "id": "a0a81a01-be7b-46d2-9298-f82ec4241822",
   "metadata": {},
   "source": [
    "### 2.2. Upsampling\n",
    "Когда обучают модели, такая техника называется `upsampling`. Это делается в несколько этапов:\n",
    "\n",
    "\n",
    "* 2.2.1. Разделить обучающую выборку на отрицательные и положительные объекты;\n",
    "* 2.2.2. Скопировать несколько раз положительные объекты;\n",
    "* 2.2.3. С учётом полученных данных создать новую обучающую выборку;\n",
    "* 2.2.4. Перемешать данные: идущие друг за другом одинаковые вопросы не помогут обучению.\n",
    "\n",
    "Пример:\n",
    "*  `features_zeros` = 0\n",
    "*  `features_ones` = 1\n",
    "*  `target_zeros` = 0\n",
    "*  `target_ones` = 1"
   ]
  },
  {
   "cell_type": "code",
   "id": "8e6fc72f-d1dd-44fd-a947-44d0741cef73",
   "metadata": {
    "ExecuteTime": {
     "end_time": "2025-03-29T04:27:19.644316Z",
     "start_time": "2025-03-29T04:27:19.569671Z"
    }
   },
   "source": [
    "#2.2.2 - 2.2.4\n",
    "from sklearn.utils import shuffle\n",
    "def upsample(features, target, repeat):\n",
    "    # skimming \n",
    "    features_zeros = features[target == 0]\n",
    "    features_ones = features[target == 1]\n",
    "    target_zeros = target[target == 0]\n",
    "    target_ones = target[target == 1]\n",
    "    #upsample\n",
    "    features_upsampled = pd.concat([features_zeros] + [features_ones] * repeat)\n",
    "    target_upsampled = pd.concat([target_zeros] + [target_ones] * repeat)\n",
    "    #shuffle\n",
    "    features_upsampled = shuffle(features_upsampled, random_state = 12345)\n",
    "    target_upsampled = shuffle(target_upsampled, random_state = 12345)\n",
    "    \n",
    "    return features_upsampled, target_upsampled\n",
    "\n",
    "features_upsampled, target_upsampled = upsample(features_train, target_train, 10)\n",
    "print(features_upsampled.shape)\n",
    "print(target_upsampled.shape)"
   ],
   "outputs": [
    {
     "name": "stdout",
     "output_type": "stream",
     "text": [
      "(43251, 196)\n",
      "(43251,)\n"
     ]
    }
   ],
   "execution_count": 2
  },
  {
   "cell_type": "markdown",
   "id": "dfbc8e42-3c8a-4fb0-b3ed-edd0e34f46a9",
   "metadata": {},
   "source": [
    "Let's try to find new F1 for the upsampled model"
   ]
  },
  {
   "cell_type": "code",
   "id": "63690d0b-14c1-4012-9e04-f9db41a079ef",
   "metadata": {
    "ExecuteTime": {
     "end_time": "2025-03-29T04:27:20.039872Z",
     "start_time": "2025-03-29T04:27:19.809483Z"
    }
   },
   "source": [
    "from sklearn.metrics import recall_score, precision_score, f1_score\n",
    "\n",
    "features_upsampled_train, features_upsampled_valid, target_upsampled_train, target_upsampled_valid = train_test_split(\n",
    "    features_upsampled, target_upsampled, test_size=0.25, random_state=12345)\n",
    "\n",
    "model = LogisticRegression(random_state=12345, solver='liblinear', class_weight='balanced')\n",
    "model.fit(features_upsampled_train, target_upsampled_train)\n",
    "predicted_upsampled_valid = model.predict(features_upsampled_valid)\n",
    "\n",
    "print(\"F1:\", f1_score(target_upsampled_valid, predicted_upsampled_valid))\n",
    "\n",
    "precision_score = precision_score(target_upsampled_valid, predicted_upsampled_valid)\n",
    "print(precision_score)\n",
    "\n",
    "recall_score = recall_score(target_upsampled_valid, predicted_upsampled_valid)\n",
    "print(recall_score)"
   ],
   "outputs": [
    {
     "name": "stdout",
     "output_type": "stream",
     "text": [
      "F1: 0.5145696860176192\n",
      "0.3838894506235254\n",
      "0.7801369863013699\n"
     ]
    }
   ],
   "execution_count": 3
  },
  {
   "metadata": {},
   "cell_type": "markdown",
   "source": "### 2.3. Downsampling\n",
   "id": "613af4fbf582cb22"
  },
  {
   "metadata": {
    "ExecuteTime": {
     "end_time": "2025-03-29T04:27:20.112847Z",
     "start_time": "2025-03-29T04:27:20.057983Z"
    }
   },
   "cell_type": "code",
   "source": [
    "from sklearn.metrics import recall_score, precision_score, f1_score\n",
    "from sklearn.utils import shuffle\n",
    "from sklearn.model_selection import train_test_split\n",
    "from sklearn.linear_model import LogisticRegression\n",
    "import pandas as pd\n",
    "\n",
    "def downsample(features, target, fraction):\n",
    "    features_zeros = features[target == 0]\n",
    "    features_ones = features[target == 1]\n",
    "    target_zeros = target[target == 0]\n",
    "    target_ones = target[target == 1]\n",
    "    features_downsampled = pd.concat(\n",
    "        [features_zeros.sample(frac=fraction, random_state =12345)]+[features_ones]) # .sample is used to randomly sampled trow from this DF\n",
    "    target_downsampled = pd.concat(\n",
    "        [target_zeros.sample(frac=fraction, random_state =12345)]+[target_ones])\n",
    "    #shuffle\n",
    "    features_downsampled = shuffle(features_downsampled, random_state = 12345)\n",
    "    target_downsampled = shuffle(target_downsampled, random_state = 12345)\n",
    "    return features_downsampled, target_downsampled\n",
    "\n",
    "features_downsampled, target_downsampled = downsample(features_train, target_train, 0.1)\n",
    "\n",
    "features_downsampled_train, features_downsampled_valid, target_downsampled_train, target_downsampled_valid = train_test_split(\n",
    "    features_downsampled, target_downsampled, test_size=0.25, random_state=12345)\n",
    "\n",
    "\n",
    "model = LogisticRegression(random_state=12345, solver='liblinear', class_weight='balanced')\n",
    "model.fit(features_downsampled_train, target_downsampled_train)\n",
    "predicted_downsampled_valid = model.predict(features_downsampled_valid)\n",
    "\n",
    "print(\"F1:\", f1_score(target_downsampled_valid, predicted_downsampled_valid))\n",
    "\n",
    "precision_score = precision_score(target_downsampled_valid, predicted_downsampled_valid)\n",
    "print(precision_score)\n",
    "\n",
    "recall_score = recall_score(target_downsampled_valid, predicted_downsampled_valid)\n",
    "print(recall_score)"
   ],
   "id": "e9617319d6494a8",
   "outputs": [
    {
     "name": "stdout",
     "output_type": "stream",
     "text": [
      "F1: 0.5080091533180778\n",
      "0.3908450704225352\n",
      "0.7254901960784313\n"
     ]
    }
   ],
   "execution_count": 4
  },
  {
   "metadata": {},
   "cell_type": "markdown",
   "source": [
    "### 2.4. Predict probabilities\n",
    "\n",
    "Чтобы определить ответ, логистическая регрессия вычисляет, к какому классу близок объект, затем сравнивает результат с нулём.\n",
    "Для удобства близость к классам переведём в вероятность классов: модель пытается оценить, насколько вероятен тот или иной класс.\n",
    "\n",
    "У нас всего два класса (ноль и единица). Нам достаточно вероятности класса «1». Число будет от нуля до единицы: если больше 0.5 — объект положительный, меньше — отрицательный.\n",
    "\n",
    "\n",
    "Граница, где заканчивается отрицательный класс и начинается положительный, называется `порогом` (англ. `threshold`). По умолчанию он равен 0.5, но что если его поменять?\n",
    "\n",
    "В библиотеке `sklearn` вероятность классов вычисляет функция `.predict_proba()` (от англ. predict probabilities, «предсказать вероятности»). На вход она получает признаки объектов, а возвращает вероятности:\n",
    "\n",
    "Строки соответствуют объектам. В первом столбце указана вероятность отрицательного класса, а во втором — положительного (сумма вероятностей равна единице). Выведем их на экран.\n",
    "\n"
   ],
   "id": "2759cae97a7e7599"
  },
  {
   "metadata": {
    "ExecuteTime": {
     "end_time": "2025-03-29T04:27:20.140275Z",
     "start_time": "2025-03-29T04:27:20.135040Z"
    }
   },
   "cell_type": "code",
   "source": [
    "probabilities_valid = model.predict_proba(features_downsampled_valid)\n",
    "probabilities_one_valid = probabilities_valid[:,1] # взять все строки и второй столбец - положительный, класс \"1\"; верояность числа 1.\n",
    "# Таким образом, probabilities_one_valid будет содержать вероятности того, что соответствующие образцы принадлежат к классу «1». Это можно интерпретировать как вероятность правильного предположения о принадлежности к классу «1» для каждого образца в вашем валидационном наборе данных."
   ],
   "id": "79e4664e3e26fe5",
   "outputs": [],
   "execution_count": 5
  },
  {
   "metadata": {
    "ExecuteTime": {
     "end_time": "2025-03-29T04:27:20.221926Z",
     "start_time": "2025-03-29T04:27:20.166579Z"
    }
   },
   "cell_type": "code",
   "source": [
    "from sklearn.metrics import recall_score, precision_score, f1_score\n",
    "import numpy as np\n",
    "for threshold in np.arange(0, 0.3, 0.02):\n",
    "    predicted_valid = ((model\n",
    "                        .predict_proba(\n",
    "        features_downsampled_valid)[:, 1]\n",
    "                        > threshold)\n",
    "                       .astype(int))\n",
    "    precision = precision_score(target_downsampled_valid, predicted_valid)\n",
    "    recall = recall_score(target_downsampled_valid, predicted_valid)\n",
    "    print(\"Порог = {:.2f} | Точность = {:.3f}, Полнота = {:.3f}\".format(\n",
    "        threshold, precision, recall))"
   ],
   "id": "6900d809360d129e",
   "outputs": [
    {
     "name": "stdout",
     "output_type": "stream",
     "text": [
      "Порог = 0.00 | Точность = 0.141, Полнота = 1.000\n",
      "Порог = 0.02 | Точность = 0.141, Полнота = 1.000\n",
      "Порог = 0.04 | Точность = 0.141, Полнота = 0.987\n",
      "Порог = 0.06 | Точность = 0.149, Полнота = 0.980\n",
      "Порог = 0.08 | Точность = 0.159, Полнота = 0.974\n",
      "Порог = 0.10 | Точность = 0.169, Полнота = 0.967\n",
      "Порог = 0.12 | Точность = 0.177, Полнота = 0.948\n",
      "Порог = 0.14 | Точность = 0.187, Полнота = 0.941\n",
      "Порог = 0.16 | Точность = 0.197, Полнота = 0.935\n",
      "Порог = 0.18 | Точность = 0.207, Полнота = 0.908\n",
      "Порог = 0.20 | Точность = 0.216, Полнота = 0.908\n",
      "Порог = 0.22 | Точность = 0.224, Полнота = 0.889\n",
      "Порог = 0.24 | Точность = 0.232, Полнота = 0.850\n",
      "Порог = 0.26 | Точность = 0.249, Полнота = 0.843\n",
      "Порог = 0.28 | Точность = 0.253, Полнота = 0.830\n"
     ]
    }
   ],
   "execution_count": 6
  },
  {
   "metadata": {},
   "cell_type": "markdown",
   "source": [
    "### 2.5. PR-кривая\n",
    "\n",
    "PR-кривой (от англ. Precision и Recall). Чем выше кривая, тем лучше модель"
   ],
   "id": "ac1b2a8b8a480f65"
  },
  {
   "metadata": {
    "ExecuteTime": {
     "end_time": "2025-03-29T04:27:20.365884Z",
     "start_time": "2025-03-29T04:27:20.247383Z"
    }
   },
   "cell_type": "code",
   "source": [
    "from sklearn.metrics import precision_recall_curve\n",
    "import matplotlib.pyplot as plt\n",
    "import seaborn as sns\n",
    "probabilities_valid = model.predict_proba(features_valid)\n",
    "precision, recall, thresholds = precision_recall_curve(target_valid, probabilities_valid[:, 1])\n",
    "\n",
    "plt.figure(figsize=(6, 6))\n",
    "plt.step(recall, precision, where='post')\n",
    "plt.xlabel('Recall')\n",
    "plt.ylabel('Precision')\n",
    "plt.ylim([0.0, 1.05])\n",
    "plt.xlim([0.0, 1.0])\n",
    "plt.title('Кривая Precision-Recall')\n",
    "plt.show()"
   ],
   "id": "a5368a1f3f9ac003",
   "outputs": [
    {
     "data": {
      "text/plain": [
       "<Figure size 600x600 with 1 Axes>"
      ],
      "image/png": "[encoded data removed]"
     },
     "metadata": {},
     "output_type": "display_data"
    }
   ],
   "execution_count": 7
  },
  {
   "metadata": {},
   "cell_type": "markdown",
   "source": [
    "### 2.6. TPR и FPR\n",
    "\n",
    "Когда положительных объектов нет, точность не вычислить. Выберем другие характеристики, в которых нет деления на ноль.\n",
    "\n",
    "Как измерить, насколько правильно классификатор находит объекты? Долей верно предсказанных объектов к общему числу объектов класса. Это отношение называется\n",
    "TPR (англ. `True Positive Rate`) или «полнота», а на английском используют термин recall. Формула выглядит так, где\n",
    "\n",
    "P=TP+FN\n",
    "\n",
    "$$\n",
    "TPR = \\frac{TP}{TP+FN}\n",
    "$$\n",
    "Доля ложных срабатываний к общему числу объектов за пределами класса (англ. `False Positive Rate`, FPR) вычисляется аналогично. Это отношение FP-ответов (англ. False Positives — отрицательные, классифицированные как положительные) к сумме отрицательных ответов:\n",
    "TN (англ. True Negatives — верно классифицированные отрицательные ответы). Ниже дана формула, где\n",
    "N=FP+TN:\n",
    "\n",
    "$$\n",
    "FPR = \\frac{FP}{FP+TN}\n",
    "$$"
   ],
   "id": "f988914d8dbcca11"
  },
  {
   "metadata": {},
   "cell_type": "markdown",
   "source": [
    "### 2.7. ROC-curve\n",
    "Мы стали свидетелями нового противостояния — `TPR` против `FPR`. Изобразим его на графике.\n",
    "По горизонтали нанесём долю ложноположительных ответов (`FPR`), а по вертикали — долю истинно положительных ответов (`TPR`). Переберём значения порога логистической регрессии и проведём кривую. Она называется ROC-кривая, или кривая ошибок (от англ. `receiver operating characteristic`, «характеристика работы приёмника»; термин пришёл из теории обработки сигналов).\n",
    "Для модели, которая всегда отвечает случайно, ROC-кривая выглядит как прямая, идущая из левого нижнего угла в верхний правый. Чем график выше, тем больше значение TPR и лучше качество модели.\n",
    "\n",
    "Чтобы выявить, как сильно наша модель отличается от случайной, посчитаем площадь под `ROC-кривой` — `AUC-ROC` (от англ. `Area Under Curve ROC`, «площадь под `ROC-кривой`»). Это новая метрика качества, которая изменяется от 0 до 1. `AUC-ROC` случайной модели равна 0.5.\n",
    "\n",
    "Построить `ROC-кривую` поможет функция `roc_curve() (англ. ROC-кривая)` из модуля `sklearn.metrics`:\n",
    "\n",
    "На вход она принимает значения целевого признака и вероятности положительного класса. Перебирает разные пороги и возвращает три списка: значения `FPR`, значения `TPR` и рассмотренные пороги.\n",
    "`fpr, tpr, thresholds = roc_curve(target, probabilities)`\n",
    "\n",
    "\n",
    "Постройте ROC-кривую для логистической регрессии и изобразите её на графике. Вам поможет инструкция в коде.\n",
    "Для удобства мы уже добавили в код график ROC-кривой случайной модели.\n"
   ],
   "id": "91216b6f42b9f59"
  },
  {
   "metadata": {
    "ExecuteTime": {
     "end_time": "2025-03-29T04:27:20.948153Z",
     "start_time": "2025-03-29T04:27:20.394747Z"
    }
   },
   "cell_type": "code",
   "source": [
    "import matplotlib.pyplot as plt\n",
    "from sklearn.model_selection import train_test_split\n",
    "from sklearn.linear_model import LogisticRegression\n",
    "from sklearn.metrics import roc_curve\n",
    "data = pd.read_csv(r'E:\\COURSES\\Кодинг\\[Yandex praxis]. DS specialist + (2022)\\6\\Часть 6\\04 Несбалансированная классификация\\travel_insurance_preprocessed.csv')\n",
    "target = data['Claim']\n",
    "features = data.drop('Claim', axis=1)\n",
    "features_train, features_valid, target_train, target_valid = train_test_split(\n",
    "features, target, test_size=0.25, random_state=12345)\n",
    "model = LogisticRegression(random_state=12345, solver='liblinear')\n",
    "model.fit(features_train, target_train)\n",
    "probabilities_valid = model.predict_proba(features_valid)\n",
    "probabilities_one_valid = probabilities_valid[:, 1]\n",
    "\n",
    "fpr, tpr, thresholds = roc_curve(target_valid, probabilities_one_valid)\n",
    "plt.figure()\n",
    "\n",
    "plt.figure()\n",
    "plt.plot(fpr, tpr)\n",
    "plt.xlim([0.0, 1.0])\n",
    "plt.ylim([0.0, 1.0])\n",
    "plt.xlabel('False Positive Rate')\n",
    "plt.ylabel('True Positive Rate')\n",
    "plt.title('ROC-кривая')\n",
    "plt.plot([0, 1], [0, 1], linestyle='--')\n",
    "plt.show()"
   ],
   "id": "9f2a93a90996d0c3",
   "outputs": [
    {
     "data": {
      "text/plain": [
       "<Figure size 640x480 with 0 Axes>"
      ]
     },
     "metadata": {},
     "output_type": "display_data"
    },
    {
     "data": {
      "text/plain": [
       "<Figure size 640x480 with 1 Axes>"
      ],
      "image/png": "[encoded data removed]"
     },
     "metadata": {},
     "output_type": "display_data"
    }
   ],
   "execution_count": 8
  },
  {
   "metadata": {
    "ExecuteTime": {
     "end_time": "2025-03-29T04:27:21.013881Z",
     "start_time": "2025-03-29T04:27:21.007434Z"
    }
   },
   "cell_type": "code",
   "source": [
    "from sklearn.metrics import roc_auc_score\n",
    "\n",
    "auc_roc = roc_auc_score(target_valid, probabilities_one_valid)\n",
    "print(auc_roc)"
   ],
   "id": "c004e90e40da0638",
   "outputs": [
    {
     "name": "stdout",
     "output_type": "stream",
     "text": [
      "0.8222588624809644\n"
     ]
    }
   ],
   "execution_count": 9
  },
  {
   "metadata": {
    "ExecuteTime": {
     "end_time": "2025-03-29T04:27:21.028119Z",
     "start_time": "2025-03-29T04:27:21.025822Z"
    }
   },
   "cell_type": "code",
   "source": "",
   "id": "87860a4ce0fe22a",
   "outputs": [],
   "execution_count": null
  },
  {
   "metadata": {
    "ExecuteTime": {
     "end_time": "2025-03-29T04:27:21.059089Z",
     "start_time": "2025-03-29T04:27:21.056844Z"
    }
   },
   "cell_type": "code",
   "source": "",
   "id": "a8529af4dce9d271",
   "outputs": [],
   "execution_count": null
  }
 ],
 "metadata": {
  "kernelspec": {
   "display_name": "Python 3 (ipykernel)",
   "language": "python",
   "name": "python3"
  },
  "language_info": {
   "codemirror_mode": {
    "name": "ipython",
    "version": 3
   },
   "file_extension": ".py",
   "mimetype": "text/x-python",
   "name": "python",
   "nbconvert_exporter": "python",
   "pygments_lexer": "ipython3",
   "version": "3.12.3"
  }
 },
 "nbformat": 4,
 "nbformat_minor": 5
}
