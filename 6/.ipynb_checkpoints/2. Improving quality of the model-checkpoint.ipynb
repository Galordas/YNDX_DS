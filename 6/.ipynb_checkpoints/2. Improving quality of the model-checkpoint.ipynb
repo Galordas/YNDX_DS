{
 "cells": [
  {
   "cell_type": "markdown",
   "id": "ff84b8f0-2f2d-4303-954a-2483a70ee659",
   "metadata": {},
   "source": [
    "# 2. Improving quality of the model"
   ]
  },
  {
   "cell_type": "markdown",
   "id": "9648ad7f-74c2-450d-9171-d89b727ffaa4",
   "metadata": {},
   "source": [
    "### 2.1. Взвешивание классов\n",
    "Придадим объектам редкого класса больший вес.\n",
    "\n",
    "Алгоритмы машинного обучения считают все объекты обучающей выборки равнозначными по умолчанию. Если важно указать, что какие-то объекты важнее, их классу присваивается вес (англ. class_weight, «вес класса»).\n",
    "\n",
    "В алгоритме логистической регрессии в библиотеке `sklearn` есть аргумент `class_weight`. По умолчанию он равен `None`, т. е. классы равнозначны:\n",
    "\n",
    "Если указать `class_weight='balanced'` (англ. «сбалансированный»), алгоритм посчитает, во сколько раз класс `«0»` встречается чаще класса `«1»` Обозначим это число `N` (неизвестное количество раз). Новые веса классов выглядят так:\n",
    "\n",
    "`вес класса «0» = 1.0`\n",
    "`вес класса «1» = N`\n",
    "\n",
    "Бóльший вес будет у редкого класса.\n",
    "Аргумент `class_weight` также есть у решающего дерева и случайного леса."
   ]
  },
  {
   "cell_type": "code",
   "execution_count": 1,
   "id": "0d09add2-9ced-41fe-8212-c64555fa2fbb",
   "metadata": {},
   "outputs": [
    {
     "name": "stdout",
     "output_type": "stream",
     "text": [
      "F1: 0.08698830409356725\n"
     ]
    }
   ],
   "source": [
    "import pandas as pd\n",
    "from sklearn.metrics import f1_score\n",
    "from sklearn.model_selection import train_test_split\n",
    "from sklearn.linear_model import LogisticRegression\n",
    "\n",
    "data = pd.read_csv(r'C:\\Users\\stazher3\\Downloads\\Yandex.Disk.Files\\6\\Часть 6\\04 Несбалансированная классификация\\travel_insurance_preprocessed.csv')\n",
    "target = data['Claim']\n",
    "features = data.drop('Claim', axis=1)\n",
    "features_train, features_valid, target_train, target_valid = train_test_split(\n",
    "    features, target, test_size=0.25, random_state=12345)\n",
    "\n",
    "model = LogisticRegression(random_state=12345, solver='liblinear', class_weight='balanced')\n",
    "model.fit(features_train, target_train)\n",
    "predicted_valid = model.predict(features_valid)\n",
    "\n",
    "print(\"F1:\", f1_score(target_valid, predicted_valid))"
   ]
  },
  {
   "cell_type": "markdown",
   "id": "a0a81a01-be7b-46d2-9298-f82ec4241822",
   "metadata": {},
   "source": [
    "### 2.2. Увеличение выборки\n",
    "\n",
    "Когда обучают модели, такая техника называется `upsampling`. Это делается в несколько этапов:\n",
    "\n",
    "\n",
    "* 2.2.1. Разделить обучающую выборку на отрицательные и положительные объекты;\n",
    "* 2.2.2. Скопировать несколько раз положительные объекты;\n",
    "* 2.2.3. С учётом полученных данных создать новую обучающую выборку;\n",
    "* 2.2.4. Перемешать данные: идущие друг за другом одинаковые вопросы не помогут обучению.\n",
    "\n",
    "Пример:\n",
    "*  `features_zeros` = 0\n",
    "*  `features_ones` = 1\n",
    "*  `target_zeros` = 0\n",
    "*  `target_ones` = 1"
   ]
  },
  {
   "cell_type": "code",
   "execution_count": 38,
   "id": "f1bce16a-5eba-4dc3-8d0d-fab84e5939d2",
   "metadata": {},
   "outputs": [
    {
     "name": "stdout",
     "output_type": "stream",
     "text": [
      "(37411, 196)\n",
      "(584, 196)\n",
      "(37411,)\n",
      "(584,)\n"
     ]
    }
   ],
   "source": [
    "#2.2.1\n",
    "features_zeros = features_train[target_train == 0]\n",
    "features_ones = features_train[target_train == 1]\n",
    "target_zeros = target_train[target_train == 0]\n",
    "target_ones = target_train[target_train == 1]\n",
    "\n",
    "print(features_zeros.shape)\n",
    "print(features_ones.shape)\n",
    "print(target_zeros.shape)\n",
    "print(target_ones.shape)"
   ]
  },
  {
   "cell_type": "code",
   "execution_count": 45,
   "id": "8e6fc72f-d1dd-44fd-a947-44d0741cef73",
   "metadata": {},
   "outputs": [
    {
     "name": "stdout",
     "output_type": "stream",
     "text": [
      "(43251, 196)\n",
      "(43251,)\n"
     ]
    }
   ],
   "source": [
    "#2.2.2 - 2.2.4\n",
    "from sklearn.utils import shuffle\n",
    "def upsample(features_train, target_train, repeat):\n",
    "    # skimming \n",
    "    features_zeros = features_train[target_train == 0]\n",
    "    features_ones = features_train[target_train == 1]\n",
    "    target_zeros = target_train[target_train == 0]\n",
    "    target_ones = target_train[target_train == 1]\n",
    "    #upsample\n",
    "    features_upsampled = pd.concat([features_zeros] + [features_ones] * repeat)\n",
    "    target_upsampled = pd.concat([target_zeros] + [target_ones] * repeat)\n",
    "    #shuffle\n",
    "    features_upsampled = shuffle(features_upsampled, random_state = 12345)\n",
    "    target_upsampled = shuffle(target_upsampled, random_state = 12345)\n",
    "    \n",
    "    return features_upsampled, target_upsampled\n",
    "\n",
    "features_upsampled, target_upsampled = upsample(features_train, target_train, 10)\n",
    "print(features_upsampled.shape)\n",
    "print(target_upsampled.shape)"
   ]
  },
  {
   "cell_type": "markdown",
   "id": "dfbc8e42-3c8a-4fb0-b3ed-edd0e34f46a9",
   "metadata": {},
   "source": [
    "Let's try to find new F1 for the upsampled model"
   ]
  },
  {
   "cell_type": "code",
   "execution_count": 50,
   "id": "63690d0b-14c1-4012-9e04-f9db41a079ef",
   "metadata": {},
   "outputs": [
    {
     "name": "stdout",
     "output_type": "stream",
     "text": [
      "F1: 0.5146859466787167\n",
      "0.38401888064733647\n",
      "0.7801369863013699\n"
     ]
    }
   ],
   "source": [
    "from sklearn.metrics import recall_score, precision_score, f1_score\n",
    "\n",
    "features_upsampled_train, features_upsampled_valid, target_upsampled_train, target_upsampled_valid = train_test_split(\n",
    "    features_upsampled, target_upsampled, test_size=0.25, random_state=12345)\n",
    "\n",
    "model = LogisticRegression(random_state=12345, solver='liblinear', class_weight='balanced')\n",
    "model.fit(features_upsampled_train, target_upsampled_train)\n",
    "predicted_upsampled_valid = model.predict(features_upsampled_valid)\n",
    "\n",
    "print(\"F1:\", f1_score(target_upsampled_valid, predicted_upsampled_valid))\n",
    "\n",
    "precision_score = precision_score(target_upsampled_valid, predicted_upsampled_valid)\n",
    "print(precision_score)\n",
    "\n",
    "recall_score = recall_score(target_upsampled_valid, predicted_upsampled_valid)\n",
    "print(recall_score)"
   ]
  },
  {
   "cell_type": "code",
   "execution_count": null,
   "id": "71addd32-3f40-4fca-8a49-d7ded2eaa4f5",
   "metadata": {},
   "outputs": [],
   "source": []
  }
 ],
 "metadata": {
  "kernelspec": {
   "display_name": "Python 3 (ipykernel)",
   "language": "python",
   "name": "python3"
  },
  "language_info": {
   "codemirror_mode": {
    "name": "ipython",
    "version": 3
   },
   "file_extension": ".py",
   "mimetype": "text/x-python",
   "name": "python",
   "nbconvert_exporter": "python",
   "pygments_lexer": "ipython3",
   "version": "3.12.3"
  }
 },
 "nbformat": 4,
 "nbformat_minor": 5
}
