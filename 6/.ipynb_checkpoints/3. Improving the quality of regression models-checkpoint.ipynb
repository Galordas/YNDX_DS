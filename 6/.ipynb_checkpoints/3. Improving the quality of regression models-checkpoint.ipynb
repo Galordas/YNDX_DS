{
 "cells": [
  {
   "cell_type": "code",
   "id": "initial_id",
   "metadata": {
    "collapsed": true,
    "ExecuteTime": {
     "end_time": "2025-03-29T12:15:22.875876Z",
     "start_time": "2025-03-29T12:15:22.832937Z"
    }
   },
   "source": [
    "import pandas as pd\n",
    "df = pd.read_csv(r'E:\\COURSES\\Кодинг\\[Yandex praxis]. DS specialist + (2022)\\6\\Часть 6\\05 Метрики регрессии\\flights.csv')"
   ],
   "outputs": [],
   "execution_count": 1
  },
  {
   "metadata": {
    "ExecuteTime": {
     "end_time": "2025-03-29T12:15:22.888736Z",
     "start_time": "2025-03-29T12:15:22.879857Z"
    }
   },
   "cell_type": "code",
   "source": "df.head()",
   "id": "96514a0b858c610c",
   "outputs": [
    {
     "data": {
      "text/plain": [
       "   Month  Day  Day Of Week Airline  Origin Airport Delay Rate  \\\n",
       "0      1    2            5      WN                   0.000000   \n",
       "1      1    4            7      AA                   0.000000   \n",
       "2      1    4            7      US                   0.000000   \n",
       "3      1    3            6      WN                   0.000000   \n",
       "4      1    5            1      EV                   0.633333   \n",
       "\n",
       "   Destination Airport Delay Rate  Scheduled Time  Distance  \\\n",
       "0                        0.000000             225      1390   \n",
       "1                        0.590909             172      1096   \n",
       "2                        0.000000              46       130   \n",
       "3                        0.000000             160       925   \n",
       "4                        0.000000              69       113   \n",
       "\n",
       "   Scheduled Departure Hour  Scheduled Departure Minute  Arrival Delay  \n",
       "0                         8                          55          -13.0  \n",
       "1                         8                          30          -12.0  \n",
       "2                         0                          30          189.0  \n",
       "3                         9                          25           -7.0  \n",
       "4                         5                          46           -4.0  "
      ],
      "text/html": [
       "<div>\n",
       "<style scoped>\n",
       "    .dataframe tbody tr th:only-of-type {\n",
       "        vertical-align: middle;\n",
       "    }\n",
       "\n",
       "    .dataframe tbody tr th {\n",
       "        vertical-align: top;\n",
       "    }\n",
       "\n",
       "    .dataframe thead th {\n",
       "        text-align: right;\n",
       "    }\n",
       "</style>\n",
       "<table border=\"1\" class=\"dataframe\">\n",
       "  <thead>\n",
       "    <tr style=\"text-align: right;\">\n",
       "      <th></th>\n",
       "      <th>Month</th>\n",
       "      <th>Day</th>\n",
       "      <th>Day Of Week</th>\n",
       "      <th>Airline</th>\n",
       "      <th>Origin Airport Delay Rate</th>\n",
       "      <th>Destination Airport Delay Rate</th>\n",
       "      <th>Scheduled Time</th>\n",
       "      <th>Distance</th>\n",
       "      <th>Scheduled Departure Hour</th>\n",
       "      <th>Scheduled Departure Minute</th>\n",
       "      <th>Arrival Delay</th>\n",
       "    </tr>\n",
       "  </thead>\n",
       "  <tbody>\n",
       "    <tr>\n",
       "      <th>0</th>\n",
       "      <td>1</td>\n",
       "      <td>2</td>\n",
       "      <td>5</td>\n",
       "      <td>WN</td>\n",
       "      <td>0.000000</td>\n",
       "      <td>0.000000</td>\n",
       "      <td>225</td>\n",
       "      <td>1390</td>\n",
       "      <td>8</td>\n",
       "      <td>55</td>\n",
       "      <td>-13.0</td>\n",
       "    </tr>\n",
       "    <tr>\n",
       "      <th>1</th>\n",
       "      <td>1</td>\n",
       "      <td>4</td>\n",
       "      <td>7</td>\n",
       "      <td>AA</td>\n",
       "      <td>0.000000</td>\n",
       "      <td>0.590909</td>\n",
       "      <td>172</td>\n",
       "      <td>1096</td>\n",
       "      <td>8</td>\n",
       "      <td>30</td>\n",
       "      <td>-12.0</td>\n",
       "    </tr>\n",
       "    <tr>\n",
       "      <th>2</th>\n",
       "      <td>1</td>\n",
       "      <td>4</td>\n",
       "      <td>7</td>\n",
       "      <td>US</td>\n",
       "      <td>0.000000</td>\n",
       "      <td>0.000000</td>\n",
       "      <td>46</td>\n",
       "      <td>130</td>\n",
       "      <td>0</td>\n",
       "      <td>30</td>\n",
       "      <td>189.0</td>\n",
       "    </tr>\n",
       "    <tr>\n",
       "      <th>3</th>\n",
       "      <td>1</td>\n",
       "      <td>3</td>\n",
       "      <td>6</td>\n",
       "      <td>WN</td>\n",
       "      <td>0.000000</td>\n",
       "      <td>0.000000</td>\n",
       "      <td>160</td>\n",
       "      <td>925</td>\n",
       "      <td>9</td>\n",
       "      <td>25</td>\n",
       "      <td>-7.0</td>\n",
       "    </tr>\n",
       "    <tr>\n",
       "      <th>4</th>\n",
       "      <td>1</td>\n",
       "      <td>5</td>\n",
       "      <td>1</td>\n",
       "      <td>EV</td>\n",
       "      <td>0.633333</td>\n",
       "      <td>0.000000</td>\n",
       "      <td>69</td>\n",
       "      <td>113</td>\n",
       "      <td>5</td>\n",
       "      <td>46</td>\n",
       "      <td>-4.0</td>\n",
       "    </tr>\n",
       "  </tbody>\n",
       "</table>\n",
       "</div>"
      ]
     },
     "execution_count": 2,
     "metadata": {},
     "output_type": "execute_result"
    }
   ],
   "execution_count": 2
  },
  {
   "metadata": {
    "ExecuteTime": {
     "end_time": "2025-03-29T12:15:23.044611Z",
     "start_time": "2025-03-29T12:15:23.036087Z"
    }
   },
   "cell_type": "code",
   "source": "df.info()",
   "id": "2574e1a4514b703e",
   "outputs": [
    {
     "name": "stdout",
     "output_type": "stream",
     "text": [
      "<class 'pandas.core.frame.DataFrame'>\n",
      "RangeIndex: 77909 entries, 0 to 77908\n",
      "Data columns (total 11 columns):\n",
      " #   Column                          Non-Null Count  Dtype  \n",
      "---  ------                          --------------  -----  \n",
      " 0   Month                           77909 non-null  int64  \n",
      " 1   Day                             77909 non-null  int64  \n",
      " 2   Day Of Week                     77909 non-null  int64  \n",
      " 3   Airline                         77909 non-null  object \n",
      " 4   Origin Airport Delay Rate       77909 non-null  float64\n",
      " 5   Destination Airport Delay Rate  77909 non-null  float64\n",
      " 6   Scheduled Time                  77909 non-null  int64  \n",
      " 7   Distance                        77909 non-null  int64  \n",
      " 8   Scheduled Departure Hour        77909 non-null  int64  \n",
      " 9   Scheduled Departure Minute      77909 non-null  int64  \n",
      " 10  Arrival Delay                   77909 non-null  float64\n",
      "dtypes: float64(3), int64(7), object(1)\n",
      "memory usage: 6.5+ MB\n"
     ]
    }
   ],
   "execution_count": 3
  },
  {
   "metadata": {
    "ExecuteTime": {
     "end_time": "2025-03-29T12:15:23.100266Z",
     "start_time": "2025-03-29T12:15:23.094878Z"
    }
   },
   "cell_type": "code",
   "source": [
    "# Airline - категориальная переменная\n",
    "df.Airline.value_counts()"
   ],
   "id": "cc149a737773f947",
   "outputs": [
    {
     "data": {
      "text/plain": [
       "Airline\n",
       "WN    16726\n",
       "DL    10455\n",
       "EV     8359\n",
       "OO     8016\n",
       "AA     7342\n",
       "UA     6639\n",
       "US     5496\n",
       "MQ     4340\n",
       "B6     3733\n",
       "AS     2254\n",
       "NK     1454\n",
       "F9     1209\n",
       "HA     1060\n",
       "VX      826\n",
       "Name: count, dtype: int64"
      ]
     },
     "execution_count": 4,
     "metadata": {},
     "output_type": "execute_result"
    }
   ],
   "execution_count": 4
  },
  {
   "metadata": {
    "ExecuteTime": {
     "end_time": "2025-03-29T12:15:23.278909Z",
     "start_time": "2025-03-29T12:15:23.155539Z"
    }
   },
   "cell_type": "code",
   "source": [
    "from sklearn.model_selection import train_test_split\n",
    "from sklearn.preprocessing import StandardScaler\n",
    "\n",
    "data_ohe = pd.get_dummies(df, columns=['Airline'], drop_first=True)\n",
    "\n",
    "target = data_ohe['Arrival Delay']\n",
    "features = data_ohe.drop(['Arrival Delay'], axis=1)\n",
    "features_train, features_valid, target_train, target_valid = train_test_split(\n",
    "    features, target, test_size=0.25, random_state=12345)\n",
    "\n",
    "numeric = ['Day', 'Day Of Week', 'Origin Airport Delay Rate',\n",
    "           'Destination Airport Delay Rate', 'Scheduled Time', 'Distance',\n",
    "           'Scheduled Departure Hour', 'Scheduled Departure Minute']\n",
    "scaler = StandardScaler()\n",
    "scaler.fit(features_train[numeric])\n",
    "features_train[numeric] = scaler.transform(features_train[numeric])\n",
    "\n",
    "print(features_train.shape)\n",
    "print(features_valid.shape)"
   ],
   "id": "931668cf602acdfc",
   "outputs": [
    {
     "name": "stdout",
     "output_type": "stream",
     "text": [
      "(58431, 22)\n",
      "(19478, 22)\n"
     ]
    }
   ],
   "execution_count": 5
  },
  {
   "metadata": {},
   "cell_type": "markdown",
   "source": "Посчитайте MSE и RMSE",
   "id": "5d75b1c756eac8c8"
  },
  {
   "metadata": {
    "ExecuteTime": {
     "end_time": "2025-03-29T12:41:00.979006Z",
     "start_time": "2025-03-29T12:41:00.836128Z"
    }
   },
   "cell_type": "code",
   "source": [
    "import pandas as pd\n",
    "from sklearn.model_selection import train_test_split\n",
    "from sklearn.linear_model import LinearRegression\n",
    "from sklearn.metrics import mean_squared_error\n",
    "\n",
    "data = pd.read_csv(r'E:\\COURSES\\Кодинг\\[Yandex praxis]. DS specialist + (2022)\\6\\Часть 6\\05 Метрики регрессии\\flights_preprocessed.csv')\n",
    "\n",
    "target = data['Arrival Delay']\n",
    "features = data.drop(['Arrival Delay'] , axis=1)\n",
    "features_train, features_valid, target_train, target_valid = train_test_split(\n",
    "features, target, test_size=0.25, random_state=12345)\n",
    "\n",
    "\n",
    "model = LinearRegression()\n",
    "model.fit(features_train, target_train)\n",
    "predicted_valid = model.predict(features_valid)\n",
    "mse = mean_squared_error(target_valid, predicted_valid)\n",
    "\n",
    "print(\"MSE =\", mse)\n",
    "print(\"RMSE =\", mse ** 0.5)"
   ],
   "id": "7081b97bd1ae9cd9",
   "outputs": [
    {
     "name": "stdout",
     "output_type": "stream",
     "text": [
      "MSE = 2129.8240528555298\n",
      "RMSE = 46.15001682400051\n"
     ]
    }
   ],
   "execution_count": 13
  },
  {
   "metadata": {},
   "cell_type": "markdown",
   "source": "Вычислите MSE и RMSE для константной модели",
   "id": "ee3aa39442b29980"
  },
  {
   "metadata": {
    "ExecuteTime": {
     "end_time": "2025-03-29T12:41:03.296760Z",
     "start_time": "2025-03-29T12:41:03.290382Z"
    }
   },
   "cell_type": "code",
   "source": [
    "predicted_valid_constant = pd.Series(target_train.mean(), index=target_valid.index)\n",
    "mse = mean_squared_error(target_valid, predicted_valid_constant)\n",
    "print(\"MSE =\", mse)\n",
    "print(\"RMSE =\", mse ** 0.5)"
   ],
   "id": "cd4277a7af55971a",
   "outputs": [
    {
     "name": "stdout",
     "output_type": "stream",
     "text": [
      "MSE = 2358.8874869200226\n",
      "RMSE = 48.568379496540985\n"
     ]
    }
   ],
   "execution_count": 14
  },
  {
   "metadata": {},
   "cell_type": "markdown",
   "source": [
    "### 1. Коэффициент детерминации\n",
    "Чтобы не пришлось всё время сравнивать модель со средним, введём новую метрику. Она выражена не в абсолютных значениях, а в относительных.\n",
    "Коэффициент детерминации, или метрика `R2` (англ. coefficient of determination; `R-squared`), вычисляет долю средней квадратичной ошибки модели от MSE среднего, а затем вычитает эту величину из единицы. Увеличение метрики означает прирост качества модели.\n",
    "\n",
    "$$\n",
    "R2 = 1-\\frac{MSE\\ модели}{MSE\\ среднего}\n",
    "$$\n",
    "\n",
    "Значение метрики `R2` равно единице только в одном случае, если `MSE` нулевое. Такая модель предсказывает все ответы идеально.\n",
    "* `R2` равно нулю: модель работает так же, как и среднее.\n",
    "* Если метрика `R2` отрицательна, качество модели очень низкое.\n",
    "* Значения `R2` больше единицы быть не может."
   ],
   "id": "b3293e403e7d7684"
  },
  {
   "metadata": {
    "ExecuteTime": {
     "end_time": "2025-03-29T12:48:26.360860Z",
     "start_time": "2025-03-29T12:48:26.356855Z"
    }
   },
   "cell_type": "code",
   "source": [
    "from sklearn.metrics import r2_score\n",
    "r2_score = r2_score(target_valid, predicted_valid)\n",
    "print(\"R2 =\", r2_score)"
   ],
   "id": "f07ebb736a198c52",
   "outputs": [
    {
     "name": "stdout",
     "output_type": "stream",
     "text": [
      "R2 = 0.09710497146204977\n"
     ]
    }
   ],
   "execution_count": 16
  },
  {
   "metadata": {
    "ExecuteTime": {
     "end_time": "2025-03-30T19:01:26.796986Z",
     "start_time": "2025-03-30T19:01:21.576363Z"
    }
   },
   "cell_type": "code",
   "source": [
    "# -*- coding: utf-8 -*-\n",
    "import time\n",
    "\n",
    "start_time = time.time()\n",
    "\n",
    "import pandas as pd\n",
    "from sklearn.model_selection import train_test_split\n",
    "from sklearn.linear_model import LinearRegression\n",
    "from sklearn.ensemble import RandomForestRegressor\n",
    "from sklearn.metrics import r2_score, f1_score\n",
    "\n",
    "data = pd.read_csv(\n",
    "    r'E:\\COURSES\\Кодинг\\[Yandex praxis]. DS specialist + (2022)\\6\\Часть 6\\05 Метрики регрессии\\flights_preprocessed.csv')\n",
    "target = data['Arrival Delay']\n",
    "features = data.drop(['Arrival Delay'], axis=1)\n",
    "\n",
    "features_train, features_valid, target_train, target_valid = train_test_split(features, target, test_size=0.25,\n",
    "                                                                              random_state=12345)\n",
    "\n",
    "r2_best = 0\n",
    "depth_best = None\n",
    "est_best = None\n",
    "\n",
    "# for depth in range (1,10,1):\n",
    "#         model = RandomForestRegressor(n_estimators=20,\n",
    "# max_depth=depth,\n",
    "#                                       random_state=12345)\n",
    "#         model.fit(features_train, target_train)\n",
    "#         predicted_valid = model.predict(features_valid)\n",
    "#         r2 = r2_score(target_valid, predicted_valid)\n",
    "#         if r2 > r2_best:\n",
    "#             r2_best = r2\n",
    "#             depth_best = depth\n",
    "# print(\"Best round for depth calculation: r2 =\", r2_best, \"depth =\", depth_best)\n",
    "#\n",
    "# for est in range (1,142,20):\n",
    "#     model = RandomForestRegressor(n_estimators=est,\n",
    "#                                   max_depth=depth_best,\n",
    "#                                   random_state=12345)\n",
    "#     model.fit(features_train, target_train)\n",
    "#     predicted_valid = model.predict(features_valid)\n",
    "#     r2 = r2_score(target_valid, predicted_valid)\n",
    "#     if r2 > r2_best:\n",
    "#         r2_best = r2\n",
    "#         est_best = est\n",
    "# end_time = time.time()\n",
    "# print( \"Best round overall calculation: r2 =\", r2_best, \"depth =\", depth_best, \" est =\", est_best)\n",
    "# print(f\"Execution time: {end_time - start_time:.2f} seconds\")\n",
    "\n",
    "model = RandomForestRegressor(n_estimators=61,\n",
    "                              max_depth=10,\n",
    "                              random_state=12345,\n",
    "                              )\n",
    "model.fit(features_train, target_train)\n",
    "# predicted_valid = model.predict(features_valid)\n",
    "# r2_valid = r2_score(target_valid, predicted_valid)\n",
    "# r2_train = r2_score(target_train, features_train)\n",
    "print(\"Наилучшая модель\")\n",
    "print(\"R2 на обучающей выборке: \",\n",
    "      model.score(features_train, target_train))  # найдите значение метрики R2 на обучающей выборке\n",
    "print(\"R2 на валидационной выборке: \",\n",
    "      model.score(features_valid, target_valid))  # найдите значение метрики R2 на валидационной выборке"
   ],
   "id": "b4af81a4989d27f2",
   "outputs": [
    {
     "name": "stdout",
     "output_type": "stream",
     "text": [
      "Наилучшая модель\n",
      "R2 на обучающей выборке:  0.3232325525754379\n",
      "R2 на валидационной выборке:  0.16152128224283302\n"
     ]
    }
   ],
   "execution_count": 1
  },
  {
   "metadata": {},
   "cell_type": "markdown",
   "source": [
    "F1 и R² — это метрики, которые используются для оценки качества моделей в машинном обучении, но они применяются в разных типах задач и имеют разное значение.\n",
    "\n",
    "* F1-мера используется для оценки качества моделей в задачах классификации\n",
    "* R² (коэффициент детерминации) используется для оценки качества моделей в задачах регрессии"
   ],
   "id": "f215b046e13dcf5c"
  },
  {
   "metadata": {
    "ExecuteTime": {
     "end_time": "2025-03-30T19:00:05.551943Z",
     "start_time": "2025-03-30T19:00:05.543970Z"
    }
   },
   "cell_type": "code",
   "source": [
    "# Alternative more advanced approach\n",
    "# Define parameter grid\n",
    "param_grid = {\n",
    "    'n_estimators': [50, 100, 150, 200],\n",
    "    'max_depth': [None, 5, 10, 15, 20],\n",
    "    'min_samples_split': [2, 5, 10],\n",
    "    'min_samples_leaf': [1, 2, 4],\n",
    "    'max_features': ['auto', 'sqrt']\n",
    "}\n",
    "\n",
    "# Create and fit the grid search\n",
    "rf = RandomForestRegressor(random_state=12345)\n",
    "grid_search = GridSearchCV(\n",
    "    estimator=rf,\n",
    "    param_grid=param_grid,\n",
    "    cv=3,\n",
    "    n_jobs=-1,\n",
    "    verbose=2,\n",
    "    scoring='r2'\n",
    ")\n",
    "grid_search.fit(features_train, target_train)\n",
    "\n",
    "# Get best parameters and model\n",
    "best_params = grid_search.best_params_\n",
    "best_model = grid_search.best_estimator_\n",
    "\n",
    "# Evaluate on validation set\n",
    "predicted_valid = best_model.predict(features_valid)\n",
    "r2_best = r2_score(target_valid, predicted_valid)\n",
    "\n",
    "end_time = time.time()\n",
    "\n",
    "print(\"\\nBest parameters found:\")\n",
    "print(best_params)\n",
    "print(f\"\\nBest R2 score on validation set: {r2_best:.4f}\")\n",
    "print(f\"Execution time: {end_time - start_time:.2f} seconds\")\n",
    "\n",
    "model = RandomForestRegressor(n_estimators=200,\n",
    "                              max_depth=None,\n",
    "                              random_state=12345,\n",
    "                              max_features='sqrt',\n",
    "                              min_samples_split=10,\n",
    "                              min_samples_leaf=2,\n",
    "                              print(\"Наилучшая модель\")\n",
    "                              )\n",
    "print(\"R2 на обучающей выборке: \",\n",
    "      model.score(features_train, target_train))  # найдите значение метрики R2 на обучающей выборке\n",
    "print(\"R2 на валидационной выборке: \",\n",
    "      model.score(features_valid, target_valid))  # найдите значение метрики R2 на валидационной выборке\n",
    "\n"
   ],
   "id": "430587c9bf6a96c8",
   "outputs": [
    {
     "ename": "SyntaxError",
     "evalue": "'(' was never closed (4112931576.py, line 32)",
     "output_type": "error",
     "traceback": [
      "\u001B[1;36m  Cell \u001B[1;32mIn[5], line 32\u001B[1;36m\u001B[0m\n\u001B[1;33m    model = RandomForestRegressor(n_estimators=200,\u001B[0m\n\u001B[1;37m                                 ^\u001B[0m\n\u001B[1;31mSyntaxError\u001B[0m\u001B[1;31m:\u001B[0m '(' was never closed\n"
     ]
    }
   ],
   "execution_count": 5
  },
  {
   "metadata": {},
   "cell_type": "markdown",
   "source": [
    "## MAE. Mean absolute error  - среднее абсолютное отклонение.\n",
    "\n",
    "* $y_i$ - целевой признак объекта с порядковым номером i\n",
    "* $\\hat{y_i}$ - предсказание целового признака объекта с порядковым номером i моделью\n",
    "* $ Отклонение = y_i-\\hat{y_i}$. where $\\hat{y}$ - circumflex or a hat\n",
    "* $ Абсолютное\\ отклонение = |y_i-\\hat{y_i}|$\n",
    "* N - количество объектов в выборке\n",
    "\n",
    "$$ MAE = \\frac{1}{N}\\sum_{i=1} ^{\\infty} |y_i-\\hat{y_i}|$$\n",
    "\n",
    "`sklearn.metrics.mean_absolute_error(y_true, y_pred, *, sample_weight=None, multioutput='uniform_average')\n",
    "\n",
    "Константная модель выбирается так, чтобы значение метрики `MAE` было предельно низким. Нужно найти такое значение `a`, при котором достигается минимум:\n",
    "$$ MAE = \\frac{1}{N}\\sum_{i=1} ^{\\infty} |y_i-a|$$\n",
    "\n",
    "Минимум получается, когда `a=median(y_i)` , т.е. когда `a` равно медиане целевого признака\n",
    "`"
   ],
   "id": "e28b40ee0d48b489"
  },
  {
   "metadata": {
    "ExecuteTime": {
     "end_time": "2025-03-31T07:32:02.182273Z",
     "start_time": "2025-03-31T07:32:02.178655Z"
    }
   },
   "cell_type": "code",
   "source": [
    "import pandas as pd\n",
    "\n",
    "def mae(target, predictions):\n",
    "    MAE = 0\n",
    "    for i in range(len(predictions)):\n",
    "        MAE += abs(target[i] - predictions[i])\n",
    "    return MAE / len(predictions)\n",
    "target = pd.Series([-0.5, 2.1, 1.5, 0.3])\n",
    "predictions = pd.Series([-0.6, 1.7, 1.6, 0.2])\n",
    "\n",
    "print(\"MAE =\", mae(target, predictions))"
   ],
   "id": "3012073f2a480a3f",
   "outputs": [
    {
     "name": "stdout",
     "output_type": "stream",
     "text": [
      "MAE = 0.17500000000000004\n"
     ]
    }
   ],
   "execution_count": 8
  },
  {
   "metadata": {
    "ExecuteTime": {
     "end_time": "2025-03-31T07:34:06.471720Z",
     "start_time": "2025-03-31T07:34:06.465207Z"
    }
   },
   "cell_type": "code",
   "source": [
    "from sklearn.metrics import mean_absolute_error\n",
    "MAE = mean_absolute_error(target, predictions)\n",
    "print(\"MAE =\", MAE)"
   ],
   "id": "2bf74bf14516b924",
   "outputs": [
    {
     "name": "stdout",
     "output_type": "stream",
     "text": [
      "MAE = 0.17500000000000004\n"
     ]
    }
   ],
   "execution_count": 10
  },
  {
   "metadata": {},
   "cell_type": "markdown",
   "source": "Вычислим значение MAE для медианы целевого признака.",
   "id": "91c39a044c2d8608"
  },
  {
   "metadata": {
    "ExecuteTime": {
     "end_time": "2025-03-31T11:48:47.541001Z",
     "start_time": "2025-03-31T11:48:47.392065Z"
    }
   },
   "cell_type": "code",
   "source": [
    "import pandas as pd\n",
    "from sklearn.model_selection import train_test_split\n",
    "from sklearn.linear_model import LinearRegression\n",
    "from sklearn.metrics import mean_absolute_error\n",
    "\n",
    "data = pd.read_csv(\n",
    "    r'C:\\Users\\Alex\\Downloads\\Yandex.Disk.Files\\[Yandex praxis]. DS specialist + (2022)\\6\\Часть 6\\05 Метрики регрессии\\flights_preprocessed.csv')\n",
    "\n",
    "target = data['Arrival Delay']\n",
    "features = data.drop(['Arrival Delay'], axis=1)\n",
    "features_train, features_valid, target_train, target_valid = train_test_split(\n",
    "    features, target, test_size=0.25, random_state=12345)\n",
    "model = LinearRegression()\n",
    "model.fit(features_train, target_train)\n",
    "predicted_valid = model.predict(features_valid)\n",
    "\n",
    "print(\"Linear Regression\")\n",
    "print(mean_absolute_error(target_valid, predicted_valid))\n",
    "print()\n",
    "predicted_valid = pd.Series(target_train.median(), index=target_valid.index)\n",
    "MAE_median = mean_absolute_error(target_valid, predicted_valid)\n",
    "print(\"MAE of median value\", MAE_median)"
   ],
   "id": "2a4dc61d811431e8",
   "outputs": [
    {
     "name": "stdout",
     "output_type": "stream",
     "text": [
      "Linear Regression\n",
      "27.436250978085887\n",
      "\n",
      "MAE of median value 27.22281548413595\n"
     ]
    }
   ],
   "execution_count": 3
  },
  {
   "metadata": {},
   "cell_type": "markdown",
   "source": [
    "Найдите модель со значением MAE не больше 26.2 — на минуту меньше, чем у медианы.\n",
    "Получите предсказания модели и вычислите значение MAE функцией mean_absolute_error()."
   ],
   "id": "1f8ab1712083a15a"
  },
  {
   "metadata": {
    "ExecuteTime": {
     "end_time": "2025-03-31T12:21:06.838429Z",
     "start_time": "2025-03-31T12:20:06.529809Z"
    }
   },
   "cell_type": "code",
   "source": [
    "import time\n",
    "import pandas as pd\n",
    "from sklearn.model_selection import train_test_split\n",
    "from sklearn.linear_model import LinearRegression\n",
    "from sklearn.metrics import mean_absolute_error\n",
    "from sklearn.ensemble import RandomForestRegressor\n",
    "start_time = time.time()\n",
    "\n",
    "model = LinearRegression()\n",
    "model.fit(features_train, target_train)\n",
    "predictions_valid = model.predict(features_valid)\n",
    "\n",
    "print('Linear regression MAE:',mean_absolute_error(target_valid, predictions_valid))\n",
    "\n",
    "for depth in range(1, 16, 1):\n",
    "    mae_best = 1000\n",
    "    model = RandomForestRegressor(n_estimators=20, max_depth=depth, random_state=12345)\n",
    "    model.fit(features_train, target_train)\n",
    "    predicted_valid = model.predict(features_valid)\n",
    "    mae = mean_absolute_error(target_valid, predicted_valid)\n",
    "    if mae < mae_best:\n",
    "        mae_best = mae\n",
    "        depth_best  = depth\n",
    "print('Best MAE for depth calculating is:', mae_best,' best depth:', depth_best)\n",
    "for est in range(80, 101, 10):\n",
    "    mae_valid_best = 1000\n",
    "    model_best = None\n",
    "    est_best = None\n",
    "    model = RandomForestRegressor(n_estimators=100,\n",
    "                              max_depth= depth_best, random_state=12345)\n",
    "    model.fit(features_train, target_train)\n",
    "    predicted_valid = model.predict(features_valid)\n",
    "    predicted_train= model.predict(features_train)\n",
    "    mae_valid = mean_absolute_error(target_valid,\n",
    "                                    predicted_valid)\n",
    "    mae_train = mean_absolute_error(target_train,predicted_train)\n",
    "    if mae_valid < mae_valid_best:\n",
    "        mae_valid_best = mae_valid\n",
    "        mae_train = mae_train\n",
    "        model_best = model\n",
    "        est_best = est\n",
    "end_time = time.time()\n",
    "print(f\"Execution time: {end_time - start_time:.2f} seconds\")\n",
    "print('Best number of trees',est_best)\n",
    "print('Best MAE on validation set: ', mae_valid_best)\n",
    "print('MAE on training set: ', mae_train)"
   ],
   "id": "c06eebb398610a8e",
   "outputs": [
    {
     "name": "stdout",
     "output_type": "stream",
     "text": [
      "Linear regression MAE: 27.436250978085887\n",
      "Best MAE for depth calculating is: 25.817126504322434  best depth: 15\n",
      "Execution time: 60.30 seconds\n",
      "Best number of trees 100\n",
      "Best MAE on validation set:  25.59278159728628\n",
      "MAE on training set:  19.396417217485084\n"
     ]
    }
   ],
   "execution_count": 15
  },
  {
   "metadata": {},
   "cell_type": "markdown",
   "source": "В отличие от `MAE`, метрика `RMSE` чувствительнее к большим значениям: значимые ошибки сильно влияют на итоговое значение квадратного корня из средней квадратичной ошибки.",
   "id": "1cd14a554a7e5323"
  },
  {
   "metadata": {
    "ExecuteTime": {
     "end_time": "2025-03-31T12:26:06.299227Z",
     "start_time": "2025-03-31T12:26:06.297376Z"
    }
   },
   "cell_type": "code",
   "source": "",
   "id": "d0518ffbb47b03e9",
   "outputs": [],
   "execution_count": null
  },
  {
   "metadata": {},
   "cell_type": "code",
   "outputs": [],
   "execution_count": null,
   "source": "",
   "id": "d33789a3cad6cae2"
  }
 ],
 "metadata": {
  "kernelspec": {
   "display_name": "Python 3",
   "language": "python",
   "name": "python3"
  },
  "language_info": {
   "codemirror_mode": {
    "name": "ipython",
    "version": 2
   },
   "file_extension": ".py",
   "mimetype": "text/x-python",
   "name": "python",
   "nbconvert_exporter": "python",
   "pygments_lexer": "ipython2",
   "version": "2.7.6"
  }
 },
 "nbformat": 4,
 "nbformat_minor": 5
}
