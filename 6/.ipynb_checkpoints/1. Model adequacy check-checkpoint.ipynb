{
 "cells": [
  {
   "cell_type": "markdown",
   "id": "b159e6f0-ca21-42dc-a808-8d2f960982b4",
   "metadata": {},
   "source": [
    "## 1. Подготовка признаков"
   ]
  },
  {
   "cell_type": "code",
   "execution_count": 1,
   "id": "initial_id",
   "metadata": {
    "ExecuteTime": {
     "end_time": "2025-03-28T07:37:43.619836Z",
     "start_time": "2025-03-28T07:37:43.516110Z"
    }
   },
   "outputs": [],
   "source": [
    "import pandas as pd\n",
    "df = pd.read_csv(r'C:\\Users\\stazher3\\Downloads\\Yandex.Disk.Files\\6\\Часть 6\\02 Подготовка признаков\\travel_insurance.csv')"
   ]
  },
  {
   "cell_type": "code",
   "execution_count": 2,
   "id": "a4736f42a12d6f9b",
   "metadata": {
    "ExecuteTime": {
     "end_time": "2025-03-28T07:37:51.994586Z",
     "start_time": "2025-03-28T07:37:51.974065Z"
    }
   },
   "outputs": [
    {
     "data": {
      "text/html": [
       "<div>\n",
       "<style scoped>\n",
       "    .dataframe tbody tr th:only-of-type {\n",
       "        vertical-align: middle;\n",
       "    }\n",
       "\n",
       "    .dataframe tbody tr th {\n",
       "        vertical-align: top;\n",
       "    }\n",
       "\n",
       "    .dataframe thead th {\n",
       "        text-align: right;\n",
       "    }\n",
       "</style>\n",
       "<table border=\"1\" class=\"dataframe\">\n",
       "  <thead>\n",
       "    <tr style=\"text-align: right;\">\n",
       "      <th></th>\n",
       "      <th>Agency</th>\n",
       "      <th>Agency Type</th>\n",
       "      <th>Distribution Channel</th>\n",
       "      <th>Product Name</th>\n",
       "      <th>Claim</th>\n",
       "      <th>Duration</th>\n",
       "      <th>Destination</th>\n",
       "      <th>Net Sales</th>\n",
       "      <th>Commission (in value)</th>\n",
       "      <th>Gender</th>\n",
       "      <th>Age</th>\n",
       "    </tr>\n",
       "  </thead>\n",
       "  <tbody>\n",
       "    <tr>\n",
       "      <th>0</th>\n",
       "      <td>JZI</td>\n",
       "      <td>Airlines</td>\n",
       "      <td>Online</td>\n",
       "      <td>Value Plan</td>\n",
       "      <td>0</td>\n",
       "      <td>12</td>\n",
       "      <td>TAIWAN, PROVINCE OF CHINA</td>\n",
       "      <td>45.0</td>\n",
       "      <td>15.75</td>\n",
       "      <td>M</td>\n",
       "      <td>39</td>\n",
       "    </tr>\n",
       "    <tr>\n",
       "      <th>1</th>\n",
       "      <td>EPX</td>\n",
       "      <td>Travel Agency</td>\n",
       "      <td>Online</td>\n",
       "      <td>Cancellation Plan</td>\n",
       "      <td>0</td>\n",
       "      <td>50</td>\n",
       "      <td>JAPAN</td>\n",
       "      <td>22.0</td>\n",
       "      <td>0.00</td>\n",
       "      <td>NaN</td>\n",
       "      <td>36</td>\n",
       "    </tr>\n",
       "  </tbody>\n",
       "</table>\n",
       "</div>"
      ],
      "text/plain": [
       "  Agency    Agency Type Distribution Channel       Product Name  Claim  \\\n",
       "0    JZI       Airlines               Online         Value Plan      0   \n",
       "1    EPX  Travel Agency               Online  Cancellation Plan      0   \n",
       "\n",
       "   Duration                Destination  Net Sales  Commission (in value)  \\\n",
       "0        12  TAIWAN, PROVINCE OF CHINA       45.0                  15.75   \n",
       "1        50                      JAPAN       22.0                   0.00   \n",
       "\n",
       "  Gender  Age  \n",
       "0      M   39  \n",
       "1    NaN   36  "
      ]
     },
     "execution_count": 2,
     "metadata": {},
     "output_type": "execute_result"
    }
   ],
   "source": [
    "df.head(2)"
   ]
  },
  {
   "cell_type": "code",
   "execution_count": 3,
   "id": "935cd747b1701539",
   "metadata": {
    "ExecuteTime": {
     "end_time": "2025-03-28T07:37:56.768400Z",
     "start_time": "2025-03-28T07:37:56.732441Z"
    },
    "scrolled": true
   },
   "outputs": [
    {
     "name": "stdout",
     "output_type": "stream",
     "text": [
      "<class 'pandas.core.frame.DataFrame'>\n",
      "RangeIndex: 50660 entries, 0 to 50659\n",
      "Data columns (total 11 columns):\n",
      " #   Column                 Non-Null Count  Dtype  \n",
      "---  ------                 --------------  -----  \n",
      " 0   Agency                 50660 non-null  object \n",
      " 1   Agency Type            50660 non-null  object \n",
      " 2   Distribution Channel   50660 non-null  object \n",
      " 3   Product Name           50660 non-null  object \n",
      " 4   Claim                  50660 non-null  int64  \n",
      " 5   Duration               50660 non-null  int64  \n",
      " 6   Destination            50660 non-null  object \n",
      " 7   Net Sales              50660 non-null  float64\n",
      " 8   Commission (in value)  50660 non-null  float64\n",
      " 9   Gender                 14569 non-null  object \n",
      " 10  Age                    50660 non-null  int64  \n",
      "dtypes: float64(2), int64(3), object(6)\n",
      "memory usage: 4.3+ MB\n"
     ]
    }
   ],
   "source": [
    "df.info()"
   ]
  },
  {
   "cell_type": "code",
   "execution_count": 4,
   "id": "c1b23d6b-d380-4c0e-8610-7afa268eab26",
   "metadata": {},
   "outputs": [
    {
     "data": {
      "text/plain": [
       "Gender\n",
       "M    7496\n",
       "F    7073\n",
       "Name: count, dtype: int64"
      ]
     },
     "execution_count": 4,
     "metadata": {},
     "output_type": "execute_result"
    }
   ],
   "source": [
    "df.Gender.value_counts()"
   ]
  },
  {
   "cell_type": "markdown",
   "id": "9aab50de-d71c-4227-a83d-22bf55b756fd",
   "metadata": {},
   "source": [
    "Для анализа лучше перевести гендер в 1 и 0 для мужчины и женщины. Этого можно добиться разными способами.\n",
    "\n",
    "### 1.1. OHE (One-Hot Encoding)\n",
    "\n",
    "Преобразовать категориальные признаки в численные поможет техника прямого кодирования, или отображения (англ. One-Hot Encoding, OHE).\n",
    "\n",
    "Для каждого значения признака Gender (F, M, None) создаётся столбец:\n",
    "Gender_F (от англ. female, «женщина»),\n",
    "Gender_M (от англ. male, «мужчина»),\n",
    "Gender_None (данных о поле нет).\n",
    "Когда ставить единицу в добавленные столбцы, зависит от того, каково значение Gender. Например, если F, то 1 записывается в столбец Gender_F, а M — в `Gender_M`.\n",
    "\n",
    "Когда ставить единицу в добавленные столбцы, зависит от того, каково значение Gender. Например, если F, то 1 записывается в столбец Gender_F, а M — в `Gender_M`.\n",
    "\n",
    "\n",
    "Резюмируем. Техникой OHE категориальные признаки переводятся в численные в два этапа:\n",
    "Для каждого значения признака создаётся новый столбец;\n",
    "Если объекту категория подходит, присваивается 1, если нет — 0.\n",
    "Новые признаки (`Gender_F`, `Gender_M`, `Gender_None`) называются дамми-переменными, или дамми-признаками (англ. dummy variable, «фиктивная переменная»).\n",
    "\n",
    "Для прямого кодирования в библиотеке pandas есть функция `pd.get_dummies()` (от англ. «получить фиктивные переменные»)\n"
   ]
  },
  {
   "cell_type": "code",
   "execution_count": 5,
   "id": "aef8a854150ce26a",
   "metadata": {
    "ExecuteTime": {
     "end_time": "2025-03-28T08:24:33.451750Z",
     "start_time": "2025-03-28T08:24:33.371116Z"
    }
   },
   "outputs": [
    {
     "name": "stdout",
     "output_type": "stream",
     "text": [
      "  Agency    Agency Type Distribution Channel       Product Name  Claim  \\\n",
      "0    JZI       Airlines               Online         Value Plan      0   \n",
      "1    EPX  Travel Agency               Online  Cancellation Plan      0   \n",
      "2    EPX  Travel Agency               Online  Cancellation Plan      0   \n",
      "3    EPX  Travel Agency               Online  Cancellation Plan      0   \n",
      "4    JZI       Airlines               Online         Value Plan      0   \n",
      "\n",
      "   Duration                Destination  Net Sales  Commission (in value)  Age  \\\n",
      "0        12  TAIWAN, PROVINCE OF CHINA       45.0                  15.75   39   \n",
      "1        50                      JAPAN       22.0                   0.00   36   \n",
      "2       251                     BRAZIL       80.0                   0.00   36   \n",
      "3         6                      INDIA      -10.0                   0.00   36   \n",
      "4         5                      CHINA       45.0                  15.75   34   \n",
      "\n",
      "   Gender_M  Gender_nan  \n",
      "0         1           0  \n",
      "1         0           1  \n",
      "2         0           1  \n",
      "3         0           1  \n",
      "4         1           0  \n"
     ]
    }
   ],
   "source": [
    "data_ohe = pd.get_dummies(df, columns=['Gender'], dummy_na=True, drop_first=True, dtype=int)\n",
    "print(data_ohe.head(5))"
   ]
  },
  {
   "cell_type": "code",
   "execution_count": 6,
   "id": "fc063ebe-0c09-4c19-b421-c2e4d4fbd5a3",
   "metadata": {},
   "outputs": [
    {
     "name": "stdout",
     "output_type": "stream",
     "text": [
      "7073\n"
     ]
    }
   ],
   "source": [
    "print(data_ohe.Gender_M.shape[0] - data_ohe.Gender_M.sum()-data_ohe.Gender_nan.sum())"
   ]
  },
  {
   "cell_type": "markdown",
   "id": "444b0ca6-7880-4bc1-b1d1-49330b89e406",
   "metadata": {},
   "source": [
    "### 1.2. Ordinal Encoder\n",
    "\n",
    "Чтобы закодировать цифрами выраженные в тексте категории — Ordinal Encoding (от англ. «кодирование по номеру категории»). Она работает так:\n",
    "Фиксируется, какой цифрой кодируется класс;\n",
    "Цифры размещаются в столбце.\n",
    "\n",
    "`from sklearn.preprocessing import OrdinalEncoder`\n",
    "\n",
    "Чтобы получить список категориальных признаков, вызываем метод `fit()` — как и в обучении модели. Передаём ему данные как аргумент.\n",
    "\n",
    "Преобразуем данные функцией `transform()` (англ. «преобразовать»). Изменённые данные будут храниться в переменной data_ordinal (англ. «порядковые данные»)."
   ]
  },
  {
   "cell_type": "code",
   "execution_count": 7,
   "id": "a301b2091328e477",
   "metadata": {
    "ExecuteTime": {
     "end_time": "2025-03-28T08:24:38.400509Z",
     "start_time": "2025-03-28T08:24:36.824399Z"
    }
   },
   "outputs": [],
   "source": [
    "from sklearn.preprocessing import OrdinalEncoder\n",
    "encoder = OrdinalEncoder()\n",
    "data_ordinal = pd.DataFrame(encoder.fit_transform(df), columns = df.columns)"
   ]
  },
  {
   "cell_type": "code",
   "execution_count": 8,
   "id": "399b3c6f35b4c292",
   "metadata": {
    "ExecuteTime": {
     "end_time": "2025-03-28T08:24:38.448214Z",
     "start_time": "2025-03-28T08:24:38.429908Z"
    }
   },
   "outputs": [
    {
     "data": {
      "text/html": [
       "<div>\n",
       "<style scoped>\n",
       "    .dataframe tbody tr th:only-of-type {\n",
       "        vertical-align: middle;\n",
       "    }\n",
       "\n",
       "    .dataframe tbody tr th {\n",
       "        vertical-align: top;\n",
       "    }\n",
       "\n",
       "    .dataframe thead th {\n",
       "        text-align: right;\n",
       "    }\n",
       "</style>\n",
       "<table border=\"1\" class=\"dataframe\">\n",
       "  <thead>\n",
       "    <tr style=\"text-align: right;\">\n",
       "      <th></th>\n",
       "      <th>Agency</th>\n",
       "      <th>Agency Type</th>\n",
       "      <th>Distribution Channel</th>\n",
       "      <th>Product Name</th>\n",
       "      <th>Claim</th>\n",
       "      <th>Duration</th>\n",
       "      <th>Destination</th>\n",
       "      <th>Net Sales</th>\n",
       "      <th>Commission (in value)</th>\n",
       "      <th>Gender</th>\n",
       "      <th>Age</th>\n",
       "    </tr>\n",
       "  </thead>\n",
       "  <tbody>\n",
       "    <tr>\n",
       "      <th>0</th>\n",
       "      <td>9.0</td>\n",
       "      <td>0.0</td>\n",
       "      <td>1.0</td>\n",
       "      <td>24.0</td>\n",
       "      <td>0.0</td>\n",
       "      <td>14.0</td>\n",
       "      <td>121.0</td>\n",
       "      <td>602.0</td>\n",
       "      <td>486.0</td>\n",
       "      <td>1.0</td>\n",
       "      <td>37.0</td>\n",
       "    </tr>\n",
       "    <tr>\n",
       "      <th>1</th>\n",
       "      <td>7.0</td>\n",
       "      <td>1.0</td>\n",
       "      <td>1.0</td>\n",
       "      <td>10.0</td>\n",
       "      <td>0.0</td>\n",
       "      <td>52.0</td>\n",
       "      <td>61.0</td>\n",
       "      <td>470.0</td>\n",
       "      <td>0.0</td>\n",
       "      <td>NaN</td>\n",
       "      <td>34.0</td>\n",
       "    </tr>\n",
       "    <tr>\n",
       "      <th>2</th>\n",
       "      <td>7.0</td>\n",
       "      <td>1.0</td>\n",
       "      <td>1.0</td>\n",
       "      <td>10.0</td>\n",
       "      <td>0.0</td>\n",
       "      <td>253.0</td>\n",
       "      <td>16.0</td>\n",
       "      <td>735.0</td>\n",
       "      <td>0.0</td>\n",
       "      <td>NaN</td>\n",
       "      <td>34.0</td>\n",
       "    </tr>\n",
       "    <tr>\n",
       "      <th>3</th>\n",
       "      <td>7.0</td>\n",
       "      <td>1.0</td>\n",
       "      <td>1.0</td>\n",
       "      <td>10.0</td>\n",
       "      <td>0.0</td>\n",
       "      <td>8.0</td>\n",
       "      <td>54.0</td>\n",
       "      <td>121.0</td>\n",
       "      <td>0.0</td>\n",
       "      <td>NaN</td>\n",
       "      <td>34.0</td>\n",
       "    </tr>\n",
       "    <tr>\n",
       "      <th>4</th>\n",
       "      <td>9.0</td>\n",
       "      <td>0.0</td>\n",
       "      <td>1.0</td>\n",
       "      <td>24.0</td>\n",
       "      <td>0.0</td>\n",
       "      <td>7.0</td>\n",
       "      <td>24.0</td>\n",
       "      <td>602.0</td>\n",
       "      <td>486.0</td>\n",
       "      <td>1.0</td>\n",
       "      <td>32.0</td>\n",
       "    </tr>\n",
       "  </tbody>\n",
       "</table>\n",
       "</div>"
      ],
      "text/plain": [
       "   Agency  Agency Type  Distribution Channel  Product Name  Claim  Duration  \\\n",
       "0     9.0          0.0                   1.0          24.0    0.0      14.0   \n",
       "1     7.0          1.0                   1.0          10.0    0.0      52.0   \n",
       "2     7.0          1.0                   1.0          10.0    0.0     253.0   \n",
       "3     7.0          1.0                   1.0          10.0    0.0       8.0   \n",
       "4     9.0          0.0                   1.0          24.0    0.0       7.0   \n",
       "\n",
       "   Destination  Net Sales  Commission (in value)  Gender   Age  \n",
       "0        121.0      602.0                  486.0     1.0  37.0  \n",
       "1         61.0      470.0                    0.0     NaN  34.0  \n",
       "2         16.0      735.0                    0.0     NaN  34.0  \n",
       "3         54.0      121.0                    0.0     NaN  34.0  \n",
       "4         24.0      602.0                  486.0     1.0  32.0  "
      ]
     },
     "execution_count": 8,
     "metadata": {},
     "output_type": "execute_result"
    }
   ],
   "source": [
    "data_ordinal.head(5)"
   ]
  },
  {
   "cell_type": "code",
   "execution_count": 9,
   "id": "ae9ab81a-62dc-4b1f-b589-7b666f288a49",
   "metadata": {},
   "outputs": [
    {
     "data": {
      "text/plain": [
       "Gender\n",
       "1.0    7496\n",
       "0.0    7073\n",
       "Name: count, dtype: int64"
      ]
     },
     "execution_count": 9,
     "metadata": {},
     "output_type": "execute_result"
    }
   ],
   "source": [
    "data_ordinal['Gender'].value_counts()\n",
    "\n",
    "# 1 - Male, 0 - Female"
   ]
  },
  {
   "cell_type": "code",
   "execution_count": 10,
   "id": "b414207a-adba-45b1-9dfe-c9197e53a89c",
   "metadata": {},
   "outputs": [
    {
     "name": "stdout",
     "output_type": "stream",
     "text": [
      "(37995, 10)\n",
      "(12665, 10)\n",
      "       Agency  Agency Type  Distribution Channel  Product Name  Duration  \\\n",
      "33312     7.0          1.0                   1.0          10.0      79.0   \n",
      "50154     7.0          1.0                   1.0          10.0      22.0   \n",
      "\n",
      "       Destination  Net Sales  Commission (in value)  Gender   Age  \n",
      "33312         24.0      414.0                    0.0     NaN  34.0  \n",
      "50154        113.0      398.0                    0.0     NaN  34.0  \n"
     ]
    }
   ],
   "source": [
    "from sklearn.model_selection import train_test_split\n",
    "\n",
    "df_train, df_valid = train_test_split(data_ordinal, test_size=0.25, random_state=12345)\n",
    "features_train = df_train.drop('Claim', axis=1)\n",
    "target_train = df_train['Claim']\n",
    "features_valid = df_valid.drop('Claim', axis=1)\n",
    "target_valid = df_valid['Claim']\n",
    "\n",
    "print(features_train.shape)\n",
    "print(features_valid.shape)\n",
    "print(features_train.head(2))"
   ]
  },
  {
   "cell_type": "code",
   "execution_count": 11,
   "id": "eb17755c209de5fa",
   "metadata": {
    "ExecuteTime": {
     "end_time": "2025-03-28T08:24:35.758693Z",
     "start_time": "2025-03-28T08:24:35.729417Z"
    }
   },
   "outputs": [
    {
     "name": "stdout",
     "output_type": "stream",
     "text": [
      "The best decision tree depth 1 The best score is: 0.9866561389656534\n"
     ]
    }
   ],
   "source": [
    "from sklearn.tree import DecisionTreeClassifier\n",
    "\n",
    "best_result_decision_tree = 0\n",
    "best_model_decision_tree = None\n",
    "best_depth_decision_tree = None\n",
    "\n",
    "for depth in range(1, 11):\n",
    "    model = DecisionTreeClassifier(random_state=333, max_depth=depth)\n",
    "    model.fit(features_train, target_train)\n",
    "    predictions = model.predict(features_valid)\n",
    "    result = model.score(features_valid, target_valid)\n",
    "    if result > best_result_decision_tree:\n",
    "        best_model_decision_tree = model\n",
    "        best_result_decision_tree = result\n",
    "        best_depth_decision_tree = depth\n",
    "print('The best decision tree depth', best_depth_decision_tree,\n",
    "      'The best score is:', best_result_decision_tree)"
   ]
  },
  {
   "cell_type": "markdown",
   "id": "d549d32d-c622-4e66-9158-a901d5582ac7",
   "metadata": {},
   "source": [
    "`Ordinal Encoding` doesn't fit for `Logistic Regression`\n",
    "\n",
    "Если все признаки должны стать количественными, подходит техника OHE;\n",
    "Когда все признаки категориальные, и их нужно преобразовать в числа — Ordinal Encoding.\n",
    "\n",
    "## 2. Data standardization\n",
    "\n",
    "В данных есть столбцы: `Age` и `Commission`. Допустим, возможен возраст от 0 до 100 лет, а страховая комиссия — от 100 долларов до 1000. Значения и их разбросы в столбце `Commission` больше, поэтому алгоритм автоматически решит, что этот признак важнее возраста. А это не так: все признаки значимы.\n",
    "\n",
    "Чтобы избежать этой ловушки, признаки масштабируют — приводят к одному масштабу.\n",
    "Один из методов масштабирования — стандартизация данных.\n",
    "\n",
    "Предположим, что все признаки распределены нормально, среднее (англ. mean, M) и дисперсия (лат. dispersio, D) определяются по выборке. Значения признака преобразуются по формуле:\n",
    "$$\n",
    "New\\ value = \\frac{Old\\ value - M}{\\sqrt{D}}\n",
    "$$\n",
    "\n",
    "В `sklearn` есть отдельная структура для стандартизации данных — `StandardScaler` (от англ. «преобразователь масштаба методом стандартизации»). Он находится в модуле `sklearn.preprocessing`.\n",
    "Импортируем `StandardScaler` из библиотеки:\n",
    "\n",
    "from `sklearn.preprocessing` import `StandardScaler`\n",
    "\n",
    "`scaler = StandardScaler()`\n",
    "\n",
    "`scaler.fit(features_train)` "
   ]
  },
  {
   "cell_type": "code",
   "execution_count": 12,
   "id": "d25475d7-d9d7-4c95-bb31-66993a25f1b4",
   "metadata": {},
   "outputs": [
    {
     "data": {
      "text/html": [
       "<div>\n",
       "<style scoped>\n",
       "    .dataframe tbody tr th:only-of-type {\n",
       "        vertical-align: middle;\n",
       "    }\n",
       "\n",
       "    .dataframe tbody tr th {\n",
       "        vertical-align: top;\n",
       "    }\n",
       "\n",
       "    .dataframe thead th {\n",
       "        text-align: right;\n",
       "    }\n",
       "</style>\n",
       "<table border=\"1\" class=\"dataframe\">\n",
       "  <thead>\n",
       "    <tr style=\"text-align: right;\">\n",
       "      <th></th>\n",
       "      <th>Agency</th>\n",
       "      <th>Agency Type</th>\n",
       "      <th>Distribution Channel</th>\n",
       "      <th>Product Name</th>\n",
       "      <th>Duration</th>\n",
       "      <th>Destination</th>\n",
       "      <th>Net Sales</th>\n",
       "      <th>Commission (in value)</th>\n",
       "      <th>Gender</th>\n",
       "      <th>Age</th>\n",
       "    </tr>\n",
       "  </thead>\n",
       "  <tbody>\n",
       "    <tr>\n",
       "      <th>33312</th>\n",
       "      <td>7.0</td>\n",
       "      <td>1.0</td>\n",
       "      <td>1.0</td>\n",
       "      <td>10.0</td>\n",
       "      <td>0.193861</td>\n",
       "      <td>24.0</td>\n",
       "      <td>-2.325353</td>\n",
       "      <td>1.103670</td>\n",
       "      <td>NaN</td>\n",
       "      <td>1.565044</td>\n",
       "    </tr>\n",
       "    <tr>\n",
       "      <th>50154</th>\n",
       "      <td>7.0</td>\n",
       "      <td>1.0</td>\n",
       "      <td>1.0</td>\n",
       "      <td>10.0</td>\n",
       "      <td>NaN</td>\n",
       "      <td>113.0</td>\n",
       "      <td>NaN</td>\n",
       "      <td>NaN</td>\n",
       "      <td>NaN</td>\n",
       "      <td>NaN</td>\n",
       "    </tr>\n",
       "    <tr>\n",
       "      <th>26729</th>\n",
       "      <td>7.0</td>\n",
       "      <td>1.0</td>\n",
       "      <td>1.0</td>\n",
       "      <td>10.0</td>\n",
       "      <td>-0.607112</td>\n",
       "      <td>76.0</td>\n",
       "      <td>-0.177956</td>\n",
       "      <td>1.013577</td>\n",
       "      <td>NaN</td>\n",
       "      <td>-0.214134</td>\n",
       "    </tr>\n",
       "    <tr>\n",
       "      <th>37842</th>\n",
       "      <td>7.0</td>\n",
       "      <td>1.0</td>\n",
       "      <td>1.0</td>\n",
       "      <td>1.0</td>\n",
       "      <td>-0.378262</td>\n",
       "      <td>124.0</td>\n",
       "      <td>-0.347180</td>\n",
       "      <td>-0.770269</td>\n",
       "      <td>NaN</td>\n",
       "      <td>-0.298857</td>\n",
       "    </tr>\n",
       "    <tr>\n",
       "      <th>23588</th>\n",
       "      <td>7.0</td>\n",
       "      <td>1.0</td>\n",
       "      <td>1.0</td>\n",
       "      <td>1.0</td>\n",
       "      <td>-0.063594</td>\n",
       "      <td>76.0</td>\n",
       "      <td>-0.732311</td>\n",
       "      <td>-0.770269</td>\n",
       "      <td>NaN</td>\n",
       "      <td>-0.298857</td>\n",
       "    </tr>\n",
       "  </tbody>\n",
       "</table>\n",
       "</div>"
      ],
      "text/plain": [
       "       Agency  Agency Type  Distribution Channel  Product Name  Duration  \\\n",
       "33312     7.0          1.0                   1.0          10.0  0.193861   \n",
       "50154     7.0          1.0                   1.0          10.0       NaN   \n",
       "26729     7.0          1.0                   1.0          10.0 -0.607112   \n",
       "37842     7.0          1.0                   1.0           1.0 -0.378262   \n",
       "23588     7.0          1.0                   1.0           1.0 -0.063594   \n",
       "\n",
       "       Destination  Net Sales  Commission (in value)  Gender       Age  \n",
       "33312         24.0  -2.325353               1.103670     NaN  1.565044  \n",
       "50154        113.0        NaN                    NaN     NaN       NaN  \n",
       "26729         76.0  -0.177956               1.013577     NaN -0.214134  \n",
       "37842        124.0  -0.347180              -0.770269     NaN -0.298857  \n",
       "23588         76.0  -0.732311              -0.770269     NaN -0.298857  "
      ]
     },
     "execution_count": 12,
     "metadata": {},
     "output_type": "execute_result"
    }
   ],
   "source": [
    "from sklearn.preprocessing import StandardScaler\n",
    "\n",
    "scaler = StandardScaler()\n",
    "\n",
    "numeric = ['Duration', 'Net Sales', 'Commission (in value)', 'Age']\n",
    "\n",
    "features_train[numeric] = (pd.DataFrame(\n",
    "    scaler\n",
    "    .fit_transform(features_train[numeric]),\n",
    "    columns = numeric)\n",
    "              )\n",
    "features_train.head(5)"
   ]
  },
  {
   "cell_type": "code",
   "execution_count": 13,
   "id": "8e150b0d-e421-4a7e-aff2-5ceb5b9a8766",
   "metadata": {},
   "outputs": [
    {
     "name": "stdout",
     "output_type": "stream",
     "text": [
      "The best decision tree depth 5 The best score is: 0.9867350967232531\n"
     ]
    }
   ],
   "source": [
    "from sklearn.tree import DecisionTreeClassifier\n",
    "\n",
    "best_result_decision_tree = 0\n",
    "best_model_decision_tree = None\n",
    "best_depth_decision_tree = None\n",
    "\n",
    "for depth in range(1, 11):\n",
    "    model = DecisionTreeClassifier(random_state=333, max_depth=depth)\n",
    "    model.fit(features_train, target_train)\n",
    "    predictions = model.predict(features_valid)\n",
    "    result = model.score(features_valid, target_valid)\n",
    "    if result > best_result_decision_tree:\n",
    "        best_model_decision_tree = model\n",
    "        best_result_decision_tree = result\n",
    "        best_depth_decision_tree = depth\n",
    "print('The best decision tree depth', best_depth_decision_tree,\n",
    "      'The best score is:', best_result_decision_tree)"
   ]
  },
  {
   "cell_type": "markdown",
   "id": "352db198-d7cc-47e1-b545-f42d0cbfa7f6",
   "metadata": {},
   "source": [
    "## 3. Проверка адекватности модели"
   ]
  },
  {
   "cell_type": "markdown",
   "id": "401a2083-49be-4513-bc84-28b6556c5b2d",
   "metadata": {},
   "source": [
    "Чтобы оценить адекватность модели, проверим, как часто в целевом признаке встречается класс `«1»` или `«0»`. Количество уникальных значений подсчитывается методом `value_counts()`. Он группирует строго одинаковые величины."
   ]
  },
  {
   "cell_type": "code",
   "execution_count": 14,
   "id": "d9473fa8-eb84-4d13-a0d9-bcf76da7fc02",
   "metadata": {},
   "outputs": [
    {
     "name": "stdout",
     "output_type": "stream",
     "text": [
      "Claim\n",
      "0    0.985136\n",
      "1    0.014864\n",
      "Name: proportion, dtype: float64\n"
     ]
    },
    {
     "data": {
      "text/plain": [
       "<Axes: xlabel='Claim'>"
      ]
     },
     "execution_count": 14,
     "metadata": {},
     "output_type": "execute_result"
    },
    {
     "data": {
      "image/png": "[encoded data removed]",
      "text/plain": [
       "<Figure size 640x480 with 1 Axes>"
      ]
     },
     "metadata": {},
     "output_type": "display_data"
    }
   ],
   "source": [
    "class_frequency_original = df['Claim'].value_counts(normalize=True)\n",
    "print(class_frequency_original)\n",
    "class_frequency_original.plot(kind='bar') "
   ]
  },
  {
   "cell_type": "code",
   "execution_count": 15,
   "id": "dc94b160-f020-4c89-b80b-07543385662d",
   "metadata": {},
   "outputs": [
    {
     "name": "stdout",
     "output_type": "stream",
     "text": [
      "0.0    0.941098\n",
      "1.0    0.058902\n",
      "Name: proportion, dtype: float64\n"
     ]
    },
    {
     "data": {
      "text/plain": [
       "<Axes: >"
      ]
     },
     "execution_count": 15,
     "metadata": {},
     "output_type": "execute_result"
    },
    {
     "data": {
      "image/png": "[encoded data removed]",
      "text/plain": [
       "<Figure size 640x480 with 1 Axes>"
      ]
     },
     "metadata": {},
     "output_type": "display_data"
    }
   ],
   "source": [
    "from sklearn.tree import DecisionTreeClassifier\n",
    "from sklearn.metrics import accuracy_score\n",
    "from sklearn.model_selection import train_test_split\n",
    "\n",
    "predicted_valid = pd.Series(model.predict(features_valid))\n",
    "\n",
    "class_frequency_model = predicted_valid.value_counts(normalize=True)\n",
    "print(class_frequency_model)\n",
    "class_frequency_model.plot(kind='bar') "
   ]
  },
  {
   "cell_type": "markdown",
   "id": "dc85940e-0a77-4ab4-8152-76b805674af7",
   "metadata": {},
   "source": [
    "Создайте константную модель: любому объекту она прогнозирует класс `«0»`. Сохраните её предсказания в переменной `target_pred_constant`.\n",
    "Напечатайте на экране значение `accuracy`."
   ]
  },
  {
   "cell_type": "code",
   "execution_count": 24,
   "id": "dfe4d240-8bc5-4a6f-9256-73c761ce7fc6",
   "metadata": {},
   "outputs": [
    {
     "name": "stdout",
     "output_type": "stream",
     "text": [
      "0.9866561389656534\n",
      "Accuracy difference between the best decision tree result and Series full of [0] is 7.895775759969581e-05\n"
     ]
    }
   ],
   "source": [
    "target_pred_constant = pd.Series([0]*len(target_valid))\n",
    "print(accuracy_score(target_valid, target_pred_constant))\n",
    "print(f'Accuracy difference between the best decision tree result and Series full of [0] is {best_result_decision_tree-accuracy_score(target_valid, target_pred_constant)}')"
   ]
  },
  {
   "cell_type": "markdown",
   "id": "fbc252c6-d12a-4eb1-8198-539805764e6d",
   "metadata": {},
   "source": [
    "Модель не проходит проверку на адекватность, так как `accuracy_score` у модели эквивалентна константному значению"
   ]
  },
  {
   "cell_type": "markdown",
   "id": "d210862c-0a29-49cc-a801-63de5fe56ebf",
   "metadata": {},
   "source": [
    "### 4. Истинно положительные ответы\n"
   ]
  },
  {
   "cell_type": "markdown",
   "id": "54ed7a36-6773-4a68-b081-274266e4d130",
   "metadata": {},
   "source": [
    "Вам нужно составить условия на последовательности: объединить их логическим оператором и найти сумму значений. Как вы знаете, оператор and в Pandas записывается символом &:\n",
    "\n",
    "Справиться с дисбалансом и более точно классифицировать ответы помогут новые метрики.\n",
    "Что значит истинно положительный ответ (TP)? Модель пометила объект единицей, и его настоящее значение тоже — 1.\n",
    "\n",
    "В нашей задаче истинно положительный ответ — это количество застрахованных, которые:\n",
    "* по прогнозу модели обратились за компенсацией;\n",
    "* фактически запросили страховую выплату."
   ]
  },
  {
   "cell_type": "code",
   "execution_count": 39,
   "id": "36733012-3bd3-4011-ba29-ac0874e786a4",
   "metadata": {},
   "outputs": [
    {
     "name": "stdout",
     "output_type": "stream",
     "text": [
      "5\n",
      "3\n",
      "4\n",
      "2\n"
     ]
    }
   ],
   "source": [
    "import pandas as pd\n",
    "target = pd.Series([1, 0, 0, 1, 1, 0, 1, 0, 1, 1, 0, 0, 0, 1])\n",
    "predictions = pd.Series([1, 1, 0, 0, 1, 1, 1, 0, 0, 1, 0, 1, 0, 1])\n",
    "\n",
    "#True positive - Model predicted 1 and it's 1.\n",
    "tp = ((target==1) & (predictions==1)).sum()\n",
    "print(tp.sum())\n",
    "\n",
    "#False positive - Model predicted 1 but it's 0.\n",
    "fp = ((target==0) & (predictions==1)).sum()\n",
    "print(fp.sum())\n",
    "\n",
    "#True negative - Model predicted 0 and it's 0.\n",
    "tn = ((target==0) & (predictions==0)).sum()\n",
    "print(tn.sum())\n",
    "\n",
    "#False negative - Model predicted 0 but it's 1.\n",
    "fn = ((target==1) & (predictions==0)).sum()\n",
    "print(fn.sum())"
   ]
  },
  {
   "cell_type": "markdown",
   "id": "05d713b4-dc0a-4bf2-b613-aabb8fb07731",
   "metadata": {},
   "source": [
    "Compute confusion matrix to evaluate the accuracy of a classification.\n",
    "\n",
    "`sklearn.metrics.confusion_matrix(y_true, y_pred, *, labels=None, sample_weight=None, normalize=None`\n",
    "\n",
    "\\begin{array}{c|c|c}\n",
    "\\text{Actual/Predicted} & \\text{Positive (1)} & \\text{Negative (0)} \\\\\n",
    "\\hline\n",
    "\\text{Positive (1)} & \\text{TN (True Negative)} & \\text{FP (False Positive)} \\\\\n",
    "\\text{Negative (0)} & \\text{FN (False Negative)} & \\text{TP (True Positive)} \\\\\n",
    "\\end{array}"
   ]
  },
  {
   "cell_type": "code",
   "execution_count": 53,
   "id": "1ef93e74-d5ef-46ce-b1f3-3f8144118156",
   "metadata": {},
   "outputs": [
    {
     "data": {
      "text/html": [
       "<div>\n",
       "<style scoped>\n",
       "    .dataframe tbody tr th:only-of-type {\n",
       "        vertical-align: middle;\n",
       "    }\n",
       "\n",
       "    .dataframe tbody tr th {\n",
       "        vertical-align: top;\n",
       "    }\n",
       "\n",
       "    .dataframe thead th {\n",
       "        text-align: right;\n",
       "    }\n",
       "</style>\n",
       "<table border=\"1\" class=\"dataframe\">\n",
       "  <thead>\n",
       "    <tr style=\"text-align: right;\">\n",
       "      <th></th>\n",
       "      <th>0</th>\n",
       "      <th>1</th>\n",
       "    </tr>\n",
       "  </thead>\n",
       "  <tbody>\n",
       "    <tr>\n",
       "      <th>0</th>\n",
       "      <td>4</td>\n",
       "      <td>3</td>\n",
       "    </tr>\n",
       "    <tr>\n",
       "      <th>1</th>\n",
       "      <td>2</td>\n",
       "      <td>5</td>\n",
       "    </tr>\n",
       "  </tbody>\n",
       "</table>\n",
       "</div>"
      ],
      "text/plain": [
       "   0  1\n",
       "0  4  3\n",
       "1  2  5"
      ]
     },
     "execution_count": 53,
     "metadata": {},
     "output_type": "execute_result"
    }
   ],
   "source": [
    "from sklearn.metrics import confusion_matrix \n",
    "pd.DataFrame(confusion_matrix(target, predictions)) "
   ]
  },
  {
   "cell_type": "code",
   "execution_count": null,
   "id": "851c905e-50af-4df5-a035-e5324efc00de",
   "metadata": {},
   "outputs": [],
   "source": []
  },
  {
   "cell_type": "code",
   "execution_count": null,
   "id": "8449013e-20b9-4cac-b167-92df7104cbe3",
   "metadata": {},
   "outputs": [],
   "source": []
  }
 ],
 "metadata": {
  "kernelspec": {
   "display_name": "Python 3 (ipykernel)",
   "language": "python",
   "name": "python3"
  },
  "language_info": {
   "codemirror_mode": {
    "name": "ipython",
    "version": 3
   },
   "file_extension": ".py",
   "mimetype": "text/x-python",
   "name": "python",
   "nbconvert_exporter": "python",
   "pygments_lexer": "ipython3",
   "version": "3.12.3"
  }
 },
 "nbformat": 4,
 "nbformat_minor": 5
}
