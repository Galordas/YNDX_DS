{
 "cells": [
  {
   "cell_type": "code",
   "execution_count": 1,
   "id": "cce1045a-25f1-42dd-9589-11d1878f9b69",
   "metadata": {},
   "outputs": [],
   "source": [
    "import pandas as pd\n",
    "import matplotlib.pyplot as plt\n",
    "import numpy as np\n",
    "from scipy import stats as st"
   ]
  },
  {
   "cell_type": "markdown",
   "id": "10317ccd-2c3f-4400-96f8-eeca82873f03",
   "metadata": {},
   "source": [
    "## Work 03 "
   ]
  },
  {
   "cell_type": "code",
   "execution_count": 2,
   "id": "427ecaa7-a459-4c7e-8cb6-aa07a7f3ad6d",
   "metadata": {
    "scrolled": true
   },
   "outputs": [],
   "source": [
    "import random\n",
    "random.seed(1111)  # метод seed() задаёт степень случайности, не меняйте её\n",
    "def calculate_p(N):\n",
    "    cnt_21_40 = 0\n",
    "    for i in range(N):\n",
    "        random_integer =  random.randint(1,100)\n",
    "        if (random_integer >=21) & (random_integer <=40):\n",
    "            cnt_21_40 +=1\n",
    "    return cnt_21_40 / N"
   ]
  },
  {
   "cell_type": "code",
   "execution_count": 3,
   "id": "8b826572-2d96-4b22-9fff-15cd24ef44f3",
   "metadata": {
    "scrolled": true
   },
   "outputs": [
    {
     "data": {
      "text/plain": [
       "0.15"
      ]
     },
     "execution_count": 3,
     "metadata": {},
     "output_type": "execute_result"
    }
   ],
   "source": [
    "p_20 = calculate_p(20)\n",
    "p_20"
   ]
  },
  {
   "cell_type": "code",
   "execution_count": 4,
   "id": "f13298a3-1b70-45d0-8e07-90f7dd91e699",
   "metadata": {
    "scrolled": true
   },
   "outputs": [
    {
     "data": {
      "text/plain": [
       "0.255"
      ]
     },
     "execution_count": 4,
     "metadata": {},
     "output_type": "execute_result"
    }
   ],
   "source": [
    "p_400 = calculate_p(400)\n",
    "p_400"
   ]
  },
  {
   "cell_type": "code",
   "execution_count": 5,
   "id": "a90202e1-0f22-4494-a354-a61f16eb0c92",
   "metadata": {},
   "outputs": [
    {
     "data": {
      "text/plain": [
       "0.2003"
      ]
     },
     "execution_count": 5,
     "metadata": {},
     "output_type": "execute_result"
    }
   ],
   "source": [
    "p_10000 = calculate_p(10000)\n",
    "p_10000"
   ]
  },
  {
   "cell_type": "markdown",
   "id": "21a25e16-5581-487d-9e81-2e4466e9563f",
   "metadata": {},
   "source": [
    "## Work 05"
   ]
  },
  {
   "cell_type": "code",
   "execution_count": 6,
   "id": "b10df99d-2542-4dea-8785-b993e4d42c90",
   "metadata": {},
   "outputs": [],
   "source": [
    "base_row = np.arange(10, 16)  #array([10, 11, 12, 13, 14, 15])\n",
    "rows = np.arange(6).reshape(6, 1)  #\n",
    "# array([10, 11, 12, 13, 14, 15]) +\n",
    "# array([[0],\n",
    "#        [1],\n",
    "#        [2],\n",
    "#        [3],\n",
    "#        [4],\n",
    "#        [5]])\n",
    "# =\n",
    "# array([[10, 11, 12, 13, 14, 15],\n",
    "#        [11, 12, 13, 14, 15, 16],\n",
    "#        [12, 13, 14, 15, 16, 17],\n",
    "#        [13, 14, 15, 16, 17, 18],\n",
    "#        [14, 15, 16, 17, 18, 19],\n",
    "#        [15, 16, 17, 18, 19, 20]])\n",
    "\n",
    "spot_matrix = base_row + rows\n",
    "\n",
    "\n",
    "spot_counts = {}\n",
    "\n",
    "for i in range(0, 6):\n",
    "    for j in range(0,6):\n",
    "        if spot_matrix[i][j] not in spot_counts.keys():\n",
    "            spot_counts[spot_matrix[i][j]] = 1\n",
    "        else:\n",
    "            spot_counts[spot_matrix[i][j]] +=1\n",
    "\n",
    "# spot_counts_sum = 0\n",
    "# for i in spot_counts:\n",
    "#     spot_counts_sum += spot_counts[i]\n",
    "spot_counts_sum = spot_matrix.size\n",
    "\n",
    "spot_prob = {i : spot_counts[i]/spot_counts_sum for i in spot_counts}"
   ]
  },
  {
   "cell_type": "code",
   "execution_count": 7,
   "id": "5dd9187d-692f-4c4b-b424-b579615113f2",
   "metadata": {},
   "outputs": [
    {
     "data": {
      "text/plain": [
       "1.0"
      ]
     },
     "execution_count": 7,
     "metadata": {},
     "output_type": "execute_result"
    }
   ],
   "source": [
    "sum(spot_prob.values())"
   ]
  },
  {
   "cell_type": "markdown",
   "id": "d2f60c67-cb01-46d3-bae0-e5623b9bb378",
   "metadata": {},
   "source": [
    "## 06. Study"
   ]
  },
  {
   "cell_type": "markdown",
   "id": "f82ffcdc-dd71-4fb0-ae8f-43ebbf83b6cb",
   "metadata": {},
   "source": [
    "Математическое ожидание случайной величины — сумма всех значений случайной величины, помноженных на их вероятности:\n",
    "$$ \n",
    "E(x)  = ∑p(x_i)x_i \n",
    "$$\n",
    "Зная математическое ожидание самой случайной величины и её квадрата, дисперсию находят по формуле:\n",
    "$$ \n",
    "Var(X)  = E(X^2) - (E(X))^2\n",
    "$$"
   ]
  },
  {
   "cell_type": "code",
   "execution_count": 8,
   "id": "f27c2e26-31d1-4eaa-ac2c-eb48214ecff0",
   "metadata": {},
   "outputs": [
    {
     "name": "stdout",
     "output_type": "stream",
     "text": [
      "7.0\n"
     ]
    },
    {
     "data": {
      "text/plain": [
       "15.900000000000006"
      ]
     },
     "execution_count": 8,
     "metadata": {},
     "output_type": "execute_result"
    }
   ],
   "source": [
    "x_probs = {\n",
    "        '3': 0.1,\n",
    "        '4': 0.2,\n",
    "        '5' : 0.2,\n",
    "        '7' : 0.3,\n",
    "        '11' : 0.1,\n",
    "        '16' : 0.05,\n",
    "        '18': 0.05  \n",
    "}\n",
    "# E(X): для каждого элемента словаря вычисляем произведение вероятности и значения \n",
    "# случайной величины (целочисленное представление ключа словаря):\n",
    "expectation = sum([int(i)*x_probs[i] for i in x_probs]) \n",
    "print(expectation)\n",
    "\n",
    "square_of_expectation = expectation ** 2\n",
    "expectation_of_squares = sum(\n",
    "    [int(i)**2 * x_probs[i] for i in x_probs]\n",
    ")\n",
    "variance = expectation_of_squares - square_of_expectation\n",
    "variance"
   ]
  },
  {
   "cell_type": "markdown",
   "id": "ac804865-6557-4869-ba43-ab15ec8d7d0a",
   "metadata": {},
   "source": [
    "## 06. Work"
   ]
  },
  {
   "cell_type": "code",
   "execution_count": 9,
   "id": "25a3c939-f685-4fb0-87ac-c65c301d8842",
   "metadata": {},
   "outputs": [
    {
     "name": "stdout",
     "output_type": "stream",
     "text": [
      "Математическое ожидание равно 5.5\n",
      "Дисперсия равна 55.349999999999994\n"
     ]
    }
   ],
   "source": [
    "import numpy as np\n",
    "x_probs = {\n",
    "    '-4': 0.05,\n",
    "    '-2': 0.25,\n",
    "    '0': 0.1,\n",
    "    '1': 0.1,\n",
    "    '5': 0.1,\n",
    "    '7': 0.05,\n",
    "    '15': 0.35,\n",
    "}\n",
    "expectation = sum(int(i)*x_probs[i] for i in x_probs)\n",
    "\n",
    "variance = sum(int(i)**2 * x_probs[i] for i in x_probs)-expectation**2\n",
    "\n",
    "print('Математическое ожидание равно', expectation)\n",
    "print('Дисперсия равна', variance)"
   ]
  },
  {
   "cell_type": "markdown",
   "id": "8cb8a91a-e8fb-4474-830a-d55157b98ec7",
   "metadata": {},
   "source": [
    "Известно, что питоны разных знаков Зодиака дорастают до различного взрослого веса. Водные знаки весят 2 кг, Огненные и Земляные — 3 кг, Воздушные — 5 кг. Питоны рождаются с одинаковой частотой на протяжении всего года.\n",
    "* Запишите в словарь weight_probs распределение вероятностей для случайной величины «Вес питона». В качестве ключей словаря используйте строковые значения, а не числовые. \n",
    "* Найдите математическое ожидание и дисперсию случайной величины, запишите их в переменные expectation и variance.\n",
    "* Результат выведите на экран."
   ]
  },
  {
   "cell_type": "code",
   "execution_count": 10,
   "id": "b1156104-2da9-4b91-a6fb-14c6bb8a3f37",
   "metadata": {},
   "outputs": [
    {
     "name": "stdout",
     "output_type": "stream",
     "text": [
      "Математическое ожидание равно 3.25\n",
      "Дисперсия равна 1.1875\n"
     ]
    }
   ],
   "source": [
    "weight_probs = {\n",
    "    '2' : 0.25 ,\n",
    "    '3' : 0.5,\n",
    "    '5' : 0.25\n",
    "}\n",
    "\n",
    "expectation = sum(int(i)*weight_probs[i] for i in weight_probs)\n",
    "variance = sum(int(i)**2 * weight_probs[i] for i in weight_probs) - expectation**2\n",
    "\n",
    "print('Математическое ожидание равно', expectation)\n",
    "print('Дисперсия равна', variance)"
   ]
  },
  {
   "cell_type": "markdown",
   "id": "c76957dc-8f14-449f-8e5f-7068a0c7eb7d",
   "metadata": {},
   "source": [
    "##  07, 08. Study"
   ]
  },
  {
   "cell_type": "markdown",
   "id": "78fc70f8-2897-4d32-a339-6b65a8f6d4f3",
   "metadata": {},
   "source": [
    "Часто встречаются эксперименты всего с двумя исходами. Такие эксперименты называются биномиальными (от лат. bis — «два», nomen — «имя»)."
   ]
  },
  {
   "cell_type": "markdown",
   "id": "9c860015-65c8-49b1-bfc3-f50d92c4b0cf",
   "metadata": {},
   "source": [
    "Пользователь попадает в рекламный баннер с первого клика в 88% случаев. В 12% случаев промахивается: попадает на страницу рядом с баннером.\n",
    "Какова вероятность, что из 5 независимо кликающих по баннеру пользователей первые три попадут по баннеру, а следующие двое промажут?"
   ]
  },
  {
   "cell_type": "code",
   "execution_count": 11,
   "id": "5ed4051a-fb8a-4105-bc25-aa4d8ac8eef4",
   "metadata": {},
   "outputs": [
    {
     "data": {
      "text/plain": [
       "0.0098131968"
      ]
     },
     "execution_count": 11,
     "metadata": {},
     "output_type": "execute_result"
    }
   ],
   "source": [
    "prob = 0.88**3*0.12**2\n",
    "prob"
   ]
  },
  {
   "cell_type": "markdown",
   "id": "fe325773-bad1-4e82-bab0-669bf1f6b52c",
   "metadata": {},
   "source": [
    "Количество способов выбрать k успехов из n повторений эксперимента находят по формуле:\n",
    "\n",
    "$$ \n",
    "C_n^k  = n!/k!(n-k)! \n",
    "$$\n",
    "\n",
    "Изучим работу формулы на примере. \n",
    "По результатам розыгрыша в группе вашего проекта в социальной сети победитель выиграл билеты на три сеанса в кинотеатре.\n",
    "По правилам конкурса победитель должен выбрать даты посещения кино в течение двух недель после розыгрыша, не более одного сеанса в день. Сколько вариантов выбора трёх из предстоящих четырнадцати дней есть у пользователя?\n",
    "\n",
    "$$ \n",
    "C_{14}^3  = 14!/3!(14-3)! = 364\n",
    "$$\n",
    "\n",
    "Если вероятность успеха p и неуспеха 1 - p, а эксперимент был повторён n раз, то вероятность любого количества успехов k из этих n экспериментов:\n",
    "\n",
    "$$ \n",
    "P(k \\text{ успехов из } n \\text{ попыток}) = C_n^kp^k(1-p)^{n-k}\n",
    "$$"
   ]
  },
  {
   "cell_type": "markdown",
   "id": "52386da4-95e6-4ad9-8888-331d23ff0074",
   "metadata": {},
   "source": [
    "Зафиксируем условия, при которых можно утверждать, что случайная величина распределена биномиально:\n",
    "* проводится конечное фиксированное число попыток n;\n",
    "* каждая попытка — простой биномиальный эксперимент ровно с двумя исходами;\n",
    "* попытки независимы между собой;\n",
    "* вероятность успеха p одинаковая для всех n попыток."
   ]
  },
  {
   "cell_type": "code",
   "execution_count": 28,
   "id": "c7570e1d-10b4-43bc-abcc-c16c81f09289",
   "metadata": {},
   "outputs": [
    {
     "data": {
      "image/png": "[encoded data removed]",
      "text/plain": [
       "<Figure size 640x480 with 1 Axes>"
      ]
     },
     "metadata": {},
     "output_type": "display_data"
    },
    {
     "name": "stdout",
     "output_type": "stream",
     "text": [
      "0.19941610769218138\n",
      "0.0717897987691853\n"
     ]
    }
   ],
   "source": [
    "from matplotlib import pyplot as plt\n",
    "from math import factorial\n",
    "\n",
    "n = 25\n",
    "p = 0.1\n",
    "\n",
    "distr = []\n",
    "\n",
    "for k in range(0, n + 1):\n",
    "    choose = factorial(n) / (factorial(k) * factorial(n - k))\n",
    "    prob = choose * p ** k * (1 - p) ** (n - k)\n",
    "    distr.append(prob)\n",
    "\n",
    "plt.bar(range(0, n + 1), distr) \n",
    "plt.title('Probability of getting a number of positive outcomes with n tryes')\n",
    "plt.show()\n",
    "choose = factorial(n) / (factorial(1) * factorial(n - 1))\n",
    "prob = choose * p ** 1 * (1 - p) ** (n - 1)\n",
    "print(prob)\n",
    "\n",
    "choose = factorial(n) / (factorial(0) * factorial(n - 0))\n",
    "prob = choose * p ** 0 * (1 - p) ** (n - 0)\n",
    "print(prob)"
   ]
  },
  {
   "cell_type": "markdown",
   "id": "b7850de1-0ccd-4a1c-94de-db5b3b4ef39d",
   "metadata": {},
   "source": []
  },
  {
   "cell_type": "markdown",
   "id": "a958a4aa-671e-4f38-a9d3-c28c9a6581cb",
   "metadata": {},
   "source": [
    "## 08. Work"
   ]
  },
  {
   "cell_type": "markdown",
   "id": "86c8d8e9-2cdc-458e-b2a8-8e435ecd9807",
   "metadata": {},
   "source": [
    "1.\n",
    "В некоторые дни питонов в питонопитомнике кормят грушами, а в некоторые — яблоками.\n",
    "\n",
    "* На ближайшую неделю (7 дней) есть запас на 3 дня кормления грушами и на 4 дня кормления яблоками.\n",
    "* День может быть только грушевым или только яблочным, смешивание фруктов не разрешается.\n",
    "* Вариант диеты — это, например, (груши, яблоки, груши, груши, яблоки, яблоки, яблоки).\n",
    "* Сколько разных вариантов грушево-яблочной диеты можно составить для питонов на ближайшую неделю? Запишите результат в переменную n_diets и выведите на экран."
   ]
  },
  {
   "cell_type": "code",
   "execution_count": 38,
   "id": "037efc52-3db2-4f07-a825-22f0ebffa958",
   "metadata": {},
   "outputs": [
    {
     "name": "stdout",
     "output_type": "stream",
     "text": [
      "35.0\n",
      "35.0\n"
     ]
    }
   ],
   "source": [
    "from math import factorial\n",
    "# либо k = 3, n = 7\n",
    "# либо k = 4, n = 7\n",
    "n_diets = factorial(7) / (factorial(3) * factorial(7-3))\n",
    "print(n_diets)\n",
    "n_diets = factorial(7) / (factorial(4) * factorial(7-4))\n",
    "print(n_diets)"
   ]
  },
  {
   "cell_type": "markdown",
   "id": "00d6dd9c-5c91-46ef-8548-8f55d8a2c79f",
   "metadata": {},
   "source": [
    "2. Питон Петя решил после питонопитомника поступить в питоноакадемию.\n",
    "* Для этого ему надо сдать шесть разных (не зависящих друг от друга) экзаменов. Петя думает, что он отлично подготовился:\n",
    "*  вероятность завалить каждый из этих экзаменов, судя по пробным вариантам, для него равна 15%.\n",
    "*  Постройте распределение вероятностей для случайной величины «количество заваленных Петей экзаменов» и гистограмму для нее."
   ]
  },
  {
   "cell_type": "code",
   "execution_count": 51,
   "id": "6a0850c5-a189-48fc-ab62-210650718eca",
   "metadata": {},
   "outputs": [
    {
     "data": {
      "text/plain": [
       "<BarContainer object of 7 artists>"
      ]
     },
     "execution_count": 51,
     "metadata": {},
     "output_type": "execute_result"
    },
    {
     "data": {
      "image/png": "[encoded data removed]",
      "text/plain": [
       "<Figure size 640x480 with 1 Axes>"
      ]
     },
     "metadata": {},
     "output_type": "display_data"
    }
   ],
   "source": [
    "p = 0.85\n",
    "n = 6\n",
    "success_range = []\n",
    "\n",
    "for i in range(0, n+1):\n",
    "    choose = factorial (n) / (factorial(i) * factorial(n-i))\n",
    "    prob = choose * p**i * (1-p)**(n-i)\n",
    "    success_range.append(prob)\n",
    "\n",
    "success_range\n",
    "plt.bar(range(0, n+1), success_range) "
   ]
  },
  {
   "cell_type": "markdown",
   "id": "81dcd540-0428-44df-8ee2-6fd793af4797",
   "metadata": {},
   "source": [
    "3. Ваша компания устраивает важное мероприятие.\n",
    "* Пиарщики ищут хотя бы шесть инфопартнёров, чтобы обеспечить освещение этого события.\n",
    "* По опыту, соглашается примерно одно из пяти медиа, с которыми начинаются переговоры.\n",
    "* Постройте распределения вероятностей и гистограммы для случайной величины «количество инфопартнёров», если вы начали переговоры с 30 медиа"
   ]
  },
  {
   "cell_type": "code",
   "execution_count": 53,
   "id": "87d83d0b-b46f-4ea6-aad5-daaf24c3b8b0",
   "metadata": {},
   "outputs": [
    {
     "data": {
      "text/plain": [
       "<BarContainer object of 31 artists>"
      ]
     },
     "execution_count": 53,
     "metadata": {},
     "output_type": "execute_result"
    },
    {
     "data": {
      "image/png": "[encoded data removed]",
      "text/plain": [
       "<Figure size 640x480 with 1 Axes>"
      ]
     },
     "metadata": {},
     "output_type": "display_data"
    }
   ],
   "source": [
    "p=0.2\n",
    "n=30\n",
    "success_range =[]\n",
    "for i in range(0, n+1):\n",
    "    choose = factorial(n)/(factorial(i)*factorial(n-i))\n",
    "    prob = choose * p**i * (1-p)**(n-i)\n",
    "    success_range.append(prob)\n",
    "plt.bar(range(0, n+1), success_range)    "
   ]
  },
  {
   "cell_type": "markdown",
   "id": "fb4f6669-9de6-4a34-8985-cbb75d262795",
   "metadata": {},
   "source": [
    "4. Постройте распределения вероятностей и гистограммы для случайной величины «количество инфопартнёров», если вы начали переговоры с 45 медиа."
   ]
  },
  {
   "cell_type": "code",
   "execution_count": 55,
   "id": "ff081c03-bdef-419a-8a2d-8115b911fef9",
   "metadata": {},
   "outputs": [
    {
     "data": {
      "text/plain": [
       "<BarContainer object of 46 artists>"
      ]
     },
     "execution_count": 55,
     "metadata": {},
     "output_type": "execute_result"
    },
    {
     "data": {
      "image/png": "[encoded data removed]",
      "text/plain": [
       "<Figure size 640x480 with 1 Axes>"
      ]
     },
     "metadata": {},
     "output_type": "display_data"
    }
   ],
   "source": [
    "p=0.2\n",
    "n=45\n",
    "success_range =[]\n",
    "for i in range(0, n+1):\n",
    "    choose = factorial(n)/(factorial(i)*factorial(n-i))\n",
    "    prob = choose * p**i * (1-p)**(n-i)\n",
    "    success_range.append(prob)\n",
    "plt.bar(range(0, n+1), success_range)"
   ]
  },
  {
   "cell_type": "markdown",
   "id": "90dc6142-1eea-41e0-ba10-9e36055605e4",
   "metadata": {},
   "source": [
    "5. Постройте распределения вероятностей и гистограммы для случайной величины «количество инфопартнёров», если вы начали переговоры с 60 медиа."
   ]
  },
  {
   "cell_type": "code",
   "execution_count": 60,
   "id": "266b5311-d7ac-46e2-b42e-84bcf9aed1ae",
   "metadata": {},
   "outputs": [
    {
     "data": {
      "text/plain": [
       "<BarContainer object of 61 artists>"
      ]
     },
     "execution_count": 60,
     "metadata": {},
     "output_type": "execute_result"
    },
    {
     "data": {
      "image/png": "[encoded data removed]",
      "text/plain": [
       "<Figure size 640x480 with 1 Axes>"
      ]
     },
     "metadata": {},
     "output_type": "display_data"
    }
   ],
   "source": [
    "p=0.2\n",
    "n=60\n",
    "success_range =[]\n",
    "for i in range(0, n+1):\n",
    "    choose = factorial(n)/(factorial(i)*factorial(n-i))\n",
    "    prob = choose * p**i * (1-p)**(n-i)\n",
    "    success_range.append(prob)\n",
    "plt.bar(range(0, n+1), success_range)"
   ]
  },
  {
   "cell_type": "markdown",
   "id": "57afd38a-48d7-4f88-b536-c76062a2e936",
   "metadata": {},
   "source": [
    "Ключевая теорема в статистике — центральная предельная теорема, или ЦПТ. Её смысл в следующем: «Много независимых случайных величин, сложенных вместе, дают близкое к нормальному распределение»."
   ]
  },
  {
   "cell_type": "markdown",
   "id": "2ff06c68-30a9-47ee-9346-bee8276574fb",
   "metadata": {},
   "source": [
    "Нормальное распределение принципиально отличается от биномиального.\n",
    "Нормальное распределение определяют два параметра — среднее и дисперсия:\n",
    "$$\n",
    "X∼N(μ,σ^2)\n",
    "$$\n",
    "\n",
    "Эта запись читается так: переменная X\n",
    "распределена нормально со средним мю `(μ)` и дисперсией сигма в квадрате `(σ²)`, то есть стандартным отклонением сигма.\n",
    "Попробуйте самостоятельно выставить значения μ и σ в интерактивной иллюстрации ниже. \n",
    "Посмотрите, как меняется график нормального распределения в зависимости от разных параметров. Проценты показывают приблизительную вероятность попасть в интервал между целыми значениями стандартных отклонений от \n",
    "`μ` — центра распределения.\n",
    "\n",
    "Часто параметры распределения известны (если не точно, то по выборке — достаточно близко). Чтобы найти вероятность попадания значений в те или иные интервалы, понадобятся два метода из пакета `scipy.stats`: `norm.ppf` и `norm.cdf`.\n",
    "\n",
    "* `ppf` — от англ. percent point function — «функция процентных значений»;\n",
    "* `cdf` — от англ. cumulative distribution function — «кумулятивная функция распределения».\n",
    "Обе функции работают с нормальным распределением, заданным своими средним и стандартным отклонением:\n",
    "* Метод `norm.ppf` выдаёт значение переменной для известной вероятности интервала слева от этого значения (<=).\n",
    "* Метод `norm.cdf`, наоборот, выдаёт для известного значения вероятность интервала слева от этого значения (<=)."
   ]
  },
  {
   "cell_type": "code",
   "execution_count": 69,
   "id": "01558499-a7e2-4d2d-8e1c-36c942667fb2",
   "metadata": {},
   "outputs": [
    {
     "name": "stdout",
     "output_type": "stream",
     "text": [
      "0.5\n"
     ]
    },
    {
     "data": {
      "image/png": "[encoded data removed]",
      "text/plain": [
       "<Figure size 640x480 with 1 Axes>"
      ]
     },
     "metadata": {},
     "output_type": "display_data"
    }
   ],
   "source": [
    "from scipy import stats as st\n",
    "\n",
    "# задаём нормальное распределение с математическим ожиданием 1000 и стандартным отклонением 100\n",
    "distr = st.norm(1000, 100) \n",
    "\n",
    "x = 1000\n",
    "\n",
    "result = distr.cdf(x)  # считаем вероятность получить значение x\n",
    "print(result)\n",
    "\n",
    "# Создаём диапазон значений для построения графика\n",
    "x_values = np.linspace(distr.ppf(0.001), distr.ppf(0.999), 100) \n",
    "# distr.ppf(0.001) вычисляет значение, ниже которого находится 0.1% площади под кривой распределения.\n",
    "# distr.ppf(0.999) вычисляет значение, ниже которого находится 99.9% площади под кривой распределения.\n",
    "# np.linspace(start, stop, num) создаёт массив из num равномерно распределённых точек между start и stop. \n",
    "# В данном случае мы создаём 100 точек между значениями, соответствующими 0.1% и 99.9% площади под кривой.\n",
    "# Вычисляем плотность вероятности для каждого значения\n",
    "\n",
    "pdf_values = distr.pdf(x_values)\n",
    "\n",
    "# Строим график\n",
    "plt.plot(x_values, pdf_values, label='normal distribution')\n",
    "plt.fill_between(x_values, pdf_values, color='blue', alpha=0.2)\n",
    "plt.title('График нормального распределения')\n",
    "plt.xlabel('Значение')\n",
    "plt.ylabel('Плотность вероятности')\n",
    "plt.legend()\n",
    "plt.show()"
   ]
  },
  {
   "cell_type": "code",
   "execution_count": null,
   "id": "8249424d-8406-4712-871b-bd3db8bc088a",
   "metadata": {},
   "outputs": [],
   "source": []
  },
  {
   "cell_type": "code",
   "execution_count": null,
   "id": "43b72f61-52f3-4891-8cdc-963a0b8d16f4",
   "metadata": {},
   "outputs": [],
   "source": []
  }
 ],
 "metadata": {
  "kernelspec": {
   "display_name": "Python 3 (ipykernel)",
   "language": "python",
   "name": "python3"
  },
  "language_info": {
   "codemirror_mode": {
    "name": "ipython",
    "version": 3
   },
   "file_extension": ".py",
   "mimetype": "text/x-python",
   "name": "python",
   "nbconvert_exporter": "python",
   "pygments_lexer": "ipython3",
   "version": "3.12.3"
  }
 },
 "nbformat": 4,
 "nbformat_minor": 5
}
