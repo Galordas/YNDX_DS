{
 "cells": [
  {
   "cell_type": "markdown",
   "id": "a9091220-df85-42e7-8774-d9a8461390e1",
   "metadata": {},
   "source": [
    "## Tariffs"
   ]
  },
  {
   "cell_type": "markdown",
   "id": "53f6cdc8-3d52-48f9-a35f-3e1dff096e40",
   "metadata": {},
   "source": [
    "## 1. Import"
   ]
  },
  {
   "cell_type": "code",
   "execution_count": 1,
   "id": "c4c5c783-c479-459c-87ac-91f5aa8c838d",
   "metadata": {},
   "outputs": [],
   "source": [
    "import pandas as pd\n",
    "import matplotlib.pyplot as plt\n",
    "import numpy as np\n",
    "from scipy import stats as st"
   ]
  },
  {
   "cell_type": "code",
   "execution_count": 2,
   "id": "6c6f2600-bed1-4cc1-8afe-7cd7ceadec1d",
   "metadata": {},
   "outputs": [],
   "source": [
    "pd.set_option('display.max_columns', None) # so head funciton would display all the columns"
   ]
  },
  {
   "cell_type": "code",
   "execution_count": 3,
   "id": "52bb80ad-ec61-4c8a-9558-8ee55c5b3951",
   "metadata": {},
   "outputs": [],
   "source": [
    "calls = pd.read_csv(r'C:\\Users\\stazher3\\Downloads\\Yandex.Disk.Files\\4\\calls.csv')\n",
    "internet = pd.read_csv(r'C:\\Users\\stazher3\\Downloads\\Yandex.Disk.Files\\4\\internet.csv')\n",
    "messages = pd.read_csv(r'C:\\Users\\stazher3\\Downloads\\Yandex.Disk.Files\\4\\messages.csv')\n",
    "tariffs = pd.read_csv(r'C:\\Users\\stazher3\\Downloads\\Yandex.Disk.Files\\4\\tariffs.csv')\n",
    "users = pd.read_csv(r'C:\\Users\\stazher3\\Downloads\\Yandex.Disk.Files\\4\\users.csv')"
   ]
  },
  {
   "cell_type": "code",
   "execution_count": 4,
   "id": "e30e35f3-d0ba-423e-a3a0-77cd6396b465",
   "metadata": {},
   "outputs": [
    {
     "name": "stdout",
     "output_type": "stream",
     "text": [
      "<class 'pandas.core.frame.DataFrame'>\n",
      "RangeIndex: 500 entries, 0 to 499\n",
      "Data columns (total 8 columns):\n",
      " #   Column      Non-Null Count  Dtype \n",
      "---  ------      --------------  ----- \n",
      " 0   user_id     500 non-null    int64 \n",
      " 1   age         500 non-null    int64 \n",
      " 2   churn_date  38 non-null     object\n",
      " 3   city        500 non-null    object\n",
      " 4   first_name  500 non-null    object\n",
      " 5   last_name   500 non-null    object\n",
      " 6   reg_date    500 non-null    object\n",
      " 7   tariff      500 non-null    object\n",
      "dtypes: int64(2), object(6)\n",
      "memory usage: 31.4+ KB\n"
     ]
    },
    {
     "data": {
      "text/html": [
       "<div>\n",
       "<style scoped>\n",
       "    .dataframe tbody tr th:only-of-type {\n",
       "        vertical-align: middle;\n",
       "    }\n",
       "\n",
       "    .dataframe tbody tr th {\n",
       "        vertical-align: top;\n",
       "    }\n",
       "\n",
       "    .dataframe thead th {\n",
       "        text-align: right;\n",
       "    }\n",
       "</style>\n",
       "<table border=\"1\" class=\"dataframe\">\n",
       "  <thead>\n",
       "    <tr style=\"text-align: right;\">\n",
       "      <th></th>\n",
       "      <th>user_id</th>\n",
       "      <th>age</th>\n",
       "      <th>churn_date</th>\n",
       "      <th>city</th>\n",
       "      <th>first_name</th>\n",
       "      <th>last_name</th>\n",
       "      <th>reg_date</th>\n",
       "      <th>tariff</th>\n",
       "    </tr>\n",
       "  </thead>\n",
       "  <tbody>\n",
       "    <tr>\n",
       "      <th>0</th>\n",
       "      <td>1000</td>\n",
       "      <td>52</td>\n",
       "      <td>NaN</td>\n",
       "      <td>Краснодар</td>\n",
       "      <td>Рафаил</td>\n",
       "      <td>Верещагин</td>\n",
       "      <td>2018-05-25</td>\n",
       "      <td>ultra</td>\n",
       "    </tr>\n",
       "    <tr>\n",
       "      <th>1</th>\n",
       "      <td>1001</td>\n",
       "      <td>41</td>\n",
       "      <td>NaN</td>\n",
       "      <td>Москва</td>\n",
       "      <td>Иван</td>\n",
       "      <td>Ежов</td>\n",
       "      <td>2018-11-01</td>\n",
       "      <td>smart</td>\n",
       "    </tr>\n",
       "  </tbody>\n",
       "</table>\n",
       "</div>"
      ],
      "text/plain": [
       "   user_id  age churn_date       city first_name  last_name    reg_date tariff\n",
       "0     1000   52        NaN  Краснодар     Рафаил  Верещагин  2018-05-25  ultra\n",
       "1     1001   41        NaN     Москва       Иван       Ежов  2018-11-01  smart"
      ]
     },
     "execution_count": 4,
     "metadata": {},
     "output_type": "execute_result"
    }
   ],
   "source": [
    "users.info()\n",
    "users.head(2)"
   ]
  },
  {
   "cell_type": "markdown",
   "id": "ec1e4ce9-0d4b-464f-b3d1-5e0fbcc3065c",
   "metadata": {},
   "source": [
    "## 2. Correction"
   ]
  },
  {
   "cell_type": "markdown",
   "id": "ad83b7e5-5140-40c0-9c67-ee3158bfa4c1",
   "metadata": {},
   "source": [
    "### 2.1. Calls correction"
   ]
  },
  {
   "cell_type": "code",
   "execution_count": 5,
   "id": "36e0b93d-2b6d-430d-88be-2fa98ba1a6f6",
   "metadata": {},
   "outputs": [
    {
     "name": "stdout",
     "output_type": "stream",
     "text": [
      "<class 'pandas.core.frame.DataFrame'>\n",
      "RangeIndex: 202607 entries, 0 to 202606\n",
      "Data columns (total 4 columns):\n",
      " #   Column     Non-Null Count   Dtype  \n",
      "---  ------     --------------   -----  \n",
      " 0   id         202607 non-null  object \n",
      " 1   call_date  202607 non-null  object \n",
      " 2   duration   202607 non-null  float64\n",
      " 3   user_id    202607 non-null  int64  \n",
      "dtypes: float64(1), int64(1), object(2)\n",
      "memory usage: 6.2+ MB\n"
     ]
    },
    {
     "data": {
      "text/html": [
       "<div>\n",
       "<style scoped>\n",
       "    .dataframe tbody tr th:only-of-type {\n",
       "        vertical-align: middle;\n",
       "    }\n",
       "\n",
       "    .dataframe tbody tr th {\n",
       "        vertical-align: top;\n",
       "    }\n",
       "\n",
       "    .dataframe thead th {\n",
       "        text-align: right;\n",
       "    }\n",
       "</style>\n",
       "<table border=\"1\" class=\"dataframe\">\n",
       "  <thead>\n",
       "    <tr style=\"text-align: right;\">\n",
       "      <th></th>\n",
       "      <th>id</th>\n",
       "      <th>call_date</th>\n",
       "      <th>duration</th>\n",
       "      <th>user_id</th>\n",
       "    </tr>\n",
       "  </thead>\n",
       "  <tbody>\n",
       "    <tr>\n",
       "      <th>0</th>\n",
       "      <td>1000_0</td>\n",
       "      <td>2018-07-25</td>\n",
       "      <td>0.0</td>\n",
       "      <td>1000</td>\n",
       "    </tr>\n",
       "    <tr>\n",
       "      <th>1</th>\n",
       "      <td>1000_1</td>\n",
       "      <td>2018-08-17</td>\n",
       "      <td>0.0</td>\n",
       "      <td>1000</td>\n",
       "    </tr>\n",
       "  </tbody>\n",
       "</table>\n",
       "</div>"
      ],
      "text/plain": [
       "       id   call_date  duration  user_id\n",
       "0  1000_0  2018-07-25       0.0     1000\n",
       "1  1000_1  2018-08-17       0.0     1000"
      ]
     },
     "execution_count": 5,
     "metadata": {},
     "output_type": "execute_result"
    }
   ],
   "source": [
    "calls.info()\n",
    "calls.head(2)"
   ]
  },
  {
   "cell_type": "code",
   "execution_count": 6,
   "id": "6c3d2cc1-a306-45a1-85c2-7b8521fe8c19",
   "metadata": {},
   "outputs": [],
   "source": [
    "calls['call_date'] = pd.to_datetime(calls['call_date'], format='%Y-%m-%d') \n",
    "calls['month'] = calls.call_date.dt.month"
   ]
  },
  {
   "cell_type": "code",
   "execution_count": 7,
   "id": "ff434732-0999-4311-99ce-36ca71af9b9b",
   "metadata": {},
   "outputs": [
    {
     "data": {
      "text/plain": [
       "39613"
      ]
     },
     "execution_count": 7,
     "metadata": {},
     "output_type": "execute_result"
    }
   ],
   "source": [
    "# calls.duration.hist(bins=200, range=(0.0001,20))\n",
    "len(calls.query('duration == 0 '))"
   ]
  },
  {
   "cell_type": "code",
   "execution_count": 8,
   "id": "f7c33a60-ccc9-4e9a-a5bd-b1b5d40bf750",
   "metadata": {},
   "outputs": [],
   "source": [
    "calls.user_id = calls.user_id.astype(str)"
   ]
  },
  {
   "cell_type": "code",
   "execution_count": 9,
   "id": "1a482d9c-3ffe-49d7-ad85-ace79d43e5f4",
   "metadata": {},
   "outputs": [
    {
     "data": {
      "text/plain": [
       "492"
      ]
     },
     "execution_count": 9,
     "metadata": {},
     "output_type": "execute_result"
    }
   ],
   "source": [
    "calls.user_id.nunique()"
   ]
  },
  {
   "cell_type": "markdown",
   "id": "945a77f8-47f6-4b18-91e8-70687ec7323a",
   "metadata": {},
   "source": [
    "### 2.2. Internet correction"
   ]
  },
  {
   "cell_type": "code",
   "execution_count": 10,
   "id": "deaaf7df-2d22-408c-bf39-237f45e0c264",
   "metadata": {},
   "outputs": [
    {
     "name": "stdout",
     "output_type": "stream",
     "text": [
      "<class 'pandas.core.frame.DataFrame'>\n",
      "RangeIndex: 149396 entries, 0 to 149395\n",
      "Data columns (total 5 columns):\n",
      " #   Column        Non-Null Count   Dtype  \n",
      "---  ------        --------------   -----  \n",
      " 0   Unnamed: 0    149396 non-null  int64  \n",
      " 1   id            149396 non-null  object \n",
      " 2   mb_used       149396 non-null  float64\n",
      " 3   session_date  149396 non-null  object \n",
      " 4   user_id       149396 non-null  int64  \n",
      "dtypes: float64(1), int64(2), object(2)\n",
      "memory usage: 5.7+ MB\n"
     ]
    },
    {
     "data": {
      "text/html": [
       "<div>\n",
       "<style scoped>\n",
       "    .dataframe tbody tr th:only-of-type {\n",
       "        vertical-align: middle;\n",
       "    }\n",
       "\n",
       "    .dataframe tbody tr th {\n",
       "        vertical-align: top;\n",
       "    }\n",
       "\n",
       "    .dataframe thead th {\n",
       "        text-align: right;\n",
       "    }\n",
       "</style>\n",
       "<table border=\"1\" class=\"dataframe\">\n",
       "  <thead>\n",
       "    <tr style=\"text-align: right;\">\n",
       "      <th></th>\n",
       "      <th>Unnamed: 0</th>\n",
       "      <th>id</th>\n",
       "      <th>mb_used</th>\n",
       "      <th>session_date</th>\n",
       "      <th>user_id</th>\n",
       "    </tr>\n",
       "  </thead>\n",
       "  <tbody>\n",
       "    <tr>\n",
       "      <th>0</th>\n",
       "      <td>0</td>\n",
       "      <td>1000_0</td>\n",
       "      <td>112.95</td>\n",
       "      <td>2018-11-25</td>\n",
       "      <td>1000</td>\n",
       "    </tr>\n",
       "    <tr>\n",
       "      <th>1</th>\n",
       "      <td>1</td>\n",
       "      <td>1000_1</td>\n",
       "      <td>1052.81</td>\n",
       "      <td>2018-09-07</td>\n",
       "      <td>1000</td>\n",
       "    </tr>\n",
       "  </tbody>\n",
       "</table>\n",
       "</div>"
      ],
      "text/plain": [
       "   Unnamed: 0      id  mb_used session_date  user_id\n",
       "0           0  1000_0   112.95   2018-11-25     1000\n",
       "1           1  1000_1  1052.81   2018-09-07     1000"
      ]
     },
     "execution_count": 10,
     "metadata": {},
     "output_type": "execute_result"
    }
   ],
   "source": [
    "internet.info()\n",
    "internet.head(2)"
   ]
  },
  {
   "cell_type": "code",
   "execution_count": 11,
   "id": "ae9a6e9f-a1b7-4274-a6e1-6c1eb84343d9",
   "metadata": {},
   "outputs": [],
   "source": [
    "internet.user_id = internet.user_id.astype(str)"
   ]
  },
  {
   "cell_type": "code",
   "execution_count": 12,
   "id": "93398dfe-ca79-4888-973b-57d483c9eb40",
   "metadata": {},
   "outputs": [],
   "source": [
    "internet.session_date = pd.to_datetime(internet.session_date, format = '%Y-%m-%d')\n",
    "internet['month'] = internet.session_date.dt.month"
   ]
  },
  {
   "cell_type": "code",
   "execution_count": 13,
   "id": "17cc38bd-171a-4cc1-8e3f-d57e89a4c866",
   "metadata": {},
   "outputs": [
    {
     "data": {
      "text/plain": [
       "<Axes: >"
      ]
     },
     "execution_count": 13,
     "metadata": {},
     "output_type": "execute_result"
    },
    {
     "data": {
      "image/png": "[encoded data removed]",
      "text/plain": [
       "<Figure size 640x480 with 1 Axes>"
      ]
     },
     "metadata": {},
     "output_type": "display_data"
    }
   ],
   "source": [
    "internet.mb_used.hist(bins=100,range=(0.001,1250))"
   ]
  },
  {
   "cell_type": "code",
   "execution_count": 14,
   "id": "43afbe34-a7c0-4af9-b24b-5644c9a90e71",
   "metadata": {},
   "outputs": [
    {
     "data": {
      "text/plain": [
       "497"
      ]
     },
     "execution_count": 14,
     "metadata": {},
     "output_type": "execute_result"
    }
   ],
   "source": [
    "internet.user_id.nunique()"
   ]
  },
  {
   "cell_type": "markdown",
   "id": "4faf7a5b-1a64-427d-9f29-5e69b499bb3b",
   "metadata": {},
   "source": [
    "### 2.3. Messages correction"
   ]
  },
  {
   "cell_type": "code",
   "execution_count": 15,
   "id": "424d29f8-5892-4d7a-aa0c-1ed5d1188949",
   "metadata": {},
   "outputs": [
    {
     "name": "stdout",
     "output_type": "stream",
     "text": [
      "<class 'pandas.core.frame.DataFrame'>\n",
      "RangeIndex: 123036 entries, 0 to 123035\n",
      "Data columns (total 3 columns):\n",
      " #   Column        Non-Null Count   Dtype \n",
      "---  ------        --------------   ----- \n",
      " 0   id            123036 non-null  object\n",
      " 1   message_date  123036 non-null  object\n",
      " 2   user_id       123036 non-null  int64 \n",
      "dtypes: int64(1), object(2)\n",
      "memory usage: 2.8+ MB\n"
     ]
    },
    {
     "data": {
      "text/html": [
       "<div>\n",
       "<style scoped>\n",
       "    .dataframe tbody tr th:only-of-type {\n",
       "        vertical-align: middle;\n",
       "    }\n",
       "\n",
       "    .dataframe tbody tr th {\n",
       "        vertical-align: top;\n",
       "    }\n",
       "\n",
       "    .dataframe thead th {\n",
       "        text-align: right;\n",
       "    }\n",
       "</style>\n",
       "<table border=\"1\" class=\"dataframe\">\n",
       "  <thead>\n",
       "    <tr style=\"text-align: right;\">\n",
       "      <th></th>\n",
       "      <th>id</th>\n",
       "      <th>message_date</th>\n",
       "      <th>user_id</th>\n",
       "    </tr>\n",
       "  </thead>\n",
       "  <tbody>\n",
       "    <tr>\n",
       "      <th>0</th>\n",
       "      <td>1000_0</td>\n",
       "      <td>2018-06-27</td>\n",
       "      <td>1000</td>\n",
       "    </tr>\n",
       "    <tr>\n",
       "      <th>1</th>\n",
       "      <td>1000_1</td>\n",
       "      <td>2018-10-08</td>\n",
       "      <td>1000</td>\n",
       "    </tr>\n",
       "  </tbody>\n",
       "</table>\n",
       "</div>"
      ],
      "text/plain": [
       "       id message_date  user_id\n",
       "0  1000_0   2018-06-27     1000\n",
       "1  1000_1   2018-10-08     1000"
      ]
     },
     "execution_count": 15,
     "metadata": {},
     "output_type": "execute_result"
    }
   ],
   "source": [
    "messages.info()\n",
    "messages.head(2)"
   ]
  },
  {
   "cell_type": "code",
   "execution_count": 16,
   "id": "0480f988-27ca-45cf-b5c2-d7cdb771b329",
   "metadata": {},
   "outputs": [],
   "source": [
    "messages.user_id = messages.user_id.astype(str)"
   ]
  },
  {
   "cell_type": "code",
   "execution_count": 17,
   "id": "68a2d7d4-22bc-4834-af3a-6f77fe0c78ea",
   "metadata": {},
   "outputs": [],
   "source": [
    "messages.message_date = pd.to_datetime(messages.message_date, format = '%Y-%m-%d')"
   ]
  },
  {
   "cell_type": "code",
   "execution_count": 18,
   "id": "9706280a-1cba-4da6-ba4f-69e241db302f",
   "metadata": {},
   "outputs": [],
   "source": [
    "messages['month'] = messages['message_date'].dt.month"
   ]
  },
  {
   "cell_type": "code",
   "execution_count": 19,
   "id": "3c4ebd2c-d65f-49d3-a525-795bf7e45132",
   "metadata": {},
   "outputs": [
    {
     "data": {
      "text/plain": [
       "426"
      ]
     },
     "execution_count": 19,
     "metadata": {},
     "output_type": "execute_result"
    }
   ],
   "source": [
    "messages.user_id.nunique()"
   ]
  },
  {
   "cell_type": "markdown",
   "id": "bca43688-9b61-4992-aa6f-14f567f979bc",
   "metadata": {},
   "source": [
    "Let's notice that these three dataframes has logs on different amount of unique users"
   ]
  },
  {
   "cell_type": "markdown",
   "id": "057a303d-44ca-43e0-9005-9a6626622b51",
   "metadata": {},
   "source": [
    "### 2.4. Tariffs correction"
   ]
  },
  {
   "cell_type": "code",
   "execution_count": 20,
   "id": "4684e5cf-8449-48eb-a509-cdf8c410a388",
   "metadata": {},
   "outputs": [
    {
     "name": "stdout",
     "output_type": "stream",
     "text": [
      "<class 'pandas.core.frame.DataFrame'>\n",
      "RangeIndex: 2 entries, 0 to 1\n",
      "Data columns (total 8 columns):\n",
      " #   Column                 Non-Null Count  Dtype \n",
      "---  ------                 --------------  ----- \n",
      " 0   messages_included      2 non-null      int64 \n",
      " 1   mb_per_month_included  2 non-null      int64 \n",
      " 2   minutes_included       2 non-null      int64 \n",
      " 3   rub_monthly_fee        2 non-null      int64 \n",
      " 4   rub_per_gb             2 non-null      int64 \n",
      " 5   rub_per_message        2 non-null      int64 \n",
      " 6   rub_per_minute         2 non-null      int64 \n",
      " 7   tariff_name            2 non-null      object\n",
      "dtypes: int64(7), object(1)\n",
      "memory usage: 260.0+ bytes\n"
     ]
    },
    {
     "data": {
      "text/html": [
       "<div>\n",
       "<style scoped>\n",
       "    .dataframe tbody tr th:only-of-type {\n",
       "        vertical-align: middle;\n",
       "    }\n",
       "\n",
       "    .dataframe tbody tr th {\n",
       "        vertical-align: top;\n",
       "    }\n",
       "\n",
       "    .dataframe thead th {\n",
       "        text-align: right;\n",
       "    }\n",
       "</style>\n",
       "<table border=\"1\" class=\"dataframe\">\n",
       "  <thead>\n",
       "    <tr style=\"text-align: right;\">\n",
       "      <th></th>\n",
       "      <th>messages_included</th>\n",
       "      <th>mb_per_month_included</th>\n",
       "      <th>minutes_included</th>\n",
       "      <th>rub_monthly_fee</th>\n",
       "      <th>rub_per_gb</th>\n",
       "      <th>rub_per_message</th>\n",
       "      <th>rub_per_minute</th>\n",
       "      <th>tariff_name</th>\n",
       "    </tr>\n",
       "  </thead>\n",
       "  <tbody>\n",
       "    <tr>\n",
       "      <th>0</th>\n",
       "      <td>50</td>\n",
       "      <td>15360</td>\n",
       "      <td>500</td>\n",
       "      <td>550</td>\n",
       "      <td>200</td>\n",
       "      <td>3</td>\n",
       "      <td>3</td>\n",
       "      <td>smart</td>\n",
       "    </tr>\n",
       "    <tr>\n",
       "      <th>1</th>\n",
       "      <td>1000</td>\n",
       "      <td>30720</td>\n",
       "      <td>3000</td>\n",
       "      <td>1950</td>\n",
       "      <td>150</td>\n",
       "      <td>1</td>\n",
       "      <td>1</td>\n",
       "      <td>ultra</td>\n",
       "    </tr>\n",
       "  </tbody>\n",
       "</table>\n",
       "</div>"
      ],
      "text/plain": [
       "   messages_included  mb_per_month_included  minutes_included  \\\n",
       "0                 50                  15360               500   \n",
       "1               1000                  30720              3000   \n",
       "\n",
       "   rub_monthly_fee  rub_per_gb  rub_per_message  rub_per_minute tariff_name  \n",
       "0              550         200                3               3       smart  \n",
       "1             1950         150                1               1       ultra  "
      ]
     },
     "execution_count": 20,
     "metadata": {},
     "output_type": "execute_result"
    }
   ],
   "source": [
    "tariffs.info()\n",
    "tariffs.head(2)"
   ]
  },
  {
   "cell_type": "code",
   "execution_count": 21,
   "id": "be7b6ad4-e49b-458c-80f9-10d256895915",
   "metadata": {},
   "outputs": [],
   "source": [
    "tariffs['gb_per_month_included'] = tariffs['mb_per_month_included'] / 1000\n",
    "tariffs = tariffs.drop('mb_per_month_included',axis=1)"
   ]
  },
  {
   "cell_type": "markdown",
   "id": "ae17e3b5-d0af-4667-9b84-d68ad52ffd57",
   "metadata": {},
   "source": [
    "### 2.5. Users correction"
   ]
  },
  {
   "cell_type": "code",
   "execution_count": 22,
   "id": "54f26ec2-eb98-448c-a930-0591dd21f433",
   "metadata": {},
   "outputs": [
    {
     "name": "stdout",
     "output_type": "stream",
     "text": [
      "<class 'pandas.core.frame.DataFrame'>\n",
      "RangeIndex: 500 entries, 0 to 499\n",
      "Data columns (total 8 columns):\n",
      " #   Column      Non-Null Count  Dtype \n",
      "---  ------      --------------  ----- \n",
      " 0   user_id     500 non-null    int64 \n",
      " 1   age         500 non-null    int64 \n",
      " 2   churn_date  38 non-null     object\n",
      " 3   city        500 non-null    object\n",
      " 4   first_name  500 non-null    object\n",
      " 5   last_name   500 non-null    object\n",
      " 6   reg_date    500 non-null    object\n",
      " 7   tariff      500 non-null    object\n",
      "dtypes: int64(2), object(6)\n",
      "memory usage: 31.4+ KB\n"
     ]
    },
    {
     "data": {
      "text/html": [
       "<div>\n",
       "<style scoped>\n",
       "    .dataframe tbody tr th:only-of-type {\n",
       "        vertical-align: middle;\n",
       "    }\n",
       "\n",
       "    .dataframe tbody tr th {\n",
       "        vertical-align: top;\n",
       "    }\n",
       "\n",
       "    .dataframe thead th {\n",
       "        text-align: right;\n",
       "    }\n",
       "</style>\n",
       "<table border=\"1\" class=\"dataframe\">\n",
       "  <thead>\n",
       "    <tr style=\"text-align: right;\">\n",
       "      <th></th>\n",
       "      <th>user_id</th>\n",
       "      <th>age</th>\n",
       "      <th>churn_date</th>\n",
       "      <th>city</th>\n",
       "      <th>first_name</th>\n",
       "      <th>last_name</th>\n",
       "      <th>reg_date</th>\n",
       "      <th>tariff</th>\n",
       "    </tr>\n",
       "  </thead>\n",
       "  <tbody>\n",
       "    <tr>\n",
       "      <th>0</th>\n",
       "      <td>1000</td>\n",
       "      <td>52</td>\n",
       "      <td>NaN</td>\n",
       "      <td>Краснодар</td>\n",
       "      <td>Рафаил</td>\n",
       "      <td>Верещагин</td>\n",
       "      <td>2018-05-25</td>\n",
       "      <td>ultra</td>\n",
       "    </tr>\n",
       "    <tr>\n",
       "      <th>1</th>\n",
       "      <td>1001</td>\n",
       "      <td>41</td>\n",
       "      <td>NaN</td>\n",
       "      <td>Москва</td>\n",
       "      <td>Иван</td>\n",
       "      <td>Ежов</td>\n",
       "      <td>2018-11-01</td>\n",
       "      <td>smart</td>\n",
       "    </tr>\n",
       "  </tbody>\n",
       "</table>\n",
       "</div>"
      ],
      "text/plain": [
       "   user_id  age churn_date       city first_name  last_name    reg_date tariff\n",
       "0     1000   52        NaN  Краснодар     Рафаил  Верещагин  2018-05-25  ultra\n",
       "1     1001   41        NaN     Москва       Иван       Ежов  2018-11-01  smart"
      ]
     },
     "execution_count": 22,
     "metadata": {},
     "output_type": "execute_result"
    }
   ],
   "source": [
    "users.info()\n",
    "users.head(2)"
   ]
  },
  {
   "cell_type": "code",
   "execution_count": 23,
   "id": "a4f18f7b-02b4-4a37-9b47-40076ff49351",
   "metadata": {},
   "outputs": [],
   "source": [
    "users.reg_date = pd.to_datetime(users.reg_date, format = '%Y-%m-%d')\n",
    "users.churn_date = pd.to_datetime(users.churn_date, format = '%Y-%m-%d',errors='coerce')"
   ]
  },
  {
   "cell_type": "code",
   "execution_count": 24,
   "id": "d2de27da-7150-47a8-a21c-9471664f2e29",
   "metadata": {},
   "outputs": [
    {
     "name": "stdout",
     "output_type": "stream",
     "text": [
      "500\n"
     ]
    }
   ],
   "source": [
    "users['full_name'] = users['first_name'] + ' ' + users['last_name']\n",
    "print(users['full_name'].nunique())\n",
    "users = users.drop('full_name', axis=1)"
   ]
  },
  {
   "cell_type": "code",
   "execution_count": 25,
   "id": "ea1743bc-8d17-4f86-beb2-3c609d77ef06",
   "metadata": {},
   "outputs": [],
   "source": [
    "users.user_id = users.user_id.astype(str)"
   ]
  },
  {
   "cell_type": "code",
   "execution_count": 26,
   "id": "1f488981-02cb-4e43-a343-c802768fc28a",
   "metadata": {},
   "outputs": [],
   "source": [
    "users = users.rename(columns = {'tariff':'tariff_name'})"
   ]
  },
  {
   "cell_type": "markdown",
   "id": "56d51073-cb3a-48ae-b15a-8f6fccfc3a35",
   "metadata": {},
   "source": [
    "## 3. Analysis"
   ]
  },
  {
   "cell_type": "markdown",
   "id": "f3b539b8-ac32-404c-bdc8-24db35632216",
   "metadata": {},
   "source": [
    "### 3.1. Количество сделанных звонков и израсходованных минут разговора по месяцам"
   ]
  },
  {
   "cell_type": "code",
   "execution_count": 27,
   "id": "9488f7c4-ff4d-4e69-98a5-6eced61b3098",
   "metadata": {},
   "outputs": [
    {
     "data": {
      "text/html": [
       "<div>\n",
       "<style scoped>\n",
       "    .dataframe tbody tr th:only-of-type {\n",
       "        vertical-align: middle;\n",
       "    }\n",
       "\n",
       "    .dataframe tbody tr th {\n",
       "        vertical-align: top;\n",
       "    }\n",
       "\n",
       "    .dataframe thead th {\n",
       "        text-align: right;\n",
       "    }\n",
       "</style>\n",
       "<table border=\"1\" class=\"dataframe\">\n",
       "  <thead>\n",
       "    <tr style=\"text-align: right;\">\n",
       "      <th></th>\n",
       "      <th>user_id</th>\n",
       "      <th>month</th>\n",
       "      <th>minutes</th>\n",
       "    </tr>\n",
       "  </thead>\n",
       "  <tbody>\n",
       "    <tr>\n",
       "      <th>0</th>\n",
       "      <td>1000</td>\n",
       "      <td>5</td>\n",
       "      <td>22</td>\n",
       "    </tr>\n",
       "    <tr>\n",
       "      <th>1</th>\n",
       "      <td>1000</td>\n",
       "      <td>6</td>\n",
       "      <td>43</td>\n",
       "    </tr>\n",
       "    <tr>\n",
       "      <th>2</th>\n",
       "      <td>1000</td>\n",
       "      <td>7</td>\n",
       "      <td>47</td>\n",
       "    </tr>\n",
       "    <tr>\n",
       "      <th>3</th>\n",
       "      <td>1000</td>\n",
       "      <td>8</td>\n",
       "      <td>52</td>\n",
       "    </tr>\n",
       "    <tr>\n",
       "      <th>4</th>\n",
       "      <td>1000</td>\n",
       "      <td>9</td>\n",
       "      <td>58</td>\n",
       "    </tr>\n",
       "    <tr>\n",
       "      <th>5</th>\n",
       "      <td>1000</td>\n",
       "      <td>10</td>\n",
       "      <td>57</td>\n",
       "    </tr>\n",
       "    <tr>\n",
       "      <th>6</th>\n",
       "      <td>1000</td>\n",
       "      <td>11</td>\n",
       "      <td>43</td>\n",
       "    </tr>\n",
       "    <tr>\n",
       "      <th>7</th>\n",
       "      <td>1000</td>\n",
       "      <td>12</td>\n",
       "      <td>46</td>\n",
       "    </tr>\n",
       "    <tr>\n",
       "      <th>8</th>\n",
       "      <td>1001</td>\n",
       "      <td>11</td>\n",
       "      <td>59</td>\n",
       "    </tr>\n",
       "    <tr>\n",
       "      <th>9</th>\n",
       "      <td>1001</td>\n",
       "      <td>12</td>\n",
       "      <td>63</td>\n",
       "    </tr>\n",
       "    <tr>\n",
       "      <th>10</th>\n",
       "      <td>1002</td>\n",
       "      <td>6</td>\n",
       "      <td>15</td>\n",
       "    </tr>\n",
       "    <tr>\n",
       "      <th>11</th>\n",
       "      <td>1002</td>\n",
       "      <td>7</td>\n",
       "      <td>26</td>\n",
       "    </tr>\n",
       "    <tr>\n",
       "      <th>12</th>\n",
       "      <td>1002</td>\n",
       "      <td>8</td>\n",
       "      <td>42</td>\n",
       "    </tr>\n",
       "    <tr>\n",
       "      <th>13</th>\n",
       "      <td>1002</td>\n",
       "      <td>9</td>\n",
       "      <td>36</td>\n",
       "    </tr>\n",
       "    <tr>\n",
       "      <th>14</th>\n",
       "      <td>1002</td>\n",
       "      <td>10</td>\n",
       "      <td>33</td>\n",
       "    </tr>\n",
       "    <tr>\n",
       "      <th>15</th>\n",
       "      <td>1002</td>\n",
       "      <td>11</td>\n",
       "      <td>32</td>\n",
       "    </tr>\n",
       "    <tr>\n",
       "      <th>16</th>\n",
       "      <td>1002</td>\n",
       "      <td>12</td>\n",
       "      <td>33</td>\n",
       "    </tr>\n",
       "    <tr>\n",
       "      <th>17</th>\n",
       "      <td>1003</td>\n",
       "      <td>8</td>\n",
       "      <td>55</td>\n",
       "    </tr>\n",
       "    <tr>\n",
       "      <th>18</th>\n",
       "      <td>1003</td>\n",
       "      <td>9</td>\n",
       "      <td>134</td>\n",
       "    </tr>\n",
       "    <tr>\n",
       "      <th>19</th>\n",
       "      <td>1003</td>\n",
       "      <td>10</td>\n",
       "      <td>108</td>\n",
       "    </tr>\n",
       "  </tbody>\n",
       "</table>\n",
       "</div>"
      ],
      "text/plain": [
       "   user_id  month  minutes\n",
       "0     1000      5       22\n",
       "1     1000      6       43\n",
       "2     1000      7       47\n",
       "3     1000      8       52\n",
       "4     1000      9       58\n",
       "5     1000     10       57\n",
       "6     1000     11       43\n",
       "7     1000     12       46\n",
       "8     1001     11       59\n",
       "9     1001     12       63\n",
       "10    1002      6       15\n",
       "11    1002      7       26\n",
       "12    1002      8       42\n",
       "13    1002      9       36\n",
       "14    1002     10       33\n",
       "15    1002     11       32\n",
       "16    1002     12       33\n",
       "17    1003      8       55\n",
       "18    1003      9      134\n",
       "19    1003     10      108"
      ]
     },
     "execution_count": 27,
     "metadata": {},
     "output_type": "execute_result"
    }
   ],
   "source": [
    "users_calls = (calls\n",
    "               .pivot_table(\n",
    "                      index = ['user_id','month'],\n",
    "                      values = 'duration',\n",
    "                      aggfunc = ['count']\n",
    "                  )\n",
    "               .reset_index()\n",
    "              )\n",
    "users_calls.columns = ['user_id','month','minutes']\n",
    "users_calls.head(20)"
   ]
  },
  {
   "cell_type": "markdown",
   "id": "f63ee4f4-3c26-4d1d-bc8e-bd6e19893084",
   "metadata": {},
   "source": [
    "### 3.2. Количество отправленных сообщений по месяцам"
   ]
  },
  {
   "cell_type": "code",
   "execution_count": 28,
   "id": "003deb15-74d8-4761-881d-7ae99447a7ae",
   "metadata": {},
   "outputs": [
    {
     "data": {
      "text/html": [
       "<div>\n",
       "<style scoped>\n",
       "    .dataframe tbody tr th:only-of-type {\n",
       "        vertical-align: middle;\n",
       "    }\n",
       "\n",
       "    .dataframe tbody tr th {\n",
       "        vertical-align: top;\n",
       "    }\n",
       "\n",
       "    .dataframe thead th {\n",
       "        text-align: right;\n",
       "    }\n",
       "</style>\n",
       "<table border=\"1\" class=\"dataframe\">\n",
       "  <thead>\n",
       "    <tr style=\"text-align: right;\">\n",
       "      <th></th>\n",
       "      <th>user_id</th>\n",
       "      <th>month</th>\n",
       "      <th>messages</th>\n",
       "    </tr>\n",
       "  </thead>\n",
       "  <tbody>\n",
       "    <tr>\n",
       "      <th>0</th>\n",
       "      <td>1000</td>\n",
       "      <td>5</td>\n",
       "      <td>22</td>\n",
       "    </tr>\n",
       "    <tr>\n",
       "      <th>1</th>\n",
       "      <td>1000</td>\n",
       "      <td>6</td>\n",
       "      <td>60</td>\n",
       "    </tr>\n",
       "    <tr>\n",
       "      <th>2</th>\n",
       "      <td>1000</td>\n",
       "      <td>7</td>\n",
       "      <td>75</td>\n",
       "    </tr>\n",
       "    <tr>\n",
       "      <th>3</th>\n",
       "      <td>1000</td>\n",
       "      <td>8</td>\n",
       "      <td>81</td>\n",
       "    </tr>\n",
       "    <tr>\n",
       "      <th>4</th>\n",
       "      <td>1000</td>\n",
       "      <td>9</td>\n",
       "      <td>57</td>\n",
       "    </tr>\n",
       "    <tr>\n",
       "      <th>5</th>\n",
       "      <td>1000</td>\n",
       "      <td>10</td>\n",
       "      <td>73</td>\n",
       "    </tr>\n",
       "    <tr>\n",
       "      <th>6</th>\n",
       "      <td>1000</td>\n",
       "      <td>11</td>\n",
       "      <td>58</td>\n",
       "    </tr>\n",
       "    <tr>\n",
       "      <th>7</th>\n",
       "      <td>1000</td>\n",
       "      <td>12</td>\n",
       "      <td>70</td>\n",
       "    </tr>\n",
       "    <tr>\n",
       "      <th>8</th>\n",
       "      <td>1002</td>\n",
       "      <td>6</td>\n",
       "      <td>4</td>\n",
       "    </tr>\n",
       "    <tr>\n",
       "      <th>9</th>\n",
       "      <td>1002</td>\n",
       "      <td>7</td>\n",
       "      <td>11</td>\n",
       "    </tr>\n",
       "  </tbody>\n",
       "</table>\n",
       "</div>"
      ],
      "text/plain": [
       "  user_id  month  messages\n",
       "0    1000      5        22\n",
       "1    1000      6        60\n",
       "2    1000      7        75\n",
       "3    1000      8        81\n",
       "4    1000      9        57\n",
       "5    1000     10        73\n",
       "6    1000     11        58\n",
       "7    1000     12        70\n",
       "8    1002      6         4\n",
       "9    1002      7        11"
      ]
     },
     "execution_count": 28,
     "metadata": {},
     "output_type": "execute_result"
    }
   ],
   "source": [
    "users_messages = (messages\n",
    "                  .pivot_table(\n",
    "                      index = ['user_id','month'],\n",
    "                      values = 'id',\n",
    "                      aggfunc = 'count'\n",
    ")\n",
    "                  .reset_index()\n",
    "                 )\n",
    "users_messages.columns = ['user_id','month','messages']\n",
    "users_messages.head(10)"
   ]
  },
  {
   "cell_type": "markdown",
   "id": "2fa0362a-e584-4427-af07-28bc20b5d430",
   "metadata": {},
   "source": [
    "### 3.3. Объем израсходованного интернет-трафика по месяцам"
   ]
  },
  {
   "cell_type": "code",
   "execution_count": 29,
   "id": "7f2050cf-8c2d-44b7-9209-4ddf30f2217c",
   "metadata": {},
   "outputs": [
    {
     "name": "stdout",
     "output_type": "stream",
     "text": [
      "<class 'pandas.core.frame.DataFrame'>\n",
      "RangeIndex: 149396 entries, 0 to 149395\n",
      "Data columns (total 6 columns):\n",
      " #   Column        Non-Null Count   Dtype         \n",
      "---  ------        --------------   -----         \n",
      " 0   Unnamed: 0    149396 non-null  int64         \n",
      " 1   id            149396 non-null  object        \n",
      " 2   mb_used       149396 non-null  float64       \n",
      " 3   session_date  149396 non-null  datetime64[ns]\n",
      " 4   user_id       149396 non-null  object        \n",
      " 5   month         149396 non-null  int32         \n",
      "dtypes: datetime64[ns](1), float64(1), int32(1), int64(1), object(2)\n",
      "memory usage: 6.3+ MB\n"
     ]
    },
    {
     "data": {
      "text/html": [
       "<div>\n",
       "<style scoped>\n",
       "    .dataframe tbody tr th:only-of-type {\n",
       "        vertical-align: middle;\n",
       "    }\n",
       "\n",
       "    .dataframe tbody tr th {\n",
       "        vertical-align: top;\n",
       "    }\n",
       "\n",
       "    .dataframe thead th {\n",
       "        text-align: right;\n",
       "    }\n",
       "</style>\n",
       "<table border=\"1\" class=\"dataframe\">\n",
       "  <thead>\n",
       "    <tr style=\"text-align: right;\">\n",
       "      <th></th>\n",
       "      <th>Unnamed: 0</th>\n",
       "      <th>id</th>\n",
       "      <th>mb_used</th>\n",
       "      <th>session_date</th>\n",
       "      <th>user_id</th>\n",
       "      <th>month</th>\n",
       "    </tr>\n",
       "  </thead>\n",
       "  <tbody>\n",
       "    <tr>\n",
       "      <th>0</th>\n",
       "      <td>0</td>\n",
       "      <td>1000_0</td>\n",
       "      <td>112.95</td>\n",
       "      <td>2018-11-25</td>\n",
       "      <td>1000</td>\n",
       "      <td>11</td>\n",
       "    </tr>\n",
       "    <tr>\n",
       "      <th>1</th>\n",
       "      <td>1</td>\n",
       "      <td>1000_1</td>\n",
       "      <td>1052.81</td>\n",
       "      <td>2018-09-07</td>\n",
       "      <td>1000</td>\n",
       "      <td>9</td>\n",
       "    </tr>\n",
       "  </tbody>\n",
       "</table>\n",
       "</div>"
      ],
      "text/plain": [
       "   Unnamed: 0      id  mb_used session_date user_id  month\n",
       "0           0  1000_0   112.95   2018-11-25    1000     11\n",
       "1           1  1000_1  1052.81   2018-09-07    1000      9"
      ]
     },
     "execution_count": 29,
     "metadata": {},
     "output_type": "execute_result"
    }
   ],
   "source": [
    "internet.info()\n",
    "internet.head(2)"
   ]
  },
  {
   "cell_type": "code",
   "execution_count": 30,
   "id": "b4417e75-7aa8-436b-b7ff-b41e22f84b0c",
   "metadata": {},
   "outputs": [],
   "source": [
    "users_internet = (internet\n",
    "                  .pivot_table(\n",
    "                      index=['user_id','month'],\n",
    "                      values = 'mb_used',\n",
    "                      aggfunc = 'sum'\n",
    "                  )\n",
    "                  .reset_index()\n",
    ")\n",
    "users_internet['gb_used'] = users_internet['mb_used'] / 1024\n",
    "users_internet = users_internet.drop('mb_used', axis=1)"
   ]
  },
  {
   "cell_type": "markdown",
   "id": "33cf68a5-3dd4-4b7e-ac9e-456bdb71a82e",
   "metadata": {},
   "source": [
    "### 3.4. Помесячную выручку с каждого пользователя "
   ]
  },
  {
   "cell_type": "markdown",
   "id": "90831a52-7ba1-43f8-b896-af754d9285ac",
   "metadata": {},
   "source": [
    "* Вычтите бесплатный лимит из суммарного количества звонков, сообщений и интернет-трафика; остаток умножьте на значение из тарифного плана;\n",
    "* Прибавьте абонентскую плату, соответствующую тарифному плану"
   ]
  },
  {
   "cell_type": "code",
   "execution_count": 31,
   "id": "a252c9d0-b24f-4bad-ac50-cc18b2cfc56e",
   "metadata": {},
   "outputs": [
    {
     "data": {
      "text/html": [
       "<div>\n",
       "<style scoped>\n",
       "    .dataframe tbody tr th:only-of-type {\n",
       "        vertical-align: middle;\n",
       "    }\n",
       "\n",
       "    .dataframe tbody tr th {\n",
       "        vertical-align: top;\n",
       "    }\n",
       "\n",
       "    .dataframe thead th {\n",
       "        text-align: right;\n",
       "    }\n",
       "</style>\n",
       "<table border=\"1\" class=\"dataframe\">\n",
       "  <thead>\n",
       "    <tr style=\"text-align: right;\">\n",
       "      <th></th>\n",
       "      <th>messages_included</th>\n",
       "      <th>minutes_included</th>\n",
       "      <th>rub_monthly_fee</th>\n",
       "      <th>rub_per_gb</th>\n",
       "      <th>rub_per_message</th>\n",
       "      <th>rub_per_minute</th>\n",
       "      <th>tariff_name</th>\n",
       "      <th>gb_per_month_included</th>\n",
       "    </tr>\n",
       "  </thead>\n",
       "  <tbody>\n",
       "    <tr>\n",
       "      <th>0</th>\n",
       "      <td>50</td>\n",
       "      <td>500</td>\n",
       "      <td>550</td>\n",
       "      <td>200</td>\n",
       "      <td>3</td>\n",
       "      <td>3</td>\n",
       "      <td>smart</td>\n",
       "      <td>15.36</td>\n",
       "    </tr>\n",
       "    <tr>\n",
       "      <th>1</th>\n",
       "      <td>1000</td>\n",
       "      <td>3000</td>\n",
       "      <td>1950</td>\n",
       "      <td>150</td>\n",
       "      <td>1</td>\n",
       "      <td>1</td>\n",
       "      <td>ultra</td>\n",
       "      <td>30.72</td>\n",
       "    </tr>\n",
       "  </tbody>\n",
       "</table>\n",
       "</div>"
      ],
      "text/plain": [
       "   messages_included  minutes_included  rub_monthly_fee  rub_per_gb  \\\n",
       "0                 50               500              550         200   \n",
       "1               1000              3000             1950         150   \n",
       "\n",
       "   rub_per_message  rub_per_minute tariff_name  gb_per_month_included  \n",
       "0                3               3       smart                  15.36  \n",
       "1                1               1       ultra                  30.72  "
      ]
     },
     "execution_count": 31,
     "metadata": {},
     "output_type": "execute_result"
    }
   ],
   "source": [
    "tariffs"
   ]
  },
  {
   "cell_type": "code",
   "execution_count": 32,
   "id": "51859905-6b7a-4eab-b915-fe1e9254e19e",
   "metadata": {},
   "outputs": [
    {
     "data": {
      "text/html": [
       "<div>\n",
       "<style scoped>\n",
       "    .dataframe tbody tr th:only-of-type {\n",
       "        vertical-align: middle;\n",
       "    }\n",
       "\n",
       "    .dataframe tbody tr th {\n",
       "        vertical-align: top;\n",
       "    }\n",
       "\n",
       "    .dataframe thead th {\n",
       "        text-align: right;\n",
       "    }\n",
       "</style>\n",
       "<table border=\"1\" class=\"dataframe\">\n",
       "  <thead>\n",
       "    <tr style=\"text-align: right;\">\n",
       "      <th></th>\n",
       "      <th>user_id</th>\n",
       "      <th>month</th>\n",
       "      <th>minutes</th>\n",
       "    </tr>\n",
       "  </thead>\n",
       "  <tbody>\n",
       "    <tr>\n",
       "      <th>0</th>\n",
       "      <td>1000</td>\n",
       "      <td>5</td>\n",
       "      <td>22</td>\n",
       "    </tr>\n",
       "    <tr>\n",
       "      <th>1</th>\n",
       "      <td>1000</td>\n",
       "      <td>6</td>\n",
       "      <td>43</td>\n",
       "    </tr>\n",
       "    <tr>\n",
       "      <th>2</th>\n",
       "      <td>1000</td>\n",
       "      <td>7</td>\n",
       "      <td>47</td>\n",
       "    </tr>\n",
       "    <tr>\n",
       "      <th>3</th>\n",
       "      <td>1000</td>\n",
       "      <td>8</td>\n",
       "      <td>52</td>\n",
       "    </tr>\n",
       "    <tr>\n",
       "      <th>4</th>\n",
       "      <td>1000</td>\n",
       "      <td>9</td>\n",
       "      <td>58</td>\n",
       "    </tr>\n",
       "    <tr>\n",
       "      <th>5</th>\n",
       "      <td>1000</td>\n",
       "      <td>10</td>\n",
       "      <td>57</td>\n",
       "    </tr>\n",
       "    <tr>\n",
       "      <th>6</th>\n",
       "      <td>1000</td>\n",
       "      <td>11</td>\n",
       "      <td>43</td>\n",
       "    </tr>\n",
       "    <tr>\n",
       "      <th>7</th>\n",
       "      <td>1000</td>\n",
       "      <td>12</td>\n",
       "      <td>46</td>\n",
       "    </tr>\n",
       "    <tr>\n",
       "      <th>8</th>\n",
       "      <td>1001</td>\n",
       "      <td>11</td>\n",
       "      <td>59</td>\n",
       "    </tr>\n",
       "    <tr>\n",
       "      <th>9</th>\n",
       "      <td>1001</td>\n",
       "      <td>12</td>\n",
       "      <td>63</td>\n",
       "    </tr>\n",
       "  </tbody>\n",
       "</table>\n",
       "</div>"
      ],
      "text/plain": [
       "  user_id  month  minutes\n",
       "0    1000      5       22\n",
       "1    1000      6       43\n",
       "2    1000      7       47\n",
       "3    1000      8       52\n",
       "4    1000      9       58\n",
       "5    1000     10       57\n",
       "6    1000     11       43\n",
       "7    1000     12       46\n",
       "8    1001     11       59\n",
       "9    1001     12       63"
      ]
     },
     "execution_count": 32,
     "metadata": {},
     "output_type": "execute_result"
    }
   ],
   "source": [
    "users_calls.head(10)"
   ]
  },
  {
   "cell_type": "code",
   "execution_count": 33,
   "id": "71717b87-7f94-4f73-9ae3-f122cb7bb244",
   "metadata": {},
   "outputs": [
    {
     "data": {
      "text/html": [
       "<div>\n",
       "<style scoped>\n",
       "    .dataframe tbody tr th:only-of-type {\n",
       "        vertical-align: middle;\n",
       "    }\n",
       "\n",
       "    .dataframe tbody tr th {\n",
       "        vertical-align: top;\n",
       "    }\n",
       "\n",
       "    .dataframe thead th {\n",
       "        text-align: right;\n",
       "    }\n",
       "</style>\n",
       "<table border=\"1\" class=\"dataframe\">\n",
       "  <thead>\n",
       "    <tr style=\"text-align: right;\">\n",
       "      <th></th>\n",
       "      <th>user_id</th>\n",
       "      <th>age</th>\n",
       "      <th>churn_date</th>\n",
       "      <th>city</th>\n",
       "      <th>first_name</th>\n",
       "      <th>last_name</th>\n",
       "      <th>reg_date</th>\n",
       "      <th>tariff_name</th>\n",
       "    </tr>\n",
       "  </thead>\n",
       "  <tbody>\n",
       "    <tr>\n",
       "      <th>0</th>\n",
       "      <td>1000</td>\n",
       "      <td>52</td>\n",
       "      <td>NaT</td>\n",
       "      <td>Краснодар</td>\n",
       "      <td>Рафаил</td>\n",
       "      <td>Верещагин</td>\n",
       "      <td>2018-05-25</td>\n",
       "      <td>ultra</td>\n",
       "    </tr>\n",
       "    <tr>\n",
       "      <th>1</th>\n",
       "      <td>1001</td>\n",
       "      <td>41</td>\n",
       "      <td>NaT</td>\n",
       "      <td>Москва</td>\n",
       "      <td>Иван</td>\n",
       "      <td>Ежов</td>\n",
       "      <td>2018-11-01</td>\n",
       "      <td>smart</td>\n",
       "    </tr>\n",
       "  </tbody>\n",
       "</table>\n",
       "</div>"
      ],
      "text/plain": [
       "  user_id  age churn_date       city first_name  last_name   reg_date  \\\n",
       "0    1000   52        NaT  Краснодар     Рафаил  Верещагин 2018-05-25   \n",
       "1    1001   41        NaT     Москва       Иван       Ежов 2018-11-01   \n",
       "\n",
       "  tariff_name  \n",
       "0       ultra  \n",
       "1       smart  "
      ]
     },
     "execution_count": 33,
     "metadata": {},
     "output_type": "execute_result"
    }
   ],
   "source": [
    "users.head(2)"
   ]
  },
  {
   "cell_type": "markdown",
   "id": "da677c23-8cbb-491c-a87a-290e9256ab4b",
   "metadata": {},
   "source": [
    "Let's make le grand excel sheet"
   ]
  },
  {
   "cell_type": "code",
   "execution_count": 34,
   "id": "f7582806-450c-48ed-8550-4602ead22de2",
   "metadata": {},
   "outputs": [
    {
     "data": {
      "text/html": [
       "<div>\n",
       "<style scoped>\n",
       "    .dataframe tbody tr th:only-of-type {\n",
       "        vertical-align: middle;\n",
       "    }\n",
       "\n",
       "    .dataframe tbody tr th {\n",
       "        vertical-align: top;\n",
       "    }\n",
       "\n",
       "    .dataframe thead th {\n",
       "        text-align: right;\n",
       "    }\n",
       "</style>\n",
       "<table border=\"1\" class=\"dataframe\">\n",
       "  <thead>\n",
       "    <tr style=\"text-align: right;\">\n",
       "      <th></th>\n",
       "      <th>user_id</th>\n",
       "      <th>age</th>\n",
       "      <th>churn_date</th>\n",
       "      <th>city</th>\n",
       "      <th>first_name</th>\n",
       "      <th>last_name</th>\n",
       "      <th>reg_date</th>\n",
       "      <th>tariff_name</th>\n",
       "      <th>messages_included</th>\n",
       "      <th>minutes_included</th>\n",
       "      <th>rub_monthly_fee</th>\n",
       "      <th>rub_per_gb</th>\n",
       "      <th>rub_per_message</th>\n",
       "      <th>rub_per_minute</th>\n",
       "      <th>gb_per_month_included</th>\n",
       "      <th>month</th>\n",
       "      <th>minutes</th>\n",
       "      <th>messages</th>\n",
       "      <th>gb_used</th>\n",
       "    </tr>\n",
       "  </thead>\n",
       "  <tbody>\n",
       "    <tr>\n",
       "      <th>0</th>\n",
       "      <td>1000</td>\n",
       "      <td>52.0</td>\n",
       "      <td>NaT</td>\n",
       "      <td>Краснодар</td>\n",
       "      <td>Рафаил</td>\n",
       "      <td>Верещагин</td>\n",
       "      <td>2018-05-25</td>\n",
       "      <td>ultra</td>\n",
       "      <td>1000.0</td>\n",
       "      <td>3000.0</td>\n",
       "      <td>1950.0</td>\n",
       "      <td>150.0</td>\n",
       "      <td>1.0</td>\n",
       "      <td>1.0</td>\n",
       "      <td>30.72</td>\n",
       "      <td>5.0</td>\n",
       "      <td>22.0</td>\n",
       "      <td>22.0</td>\n",
       "      <td>2.200674</td>\n",
       "    </tr>\n",
       "    <tr>\n",
       "      <th>1</th>\n",
       "      <td>1000</td>\n",
       "      <td>52.0</td>\n",
       "      <td>NaT</td>\n",
       "      <td>Краснодар</td>\n",
       "      <td>Рафаил</td>\n",
       "      <td>Верещагин</td>\n",
       "      <td>2018-05-25</td>\n",
       "      <td>ultra</td>\n",
       "      <td>1000.0</td>\n",
       "      <td>3000.0</td>\n",
       "      <td>1950.0</td>\n",
       "      <td>150.0</td>\n",
       "      <td>1.0</td>\n",
       "      <td>1.0</td>\n",
       "      <td>30.72</td>\n",
       "      <td>6.0</td>\n",
       "      <td>43.0</td>\n",
       "      <td>60.0</td>\n",
       "      <td>22.689229</td>\n",
       "    </tr>\n",
       "    <tr>\n",
       "      <th>2</th>\n",
       "      <td>1000</td>\n",
       "      <td>52.0</td>\n",
       "      <td>NaT</td>\n",
       "      <td>Краснодар</td>\n",
       "      <td>Рафаил</td>\n",
       "      <td>Верещагин</td>\n",
       "      <td>2018-05-25</td>\n",
       "      <td>ultra</td>\n",
       "      <td>1000.0</td>\n",
       "      <td>3000.0</td>\n",
       "      <td>1950.0</td>\n",
       "      <td>150.0</td>\n",
       "      <td>1.0</td>\n",
       "      <td>1.0</td>\n",
       "      <td>30.72</td>\n",
       "      <td>7.0</td>\n",
       "      <td>47.0</td>\n",
       "      <td>75.0</td>\n",
       "      <td>13.675430</td>\n",
       "    </tr>\n",
       "    <tr>\n",
       "      <th>3</th>\n",
       "      <td>1000</td>\n",
       "      <td>52.0</td>\n",
       "      <td>NaT</td>\n",
       "      <td>Краснодар</td>\n",
       "      <td>Рафаил</td>\n",
       "      <td>Верещагин</td>\n",
       "      <td>2018-05-25</td>\n",
       "      <td>ultra</td>\n",
       "      <td>1000.0</td>\n",
       "      <td>3000.0</td>\n",
       "      <td>1950.0</td>\n",
       "      <td>150.0</td>\n",
       "      <td>1.0</td>\n",
       "      <td>1.0</td>\n",
       "      <td>30.72</td>\n",
       "      <td>8.0</td>\n",
       "      <td>52.0</td>\n",
       "      <td>81.0</td>\n",
       "      <td>13.726494</td>\n",
       "    </tr>\n",
       "    <tr>\n",
       "      <th>4</th>\n",
       "      <td>1000</td>\n",
       "      <td>52.0</td>\n",
       "      <td>NaT</td>\n",
       "      <td>Краснодар</td>\n",
       "      <td>Рафаил</td>\n",
       "      <td>Верещагин</td>\n",
       "      <td>2018-05-25</td>\n",
       "      <td>ultra</td>\n",
       "      <td>1000.0</td>\n",
       "      <td>3000.0</td>\n",
       "      <td>1950.0</td>\n",
       "      <td>150.0</td>\n",
       "      <td>1.0</td>\n",
       "      <td>1.0</td>\n",
       "      <td>30.72</td>\n",
       "      <td>9.0</td>\n",
       "      <td>58.0</td>\n",
       "      <td>57.0</td>\n",
       "      <td>14.227451</td>\n",
       "    </tr>\n",
       "    <tr>\n",
       "      <th>...</th>\n",
       "      <td>...</td>\n",
       "      <td>...</td>\n",
       "      <td>...</td>\n",
       "      <td>...</td>\n",
       "      <td>...</td>\n",
       "      <td>...</td>\n",
       "      <td>...</td>\n",
       "      <td>...</td>\n",
       "      <td>...</td>\n",
       "      <td>...</td>\n",
       "      <td>...</td>\n",
       "      <td>...</td>\n",
       "      <td>...</td>\n",
       "      <td>...</td>\n",
       "      <td>...</td>\n",
       "      <td>...</td>\n",
       "      <td>...</td>\n",
       "      <td>...</td>\n",
       "      <td>...</td>\n",
       "    </tr>\n",
       "    <tr>\n",
       "      <th>3197</th>\n",
       "      <td>1498</td>\n",
       "      <td>68.0</td>\n",
       "      <td>2018-10-25</td>\n",
       "      <td>Владикавказ</td>\n",
       "      <td>Всеволод</td>\n",
       "      <td>Акимчин</td>\n",
       "      <td>2018-07-19</td>\n",
       "      <td>smart</td>\n",
       "      <td>50.0</td>\n",
       "      <td>500.0</td>\n",
       "      <td>550.0</td>\n",
       "      <td>200.0</td>\n",
       "      <td>3.0</td>\n",
       "      <td>3.0</td>\n",
       "      <td>15.36</td>\n",
       "      <td>10.0</td>\n",
       "      <td>41.0</td>\n",
       "      <td>42.0</td>\n",
       "      <td>20.097031</td>\n",
       "    </tr>\n",
       "    <tr>\n",
       "      <th>3198</th>\n",
       "      <td>1499</td>\n",
       "      <td>35.0</td>\n",
       "      <td>NaT</td>\n",
       "      <td>Пермь</td>\n",
       "      <td>Гектор</td>\n",
       "      <td>Корнилов</td>\n",
       "      <td>2018-09-27</td>\n",
       "      <td>smart</td>\n",
       "      <td>50.0</td>\n",
       "      <td>500.0</td>\n",
       "      <td>550.0</td>\n",
       "      <td>200.0</td>\n",
       "      <td>3.0</td>\n",
       "      <td>3.0</td>\n",
       "      <td>15.36</td>\n",
       "      <td>9.0</td>\n",
       "      <td>9.0</td>\n",
       "      <td>11.0</td>\n",
       "      <td>1.802490</td>\n",
       "    </tr>\n",
       "    <tr>\n",
       "      <th>3199</th>\n",
       "      <td>1499</td>\n",
       "      <td>35.0</td>\n",
       "      <td>NaT</td>\n",
       "      <td>Пермь</td>\n",
       "      <td>Гектор</td>\n",
       "      <td>Корнилов</td>\n",
       "      <td>2018-09-27</td>\n",
       "      <td>smart</td>\n",
       "      <td>50.0</td>\n",
       "      <td>500.0</td>\n",
       "      <td>550.0</td>\n",
       "      <td>200.0</td>\n",
       "      <td>3.0</td>\n",
       "      <td>3.0</td>\n",
       "      <td>15.36</td>\n",
       "      <td>10.0</td>\n",
       "      <td>68.0</td>\n",
       "      <td>48.0</td>\n",
       "      <td>17.371592</td>\n",
       "    </tr>\n",
       "    <tr>\n",
       "      <th>3200</th>\n",
       "      <td>1499</td>\n",
       "      <td>35.0</td>\n",
       "      <td>NaT</td>\n",
       "      <td>Пермь</td>\n",
       "      <td>Гектор</td>\n",
       "      <td>Корнилов</td>\n",
       "      <td>2018-09-27</td>\n",
       "      <td>smart</td>\n",
       "      <td>50.0</td>\n",
       "      <td>500.0</td>\n",
       "      <td>550.0</td>\n",
       "      <td>200.0</td>\n",
       "      <td>3.0</td>\n",
       "      <td>3.0</td>\n",
       "      <td>15.36</td>\n",
       "      <td>11.0</td>\n",
       "      <td>74.0</td>\n",
       "      <td>59.0</td>\n",
       "      <td>17.542295</td>\n",
       "    </tr>\n",
       "    <tr>\n",
       "      <th>3201</th>\n",
       "      <td>1499</td>\n",
       "      <td>35.0</td>\n",
       "      <td>NaT</td>\n",
       "      <td>Пермь</td>\n",
       "      <td>Гектор</td>\n",
       "      <td>Корнилов</td>\n",
       "      <td>2018-09-27</td>\n",
       "      <td>smart</td>\n",
       "      <td>50.0</td>\n",
       "      <td>500.0</td>\n",
       "      <td>550.0</td>\n",
       "      <td>200.0</td>\n",
       "      <td>3.0</td>\n",
       "      <td>3.0</td>\n",
       "      <td>15.36</td>\n",
       "      <td>12.0</td>\n",
       "      <td>69.0</td>\n",
       "      <td>66.0</td>\n",
       "      <td>12.749590</td>\n",
       "    </tr>\n",
       "  </tbody>\n",
       "</table>\n",
       "<p>3202 rows × 19 columns</p>\n",
       "</div>"
      ],
      "text/plain": [
       "     user_id   age churn_date         city first_name  last_name   reg_date  \\\n",
       "0       1000  52.0        NaT    Краснодар     Рафаил  Верещагин 2018-05-25   \n",
       "1       1000  52.0        NaT    Краснодар     Рафаил  Верещагин 2018-05-25   \n",
       "2       1000  52.0        NaT    Краснодар     Рафаил  Верещагин 2018-05-25   \n",
       "3       1000  52.0        NaT    Краснодар     Рафаил  Верещагин 2018-05-25   \n",
       "4       1000  52.0        NaT    Краснодар     Рафаил  Верещагин 2018-05-25   \n",
       "...      ...   ...        ...          ...        ...        ...        ...   \n",
       "3197    1498  68.0 2018-10-25  Владикавказ   Всеволод    Акимчин 2018-07-19   \n",
       "3198    1499  35.0        NaT        Пермь     Гектор   Корнилов 2018-09-27   \n",
       "3199    1499  35.0        NaT        Пермь     Гектор   Корнилов 2018-09-27   \n",
       "3200    1499  35.0        NaT        Пермь     Гектор   Корнилов 2018-09-27   \n",
       "3201    1499  35.0        NaT        Пермь     Гектор   Корнилов 2018-09-27   \n",
       "\n",
       "     tariff_name  messages_included  minutes_included  rub_monthly_fee  \\\n",
       "0          ultra             1000.0            3000.0           1950.0   \n",
       "1          ultra             1000.0            3000.0           1950.0   \n",
       "2          ultra             1000.0            3000.0           1950.0   \n",
       "3          ultra             1000.0            3000.0           1950.0   \n",
       "4          ultra             1000.0            3000.0           1950.0   \n",
       "...          ...                ...               ...              ...   \n",
       "3197       smart               50.0             500.0            550.0   \n",
       "3198       smart               50.0             500.0            550.0   \n",
       "3199       smart               50.0             500.0            550.0   \n",
       "3200       smart               50.0             500.0            550.0   \n",
       "3201       smart               50.0             500.0            550.0   \n",
       "\n",
       "      rub_per_gb  rub_per_message  rub_per_minute  gb_per_month_included  \\\n",
       "0          150.0              1.0             1.0                  30.72   \n",
       "1          150.0              1.0             1.0                  30.72   \n",
       "2          150.0              1.0             1.0                  30.72   \n",
       "3          150.0              1.0             1.0                  30.72   \n",
       "4          150.0              1.0             1.0                  30.72   \n",
       "...          ...              ...             ...                    ...   \n",
       "3197       200.0              3.0             3.0                  15.36   \n",
       "3198       200.0              3.0             3.0                  15.36   \n",
       "3199       200.0              3.0             3.0                  15.36   \n",
       "3200       200.0              3.0             3.0                  15.36   \n",
       "3201       200.0              3.0             3.0                  15.36   \n",
       "\n",
       "      month  minutes  messages    gb_used  \n",
       "0       5.0     22.0      22.0   2.200674  \n",
       "1       6.0     43.0      60.0  22.689229  \n",
       "2       7.0     47.0      75.0  13.675430  \n",
       "3       8.0     52.0      81.0  13.726494  \n",
       "4       9.0     58.0      57.0  14.227451  \n",
       "...     ...      ...       ...        ...  \n",
       "3197   10.0     41.0      42.0  20.097031  \n",
       "3198    9.0      9.0      11.0   1.802490  \n",
       "3199   10.0     68.0      48.0  17.371592  \n",
       "3200   11.0     74.0      59.0  17.542295  \n",
       "3201   12.0     69.0      66.0  12.749590  \n",
       "\n",
       "[3202 rows x 19 columns]"
      ]
     },
     "execution_count": 34,
     "metadata": {},
     "output_type": "execute_result"
    }
   ],
   "source": [
    "users_total = (users\n",
    "               .merge(tariffs,\n",
    "                      on = 'tariff_name',\n",
    "                      how = 'left'\n",
    "                          )\n",
    "               .merge(users_calls,\n",
    "                     on = 'user_id',\n",
    "                     how = 'left',\n",
    "                     )\n",
    "               .merge(users_messages,\n",
    "                     on = ['user_id', 'month'],\n",
    "                     how = 'outer'\n",
    "                     )\n",
    "               .merge(users_internet,\n",
    "                     on = ['user_id', 'month'])\n",
    "\n",
    "              )\n",
    "users_total"
   ]
  },
  {
   "cell_type": "code",
   "execution_count": 35,
   "id": "d0e44088-f114-4fc2-9822-153af291d1cb",
   "metadata": {},
   "outputs": [],
   "source": [
    "users_total['additional_payment'] = 0\n",
    "def additional_payment(row):\n",
    "    if row['messages'] > row['messages_included']:\n",
    "        row['additional_payment'] += (row['messages'] - row['messages_included'])*row['rub_per_message']\n",
    "    if row['minutes'] > row['minutes_included']:\n",
    "        row['additional_payment'] += (row['minutes'] - row['minutes_included'])*row['rub_per_minute']\n",
    "    if row['gb_used'] > row['gb_per_month_included']:\n",
    "        row['additional_payment'] += (row['gb_used'] - row['gb_per_month_included'])*row['rub_per_gb']\n",
    "    return round(row['additional_payment'],2)\n",
    "users_total['additional_payment'] = users_total.apply(additional_payment, axis=1)"
   ]
  },
  {
   "cell_type": "code",
   "execution_count": 36,
   "id": "b82a390a-8ef3-44ea-8726-9b01a15d2e0f",
   "metadata": {},
   "outputs": [
    {
     "data": {
      "text/plain": [
       "np.int64(1585)"
      ]
     },
     "execution_count": 36,
     "metadata": {},
     "output_type": "execute_result"
    }
   ],
   "source": [
    "users_total.query('additional_payment != 0')['user_id'].count()"
   ]
  },
  {
   "cell_type": "markdown",
   "id": "096e28a0-3137-4fca-beca-7b0353c94684",
   "metadata": {},
   "source": [
    "## 4. Hypotheses"
   ]
  },
  {
   "cell_type": "markdown",
   "id": "77944c72-dd83-4f2d-ae2c-a07c42b0b31d",
   "metadata": {},
   "source": [
    "### 4.1. Средняя выручка с пользователей Ультра и Смарт тарифов"
   ]
  },
  {
   "cell_type": "code",
   "execution_count": 37,
   "id": "277b55fb-a90e-4f8a-93a3-07230b9388c2",
   "metadata": {},
   "outputs": [],
   "source": [
    "users_total['total_cost'] = users_total.rub_monthly_fee+users_total.additional_payment"
   ]
  },
  {
   "cell_type": "code",
   "execution_count": 38,
   "id": "ed18880b-045e-4741-b6b3-16d758077fc7",
   "metadata": {},
   "outputs": [
    {
     "data": {
      "text/plain": [
       "<Axes: ylabel='Frequency'>"
      ]
     },
     "execution_count": 38,
     "metadata": {},
     "output_type": "execute_result"
    },
    {
     "data": {
      "image/png": "[encoded data removed]",
      "text/plain": [
       "<Figure size 640x480 with 1 Axes>"
      ]
     },
     "metadata": {},
     "output_type": "display_data"
    }
   ],
   "source": [
    "( users_total\n",
    " .query('tariff_name == \"smart\"')\n",
    " ['total_cost']\n",
    " .plot(kind='hist',\n",
    "       bins = 100,\n",
    "      range = (550,3000))\n",
    ")"
   ]
  },
  {
   "cell_type": "code",
   "execution_count": 39,
   "id": "0250727c-8079-40bf-b851-d9cca3cbad94",
   "metadata": {},
   "outputs": [
    {
     "data": {
      "text/plain": [
       "count    2222.000000\n",
       "mean     1065.377687\n",
       "std       683.497274\n",
       "min       550.000000\n",
       "25%       550.000000\n",
       "50%       725.325000\n",
       "75%      1415.167500\n",
       "max      5106.780000\n",
       "Name: total_cost, dtype: float64"
      ]
     },
     "execution_count": 39,
     "metadata": {},
     "output_type": "execute_result"
    }
   ],
   "source": [
    "( users_total\n",
    " .query('tariff_name == \"smart\"')\n",
    " ['total_cost'].describe()\n",
    ")"
   ]
  },
  {
   "cell_type": "code",
   "execution_count": 40,
   "id": "a321f3d6-229a-4247-a006-d162ff3f1e80",
   "metadata": {},
   "outputs": [
    {
     "data": {
      "text/plain": [
       "<Axes: ylabel='Frequency'>"
      ]
     },
     "execution_count": 40,
     "metadata": {},
     "output_type": "execute_result"
    },
    {
     "data": {
      "image/png": "[encoded data removed]",
      "text/plain": [
       "<Figure size 640x480 with 1 Axes>"
      ]
     },
     "metadata": {},
     "output_type": "display_data"
    }
   ],
   "source": [
    "( users_total\n",
    " .query('tariff_name == \"ultra\"')\n",
    " ['total_cost']\n",
    " .plot(kind='hist',\n",
    "       bins = 100,\n",
    "      range = (1950,3000))\n",
    ")"
   ]
  },
  {
   "cell_type": "code",
   "execution_count": 41,
   "id": "ddcc2fff-105e-4c57-89eb-dfc90bdcab70",
   "metadata": {},
   "outputs": [
    {
     "data": {
      "text/plain": [
       "count     941.000000\n",
       "mean     2047.685484\n",
       "std       331.327674\n",
       "min      1950.000000\n",
       "25%      1950.000000\n",
       "50%      1950.000000\n",
       "75%      1950.000000\n",
       "max      4628.970000\n",
       "Name: total_cost, dtype: float64"
      ]
     },
     "execution_count": 41,
     "metadata": {},
     "output_type": "execute_result"
    }
   ],
   "source": [
    "( users_total\n",
    " .query('tariff_name == \"ultra\"')\n",
    " ['total_cost'].describe()\n",
    ")"
   ]
  },
  {
   "cell_type": "markdown",
   "id": "b6988064-888e-45a1-a7fe-2a3d53006fe2",
   "metadata": {},
   "source": [
    "### 4.2. Средняя выручка пользователей из Москвы отличается от выручки пользователей из других регионов."
   ]
  },
  {
   "cell_type": "code",
   "execution_count": 42,
   "id": "26d65eb5-79e3-488e-bb0c-643e399ae6c8",
   "metadata": {},
   "outputs": [
    {
     "data": {
      "text/plain": [
       "count     610.000000\n",
       "mean     1398.192344\n",
       "std       727.036365\n",
       "min       550.000000\n",
       "25%       550.000000\n",
       "50%      1516.905000\n",
       "75%      1950.000000\n",
       "max      4389.040000\n",
       "Name: total_cost, dtype: float64"
      ]
     },
     "execution_count": 42,
     "metadata": {},
     "output_type": "execute_result"
    }
   ],
   "source": [
    "( users_total\n",
    " .query('city == \"Москва\"')\n",
    " ['total_cost'].describe()\n",
    ")"
   ]
  },
  {
   "cell_type": "code",
   "execution_count": 43,
   "id": "0a06c19c-266a-4120-9a45-ca8e9b5d3d3a",
   "metadata": {},
   "outputs": [
    {
     "data": {
      "text/plain": [
       "count    2553.000000\n",
       "mean     1347.921633\n",
       "std       755.203560\n",
       "min       550.000000\n",
       "25%       562.490000\n",
       "50%      1268.320000\n",
       "75%      1950.000000\n",
       "max      5106.780000\n",
       "Name: total_cost, dtype: float64"
      ]
     },
     "execution_count": 43,
     "metadata": {},
     "output_type": "execute_result"
    }
   ],
   "source": [
    "( users_total\n",
    " .query('city != \"Москва\"')\n",
    " ['total_cost'].describe()\n",
    ")"
   ]
  },
  {
   "cell_type": "markdown",
   "id": "b72a32b1-b856-4651-b337-7dcec6ab859b",
   "metadata": {},
   "source": [
    "### 4.3 Month differences"
   ]
  },
  {
   "cell_type": "markdown",
   "id": "c945c34a-c1d6-469f-a06a-9daeda5f87f0",
   "metadata": {},
   "source": [
    "Let's try to find behavioural patterns by months"
   ]
  },
  {
   "cell_type": "code",
   "execution_count": 44,
   "id": "990a4dfd-fab9-41c0-b537-61b913b35858",
   "metadata": {
    "scrolled": true
   },
   "outputs": [
    {
     "data": {
      "image/png": "[encoded data removed]",
      "text/plain": [
       "<Figure size 640x480 with 1 Axes>"
      ]
     },
     "metadata": {},
     "output_type": "display_data"
    }
   ],
   "source": [
    "monthly_costs = (users_total\n",
    "                 .pivot_table(\n",
    "                     index=['month'],\n",
    "                     values = 'total_cost',\n",
    "                     aggfunc = 'mean'\n",
    "                 )\n",
    "                 .round(2)\n",
    "                 .reset_index()\n",
    "   )\n",
    "monthly_costs\n",
    "monthly_costs.plot(kind='line', x='month')\n",
    "plt.xticks(np.arange(0, 13, 1))\n",
    "plt.show()"
   ]
  },
  {
   "cell_type": "markdown",
   "id": "efcbc26f-0430-4105-a5fc-36e657512100",
   "metadata": {},
   "source": [
    "### 4.4. Tariff usage differences"
   ]
  },
  {
   "cell_type": "code",
   "execution_count": 45,
   "id": "a357609f-3fe1-4a3f-880a-519799b4f63a",
   "metadata": {},
   "outputs": [
    {
     "data": {
      "text/html": [
       "<div>\n",
       "<style scoped>\n",
       "    .dataframe tbody tr th:only-of-type {\n",
       "        vertical-align: middle;\n",
       "    }\n",
       "\n",
       "    .dataframe tbody tr th {\n",
       "        vertical-align: top;\n",
       "    }\n",
       "\n",
       "    .dataframe thead th {\n",
       "        text-align: right;\n",
       "    }\n",
       "</style>\n",
       "<table border=\"1\" class=\"dataframe\">\n",
       "  <thead>\n",
       "    <tr style=\"text-align: right;\">\n",
       "      <th></th>\n",
       "      <th>gb_used</th>\n",
       "      <th>messages</th>\n",
       "      <th>minutes</th>\n",
       "    </tr>\n",
       "    <tr>\n",
       "      <th>tariff_name</th>\n",
       "      <th></th>\n",
       "      <th></th>\n",
       "      <th></th>\n",
       "    </tr>\n",
       "  </thead>\n",
       "  <tbody>\n",
       "    <tr>\n",
       "      <th>smart</th>\n",
       "      <td>15.836583</td>\n",
       "      <td>38.767102</td>\n",
       "      <td>58.645815</td>\n",
       "    </tr>\n",
       "    <tr>\n",
       "      <th>ultra</th>\n",
       "      <td>19.208285</td>\n",
       "      <td>61.640957</td>\n",
       "      <td>76.458023</td>\n",
       "    </tr>\n",
       "  </tbody>\n",
       "</table>\n",
       "</div>"
      ],
      "text/plain": [
       "               gb_used   messages    minutes\n",
       "tariff_name                                 \n",
       "smart        15.836583  38.767102  58.645815\n",
       "ultra        19.208285  61.640957  76.458023"
      ]
     },
     "execution_count": 45,
     "metadata": {},
     "output_type": "execute_result"
    }
   ],
   "source": [
    "tariff_usage = (users_total\n",
    "               .pivot_table(\n",
    "                   index='tariff_name',\n",
    "                   values = ['minutes','messages','gb_used']\n",
    "               )\n",
    "               )\n",
    "tariff_usage"
   ]
  },
  {
   "cell_type": "code",
   "execution_count": 46,
   "id": "20362017-cf56-42fa-b080-86e12c92ed71",
   "metadata": {},
   "outputs": [
    {
     "name": "stdout",
     "output_type": "stream",
     "text": [
      "We could conclude that ultra users spend 21.0% more internet, 59.0% more messages and 30.0% more minutes\n"
     ]
    }
   ],
   "source": [
    "print(f'We could conclude that ultra users spend {((tariff_usage.loc[\"ultra\"][\"gb_used\"] / tariff_usage.loc[\"smart\"][\"gb_used\"] - 1) * 100).round(0)}% more internet, {((tariff_usage.loc[\"ultra\"][\"messages\"] / tariff_usage.loc[\"smart\"][\"messages\"] - 1) * 100).round(0)}% more messages and {((tariff_usage.loc[\"ultra\"][\"minutes\"] / tariff_usage.loc[\"smart\"][\"minutes\"] - 1) * 100).round(0)}% more minutes')"
   ]
  },
  {
   "cell_type": "markdown",
   "id": "abe1deb2-d4a0-49c6-8854-6b244107bb8c",
   "metadata": {},
   "source": [
    "* Null Hypothesis (`H₀`): The two groups (`'smart'` and `'ultra'`) have equal average total costs.\n",
    "* Alternative Hypothesis (`H₁`): The average total costs are not equal between the two groups."
   ]
  },
  {
   "cell_type": "code",
   "execution_count": 49,
   "id": "105f9ce0-a579-4b3e-a83b-7827f834f264",
   "metadata": {},
   "outputs": [
    {
     "name": "stdout",
     "output_type": "stream",
     "text": [
      "p-значение: 3.2646080691274068e-307\n",
      "Отвергаем нулевую гипотезу\n"
     ]
    }
   ],
   "source": [
    "alpha = .01 # significance level for the hypothesis test. It testing wheter the observed difference between two grousp is statistically significant\n",
    "# at the 1% level\n",
    "\n",
    "results = st.ttest_ind(   #t-test. It calculates the sample means and standart deviation for both groups\n",
    "    users_total.query('tariff_name ==\"smart\"')['total_cost'], \n",
    "    users_total.query('tariff_name ==\"ultra\"')['total_cost']\n",
    ") # After calculating ttest applies the t-test formulate to estimate the difference in means, standard errors, and calculates the p-value\n",
    "\n",
    "print('p-значение:', results.pvalue)\n",
    "\n",
    "if (results.pvalue < alpha): #\n",
    "    print(\"Отвергаем нулевую гипотезу\")\n",
    "else:\n",
    "    print(\"Не получилось отвергнуть нулевую гипотезу\")"
   ]
  },
  {
   "cell_type": "code",
   "execution_count": null,
   "id": "7243ed80-675f-4f7f-9433-4993a7d35a4a",
   "metadata": {},
   "outputs": [],
   "source": []
  },
  {
   "cell_type": "markdown",
   "id": "60b2f897-4c6b-4f7b-8e20-1f8f0f2c96e2",
   "metadata": {},
   "source": [
    "### 4.5. Dispersion and std "
   ]
  },
  {
   "cell_type": "markdown",
   "id": "b674a9d7-07f0-465a-8156-974f7eedb6ba",
   "metadata": {},
   "source": [
    "#### 4.5.1. Calls"
   ]
  },
  {
   "cell_type": "code",
   "execution_count": null,
   "id": "690f945e-0c35-459c-90e6-c2179928c220",
   "metadata": {},
   "outputs": [],
   "source": [
    "calls_ultra = (users_total\n",
    " .query('tariff_name ==\"ultra\"')[['user_id','minutes']])\n",
    "calls_smart = (users_total\n",
    " .query('tariff_name ==\"smart\"')[['user_id','minutes']])\n",
    "\n",
    "fig, ax = plt.subplots()\n",
    "calls_ultra['minutes'].plot(\n",
    "    kind = 'hist',\n",
    "    bins = 100,\n",
    "    alpha = 0.7,\n",
    "    label = 'ultra',\n",
    "    range = (0,150),\n",
    "    ax=ax\n",
    ")\n",
    "calls_smart['minutes'].plot(kind = 'hist',\n",
    "      bins = 100,\n",
    "      alpha = 0.7,\n",
    "      label = 'smart',\n",
    "      range = (0,150),\n",
    "      ax=ax,\n",
    "      title = 'Minutes spent'\n",
    "                  )\n",
    "\n",
    "plt.xticks(np.arange(0,150,20))\n",
    "plt.legend(loc='upper right')\n",
    "plt.show()"
   ]
  },
  {
   "cell_type": "markdown",
   "id": "489ceec1-94aa-481d-a2d5-381d8ec4d078",
   "metadata": {},
   "source": [
    "#### 4.5.2. Messages"
   ]
  },
  {
   "cell_type": "code",
   "execution_count": null,
   "id": "0bde2e35-590b-4439-8d6c-6998c4e666af",
   "metadata": {},
   "outputs": [],
   "source": [
    "messages_ultra = (users_total\n",
    " .query('tariff_name == \"ultra\"')[['user_id','messages']])\n",
    "messages_smart = (users_total\n",
    " .query('tariff_name == \"smart\"')[['user_id','messages']])\n",
    "# messages_smart.describe()\n",
    "# messages_ultra.describe()\n",
    "\n",
    "ax=messages_ultra['messages'].plot(kind = 'hist',\n",
    "                    bins = 100,\n",
    "                    alpha = 0.7,\n",
    "                    range = (0,90),\n",
    "                    linewidth=3,\n",
    "                    histtype='step',\n",
    "                    label = 'ultra',\n",
    "                    title = 'Messages sent'\n",
    "                                      )\n",
    "messages_smart['messages'].plot(kind = 'hist',\n",
    "                    bins = 100,\n",
    "                    alpha = 0.6,\n",
    "                    range = (0,90),\n",
    "                    ax=ax,\n",
    "                    histtype='step',\n",
    "                    linewidth=3,\n",
    "                    label = 'smart',\n",
    "                  )\n",
    "\n",
    "plt.xticks(np.arange(0,100,10))\n",
    "plt.legend(loc='upper right')\n",
    "plt.show()"
   ]
  },
  {
   "cell_type": "code",
   "execution_count": null,
   "id": "ba4f7641-e179-4697-915a-ec69a45deea0",
   "metadata": {},
   "outputs": [],
   "source": [
    "messages_stats = {\n",
    "'stat': ['std', 'dispersion'],\n",
    "'ultra': [f'{messages_smart['messages'].std()}',f'{np.var(messages_smart['messages'], ddof = 1)}'],\n",
    "'smart': [f'{messages_ultra['messages'].std()}',f'{np.var(messages_ultra['messages'], ddof = 1)}']\n",
    "}\n",
    "calls_stats = pd.DataFrame(calls_stats)\n",
    "calls_stats"
   ]
  },
  {
   "cell_type": "markdown",
   "id": "28faa9bb-7e2c-401c-afee-8fae4f768d43",
   "metadata": {},
   "source": [
    "#### 4.5.3. Internet"
   ]
  },
  {
   "cell_type": "code",
   "execution_count": 54,
   "id": "481f254f-0f8c-409e-90a5-64ca834e716c",
   "metadata": {},
   "outputs": [
    {
     "data": {
      "image/png": "[encoded data removed]",
      "text/plain": [
       "<Figure size 640x480 with 1 Axes>"
      ]
     },
     "metadata": {},
     "output_type": "display_data"
    }
   ],
   "source": [
    "internet_ultra = (users_total\n",
    " .query('tariff_name == \"ultra\"')[['user_id','gb_used']])\n",
    "internet_smart = (users_total\n",
    " .query('tariff_name == \"smart\"')[['user_id','gb_used']])\n",
    "# internet_smart.describe()\n",
    "# internet_ultra.describe()\n",
    "\n",
    "ax=internet_ultra['gb_used'].plot(kind = 'hist',\n",
    "                    bins = 100,\n",
    "                    alpha = 0.7,\n",
    "                    range = (0,30),\n",
    "                    linewidth=3,\n",
    "                    histtype='step',\n",
    "                    label = 'ultra',\n",
    "                    title = 'Internet usage'\n",
    "                                      )\n",
    "internet_smart['gb_used'].plot(kind = 'hist',\n",
    "                    bins = 100,\n",
    "                    alpha = 0.6,\n",
    "                    range = (0,30),\n",
    "                    ax=ax,\n",
    "                    histtype='step',\n",
    "                    linewidth=3,\n",
    "                    label = 'smart',\n",
    "                  )\n",
    "\n",
    "plt.xticks(np.arange(0,35,5))\n",
    "plt.legend(loc='upper right')\n",
    "plt.show()"
   ]
  },
  {
   "cell_type": "code",
   "execution_count": 57,
   "id": "aeded2e3-1cc7-437c-83c7-e01be206a1c0",
   "metadata": {
    "scrolled": true
   },
   "outputs": [
    {
     "data": {
      "text/html": [
       "<div>\n",
       "<style scoped>\n",
       "    .dataframe tbody tr th:only-of-type {\n",
       "        vertical-align: middle;\n",
       "    }\n",
       "\n",
       "    .dataframe tbody tr th {\n",
       "        vertical-align: top;\n",
       "    }\n",
       "\n",
       "    .dataframe thead th {\n",
       "        text-align: right;\n",
       "    }\n",
       "</style>\n",
       "<table border=\"1\" class=\"dataframe\">\n",
       "  <thead>\n",
       "    <tr style=\"text-align: right;\">\n",
       "      <th></th>\n",
       "      <th>stat</th>\n",
       "      <th>ultra</th>\n",
       "      <th>smart</th>\n",
       "    </tr>\n",
       "  </thead>\n",
       "  <tbody>\n",
       "    <tr>\n",
       "      <th>0</th>\n",
       "      <td>std</td>\n",
       "      <td>5.7299834790042885</td>\n",
       "      <td>9.744655297697093</td>\n",
       "    </tr>\n",
       "    <tr>\n",
       "      <th>1</th>\n",
       "      <td>dispersion</td>\n",
       "      <td>32.83271066966209</td>\n",
       "      <td>94.95830687093601</td>\n",
       "    </tr>\n",
       "  </tbody>\n",
       "</table>\n",
       "</div>"
      ],
      "text/plain": [
       "         stat               ultra              smart\n",
       "0         std  5.7299834790042885  9.744655297697093\n",
       "1  dispersion   32.83271066966209  94.95830687093601"
      ]
     },
     "execution_count": 57,
     "metadata": {},
     "output_type": "execute_result"
    }
   ],
   "source": [
    "internet_stats = {\n",
    "'stat': ['std', 'dispersion'],\n",
    "'ultra': [f'{internet_smart['gb_used'].std()}',f'{np.var(internet_smart['gb_used'], ddof = 1)}'],\n",
    "'smart': [f'{internet_ultra['gb_used'].std()}',f'{np.var(internet_ultra['gb_used'], ddof = 1)}']\n",
    "}\n",
    "internet_stats = pd.DataFrame(internet_stats)\n",
    "internet_stats"
   ]
  },
  {
   "cell_type": "markdown",
   "id": "7df2f039-a7a1-4654-954f-26e0192addac",
   "metadata": {},
   "source": [
    "## 5. Testing hypotheses "
   ]
  },
  {
   "cell_type": "markdown",
   "id": "29590a80-4bd6-4c34-b629-5eb7b42eec75",
   "metadata": {},
   "source": [
    "### 5.1. Average costs of `smart` and `ultra` users differs"
   ]
  },
  {
   "cell_type": "markdown",
   "id": "8c125369-4ca3-4419-af01-1df4bdeb132e",
   "metadata": {},
   "source": [
    "* Null Hypothesis (`H₀`): The two groups (`'smart'` and `'ultra'`) have equal average total costs.\n",
    "* Alternative Hypothesis (`H₁`): The average total costs are not equal between the two groups."
   ]
  },
  {
   "cell_type": "code",
   "execution_count": 52,
   "id": "0437016a-8358-4644-8514-2627f6cd7ce0",
   "metadata": {},
   "outputs": [
    {
     "name": "stdout",
     "output_type": "stream",
     "text": [
      "p-значение: 3.2646080691274068e-307\n",
      "Отвергаем нулевую гипотезу\n"
     ]
    }
   ],
   "source": [
    "alpha = .01 # significance level for the hypothesis test. It testing wheter the observed difference between two grousp is statistically significant\n",
    "# at the 1% level\n",
    "\n",
    "results = st.ttest_ind(   #t-test. It calculates the sample means and standart deviation for both groups\n",
    "    users_total.query('tariff_name ==\"smart\"')['total_cost'], \n",
    "    users_total.query('tariff_name ==\"ultra\"')['total_cost']\n",
    ") # After calculating ttest applies the t-test formulate to estimate the difference in means, standard errors, and calculates the p-value\n",
    "\n",
    "print('p-значение:', results.pvalue)\n",
    "\n",
    "if (results.pvalue < alpha): #The p-value is the probability of obtaining a test statistic as extreme as the one observed, assuming the null hypothesis is true.\n",
    "    print(\"Отвергаем нулевую гипотезу\")\n",
    "else:\n",
    "    print(\"Не получилось отвергнуть нулевую гипотезу\")"
   ]
  },
  {
   "cell_type": "markdown",
   "id": "9fdeac08-5334-4f46-957a-cc2d08a30389",
   "metadata": {},
   "source": [
    "### 5.2. Cредняя выручка пользователей из Москвы отличается от выручки пользователей из других регионов"
   ]
  },
  {
   "cell_type": "markdown",
   "id": "dc4231f2-5d47-47bb-8f33-2befc07b1eea",
   "metadata": {},
   "source": [
    "Нулевая гипотеза `H₀`:\n",
    "\n",
    "Cредняя выручка пользователей из Москвы не отличается от выручки пользователей из других регионов\n",
    "\n",
    "Исходя из `H₀` формулируется альтернативная гипотеза `H₁`:\n",
    "\n",
    "Cредняя выручка пользователей из Москвы отличается от выручки пользователей из других регионов\n",
    "\n",
    "Пороговое значение `alpha` (критический уровень статистической значимости) зададим равным `5%`."
   ]
  },
  {
   "cell_type": "code",
   "execution_count": 58,
   "id": "2cc56e46-31e9-444d-aa3d-7e53f828f77f",
   "metadata": {},
   "outputs": [
    {
     "name": "stdout",
     "output_type": "stream",
     "text": [
      "p-значение: 2.0187787491601823e-181\n",
      "Отвергаем нулевую гипотезу\n"
     ]
    }
   ],
   "source": [
    "alpha = .05 # significance level for the hypothesis test. It testing wheter the observed difference between two grousp is statistically significant\n",
    "# at the 5% level\n",
    "\n",
    "results = st.ttest_ind(   #t-test. It calculates the sample means and standart deviation for both groups\n",
    "    users_total.query('tariff_name == \"smart\" and city == \"Москва\"')['total_cost'], \n",
    "    users_total.query('tariff_name == \"ultra\" and city != \"Москва\"')['total_cost']\n",
    ") # After calculating ttest applies the t-test formulate to estimate the difference in means, standard errors, and calculates the p-value\n",
    "\n",
    "print('p-значение:', results.pvalue)\n",
    "\n",
    "if (results.pvalue < alpha): #The p-value is the probability of obtaining a test statistic as extreme as the one observed, assuming the null hypothesis is true.\n",
    "    print(\"Отвергаем нулевую гипотезу\")\n",
    "else:\n",
    "    print(\"Не получилось отвергнуть нулевую гипотезу\")"
   ]
  },
  {
   "cell_type": "code",
   "execution_count": null,
   "id": "9d966c01-455b-4fb3-a704-a6d8cf6c99ac",
   "metadata": {},
   "outputs": [],
   "source": []
  }
 ],
 "metadata": {
  "kernelspec": {
   "display_name": "Python 3 (ipykernel)",
   "language": "python",
   "name": "python3"
  },
  "language_info": {
   "codemirror_mode": {
    "name": "ipython",
    "version": 3
   },
   "file_extension": ".py",
   "mimetype": "text/x-python",
   "name": "python",
   "nbconvert_exporter": "python",
   "pygments_lexer": "ipython3",
   "version": "3.12.3"
  }
 },
 "nbformat": 4,
 "nbformat_minor": 5
}
