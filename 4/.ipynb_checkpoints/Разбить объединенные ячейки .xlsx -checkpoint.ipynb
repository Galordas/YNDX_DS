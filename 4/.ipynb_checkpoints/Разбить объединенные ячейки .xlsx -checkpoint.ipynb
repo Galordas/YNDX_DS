{
 "cells": [
  {
   "cell_type": "code",
   "execution_count": 1,
   "id": "5a2b81b2-9aa4-4d2c-8ac9-d8a57a5ac9cf",
   "metadata": {},
   "outputs": [],
   "source": [
    "import pandas as pd\n",
    "from openpyxl import load_workbook\n",
    "import pandas as pd"
   ]
  },
  {
   "cell_type": "code",
   "execution_count": 24,
   "id": "0a1184d4-f4a6-48d1-9b68-3d2f74d5ab0b",
   "metadata": {},
   "outputs": [],
   "source": [
    "def split_merged_cells(sheet):\n",
    "    merged_cells = list(sheet.merged_cells.ranges)\n",
    "    \n",
    "    # First, iterate through all merged cell ranges and store the top-left cell value and the merged cell range\n",
    "    merged_cells_info = []\n",
    "    for merged_range in merged_cells:\n",
    "        min_col, min_row, max_col, max_row = merged_range.bounds\n",
    "        top_left_cell_value = sheet.cell(row=min_row, column=min_col).value\n",
    "        merged_cells_info.append((top_left_cell_value, merged_range))\n",
    "    \n",
    "    # Unmerge all merged cell ranges\n",
    "    for _, merged_range in merged_cells_info:\n",
    "        sheet.unmerge_cells(str(merged_range))\n",
    "    \n",
    "    # Iterate through the stored merged cell ranges and fill in the top-left cell value for all cells in the previously merged ranges\n",
    "    for top_left_cell_value, merged_range in merged_cells_info:\n",
    "        min_col, min_row, max_col, max_row = merged_range.bounds\n",
    "        for row in sheet.iter_rows(min_row=min_row, max_row=max_row, min_col=min_col, max_col=max_col):\n",
    "            for cell in row:\n",
    "                cell.value = top_left_cell_value\n",
    "\n",
    "# Load the workbook\n",
    "wb = load_workbook(r'C:\\Users\\stazher3\\Desktop\\Наманган насосы.xlsx')\n",
    "sheet = wb['1']\n",
    "\n",
    "# Split merged cells and duplicate values\n",
    "split_merged_cells(sheet)\n",
    "\n",
    "# Convert the adjusted data to a DataFrame\n",
    "data = sheet.values\n",
    "cols = next(data)  # Get the first row as column names\n",
    "data_fergana = pd.DataFrame(data, columns=cols)\n",
    "\n",
    "# Save the DataFrame to a new Excel file\n",
    "data_fergana.to_excel('Наманган насосы mod.xlsx', index=False)\n"
   ]
  },
  {
   "cell_type": "code",
   "execution_count": null,
   "id": "59025d83-005a-4a8d-8b82-b25d456dd805",
   "metadata": {},
   "outputs": [],
   "source": []
  }
 ],
 "metadata": {
  "kernelspec": {
   "display_name": "Python 3 (ipykernel)",
   "language": "python",
   "name": "python3"
  },
  "language_info": {
   "codemirror_mode": {
    "name": "ipython",
    "version": 3
   },
   "file_extension": ".py",
   "mimetype": "text/x-python",
   "name": "python",
   "nbconvert_exporter": "python",
   "pygments_lexer": "ipython3",
   "version": "3.12.3"
  }
 },
 "nbformat": 4,
 "nbformat_minor": 5
}
