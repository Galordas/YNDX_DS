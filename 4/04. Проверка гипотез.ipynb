{
 "cells": [
  {
   "cell_type": "markdown",
   "id": "249e9a9d-28be-47b4-b3ce-21f150bd2f96",
   "metadata": {},
   "source": [
    "#  04. Проверка гипотез"
   ]
  },
  {
   "cell_type": "markdown",
   "id": "d6443599-02ef-46a9-ab2a-aeec3941d337",
   "metadata": {},
   "source": [
    "## 4.1 Поправка Бесселя"
   ]
  },
  {
   "attachments": {},
   "cell_type": "markdown",
   "id": "31bc4609-56b8-4a07-b8a2-d548722e9ff9",
   "metadata": {},
   "source": [
    "Точечная оценка — попытка найти приближённое значение параметра одним числом, то есть точкой на числовой оси. Её используют для разных параметров. Самые распространённые примеры — выборочное среднее и выборочная дисперсия, рассчитанные по выборочным данным.\n",
    "\n",
    "У слова «статистика» есть несколько значений:\n",
    "математическая дисциплина;\n",
    "термин: любая функция, рассчитанная только на данных выборки.\n",
    "Выборочное среднее и выборочная дисперсия — статистики: они рассчитываются на выборке. А `σ/2` — нет. Стандартное отклонение генеральной совокупности, обозначаемое `σ`, — это параметр генеральной совокупности. Узнать его по выборке невозможно, можно только оценить.\n",
    "\n",
    "Поправка Бесселя\n",
    "Точечную оценку ищут с единственной целью: найти число, как можно более близкое к оцениваемому параметру.\n",
    "Доказанный математический факт: если выборка взята случайным образом и в ней больше 30 чисел, то выборочное среднее и дисперсия близки к реальным среднему и дисперсии генеральной совокупности.\n",
    "Важно, что для выборочной дисперсии формула отличается от обычного расчёта дисперсии для заданного набора чисел. В её знаменателе стоит не \n",
    "`n`, а `n − 1`.\n",
    "\n",
    "Деление на `n−1` вместо `n` называется поправкой Бесселя:\n",
    "$$\n",
    "σ^{2} = D(X) = ∑^n_{i=1}(x_i-x̄)^2/(n-1)\n",
    "$$\n",
    "\n",
    "«Крышечка» над сигмой в квадрате означает, что для этого параметра — дисперсии генеральной совокупности — находят оценку. Это альтернатива латинице, показывающая, что это оценённое, а не истинное значение.\n",
    "\n",
    "Точечная оценка называется несмещённой, если математическое ожидание статистики равно оцениваемому параметру."
   ]
  },
  {
   "cell_type": "markdown",
   "id": "8cfd33dc-a841-45e8-80bb-cdd386c2dd7f",
   "metadata": {},
   "source": [
    "## 4.2. Выборочное распределение"
   ]
  },
  {
   "attachments": {},
   "cell_type": "markdown",
   "id": "a4528989-ccb2-4446-b63f-3327c748ce23",
   "metadata": {},
   "source": [
    "Выборочное распределение — это распределение значений интересующей исследователя статистики на всех возможных выборках определённого размера, которые можно взять из некоторой генеральной совокупности.\n",
    "\n",
    "* размер генеральной совокупности: 100\n",
    "* размер выборки: 8\n",
    "* сколько разных выборок такого размера:  186087894300 — выборок размера 8 из генеральной совокупности размера 100 можно взять в десятки раз больше, чем живёт людей на земле.\n",
    "\n",
    "👉🏼 Выборочное распределение не зависит от распределения генеральной совокупности при условии, что исследуемая переменная имеет конечную дисперсию. В противном случае выборочный метод и вовсе неприменим. Поэтому принято по умолчанию предполагать дисперсию конечной. Считается, что бесконечная дисперсия — экзотический феномен, который можно проигнорировать.\n",
    "\n",
    "В локальной сети компании «Паутинка» несколько тысяч серверов онлайн. Системный администратор выбрал из них сорок случайных серверов и измерил время ответа каждого из них в миллисекундах. Из получившихся сорока значений он рассчитал медиану.\n",
    " * Распределение медиан всех возможных наборов сорока серверов, выбранных из нескольких тысяч серверов онлайн.\n",
    "Если взять все возможные выборки из сорока серверов и посчитать медианное время ответа для каждой из них, распределение полученного набора чисел называется выборочным распределением."
   ]
  },
  {
   "cell_type": "markdown",
   "id": "a9025dfd-5590-4489-b431-dee36271d7dc",
   "metadata": {},
   "source": [
    "### 4.3. ЦПТ"
   ]
  },
  {
   "cell_type": "markdown",
   "id": "bcd4d1e1-f093-4c43-8213-c552920e3d1a",
   "metadata": {},
   "source": [
    "Формулировка ЦПТ - если в выборке достаточно наблюдений, выборочное среднее распределено нормально вокруг среднего генеральной совокупности. Генеральная совокупность может быть распределена как угодно: датасет из средних значений выборок всё равно будет нормально распределён вокруг среднего всей совокупности.\n",
    "\n",
    "\n",
    "Часто на практике необходимо понять, равны ли средние двух генеральных недоступных совокупностей. \n",
    "\n",
    "Делать вывод о равенстве нужно по выборкам, и для этого понадобятся \n",
    "* выборочные средние\n",
    "* выборочные дисперсии, потому что разброс данных в совокупностях может повлиять на результат статистического теста.\n",
    " Если разброс данных большой, то небольшая разница между выборочными средними может быть простой случайностью. А если разброс маленький, то даже небольшая разница может означать существенное различие между средними."
   ]
  },
  {
   "cell_type": "markdown",
   "id": "d84fabe0-6316-4ecc-ae6e-7431ee908ac0",
   "metadata": {},
   "source": [
    "Стандартное отклонение выборочного среднего называется стандартной ошибкой `Estimated Standard Error`и находится по формуле:"
   ]
  },
  {
   "cell_type": "markdown",
   "id": "5b9c0a63-fd8a-4bec-9b45-f01debf7dec9",
   "metadata": {},
   "source": [
    "$$\n",
    "E.S.E. = S/\\sqrt{n}\n",
    "$$\n",
    "Формула Е.S.E. состоит из двух значений:\n",
    "* S — стандартное отклонение выборки, которым оценивается стандартное отклонение генеральной совокупности.\n",
    "* n — размер выборки. Раз корень из \n",
    "n стоит в знаменателе, значит, стандартная ошибка уменьшается с увеличением размера выборки."
   ]
  },
  {
   "cell_type": "markdown",
   "id": "926c690c-7659-45ad-b784-f59745148a7b",
   "metadata": {},
   "source": [
    "### 4.4. Формулирование гипотез"
   ]
  },
  {
   "cell_type": "markdown",
   "id": "1c1fd502-0722-4853-bb95-eaf54c24f844",
   "metadata": {},
   "source": [
    "Статистическая гипотеза — на то и статистическая, чтобы утверждать что-то о параметре распределения всей генеральной совокупности исследуемых объектов.\n",
    "В этом курсе гипотезы часто будут связаны со средними значениями генеральных совокупностей и выглядеть так:\n",
    "* среднее генеральной совокупности равно конкретному значению;\n",
    "* средние двух генеральных совокупностей равны между собой;\n",
    "* среднее генеральной совокупности больше (или меньше) конкретного значения;\n",
    "* среднее одной генеральной совокупности больше (или меньше), чем среднее другой.\n",
    "\n",
    "Проверка гипотез начинается с формулировки нулевой гипотезы H₀ (от англ. hypothesis — «гипотеза»). Например, «среднее генеральной совокупности равно A», где А — некоторое число.\n",
    "\n",
    "Исходя из H₀ формулируется альтернативная гипотеза H₁. \n",
    "* Двухсторонняя гипотеза - «среднее генеральной совокупности не равно A»\n",
    "* Одностороняя гипотеза - «среднее генеральной совокупности больше, чем A».\n",
    "* \n"
   ]
  },
  {
   "cell_type": "markdown",
   "id": "966d456b-d7ed-4c1e-9bbf-7b3ebcb927be",
   "metadata": {},
   "source": [
    "### 4.5. Логика проверки двухсторонних гипотез"
   ]
  },
  {
   "cell_type": "markdown",
   "id": "eb2c6956-5902-4ebf-bb26-5b5879bf6891",
   "metadata": {},
   "source": [
    "#### 4.5.1 T-test"
   ]
  },
  {
   "attachments": {},
   "cell_type": "markdown",
   "id": "0b11a4d0-9f02-41b0-93cd-20362d235acc",
   "metadata": {},
   "source": [
    "The `scipy.stats.ttest_1samp(array, popmean)` function is used to perform a one-sample t-test. This statistical test compares the mean of a sample to a known value (often referred to as the \"population mean\" or \"reference value\") to determine if the sample mean is significantly different from the known value.\n",
    "\n",
    "Key Nuances and Possibilities of Usage\n",
    "Sample Data and Population Mean:\n",
    "\n",
    "sample: This is the array of sample data points. It can be any iterable (like a list or NumPy array) containing numerical values.\n",
    "popmean: This is the known population mean against which the sample mean is compared. It can be a single value or an array-like object of the same length as sample if you want to compare multiple means.\n",
    "Alternative Hypothesis:\n",
    "\n",
    "* `alternative='two-sided'`: This is the default option, testing whether the sample mean is different from the population mean.\n",
    "* `alternative='less'`: Tests whether the sample mean is less than the population mean.\n",
    "* `alternative='greater'`: Tests whether the sample mean is greater than the population mean.\n",
    "\n",
    "`NaN` Handling:\n",
    "\n",
    "* `nan_policy='propagate'`: This is the default, which returns NaN if the input contains NaN values.\n",
    "* `nan_policy='raise'`: Raises an error if the input contains NaN values.\n",
    "* `nan_policy='omit'`: Ignores NaN values in the input.\n",
    "\n",
    "#### `t-statistic`\n",
    "The `t-statistic` is a measure of how many standard errors the sample mean is away from the population mean. It is calculated as follows:\n",
    "\n",
    "$$\n",
    "t = \\frac{\\bar{x} - \\mu}{s / \\sqrt{n}}\n",
    "$$\n",
    "\n",
    "where:\n",
    "\n",
    "* $\\bar{x}$ is the sample mean,\n",
    "* $\\mu$ is the population mean (the value being tested),\n",
    "* $s$ is the sample standard deviation,\n",
    "* $n$ is the sample size.\n",
    "  \n",
    "A large absolute value of the t-statistic indicates that the sample mean is far from the population mean relative to the variability in the sample, suggesting that the null hypothesis (that the sample mean is equal to the population mean) may be rejected.\n",
    "A negative t-statistic indicates that the sample mean is less than the hypothesized.\n",
    "\n",
    "#### `p-value` \n",
    "The `p-value` is the probability of observing a t-statistic as extreme as the one calculated from the sample data, assuming the null hypothesis is true. In other words, it is the probability of obtaining the observed results under the assumption that the null hypothesis is correct.\n",
    "\n",
    "If the p-value is less than the chosen significance level (commonly 0.05), it suggests that the observed data is unlikely under the null hypothesis, leading to the rejection of the null hypothesis.\n",
    "If the p-value is greater than the significance level, the data does not provide strong enough evidence to reject the null hypothesis.\n",
    "Mean\n",
    "The mean, often referred to as the average, is a measure of central tendency that represents the typical value of a dataset. It is calculated by summing all the values in the dataset and dividing by the number of values:\n",
    "\n",
    "$$\n",
    "\\bar{x} = \\frac{1}{n} \\sum_{i=1}^{n} x_i\n",
    "$$\n",
    "\n",
    "where:\n",
    "\n",
    "* $\\bar{x}$ is the mean,\n",
    "* $x_i$ are the individual data points,\n",
    "* $n$ is the number of data points.\n",
    "\n",
    "In the context of a one-sample t-test, the mean is compared to a known population mean to determine if there is a statistically significant difference between the two.\n",
    "\n",
    "#### Significance level\n",
    "`alpha = 0.05` - default significance level"
   ]
  },
  {
   "cell_type": "code",
   "execution_count": 10,
   "id": "e981a940-93f8-4266-a86a-aeaca313a358",
   "metadata": {},
   "outputs": [
    {
     "name": "stdout",
     "output_type": "stream",
     "text": [
      "T-statistic: -0.6546536707079771\n",
      "P-value: 0.5290641716818756\n",
      "\n",
      "T-statistic: -0.6546536707079771\n",
      "P-value: 0.2645320858409378\n"
     ]
    }
   ],
   "source": [
    "import numpy as np\n",
    "from scipy.stats import ttest_1samp\n",
    "\n",
    "# Sample data\n",
    "scores = np.array([70, 72, 76, 80, 68, 74, 78, 82, 69, 71])\n",
    "\n",
    "# Perform the t-test\n",
    "t_stat, p_value = ttest_1samp(scores, popmean=75)\n",
    "print(f\"T-statistic: {t_stat}\")\n",
    "print(f\"P-value: {p_value}\")\n",
    "print('')\n",
    "\n",
    "# Alternatively specify so tstat for the popmean would be less that actual mean \n",
    "t_stat, p_value = ttest_1samp(scores, popmean=75, alternative='less')\n",
    "\n",
    "print(f\"T-statistic: {t_stat}\")\n",
    "print(f\"P-value: {p_value}\")"
   ]
  },
  {
   "cell_type": "markdown",
   "id": "5e87d91f-d50e-42f2-8ff8-cb62c52d8133",
   "metadata": {},
   "source": [
    "As we can see in the less alternative `p-value` has dropped in a half"
   ]
  },
  {
   "cell_type": "markdown",
   "id": "543f49eb-a9d4-466a-8377-0dd233e7893b",
   "metadata": {},
   "source": [
    "#### 4.5.2 Распределение Стьюдента"
   ]
  },
  {
   "attachments": {},
   "cell_type": "markdown",
   "id": "dc28a59f-995a-4f7e-99f0-50d36db4bc54",
   "metadata": {},
   "source": [
    "Если эмпирических значений немного (не больше 20-30), то соответствующее нулевой гипотезе распределение будет немного шире нормального. Больший разброс объясняется недостатком данных.\n",
    "\n",
    "* Распределение называется t-распределением Стьюдента.\n",
    "* Количество наблюдений в выборке (за вычетом единицы) при построении распределения Стьюдента официально называется количеством степеней свободы. Когда оно растёт, распределение стремится к нормальному распределению с тем же средним\n",
    "\n",
    "Статистический тест с использованием t-распределения называется t-тестом.\n",
    "Если значений в выборке много (30 и больше), то распределение Стьюдента настолько близко к нормальному, что можно было бы просто взять нормальное распределение без всех этих степеней свободы. Но чтобы не усложнять себе жизнь выбором нужного теста, принято просто каждый раз применять t-тест — ведь он работает для выборки любого размера.\n",
    "\n",
    "####  Задача.\n",
    "У вас сеть станций проката «Самокат подвезёт»: 20 точек в центре города, на каждой — максимум 50 электросамокатов. Вы хотите проверить гипотезу, что в прошлом месяце на любой станции днём было доступно в среднем 30 самокатов. Именно о таком количестве говорили урбанисты КБ «Белка» в исследовании мобильности горожан. Если самокатов на станции меньше, то пользователи думают, что не смогут арендовать самокат, когда он понадобится. А когда их больше, горожанам кажется, что оставить самокат на парковке не получится — не будет свободных мест.\n",
    "Каждая станция ежечасно отсылала на сервер текущее количество самокатов. Вы загрузили значения с 13:00 до 16:00 за последние 30 дней. Проверьте гипотезу по этой выборке."
   ]
  },
  {
   "cell_type": "code",
   "execution_count": 21,
   "id": "1a3df743-91e2-4217-8eee-e2affdf84de9",
   "metadata": {},
   "outputs": [
    {
     "name": "stdout",
     "output_type": "stream",
     "text": [
      "p-значение: 0.00033528259973700795\n",
      "Отвергаем нулевую гипотезу\n"
     ]
    }
   ],
   "source": [
    "from scipy import stats as st\n",
    "import pandas as pd\n",
    "\n",
    "# Имеем данные с 1-й станции за 4 часа на интервале 30 дней\n",
    "scooters = pd.Series([15, 31, 10, 21, 21, 32, 30, 25, 21,\n",
    "28, 25, 32, 38, 18, 33, 24, 26, 40, 24, 37, 20, 36, 28, 38,\n",
    "24, 35, 33, 21, 29, 26, 13, 25, 34, 38, 23, 37, 31, 28, 32,\n",
    "24, 25, 13, 38, 34, 48, 19, 20, 22, 38, 28, 31, 18, 21, 24,\n",
    "31, 21, 28, 29, 33, 40, 26, 33, 33,  6, 27, 24, 17, 28,  7,\n",
    "33, 25, 25, 29, 19, 30, 29, 22, 15, 28, 36, 25, 36, 25, 29,\n",
    "33, 19, 32, 32, 28, 26, 18, 48, 15, 27, 27, 27,  0, 28, 39,\n",
    "27, 25, 39, 28, 22, 33, 30, 35, 19, 20, 18, 31, 44, 20, 18,\n",
    "17, 28, 17, 44, 40, 33,])\n",
    "\n",
    " \n",
    "\n",
    "optimal_value = 30\n",
    "alpha = .05 \n",
    "results = st.ttest_1samp(scooters, optimal_value)\n",
    "\n",
    "print('p-значение:',results.pvalue)\n",
    "if results.pvalue < alpha:\n",
    "    print(\"Отвергаем нулевую гипотезу\")\n",
    "else:\n",
    "    print('Null hypothesis is true')"
   ]
  },
  {
   "cell_type": "markdown",
   "id": "29a86dc6-4a98-4ac3-8fb1-a518f8136c73",
   "metadata": {},
   "source": [
    "#### 4.6. Проверка односторонних гипотез"
   ]
  },
  {
   "cell_type": "code",
   "execution_count": 78,
   "id": "a0a0f63f-e1db-42d0-97d1-5ba4ac82fe60",
   "metadata": {},
   "outputs": [
    {
     "data": {
      "image/png": "[encoded data removed]",
      "text/plain": [
       "<Figure size 1000x600 with 1 Axes>"
      ]
     },
     "metadata": {},
     "output_type": "display_data"
    }
   ],
   "source": [
    "import numpy as np\n",
    "import matplotlib.pyplot as plt\n",
    "from scipy.stats import t\n",
    "\n",
    "# Parameters\n",
    "mean = 0  # Mean of the distribution\n",
    "std_dev = 1  # Standard deviation of the distribution\n",
    "sample_size = 30  # Sample size\n",
    "alpha = 0.05  # Significance level\n",
    "\n",
    "# Calculate degrees of freedom\n",
    "df = sample_size - 1\n",
    "\n",
    "# Generate t-distribution values\n",
    "x = np.linspace(t.ppf(0.001, df), t.ppf(0.999, df), 100)\n",
    "\n",
    "# Calculate the critical value for a one-sided test\n",
    "critical_value = t.ppf(1 - alpha, df)\n",
    "\n",
    "# Calculate the p-value for a given t-statistic (example t-statistic)\n",
    "t_statistic = 2.0  # Example t-statistic\n",
    "p_value = t.sf(t_statistic, df)  # Survival function (upper tail probability)\n",
    "\n",
    "# Plot the t-distribution\n",
    "plt.figure(figsize=(10, 6))\n",
    "plt.plot(x, t.pdf(x, df), 'k-', lw=2, label='t-distribution')\n",
    "\n",
    "# Shade the critical region\n",
    "plt.fill_between(x, t.pdf(x, df), where=(x > critical_value), color='red', alpha=0.5, label='Critical Region')\n",
    "\n",
    "# Add vertical lines for critical value and t-statistic\n",
    "plt.axvline(critical_value, color='r', linestyle='--', label=f'Critical Value ({critical_value:.2f})')\n",
    "plt.axvline(t_statistic, color='b', linestyle='--', label=f'T-statistic ({t_statistic:.2f})')\n",
    "\n",
    "# Annotate the p-value\n",
    "plt.text(t_statistic - 1.6, t.pdf(t_statistic, df), f'p-value = {p_value:.3f}', fontsize=12)\n",
    "\n",
    "# Add arrow pointing to the critical region from above at a 45 degree angle\n",
    "plt.arrow(x=critical_value+1.5, y=0.08, dx=-0.9, dy=-0.05, length_includes_head=True, head_width=0.01, head_length=0.1, color='black')\n",
    "plt.text(critical_value + 0.5, 0.1, 'Critical Region', fontsize=12)\n",
    "\n",
    "# Labels and legend\n",
    "plt.xlabel('t-values')\n",
    "plt.ylabel('Probability Density')\n",
    "plt.title('One-sided t-test')\n",
    "plt.legend()\n",
    "\n",
    "# Show the plot\n",
    "plt.show()"
   ]
  },
  {
   "cell_type": "markdown",
   "id": "c9c6a3de-fc42-44bb-9f98-b509d23cc572",
   "metadata": {},
   "source": [
    "Когда машинка для нарезки лапши начинает барахлить, она работает медленнее и макароны получаются длиннее. До конца гарантийного срока на машинку несколько лет, но менеджеру кажется, что она уже начала выдавать спагетти длиннее, чем нужно. Он хочет проверить эту гипотезу статистически. В норме длина спагетти — 20 см. Менеджер взял сотню спагетти из выдачи машинки в качестве выборки.\n",
    "Обозначим настоящую среднюю длину выдаваемых машинкой макарон как \n",
    "μ\n",
    "μ, а выборочное среднее для этих ста спагетти как \n",
    "x\n",
    "‾\n",
    "x\n",
    " . Выберите верную пару нулевой и альтернативной гипотез:"
   ]
  },
  {
   "cell_type": "markdown",
   "id": "10a15fcc-1521-4b45-adca-d0a775dc7e1b",
   "metadata": {},
   "source": [
    "#### 4.5.3. Гипотеза о равенстве средних двух генеральных совокупностей"
   ]
  },
  {
   "cell_type": "markdown",
   "id": "e7306ed8-ae96-4dac-b566-a27867070a4d",
   "metadata": {},
   "source": [
    "#### `ttest_ind`\n",
    "* For comparing two independent samples we can use `ttest_ind` function.\n",
    "* This function demands three variables `scipy.stats.ttest_ind (array1, array2, equal_var)`\n",
    "\n",
    "#### `equal_var`\n",
    "If `equal_var` is not specified it will be taken as `True`.  (от англ. equal variance — «равная дисперсия») — необязательный параметр, задающий, считать ли равными дисперсии выборок. Передаётся как `equal_var = True` или `equal_var = False` (`True` — считать, `False` — не считать).\n",
    "\n",
    "##### `equal_var = True`\n",
    "* Use this option when you believe that the variances of the two samples are equal.\n",
    "* This is known as the assumption of homogeneity of variances or homoscedasticity.\n",
    "* The function will then use the standard independent two-sample `t-test`, which assumes equal variances.\n",
    "##### `equal_var = False`\n",
    "* If you have prior knowledge or theoretical reasons to believe that the variances of the two populations are equal.\n",
    "* If the sample sizes or variances of the two groups are significantly different, it is safer to assume unequal variances.\n",
    "* ⚠️If you perform Levene's test for equality of variances and the result does not reject the null hypothesis.⚠️\n",
    "\n",
    "\n",
    "⚠️ Иногда советуют предварительно проверить равенство дисперсий специальными тестами (например, тестом Левене). Мы не рекомендуем так делать: исследования показывают, что это только увеличивает вероятность сделать неверный вывод.\n",
    "Так что «правило большого пальца» тут простое: если выборки разного размера и/или можно предположить, что дисперсии у генеральных совокупностей разные — укажите `equal_var = False` при вызове метода `scipy.stats.ttest_ind()`.\n",
    "В остальных случаях используйте тест без изменений."
   ]
  },
  {
   "cell_type": "code",
   "execution_count": 87,
   "id": "32695eb6-e485-4223-b082-fdbd652e20b5",
   "metadata": {
    "scrolled": true
   },
   "outputs": [
    {
     "name": "stdout",
     "output_type": "stream",
     "text": [
      "Equal variances assumed (p=0.5884)\n",
      "t-statistic: -0.889\n",
      "p-value: 0.3951\n"
     ]
    }
   ],
   "source": [
    "from scipy.stats import ttest_ind\n",
    "from scipy.stats import levene\n",
    "\n",
    "# Sample data for group A and B\n",
    "A = [2, 3, 4, 5, 4, 3]\n",
    "B = [4, 5, 5, 3, 3, 4]\n",
    "\n",
    "# Perform Levene's test\n",
    "stat, p = levene(A, B)\n",
    "\n",
    "# Interpret the results of Levene's test\n",
    "alpha = 0.05\n",
    "if p > alpha:\n",
    "    print(\"Equal variances assumed (p={:.4f})\".format(p))\n",
    "else:\n",
    "    print(\"Unequal variances assumed (p={:.4f})\".format(p))\n",
    "\n",
    "# Perform the t-test\n",
    "t_stat, p_value = ttest_ind(A, B, equal_var=True)\n",
    "\n",
    "print(f\"t-statistic: {t_stat:.3f}\")\n",
    "print(f\"p-value: {p_value:.4f}\")"
   ]
  },
  {
   "cell_type": "markdown",
   "id": "f4cb92b2-5afc-4d79-afb5-007148e3b89f",
   "metadata": {},
   "source": [
    "Рассмотрим три аспекта, которые надо проверить, чтобы понять, можно ли применять t-тест:\n",
    "1. Генеральные совокупности не должны зависеть друг от друга.\n",
    "Если вы рассматриваете одну генеральную совокупность до и после какого-то изменения, нужно использовать другой тест. Речь о нём пойдёт в следующем уроке.\n",
    "\n",
    "2. Выборочные средние должны быть нормально распределены.\n",
    "А если выборка всего одна, то её среднее должно иметь нормальное распределение для разных выборок этого размера из определённой генеральной совокупности.\n",
    "Это условие не препятствие. Благодаря ЦПТ, если размер выборки составляет хотя бы несколько десятков значений, выборочные средние, которые можно получить из одной и той же генеральной совокупности, будут распределены нормально вокруг истинного среднего этой совокупности. Напомним, это утверждение верно, даже если сама генеральная совокупность не распределена нормально.\n",
    "\n",
    "3. Дисперсии рассматриваемых генеральных совокупностей должны быть равны."
   ]
  },
  {
   "cell_type": "markdown",
   "id": "1025dd1f-34eb-4341-ab28-a00e5f34c550",
   "metadata": {},
   "source": [
    "#### Work 1"
   ]
  },
  {
   "cell_type": "markdown",
   "id": "0dc6c0ab-5300-42db-8ba5-295e9b448b68",
   "metadata": {},
   "source": [
    "Приведены два датасета: сумма покупок, которые были совершены за месяц посетителями, привлечённым по двум разным каналам. В вашем распоряжении случайные выборки из 30 покупок для каждого канала."
   ]
  },
  {
   "cell_type": "code",
   "execution_count": 95,
   "id": "9883fd8f-cce4-42eb-9361-548887ba51d9",
   "metadata": {},
   "outputs": [
    {
     "name": "stdout",
     "output_type": "stream",
     "text": [
      "p-значение: 0.0010501061456827461\n",
      "Отвергаем нулевую гипотезу\n"
     ]
    }
   ],
   "source": [
    "from scipy import stats as st\n",
    "import numpy as np\n",
    "# время на сайте пользователей, зашедших с логином и паролем\n",
    "time_on_site_logpass = [368, 113, 328, 447, 1, 156, 335, 233, \n",
    "                       308, 181, 271, 239, 411, 293, 303, \n",
    "                       206, 196, 203, 311, 205, 297, 529, \n",
    "                       373, 217, 416, 206, 1, 128, 16, 214]\n",
    "\n",
    "# время на сайте пользователей, зашедших через социальные сети\n",
    "\n",
    "time_on_site_social  = [451, 182, 469, 546, 396, 630, 206, \n",
    "                        130, 45, 569, 434, 321, 374, 149, \n",
    "                        721, 350, 347, 446, 406, 365, 203, \n",
    "                        405, 631, 545, 584, 248, 171, 309, \n",
    "                        338, 505]\n",
    "\n",
    "alpha = .05\n",
    "results = st.ttest_ind(time_on_site_social,\n",
    "                       time_on_site_logpass\n",
    "                      )\n",
    "print('p-значение:',results.pvalue)\n",
    "\n",
    "if results.pvalue < alpha:\n",
    "    print(\"Отвергаем нулевую гипотезу\")\n",
    "else:\n",
    "    print(\"Не получилось отвергнуть нулевую гипотезу\")"
   ]
  },
  {
   "cell_type": "markdown",
   "id": "47986371-f0d1-4ed5-b1b6-72dfa4ca9c0a",
   "metadata": {},
   "source": [
    "#### Work 2"
   ]
  },
  {
   "cell_type": "markdown",
   "id": "ee265004-cc24-4160-beab-3f6f31841919",
   "metadata": {},
   "source": [
    "Приведены два датасета: глубина просмотра сайта разными группами пользователей за летние и осенние месяцы. Проверьте гипотезу о равенстве глубины просмотра веб-ресурса. Возможно, летом посетители погружаются в контент не надолго — стоит учесть при планировании рекламных кампаний в это время года.\n",
    "Критический уровень статистической значимости задайте значением 0.01."
   ]
  },
  {
   "cell_type": "code",
   "execution_count": 100,
   "id": "a076de05-4e43-42cb-bab1-a3d2f9a820fe",
   "metadata": {},
   "outputs": [
    {
     "name": "stdout",
     "output_type": "stream",
     "text": [
      "p-значение: 0.002042828065164986\n",
      "Отвергаем нулевую гипотезу\n"
     ]
    }
   ],
   "source": [
    "from scipy import stats as st\n",
    "import numpy as np\n",
    "\n",
    "pages_per_session_autumn = [7.1, 7.3, 9.8, 7.3, 6.4, 10.5, 8.7, \n",
    "                            17.5, 3.3, 15.5, 16.2, 0.4, 8.3, \n",
    "                            8.1, 3.0, 6.1, 4.4, 18.8, 14.7, 16.4, \n",
    "                            13.6, 4.4, 7.4, 12.4, 3.9, 13.6, \n",
    "                            8.8, 8.1, 13.6, 12.2]\n",
    "\n",
    "pages_per_session_summer = [12.1, 24.3, 6.4, 19.9, 19.7, 12.5, 17.6, \n",
    "                            5.0, 22.4, 13.5, 10.8, 23.4, 9.4, 3.7, \n",
    "                            2.5, 19.8, 4.8, 29.0, 1.7, 28.6, 16.7, \n",
    "                            14.2, 10.6, 18.2, 14.7, 23.8, 15.9, 16.2, \n",
    "                            12.1, 14.5]\n",
    "\n",
    "alpha = .01\n",
    "results = st.ttest_ind(pages_per_session_autumn,pages_per_session_summer)\n",
    "\n",
    "print('p-значение:', results.pvalue)\n",
    "\n",
    "if results.pvalue < alpha:\n",
    "    print(\"Отвергаем нулевую гипотезу\")\n",
    "else:\n",
    "    print(\"Не получилось отвергнуть нулевую гипотезу\")"
   ]
  },
  {
   "cell_type": "markdown",
   "id": "15ece555-4c78-4b81-90cf-c5659cbc048a",
   "metadata": {},
   "source": [
    "#### 4.5.4. Гипотеза о равенстве средних для зависимых (парных) выборок\n",
    "\n",
    "Когда генеральная совокупность одна, полезно понять, равно ли себе среднее этой совокупности до и после какого-то изменения.\n",
    "\n",
    "Например, вам нужно сравнить, будет ли отличаться вес заказываемых пользователями посылок после того, как вы изменили расчёт оплаты доставки.\n",
    "Парная выборка означает, что измеряется некоторая переменная дважды для одних и тех же единиц. В нашем примере это пара измерений для каждого пользователя — до и после изменения расчёта.\n",
    "Чтобы проверить гипотезу о равенстве средних двух генеральных совокупностей для зависимых (парных) выборок в Python, применим метод\n",
    "`scipy.stats.ttest_rel().`\n",
    "\n",
    "* Both samples have to be of the same length\n",
    "* This is often used in before-and_after studies or when comparing two different conditions on the same subjects."
   ]
  },
  {
   "cell_type": "markdown",
   "id": "4cf83aff-eeec-4857-a10d-ed70331fd524",
   "metadata": {},
   "source": [
    "#### Work 1\n",
    "\n",
    "Приведены два датасета: время использования одними и теми же пользователями личного кабинета сайта до редизайна и после. Проверьте гипотезу, что после редизайна время использования личного кабинета на сайте изменилось (увеличилось или уменьшилось)."
   ]
  },
  {
   "cell_type": "code",
   "execution_count": 106,
   "id": "6c2f16a1-74ad-49ad-bf5c-fabf9507f679",
   "metadata": {},
   "outputs": [
    {
     "name": "stdout",
     "output_type": "stream",
     "text": [
      "p-значение: 0.0751397944405015\n",
      "Не получилось отвергнуть нулевую гипотезу\n"
     ]
    }
   ],
   "source": [
    "from scipy import stats as st\n",
    "import numpy as np\n",
    "\n",
    "time_before = [1732, 1301, 1540, 2247, 1632, 1550, 754, 1946, 1889, \n",
    "          2748, 1349, 1648, 1665, 2416, 1470, 1681, 1868, 1629, \n",
    "          1271, 1633, 2131, 942, 1599, 1127, 2200, 661, 1207, \n",
    "          1737, 2410, 1486]\n",
    "\n",
    "time_after = [955, 2577, 360, 139, 1618, 990, 644, 1796, 1487, 949, 472, \n",
    "         1906, 1758, 1258, 2554, 612, 309, 1864, 1294, 1487, 1164, 1559, \n",
    "         491, 2286, 1270, 2069, 1553, 1629, 1704, 1623]\n",
    "\n",
    "alpha = .05\n",
    "results = st.ttest_rel(time_before, time_after)\n",
    "\n",
    "print('p-значение:', results.pvalue)\n",
    "if results.pvalue < alpha:\n",
    "    print(\"Отвергаем нулевую гипотезу\")\n",
    "else:\n",
    "    print(\"Не получилось отвергнуть нулевую гипотезу\")"
   ]
  },
  {
   "cell_type": "markdown",
   "id": "134ddc61-18ec-46ae-9cde-e0b4abcdaa28",
   "metadata": {},
   "source": [
    "#### Work 2"
   ]
  },
  {
   "cell_type": "markdown",
   "id": "85cf0e78-acb4-41a7-944e-ba0a3e33138a",
   "metadata": {},
   "source": [
    "Приведены два датасета: количество патронов, покупаемых постоянными игроками в онлайн-игре, до и после внедрения игровой логики, которая стимулирует к стрельбе очередями. Проверьте гипотезу о том, что после нововведений количество используемых патронов изменилось."
   ]
  },
  {
   "cell_type": "code",
   "execution_count": 114,
   "id": "687a5148-d238-4556-a064-549deccdc5e8",
   "metadata": {},
   "outputs": [
    {
     "name": "stdout",
     "output_type": "stream",
     "text": [
      "cреднее до:  591.7333333333333\n",
      "cреднее после:  932.0666666666667\n",
      "p-значение: 0.010789503820811123\n",
      "Отвергаем нулевую гипотезу\n"
     ]
    }
   ],
   "source": [
    "from scipy import stats as st\n",
    "import numpy as np\n",
    "import pandas as pd\n",
    "\n",
    "bullets_before = [821, 1164, 598, 854, 455, 1220, 161, 1400, 479, 215, \n",
    "          564, 159, 920, 173, 276, 444, 273, 711, 291, 880, \n",
    "          892, 712, 16, 476, 498, 9, 1251, 938, 389, 513]\n",
    "\n",
    "bullets_after = [904, 220, 676, 459, 299, 659, 1698, 1120, 514, 1086, 1499, \n",
    "         1262, 829, 476, 1149, 996, 1247, 1117, 1324, 532, 1458, 898, \n",
    "         1837, 455, 1667, 898, 474, 558, 639, 1012]\n",
    "\n",
    "\n",
    "print('cреднее до: ',sum(bullets_before)/len(bullets_before))\n",
    "print('cреднее после: ',pd.Series(bullets_after).mean())\n",
    "\n",
    "alpha = 0.05\n",
    "results = st.ttest_rel(\n",
    "    bullets_before, \n",
    "    bullets_after)\n",
    "\n",
    "print('p-значение:', results.pvalue)\n",
    "if results.pvalue < alpha:\n",
    "    print(\"Отвергаем нулевую гипотезу\")\n",
    "else:\n",
    "    print(\"Не получилось отвергнуть нулевую гипотезу\")"
   ]
  },
  {
   "cell_type": "code",
   "execution_count": null,
   "id": "ec8b82a6-4ae6-40e9-a2b3-ae7303546fec",
   "metadata": {},
   "outputs": [],
   "source": []
  }
 ],
 "metadata": {
  "kernelspec": {
   "display_name": "Python 3 (ipykernel)",
   "language": "python",
   "name": "python3"
  },
  "language_info": {
   "codemirror_mode": {
    "name": "ipython",
    "version": 3
   },
   "file_extension": ".py",
   "mimetype": "text/x-python",
   "name": "python",
   "nbconvert_exporter": "python",
   "pygments_lexer": "ipython3",
   "version": "3.12.3"
  }
 },
 "nbformat": 4,
 "nbformat_minor": 5
}
