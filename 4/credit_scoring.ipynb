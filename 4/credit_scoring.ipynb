{
 "cells": [
  {
   "cell_type": "code",
   "execution_count": 1,
   "metadata": {
    "pycharm": {
     "name": "#%%\n"
    }
   },
   "outputs": [],
   "source": [
    "import pandas as pd\n",
    "from matplotlib import pyplot as plt\n",
    "import seaborn as sns\n",
    "import numpy as np\n",
    "\n",
    "# Скроем предупреждения, чтобы не мозолили глаза\n",
    "import warnings\n",
    "warnings.filterwarnings(\"ignore\")"
   ]
  },
  {
   "cell_type": "code",
   "execution_count": 30,
   "metadata": {},
   "outputs": [],
   "source": [
    "scoring_data = pd.read_csv('german_credit_data.csv').drop(['Unnamed: 0'], axis=1)"
   ]
  },
  {
   "cell_type": "code",
   "execution_count": 34,
   "metadata": {
    "scrolled": false
   },
   "outputs": [
    {
     "data": {
      "text/html": [
       "<div>\n",
       "<style scoped>\n",
       "    .dataframe tbody tr th:only-of-type {\n",
       "        vertical-align: middle;\n",
       "    }\n",
       "\n",
       "    .dataframe tbody tr th {\n",
       "        vertical-align: top;\n",
       "    }\n",
       "\n",
       "    .dataframe thead th {\n",
       "        text-align: right;\n",
       "    }\n",
       "</style>\n",
       "<table border=\"1\" class=\"dataframe\">\n",
       "  <thead>\n",
       "    <tr style=\"text-align: right;\">\n",
       "      <th></th>\n",
       "      <th>Age</th>\n",
       "      <th>Sex</th>\n",
       "      <th>Job</th>\n",
       "      <th>Housing</th>\n",
       "      <th>Saving accounts</th>\n",
       "      <th>Checking account</th>\n",
       "      <th>Credit amount</th>\n",
       "      <th>Duration</th>\n",
       "      <th>Purpose</th>\n",
       "      <th>Risk</th>\n",
       "      <th>is_risk</th>\n",
       "    </tr>\n",
       "  </thead>\n",
       "  <tbody>\n",
       "    <tr>\n",
       "      <th>0</th>\n",
       "      <td>67</td>\n",
       "      <td>male</td>\n",
       "      <td>2</td>\n",
       "      <td>own</td>\n",
       "      <td>NaN</td>\n",
       "      <td>little</td>\n",
       "      <td>1169</td>\n",
       "      <td>6</td>\n",
       "      <td>radio/TV</td>\n",
       "      <td>good</td>\n",
       "      <td>0</td>\n",
       "    </tr>\n",
       "    <tr>\n",
       "      <th>1</th>\n",
       "      <td>22</td>\n",
       "      <td>female</td>\n",
       "      <td>2</td>\n",
       "      <td>own</td>\n",
       "      <td>little</td>\n",
       "      <td>moderate</td>\n",
       "      <td>5951</td>\n",
       "      <td>48</td>\n",
       "      <td>radio/TV</td>\n",
       "      <td>bad</td>\n",
       "      <td>1</td>\n",
       "    </tr>\n",
       "    <tr>\n",
       "      <th>2</th>\n",
       "      <td>49</td>\n",
       "      <td>male</td>\n",
       "      <td>1</td>\n",
       "      <td>own</td>\n",
       "      <td>little</td>\n",
       "      <td>NaN</td>\n",
       "      <td>2096</td>\n",
       "      <td>12</td>\n",
       "      <td>education</td>\n",
       "      <td>good</td>\n",
       "      <td>0</td>\n",
       "    </tr>\n",
       "  </tbody>\n",
       "</table>\n",
       "</div>"
      ],
      "text/plain": [
       "   Age     Sex  Job Housing Saving accounts Checking account  Credit amount  \\\n",
       "0   67    male    2     own             NaN           little           1169   \n",
       "1   22  female    2     own          little         moderate           5951   \n",
       "2   49    male    1     own          little              NaN           2096   \n",
       "\n",
       "   Duration    Purpose  Risk  is_risk  \n",
       "0         6   radio/TV  good        0  \n",
       "1        48   radio/TV   bad        1  \n",
       "2        12  education  good        0  "
      ]
     },
     "execution_count": 34,
     "metadata": {},
     "output_type": "execute_result"
    }
   ],
   "source": [
    "scoring_data.head(3)"
   ]
  },
  {
   "cell_type": "code",
   "execution_count": 33,
   "metadata": {},
   "outputs": [],
   "source": [
    "# Сразу добавим численное обозначение риска 1 - bad risk, 0 - good risk\n",
    "scoring_data['is_risk'] = scoring_data.apply(lambda x: 0 if x['Risk'] == 'good' else 1, axis=1)"
   ]
  },
  {
   "cell_type": "markdown",
   "metadata": {
    "pycharm": {
     "name": "#%% md\n"
    }
   },
   "source": [
    "## Задача: Определить, какой из факторов оказывает наибольшее влияние на риск выдачи кредита\n",
    "## (выявить причину невозвратов)"
   ]
  },
  {
   "cell_type": "markdown",
   "metadata": {
    "pycharm": {
     "name": "#%% md\n"
    }
   },
   "source": [
    "У нас имеются данные кредитного скорринга с маркером рисковости пользователя и его описания по ряду других колонок.\n",
    "\n",
    "**Age:** This variable bank contains the age information of the customers.\n",
    "\n",
    "**Sex:** This variable contains the gender information of the bank customers.\n",
    "\n",
    "**Job:** This variable contains occupational information of bank customers. Professions are divided into four categories according to skill level. (0 - unskilled and non\u0002resident, 1 - unskilled and resident, 2 - skilled, 3 - highly skilled)\n",
    "\n",
    "**Housing:** This variable includes the housing status of the bank customers.\n",
    "\n",
    "**Saving Accounts:** This variable bank contains customers savings information.Customers savings are classified as little, moderate, quite rich, rich.\n",
    "\n",
    "**Checking Accounts:** This variable show the cash in the accounts of bank customers.\n",
    "\n",
    "**Credit Amount:** This variable shows how much credit the bank customers get.\n",
    "\n",
    "**Duration:** This variable contains the specified time to pay the credit.\n",
    "\n",
    "**Purpose:** This variable shows the purpose for which the bank customer taking credit. Taking credit by customers are classified as car, furniture / equipment, radio / TV, domestic appliances, repairs, education, business, vacation / others.\n",
    "\n",
    "**Risk:** This variable contains the customers risk information. Customers in the Data Set have previously taken credit from banks. A value of 1 was given for customers who paid the credit and 0 for customers who could not."
   ]
  },
  {
   "cell_type": "markdown",
   "metadata": {},
   "source": [
    "## Типы данных"
   ]
  },
  {
   "cell_type": "markdown",
   "metadata": {},
   "source": [
    "Работая с датасетами, вы чаще всего будете встречать 3 наиболее популярных типа данных:\n",
    "\n",
    "    - Количественные / Числовые\n",
    "    - Категориальные\n",
    "    - Ранговые\n",
    "    \n",
    "    \n",
    "**Количественный тип самый распространённый:**\n",
    "\n",
    "Тут даже с примерами всё просто: рост, зарплата, вероятность, объём, площадь, возраст. Этот тип обладает двумя главными свойствами: [континуальностью](https://ru.wikipedia.org/wiki/Континуум_(теория_множеств)) (для любых двух элементов всегда найдётся целое множество элементов между ними) или хотя бы [счётностью](https://ru.wikipedia.org/wiki/Счётное_множество) (элементы, даже если их бесконечное количество, можно пересчитать) и [отношением порядка](https://ru.wikipedia.org/wiki/Отношение_порядка) (для любой пары неодинаковых элементов один из них всегда будет больше другого).\n",
    "\n",
    "\n",
    "\n",
    "**Категориальный тип устроен проще:**\n",
    "\n",
    "Данные этого типа - это элементы из ограниченного набора значений, например пол человека, страна, город, операционная система, название руды, и др. Ничего специфического и сложного. Иногда может быть представлен строковым типом, иногда чисовым - тут от способа представления данных зависит.\n",
    "\n",
    "\n",
    "**Ранговый тип данных:**\n",
    "\n",
    "Это комбинированный тип данных, который, также как и категориальные данные, представляет собой ограниченное множество значений. Но обладает упорядоченностью, т.е. можно сказать, что элементы внутри списка выстроены в порядке возрастания какого-то свойства или признака. Пример рангового типа данных - это обобщения над возрастом: детский возраст, школьный возраст, студенческий, возраст молодого специалиста, возраст специалиста, зрелый возраст, предпенсионный, пенсионный и т.д. Здесь мы взяли количественный тип данных \"Возраст\" и разбили на интервалы, дав каждому интервалу название. Примером такого же тпа данных может быть ваша оценка сервиса в приложении с выховом такси. \"Совсем не понравилось\", \"Не понравилось\", \"Нормально\", \"Хорошо\", \"Отлично\" - это тоже ранговый тип данных, потому что значения можно выстроить по возрастанию вашей удовлетворённости."
   ]
  },
  {
   "cell_type": "code",
   "execution_count": 42,
   "metadata": {
    "scrolled": true
   },
   "outputs": [
    {
     "data": {
      "text/html": [
       "<div>\n",
       "<style scoped>\n",
       "    .dataframe tbody tr th:only-of-type {\n",
       "        vertical-align: middle;\n",
       "    }\n",
       "\n",
       "    .dataframe tbody tr th {\n",
       "        vertical-align: top;\n",
       "    }\n",
       "\n",
       "    .dataframe thead th {\n",
       "        text-align: right;\n",
       "    }\n",
       "</style>\n",
       "<table border=\"1\" class=\"dataframe\">\n",
       "  <thead>\n",
       "    <tr style=\"text-align: right;\">\n",
       "      <th></th>\n",
       "      <th>Age</th>\n",
       "      <th>Sex</th>\n",
       "      <th>Job</th>\n",
       "      <th>Housing</th>\n",
       "      <th>Saving accounts</th>\n",
       "      <th>Checking account</th>\n",
       "      <th>Credit amount</th>\n",
       "      <th>Duration</th>\n",
       "      <th>Purpose</th>\n",
       "      <th>Risk</th>\n",
       "      <th>is_risk</th>\n",
       "    </tr>\n",
       "  </thead>\n",
       "  <tbody>\n",
       "    <tr>\n",
       "      <th>0</th>\n",
       "      <td>67</td>\n",
       "      <td>male</td>\n",
       "      <td>2</td>\n",
       "      <td>own</td>\n",
       "      <td>NaN</td>\n",
       "      <td>little</td>\n",
       "      <td>1169</td>\n",
       "      <td>6</td>\n",
       "      <td>radio/TV</td>\n",
       "      <td>good</td>\n",
       "      <td>0</td>\n",
       "    </tr>\n",
       "    <tr>\n",
       "      <th>1</th>\n",
       "      <td>22</td>\n",
       "      <td>female</td>\n",
       "      <td>2</td>\n",
       "      <td>own</td>\n",
       "      <td>little</td>\n",
       "      <td>moderate</td>\n",
       "      <td>5951</td>\n",
       "      <td>48</td>\n",
       "      <td>radio/TV</td>\n",
       "      <td>bad</td>\n",
       "      <td>1</td>\n",
       "    </tr>\n",
       "    <tr>\n",
       "      <th>2</th>\n",
       "      <td>49</td>\n",
       "      <td>male</td>\n",
       "      <td>1</td>\n",
       "      <td>own</td>\n",
       "      <td>little</td>\n",
       "      <td>NaN</td>\n",
       "      <td>2096</td>\n",
       "      <td>12</td>\n",
       "      <td>education</td>\n",
       "      <td>good</td>\n",
       "      <td>0</td>\n",
       "    </tr>\n",
       "    <tr>\n",
       "      <th>3</th>\n",
       "      <td>45</td>\n",
       "      <td>male</td>\n",
       "      <td>2</td>\n",
       "      <td>free</td>\n",
       "      <td>little</td>\n",
       "      <td>little</td>\n",
       "      <td>7882</td>\n",
       "      <td>42</td>\n",
       "      <td>furniture/equipment</td>\n",
       "      <td>good</td>\n",
       "      <td>0</td>\n",
       "    </tr>\n",
       "    <tr>\n",
       "      <th>4</th>\n",
       "      <td>53</td>\n",
       "      <td>male</td>\n",
       "      <td>2</td>\n",
       "      <td>free</td>\n",
       "      <td>little</td>\n",
       "      <td>little</td>\n",
       "      <td>4870</td>\n",
       "      <td>24</td>\n",
       "      <td>car</td>\n",
       "      <td>bad</td>\n",
       "      <td>1</td>\n",
       "    </tr>\n",
       "  </tbody>\n",
       "</table>\n",
       "</div>"
      ],
      "text/plain": [
       "   Age     Sex  Job Housing Saving accounts Checking account  Credit amount  \\\n",
       "0   67    male    2     own             NaN           little           1169   \n",
       "1   22  female    2     own          little         moderate           5951   \n",
       "2   49    male    1     own          little              NaN           2096   \n",
       "3   45    male    2    free          little           little           7882   \n",
       "4   53    male    2    free          little           little           4870   \n",
       "\n",
       "   Duration              Purpose  Risk  is_risk  \n",
       "0         6             radio/TV  good        0  \n",
       "1        48             radio/TV   bad        1  \n",
       "2        12            education  good        0  \n",
       "3        42  furniture/equipment  good        0  \n",
       "4        24                  car   bad        1  "
      ]
     },
     "execution_count": 42,
     "metadata": {},
     "output_type": "execute_result"
    }
   ],
   "source": [
    "scoring_data.head()"
   ]
  },
  {
   "cell_type": "code",
   "execution_count": 44,
   "metadata": {},
   "outputs": [
    {
     "name": "stdout",
     "output_type": "stream",
     "text": [
      "<class 'pandas.core.frame.DataFrame'>\n",
      "RangeIndex: 1000 entries, 0 to 999\n",
      "Data columns (total 11 columns):\n",
      " #   Column            Non-Null Count  Dtype \n",
      "---  ------            --------------  ----- \n",
      " 0   Age               1000 non-null   int64 \n",
      " 1   Sex               1000 non-null   object\n",
      " 2   Job               1000 non-null   int64 \n",
      " 3   Housing           1000 non-null   object\n",
      " 4   Saving accounts   817 non-null    object\n",
      " 5   Checking account  606 non-null    object\n",
      " 6   Credit amount     1000 non-null   int64 \n",
      " 7   Duration          1000 non-null   int64 \n",
      " 8   Purpose           1000 non-null   object\n",
      " 9   Risk              1000 non-null   object\n",
      " 10  is_risk           1000 non-null   int64 \n",
      "dtypes: int64(5), object(6)\n",
      "memory usage: 86.1+ KB\n"
     ]
    }
   ],
   "source": [
    "scoring_data.info()"
   ]
  },
  {
   "cell_type": "markdown",
   "metadata": {},
   "source": [
    "## Заполнение пропусков"
   ]
  },
  {
   "cell_type": "markdown",
   "metadata": {},
   "source": [
    "Методов заполнения пустот имеется огромное количество, но также они зависимы от типа данных и решаемой задачи. Практически любое ваше действие с данными может исказить исходное распределение переменной - но это не страшно, более того, иногда это полезно. Поэтому о методах сразу расскажу в контексте решаемой задачи:\n",
    "\n",
    "\n",
    "**Решаю аналитическую задачу (строю максимально точные выводы по данным):**\n",
    "\n",
    "Для подобных задач редко пользуются методами, искажающими распределения. \n",
    "\n",
    "Категориальные и ранговые пропуски можно заполнить заглушкой в виде 'unknown', т.к. незаполненные данные в этом случае могут нести в себе информативность. Например в задаче кредитного скорринга незаполненное поле о наличии других кредитов может нести в себе вывод о том, что \n",
    "\n",
    "\n",
    "Количественные признаки обычно оставляют с пропусками, чтобы не допустить смещения распределений, и при построении выводов используют лишь заполненные строки. Либо количественные признаки превращают в ранговые, используя [биннинг](https://en.wikipedia.org/wiki/Data_binning) (объединение в группы, как в примерах с возрастом). И тогда незаполненные строки можно объединить в одну группу с заглушкой 'unknown' для дополнительного исследования. Например, клиент банка мог не указать объём заработной платы; биннинг заработных плат может помочь исследовать, как влияет это поле на рисковость клиента.\n",
    "\n",
    "\n",
    "**Решаю задачу прогнозирования (хочу получить максимальное качество):**\n",
    "\n",
    "В задачах прогнозирования наоборот очень важно сохранить как можно больше строк. Точность алгоритма прогнозирования зачастую сильнее зависит от количества данных и их вариабельности, нежели от несмещённости исходных распределений.\n",
    "Поэтому здесь имеет место инженерная задача поиска лучшего заполнения для данных.\n",
    "\n",
    "Для количественных данных можно найти множество методов заполнения, но самые популярные следующие:\n",
    "\n",
    "    - Заполнение нулями\n",
    "    - Заполнение медианами\n",
    "    - Заполнение средним значением по колонке\n",
    "    - Заполнение наиболее вероятным значением\n",
    "    - Использовать метод kNN (заполнение по наиболее близким соседям)\n",
    "    - Заполнение заглушками (например нехарактерным значением, для возраста \"-1\")\n",
    "    \n",
    "Для категориальных и ранговых данных сохраняются те же методы, что и для аналитических задач, но добавляются ещё методы:\n",
    "\n",
    "    - Заполнения наиболее частым\n",
    "    - Заполнение наиболее вероятным"
   ]
  },
  {
   "cell_type": "code",
   "execution_count": 50,
   "metadata": {},
   "outputs": [],
   "source": [
    "scoring_data.fillna('unknown', inplace=True)"
   ]
  },
  {
   "cell_type": "code",
   "execution_count": 152,
   "outputs": [
    {
     "name": "stdout",
     "output_type": "stream",
     "text": [
      "<class 'pandas.core.frame.DataFrame'>\n",
      "RangeIndex: 1000 entries, 0 to 999\n",
      "Data columns (total 11 columns):\n",
      " #   Column            Non-Null Count  Dtype \n",
      "---  ------            --------------  ----- \n",
      " 0   Age               1000 non-null   int64 \n",
      " 1   Sex               1000 non-null   object\n",
      " 2   Job               1000 non-null   int64 \n",
      " 3   Housing           1000 non-null   object\n",
      " 4   Saving accounts   1000 non-null   object\n",
      " 5   Checking account  1000 non-null   object\n",
      " 6   Credit amount     1000 non-null   int64 \n",
      " 7   Duration          1000 non-null   int64 \n",
      " 8   Purpose           1000 non-null   object\n",
      " 9   Risk              1000 non-null   object\n",
      " 10  is_risk           1000 non-null   int64 \n",
      "dtypes: int64(5), object(6)\n",
      "memory usage: 86.1+ KB\n"
     ]
    }
   ],
   "source": [
    "scoring_data.info()"
   ],
   "metadata": {
    "collapsed": false,
    "pycharm": {
     "name": "#%%\n"
    }
   }
  },
  {
   "cell_type": "markdown",
   "metadata": {},
   "source": [
    "## Рассмотрим влияние факторов на рисковость пользователя"
   ]
  },
  {
   "cell_type": "code",
   "execution_count": 80,
   "metadata": {},
   "outputs": [],
   "source": [
    "def calc_risks(column):\n",
    "    \n",
    "    \"\"\"\n",
    "    Функция позволяет рассчитать среднее значение рискованности для группы пользователей.\n",
    "    Работает только для категориальных и ранговых переменных.\n",
    "    Для количественных переменных лучше использовать графики-гистограммы.\n",
    "    \"\"\"\n",
    "    \n",
    "    return scoring_data.groupby(\n",
    "        column, \n",
    "        as_index=False\n",
    "    ).agg( \n",
    "        {   ## Рассчитаем сразу две функции от одного датасета: среднее значение риска и кол-во клиентов\n",
    "            'is_risk': [np.mean, 'size']\n",
    "        }\n",
    "    ).droplevel(\n",
    "        ## После расчёта исправим названия колонок\n",
    "        level=0, \n",
    "        axis=1\n",
    "    ).rename(\n",
    "        {\n",
    "            '': column, \n",
    "            'mean': 'risk_level', \n",
    "            'size': 'clients_count'\n",
    "        }, \n",
    "        axis=1\n",
    "    ).sort_values(\n",
    "        ## Отсортируем по убыванию рискованности\n",
    "        by=['risk_level'],\n",
    "        ascending=False\n",
    "    )"
   ]
  },
  {
   "cell_type": "code",
   "execution_count": 143,
   "metadata": {
    "pycharm": {
     "name": "#%%\n"
    }
   },
   "outputs": [],
   "source": [
    "res = scoring_data.pivot_table(columns='Purpose', values='is_risk', index='Housing', aggfunc=['mean', 'std'])"
   ]
  },
  {
   "cell_type": "code",
   "execution_count": 144,
   "metadata": {},
   "outputs": [
    {
     "data": {
      "text/html": [
       "<div>\n",
       "<style scoped>\n",
       "    .dataframe tbody tr th:only-of-type {\n",
       "        vertical-align: middle;\n",
       "    }\n",
       "\n",
       "    .dataframe tbody tr th {\n",
       "        vertical-align: top;\n",
       "    }\n",
       "\n",
       "    .dataframe thead tr th {\n",
       "        text-align: left;\n",
       "    }\n",
       "\n",
       "    .dataframe thead tr:last-of-type th {\n",
       "        text-align: right;\n",
       "    }\n",
       "</style>\n",
       "<table border=\"1\" class=\"dataframe\">\n",
       "  <thead>\n",
       "    <tr>\n",
       "      <th></th>\n",
       "      <th colspan=\"8\" halign=\"left\">mean</th>\n",
       "      <th colspan=\"8\" halign=\"left\">std</th>\n",
       "    </tr>\n",
       "    <tr>\n",
       "      <th>Purpose</th>\n",
       "      <th>business</th>\n",
       "      <th>car</th>\n",
       "      <th>domestic appliances</th>\n",
       "      <th>education</th>\n",
       "      <th>furniture/equipment</th>\n",
       "      <th>radio/TV</th>\n",
       "      <th>repairs</th>\n",
       "      <th>vacation/others</th>\n",
       "      <th>business</th>\n",
       "      <th>car</th>\n",
       "      <th>domestic appliances</th>\n",
       "      <th>education</th>\n",
       "      <th>furniture/equipment</th>\n",
       "      <th>radio/TV</th>\n",
       "      <th>repairs</th>\n",
       "      <th>vacation/others</th>\n",
       "    </tr>\n",
       "    <tr>\n",
       "      <th>Housing</th>\n",
       "      <th></th>\n",
       "      <th></th>\n",
       "      <th></th>\n",
       "      <th></th>\n",
       "      <th></th>\n",
       "      <th></th>\n",
       "      <th></th>\n",
       "      <th></th>\n",
       "      <th></th>\n",
       "      <th></th>\n",
       "      <th></th>\n",
       "      <th></th>\n",
       "      <th></th>\n",
       "      <th></th>\n",
       "      <th></th>\n",
       "      <th></th>\n",
       "    </tr>\n",
       "  </thead>\n",
       "  <tbody>\n",
       "    <tr>\n",
       "      <th>free</th>\n",
       "      <td>0.600000</td>\n",
       "      <td>0.418182</td>\n",
       "      <td>NaN</td>\n",
       "      <td>0.466667</td>\n",
       "      <td>0.272727</td>\n",
       "      <td>0.333333</td>\n",
       "      <td>0.666667</td>\n",
       "      <td>0.25</td>\n",
       "      <td>0.547723</td>\n",
       "      <td>0.497807</td>\n",
       "      <td>NaN</td>\n",
       "      <td>0.516398</td>\n",
       "      <td>0.467099</td>\n",
       "      <td>0.487950</td>\n",
       "      <td>0.577350</td>\n",
       "      <td>0.500000</td>\n",
       "    </tr>\n",
       "    <tr>\n",
       "      <th>own</th>\n",
       "      <td>0.263158</td>\n",
       "      <td>0.273973</td>\n",
       "      <td>0.3</td>\n",
       "      <td>0.352941</td>\n",
       "      <td>0.295082</td>\n",
       "      <td>0.202643</td>\n",
       "      <td>0.294118</td>\n",
       "      <td>0.50</td>\n",
       "      <td>0.443273</td>\n",
       "      <td>0.447017</td>\n",
       "      <td>0.483046</td>\n",
       "      <td>0.485071</td>\n",
       "      <td>0.457960</td>\n",
       "      <td>0.402857</td>\n",
       "      <td>0.469668</td>\n",
       "      <td>0.534522</td>\n",
       "    </tr>\n",
       "    <tr>\n",
       "      <th>rent</th>\n",
       "      <td>0.687500</td>\n",
       "      <td>0.365079</td>\n",
       "      <td>0.5</td>\n",
       "      <td>0.400000</td>\n",
       "      <td>0.395833</td>\n",
       "      <td>0.289474</td>\n",
       "      <td>0.500000</td>\n",
       "      <td>NaN</td>\n",
       "      <td>0.478714</td>\n",
       "      <td>0.485320</td>\n",
       "      <td>0.707107</td>\n",
       "      <td>0.516398</td>\n",
       "      <td>0.494204</td>\n",
       "      <td>0.459606</td>\n",
       "      <td>0.707107</td>\n",
       "      <td>NaN</td>\n",
       "    </tr>\n",
       "  </tbody>\n",
       "</table>\n",
       "</div>"
      ],
      "text/plain": [
       "             mean                                                              \\\n",
       "Purpose  business       car domestic appliances education furniture/equipment   \n",
       "Housing                                                                         \n",
       "free     0.600000  0.418182                 NaN  0.466667            0.272727   \n",
       "own      0.263158  0.273973                 0.3  0.352941            0.295082   \n",
       "rent     0.687500  0.365079                 0.5  0.400000            0.395833   \n",
       "\n",
       "                                                  std            \\\n",
       "Purpose  radio/TV   repairs vacation/others  business       car   \n",
       "Housing                                                           \n",
       "free     0.333333  0.666667            0.25  0.547723  0.497807   \n",
       "own      0.202643  0.294118            0.50  0.443273  0.447017   \n",
       "rent     0.289474  0.500000             NaN  0.478714  0.485320   \n",
       "\n",
       "                                                                               \\\n",
       "Purpose domestic appliances education furniture/equipment  radio/TV   repairs   \n",
       "Housing                                                                         \n",
       "free                    NaN  0.516398            0.467099  0.487950  0.577350   \n",
       "own                0.483046  0.485071            0.457960  0.402857  0.469668   \n",
       "rent               0.707107  0.516398            0.494204  0.459606  0.707107   \n",
       "\n",
       "                         \n",
       "Purpose vacation/others  \n",
       "Housing                  \n",
       "free           0.500000  \n",
       "own            0.534522  \n",
       "rent                NaN  "
      ]
     },
     "execution_count": 144,
     "metadata": {},
     "output_type": "execute_result"
    }
   ],
   "source": [
    "res"
   ]
  },
  {
   "cell_type": "code",
   "execution_count": 81,
   "metadata": {},
   "outputs": [
    {
     "data": {
      "text/html": [
       "<div>\n",
       "<style scoped>\n",
       "    .dataframe tbody tr th:only-of-type {\n",
       "        vertical-align: middle;\n",
       "    }\n",
       "\n",
       "    .dataframe tbody tr th {\n",
       "        vertical-align: top;\n",
       "    }\n",
       "\n",
       "    .dataframe thead th {\n",
       "        text-align: right;\n",
       "    }\n",
       "</style>\n",
       "<table border=\"1\" class=\"dataframe\">\n",
       "  <thead>\n",
       "    <tr style=\"text-align: right;\">\n",
       "      <th></th>\n",
       "      <th>Purpose</th>\n",
       "      <th>risk_level</th>\n",
       "      <th>clients_count</th>\n",
       "    </tr>\n",
       "  </thead>\n",
       "  <tbody>\n",
       "    <tr>\n",
       "      <th>7</th>\n",
       "      <td>vacation/others</td>\n",
       "      <td>0.416667</td>\n",
       "      <td>12</td>\n",
       "    </tr>\n",
       "    <tr>\n",
       "      <th>3</th>\n",
       "      <td>education</td>\n",
       "      <td>0.389831</td>\n",
       "      <td>59</td>\n",
       "    </tr>\n",
       "    <tr>\n",
       "      <th>6</th>\n",
       "      <td>repairs</td>\n",
       "      <td>0.363636</td>\n",
       "      <td>22</td>\n",
       "    </tr>\n",
       "    <tr>\n",
       "      <th>0</th>\n",
       "      <td>business</td>\n",
       "      <td>0.350515</td>\n",
       "      <td>97</td>\n",
       "    </tr>\n",
       "    <tr>\n",
       "      <th>2</th>\n",
       "      <td>domestic appliances</td>\n",
       "      <td>0.333333</td>\n",
       "      <td>12</td>\n",
       "    </tr>\n",
       "    <tr>\n",
       "      <th>4</th>\n",
       "      <td>furniture/equipment</td>\n",
       "      <td>0.320442</td>\n",
       "      <td>181</td>\n",
       "    </tr>\n",
       "    <tr>\n",
       "      <th>1</th>\n",
       "      <td>car</td>\n",
       "      <td>0.314540</td>\n",
       "      <td>337</td>\n",
       "    </tr>\n",
       "    <tr>\n",
       "      <th>5</th>\n",
       "      <td>radio/TV</td>\n",
       "      <td>0.221429</td>\n",
       "      <td>280</td>\n",
       "    </tr>\n",
       "  </tbody>\n",
       "</table>\n",
       "</div>"
      ],
      "text/plain": [
       "               Purpose  risk_level  clients_count\n",
       "7      vacation/others    0.416667             12\n",
       "3            education    0.389831             59\n",
       "6              repairs    0.363636             22\n",
       "0             business    0.350515             97\n",
       "2  domestic appliances    0.333333             12\n",
       "4  furniture/equipment    0.320442            181\n",
       "1                  car    0.314540            337\n",
       "5             radio/TV    0.221429            280"
      ]
     },
     "execution_count": 81,
     "metadata": {},
     "output_type": "execute_result"
    }
   ],
   "source": [
    "calc_risks('Purpose')"
   ]
  },
  {
   "cell_type": "code",
   "execution_count": 82,
   "metadata": {},
   "outputs": [
    {
     "data": {
      "text/html": [
       "<div>\n",
       "<style scoped>\n",
       "    .dataframe tbody tr th:only-of-type {\n",
       "        vertical-align: middle;\n",
       "    }\n",
       "\n",
       "    .dataframe tbody tr th {\n",
       "        vertical-align: top;\n",
       "    }\n",
       "\n",
       "    .dataframe thead th {\n",
       "        text-align: right;\n",
       "    }\n",
       "</style>\n",
       "<table border=\"1\" class=\"dataframe\">\n",
       "  <thead>\n",
       "    <tr style=\"text-align: right;\">\n",
       "      <th></th>\n",
       "      <th>Checking account</th>\n",
       "      <th>risk_level</th>\n",
       "      <th>clients_count</th>\n",
       "    </tr>\n",
       "  </thead>\n",
       "  <tbody>\n",
       "    <tr>\n",
       "      <th>0</th>\n",
       "      <td>little</td>\n",
       "      <td>0.492701</td>\n",
       "      <td>274</td>\n",
       "    </tr>\n",
       "    <tr>\n",
       "      <th>1</th>\n",
       "      <td>moderate</td>\n",
       "      <td>0.390335</td>\n",
       "      <td>269</td>\n",
       "    </tr>\n",
       "    <tr>\n",
       "      <th>2</th>\n",
       "      <td>rich</td>\n",
       "      <td>0.222222</td>\n",
       "      <td>63</td>\n",
       "    </tr>\n",
       "    <tr>\n",
       "      <th>3</th>\n",
       "      <td>unknown</td>\n",
       "      <td>0.116751</td>\n",
       "      <td>394</td>\n",
       "    </tr>\n",
       "  </tbody>\n",
       "</table>\n",
       "</div>"
      ],
      "text/plain": [
       "  Checking account  risk_level  clients_count\n",
       "0           little    0.492701            274\n",
       "1         moderate    0.390335            269\n",
       "2             rich    0.222222             63\n",
       "3          unknown    0.116751            394"
      ]
     },
     "execution_count": 82,
     "metadata": {},
     "output_type": "execute_result"
    }
   ],
   "source": [
    "calc_risks('Checking account')"
   ]
  },
  {
   "cell_type": "code",
   "execution_count": 83,
   "metadata": {
    "pycharm": {
     "name": "#%%\n"
    }
   },
   "outputs": [
    {
     "data": {
      "text/html": [
       "<div>\n",
       "<style scoped>\n",
       "    .dataframe tbody tr th:only-of-type {\n",
       "        vertical-align: middle;\n",
       "    }\n",
       "\n",
       "    .dataframe tbody tr th {\n",
       "        vertical-align: top;\n",
       "    }\n",
       "\n",
       "    .dataframe thead th {\n",
       "        text-align: right;\n",
       "    }\n",
       "</style>\n",
       "<table border=\"1\" class=\"dataframe\">\n",
       "  <thead>\n",
       "    <tr style=\"text-align: right;\">\n",
       "      <th></th>\n",
       "      <th>Saving accounts</th>\n",
       "      <th>risk_level</th>\n",
       "      <th>clients_count</th>\n",
       "    </tr>\n",
       "  </thead>\n",
       "  <tbody>\n",
       "    <tr>\n",
       "      <th>0</th>\n",
       "      <td>little</td>\n",
       "      <td>0.359867</td>\n",
       "      <td>603</td>\n",
       "    </tr>\n",
       "    <tr>\n",
       "      <th>1</th>\n",
       "      <td>moderate</td>\n",
       "      <td>0.330097</td>\n",
       "      <td>103</td>\n",
       "    </tr>\n",
       "    <tr>\n",
       "      <th>4</th>\n",
       "      <td>unknown</td>\n",
       "      <td>0.174863</td>\n",
       "      <td>183</td>\n",
       "    </tr>\n",
       "    <tr>\n",
       "      <th>2</th>\n",
       "      <td>quite rich</td>\n",
       "      <td>0.174603</td>\n",
       "      <td>63</td>\n",
       "    </tr>\n",
       "    <tr>\n",
       "      <th>3</th>\n",
       "      <td>rich</td>\n",
       "      <td>0.125000</td>\n",
       "      <td>48</td>\n",
       "    </tr>\n",
       "  </tbody>\n",
       "</table>\n",
       "</div>"
      ],
      "text/plain": [
       "  Saving accounts  risk_level  clients_count\n",
       "0          little    0.359867            603\n",
       "1        moderate    0.330097            103\n",
       "4         unknown    0.174863            183\n",
       "2      quite rich    0.174603             63\n",
       "3            rich    0.125000             48"
      ]
     },
     "execution_count": 83,
     "metadata": {},
     "output_type": "execute_result"
    }
   ],
   "source": [
    "calc_risks('Saving accounts')"
   ]
  },
  {
   "cell_type": "code",
   "execution_count": 84,
   "metadata": {
    "pycharm": {
     "name": "#%%\n"
    }
   },
   "outputs": [
    {
     "data": {
      "text/html": [
       "<div>\n",
       "<style scoped>\n",
       "    .dataframe tbody tr th:only-of-type {\n",
       "        vertical-align: middle;\n",
       "    }\n",
       "\n",
       "    .dataframe tbody tr th {\n",
       "        vertical-align: top;\n",
       "    }\n",
       "\n",
       "    .dataframe thead th {\n",
       "        text-align: right;\n",
       "    }\n",
       "</style>\n",
       "<table border=\"1\" class=\"dataframe\">\n",
       "  <thead>\n",
       "    <tr style=\"text-align: right;\">\n",
       "      <th></th>\n",
       "      <th>Sex</th>\n",
       "      <th>risk_level</th>\n",
       "      <th>clients_count</th>\n",
       "    </tr>\n",
       "  </thead>\n",
       "  <tbody>\n",
       "    <tr>\n",
       "      <th>0</th>\n",
       "      <td>female</td>\n",
       "      <td>0.351613</td>\n",
       "      <td>310</td>\n",
       "    </tr>\n",
       "    <tr>\n",
       "      <th>1</th>\n",
       "      <td>male</td>\n",
       "      <td>0.276812</td>\n",
       "      <td>690</td>\n",
       "    </tr>\n",
       "  </tbody>\n",
       "</table>\n",
       "</div>"
      ],
      "text/plain": [
       "      Sex  risk_level  clients_count\n",
       "0  female    0.351613            310\n",
       "1    male    0.276812            690"
      ]
     },
     "execution_count": 84,
     "metadata": {},
     "output_type": "execute_result"
    }
   ],
   "source": [
    "calc_risks('Sex')"
   ]
  },
  {
   "cell_type": "code",
   "execution_count": 85,
   "metadata": {
    "pycharm": {
     "name": "#%%\n"
    }
   },
   "outputs": [
    {
     "data": {
      "text/html": [
       "<div>\n",
       "<style scoped>\n",
       "    .dataframe tbody tr th:only-of-type {\n",
       "        vertical-align: middle;\n",
       "    }\n",
       "\n",
       "    .dataframe tbody tr th {\n",
       "        vertical-align: top;\n",
       "    }\n",
       "\n",
       "    .dataframe thead th {\n",
       "        text-align: right;\n",
       "    }\n",
       "</style>\n",
       "<table border=\"1\" class=\"dataframe\">\n",
       "  <thead>\n",
       "    <tr style=\"text-align: right;\">\n",
       "      <th></th>\n",
       "      <th>Job</th>\n",
       "      <th>risk_level</th>\n",
       "      <th>clients_count</th>\n",
       "    </tr>\n",
       "  </thead>\n",
       "  <tbody>\n",
       "    <tr>\n",
       "      <th>3</th>\n",
       "      <td>3</td>\n",
       "      <td>0.344595</td>\n",
       "      <td>148</td>\n",
       "    </tr>\n",
       "    <tr>\n",
       "      <th>0</th>\n",
       "      <td>0</td>\n",
       "      <td>0.318182</td>\n",
       "      <td>22</td>\n",
       "    </tr>\n",
       "    <tr>\n",
       "      <th>2</th>\n",
       "      <td>2</td>\n",
       "      <td>0.295238</td>\n",
       "      <td>630</td>\n",
       "    </tr>\n",
       "    <tr>\n",
       "      <th>1</th>\n",
       "      <td>1</td>\n",
       "      <td>0.280000</td>\n",
       "      <td>200</td>\n",
       "    </tr>\n",
       "  </tbody>\n",
       "</table>\n",
       "</div>"
      ],
      "text/plain": [
       "   Job  risk_level  clients_count\n",
       "3    3    0.344595            148\n",
       "0    0    0.318182             22\n",
       "2    2    0.295238            630\n",
       "1    1    0.280000            200"
      ]
     },
     "execution_count": 85,
     "metadata": {},
     "output_type": "execute_result"
    }
   ],
   "source": [
    "calc_risks('Job')"
   ]
  },
  {
   "cell_type": "code",
   "execution_count": 86,
   "metadata": {
    "pycharm": {
     "name": "#%%\n"
    },
    "scrolled": true
   },
   "outputs": [
    {
     "data": {
      "text/html": [
       "<div>\n",
       "<style scoped>\n",
       "    .dataframe tbody tr th:only-of-type {\n",
       "        vertical-align: middle;\n",
       "    }\n",
       "\n",
       "    .dataframe tbody tr th {\n",
       "        vertical-align: top;\n",
       "    }\n",
       "\n",
       "    .dataframe thead th {\n",
       "        text-align: right;\n",
       "    }\n",
       "</style>\n",
       "<table border=\"1\" class=\"dataframe\">\n",
       "  <thead>\n",
       "    <tr style=\"text-align: right;\">\n",
       "      <th></th>\n",
       "      <th>Housing</th>\n",
       "      <th>risk_level</th>\n",
       "      <th>clients_count</th>\n",
       "    </tr>\n",
       "  </thead>\n",
       "  <tbody>\n",
       "    <tr>\n",
       "      <th>0</th>\n",
       "      <td>free</td>\n",
       "      <td>0.407407</td>\n",
       "      <td>108</td>\n",
       "    </tr>\n",
       "    <tr>\n",
       "      <th>2</th>\n",
       "      <td>rent</td>\n",
       "      <td>0.391061</td>\n",
       "      <td>179</td>\n",
       "    </tr>\n",
       "    <tr>\n",
       "      <th>1</th>\n",
       "      <td>own</td>\n",
       "      <td>0.260870</td>\n",
       "      <td>713</td>\n",
       "    </tr>\n",
       "  </tbody>\n",
       "</table>\n",
       "</div>"
      ],
      "text/plain": [
       "  Housing  risk_level  clients_count\n",
       "0    free    0.407407            108\n",
       "2    rent    0.391061            179\n",
       "1     own    0.260870            713"
      ]
     },
     "execution_count": 86,
     "metadata": {},
     "output_type": "execute_result"
    }
   ],
   "source": [
    "calc_risks('Housing')"
   ]
  },
  {
   "cell_type": "markdown",
   "metadata": {},
   "source": [
    "## Попробуем разглядеть отличие на графиках для Возраста, Срока кредитования и Суммы кредита"
   ]
  },
  {
   "cell_type": "code",
   "execution_count": 88,
   "metadata": {},
   "outputs": [
    {
     "data": {
      "text/plain": [
       "<AxesSubplot:xlabel='Age', ylabel='Count'>"
      ]
     },
     "execution_count": 88,
     "metadata": {},
     "output_type": "execute_result"
    },
    {
     "data": {
      "image/png": "[encoded data removed]",
      "text/plain": [
       "<Figure size 864x576 with 1 Axes>"
      ]
     },
     "metadata": {
      "needs_background": "light"
     },
     "output_type": "display_data"
    }
   ],
   "source": [
    "## Посмотрим на гистограммы для Возраста\n",
    "plt.figure(figsize=(12, 8))\n",
    "sns.histplot(scoring_data.query('is_risk == 0').Age, color='green', alpha=1)\n",
    "sns.histplot(scoring_data.query('is_risk == 1').Age, color='red', alpha=1)"
   ]
  },
  {
   "cell_type": "code",
   "execution_count": 93,
   "metadata": {
    "scrolled": false
   },
   "outputs": [
    {
     "data": {
      "text/plain": [
       "<AxesSubplot:xlabel='Duration', ylabel='Count'>"
      ]
     },
     "execution_count": 93,
     "metadata": {},
     "output_type": "execute_result"
    },
    {
     "data": {
      "image/png": "[encoded data removed]",
      "text/plain": [
       "<Figure size 432x288 with 1 Axes>"
      ]
     },
     "metadata": {
      "needs_background": "light"
     },
     "output_type": "display_data"
    }
   ],
   "source": [
    "## Посмотрим на гистограммы для Срока кредитования\n",
    "sns.histplot(scoring_data.query('is_risk == 0').Duration, color='green', alpha=.8)\n",
    "sns.histplot(scoring_data.query('is_risk == 1').Duration, color='red', alpha=.4)"
   ]
  },
  {
   "cell_type": "code",
   "execution_count": 94,
   "metadata": {},
   "outputs": [
    {
     "data": {
      "text/plain": [
       "<AxesSubplot:xlabel='Credit amount', ylabel='Count'>"
      ]
     },
     "execution_count": 94,
     "metadata": {},
     "output_type": "execute_result"
    },
    {
     "data": {
      "image/png": "[encoded data removed]",
      "text/plain": [
       "<Figure size 432x288 with 1 Axes>"
      ]
     },
     "metadata": {
      "needs_background": "light"
     },
     "output_type": "display_data"
    }
   ],
   "source": [
    "## Посмотрим на гистограммы для Суммы кредитования\n",
    "sns.histplot(scoring_data.query('is_risk == 0')['Credit amount'], color='green', alpha=0.5)\n",
    "sns.histplot(scoring_data.query('is_risk == 1')['Credit amount'], color='red', alpha=0.5)"
   ]
  },
  {
   "cell_type": "markdown",
   "metadata": {},
   "source": [
    "### Построим сглаженные гистограммы"
   ]
  },
  {
   "cell_type": "code",
   "execution_count": 89,
   "metadata": {},
   "outputs": [
    {
     "data": {
      "text/plain": [
       "<AxesSubplot:xlabel='Age', ylabel='Density'>"
      ]
     },
     "execution_count": 89,
     "metadata": {},
     "output_type": "execute_result"
    },
    {
     "data": {
      "image/png": "[encoded data removed]",
      "text/plain": [
       "<Figure size 432x288 with 1 Axes>"
      ]
     },
     "metadata": {
      "needs_background": "light"
     },
     "output_type": "display_data"
    }
   ],
   "source": [
    "## Посмотрим на гистограммы для Возраста\n",
    "sns.kdeplot(scoring_data.query('is_risk == 0').Age, color='green', alpha=0.5)\n",
    "sns.kdeplot(scoring_data.query('is_risk == 1').Age, color='red', alpha=0.5)"
   ]
  },
  {
   "cell_type": "code",
   "execution_count": 95,
   "metadata": {},
   "outputs": [
    {
     "data": {
      "text/plain": [
       "<AxesSubplot:xlabel='Duration', ylabel='Density'>"
      ]
     },
     "execution_count": 95,
     "metadata": {},
     "output_type": "execute_result"
    },
    {
     "data": {
      "image/png": "[encoded data removed]",
      "text/plain": [
       "<Figure size 432x288 with 1 Axes>"
      ]
     },
     "metadata": {
      "needs_background": "light"
     },
     "output_type": "display_data"
    }
   ],
   "source": [
    "## Посмотрим на гистограммы для Срока кредитования\n",
    "sns.kdeplot(scoring_data.query('is_risk == 0').Duration, color='green', alpha=0.5)\n",
    "sns.kdeplot(scoring_data.query('is_risk == 1').Duration, color='red', alpha=0.5)"
   ]
  },
  {
   "cell_type": "code",
   "execution_count": 105,
   "metadata": {
    "scrolled": false
   },
   "outputs": [
    {
     "data": {
      "text/plain": [
       "<AxesSubplot:xlabel='Credit amount', ylabel='Density'>"
      ]
     },
     "execution_count": 105,
     "metadata": {},
     "output_type": "execute_result"
    },
    {
     "data": {
      "image/png": "[encoded data removed]",
      "text/plain": [
       "<Figure size 432x288 with 1 Axes>"
      ]
     },
     "metadata": {
      "needs_background": "light"
     },
     "output_type": "display_data"
    }
   ],
   "source": [
    "## Их кстати можно объединить на один график\n",
    "sns.kdeplot(scoring_data.query('is_risk == 0')['Credit amount'], color='green')\n",
    "# sns.kdeplot(scoring_data.query('is_risk == 1')['Credit amount'], color='red')"
   ]
  },
  {
   "cell_type": "code",
   "execution_count": 129,
   "metadata": {},
   "outputs": [],
   "source": [
    "from scipy import stats"
   ]
  },
  {
   "cell_type": "code",
   "execution_count": 138,
   "metadata": {},
   "outputs": [],
   "source": [
    "m = stats.mode(scoring_data.query('is_risk == 0')['Credit amount']).mode[0]"
   ]
  },
  {
   "cell_type": "code",
   "execution_count": 141,
   "metadata": {},
   "outputs": [
    {
     "data": {
      "text/plain": [
       "<AxesSubplot:xlabel='Credit amount', ylabel='Density'>"
      ]
     },
     "execution_count": 141,
     "metadata": {},
     "output_type": "execute_result"
    },
    {
     "data": {
      "image/png": "[encoded data removed]",
      "text/plain": [
       "<Figure size 432x288 with 1 Axes>"
      ]
     },
     "metadata": {
      "needs_background": "light"
     },
     "output_type": "display_data"
    }
   ],
   "source": [
    "sns.kdeplot(scoring_data.query('is_risk == 0')['Credit amount'], color='green')\n",
    "sns.kdeplot(scoring_data.query('is_risk == 0')['Credit amount'].append(pd.Series([m] * 100)).reset_index(drop=True), color='goldenrod')\n",
    "\n"
   ]
  },
  {
   "cell_type": "markdown",
   "metadata": {},
   "source": [
    "## Оценим с помощью метода [WoE / IV](https://ecommerce-in-ukraine.blogspot.com/2020/09/iv-woe.html)"
   ]
  },
  {
   "cell_type": "code",
   "execution_count": null,
   "metadata": {},
   "outputs": [],
   "source": [
    "## Т.к. метод расчёта WoE работает только с категориальными или с ранговыми данными:\n",
    "## сразу произведём биннинг для колонок Возраст, Сумма кредита и Срок кредитования\n",
    "## таким образом мы получим три раноговых переменных взамен трёх количественных\n",
    "## Для биннинга будем использовать метод np.digitize\n",
    "## А для создания границ биннинга воспользуемся персентилями из метода describe\n",
    "\n",
    "scoring_data['age_bucket'] = np.digitize(scoring_data['Age'], [19, 23, 35, 60, 75])\n",
    "scoring_data['amount_bucket'] = np.digitize(scoring_data['Credit amount'], [250, 1000, 5000, 18424])\n",
    "scoring_data['duration_bucket'] = np.digitize(scoring_data['Duration'], [4, 12, 24, 72])"
   ]
  },
  {
   "cell_type": "code",
   "execution_count": null,
   "metadata": {
    "pycharm": {
     "name": "#%%\n"
    }
   },
   "outputs": [],
   "source": [
    "scoring_data"
   ]
  },
  {
   "cell_type": "code",
   "execution_count": null,
   "metadata": {},
   "outputs": [],
   "source": [
    "def calc_woe_by_column(column):\n",
    "    \n",
    "    \"\"\"\n",
    "    Функция позволяет рассчитать метрику WoE для указанной колонки.\n",
    "    Работает только для категориальных и ранговых переменных.\n",
    "    \"\"\"\n",
    "    \n",
    "    tmp = scoring_data.groupby(column, as_index=False).agg(\n",
    "        {\n",
    "            'is_risk': np.sum,\n",
    "            'Age': lambda x: x.count(),\n",
    "        }\n",
    "    ).rename(\n",
    "        {'Age': 'all_cases'},\n",
    "        axis=1\n",
    "    ).assign(\n",
    "        not_risk = lambda x: x['all_cases'] - x['is_risk']\n",
    "    )\n",
    "\n",
    "    n_risk = tmp['is_risk'].sum()\n",
    "    n_not_risk = tmp['not_risk'].sum()\n",
    "\n",
    "    tmp['WoE'] = np.round(np.log((tmp['is_risk'] / n_risk) / (tmp['not_risk'] / n_not_risk)), 3)\n",
    "    tmp['reason'] = column + '_' + tmp[column].astype(str)\n",
    "    tmp = tmp[tmp.WoE != np.inf]\n",
    "    tmp = tmp[tmp.WoE != -np.inf]\n",
    "    \n",
    "    return tmp.sort_values(\n",
    "        by='WoE',\n",
    "        ascending=False\n",
    "    )[['reason', 'WoE', 'is_risk', 'not_risk']].reset_index(drop=True)\n",
    "\n",
    "\n",
    "def get_IV(column):\n",
    "    \n",
    "    \"\"\"\n",
    "    Функция позволяет рассчитать метрику IV для указанной колонки.\n",
    "    IV - information value позволяет объединить все значения WoE по колонке в одно число.\n",
    "    Работает только для категориальных и ранговых переменных.\n",
    "    \"\"\"\n",
    "    \n",
    "    tmp = calc_woe_by_column(column)\n",
    "    return ((tmp['is_risk'] - tmp['not_risk']) * tmp['WoE']).sum()"
   ]
  },
  {
   "cell_type": "code",
   "execution_count": null,
   "metadata": {
    "pycharm": {
     "name": "#%%\n"
    }
   },
   "outputs": [],
   "source": [
    "calc_woe_by_column('Checking account')"
   ]
  },
  {
   "cell_type": "code",
   "execution_count": null,
   "metadata": {
    "pycharm": {
     "name": "#%%\n"
    }
   },
   "outputs": [],
   "source": [
    "np.log((135 / 300 )/ (139 / 700))"
   ]
  },
  {
   "cell_type": "code",
   "execution_count": null,
   "metadata": {
    "pycharm": {
     "name": "#%%\n"
    }
   },
   "outputs": [],
   "source": [
    "result"
   ]
  },
  {
   "cell_type": "code",
   "execution_count": null,
   "metadata": {
    "pycharm": {
     "name": "#%%\n"
    }
   },
   "outputs": [],
   "source": [
    "np.log(348/ 150)"
   ]
  },
  {
   "cell_type": "code",
   "execution_count": null,
   "metadata": {
    "pycharm": {
     "name": "#%%\n"
    }
   },
   "outputs": [],
   "source": [
    "pd.isna(scoring_data)"
   ]
  },
  {
   "cell_type": "code",
   "execution_count": null,
   "metadata": {},
   "outputs": [],
   "source": [
    "## Объединим все факторы в одну таблицу и выведем, отсортированными по влиянию\n",
    "result = calc_woe_by_column('Sex')\n",
    "for col in scoring_data.columns.drop(['is_risk', 'Risk', 'Credit amount', 'Duration', 'Age', 'Sex']):\n",
    "    result = pd.concat([result, calc_woe_by_column(col)], 0, ignore_index=True)\n",
    "    \n",
    "result.sort_values(by='WoE', ascending=False).reset_index(drop=True)"
   ]
  },
  {
   "cell_type": "code",
   "execution_count": null,
   "metadata": {
    "pycharm": {
     "name": "#%%\n"
    }
   },
   "outputs": [],
   "source": [
    "## Посмотрим на влияние каждой отдельной колонки на рисковость пользователя с помощью IV\n",
    "for col in scoring_data.columns.drop(['is_risk', 'Risk', 'Credit amount', 'Duration', 'Age']):\n",
    "    print(col, get_IV(col))"
   ]
  },
  {
   "cell_type": "code",
   "execution_count": null,
   "metadata": {},
   "outputs": [],
   "source": []
  }
 ],
 "metadata": {
  "kernelspec": {
   "display_name": "Python 3 (ipykernel)",
   "language": "python",
   "name": "python3"
  },
  "language_info": {
   "codemirror_mode": {
    "name": "ipython",
    "version": 3
   },
   "file_extension": ".py",
   "mimetype": "text/x-python",
   "name": "python",
   "nbconvert_exporter": "python",
   "pygments_lexer": "ipython3",
   "version": "3.9.7"
  }
 },
 "nbformat": 4,
 "nbformat_minor": 1
}