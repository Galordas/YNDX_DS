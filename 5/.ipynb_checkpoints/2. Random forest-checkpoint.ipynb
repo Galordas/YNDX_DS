{
 "cells": [
  {
   "metadata": {},
   "cell_type": "markdown",
   "source": [
    "## Random forest\n",
    "\n",
    "`Random forest` allows us to train a large number of independent `trees` and then makes a decision based on `voting`.\n",
    "`Random forest` help to improve the prediction result and avoid overfitting\n",
    "\n",
    "\n",
    "`RandomForestClassifier` has the following functions:\n",
    "* `fit(X, y)` - train the model on provided dataset. X - feature matrix, y - target vector;\n",
    "* `predict(X)` - predict the class labels for the provided data;\n",
    "* `score(X,y)` - returns mean accuracy on the given test data and labels. A quick way to evaluate performance;\n",
    "* `predict_proba(X)` - returns the probability estimates for the test data;\n",
    "* `feature_importance` - returns the importance of each feature;\n",
    "* `n_estimators` - specifies the number of trees in the forest;\n",
    "* `max_depth` - depth of trees;\n",
    "*  `min_sample_split` and `min_sample_leef` - min number of samples to split an internal node and min number of samples to be at a leaf node\n",
    "\n",
    "`RandomForestClassifier` has the following hyperparameters:\n",
    "* `n_estimators` - the number of trees\n",
    "* `max_depth` - tree depth\n",
    "* `max_features` - the number of features to consider when looking for the best split\n",
    "\n",
    "\n",
    "#### Обучите модели случайного леса с числом деревьев от 1 до 10."
   ],
   "id": "e6a661b4fbdd862f"
  },
  {
   "metadata": {
    "ExecuteTime": {
     "end_time": "2025-03-27T17:41:40.780758900Z",
     "start_time": "2025-03-27T13:20:35.381283Z"
    }
   },
   "cell_type": "code",
   "source": [
    "from sklearn.ensemble import RandomForestClassifier\n",
    "import pandas as pd\n",
    "from sklearn.model_selection import train_test_split\n",
    "\n",
    "\n",
    "df = pd.read_csv(r'C:\\Users\\Alex\\Desktop\\5\\02 Первая обученная модель\\train_data.csv')\n",
    "df.loc[df['last_price'] > 5650000, 'price_class'] = 1\n",
    "df.loc[df['last_price'] <= 5650000, 'price_class'] = 0\n",
    "\n",
    "df_train, df_valid = train_test_split(df, test_size=0.25, random_state=12345)\n",
    "features_train = df_train.drop(['last_price', 'price_class'], axis=1)\n",
    "target_train = df_train['price_class']\n",
    "features_valid = df_valid.drop(['last_price', 'price_class'], axis=1)\n",
    "target_valid = df_valid['price_class']\n",
    "\n",
    "best_model = None\n",
    "best_result = 0\n",
    "results = []\n",
    "for est in range(1, 11):\n",
    "    model = RandomForestClassifier(random_state=12345, n_estimators=est)\n",
    "    model.fit(features_train, target_train)\n",
    "    predictions_valid = model.predict(features_valid)\n",
    "    result = model.score(features_valid, target_valid)\n",
    "    results.append(result)\n",
    "    if result > best_result:\n",
    "        best_model = model\n",
    "        best_result = result\n",
    "print(\"Accuracy наилучшей модели на валидационной выборке:\", best_result)\n",
    "print(results)\n"
   ],
   "id": "cd99e1d710d46662",
   "outputs": [
    {
     "name": "stdout",
     "output_type": "stream",
     "text": [
      "Accuracy наилучшей модели на валидационной выборке: 0.8873152709359606\n",
      "[0.8429802955665024, 0.8552955665024631, 0.8700738916256158, 0.8737684729064039, 0.8805418719211823, 0.8817733990147784, 0.8799261083743842, 0.8873152709359606, 0.8836206896551724, 0.8866995073891626]\n"
     ]
    }
   ],
   "execution_count": 65
  },
  {
   "metadata": {},
   "cell_type": "markdown",
   "source": "## Логистическая регрессия",
   "id": "5e2a961a301e3507"
  },
  {
   "metadata": {},
   "cell_type": "markdown",
   "source": [
    "Целевой признак (ответ) бывает категориальным и количественным. Если он категориальный, то решается задача классификации; если количественный — регрессии.\n",
    "\n",
    "Если сделать гиперпараметр `n_estimators` больше, модель начнёт разрастаться и медленно обучаться. Это плохо. Мало деревьев и результаты не лучше — тоже неудачно. Сколько можно быть зависимым от деревьев? Попробуем ещё один алгоритм — логистическую регрессию.\n",
    "\n",
    "Model `LogisticRegression` can be imported from `sklearn.liner_model`\n",
    "\n",
    "`from sklearn.linear_model import LogisticRegression`\n",
    "\n",
    "`LogisticRegresion` has the following functions:\n",
    "* `fit(X, y)` - train the model on provided dataset. X - feature matrix, y - target vector;\n",
    "* `predict(X)` - predict the class labels for the provided data;\n",
    "* `score(X,y)` - returns mean accuracy on the given test data and labels. A quick way to evaluate performance;\n",
    "* `predict_proba(X)` - returns the probability estimates for the test data;\n",
    "* `coef_` -  coefficients of the features in the decision function. It shows the weight assigned to each feature in the model\n",
    "* `intercept_` provides the intercept (bias) added to the decision function. It represents the constant term in the logistic regression equation.\n",
    "* `C` specifies the inverse of the regularization strength. It can be adjusted during the model initialization to control the impact of the regularization.\n",
    "* `penalty` Specifies the norm used in the penalization. It can be set to `'l1'`, `'l2'`, `'elasticnet'`, or `None`.\n",
    "* `solver`: This parameter specifies the algorithm to use in the optimization problem. Options include `'newton-cg'`, `'lbfgs'`, `'liblinear'`, `'sag'`, `'saga'`,`'newton-cholesky'`\n",
    "\n",
    "\n",
    "`RandomForestClassifier` has the following hyperparameters:\n",
    "* `n_estimators` - the number of trees\n",
    "* `max_depth` - tree depth\n",
    "* `max_features` - the number of features to consider when looking for the best split\n",
    "\n",
    "`LogisticRegresion` has the following hyperparmeters:\n",
    "* `C` Inverse of regularization strength; must be a positive float.\n",
    "* `penalty` Used to specify the norm used in the penalization.\n",
    "* `solver` Algorithm to use in the optimization problem.\n",
    "\n",
    "#### Work\n",
    "\n",
    "Обучите модель логистической регрессии и загрузите её в тренажёр. Гиперпараметры логистической регрессии настраивать не нужно. Просто обучите и загрузите её."
   ],
   "id": "3d68f21d60cb365a"
  },
  {
   "metadata": {
    "ExecuteTime": {
     "end_time": "2025-03-27T17:41:40.781817200Z",
     "start_time": "2025-03-27T13:20:35.691840Z"
    }
   },
   "cell_type": "code",
   "source": [
    "import pandas as pd\n",
    "from joblib import dump\n",
    "from sklearn.linear_model import LogisticRegression\n",
    "\n",
    "df = pd.read_csv(r'C:\\Users\\Alex\\Desktop\\5\\02 Первая обученная модель\\train_data.csv')\n",
    "df.loc[df['last_price'] > 5650000, 'price_class'] = 1\n",
    "df.loc[df['last_price'] <= 5650000, 'price_class'] = 0\n",
    "\n",
    "df_train, df_valid = train_test_split(df, test_size=0.25, random_state=333)\n",
    "features_train = df_train.drop(['last_price', 'price_class'], axis=1)\n",
    "target_train = df_train['price_class']\n",
    "features_valid = df_valid.drop(['last_price', 'price_class'], axis=1)\n",
    "target_valid = df_valid['price_class']\n",
    "\n",
    "model = LogisticRegression(random_state=333, solver='lbfgs', max_iter=10000)\n",
    "model.fit(features_train, target_train)\n",
    "model.predict(features_valid)\n",
    "model.score(features_valid, target_valid)\n",
    "dump(model,'model_9_1.joblib')\n",
    "\n",
    "print(model.score(features_valid, target_valid))"
   ],
   "id": "4b1c4f9a4c8948ee",
   "outputs": [
    {
     "name": "stdout",
     "output_type": "stream",
     "text": [
      "0.8928571428571429\n"
     ]
    }
   ],
   "execution_count": 66
  },
  {
   "metadata": {},
   "cell_type": "markdown",
   "source": [
    "| **Algorithm** | **Quality (Качество)** | **Speed (Скорость)** |\n",
    "|:-------------:|:---------------------:|:-------------------:|\n",
    "| Decision Tree (Решающее дерево) | Low (Низкое) | High (Высокая) |\n",
    "| Random Forest (Случайный лес) | High (Высокое) | Low (Низкая) |\n",
    "| Logistic Regression (Логистическая регрессия) | Medium (Среднее) | High (Высокая) |\n",
    "\n",
    "#### Work 1\n",
    "\n",
    "Наиболее распространённая метрика качества в задаче регрессии — средняя квадратичная ошибка, `MSE` (от англ. Mean Squared Error)."
   ],
   "id": "8d967f93a3eeb924"
  },
  {
   "metadata": {
    "ExecuteTime": {
     "end_time": "2025-03-27T17:41:40.782752300Z",
     "start_time": "2025-03-27T13:20:37.840365Z"
    }
   },
   "cell_type": "code",
   "source": [
    "import pandas as pd\n",
    "\n",
    "data = {\n",
    "    'country': ['Бразилия', 'Перу', 'Мексика', 'Колумбия'],\n",
    "    'prediction': [623, 253, 150, 237],\n",
    "    'real': [649, 253, 370, 148]\n",
    "}\n",
    "\n",
    "df = pd.DataFrame(data)\n",
    "\n",
    "squared_errors = (df['real'] - df['prediction'])**2\n",
    "\n",
    "mse = squared_errors.mean()\n",
    "print(mse)\n",
    "print(squared_errors)\n"
   ],
   "id": "83bf1928028a4d70",
   "outputs": [
    {
     "name": "stdout",
     "output_type": "stream",
     "text": [
      "14249.25\n",
      "0      676\n",
      "1        0\n",
      "2    48400\n",
      "3     7921\n",
      "dtype: int64\n"
     ]
    }
   ],
   "execution_count": 67
  },
  {
   "metadata": {},
   "cell_type": "markdown",
   "source": [
    "If we want `accuracy` as close to 1 as possible. We want `MSE` as low as possible\n",
    "\n",
    "#### Work 2"
   ],
   "id": "b358b95a960fbb7"
  },
  {
   "metadata": {
    "ExecuteTime": {
     "end_time": "2025-03-27T17:41:40.782752300Z",
     "start_time": "2025-03-27T13:20:37.864559Z"
    }
   },
   "cell_type": "code",
   "source": [
    "import numpy as np\n",
    "from sklearn.metrics import mean_squared_error\n",
    "\n",
    "\n",
    "def mse(answers, predictions):\n",
    "    return np.mean(\n",
    "        (np.array(answers) - np.array(predictions))\n",
    "        ** 2)\n",
    "\n",
    "\n",
    "def mse_sk(answers, predictions):\n",
    "    return mean_squared_error(answers, predictions)\n",
    "\n",
    "\n",
    "answers = [623, 253, 150, 237]\n",
    "predictions = [649, 253, 370, 148]\n",
    "print(mse(answers, predictions))\n",
    "print(mse_sk(answers, predictions))"
   ],
   "id": "92bbe9bc87190b92",
   "outputs": [
    {
     "name": "stdout",
     "output_type": "stream",
     "text": [
      "14249.25\n",
      "14249.25\n"
     ]
    }
   ],
   "execution_count": 68
  },
  {
   "metadata": {},
   "cell_type": "markdown",
   "source": "#### Work 3",
   "id": "8c0bbc273622dfd8"
  },
  {
   "metadata": {
    "ExecuteTime": {
     "end_time": "2025-03-27T17:41:40.792719100Z",
     "start_time": "2025-03-27T14:25:28.738027Z"
    }
   },
   "cell_type": "code",
   "source": [
    "import pandas as pd\n",
    "from sklearn.metrics import mean_squared_error\n",
    "# from sklearn.linear_model import LogisticRegression\n",
    "\n",
    "df = pd.read_csv(r'C:\\Users\\Alex\\Desktop\\5\\05 Переходим к регрессии/train_data.csv')\n",
    "\n",
    "features = df.drop(['last_price'], axis=1)\n",
    "target = df['last_price'] / 1000000\n",
    "predictions = pd.Series(target.mean(), index=target.index)\n",
    "\n",
    "print(target.mean())\n",
    "mse = mean_squared_error(predictions, target)\n",
    "print(mse)\n",
    "\n",
    "rmse = mse**0.5\n",
    "print(rmse)\n",
    "# df.loc[df['last_price'] > 5650000, 'price_class'] = 1\n",
    "# df.loc[df['last_price'] <= 5650000, 'price_class'] = 0\n",
    "#\n",
    "# df_train, df_valid = train_test_split(df,test_size=0.25, random_state=333)\n",
    "#\n",
    "# features_train = df_train.drop(['last_price', 'price_class'], axis=1)\n",
    "# target_train = df_train['last_price']\n",
    "# features_valid = df_valid.drop(['last_price', 'price_class'], axis=1)\n",
    "# target_valid = df_valid['last_price']\n",
    "#\n",
    "# model = LogisticRegression(random_state=333, max_iter=10000)\n",
    "# model.fit(features_train, target_train)\n",
    "# pred_valid = model.predict(features_valid)\n",
    "\n",
    "# print((df['last_price']/1000000).mean())\n",
    "#\n",
    "# mse = mean_squared_error(target_valid, pred_valid.values)\n",
    "#\n",
    "# print(mse)"
   ],
   "id": "a1e86ec6b098a520",
   "outputs": [
    {
     "name": "stdout",
     "output_type": "stream",
     "text": [
      "8.05028371377983\n",
      "138.24439686023302\n",
      "11.757737744151\n"
     ]
    }
   ],
   "execution_count": 88
  },
  {
   "metadata": {},
   "cell_type": "markdown",
   "source": "## Decision tree in regression",
   "id": "781f88646b6e11cd"
  },
  {
   "metadata": {
    "ExecuteTime": {
     "end_time": "2025-03-27T17:46:49.485552Z",
     "start_time": "2025-03-27T17:46:49.439503Z"
    }
   },
   "cell_type": "code",
   "source": [
    "import pandas as pd\n",
    "from sklearn.tree import DecisionTreeRegressor\n",
    "from sklearn.model_selection import train_test_split\n",
    "from sklearn.metrics import mean_squared_error\n",
    "\n",
    "df = pd.read_csv(r'E:\\COURSES\\Кодинг\\[Yandex praxis]. DS specialist + (2022)\\5\\05 Переходим к регрессии/train_data.csv')\n",
    "features = df.drop(['last_price'], axis=1)\n",
    "target = df['last_price'] / 1000000\n",
    "\n",
    "features_train, features_valid, target_train, target_valid = train_test_split(\n",
    "    features, target, test_size=0.25, random_state=12345) # отделите 25% данных для валидационной выборки\n",
    "\n",
    "best_model = None\n",
    "best_result = 10000\n",
    "best_depth = 0\n",
    "for depth in range(1, 6):\n",
    "    model = DecisionTreeRegressor(random_state=12345, max_depth=depth)\n",
    "    model.fit(features_train, target_train)\n",
    "    predictions_valid = model.predict(features_valid)\n",
    "    result = mean_squared_error(predictions_valid, target_valid.to_numpy())**0.5\n",
    "    if result < best_result:\n",
    "        best_model = model\n",
    "        best_result = result\n",
    "        best_depth = depth\n",
    "#\n",
    "print(\"RMSE наилучшей модели на валидационной выборке:\", best_result, \"Глубина дерева:\", best_depth)"
   ],
   "id": "ff06f51217254af5",
   "outputs": [
    {
     "name": "stdout",
     "output_type": "stream",
     "text": [
      "RMSE наилучшей модели на валидационной выборке: 6.541293218939626 Глубина дерева: 5\n"
     ]
    }
   ],
   "execution_count": 14
  },
  {
   "metadata": {},
   "cell_type": "markdown",
   "source": "## Random forest in regression",
   "id": "34ff97d188b1136d"
  },
  {
   "metadata": {
    "ExecuteTime": {
     "end_time": "2025-03-27T18:06:35.121296Z",
     "start_time": "2025-03-27T18:05:09.299182Z"
    }
   },
   "cell_type": "code",
   "source": [
    "import pandas as pd\n",
    "from sklearn.ensemble import RandomForestRegressor\n",
    "from sklearn.model_selection import train_test_split\n",
    "from sklearn.metrics import mean_squared_error\n",
    "\n",
    "df = pd.read_csv(r'E:\\COURSES\\Кодинг\\[Yandex praxis]. DS specialist + (2022)\\5\\05 Переходим к регрессии/train_data.csv')\n",
    "features = df.drop(['last_price'], axis=1)\n",
    "target = df['last_price'] / 1000000\n",
    "features_train, features_valid, target_train, target_valid = train_test_split(features, target, test_size=0.25, random_state=12345)\n",
    "\n",
    "best_model = None\n",
    "best_result = 10000\n",
    "best_est = 0\n",
    "best_depth = 0\n",
    "\n",
    "for est in range(10, 51, 1):\n",
    "    for depth in range (1, 11):\n",
    "        model = RandomForestRegressor(random_state=12345, max_depth=depth, n_estimators=est)\n",
    "        model.fit(features_train, target_train)\n",
    "        predictions_valid = model.predict(features_valid) # получите предсказания модели на валидационной выборке\n",
    "        result = mean_squared_error(predictions_valid, target_valid.to_numpy())**0.5\n",
    "        if result < best_result:\n",
    "            best_model = model\n",
    "            best_result = result\n",
    "            best_est = est\n",
    "            best_depth = depth\n",
    "print(\"RMSE наилучшей модели на валидационной выборке:\", best_result, \"Количество деревьев:\", best_est, \"Максимальная глубина:\", depth)"
   ],
   "id": "1a0affeeec294dc9",
   "outputs": [
    {
     "name": "stdout",
     "output_type": "stream",
     "text": [
      "RMSE наилучшей модели на валидационной выборке: 6.95363630948124 Количество деревьев: 32 Максимальная глубина: 10\n"
     ]
    }
   ],
   "execution_count": 19
  },
  {
   "metadata": {},
   "cell_type": "markdown",
   "source": [
    "## Linear regression\n",
    "\n",
    "Из-за малого количества параметров линейная регрессия менее склонна к переобучению, чем, например, деревья решений."
   ],
   "id": "18fe2f8070101268"
  },
  {
   "metadata": {
    "ExecuteTime": {
     "end_time": "2025-03-27T18:31:50.334987Z",
     "start_time": "2025-03-27T18:31:50.312626Z"
    }
   },
   "cell_type": "code",
   "source": [
    "import pandas as pd\n",
    "from sklearn.linear_model import LinearRegression\n",
    "from sklearn.model_selection import train_test_split\n",
    "from sklearn.metrics import mean_squared_error\n",
    "\n",
    "df = pd.read_csv(r'E:\\COURSES\\Кодинг\\[Yandex praxis]. DS specialist + (2022)\\5\\05 Переходим к регрессии/train_data.csv')\n",
    "features = df.drop(['last_price'], axis=1)\n",
    "target = df['last_price'] / 1000000\n",
    "features_train, features_valid, target_train, target_valid = train_test_split(features, target, test_size=0.25, random_state=12345)\n",
    "\n",
    "model = LinearRegression()\n",
    "model.fit(features_train, target_train)\n",
    "predictions_valid = model.predict(features_valid)\n",
    "result = mean_squared_error(predictions_valid, target_valid.to_numpy())**0.5\n",
    "\n",
    "print(\"RMSE модели линейной регрессии на валидационной выборке:\", result)"
   ],
   "id": "6f7767e89c683c9",
   "outputs": [
    {
     "name": "stdout",
     "output_type": "stream",
     "text": [
      "RMSE модели линейной регрессии на валидационной выборке: 7.7260066970083665\n"
     ]
    }
   ],
   "execution_count": 33
  },
  {
   "metadata": {},
   "cell_type": "markdown",
   "source": [
    "# Choosing the best model\n",
    "\n",
    "Вы обучили дерево решений, случайный лес и линейную регрессию. Какая модель лучше?\n",
    "Чтобы найти модель с наименьшей ошибкой:\n",
    "Рассмотрите наилучшие модели, получившиеся в предыдущих заданиях.\n",
    "Для каждой модели запишите параметры и значения RMSE на валидационной выборке.\n",
    "Опираясь на значения RMSE, выберите наилучшую модель. Напомним, от вас скрыты данные, которые служат для тестирования качества модели. Поэтому не все модели пройдут: значения метрики на валидационной и тестовой выборке могут сильно отличаться.\n",
    "На основе выбранной модели замените пропуски в шаблоне кода. Нажмите «Проверить».\n"
   ],
   "id": "13daebefecac84d8"
  },
  {
   "metadata": {
    "ExecuteTime": {
     "end_time": "2025-03-27T18:39:42.553423Z",
     "start_time": "2025-03-27T18:39:42.087960Z"
    }
   },
   "cell_type": "code",
   "source": [
    "import pandas as pd\n",
    "from sklearn.tree import DecisionTreeRegressor\n",
    "from sklearn.ensemble import RandomForestRegressor\n",
    "from sklearn.linear_model import LinearRegression\n",
    "from sklearn.model_selection import train_test_split\n",
    "from sklearn.metrics import mean_squared_error\n",
    "\n",
    "df = pd.read_csv(r'E:\\COURSES\\Кодинг\\[Yandex praxis]. DS specialist + (2022)\\5\\05 Переходим к регрессии/train_data.csv')\n",
    "features = df.drop(['last_price'], axis=1)\n",
    "target = df['last_price'] / 1000000\n",
    "features_train, features_valid, target_train, target_valid = train_test_split(\n",
    "    features, target, test_size=0.25, random_state=12345) # отделите 25% данных для валидационной выборки\n",
    "model = RandomForestRegressor(random_state=12345, max_depth=10, n_estimators=32)\n",
    "model.fit(features_train, target_train)\n",
    "predictions_valid = model.predict(features_valid) # получите предсказания модели на валидационной выборке\n",
    "result = mean_squared_error(predictions_valid, target_valid.to_numpy())**0.5\n",
    "print(\"RMSE наилучшей модели на валидационной выборке:\", result)"
   ],
   "id": "c02e62bd2afc2e7a",
   "outputs": [
    {
     "name": "stdout",
     "output_type": "stream",
     "text": [
      "RMSE наилучшей модели на валидационной выборке: 6.964787180837203\n"
     ]
    }
   ],
   "execution_count": 34
  },
  {
   "metadata": {},
   "cell_type": "code",
   "outputs": [],
   "execution_count": null,
   "source": "",
   "id": "8294fa7ec846274c"
  }
 ],
 "metadata": {
  "kernelspec": {
   "display_name": "Python 3",
   "language": "python",
   "name": "python3"
  },
  "language_info": {
   "codemirror_mode": {
    "name": "ipython",
    "version": 2
   },
   "file_extension": ".py",
   "mimetype": "text/x-python",
   "name": "python",
   "nbconvert_exporter": "python",
   "pygments_lexer": "ipython2",
   "version": "2.7.6"
  }
 },
 "nbformat": 4,
 "nbformat_minor": 5
}
