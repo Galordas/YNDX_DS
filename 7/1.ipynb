{
 "cells": [
  {
   "metadata": {},
   "cell_type": "markdown",
   "source": [
    "Оборот (или выручка) — это сумма денег, которую клиенты заплатили компании.\n",
    "\n",
    "Себестоимость — деньги, которые компания заплатила за приобретение товара.\n",
    "\n",
    "$$ Валовая\\ прибыль = Оборот - Себестоимость $$\n",
    "\n",
    "$$ Валовая\\ маржинальность = \\frac{Валовая\\ прибыль}{Выручка} $$\n",
    "\n",
    "Расходы на зарплату и аренду не включаются в себестоимость, это операционные расходы.\n",
    "\n",
    "$$ Операционная\\ прибыль = Валовая\\ прибыль - Операционные\\ расходы $$\n",
    "$$ Операционная\\ маржинальность = \\frac{Операционная\\ прибыль}{Выручка} $$\n",
    "Инвесторам часто интересна именно операционная маржинальность: она позволяет сравнить разные бизнесы.\n",
    "\n",
    "$$ Чистая\\ прибыль = Операционная\\ прибыль - Налоги - Обслуживание\\ долга $$\n",
    "\n",
    "Налоги платятся от оборота\n",
    "\n",
    "\n",
    "ROI - return of investments.\n",
    "$$ ROI = \\frac{Итоговая\\ прибыль - Инвестиции}{Инвестиции} $$\n",
    "\n",
    "Конверсия - процент пользователей, совершивших целевое действие\n",
    "\n",
    "#### Work 1\n",
    "Проанализируйте две выборки и проверьте гипотезу о том, что средний чек увеличился. Сохраните разность средних чеков в переменной AB_difference и напечатайте её на экране. Выберите уровень значимости, равный 5%. Сохраните в переменной pvalue значение p-value и напечатайте его на экране. Выведите на экран результат проверки гипотезы."
   ],
   "id": "774a54530e4167cd"
  },
  {
   "metadata": {
    "ExecuteTime": {
     "end_time": "2025-04-05T08:35:47.760349Z",
     "start_time": "2025-04-05T08:35:47.642224Z"
    }
   },
   "cell_type": "code",
   "source": [
    "import pandas as pd\n",
    "import numpy as np\n",
    "\n",
    "samples_A = pd.Series([\n",
    "    98.24, 97.77, 95.56, 99.49, 101.4, 105.35, 95.83, 93.02,\n",
    "    101.37, 95.66, 98.34, 100.75, 104.93, 97., 95.46, 100.03,\n",
    "    102.34, 98.23, 97.05, 97.76, 98.63, 98.82, 99.51, 99.31,\n",
    "    98.58, 96.84, 93.71, 101.38, 100.6, 103.68, 104.78, 101.51,\n",
    "    100.89, 102.27, 99.87, 94.83, 95.95, 105.2, 97., 95.54,\n",
    "    98.38, 99.81, 103.34, 101.14, 102.19, 94.77, 94.74, 99.56,\n",
    "    102., 100.95, 102.19, 103.75, 103.65, 95.07, 103.53, 100.42,\n",
    "    98.09, 94.86, 101.47, 103.07, 100.15, 100.32, 100.89, 101.23,\n",
    "    95.95, 103.69, 100.09, 96.28, 96.11, 97.63, 99.45, 100.81,\n",
    "    102.18, 94.92, 98.89, 101.48, 101.29, 94.43, 101.55, 95.85,\n",
    "    100.16, 97.49, 105.17, 104.83, 101.9, 100.56, 104.91, 94.17,\n",
    "    103.48, 100.55, 102.66, 100.62, 96.93, 102.67, 101.27, 98.56,\n",
    "    102.41, 100.69, 99.67, 100.99])\n",
    "\n",
    "samples_B = pd.Series([\n",
    "    101.67, 102.27, 97.01, 103.46, 100.76, 101.19, 99.11, 97.59,\n",
    "    101.01, 101.45, 94.8, 101.55, 96.38, 99.03, 102.83, 97.32,\n",
    "    98.25, 97.17, 101.1, 102.57, 104.59, 105.63, 98.93, 103.87,\n",
    "    98.48, 101.14, 102.24, 98.55, 105.61, 100.06, 99., 102.53,\n",
    "    101.56, 102.68, 103.26, 96.62, 99.48, 107.6, 99.87, 103.58,\n",
    "    105.05, 105.69, 94.52, 99.51, 99.81, 99.44, 97.35, 102.97,\n",
    "    99.77, 99.59, 102.12, 104.29, 98.31, 98.83, 96.83, 99.2,\n",
    "    97.88, 102.34, 102.04, 99.88, 99.69, 103.43, 100.71, 92.71,\n",
    "    99.99, 99.39, 99.19, 99.29, 100.34, 101.08, 100.29, 93.83,\n",
    "    103.63, 98.88, 105.36, 101.82, 100.86, 100.75, 99.4, 95.37,\n",
    "    107.96, 97.69, 102.17, 99.41, 98.97, 97.96, 98.31, 97.09,\n",
    "    103.92, 100.98, 102.76, 98.24, 97., 98.99, 103.54, 99.72,\n",
    "    101.62, 100.62, 102.79, 104.19])\n",
    "\n",
    "# фактическая разность средних значений в группах\n",
    "AB_difference = samples_B.mean() - samples_A.mean()\n",
    "print(\"Разность средних чеков:\", AB_difference)\n",
    "\n",
    "alpha = 0.05\n",
    "state = np.random.RandomState(12345)\n",
    "bootstrap_samples = 1000\n",
    "count = 0\n",
    "\n",
    "for i in range(bootstrap_samples):\n",
    "    united_samples = pd.concat([samples_A, samples_B])\n",
    "    subsample = (united_samples.sample(\n",
    "        frac=1,\n",
    "        replace=True,\n",
    "        random_state=state)\n",
    "    )\n",
    "    subsample_A = subsample[:len(samples_A)]\n",
    "    subsample_B = subsample[len(samples_A):]\n",
    "    bootstrap_difference = subsample_B.mean() - subsample_A.mean()\n",
    "    if bootstrap_difference >= AB_difference:\n",
    "        count += 1\n",
    "pvalue = 1. * count / bootstrap_samples\n",
    "print('p-value =', pvalue)\n",
    "if pvalue < alpha:\n",
    "    print(\"Отвергаем нулевую гипотезу: скорее всего, средний чек увеличился\")\n",
    "else:\n",
    "    print(\"Не получилось отвергнуть нулевую гипотезу: скорее всего, средний чек не увеличился\")\n"
   ],
   "id": "37003570cedd2f1c",
   "outputs": [
    {
     "name": "stdout",
     "output_type": "stream",
     "text": [
      "Разность средних чеков: 0.7682000000000357\n",
      "p-value = 0.034\n",
      "Отвергаем нулевую гипотезу: скорее всего, средний чек увеличился\n"
     ]
    }
   ],
   "execution_count": 14
  },
  {
   "metadata": {},
   "cell_type": "markdown",
   "source": [
    "Why use pd.concat?\n",
    "\n",
    "* By concatenating the two samples (samples_A and samples_B) into a united sample, you remove any original group labels.\n",
    "* You then resample from this united pool (with replacement), mimicking the assumption that both groups are drawn from the same distribution (null hypothesis true).\n",
    "* This generates a bootstrap distribution of mean differences you'd expect if the groups were truly identical in distribution.\n",
    "* Analyzing this distribution tells you how probable it is to observe your actual mean difference by chance.\n",
    "\n",
    "#### Bootstrap for models\n",
    "\n",
    "Процедурой Bootstrap оценим доверительные интервалы для моделей машинного обучения.\n",
    "Школа экспресс-занятий по английскому языку «Заспúкать за 5 минут» разрабатывает модель для оценки вероятности — придёт ученик на занятие или нет. Каждый день поступает много заявок. Приоритет выставляется по очерёдности: кто раньше записался — того и занятие. Около половины учеников не приходят и не оплачивают урок. Руководство школы решило оставить занятия только с теми учениками, кто приходит вероятнее всего. Из-за возможных репутационных рисков компания внедрит это нововведение, если есть гарантия заметного увеличения выручки. Чтобы принять верное решение, оцените распределение вероятности для прибыли.\n",
    "\n",
    "Вот важные условия задачи:\n",
    "* Модель для предсказания вероятности посещения урока уже обучена. Предсказания находятся в файле eng_probabilities.csv, а правильные ответы — в eng_target.csv.\n",
    "* Одно занятие стоит 1000 рублей.\n",
    "* В день можно запланировать до 10 уроков.\n",
    "* Текущая выручка за день — 5000 рублей (половина учеников отменяет занятие).\n",
    "За день поступает в среднем 25 заявок.\n",
    "Достаточно большая выручка для внедрения — 7500 рублей. Её вероятность должна быть не меньше 99%."
   ],
   "id": "eea845581708c609"
  },
  {
   "metadata": {
    "ExecuteTime": {
     "end_time": "2025-04-05T09:45:06.753835Z",
     "start_time": "2025-04-05T09:45:06.598860Z"
    }
   },
   "cell_type": "code",
   "source": [
    "import pandas as pd\n",
    "import numpy as np\n",
    "\n",
    "probabilities = pd.read_csv(\n",
    "    r'E:\\COURSES\\Кодинг\\[Yandex praxis]. DS specialist + (2022)\\7\\01 Машинное обучение в бизнесе\\03 Запуск новой функциональности\\eng_probabilites.csv')\n",
    "target = pd.read_csv(\n",
    "    r'E:\\COURSES\\Кодинг\\[Yandex praxis]. DS specialist + (2022)\\7\\01 Машинное обучение в бизнесе\\03 Запуск новой функциональности\\eng_target.csv')\n",
    "\n",
    "data = pd.concat([probabilities, target], axis=1)\n",
    "data.columns = ['prob', 'result']\n",
    "\n",
    "state = np.random.RandomState(12345)\n",
    "requests = 25\n",
    "daily_slots = 0\n",
    "n_bootstraps = 1000\n",
    "lesson_price = 1000\n",
    "target_revenue = 7500\n",
    "current_revenue = 5000\n",
    "days = len(probabilities) / requests\n",
    "\n",
    "print('df contains', days, 'days with average of', requests, 'requests')\n",
    "\n",
    "revenues = []\n",
    "for i in range(n_bootstraps):\n",
    "    sample = data.sample(n=requests,\n",
    "                         replace=True,\n",
    "                         random_state=state)  # amount of average daily applications\n",
    "    sample = sample.sort_values('prob',\n",
    "                                ascending=False)  # top probabilities of coming from the given sample which gets the schedule\n",
    "    daily_conversions = sample.head(daily_slots)[\n",
    "        'result'].sum()  # the chance of top probabilities to actually take a lesson\n",
    "    revenue = daily_conversions * lesson_price\n",
    "    revenues.append(revenue)\n",
    "\n",
    "revenues = pd.Series(revenues)\n",
    "mean = revenues.mean()\n",
    "lower = revenues.quantile(0.01)\n",
    "print(\"Средняя выручка:\", mean)\n",
    "print(\"1%-квантиль:\", lower)"
   ],
   "id": "929eb3fbcd88e97",
   "outputs": [
    {
     "name": "stdout",
     "output_type": "stream",
     "text": [
      "df contains 80.0 days with average of 25 requests\n",
      "Средняя выручка: 9167.0\n",
      "1%-квантиль: 6000.0\n"
     ]
    }
   ],
   "execution_count": 50
  },
  {
   "metadata": {
    "ExecuteTime": {
     "end_time": "2025-04-05T08:50:33.685429Z",
     "start_time": "2025-04-05T08:50:33.679300Z"
    }
   },
   "cell_type": "code",
   "source": "target.head()",
   "id": "4be30f6051620329",
   "outputs": [
    {
     "data": {
      "text/plain": [
       "   0\n",
       "0  0\n",
       "1  1\n",
       "2  1\n",
       "3  1\n",
       "4  0"
      ],
      "text/html": [
       "<div>\n",
       "<style scoped>\n",
       "    .dataframe tbody tr th:only-of-type {\n",
       "        vertical-align: middle;\n",
       "    }\n",
       "\n",
       "    .dataframe tbody tr th {\n",
       "        vertical-align: top;\n",
       "    }\n",
       "\n",
       "    .dataframe thead th {\n",
       "        text-align: right;\n",
       "    }\n",
       "</style>\n",
       "<table border=\"1\" class=\"dataframe\">\n",
       "  <thead>\n",
       "    <tr style=\"text-align: right;\">\n",
       "      <th></th>\n",
       "      <th>0</th>\n",
       "    </tr>\n",
       "  </thead>\n",
       "  <tbody>\n",
       "    <tr>\n",
       "      <th>0</th>\n",
       "      <td>0</td>\n",
       "    </tr>\n",
       "    <tr>\n",
       "      <th>1</th>\n",
       "      <td>1</td>\n",
       "    </tr>\n",
       "    <tr>\n",
       "      <th>2</th>\n",
       "      <td>1</td>\n",
       "    </tr>\n",
       "    <tr>\n",
       "      <th>3</th>\n",
       "      <td>1</td>\n",
       "    </tr>\n",
       "    <tr>\n",
       "      <th>4</th>\n",
       "      <td>0</td>\n",
       "    </tr>\n",
       "  </tbody>\n",
       "</table>\n",
       "</div>"
      ]
     },
     "execution_count": 18,
     "metadata": {},
     "output_type": "execute_result"
    }
   ],
   "execution_count": 18
  },
  {
   "metadata": {},
   "cell_type": "code",
   "outputs": [],
   "execution_count": null,
   "source": "",
   "id": "794767ca4057c02f"
  }
 ],
 "metadata": {
  "kernelspec": {
   "display_name": "Python 3",
   "language": "python",
   "name": "python3"
  },
  "language_info": {
   "codemirror_mode": {
    "name": "ipython",
    "version": 2
   },
   "file_extension": ".py",
   "mimetype": "text/x-python",
   "name": "python",
   "nbconvert_exporter": "python",
   "pygments_lexer": "ipython2",
   "version": "2.7.6"
  }
 },
 "nbformat": 4,
 "nbformat_minor": 5
}
