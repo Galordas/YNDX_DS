{
 "cells": [
  {
   "cell_type": "markdown",
   "metadata": {},
   "source": [
    "# Выбор локации для скважины"
   ]
  },
  {
   "cell_type": "markdown",
   "metadata": {},
   "source": [
    "#Допустим, вы работаете в добывающей компании «ГлавРосГосНефть». Нужно решить, где бурить новую скважину.\n",
    "\n",
    "Вам предоставлены пробы нефти в трёх регионах: в каждом 10 000 месторождений, где измерили качество нефти и объём её запасов. Постройте модель машинного обучения, которая поможет определить регион, где добыча принесёт наибольшую прибыль. Проанализируйте возможную прибыль и риски техникой *Bootstrap.*\n",
    "\n",
    "Шаги для выбора локации:\n",
    "\n",
    "- В избранном регионе ищут месторождения, для каждого определяют значения признаков;\n",
    "- Строят модель и оценивают объём запасов;\n",
    "- Выбирают месторождения с самым высокими оценками значений. Количество месторождений зависит от бюджета компании и стоимости разработки одной скважины;\n",
    "- Прибыль равна суммарной прибыли отобранных месторождений.\n",
    "\n",
    "### Описание данных\n",
    "Данные геологоразведки трёх регионов находятся в файлах:\n",
    "`id` — уникальный идентификатор скважины;\n",
    "`f0`, `f1` , `f2` — три признака точек (неважно, что они означают, но сами признаки значимы);\n",
    "`product` — объём запасов в скважине (тыс. баррелей).\n",
    "\n",
    "### Условия задачи:\n",
    "* Для обучения модели подходит только линейная регрессия (остальные — недостаточно предсказуемые).\n",
    "* При разведке региона исследуют 500 точек, из которых с помощью машинного обучения выбирают 200 лучших для разработки.\n",
    "* Бюджет на разработку скважин в регионе — 10 млрд рублей.\n",
    "* При нынешних ценах один баррель сырья приносит 450 рублей дохода. Доход с каждой единицы продукта составляет 450 тыс. рублей, поскольку объём указан в тысячах баррелей.\n",
    "* После оценки рисков нужно оставить лишь те регионы, в которых вероятность убытков меньше 2.5%. Среди них выбирают регион с наибольшей средней прибылью.\n",
    "* Данные синтетические: детали контрактов и характеристики месторождений не разглашаются."
   ]
  },
  {
   "cell_type": "markdown",
   "metadata": {},
   "source": [
    "## Загрузка и подготовка данных"
   ]
  },
  {
   "metadata": {},
   "cell_type": "markdown",
   "source": "### 0. Libraries"
  },
  {
   "cell_type": "code",
   "metadata": {
    "ExecuteTime": {
     "end_time": "2025-04-07T04:42:48.184499Z",
     "start_time": "2025-04-07T04:42:48.178875Z"
    }
   },
   "source": [
    "import pandas as pd\n",
    "import numpy as np\n",
    "import seaborn as sns\n",
    "import matplotlib.pyplot as plt\n",
    "from sklearn.model_selection import train_test_split\n",
    "from sklearn.preprocessing import StandardScaler, MinMaxScaler\n",
    "from sklearn.linear_model import LinearRegression\n",
    "from sklearn.model_selection import GridSearchCV\n",
    "from sklearn.metrics import mean_absolute_error, r2_score, mean_squared_error\n",
    "from sklearn.pipeline import Pipeline"
   ],
   "outputs": [],
   "execution_count": 16
  },
  {
   "metadata": {},
   "cell_type": "markdown",
   "source": "### 1.1. Data"
  },
  {
   "metadata": {
    "ExecuteTime": {
     "end_time": "2025-04-07T04:34:07.360650Z",
     "start_time": "2025-04-07T04:34:07.037890Z"
    }
   },
   "cell_type": "code",
   "source": [
    "base_path = r'E:\\COURSES\\Кодинг\\[Yandex praxis]. DS specialist + (2022)\\7\\01 Машинное обучение в бизнесе\\06 Самостоятельный проект'\n",
    "geo_data = [pd.read_csv(f'{base_path}\\\\geo_data_{i}.csv') for i in range(3)]\n",
    "geo_0, geo_1, geo_2 = geo_data"
   ],
   "outputs": [],
   "execution_count": 2
  },
  {
   "metadata": {},
   "cell_type": "markdown",
   "source": "### 1.2. Basic information"
  },
  {
   "metadata": {
    "ExecuteTime": {
     "end_time": "2025-04-07T04:34:07.837715Z",
     "start_time": "2025-04-07T04:34:07.506748Z"
    }
   },
   "cell_type": "code",
   "source": [
    "def analyze_dataframe(df: pd.DataFrame, name: str) -> None:\n",
    "    # Header\n",
    "    print(f\"ANALYSIS FOR GEO DATASET: {name.upper()}\")\n",
    "    print(f\"{'=' * 50}\")\n",
    "\n",
    "    # 1. Basic Info\n",
    "    print(\"\\n[1] BASIC STATS:\")\n",
    "    display(df.info(verbose=False, memory_usage='deep'))\n",
    "\n",
    "    # 2. ID Analysis (with column existence check)\n",
    "    print(\"\\n[2] ID ANALYSIS:\")\n",
    "    if 'id' in df.columns:\n",
    "        print(f\"• Unique IDs: {df['id'].nunique():,} ({(1 - df['id'].nunique()/len(df))*100:.1f}% duplicates)\")\n",
    "    else:\n",
    "        print(\"• No 'id' column found.\")\n",
    "\n",
    "    # 3. Duplicates Analysis\n",
    "    print(\"\\n[3] DUPLICATES:\")\n",
    "    dupes = df.duplicated().sum()\n",
    "    print(f\"• Total duplicate rows: {dupes:,} ({(dupes/len(df))*100:.1f}% of data)\")\n",
    "\n",
    "    # 4. Statistical Summary\n",
    "    print(\"\\n[4] NUMERIC SUMMARY STATISTICS:\")\n",
    "    display(df.describe(include='all').T.style.format(precision=2))\n",
    "\n",
    "    print(\"\\n\" + \"=\" * 50)\n",
    "\n",
    "# Execute analysis for all dataframes\n",
    "for i, df in enumerate(geo_data):\n",
    "    analyze_dataframe(df, f\"geo_{i}\")\n"
   ],
   "outputs": [
    {
     "name": "stdout",
     "output_type": "stream",
     "text": [
      "ANALYSIS FOR GEO DATASET: GEO_0\n",
      "==================================================\n",
      "\n",
      "[1] BASIC STATS:\n",
      "<class 'pandas.core.frame.DataFrame'>\n",
      "RangeIndex: 100000 entries, 0 to 99999\n",
      "Columns: 5 entries, id to product\n",
      "dtypes: float64(4), object(1)\n",
      "memory usage: 8.2 MB\n"
     ]
    },
    {
     "data": {
      "text/plain": [
       "None"
      ]
     },
     "metadata": {},
     "output_type": "display_data"
    },
    {
     "name": "stdout",
     "output_type": "stream",
     "text": [
      "\n",
      "[2] ID ANALYSIS:\n",
      "• Unique IDs: 99,990 (0.0% duplicates)\n",
      "\n",
      "[3] DUPLICATES:\n",
      "• Total duplicate rows: 0 (0.0% of data)\n",
      "\n",
      "[4] NUMERIC SUMMARY STATISTICS:\n"
     ]
    },
    {
     "data": {
      "text/plain": [
       "<pandas.io.formats.style.Styler at 0x1b654020ef0>"
      ],
      "text/html": [
       "<style type=\"text/css\">\n",
       "</style>\n",
       "<table id=\"T_122f4\">\n",
       "  <thead>\n",
       "    <tr>\n",
       "      <th class=\"blank level0\" >&nbsp;</th>\n",
       "      <th id=\"T_122f4_level0_col0\" class=\"col_heading level0 col0\" >count</th>\n",
       "      <th id=\"T_122f4_level0_col1\" class=\"col_heading level0 col1\" >unique</th>\n",
       "      <th id=\"T_122f4_level0_col2\" class=\"col_heading level0 col2\" >top</th>\n",
       "      <th id=\"T_122f4_level0_col3\" class=\"col_heading level0 col3\" >freq</th>\n",
       "      <th id=\"T_122f4_level0_col4\" class=\"col_heading level0 col4\" >mean</th>\n",
       "      <th id=\"T_122f4_level0_col5\" class=\"col_heading level0 col5\" >std</th>\n",
       "      <th id=\"T_122f4_level0_col6\" class=\"col_heading level0 col6\" >min</th>\n",
       "      <th id=\"T_122f4_level0_col7\" class=\"col_heading level0 col7\" >25%</th>\n",
       "      <th id=\"T_122f4_level0_col8\" class=\"col_heading level0 col8\" >50%</th>\n",
       "      <th id=\"T_122f4_level0_col9\" class=\"col_heading level0 col9\" >75%</th>\n",
       "      <th id=\"T_122f4_level0_col10\" class=\"col_heading level0 col10\" >max</th>\n",
       "    </tr>\n",
       "  </thead>\n",
       "  <tbody>\n",
       "    <tr>\n",
       "      <th id=\"T_122f4_level0_row0\" class=\"row_heading level0 row0\" >id</th>\n",
       "      <td id=\"T_122f4_row0_col0\" class=\"data row0 col0\" >100000</td>\n",
       "      <td id=\"T_122f4_row0_col1\" class=\"data row0 col1\" >99990</td>\n",
       "      <td id=\"T_122f4_row0_col2\" class=\"data row0 col2\" >fiKDv</td>\n",
       "      <td id=\"T_122f4_row0_col3\" class=\"data row0 col3\" >2</td>\n",
       "      <td id=\"T_122f4_row0_col4\" class=\"data row0 col4\" >nan</td>\n",
       "      <td id=\"T_122f4_row0_col5\" class=\"data row0 col5\" >nan</td>\n",
       "      <td id=\"T_122f4_row0_col6\" class=\"data row0 col6\" >nan</td>\n",
       "      <td id=\"T_122f4_row0_col7\" class=\"data row0 col7\" >nan</td>\n",
       "      <td id=\"T_122f4_row0_col8\" class=\"data row0 col8\" >nan</td>\n",
       "      <td id=\"T_122f4_row0_col9\" class=\"data row0 col9\" >nan</td>\n",
       "      <td id=\"T_122f4_row0_col10\" class=\"data row0 col10\" >nan</td>\n",
       "    </tr>\n",
       "    <tr>\n",
       "      <th id=\"T_122f4_level0_row1\" class=\"row_heading level0 row1\" >f0</th>\n",
       "      <td id=\"T_122f4_row1_col0\" class=\"data row1 col0\" >100000.00</td>\n",
       "      <td id=\"T_122f4_row1_col1\" class=\"data row1 col1\" >nan</td>\n",
       "      <td id=\"T_122f4_row1_col2\" class=\"data row1 col2\" >nan</td>\n",
       "      <td id=\"T_122f4_row1_col3\" class=\"data row1 col3\" >nan</td>\n",
       "      <td id=\"T_122f4_row1_col4\" class=\"data row1 col4\" >0.50</td>\n",
       "      <td id=\"T_122f4_row1_col5\" class=\"data row1 col5\" >0.87</td>\n",
       "      <td id=\"T_122f4_row1_col6\" class=\"data row1 col6\" >-1.41</td>\n",
       "      <td id=\"T_122f4_row1_col7\" class=\"data row1 col7\" >-0.07</td>\n",
       "      <td id=\"T_122f4_row1_col8\" class=\"data row1 col8\" >0.50</td>\n",
       "      <td id=\"T_122f4_row1_col9\" class=\"data row1 col9\" >1.07</td>\n",
       "      <td id=\"T_122f4_row1_col10\" class=\"data row1 col10\" >2.36</td>\n",
       "    </tr>\n",
       "    <tr>\n",
       "      <th id=\"T_122f4_level0_row2\" class=\"row_heading level0 row2\" >f1</th>\n",
       "      <td id=\"T_122f4_row2_col0\" class=\"data row2 col0\" >100000.00</td>\n",
       "      <td id=\"T_122f4_row2_col1\" class=\"data row2 col1\" >nan</td>\n",
       "      <td id=\"T_122f4_row2_col2\" class=\"data row2 col2\" >nan</td>\n",
       "      <td id=\"T_122f4_row2_col3\" class=\"data row2 col3\" >nan</td>\n",
       "      <td id=\"T_122f4_row2_col4\" class=\"data row2 col4\" >0.25</td>\n",
       "      <td id=\"T_122f4_row2_col5\" class=\"data row2 col5\" >0.50</td>\n",
       "      <td id=\"T_122f4_row2_col6\" class=\"data row2 col6\" >-0.85</td>\n",
       "      <td id=\"T_122f4_row2_col7\" class=\"data row2 col7\" >-0.20</td>\n",
       "      <td id=\"T_122f4_row2_col8\" class=\"data row2 col8\" >0.25</td>\n",
       "      <td id=\"T_122f4_row2_col9\" class=\"data row2 col9\" >0.70</td>\n",
       "      <td id=\"T_122f4_row2_col10\" class=\"data row2 col10\" >1.34</td>\n",
       "    </tr>\n",
       "    <tr>\n",
       "      <th id=\"T_122f4_level0_row3\" class=\"row_heading level0 row3\" >f2</th>\n",
       "      <td id=\"T_122f4_row3_col0\" class=\"data row3 col0\" >100000.00</td>\n",
       "      <td id=\"T_122f4_row3_col1\" class=\"data row3 col1\" >nan</td>\n",
       "      <td id=\"T_122f4_row3_col2\" class=\"data row3 col2\" >nan</td>\n",
       "      <td id=\"T_122f4_row3_col3\" class=\"data row3 col3\" >nan</td>\n",
       "      <td id=\"T_122f4_row3_col4\" class=\"data row3 col4\" >2.50</td>\n",
       "      <td id=\"T_122f4_row3_col5\" class=\"data row3 col5\" >3.25</td>\n",
       "      <td id=\"T_122f4_row3_col6\" class=\"data row3 col6\" >-12.09</td>\n",
       "      <td id=\"T_122f4_row3_col7\" class=\"data row3 col7\" >0.29</td>\n",
       "      <td id=\"T_122f4_row3_col8\" class=\"data row3 col8\" >2.52</td>\n",
       "      <td id=\"T_122f4_row3_col9\" class=\"data row3 col9\" >4.72</td>\n",
       "      <td id=\"T_122f4_row3_col10\" class=\"data row3 col10\" >16.00</td>\n",
       "    </tr>\n",
       "    <tr>\n",
       "      <th id=\"T_122f4_level0_row4\" class=\"row_heading level0 row4\" >product</th>\n",
       "      <td id=\"T_122f4_row4_col0\" class=\"data row4 col0\" >100000.00</td>\n",
       "      <td id=\"T_122f4_row4_col1\" class=\"data row4 col1\" >nan</td>\n",
       "      <td id=\"T_122f4_row4_col2\" class=\"data row4 col2\" >nan</td>\n",
       "      <td id=\"T_122f4_row4_col3\" class=\"data row4 col3\" >nan</td>\n",
       "      <td id=\"T_122f4_row4_col4\" class=\"data row4 col4\" >92.50</td>\n",
       "      <td id=\"T_122f4_row4_col5\" class=\"data row4 col5\" >44.29</td>\n",
       "      <td id=\"T_122f4_row4_col6\" class=\"data row4 col6\" >0.00</td>\n",
       "      <td id=\"T_122f4_row4_col7\" class=\"data row4 col7\" >56.50</td>\n",
       "      <td id=\"T_122f4_row4_col8\" class=\"data row4 col8\" >91.85</td>\n",
       "      <td id=\"T_122f4_row4_col9\" class=\"data row4 col9\" >128.56</td>\n",
       "      <td id=\"T_122f4_row4_col10\" class=\"data row4 col10\" >185.36</td>\n",
       "    </tr>\n",
       "  </tbody>\n",
       "</table>\n"
      ]
     },
     "metadata": {},
     "output_type": "display_data"
    },
    {
     "name": "stdout",
     "output_type": "stream",
     "text": [
      "\n",
      "==================================================\n",
      "ANALYSIS FOR GEO DATASET: GEO_1\n",
      "==================================================\n",
      "\n",
      "[1] BASIC STATS:\n",
      "<class 'pandas.core.frame.DataFrame'>\n",
      "RangeIndex: 100000 entries, 0 to 99999\n",
      "Columns: 5 entries, id to product\n",
      "dtypes: float64(4), object(1)\n",
      "memory usage: 8.2 MB\n"
     ]
    },
    {
     "data": {
      "text/plain": [
       "None"
      ]
     },
     "metadata": {},
     "output_type": "display_data"
    },
    {
     "name": "stdout",
     "output_type": "stream",
     "text": [
      "\n",
      "[2] ID ANALYSIS:\n",
      "• Unique IDs: 99,996 (0.0% duplicates)\n",
      "\n",
      "[3] DUPLICATES:\n",
      "• Total duplicate rows: 0 (0.0% of data)\n",
      "\n",
      "[4] NUMERIC SUMMARY STATISTICS:\n"
     ]
    },
    {
     "data": {
      "text/plain": [
       "<pandas.io.formats.style.Styler at 0x1b62942d370>"
      ],
      "text/html": [
       "<style type=\"text/css\">\n",
       "</style>\n",
       "<table id=\"T_ea710\">\n",
       "  <thead>\n",
       "    <tr>\n",
       "      <th class=\"blank level0\" >&nbsp;</th>\n",
       "      <th id=\"T_ea710_level0_col0\" class=\"col_heading level0 col0\" >count</th>\n",
       "      <th id=\"T_ea710_level0_col1\" class=\"col_heading level0 col1\" >unique</th>\n",
       "      <th id=\"T_ea710_level0_col2\" class=\"col_heading level0 col2\" >top</th>\n",
       "      <th id=\"T_ea710_level0_col3\" class=\"col_heading level0 col3\" >freq</th>\n",
       "      <th id=\"T_ea710_level0_col4\" class=\"col_heading level0 col4\" >mean</th>\n",
       "      <th id=\"T_ea710_level0_col5\" class=\"col_heading level0 col5\" >std</th>\n",
       "      <th id=\"T_ea710_level0_col6\" class=\"col_heading level0 col6\" >min</th>\n",
       "      <th id=\"T_ea710_level0_col7\" class=\"col_heading level0 col7\" >25%</th>\n",
       "      <th id=\"T_ea710_level0_col8\" class=\"col_heading level0 col8\" >50%</th>\n",
       "      <th id=\"T_ea710_level0_col9\" class=\"col_heading level0 col9\" >75%</th>\n",
       "      <th id=\"T_ea710_level0_col10\" class=\"col_heading level0 col10\" >max</th>\n",
       "    </tr>\n",
       "  </thead>\n",
       "  <tbody>\n",
       "    <tr>\n",
       "      <th id=\"T_ea710_level0_row0\" class=\"row_heading level0 row0\" >id</th>\n",
       "      <td id=\"T_ea710_row0_col0\" class=\"data row0 col0\" >100000</td>\n",
       "      <td id=\"T_ea710_row0_col1\" class=\"data row0 col1\" >99996</td>\n",
       "      <td id=\"T_ea710_row0_col2\" class=\"data row0 col2\" >wt4Uk</td>\n",
       "      <td id=\"T_ea710_row0_col3\" class=\"data row0 col3\" >2</td>\n",
       "      <td id=\"T_ea710_row0_col4\" class=\"data row0 col4\" >nan</td>\n",
       "      <td id=\"T_ea710_row0_col5\" class=\"data row0 col5\" >nan</td>\n",
       "      <td id=\"T_ea710_row0_col6\" class=\"data row0 col6\" >nan</td>\n",
       "      <td id=\"T_ea710_row0_col7\" class=\"data row0 col7\" >nan</td>\n",
       "      <td id=\"T_ea710_row0_col8\" class=\"data row0 col8\" >nan</td>\n",
       "      <td id=\"T_ea710_row0_col9\" class=\"data row0 col9\" >nan</td>\n",
       "      <td id=\"T_ea710_row0_col10\" class=\"data row0 col10\" >nan</td>\n",
       "    </tr>\n",
       "    <tr>\n",
       "      <th id=\"T_ea710_level0_row1\" class=\"row_heading level0 row1\" >f0</th>\n",
       "      <td id=\"T_ea710_row1_col0\" class=\"data row1 col0\" >100000.00</td>\n",
       "      <td id=\"T_ea710_row1_col1\" class=\"data row1 col1\" >nan</td>\n",
       "      <td id=\"T_ea710_row1_col2\" class=\"data row1 col2\" >nan</td>\n",
       "      <td id=\"T_ea710_row1_col3\" class=\"data row1 col3\" >nan</td>\n",
       "      <td id=\"T_ea710_row1_col4\" class=\"data row1 col4\" >1.14</td>\n",
       "      <td id=\"T_ea710_row1_col5\" class=\"data row1 col5\" >8.97</td>\n",
       "      <td id=\"T_ea710_row1_col6\" class=\"data row1 col6\" >-31.61</td>\n",
       "      <td id=\"T_ea710_row1_col7\" class=\"data row1 col7\" >-6.30</td>\n",
       "      <td id=\"T_ea710_row1_col8\" class=\"data row1 col8\" >1.15</td>\n",
       "      <td id=\"T_ea710_row1_col9\" class=\"data row1 col9\" >8.62</td>\n",
       "      <td id=\"T_ea710_row1_col10\" class=\"data row1 col10\" >29.42</td>\n",
       "    </tr>\n",
       "    <tr>\n",
       "      <th id=\"T_ea710_level0_row2\" class=\"row_heading level0 row2\" >f1</th>\n",
       "      <td id=\"T_ea710_row2_col0\" class=\"data row2 col0\" >100000.00</td>\n",
       "      <td id=\"T_ea710_row2_col1\" class=\"data row2 col1\" >nan</td>\n",
       "      <td id=\"T_ea710_row2_col2\" class=\"data row2 col2\" >nan</td>\n",
       "      <td id=\"T_ea710_row2_col3\" class=\"data row2 col3\" >nan</td>\n",
       "      <td id=\"T_ea710_row2_col4\" class=\"data row2 col4\" >-4.80</td>\n",
       "      <td id=\"T_ea710_row2_col5\" class=\"data row2 col5\" >5.12</td>\n",
       "      <td id=\"T_ea710_row2_col6\" class=\"data row2 col6\" >-26.36</td>\n",
       "      <td id=\"T_ea710_row2_col7\" class=\"data row2 col7\" >-8.27</td>\n",
       "      <td id=\"T_ea710_row2_col8\" class=\"data row2 col8\" >-4.81</td>\n",
       "      <td id=\"T_ea710_row2_col9\" class=\"data row2 col9\" >-1.33</td>\n",
       "      <td id=\"T_ea710_row2_col10\" class=\"data row2 col10\" >18.73</td>\n",
       "    </tr>\n",
       "    <tr>\n",
       "      <th id=\"T_ea710_level0_row3\" class=\"row_heading level0 row3\" >f2</th>\n",
       "      <td id=\"T_ea710_row3_col0\" class=\"data row3 col0\" >100000.00</td>\n",
       "      <td id=\"T_ea710_row3_col1\" class=\"data row3 col1\" >nan</td>\n",
       "      <td id=\"T_ea710_row3_col2\" class=\"data row3 col2\" >nan</td>\n",
       "      <td id=\"T_ea710_row3_col3\" class=\"data row3 col3\" >nan</td>\n",
       "      <td id=\"T_ea710_row3_col4\" class=\"data row3 col4\" >2.49</td>\n",
       "      <td id=\"T_ea710_row3_col5\" class=\"data row3 col5\" >1.70</td>\n",
       "      <td id=\"T_ea710_row3_col6\" class=\"data row3 col6\" >-0.02</td>\n",
       "      <td id=\"T_ea710_row3_col7\" class=\"data row3 col7\" >1.00</td>\n",
       "      <td id=\"T_ea710_row3_col8\" class=\"data row3 col8\" >2.01</td>\n",
       "      <td id=\"T_ea710_row3_col9\" class=\"data row3 col9\" >4.00</td>\n",
       "      <td id=\"T_ea710_row3_col10\" class=\"data row3 col10\" >5.02</td>\n",
       "    </tr>\n",
       "    <tr>\n",
       "      <th id=\"T_ea710_level0_row4\" class=\"row_heading level0 row4\" >product</th>\n",
       "      <td id=\"T_ea710_row4_col0\" class=\"data row4 col0\" >100000.00</td>\n",
       "      <td id=\"T_ea710_row4_col1\" class=\"data row4 col1\" >nan</td>\n",
       "      <td id=\"T_ea710_row4_col2\" class=\"data row4 col2\" >nan</td>\n",
       "      <td id=\"T_ea710_row4_col3\" class=\"data row4 col3\" >nan</td>\n",
       "      <td id=\"T_ea710_row4_col4\" class=\"data row4 col4\" >68.83</td>\n",
       "      <td id=\"T_ea710_row4_col5\" class=\"data row4 col5\" >45.94</td>\n",
       "      <td id=\"T_ea710_row4_col6\" class=\"data row4 col6\" >0.00</td>\n",
       "      <td id=\"T_ea710_row4_col7\" class=\"data row4 col7\" >26.95</td>\n",
       "      <td id=\"T_ea710_row4_col8\" class=\"data row4 col8\" >57.09</td>\n",
       "      <td id=\"T_ea710_row4_col9\" class=\"data row4 col9\" >107.81</td>\n",
       "      <td id=\"T_ea710_row4_col10\" class=\"data row4 col10\" >137.95</td>\n",
       "    </tr>\n",
       "  </tbody>\n",
       "</table>\n"
      ]
     },
     "metadata": {},
     "output_type": "display_data"
    },
    {
     "name": "stdout",
     "output_type": "stream",
     "text": [
      "\n",
      "==================================================\n",
      "ANALYSIS FOR GEO DATASET: GEO_2\n",
      "==================================================\n",
      "\n",
      "[1] BASIC STATS:\n",
      "<class 'pandas.core.frame.DataFrame'>\n",
      "RangeIndex: 100000 entries, 0 to 99999\n",
      "Columns: 5 entries, id to product\n",
      "dtypes: float64(4), object(1)\n",
      "memory usage: 8.2 MB\n"
     ]
    },
    {
     "data": {
      "text/plain": [
       "None"
      ]
     },
     "metadata": {},
     "output_type": "display_data"
    },
    {
     "name": "stdout",
     "output_type": "stream",
     "text": [
      "\n",
      "[2] ID ANALYSIS:\n",
      "• Unique IDs: 99,996 (0.0% duplicates)\n",
      "\n",
      "[3] DUPLICATES:\n",
      "• Total duplicate rows: 0 (0.0% of data)\n",
      "\n",
      "[4] NUMERIC SUMMARY STATISTICS:\n"
     ]
    },
    {
     "data": {
      "text/plain": [
       "<pandas.io.formats.style.Styler at 0x1b62942d370>"
      ],
      "text/html": [
       "<style type=\"text/css\">\n",
       "</style>\n",
       "<table id=\"T_50d19\">\n",
       "  <thead>\n",
       "    <tr>\n",
       "      <th class=\"blank level0\" >&nbsp;</th>\n",
       "      <th id=\"T_50d19_level0_col0\" class=\"col_heading level0 col0\" >count</th>\n",
       "      <th id=\"T_50d19_level0_col1\" class=\"col_heading level0 col1\" >unique</th>\n",
       "      <th id=\"T_50d19_level0_col2\" class=\"col_heading level0 col2\" >top</th>\n",
       "      <th id=\"T_50d19_level0_col3\" class=\"col_heading level0 col3\" >freq</th>\n",
       "      <th id=\"T_50d19_level0_col4\" class=\"col_heading level0 col4\" >mean</th>\n",
       "      <th id=\"T_50d19_level0_col5\" class=\"col_heading level0 col5\" >std</th>\n",
       "      <th id=\"T_50d19_level0_col6\" class=\"col_heading level0 col6\" >min</th>\n",
       "      <th id=\"T_50d19_level0_col7\" class=\"col_heading level0 col7\" >25%</th>\n",
       "      <th id=\"T_50d19_level0_col8\" class=\"col_heading level0 col8\" >50%</th>\n",
       "      <th id=\"T_50d19_level0_col9\" class=\"col_heading level0 col9\" >75%</th>\n",
       "      <th id=\"T_50d19_level0_col10\" class=\"col_heading level0 col10\" >max</th>\n",
       "    </tr>\n",
       "  </thead>\n",
       "  <tbody>\n",
       "    <tr>\n",
       "      <th id=\"T_50d19_level0_row0\" class=\"row_heading level0 row0\" >id</th>\n",
       "      <td id=\"T_50d19_row0_col0\" class=\"data row0 col0\" >100000</td>\n",
       "      <td id=\"T_50d19_row0_col1\" class=\"data row0 col1\" >99996</td>\n",
       "      <td id=\"T_50d19_row0_col2\" class=\"data row0 col2\" >VF7Jo</td>\n",
       "      <td id=\"T_50d19_row0_col3\" class=\"data row0 col3\" >2</td>\n",
       "      <td id=\"T_50d19_row0_col4\" class=\"data row0 col4\" >nan</td>\n",
       "      <td id=\"T_50d19_row0_col5\" class=\"data row0 col5\" >nan</td>\n",
       "      <td id=\"T_50d19_row0_col6\" class=\"data row0 col6\" >nan</td>\n",
       "      <td id=\"T_50d19_row0_col7\" class=\"data row0 col7\" >nan</td>\n",
       "      <td id=\"T_50d19_row0_col8\" class=\"data row0 col8\" >nan</td>\n",
       "      <td id=\"T_50d19_row0_col9\" class=\"data row0 col9\" >nan</td>\n",
       "      <td id=\"T_50d19_row0_col10\" class=\"data row0 col10\" >nan</td>\n",
       "    </tr>\n",
       "    <tr>\n",
       "      <th id=\"T_50d19_level0_row1\" class=\"row_heading level0 row1\" >f0</th>\n",
       "      <td id=\"T_50d19_row1_col0\" class=\"data row1 col0\" >100000.00</td>\n",
       "      <td id=\"T_50d19_row1_col1\" class=\"data row1 col1\" >nan</td>\n",
       "      <td id=\"T_50d19_row1_col2\" class=\"data row1 col2\" >nan</td>\n",
       "      <td id=\"T_50d19_row1_col3\" class=\"data row1 col3\" >nan</td>\n",
       "      <td id=\"T_50d19_row1_col4\" class=\"data row1 col4\" >0.00</td>\n",
       "      <td id=\"T_50d19_row1_col5\" class=\"data row1 col5\" >1.73</td>\n",
       "      <td id=\"T_50d19_row1_col6\" class=\"data row1 col6\" >-8.76</td>\n",
       "      <td id=\"T_50d19_row1_col7\" class=\"data row1 col7\" >-1.16</td>\n",
       "      <td id=\"T_50d19_row1_col8\" class=\"data row1 col8\" >0.01</td>\n",
       "      <td id=\"T_50d19_row1_col9\" class=\"data row1 col9\" >1.16</td>\n",
       "      <td id=\"T_50d19_row1_col10\" class=\"data row1 col10\" >7.24</td>\n",
       "    </tr>\n",
       "    <tr>\n",
       "      <th id=\"T_50d19_level0_row2\" class=\"row_heading level0 row2\" >f1</th>\n",
       "      <td id=\"T_50d19_row2_col0\" class=\"data row2 col0\" >100000.00</td>\n",
       "      <td id=\"T_50d19_row2_col1\" class=\"data row2 col1\" >nan</td>\n",
       "      <td id=\"T_50d19_row2_col2\" class=\"data row2 col2\" >nan</td>\n",
       "      <td id=\"T_50d19_row2_col3\" class=\"data row2 col3\" >nan</td>\n",
       "      <td id=\"T_50d19_row2_col4\" class=\"data row2 col4\" >-0.00</td>\n",
       "      <td id=\"T_50d19_row2_col5\" class=\"data row2 col5\" >1.73</td>\n",
       "      <td id=\"T_50d19_row2_col6\" class=\"data row2 col6\" >-7.08</td>\n",
       "      <td id=\"T_50d19_row2_col7\" class=\"data row2 col7\" >-1.17</td>\n",
       "      <td id=\"T_50d19_row2_col8\" class=\"data row2 col8\" >-0.01</td>\n",
       "      <td id=\"T_50d19_row2_col9\" class=\"data row2 col9\" >1.16</td>\n",
       "      <td id=\"T_50d19_row2_col10\" class=\"data row2 col10\" >7.84</td>\n",
       "    </tr>\n",
       "    <tr>\n",
       "      <th id=\"T_50d19_level0_row3\" class=\"row_heading level0 row3\" >f2</th>\n",
       "      <td id=\"T_50d19_row3_col0\" class=\"data row3 col0\" >100000.00</td>\n",
       "      <td id=\"T_50d19_row3_col1\" class=\"data row3 col1\" >nan</td>\n",
       "      <td id=\"T_50d19_row3_col2\" class=\"data row3 col2\" >nan</td>\n",
       "      <td id=\"T_50d19_row3_col3\" class=\"data row3 col3\" >nan</td>\n",
       "      <td id=\"T_50d19_row3_col4\" class=\"data row3 col4\" >2.50</td>\n",
       "      <td id=\"T_50d19_row3_col5\" class=\"data row3 col5\" >3.47</td>\n",
       "      <td id=\"T_50d19_row3_col6\" class=\"data row3 col6\" >-11.97</td>\n",
       "      <td id=\"T_50d19_row3_col7\" class=\"data row3 col7\" >0.13</td>\n",
       "      <td id=\"T_50d19_row3_col8\" class=\"data row3 col8\" >2.48</td>\n",
       "      <td id=\"T_50d19_row3_col9\" class=\"data row3 col9\" >4.86</td>\n",
       "      <td id=\"T_50d19_row3_col10\" class=\"data row3 col10\" >16.74</td>\n",
       "    </tr>\n",
       "    <tr>\n",
       "      <th id=\"T_50d19_level0_row4\" class=\"row_heading level0 row4\" >product</th>\n",
       "      <td id=\"T_50d19_row4_col0\" class=\"data row4 col0\" >100000.00</td>\n",
       "      <td id=\"T_50d19_row4_col1\" class=\"data row4 col1\" >nan</td>\n",
       "      <td id=\"T_50d19_row4_col2\" class=\"data row4 col2\" >nan</td>\n",
       "      <td id=\"T_50d19_row4_col3\" class=\"data row4 col3\" >nan</td>\n",
       "      <td id=\"T_50d19_row4_col4\" class=\"data row4 col4\" >95.00</td>\n",
       "      <td id=\"T_50d19_row4_col5\" class=\"data row4 col5\" >44.75</td>\n",
       "      <td id=\"T_50d19_row4_col6\" class=\"data row4 col6\" >0.00</td>\n",
       "      <td id=\"T_50d19_row4_col7\" class=\"data row4 col7\" >59.45</td>\n",
       "      <td id=\"T_50d19_row4_col8\" class=\"data row4 col8\" >94.93</td>\n",
       "      <td id=\"T_50d19_row4_col9\" class=\"data row4 col9\" >130.60</td>\n",
       "      <td id=\"T_50d19_row4_col10\" class=\"data row4 col10\" >190.03</td>\n",
       "    </tr>\n",
       "  </tbody>\n",
       "</table>\n"
      ]
     },
     "metadata": {},
     "output_type": "display_data"
    },
    {
     "name": "stdout",
     "output_type": "stream",
     "text": [
      "\n",
      "==================================================\n"
     ]
    }
   ],
   "execution_count": 3
  },
  {
   "cell_type": "code",
   "metadata": {
    "ExecuteTime": {
     "end_time": "2025-04-07T04:34:09.203282Z",
     "start_time": "2025-04-07T04:34:07.866450Z"
    }
   },
   "source": [
    "def q75(x):\n",
    "    return np.quantile(x, 0.75)\n",
    "features = ['f0',\n",
    "            'f1',\n",
    "            'f2']\n",
    "estimator = '75%'\n",
    "# Prepare the data (combine all datasets for comparison)\n",
    "dfs = []\n",
    "for i, df in enumerate(geo_data):\n",
    "    df_melted = df[features].melt(var_name='Feature', value_name='Value')\n",
    "    df_melted['geo'] = f'geo_{i}'\n",
    "    dfs.append(df_melted)\n",
    "\n",
    "combined_df = pd.concat(dfs)\n",
    "\n",
    "sns.barplot(\n",
    "    data=combined_df,\n",
    "    x='Feature',\n",
    "    y='Value',\n",
    "    hue='geo',\n",
    "    palette='viridis',\n",
    "    errorbar=None,\n",
    "    estimator=q75\n",
    ")\n",
    "\n",
    "plt.title(f'Comparison of Features {features} across geos', pad=20)\n",
    "plt.xlabel('Feature', labelpad=10)\n",
    "plt.ylabel(f'{estimator} Value', labelpad=10)\n",
    "plt.legend(title='geo', bbox_to_anchor=(1.05, 1), loc='upper left')\n",
    "sns.despine()  # Cleaner borders\n",
    "plt.tight_layout()\n",
    "plt.show()"
   ],
   "outputs": [
    {
     "data": {
      "text/plain": [
       "<Figure size 640x480 with 1 Axes>"
      ],
      "image/png": "[encoded data removed]"
     },
     "metadata": {},
     "output_type": "display_data"
    }
   ],
   "execution_count": 4
  },
  {
   "cell_type": "code",
   "metadata": {
    "ExecuteTime": {
     "end_time": "2025-04-07T04:34:09.719624Z",
     "start_time": "2025-04-07T04:34:09.215453Z"
    }
   },
   "source": [
    "features = ['product']\n",
    "estimator = 'mean'\n",
    "\n",
    "dfs = []\n",
    "for i, df in enumerate(geo_data):\n",
    "    df_melted = df[features].melt(var_name='Feature', value_name='Value')\n",
    "    df_melted['geo'] = f'geo_{i}'\n",
    "    dfs.append(df_melted)\n",
    "\n",
    "combined_df = pd.concat(dfs)\n",
    "\n",
    "sns.barplot(\n",
    "    data=combined_df,\n",
    "    x='Feature',\n",
    "    y='Value',\n",
    "    hue='geo',\n",
    "    palette='viridis',\n",
    "    errorbar=None,\n",
    "    estimator=estimator\n",
    ")\n",
    "\n",
    "plt.title(f'Comparison of Features {features} across geos', pad=20)\n",
    "plt.xlabel('Feature', labelpad=10)\n",
    "plt.ylabel(f'{estimator} Value', labelpad=10)\n",
    "plt.legend(title='geo', bbox_to_anchor=(1.05, 1), loc='upper left')\n",
    "sns.despine()  # Cleaner borders\n",
    "plt.tight_layout()\n",
    "plt.show()"
   ],
   "outputs": [
    {
     "data": {
      "text/plain": [
       "<Figure size 640x480 with 1 Axes>"
      ],
      "image/png": "[encoded data removed]"
     },
     "metadata": {},
     "output_type": "display_data"
    }
   ],
   "execution_count": 5
  },
  {
   "metadata": {},
   "cell_type": "markdown",
   "source": "### 1.3. Splitting"
  },
  {
   "metadata": {
    "ExecuteTime": {
     "end_time": "2025-04-07T04:34:09.755559Z",
     "start_time": "2025-04-07T04:34:09.730645Z"
    }
   },
   "cell_type": "code",
   "source": [
    "def splitting(df):\n",
    "    features = df.drop(['product', 'id'], axis=1)\n",
    "    target = df['product']\n",
    "    features_train, features_test, target_train, target_test = train_test_split(features,\n",
    "                                                                                target,\n",
    "                                                                                test_size=0.25,\n",
    "                                                                                random_state=333\n",
    "                                                                                )\n",
    "    return features_train, features_test, target_train, target_test\n",
    "\n",
    "\n",
    "base_path = r'E:\\COURSES\\Кодинг\\[Yandex praxis]. DS specialist + (2022)\\7\\01 Машинное обучение в бизнесе\\06 Самостоятельный проект'\n",
    "\n",
    "try:\n",
    "    splits = {}\n",
    "    for i, df in enumerate([geo_0, geo_1, geo_2]):\n",
    "        splits[f'geo_{i}'] = splitting(df)\n",
    "        print(f\"Successfully split geo_{i}\")\n",
    "except ValueError as e:\n",
    "    print(f\"Error: {e}\")"
   ],
   "outputs": [
    {
     "name": "stdout",
     "output_type": "stream",
     "text": [
      "Successfully split geo_0\n",
      "Successfully split geo_1\n",
      "Successfully split geo_2\n"
     ]
    }
   ],
   "execution_count": 6
  },
  {
   "metadata": {},
   "cell_type": "markdown",
   "source": "### 1.4. Model"
  },
  {
   "metadata": {
    "ExecuteTime": {
     "end_time": "2025-04-07T04:43:53.118369Z",
     "start_time": "2025-04-07T04:43:53.112019Z"
    }
   },
   "cell_type": "code",
   "source": [
    "def train_and_evaluate(features_train, features_test, target_train, target_test):\n",
    "    param_grid = {\n",
    "        'linearregression__fit_intercept': [True, False],\n",
    "        'scaler': [StandardScaler(), MinMaxScaler(), 'passthrough']  # 'passthrough' means no scaling\n",
    "    }\n",
    "\n",
    "    pipeline = Pipeline([\n",
    "        ('scaler', StandardScaler()),\n",
    "        ('linearregression', LinearRegression())\n",
    "    ])\n",
    "\n",
    "    grid_search_lr = GridSearchCV(\n",
    "        estimator=pipeline,\n",
    "        param_grid=param_grid,\n",
    "        cv=5,\n",
    "        scoring='neg_mean_squared_error',\n",
    "        n_jobs=-1,\n",
    "        verbose=0\n",
    "    )\n",
    "    grid_search_lr.fit(features_train, target_train)\n",
    "    best_params = grid_search_lr.best_params_\n",
    "    print(f\"Best params: {best_params}\")\n",
    "    best_model = grid_search_lr.best_estimator_\n",
    "    predictions = best_model.predict(features_test)\n",
    "    metrics = {\n",
    "        'rmse': np.sqrt(mean_squared_error(target_test, predictions)),\n",
    "        'mae': mean_absolute_error(target_test, predictions),\n",
    "        'r2': r2_score(target_test, predictions),\n",
    "        'best_params': best_params,\n",
    "        'coefficients': None,\n",
    "        'model_type': 'LinearRegression',\n",
    "        'product_mean_estimate' : best_model.predict(features_test).mean(),\n",
    "        'product_mean_real' :target_test.mean()\n",
    "    }\n",
    "\n",
    "    try:\n",
    "        metrics['coefficients'] = pd.DataFrame({\n",
    "            'feature': features_train.columns,\n",
    "            'coefficient': best_model.coef_\n",
    "        }).sort_values('coefficient', key=abs, ascending=False)\n",
    "    except Exception as e:\n",
    "        print(f\"Couldn't get coefficients: {str(e)}\")\n",
    "\n",
    "    return metrics, best_model"
   ],
   "outputs": [],
   "execution_count": 19
  },
  {
   "metadata": {},
   "cell_type": "markdown",
   "source": "### 1.5. First prediction (evaluating pipeline)"
  },
  {
   "metadata": {
    "ExecuteTime": {
     "end_time": "2025-04-07T04:43:56.603374Z",
     "start_time": "2025-04-07T04:43:55.494447Z"
    }
   },
   "cell_type": "code",
   "source": [
    "final_results = {}\n",
    "print(\"🚀 Starting Linear Regression Evaluation for All Regions\\n\")\n",
    "\n",
    "for region_name, (X_train, X_test, y_train, y_test) in splits.items():\n",
    "    try:\n",
    "        print(f\"\\n📊 {'='*40}\")\n",
    "        print(f\"🧭 REGION: {region_name.upper()}\")\n",
    "        print(f\"📏 Train Shape: {X_train.shape}, Test Shape: {X_test.shape}\")\n",
    "\n",
    "        # Train and evaluate\n",
    "        metrics, model = train_and_evaluate(X_train, X_test, y_train, y_test)\n",
    "        final_results[region_name] = {'metrics': metrics, 'model': model}\n",
    "\n",
    "        # Enhanced output formatting\n",
    "        print(f\"\\n🔧 Best Model: {metrics['model_type']}\")\n",
    "        print(f\"✅ RMSE: {metrics['rmse']:.4f} | MAE: {metrics['mae']:.4f} | R²: {metrics['r2']:.4f} | product estimated mean: {metrics['product_mean_estimate']:.4f}\" )\n",
    "\n",
    "\n",
    "    except Exception as e:\n",
    "        print(f\"❌ Error in {region_name}: {str(e)}\")\n",
    "        final_results[region_name] = {'error': str(e)}\n",
    "\n",
    "# Final comparison with statistical summary\n",
    "if final_results:\n",
    "    print(\"\\n🔥 FINAL COMPARISON ACROSS REGIONS\")\n",
    "\n",
    "    # Create a list of metrics dictionaries for each successful region\n",
    "    metrics_list = []\n",
    "    for region, data in final_results.items():\n",
    "        if 'metrics' in data:\n",
    "            metrics_data = data['metrics'].copy()\n",
    "            metrics_data['region'] = region\n",
    "            metrics_list.append(metrics_data)\n",
    "\n",
    "    if metrics_list:\n",
    "        # Create DataFrame from the list of dictionaries\n",
    "        comparison_df = pd.DataFrame(metrics_list)\n",
    "\n",
    "        # Set the index to be the region\n",
    "        comparison_df = comparison_df.set_index('region')\n",
    "\n",
    "        # Display the metrics we're interested in\n",
    "        display_columns = ['model_type', 'rmse', 'mae', 'r2','product_mean_estimate','product_mean_real']\n",
    "        display_df = comparison_df[display_columns]\n",
    "        display(display_df.sort_values('rmse'))"
   ],
   "outputs": [
    {
     "name": "stdout",
     "output_type": "stream",
     "text": [
      "🚀 Starting Linear Regression Evaluation for All Regions\n",
      "\n",
      "\n",
      "📊 ========================================\n",
      "🧭 REGION: GEO_0\n",
      "📏 Train Shape: (75000, 3), Test Shape: (25000, 3)\n",
      "Best params: {'linearregression__fit_intercept': True, 'scaler': StandardScaler()}\n",
      "Couldn't get coefficients: 'Pipeline' object has no attribute 'coef_'\n",
      "\n",
      "🔧 Best Model: LinearRegression\n",
      "✅ RMSE: 37.5969 | MAE: 31.0210 | R²: 0.2744 | product estimated mean: 92.2541\n",
      "\n",
      "📊 ========================================\n",
      "🧭 REGION: GEO_1\n",
      "📏 Train Shape: (75000, 3), Test Shape: (25000, 3)\n",
      "Best params: {'linearregression__fit_intercept': True, 'scaler': 'passthrough'}\n",
      "Couldn't get coefficients: 'Pipeline' object has no attribute 'coef_'\n",
      "\n",
      "🔧 Best Model: LinearRegression\n",
      "✅ RMSE: 0.8848 | MAE: 0.7142 | R²: 0.9996 | product estimated mean: 68.4688\n",
      "\n",
      "📊 ========================================\n",
      "🧭 REGION: GEO_2\n",
      "📏 Train Shape: (75000, 3), Test Shape: (25000, 3)\n",
      "Best params: {'linearregression__fit_intercept': True, 'scaler': 'passthrough'}\n",
      "Couldn't get coefficients: 'Pipeline' object has no attribute 'coef_'\n",
      "\n",
      "🔧 Best Model: LinearRegression\n",
      "✅ RMSE: 39.8442 | MAE: 32.5641 | R²: 0.1964 | product estimated mean: 95.1235\n",
      "\n",
      "🔥 FINAL COMPARISON ACROSS REGIONS\n"
     ]
    },
    {
     "data": {
      "text/plain": [
       "              model_type       rmse        mae        r2  \\\n",
       "region                                                     \n",
       "geo_1   LinearRegression   0.884794   0.714235  0.999630   \n",
       "geo_0   LinearRegression  37.596878  31.020960  0.274407   \n",
       "geo_2   LinearRegression  39.844212  32.564080  0.196378   \n",
       "\n",
       "        product_mean_estimate  product_mean_real  \n",
       "region                                            \n",
       "geo_1               68.468778          68.461665  \n",
       "geo_0               92.254138          92.515978  \n",
       "geo_2               95.123527          95.136111  "
      ],
      "text/html": [
       "<div>\n",
       "<style scoped>\n",
       "    .dataframe tbody tr th:only-of-type {\n",
       "        vertical-align: middle;\n",
       "    }\n",
       "\n",
       "    .dataframe tbody tr th {\n",
       "        vertical-align: top;\n",
       "    }\n",
       "\n",
       "    .dataframe thead th {\n",
       "        text-align: right;\n",
       "    }\n",
       "</style>\n",
       "<table border=\"1\" class=\"dataframe\">\n",
       "  <thead>\n",
       "    <tr style=\"text-align: right;\">\n",
       "      <th></th>\n",
       "      <th>model_type</th>\n",
       "      <th>rmse</th>\n",
       "      <th>mae</th>\n",
       "      <th>r2</th>\n",
       "      <th>product_mean_estimate</th>\n",
       "      <th>product_mean_real</th>\n",
       "    </tr>\n",
       "    <tr>\n",
       "      <th>region</th>\n",
       "      <th></th>\n",
       "      <th></th>\n",
       "      <th></th>\n",
       "      <th></th>\n",
       "      <th></th>\n",
       "      <th></th>\n",
       "    </tr>\n",
       "  </thead>\n",
       "  <tbody>\n",
       "    <tr>\n",
       "      <th>geo_1</th>\n",
       "      <td>LinearRegression</td>\n",
       "      <td>0.884794</td>\n",
       "      <td>0.714235</td>\n",
       "      <td>0.999630</td>\n",
       "      <td>68.468778</td>\n",
       "      <td>68.461665</td>\n",
       "    </tr>\n",
       "    <tr>\n",
       "      <th>geo_0</th>\n",
       "      <td>LinearRegression</td>\n",
       "      <td>37.596878</td>\n",
       "      <td>31.020960</td>\n",
       "      <td>0.274407</td>\n",
       "      <td>92.254138</td>\n",
       "      <td>92.515978</td>\n",
       "    </tr>\n",
       "    <tr>\n",
       "      <th>geo_2</th>\n",
       "      <td>LinearRegression</td>\n",
       "      <td>39.844212</td>\n",
       "      <td>32.564080</td>\n",
       "      <td>0.196378</td>\n",
       "      <td>95.123527</td>\n",
       "      <td>95.136111</td>\n",
       "    </tr>\n",
       "  </tbody>\n",
       "</table>\n",
       "</div>"
      ]
     },
     "metadata": {},
     "output_type": "display_data"
    }
   ],
   "execution_count": 20
  },
  {
   "metadata": {},
   "cell_type": "markdown",
   "source": "### 1.4. Scaling train"
  },
  {
   "metadata": {
    "ExecuteTime": {
     "end_time": "2025-04-07T04:34:12.957539Z",
     "start_time": "2025-04-07T04:34:12.955011Z"
    }
   },
   "cell_type": "code",
   "source": [
    "scaler = StandardScaler()\n",
    "scaler.fit(features_train[numeric]) = scaler.transform(features_train[numeric])"
   ],
   "outputs": [
    {
     "ename": "SyntaxError",
     "evalue": "cannot assign to function call here. Maybe you meant '==' instead of '='? (42605068.py, line 2)",
     "output_type": "error",
     "traceback": [
      "\u001B[1;36m  Cell \u001B[1;32mIn[9], line 2\u001B[1;36m\u001B[0m\n\u001B[1;33m    scaler.fit(features_train[numeric]) = scaler.transform(features_train[numeric])\u001B[0m\n\u001B[1;37m    ^\u001B[0m\n\u001B[1;31mSyntaxError\u001B[0m\u001B[1;31m:\u001B[0m cannot assign to function call here. Maybe you meant '==' instead of '='?\n"
     ]
    }
   ],
   "execution_count": 9
  },
  {
   "metadata": {},
   "cell_type": "markdown",
   "source": "## Подготовка к расчёту прибыли"
  },
  {
   "metadata": {},
   "cell_type": "code",
   "outputs": [],
   "execution_count": null,
   "source": ""
  },
  {
   "cell_type": "markdown",
   "metadata": {},
   "source": [
    "## Расчёт прибыли и рисков "
   ]
  },
  {
   "cell_type": "code",
   "execution_count": null,
   "metadata": {},
   "outputs": [],
   "source": []
  },
  {
   "cell_type": "markdown",
   "metadata": {},
   "source": [
    "## Чек-лист готовности проекта"
   ]
  },
  {
   "cell_type": "markdown",
   "metadata": {},
   "source": [
    "Поставьте 'x' в выполненных пунктах. Далее нажмите Shift+Enter."
   ]
  },
  {
   "cell_type": "markdown",
   "metadata": {},
   "source": [
    "- [x]  Jupyter Notebook открыт\n",
    "- [ ]  Весь код выполняется без ошибок\n",
    "- [ ]  Ячейки с кодом расположены в порядке исполнения\n",
    "- [ ]  Выполнен шаг 1: данные подготовлены\n",
    "- [ ]  Выполнен шаг 2: модели обучены и проверены\n",
    "    - [ ]  Данные корректно разбиты на обучающую и валидационную выборки\n",
    "    - [ ]  Модели обучены, предсказания сделаны\n",
    "    - [ ]  Предсказания и правильные ответы на валидационной выборке сохранены\n",
    "    - [ ]  На экране напечатаны результаты\n",
    "    - [ ]  Сделаны выводы\n",
    "- [ ]  Выполнен шаг 3: проведена подготовка к расчёту прибыли\n",
    "    - [ ]  Для всех ключевых значений созданы константы Python\n",
    "    - [ ]  Посчитано минимальное среднее количество продукта в месторождениях региона, достаточное для разработки\n",
    "    - [ ]  По предыдущему пункту сделаны выводы\n",
    "    - [ ]  Написана функция расчёта прибыли\n",
    "- [ ]  Выполнен шаг 4: посчитаны риски и прибыль\n",
    "    - [ ]  Проведена процедура *Bootstrap*\n",
    "    - [ ]  Все параметры бутстрепа соответствуют условию\n",
    "    - [ ]  Найдены все нужные величины\n",
    "    - [ ]  Предложен регион для разработки месторождения\n",
    "    - [ ]  Выбор региона обоснован"
   ]
  },
  {
   "cell_type": "code",
   "execution_count": null,
   "metadata": {},
   "outputs": [],
   "source": []
  }
 ],
 "metadata": {
  "kernelspec": {
   "display_name": "Python 3 (ipykernel)",
   "language": "python",
   "name": "python3"
  },
  "language_info": {
   "codemirror_mode": {
    "name": "ipython",
    "version": 3
   },
   "file_extension": ".py",
   "mimetype": "text/x-python",
   "name": "python",
   "nbconvert_exporter": "python",
   "pygments_lexer": "ipython3",
   "version": "3.9.5"
  },
  "toc": {
   "base_numbering": 1,
   "nav_menu": {},
   "number_sections": true,
   "sideBar": true,
   "skip_h1_title": true,
   "title_cell": "Table of Contents",
   "title_sidebar": "Contents",
   "toc_cell": false,
   "toc_position": {},
   "toc_section_display": true,
   "toc_window_display": false
  }
 },
 "nbformat": 4,
 "nbformat_minor": 2
}
