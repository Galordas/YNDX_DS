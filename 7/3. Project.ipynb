{
 "cells": [
  {
   "cell_type": "markdown",
   "metadata": {},
   "source": [
    "# Выбор локации для скважины"
   ]
  },
  {
   "cell_type": "markdown",
   "metadata": {},
   "source": [
    "Допустим, вы работаете в добывающей компании «ГлавРосГосНефть». Нужно решить, где бурить новую скважину.\n",
    "\n",
    "Вам предоставлены пробы нефти в трёх регионах: в каждом 10 000 месторождений, где измерили качество нефти и объём её запасов. Постройте модель машинного обучения, которая поможет определить регион, где добыча принесёт наибольшую прибыль. Проанализируйте возможную прибыль и риски техникой *Bootstrap.*\n",
    "\n",
    "Шаги для выбора локации:\n",
    "\n",
    "- В избранном регионе ищут месторождения, для каждого определяют значения признаков;\n",
    "- Строят модель и оценивают объём запасов;\n",
    "- Выбирают месторождения с самым высокими оценками значений. Количество месторождений зависит от бюджета компании и стоимости разработки одной скважины;\n",
    "- Прибыль равна суммарной прибыли отобранных месторождений.\n",
    "\n",
    "### Описание данных\n",
    "Данные геологоразведки трёх регионов находятся в файлах:\n",
    "`id` — уникальный идентификатор скважины;\n",
    "`f0`, `f1` , `f2` — три признака точек (неважно, что они означают, но сами признаки значимы);\n",
    "product — объём запасов в скважине (тыс. баррелей).\n",
    "\n",
    "### Условия задачи:\n",
    "* Для обучения модели подходит только линейная регрессия (остальные — недостаточно предсказуемые).\n",
    "* При разведке региона исследуют 500 точек, из которых с помощью машинного обучения выбирают 200 лучших для разработки.\n",
    "* Бюджет на разработку скважин в регионе — 10 млрд рублей.\n",
    "* При нынешних ценах один баррель сырья приносит 450 рублей дохода. Доход с каждой единицы продукта составляет 450 тыс. рублей, поскольку объём указан в тысячах баррелей.\n",
    "* После оценки рисков нужно оставить лишь те регионы, в которых вероятность убытков меньше 2.5%. Среди них выбирают регион с наибольшей средней прибылью.\n",
    "* Данные синтетические: детали контрактов и характеристики месторождений не разглашаются."
   ]
  },
  {
   "cell_type": "markdown",
   "metadata": {},
   "source": [
    "## Загрузка и подготовка данных"
   ]
  },
  {
   "cell_type": "code",
   "metadata": {
    "ExecuteTime": {
     "end_time": "2025-04-06T15:25:24.859940Z",
     "start_time": "2025-04-06T15:25:24.505797Z"
    }
   },
   "source": [
    "import pandas as pd\n",
    "import numpy as np\n",
    "import seaborn as sns\n",
    "base_path = r'E:\\COURSES\\Кодинг\\[Yandex praxis]. DS specialist + (2022)\\7\\01 Машинное обучение в бизнесе\\06 Самостоятельный проект'\n",
    "geo_data = [pd.read_csv(f'{base_path}\\\\geo_data_{i}.csv') for i in range(3)]\n",
    "geo_0, geo_1, geo_2 = geo_data"
   ],
   "outputs": [],
   "execution_count": 61
  },
  {
   "metadata": {
    "ExecuteTime": {
     "end_time": "2025-04-06T15:25:26.515089Z",
     "start_time": "2025-04-06T15:25:26.192725Z"
    }
   },
   "cell_type": "code",
   "source": [
    "def analyze_dataframe(df: pd.DataFrame, name: str) -> None:\n",
    "    # Header\n",
    "    print(f\"ANALYSIS FOR GEO DATASET: {name.upper()}\")\n",
    "    print(f\"{'=' * 50}\")\n",
    "\n",
    "    # 1. Basic Info\n",
    "    print(\"\\n[1] BASIC STATS:\")\n",
    "    display(df.info(verbose=False, memory_usage='deep'))\n",
    "\n",
    "    # 2. ID Analysis (with column existence check)\n",
    "    print(\"\\n[2] ID ANALYSIS:\")\n",
    "    if 'id' in df.columns:\n",
    "        print(f\"• Unique IDs: {df['id'].nunique():,} ({(1 - df['id'].nunique()/len(df))*100:.1f}% duplicates)\")\n",
    "    else:\n",
    "        print(\"• No 'id' column found.\")\n",
    "\n",
    "    # 3. Duplicates Analysis\n",
    "    print(\"\\n[3] DUPLICATES:\")\n",
    "    dupes = df.duplicated().sum()\n",
    "    print(f\"• Total duplicate rows: {dupes:,} ({(dupes/len(df))*100:.1f}% of data)\")\n",
    "\n",
    "    # 4. Statistical Summary\n",
    "    print(\"\\n[4] NUMERIC SUMMARY STATISTICS:\")\n",
    "    display(df.describe(include='all').T.style.format(precision=2))\n",
    "\n",
    "    print(\"\\n\" + \"=\" * 50)\n",
    "\n",
    "# Execute analysis for all dataframes\n",
    "for i, df in enumerate(geo_data):\n",
    "    analyze_dataframe(df, f\"geo_{i}\")\n",
    "import seaborn as sns\n",
    "import matplotlib.pyplot as plt"
   ],
   "outputs": [
    {
     "name": "stdout",
     "output_type": "stream",
     "text": [
      "ANALYSIS FOR GEO DATASET: GEO_0\n",
      "==================================================\n",
      "\n",
      "[1] BASIC STATS:\n",
      "<class 'pandas.core.frame.DataFrame'>\n",
      "RangeIndex: 100000 entries, 0 to 99999\n",
      "Columns: 5 entries, id to product\n",
      "dtypes: float64(4), object(1)\n",
      "memory usage: 8.2 MB\n"
     ]
    },
    {
     "data": {
      "text/plain": [
       "None"
      ]
     },
     "metadata": {},
     "output_type": "display_data"
    },
    {
     "name": "stdout",
     "output_type": "stream",
     "text": [
      "\n",
      "[2] ID ANALYSIS:\n",
      "• Unique IDs: 99,990 (0.0% duplicates)\n",
      "\n",
      "[3] DUPLICATES:\n",
      "• Total duplicate rows: 0 (0.0% of data)\n",
      "\n",
      "[4] NUMERIC SUMMARY STATISTICS:\n"
     ]
    },
    {
     "data": {
      "text/plain": [
       "<pandas.io.formats.style.Styler at 0x272a80f18b0>"
      ],
      "text/html": [
       "<style type=\"text/css\">\n",
       "</style>\n",
       "<table id=\"T_6be87\">\n",
       "  <thead>\n",
       "    <tr>\n",
       "      <th class=\"blank level0\" >&nbsp;</th>\n",
       "      <th id=\"T_6be87_level0_col0\" class=\"col_heading level0 col0\" >count</th>\n",
       "      <th id=\"T_6be87_level0_col1\" class=\"col_heading level0 col1\" >unique</th>\n",
       "      <th id=\"T_6be87_level0_col2\" class=\"col_heading level0 col2\" >top</th>\n",
       "      <th id=\"T_6be87_level0_col3\" class=\"col_heading level0 col3\" >freq</th>\n",
       "      <th id=\"T_6be87_level0_col4\" class=\"col_heading level0 col4\" >mean</th>\n",
       "      <th id=\"T_6be87_level0_col5\" class=\"col_heading level0 col5\" >std</th>\n",
       "      <th id=\"T_6be87_level0_col6\" class=\"col_heading level0 col6\" >min</th>\n",
       "      <th id=\"T_6be87_level0_col7\" class=\"col_heading level0 col7\" >25%</th>\n",
       "      <th id=\"T_6be87_level0_col8\" class=\"col_heading level0 col8\" >50%</th>\n",
       "      <th id=\"T_6be87_level0_col9\" class=\"col_heading level0 col9\" >75%</th>\n",
       "      <th id=\"T_6be87_level0_col10\" class=\"col_heading level0 col10\" >max</th>\n",
       "    </tr>\n",
       "  </thead>\n",
       "  <tbody>\n",
       "    <tr>\n",
       "      <th id=\"T_6be87_level0_row0\" class=\"row_heading level0 row0\" >id</th>\n",
       "      <td id=\"T_6be87_row0_col0\" class=\"data row0 col0\" >100000</td>\n",
       "      <td id=\"T_6be87_row0_col1\" class=\"data row0 col1\" >99990</td>\n",
       "      <td id=\"T_6be87_row0_col2\" class=\"data row0 col2\" >fiKDv</td>\n",
       "      <td id=\"T_6be87_row0_col3\" class=\"data row0 col3\" >2</td>\n",
       "      <td id=\"T_6be87_row0_col4\" class=\"data row0 col4\" >nan</td>\n",
       "      <td id=\"T_6be87_row0_col5\" class=\"data row0 col5\" >nan</td>\n",
       "      <td id=\"T_6be87_row0_col6\" class=\"data row0 col6\" >nan</td>\n",
       "      <td id=\"T_6be87_row0_col7\" class=\"data row0 col7\" >nan</td>\n",
       "      <td id=\"T_6be87_row0_col8\" class=\"data row0 col8\" >nan</td>\n",
       "      <td id=\"T_6be87_row0_col9\" class=\"data row0 col9\" >nan</td>\n",
       "      <td id=\"T_6be87_row0_col10\" class=\"data row0 col10\" >nan</td>\n",
       "    </tr>\n",
       "    <tr>\n",
       "      <th id=\"T_6be87_level0_row1\" class=\"row_heading level0 row1\" >f0</th>\n",
       "      <td id=\"T_6be87_row1_col0\" class=\"data row1 col0\" >100000.00</td>\n",
       "      <td id=\"T_6be87_row1_col1\" class=\"data row1 col1\" >nan</td>\n",
       "      <td id=\"T_6be87_row1_col2\" class=\"data row1 col2\" >nan</td>\n",
       "      <td id=\"T_6be87_row1_col3\" class=\"data row1 col3\" >nan</td>\n",
       "      <td id=\"T_6be87_row1_col4\" class=\"data row1 col4\" >0.50</td>\n",
       "      <td id=\"T_6be87_row1_col5\" class=\"data row1 col5\" >0.87</td>\n",
       "      <td id=\"T_6be87_row1_col6\" class=\"data row1 col6\" >-1.41</td>\n",
       "      <td id=\"T_6be87_row1_col7\" class=\"data row1 col7\" >-0.07</td>\n",
       "      <td id=\"T_6be87_row1_col8\" class=\"data row1 col8\" >0.50</td>\n",
       "      <td id=\"T_6be87_row1_col9\" class=\"data row1 col9\" >1.07</td>\n",
       "      <td id=\"T_6be87_row1_col10\" class=\"data row1 col10\" >2.36</td>\n",
       "    </tr>\n",
       "    <tr>\n",
       "      <th id=\"T_6be87_level0_row2\" class=\"row_heading level0 row2\" >f1</th>\n",
       "      <td id=\"T_6be87_row2_col0\" class=\"data row2 col0\" >100000.00</td>\n",
       "      <td id=\"T_6be87_row2_col1\" class=\"data row2 col1\" >nan</td>\n",
       "      <td id=\"T_6be87_row2_col2\" class=\"data row2 col2\" >nan</td>\n",
       "      <td id=\"T_6be87_row2_col3\" class=\"data row2 col3\" >nan</td>\n",
       "      <td id=\"T_6be87_row2_col4\" class=\"data row2 col4\" >0.25</td>\n",
       "      <td id=\"T_6be87_row2_col5\" class=\"data row2 col5\" >0.50</td>\n",
       "      <td id=\"T_6be87_row2_col6\" class=\"data row2 col6\" >-0.85</td>\n",
       "      <td id=\"T_6be87_row2_col7\" class=\"data row2 col7\" >-0.20</td>\n",
       "      <td id=\"T_6be87_row2_col8\" class=\"data row2 col8\" >0.25</td>\n",
       "      <td id=\"T_6be87_row2_col9\" class=\"data row2 col9\" >0.70</td>\n",
       "      <td id=\"T_6be87_row2_col10\" class=\"data row2 col10\" >1.34</td>\n",
       "    </tr>\n",
       "    <tr>\n",
       "      <th id=\"T_6be87_level0_row3\" class=\"row_heading level0 row3\" >f2</th>\n",
       "      <td id=\"T_6be87_row3_col0\" class=\"data row3 col0\" >100000.00</td>\n",
       "      <td id=\"T_6be87_row3_col1\" class=\"data row3 col1\" >nan</td>\n",
       "      <td id=\"T_6be87_row3_col2\" class=\"data row3 col2\" >nan</td>\n",
       "      <td id=\"T_6be87_row3_col3\" class=\"data row3 col3\" >nan</td>\n",
       "      <td id=\"T_6be87_row3_col4\" class=\"data row3 col4\" >2.50</td>\n",
       "      <td id=\"T_6be87_row3_col5\" class=\"data row3 col5\" >3.25</td>\n",
       "      <td id=\"T_6be87_row3_col6\" class=\"data row3 col6\" >-12.09</td>\n",
       "      <td id=\"T_6be87_row3_col7\" class=\"data row3 col7\" >0.29</td>\n",
       "      <td id=\"T_6be87_row3_col8\" class=\"data row3 col8\" >2.52</td>\n",
       "      <td id=\"T_6be87_row3_col9\" class=\"data row3 col9\" >4.72</td>\n",
       "      <td id=\"T_6be87_row3_col10\" class=\"data row3 col10\" >16.00</td>\n",
       "    </tr>\n",
       "    <tr>\n",
       "      <th id=\"T_6be87_level0_row4\" class=\"row_heading level0 row4\" >product</th>\n",
       "      <td id=\"T_6be87_row4_col0\" class=\"data row4 col0\" >100000.00</td>\n",
       "      <td id=\"T_6be87_row4_col1\" class=\"data row4 col1\" >nan</td>\n",
       "      <td id=\"T_6be87_row4_col2\" class=\"data row4 col2\" >nan</td>\n",
       "      <td id=\"T_6be87_row4_col3\" class=\"data row4 col3\" >nan</td>\n",
       "      <td id=\"T_6be87_row4_col4\" class=\"data row4 col4\" >92.50</td>\n",
       "      <td id=\"T_6be87_row4_col5\" class=\"data row4 col5\" >44.29</td>\n",
       "      <td id=\"T_6be87_row4_col6\" class=\"data row4 col6\" >0.00</td>\n",
       "      <td id=\"T_6be87_row4_col7\" class=\"data row4 col7\" >56.50</td>\n",
       "      <td id=\"T_6be87_row4_col8\" class=\"data row4 col8\" >91.85</td>\n",
       "      <td id=\"T_6be87_row4_col9\" class=\"data row4 col9\" >128.56</td>\n",
       "      <td id=\"T_6be87_row4_col10\" class=\"data row4 col10\" >185.36</td>\n",
       "    </tr>\n",
       "  </tbody>\n",
       "</table>\n"
      ]
     },
     "metadata": {},
     "output_type": "display_data"
    },
    {
     "name": "stdout",
     "output_type": "stream",
     "text": [
      "\n",
      "==================================================\n",
      "ANALYSIS FOR GEO DATASET: GEO_1\n",
      "==================================================\n",
      "\n",
      "[1] BASIC STATS:\n",
      "<class 'pandas.core.frame.DataFrame'>\n",
      "RangeIndex: 100000 entries, 0 to 99999\n",
      "Columns: 5 entries, id to product\n",
      "dtypes: float64(4), object(1)\n",
      "memory usage: 8.2 MB\n"
     ]
    },
    {
     "data": {
      "text/plain": [
       "None"
      ]
     },
     "metadata": {},
     "output_type": "display_data"
    },
    {
     "name": "stdout",
     "output_type": "stream",
     "text": [
      "\n",
      "[2] ID ANALYSIS:\n",
      "• Unique IDs: 99,996 (0.0% duplicates)\n",
      "\n",
      "[3] DUPLICATES:\n",
      "• Total duplicate rows: 0 (0.0% of data)\n",
      "\n",
      "[4] NUMERIC SUMMARY STATISTICS:\n"
     ]
    },
    {
     "data": {
      "text/plain": [
       "<pandas.io.formats.style.Styler at 0x272daa92ae0>"
      ],
      "text/html": [
       "<style type=\"text/css\">\n",
       "</style>\n",
       "<table id=\"T_8a982\">\n",
       "  <thead>\n",
       "    <tr>\n",
       "      <th class=\"blank level0\" >&nbsp;</th>\n",
       "      <th id=\"T_8a982_level0_col0\" class=\"col_heading level0 col0\" >count</th>\n",
       "      <th id=\"T_8a982_level0_col1\" class=\"col_heading level0 col1\" >unique</th>\n",
       "      <th id=\"T_8a982_level0_col2\" class=\"col_heading level0 col2\" >top</th>\n",
       "      <th id=\"T_8a982_level0_col3\" class=\"col_heading level0 col3\" >freq</th>\n",
       "      <th id=\"T_8a982_level0_col4\" class=\"col_heading level0 col4\" >mean</th>\n",
       "      <th id=\"T_8a982_level0_col5\" class=\"col_heading level0 col5\" >std</th>\n",
       "      <th id=\"T_8a982_level0_col6\" class=\"col_heading level0 col6\" >min</th>\n",
       "      <th id=\"T_8a982_level0_col7\" class=\"col_heading level0 col7\" >25%</th>\n",
       "      <th id=\"T_8a982_level0_col8\" class=\"col_heading level0 col8\" >50%</th>\n",
       "      <th id=\"T_8a982_level0_col9\" class=\"col_heading level0 col9\" >75%</th>\n",
       "      <th id=\"T_8a982_level0_col10\" class=\"col_heading level0 col10\" >max</th>\n",
       "    </tr>\n",
       "  </thead>\n",
       "  <tbody>\n",
       "    <tr>\n",
       "      <th id=\"T_8a982_level0_row0\" class=\"row_heading level0 row0\" >id</th>\n",
       "      <td id=\"T_8a982_row0_col0\" class=\"data row0 col0\" >100000</td>\n",
       "      <td id=\"T_8a982_row0_col1\" class=\"data row0 col1\" >99996</td>\n",
       "      <td id=\"T_8a982_row0_col2\" class=\"data row0 col2\" >wt4Uk</td>\n",
       "      <td id=\"T_8a982_row0_col3\" class=\"data row0 col3\" >2</td>\n",
       "      <td id=\"T_8a982_row0_col4\" class=\"data row0 col4\" >nan</td>\n",
       "      <td id=\"T_8a982_row0_col5\" class=\"data row0 col5\" >nan</td>\n",
       "      <td id=\"T_8a982_row0_col6\" class=\"data row0 col6\" >nan</td>\n",
       "      <td id=\"T_8a982_row0_col7\" class=\"data row0 col7\" >nan</td>\n",
       "      <td id=\"T_8a982_row0_col8\" class=\"data row0 col8\" >nan</td>\n",
       "      <td id=\"T_8a982_row0_col9\" class=\"data row0 col9\" >nan</td>\n",
       "      <td id=\"T_8a982_row0_col10\" class=\"data row0 col10\" >nan</td>\n",
       "    </tr>\n",
       "    <tr>\n",
       "      <th id=\"T_8a982_level0_row1\" class=\"row_heading level0 row1\" >f0</th>\n",
       "      <td id=\"T_8a982_row1_col0\" class=\"data row1 col0\" >100000.00</td>\n",
       "      <td id=\"T_8a982_row1_col1\" class=\"data row1 col1\" >nan</td>\n",
       "      <td id=\"T_8a982_row1_col2\" class=\"data row1 col2\" >nan</td>\n",
       "      <td id=\"T_8a982_row1_col3\" class=\"data row1 col3\" >nan</td>\n",
       "      <td id=\"T_8a982_row1_col4\" class=\"data row1 col4\" >1.14</td>\n",
       "      <td id=\"T_8a982_row1_col5\" class=\"data row1 col5\" >8.97</td>\n",
       "      <td id=\"T_8a982_row1_col6\" class=\"data row1 col6\" >-31.61</td>\n",
       "      <td id=\"T_8a982_row1_col7\" class=\"data row1 col7\" >-6.30</td>\n",
       "      <td id=\"T_8a982_row1_col8\" class=\"data row1 col8\" >1.15</td>\n",
       "      <td id=\"T_8a982_row1_col9\" class=\"data row1 col9\" >8.62</td>\n",
       "      <td id=\"T_8a982_row1_col10\" class=\"data row1 col10\" >29.42</td>\n",
       "    </tr>\n",
       "    <tr>\n",
       "      <th id=\"T_8a982_level0_row2\" class=\"row_heading level0 row2\" >f1</th>\n",
       "      <td id=\"T_8a982_row2_col0\" class=\"data row2 col0\" >100000.00</td>\n",
       "      <td id=\"T_8a982_row2_col1\" class=\"data row2 col1\" >nan</td>\n",
       "      <td id=\"T_8a982_row2_col2\" class=\"data row2 col2\" >nan</td>\n",
       "      <td id=\"T_8a982_row2_col3\" class=\"data row2 col3\" >nan</td>\n",
       "      <td id=\"T_8a982_row2_col4\" class=\"data row2 col4\" >-4.80</td>\n",
       "      <td id=\"T_8a982_row2_col5\" class=\"data row2 col5\" >5.12</td>\n",
       "      <td id=\"T_8a982_row2_col6\" class=\"data row2 col6\" >-26.36</td>\n",
       "      <td id=\"T_8a982_row2_col7\" class=\"data row2 col7\" >-8.27</td>\n",
       "      <td id=\"T_8a982_row2_col8\" class=\"data row2 col8\" >-4.81</td>\n",
       "      <td id=\"T_8a982_row2_col9\" class=\"data row2 col9\" >-1.33</td>\n",
       "      <td id=\"T_8a982_row2_col10\" class=\"data row2 col10\" >18.73</td>\n",
       "    </tr>\n",
       "    <tr>\n",
       "      <th id=\"T_8a982_level0_row3\" class=\"row_heading level0 row3\" >f2</th>\n",
       "      <td id=\"T_8a982_row3_col0\" class=\"data row3 col0\" >100000.00</td>\n",
       "      <td id=\"T_8a982_row3_col1\" class=\"data row3 col1\" >nan</td>\n",
       "      <td id=\"T_8a982_row3_col2\" class=\"data row3 col2\" >nan</td>\n",
       "      <td id=\"T_8a982_row3_col3\" class=\"data row3 col3\" >nan</td>\n",
       "      <td id=\"T_8a982_row3_col4\" class=\"data row3 col4\" >2.49</td>\n",
       "      <td id=\"T_8a982_row3_col5\" class=\"data row3 col5\" >1.70</td>\n",
       "      <td id=\"T_8a982_row3_col6\" class=\"data row3 col6\" >-0.02</td>\n",
       "      <td id=\"T_8a982_row3_col7\" class=\"data row3 col7\" >1.00</td>\n",
       "      <td id=\"T_8a982_row3_col8\" class=\"data row3 col8\" >2.01</td>\n",
       "      <td id=\"T_8a982_row3_col9\" class=\"data row3 col9\" >4.00</td>\n",
       "      <td id=\"T_8a982_row3_col10\" class=\"data row3 col10\" >5.02</td>\n",
       "    </tr>\n",
       "    <tr>\n",
       "      <th id=\"T_8a982_level0_row4\" class=\"row_heading level0 row4\" >product</th>\n",
       "      <td id=\"T_8a982_row4_col0\" class=\"data row4 col0\" >100000.00</td>\n",
       "      <td id=\"T_8a982_row4_col1\" class=\"data row4 col1\" >nan</td>\n",
       "      <td id=\"T_8a982_row4_col2\" class=\"data row4 col2\" >nan</td>\n",
       "      <td id=\"T_8a982_row4_col3\" class=\"data row4 col3\" >nan</td>\n",
       "      <td id=\"T_8a982_row4_col4\" class=\"data row4 col4\" >68.83</td>\n",
       "      <td id=\"T_8a982_row4_col5\" class=\"data row4 col5\" >45.94</td>\n",
       "      <td id=\"T_8a982_row4_col6\" class=\"data row4 col6\" >0.00</td>\n",
       "      <td id=\"T_8a982_row4_col7\" class=\"data row4 col7\" >26.95</td>\n",
       "      <td id=\"T_8a982_row4_col8\" class=\"data row4 col8\" >57.09</td>\n",
       "      <td id=\"T_8a982_row4_col9\" class=\"data row4 col9\" >107.81</td>\n",
       "      <td id=\"T_8a982_row4_col10\" class=\"data row4 col10\" >137.95</td>\n",
       "    </tr>\n",
       "  </tbody>\n",
       "</table>\n"
      ]
     },
     "metadata": {},
     "output_type": "display_data"
    },
    {
     "name": "stdout",
     "output_type": "stream",
     "text": [
      "\n",
      "==================================================\n",
      "ANALYSIS FOR GEO DATASET: GEO_2\n",
      "==================================================\n",
      "\n",
      "[1] BASIC STATS:\n",
      "<class 'pandas.core.frame.DataFrame'>\n",
      "RangeIndex: 100000 entries, 0 to 99999\n",
      "Columns: 5 entries, id to product\n",
      "dtypes: float64(4), object(1)\n",
      "memory usage: 8.2 MB\n"
     ]
    },
    {
     "data": {
      "text/plain": [
       "None"
      ]
     },
     "metadata": {},
     "output_type": "display_data"
    },
    {
     "name": "stdout",
     "output_type": "stream",
     "text": [
      "\n",
      "[2] ID ANALYSIS:\n",
      "• Unique IDs: 99,996 (0.0% duplicates)\n",
      "\n",
      "[3] DUPLICATES:\n",
      "• Total duplicate rows: 0 (0.0% of data)\n",
      "\n",
      "[4] NUMERIC SUMMARY STATISTICS:\n"
     ]
    },
    {
     "data": {
      "text/plain": [
       "<pandas.io.formats.style.Styler at 0x272d4828320>"
      ],
      "text/html": [
       "<style type=\"text/css\">\n",
       "</style>\n",
       "<table id=\"T_2474a\">\n",
       "  <thead>\n",
       "    <tr>\n",
       "      <th class=\"blank level0\" >&nbsp;</th>\n",
       "      <th id=\"T_2474a_level0_col0\" class=\"col_heading level0 col0\" >count</th>\n",
       "      <th id=\"T_2474a_level0_col1\" class=\"col_heading level0 col1\" >unique</th>\n",
       "      <th id=\"T_2474a_level0_col2\" class=\"col_heading level0 col2\" >top</th>\n",
       "      <th id=\"T_2474a_level0_col3\" class=\"col_heading level0 col3\" >freq</th>\n",
       "      <th id=\"T_2474a_level0_col4\" class=\"col_heading level0 col4\" >mean</th>\n",
       "      <th id=\"T_2474a_level0_col5\" class=\"col_heading level0 col5\" >std</th>\n",
       "      <th id=\"T_2474a_level0_col6\" class=\"col_heading level0 col6\" >min</th>\n",
       "      <th id=\"T_2474a_level0_col7\" class=\"col_heading level0 col7\" >25%</th>\n",
       "      <th id=\"T_2474a_level0_col8\" class=\"col_heading level0 col8\" >50%</th>\n",
       "      <th id=\"T_2474a_level0_col9\" class=\"col_heading level0 col9\" >75%</th>\n",
       "      <th id=\"T_2474a_level0_col10\" class=\"col_heading level0 col10\" >max</th>\n",
       "    </tr>\n",
       "  </thead>\n",
       "  <tbody>\n",
       "    <tr>\n",
       "      <th id=\"T_2474a_level0_row0\" class=\"row_heading level0 row0\" >id</th>\n",
       "      <td id=\"T_2474a_row0_col0\" class=\"data row0 col0\" >100000</td>\n",
       "      <td id=\"T_2474a_row0_col1\" class=\"data row0 col1\" >99996</td>\n",
       "      <td id=\"T_2474a_row0_col2\" class=\"data row0 col2\" >VF7Jo</td>\n",
       "      <td id=\"T_2474a_row0_col3\" class=\"data row0 col3\" >2</td>\n",
       "      <td id=\"T_2474a_row0_col4\" class=\"data row0 col4\" >nan</td>\n",
       "      <td id=\"T_2474a_row0_col5\" class=\"data row0 col5\" >nan</td>\n",
       "      <td id=\"T_2474a_row0_col6\" class=\"data row0 col6\" >nan</td>\n",
       "      <td id=\"T_2474a_row0_col7\" class=\"data row0 col7\" >nan</td>\n",
       "      <td id=\"T_2474a_row0_col8\" class=\"data row0 col8\" >nan</td>\n",
       "      <td id=\"T_2474a_row0_col9\" class=\"data row0 col9\" >nan</td>\n",
       "      <td id=\"T_2474a_row0_col10\" class=\"data row0 col10\" >nan</td>\n",
       "    </tr>\n",
       "    <tr>\n",
       "      <th id=\"T_2474a_level0_row1\" class=\"row_heading level0 row1\" >f0</th>\n",
       "      <td id=\"T_2474a_row1_col0\" class=\"data row1 col0\" >100000.00</td>\n",
       "      <td id=\"T_2474a_row1_col1\" class=\"data row1 col1\" >nan</td>\n",
       "      <td id=\"T_2474a_row1_col2\" class=\"data row1 col2\" >nan</td>\n",
       "      <td id=\"T_2474a_row1_col3\" class=\"data row1 col3\" >nan</td>\n",
       "      <td id=\"T_2474a_row1_col4\" class=\"data row1 col4\" >0.00</td>\n",
       "      <td id=\"T_2474a_row1_col5\" class=\"data row1 col5\" >1.73</td>\n",
       "      <td id=\"T_2474a_row1_col6\" class=\"data row1 col6\" >-8.76</td>\n",
       "      <td id=\"T_2474a_row1_col7\" class=\"data row1 col7\" >-1.16</td>\n",
       "      <td id=\"T_2474a_row1_col8\" class=\"data row1 col8\" >0.01</td>\n",
       "      <td id=\"T_2474a_row1_col9\" class=\"data row1 col9\" >1.16</td>\n",
       "      <td id=\"T_2474a_row1_col10\" class=\"data row1 col10\" >7.24</td>\n",
       "    </tr>\n",
       "    <tr>\n",
       "      <th id=\"T_2474a_level0_row2\" class=\"row_heading level0 row2\" >f1</th>\n",
       "      <td id=\"T_2474a_row2_col0\" class=\"data row2 col0\" >100000.00</td>\n",
       "      <td id=\"T_2474a_row2_col1\" class=\"data row2 col1\" >nan</td>\n",
       "      <td id=\"T_2474a_row2_col2\" class=\"data row2 col2\" >nan</td>\n",
       "      <td id=\"T_2474a_row2_col3\" class=\"data row2 col3\" >nan</td>\n",
       "      <td id=\"T_2474a_row2_col4\" class=\"data row2 col4\" >-0.00</td>\n",
       "      <td id=\"T_2474a_row2_col5\" class=\"data row2 col5\" >1.73</td>\n",
       "      <td id=\"T_2474a_row2_col6\" class=\"data row2 col6\" >-7.08</td>\n",
       "      <td id=\"T_2474a_row2_col7\" class=\"data row2 col7\" >-1.17</td>\n",
       "      <td id=\"T_2474a_row2_col8\" class=\"data row2 col8\" >-0.01</td>\n",
       "      <td id=\"T_2474a_row2_col9\" class=\"data row2 col9\" >1.16</td>\n",
       "      <td id=\"T_2474a_row2_col10\" class=\"data row2 col10\" >7.84</td>\n",
       "    </tr>\n",
       "    <tr>\n",
       "      <th id=\"T_2474a_level0_row3\" class=\"row_heading level0 row3\" >f2</th>\n",
       "      <td id=\"T_2474a_row3_col0\" class=\"data row3 col0\" >100000.00</td>\n",
       "      <td id=\"T_2474a_row3_col1\" class=\"data row3 col1\" >nan</td>\n",
       "      <td id=\"T_2474a_row3_col2\" class=\"data row3 col2\" >nan</td>\n",
       "      <td id=\"T_2474a_row3_col3\" class=\"data row3 col3\" >nan</td>\n",
       "      <td id=\"T_2474a_row3_col4\" class=\"data row3 col4\" >2.50</td>\n",
       "      <td id=\"T_2474a_row3_col5\" class=\"data row3 col5\" >3.47</td>\n",
       "      <td id=\"T_2474a_row3_col6\" class=\"data row3 col6\" >-11.97</td>\n",
       "      <td id=\"T_2474a_row3_col7\" class=\"data row3 col7\" >0.13</td>\n",
       "      <td id=\"T_2474a_row3_col8\" class=\"data row3 col8\" >2.48</td>\n",
       "      <td id=\"T_2474a_row3_col9\" class=\"data row3 col9\" >4.86</td>\n",
       "      <td id=\"T_2474a_row3_col10\" class=\"data row3 col10\" >16.74</td>\n",
       "    </tr>\n",
       "    <tr>\n",
       "      <th id=\"T_2474a_level0_row4\" class=\"row_heading level0 row4\" >product</th>\n",
       "      <td id=\"T_2474a_row4_col0\" class=\"data row4 col0\" >100000.00</td>\n",
       "      <td id=\"T_2474a_row4_col1\" class=\"data row4 col1\" >nan</td>\n",
       "      <td id=\"T_2474a_row4_col2\" class=\"data row4 col2\" >nan</td>\n",
       "      <td id=\"T_2474a_row4_col3\" class=\"data row4 col3\" >nan</td>\n",
       "      <td id=\"T_2474a_row4_col4\" class=\"data row4 col4\" >95.00</td>\n",
       "      <td id=\"T_2474a_row4_col5\" class=\"data row4 col5\" >44.75</td>\n",
       "      <td id=\"T_2474a_row4_col6\" class=\"data row4 col6\" >0.00</td>\n",
       "      <td id=\"T_2474a_row4_col7\" class=\"data row4 col7\" >59.45</td>\n",
       "      <td id=\"T_2474a_row4_col8\" class=\"data row4 col8\" >94.93</td>\n",
       "      <td id=\"T_2474a_row4_col9\" class=\"data row4 col9\" >130.60</td>\n",
       "      <td id=\"T_2474a_row4_col10\" class=\"data row4 col10\" >190.03</td>\n",
       "    </tr>\n",
       "  </tbody>\n",
       "</table>\n"
      ]
     },
     "metadata": {},
     "output_type": "display_data"
    },
    {
     "name": "stdout",
     "output_type": "stream",
     "text": [
      "\n",
      "==================================================\n"
     ]
    }
   ],
   "execution_count": 62
  },
  {
   "cell_type": "markdown",
   "metadata": {},
   "source": [
    "## Обучение и проверка модели"
   ]
  },
  {
   "cell_type": "code",
   "metadata": {
    "ExecuteTime": {
     "end_time": "2025-04-06T15:25:46.553325Z",
     "start_time": "2025-04-06T15:25:45.258654Z"
    }
   },
   "source": [
    "def q75(x):\n",
    "    return np.quantile(x, 0.75)\n",
    "features = ['f0',\n",
    "            'f1',\n",
    "            'f2']\n",
    "# estimator = 'max'\n",
    "# Prepare the data (combine all datasets for comparison)\n",
    "dfs = []\n",
    "for i, df in enumerate(geo_data):\n",
    "    df_melted = df[features].melt(var_name='Feature', value_name='Value')\n",
    "    df_melted['Region'] = f'geo_{i}'\n",
    "    dfs.append(df_melted)\n",
    "\n",
    "combined_df = pd.concat(dfs)\n",
    "\n",
    "sns.barplot(\n",
    "    data=combined_df,\n",
    "    x='Feature',\n",
    "    y='Value',\n",
    "    hue='Region',\n",
    "    palette='viridis',\n",
    "    errorbar=None,\n",
    "    estimator=q75\n",
    ")\n",
    "\n",
    "plt.title('Comparison of Features f0, f1, f2 Across Regions', pad=20)\n",
    "plt.xlabel('Feature', labelpad=10)\n",
    "plt.ylabel(f'{estimator} Value', labelpad=10)\n",
    "plt.legend(title='Region', bbox_to_anchor=(1.05, 1), loc='upper left')\n",
    "sns.despine()  # Cleaner borders\n",
    "plt.tight_layout()\n",
    "plt.show()"
   ],
   "outputs": [
    {
     "data": {
      "text/plain": [
       "<Figure size 640x480 with 1 Axes>"
      ],
      "image/png": "[encoded data removed]"
     },
     "metadata": {},
     "output_type": "display_data"
    }
   ],
   "execution_count": 64
  },
  {
   "metadata": {},
   "cell_type": "code",
   "outputs": [],
   "execution_count": null,
   "source": ""
  },
  {
   "cell_type": "markdown",
   "metadata": {},
   "source": [
    "## Подготовка к расчёту прибыли"
   ]
  },
  {
   "cell_type": "code",
   "execution_count": null,
   "metadata": {},
   "outputs": [],
   "source": []
  },
  {
   "cell_type": "markdown",
   "metadata": {},
   "source": [
    "## Расчёт прибыли и рисков "
   ]
  },
  {
   "cell_type": "code",
   "execution_count": null,
   "metadata": {},
   "outputs": [],
   "source": []
  },
  {
   "cell_type": "markdown",
   "metadata": {},
   "source": [
    "## Чек-лист готовности проекта"
   ]
  },
  {
   "cell_type": "markdown",
   "metadata": {},
   "source": [
    "Поставьте 'x' в выполненных пунктах. Далее нажмите Shift+Enter."
   ]
  },
  {
   "cell_type": "markdown",
   "metadata": {},
   "source": [
    "- [x]  Jupyter Notebook открыт\n",
    "- [ ]  Весь код выполняется без ошибок\n",
    "- [ ]  Ячейки с кодом расположены в порядке исполнения\n",
    "- [ ]  Выполнен шаг 1: данные подготовлены\n",
    "- [ ]  Выполнен шаг 2: модели обучены и проверены\n",
    "    - [ ]  Данные корректно разбиты на обучающую и валидационную выборки\n",
    "    - [ ]  Модели обучены, предсказания сделаны\n",
    "    - [ ]  Предсказания и правильные ответы на валидационной выборке сохранены\n",
    "    - [ ]  На экране напечатаны результаты\n",
    "    - [ ]  Сделаны выводы\n",
    "- [ ]  Выполнен шаг 3: проведена подготовка к расчёту прибыли\n",
    "    - [ ]  Для всех ключевых значений созданы константы Python\n",
    "    - [ ]  Посчитано минимальное среднее количество продукта в месторождениях региона, достаточное для разработки\n",
    "    - [ ]  По предыдущему пункту сделаны выводы\n",
    "    - [ ]  Написана функция расчёта прибыли\n",
    "- [ ]  Выполнен шаг 4: посчитаны риски и прибыль\n",
    "    - [ ]  Проведена процедура *Bootstrap*\n",
    "    - [ ]  Все параметры бутстрепа соответствуют условию\n",
    "    - [ ]  Найдены все нужные величины\n",
    "    - [ ]  Предложен регион для разработки месторождения\n",
    "    - [ ]  Выбор региона обоснован"
   ]
  },
  {
   "cell_type": "code",
   "execution_count": null,
   "metadata": {},
   "outputs": [],
   "source": []
  }
 ],
 "metadata": {
  "kernelspec": {
   "display_name": "Python 3 (ipykernel)",
   "language": "python",
   "name": "python3"
  },
  "language_info": {
   "codemirror_mode": {
    "name": "ipython",
    "version": 3
   },
   "file_extension": ".py",
   "mimetype": "text/x-python",
   "name": "python",
   "nbconvert_exporter": "python",
   "pygments_lexer": "ipython3",
   "version": "3.9.5"
  },
  "toc": {
   "base_numbering": 1,
   "nav_menu": {},
   "number_sections": true,
   "sideBar": true,
   "skip_h1_title": true,
   "title_cell": "Table of Contents",
   "title_sidebar": "Contents",
   "toc_cell": false,
   "toc_position": {},
   "toc_section_display": true,
   "toc_window_display": false
  }
 },
 "nbformat": 4,
 "nbformat_minor": 2
}
