{
 "cells": [
  {
   "cell_type": "markdown",
   "id": "9bef0f9e-53f0-4afc-9e4b-b1ae3f9b037d",
   "metadata": {},
   "source": [
    "# Russian market movie rentals"
   ]
  },
  {
   "cell_type": "code",
   "execution_count": 1,
   "id": "99fef488-f7e9-40c5-a566-7f17403fef17",
   "metadata": {
    "jupyter": {
     "is_executing": true
    }
   },
   "outputs": [],
   "source": [
    "import pandas as pd\n",
    "import matplotlib.pyplot as plt\n",
    "import numpy as np\n",
    "\n",
    "pd.set_option('display.max_columns', None)\n",
    "\n",
    "movies_pass = pd.read_csv(r'C:\\Users\\stazher3\\Downloads\\Yandex.Disk.Files\\3\\02 Сборный проект - 1\\03 Проектная работа\\mkrf_movies.csv')\n",
    "ru_rentals = pd.read_csv(r'C:\\Users\\stazher3\\Downloads\\Yandex.Disk.Files\\3\\02 Сборный проект - 1\\03 Проектная работа\\mkrf_shows.csv')"
   ]
  },
  {
   "cell_type": "markdown",
   "id": "27a6c52a-c0e4-49d5-a1b4-36ae7463dd4d",
   "metadata": {},
   "source": [
    "## 1. Data correction of movies_pass"
   ]
  },
  {
   "cell_type": "markdown",
   "id": "5acc932d-6015-4ff7-abc2-de78df06f9e6",
   "metadata": {},
   "source": [
    "### 1.1. Display info about passports of movies"
   ]
  },
  {
   "cell_type": "code",
   "execution_count": 2,
   "id": "f18cb8be-2f9f-430c-9328-d57adb6cdc9f",
   "metadata": {},
   "outputs": [
    {
     "name": "stdout",
     "output_type": "stream",
     "text": [
      "<class 'pandas.core.frame.DataFrame'>\n",
      "RangeIndex: 7486 entries, 0 to 7485\n",
      "Data columns (total 15 columns):\n",
      " #   Column                 Non-Null Count  Dtype  \n",
      "---  ------                 --------------  -----  \n",
      " 0   title                  7486 non-null   object \n",
      " 1   puNumber               7486 non-null   object \n",
      " 2   show_start_date        7486 non-null   object \n",
      " 3   type                   7486 non-null   object \n",
      " 4   film_studio            7468 non-null   object \n",
      " 5   production_country     7484 non-null   object \n",
      " 6   director               7477 non-null   object \n",
      " 7   producer               6918 non-null   object \n",
      " 8   age_restriction        7486 non-null   object \n",
      " 9   refundable_support     332 non-null    float64\n",
      " 10  nonrefundable_support  332 non-null    float64\n",
      " 11  budget                 332 non-null    float64\n",
      " 12  financing_source       332 non-null    object \n",
      " 13  ratings                6519 non-null   object \n",
      " 14  genres                 6510 non-null   object \n",
      "dtypes: float64(3), object(12)\n",
      "memory usage: 877.4+ KB\n",
      "None\n"
     ]
    }
   ],
   "source": [
    "print(movies_pass.info())"
   ]
  },
  {
   "cell_type": "code",
   "execution_count": 3,
   "id": "81fb83fa-600e-424d-987f-02631dc85862",
   "metadata": {},
   "outputs": [
    {
     "name": "stdout",
     "output_type": "stream",
     "text": [
      "                  title   puNumber           show_start_date            type  \\\n",
      "0      Открытый простор  221048915  2015-11-27T12:00:00.000Z  Художественный   \n",
      "1  Особо важное задание  111013716  2016-09-13T12:00:00.000Z  Художественный   \n",
      "\n",
      "                                         film_studio production_country  \\\n",
      "0  Тачстоун Пикчерз, Кобальт Пикчерз, Бикон Пикче...                США   \n",
      "1                              Киностудия \"Мосфильм\"               СССР   \n",
      "\n",
      "        director                                   producer  \\\n",
      "0  Кевин Костнер  Дэвид Валдес, Кевин Костнер, Джейк Эбертс   \n",
      "1      Е.Матвеев                                        NaN   \n",
      "\n",
      "                 age_restriction  refundable_support  nonrefundable_support  \\\n",
      "0    «18+» - запрещено для детей                 NaN                    NaN   \n",
      "1  «6+» - для детей старше 6 лет                 NaN                    NaN   \n",
      "\n",
      "   budget financing_source ratings                  genres  \n",
      "0     NaN              NaN     7.2  боевик,драма,мелодрама  \n",
      "1     NaN              NaN     6.6           драма,военный  \n"
     ]
    }
   ],
   "source": [
    "print(movies_pass.head(2))"
   ]
  },
  {
   "cell_type": "code",
   "execution_count": 4,
   "id": "97ced2f4-217a-4c9c-99b3-c87eff1f1653",
   "metadata": {},
   "outputs": [
    {
     "data": {
      "text/plain": [
       "np.int64(0)"
      ]
     },
     "execution_count": 4,
     "metadata": {},
     "output_type": "execute_result"
    }
   ],
   "source": [
    "movies_pass.duplicated().sum()"
   ]
  },
  {
   "cell_type": "markdown",
   "id": "9020fcb8-6037-4ffd-9a45-2c22d57de882",
   "metadata": {},
   "source": [
    "### Rename some columns names to the snake-like style"
   ]
  },
  {
   "cell_type": "code",
   "execution_count": 5,
   "id": "8e99ecd6-a1c3-482d-b289-24c1f5b8fe91",
   "metadata": {},
   "outputs": [],
   "source": [
    "movies_pass = movies_pass.rename(columns = {'puNumber':'pu_number'}                  )"
   ]
  },
  {
   "cell_type": "markdown",
   "id": "516f983a-97e7-4710-848a-bdafe28985d7",
   "metadata": {},
   "source": [
    "### Display the information about movies rentals on the russian market "
   ]
  },
  {
   "cell_type": "code",
   "execution_count": 6,
   "id": "d525c5f5-50e1-4460-bbd8-480e2da64262",
   "metadata": {},
   "outputs": [
    {
     "name": "stdout",
     "output_type": "stream",
     "text": [
      "<class 'pandas.core.frame.DataFrame'>\n",
      "RangeIndex: 3158 entries, 0 to 3157\n",
      "Data columns (total 2 columns):\n",
      " #   Column      Non-Null Count  Dtype  \n",
      "---  ------      --------------  -----  \n",
      " 0   puNumber    3158 non-null   int64  \n",
      " 1   box_office  3158 non-null   float64\n",
      "dtypes: float64(1), int64(1)\n",
      "memory usage: 49.5 KB\n",
      "None\n",
      "    puNumber    box_office\n",
      "0  111000113  2.450000e+03\n",
      "1  111000115  6.104000e+04\n",
      "2  111000116  1.530300e+08\n",
      "3  111000117  1.226096e+07\n",
      "4  111000118  1.636841e+08\n"
     ]
    }
   ],
   "source": [
    "print(ru_rentals.info())\n",
    "print(ru_rentals.head(5))"
   ]
  },
  {
   "cell_type": "code",
   "execution_count": 7,
   "id": "a158e994-b24b-4d23-ab4a-fbc952b432ae",
   "metadata": {},
   "outputs": [
    {
     "name": "stdout",
     "output_type": "stream",
     "text": [
      "title\n",
      "День святого Валентина_                                        5\n",
      "Гарри Поттер и Дары Смерти - Часть 1/По роману Дж.К.Ролинг/    4\n",
      "Код доступа \"Кейптаун\"                                         4\n",
      "Дорога /По новелле Кормака МкКарфи/                            4\n",
      "Прощание                                                       4\n",
      "                                                              ..\n",
      "Сад художника: Американский импрессионизм                      1\n",
      "Звериная ярость                                                1\n",
      "Щенячий патруль: Скорей спешим на помощь!                      1\n",
      "Машины песенки. Серия \"Испанские мотивы\"                       1\n",
      "Незаконченная жизнь                                            1\n",
      "Name: count, Length: 6772, dtype: int64\n",
      "558\n"
     ]
    }
   ],
   "source": [
    "print(movies_pass['title'].value_counts())\n",
    "print(len(movies_pass['title'].value_counts() \\\n",
    "          [movies_pass['title'].value_counts() > 1])\n",
    "     )"
   ]
  },
  {
   "cell_type": "markdown",
   "id": "a4a123a6-e3d9-4ee6-87be-8e75af46db89",
   "metadata": {},
   "source": [
    "### Check pu_number\n",
    "Looks like we have a lot of duplicates in the DataFrame"
   ]
  },
  {
   "cell_type": "code",
   "execution_count": 8,
   "id": "76947bc4-3cb4-4958-8fc7-0ac1ec4daa83",
   "metadata": {},
   "outputs": [
    {
     "name": "stdout",
     "output_type": "stream",
     "text": [
      "pu_number\n",
      "221154310    2\n",
      "221054410    2\n",
      "112004819    1\n",
      "121037919    1\n",
      "221011415    1\n",
      "            ..\n",
      "126008019    1\n",
      "121037819    1\n",
      "124010819    1\n",
      "124010619    1\n",
      "111019014    1\n",
      "Name: count, Length: 7484, dtype: int64\n",
      "2\n"
     ]
    }
   ],
   "source": [
    "print(movies_pass['pu_number'].value_counts())\n",
    "print(len(movies_pass['pu_number'].value_counts() \\\n",
    "          [movies_pass['pu_number'].value_counts() > 1])\n",
    "     )"
   ]
  },
  {
   "cell_type": "markdown",
   "id": "b5716735-0b16-4e3e-8307-56b220c4fc6f",
   "metadata": {},
   "source": [
    "### Time work\n",
    "Couple of unique number are duplicated and should be removed"
   ]
  },
  {
   "cell_type": "code",
   "execution_count": 9,
   "id": "67844212-2d4f-4247-9801-9b4916e0c0bb",
   "metadata": {},
   "outputs": [
    {
     "name": "stdout",
     "output_type": "stream",
     "text": [
      "show_start_date\n",
      "2010-12-17T12:00:00.000Z    96\n",
      "2014-12-01T12:00:00.000Z    71\n",
      "2014-12-24T12:00:00.000Z    61\n",
      "2016-06-07T12:00:00.000Z    41\n",
      "2013-12-19T12:00:00.000Z    39\n",
      "                            ..\n",
      "2011-07-07T12:00:00.000Z     1\n",
      "2011-10-03T12:00:00.000Z     1\n",
      "2015-05-06T12:00:00.000Z     1\n",
      "2015-05-18T12:00:00.000Z     1\n",
      "2015-09-16T12:00:00.000Z     1\n",
      "Name: count, Length: 1965, dtype: int64\n",
      "2010-01-11T12:00:00.000Z\n",
      "2019-12-30T12:00:00.000Z\n"
     ]
    }
   ],
   "source": [
    "print(movies_pass['show_start_date'].value_counts())\n",
    "print(movies_pass['show_start_date'].min())\n",
    "print(movies_pass['show_start_date'].max())"
   ]
  },
  {
   "cell_type": "markdown",
   "id": "249d7526-e4a2-4faa-ad4a-527cb9a76d01",
   "metadata": {},
   "source": [
    "So this DataFrame contains a movies from the January of 2010 to the December of 2019"
   ]
  },
  {
   "cell_type": "markdown",
   "id": "21465675-8cb0-4567-a092-9305fc5eab8a",
   "metadata": {},
   "source": [
    "Let's convert show_start_date to `pd.DateTime` This format contains milliseconds `%f` type."
   ]
  },
  {
   "cell_type": "code",
   "execution_count": 10,
   "id": "0baa8c0c-238b-4ef5-8884-10f67f50476a",
   "metadata": {},
   "outputs": [],
   "source": [
    "movies_pass['show_start_date'] = pd.to_datetime(movies_pass['show_start_date'], format = '%Y-%m-%dT%H:%M:%S.%fZ')\\\n",
    "    .dt.round('s')\n",
    "# print(movies_pass.head(5))"
   ]
  },
  {
   "cell_type": "markdown",
   "id": "bc70873b-9043-41d7-8fe6-715c4554fdf1",
   "metadata": {},
   "source": [
    "From the head of the DF all the shows start from `12:00:00`. Let's check if it's true for the whole DF and remove it, as an unnecessary information"
   ]
  },
  {
   "cell_type": "code",
   "execution_count": 11,
   "id": "ccc4e313-c5c1-4d8b-a898-8db3309af39a",
   "metadata": {},
   "outputs": [
    {
     "name": "stdout",
     "output_type": "stream",
     "text": [
      "7486\n"
     ]
    }
   ],
   "source": [
    "print(len(movies_pass[movies_pass['show_start_date'].dt.time == pd.Timestamp('12:00:00').time()]))"
   ]
  },
  {
   "cell_type": "markdown",
   "id": "2dbc4f78-3c46-49db-bcae-1e3bbb409ce5",
   "metadata": {},
   "source": [
    "Let's remove `12:00:00` from the column values"
   ]
  },
  {
   "cell_type": "code",
   "execution_count": 12,
   "id": "1836e5dd-0a20-49d0-bbdd-99f1d1463c39",
   "metadata": {},
   "outputs": [],
   "source": [
    "movies_pass['show_start_date'] = movies_pass['show_start_date'].dt.round('d')\n",
    "# print(movies_pass.head(5))\n",
    "\n",
    "# it could also be done in that way:\n",
    "# movies_pass['show_start_date'] = movies_pass['show_start_date'].dt.date "
   ]
  },
  {
   "cell_type": "markdown",
   "id": "62a4dc41-8faa-4052-881d-833c0b7831c4",
   "metadata": {},
   "source": [
    "### Check type"
   ]
  },
  {
   "cell_type": "code",
   "execution_count": 13,
   "id": "d8516997-38c5-416f-8ae2-a3f82a78fa5e",
   "metadata": {},
   "outputs": [
    {
     "name": "stdout",
     "output_type": "stream",
     "text": [
      "['Художественный' 'Анимационный' 'Прочие' 'Документальный'\n",
      " 'Научно-популярный' ' Художественный' ' Анимационный'\n",
      " 'Музыкально-развлекательный']\n"
     ]
    }
   ],
   "source": [
    "print(movies_pass['type'].unique())"
   ]
  },
  {
   "cell_type": "markdown",
   "id": "bba8898d-ffa9-4eae-a331-57ff7651a40a",
   "metadata": {},
   "source": [
    "We have to:\n",
    "* make them all lower-case\n",
    "* remove duplicates caused by empty spaces in the name"
   ]
  },
  {
   "cell_type": "code",
   "execution_count": 14,
   "id": "e105fd22-a5d3-413e-b04a-9105aa982961",
   "metadata": {},
   "outputs": [
    {
     "name": "stdout",
     "output_type": "stream",
     "text": [
      "['художественный' 'анимационный' 'прочие' 'документальный'\n",
      " 'научно-популярный' 'музыкально-развлекательный']\n"
     ]
    }
   ],
   "source": [
    "movies_pass['type'] = movies_pass['type'].apply(lambda x: x.lower().replace(' ',''))\n",
    "print(movies_pass['type'].unique())"
   ]
  },
  {
   "cell_type": "markdown",
   "id": "b9e22e10-6257-4f2f-8a77-90190918c7f3",
   "metadata": {},
   "source": [
    "### Check filmstudio"
   ]
  },
  {
   "cell_type": "code",
   "execution_count": 15,
   "id": "9f9325f0-697d-4f61-9593-894ee08db61f",
   "metadata": {},
   "outputs": [
    {
     "name": "stdout",
     "output_type": "stream",
     "text": [
      "film_studio\n",
      "Киностудия \"Мосфильм\"                                                               341\n",
      "ООО \"Мульт в кино\"                                                                   57\n",
      "Анимаккорд Лтд                                                                       23\n",
      "ООО \"Мульт в кино\"                                                                   18\n",
      "ФГУП \"ТПО \"Киностудия \"Союзмультфильм\"                                               16\n",
      "ООО \"ТаББаК\"                                                                         15\n",
      "Опус Арте                                                                            14\n",
      "Р А И Синема                                                                         14\n",
      "ООО \"Студия анимационного кино \"Мельница\"                                            14\n",
      "ООО \"Кинокомпания \"СТВ\"                                                              13\n",
      "Пиксар Анимейшн Студиос, Уолт Дисней Пикчерз                                         13\n",
      "ЗАО \"Аэроплан\"                                                                       12\n",
      "Уолт Дисней Пикчерз                                                                  11\n",
      "Уорнер Бразерс                                                                       10\n",
      "ООО \"Стар Медиа Дистрибьюшн\"                                                         10\n",
      "ОАО \"ТПО \"Санкт-Петербургская студия документальных фильмов\"                         10\n",
      "Свердловская киностудия                                                              10\n",
      "ООО \"Продюсерский центр ЕРАЛАШ\"                                                      10\n",
      "ООО \"Мармот-фильм\"                                                                    9\n",
      "ООО \"Киностудия \"ВЕРТИКАЛЬ\"                                                           9\n",
      "Синема Лайв                                                                           9\n",
      "ООО \"Энджой мувиз\"                                                                    9\n",
      "Парамаунт Пикчерз                                                                     9\n",
      "Уолт Дисней Анимейшн Студиос, Уолт Дисней Пикчерз                                     9\n",
      "Эр А И Синема                                                                         9\n",
      "ООО \"ЕМ Продакшн\"                                                                     8\n",
      "ООО \"Продюсерский центр \"Ленфильм\"                                                    8\n",
      "Артс Альянс Дистрибьюшн                                                               8\n",
      "ДримУоркс Анимейшн                                                                    8\n",
      "Уорнер Бразерс, Хэйдэй Филмз                                                          8\n",
      "Опус Арт                                                                              8\n",
      "ООО \"ТПО \"РОК\"                                                                        8\n",
      "Юниверсал Пикчерз                                                                     7\n",
      "Севенс Арт Продакшнс                                                                  7\n",
      "ООО \"Смешарики\"                                                                       7\n",
      "ООО Студия \"АНИМАККОРД\" - ANIMACCORD LTD.                                             7\n",
      "Марвел Студиос                                                                        7\n",
      "Афтер Дарк Филмз                                                                      7\n",
      "Иллюминейшн Интертейнмент, Юниверсал Пикчерз                                          6\n",
      "Юниверсал Пикчерз, Имэджин Интертейнмент, Рилейтивити Медиа, Скотт Фри Продакшнз      6\n",
      "ООО \"Нон-Стоп Продакшн\"                                                               6\n",
      "3D Продуциони, Нексо Диджитал                                                         6\n",
      "Юниверсал Пикчерз, Рот Филмз                                                          6\n",
      "ООО \"ГОЛД МЕДИУМ\"                                                                     6\n",
      "ООО \"Студия \"СЛОН\"                                                                    6\n",
      "Феномен Ю Кей ЛТД                                                                     6\n",
      "Райзинг Алтернатив                                                                    6\n",
      "ООО \"Продюсерская фирма Игоря Толстунова\"                                             6\n",
      "Рэйнбоу                                                                               6\n",
      "Артс Альянс Медиа                                                                     6\n",
      "ООО \"ВИЗАРТ ФИЛЬМ\"                                                                    5\n",
      "Парамаунт Пикчерз, Блумхаус Продакшнз                                                 5\n",
      "Саммит Интертейнмент                                                                  5\n",
      "Блумхаус Продакшнз, Платинум Данс, Юниверсал Пикчерз, Уайт Нот Продакшнз              5\n",
      "ООО \"КиноФирма\"                                                                       5\n",
      "АНО Студия \"Остров\"                                                                   5\n",
      "ООО Студия \"АНИМАККОРД\" - АНИМАККОРД ЛТД.                                             5\n",
      "Уорнер Бразерс, Виллидж Роадшоу Пикчерз                                               5\n",
      "ФГУП \"Киноконцерн \"Мосфильм\"                                                          5\n",
      "ХХ Век Фокс                                                                           5\n",
      "Name: count, dtype: int64\n"
     ]
    }
   ],
   "source": [
    "print(movies_pass['film_studio'].value_counts().head(60))\n",
    "\n",
    "# print(movies_pass.loc[[1293, 4441, 6105, 6181, 6379, 6380, 6399, 6485, 6494, 6497, 6498, 6499,\n",
    "       # 6507, 6511, 6638, 6639, 6662, 6722]])"
   ]
  },
  {
   "cell_type": "markdown",
   "id": "06adb986-fb09-4e2e-86f1-ecfbb4234c77",
   "metadata": {},
   "source": [
    "I think changing apparent duplicates will provide better statistics on film studios"
   ]
  },
  {
   "cell_type": "code",
   "execution_count": 16,
   "id": "2d7be4ba-520e-4d8b-a551-2cd59d3dae09",
   "metadata": {},
   "outputs": [],
   "source": [
    "movies_pass['film_studio'] = movies_pass['film_studio'].astype(str) \n",
    "def standardize_film_studio(row):\n",
    "    if 'ООО \"Мульт в кино\"' in row['film_studio'].strip():\n",
    "        return 'ООО \"Мульт в кино\"'\n",
    "    elif 'Опус Арте' in row['film_studio']:\n",
    "        return 'Опус Арт'\n",
    "    elif 'Анимаккорд Лтд' in row['film_studio'] or 'ООО Студия \"АНИМАККОРД\"' in row['film_studio'] or 'ООО Студия \"АНИМАККОРД\" - ANIMACCORD LTD.' in row['film_studio'] :\n",
    "        return 'Анимаккорд Лтд'\n",
    "    elif 'ФГУП \"Киноконцерн \"Мосфильм\"' in row['film_studio']:\n",
    "        return 'Киностудия \"Мосфильм\"'\n",
    "    else:\n",
    "        return row['film_studio']\n",
    "movies_pass['film_studio'] = movies_pass.apply(standardize_film_studio, axis=1)\n",
    "# print(movies_pass['film_studio'].value_counts().head(60))"
   ]
  },
  {
   "cell_type": "markdown",
   "id": "e19cad82-6701-47d5-83b9-04614da407dc",
   "metadata": {},
   "source": [
    "### Check Production country"
   ]
  },
  {
   "cell_type": "code",
   "execution_count": 17,
   "id": "a11d4c82-2644-4f1e-ad6a-9d5e5542764c",
   "metadata": {},
   "outputs": [],
   "source": [
    "# print(movies_pass['production_country'].unique())\n",
    "# It's easy to note a lot of unwanted spaces, different types of separator, stray numbers and semicolons.\n",
    "\n",
    "# Function to make 'США, Канада' and 'Канада, США' the same:\n",
    "def normalize_country_order(country_string):\n",
    "    countries = [c.strip() for c in country_string.split(',')]\n",
    "    sorted_countries = sorted(countries)\n",
    "    return ', '.join(sorted_countries)\n",
    "\n",
    "#Remove and replace\n",
    "movies_pass['production_country'] = (\n",
    "    movies_pass['production_country'].astype(str)  #Replace .object type to .str type\n",
    "    .str.replace('[-/,]',',', regex=True)  # Replaces all types of separator with a comma \n",
    "    .str.replace('[;]', '', regex=True)  # Removes semicolons from the string\n",
    "    .str.replace(r'\\s*,\\s*', ', ', regex=True) # Removes any digits from the string\n",
    "    .str.replace(r'\\d+', '', regex=True)  # Ensure that there's only 1 space before comma and no in between\n",
    "    .str.strip() # Strips any leading or trailing whitespace\n",
    "    .apply(normalize_country_order)\n",
    ")\n",
    "# Replace different country names \n",
    "country_mapping = {\n",
    "    'Н. Зеландия': 'Новая Зеландия',\n",
    "    'ЧССР': 'Чехословакия',\n",
    "    'Ю. Корея': 'Южная Корея',\n",
    "    'Сша' : 'США',\n",
    "    'Ссср' : 'СССР'\n",
    "}\n",
    "movies_pass['production_country'] = (\n",
    "    movies_pass['production_country']\n",
    "    .replace(country_mapping, regex=True)\n",
    ")\n",
    "# print(movies_pass['production_country'].unique())"
   ]
  },
  {
   "cell_type": "code",
   "execution_count": 18,
   "id": "a459d908-6519-4eaf-b8bb-77cb7431200f",
   "metadata": {},
   "outputs": [
    {
     "name": "stdout",
     "output_type": "stream",
     "text": [
      "<class 'pandas.core.frame.DataFrame'>\n",
      "RangeIndex: 7486 entries, 0 to 7485\n",
      "Data columns (total 15 columns):\n",
      " #   Column                 Non-Null Count  Dtype         \n",
      "---  ------                 --------------  -----         \n",
      " 0   title                  7486 non-null   object        \n",
      " 1   pu_number              7486 non-null   object        \n",
      " 2   show_start_date        7486 non-null   datetime64[ns]\n",
      " 3   type                   7486 non-null   object        \n",
      " 4   film_studio            7486 non-null   object        \n",
      " 5   production_country     7486 non-null   object        \n",
      " 6   director               7477 non-null   object        \n",
      " 7   producer               6918 non-null   object        \n",
      " 8   age_restriction        7486 non-null   object        \n",
      " 9   refundable_support     332 non-null    float64       \n",
      " 10  nonrefundable_support  332 non-null    float64       \n",
      " 11  budget                 332 non-null    float64       \n",
      " 12  financing_source       332 non-null    object        \n",
      " 13  ratings                6519 non-null   object        \n",
      " 14  genres                 6510 non-null   object        \n",
      "dtypes: datetime64[ns](1), float64(3), object(11)\n",
      "memory usage: 877.4+ KB\n",
      "None\n"
     ]
    }
   ],
   "source": [
    "print(movies_pass.info())"
   ]
  },
  {
   "cell_type": "code",
   "execution_count": 19,
   "id": "404bbc5f-d5d3-47bf-b5f1-962b3ad47a8f",
   "metadata": {},
   "outputs": [
    {
     "name": "stdout",
     "output_type": "stream",
     "text": [
      "                                                  title  pu_number  \\\n",
      "764   Три звезды. Концерт в Waldbuhne Theater, Берли...  126003512   \n",
      "1735                           Помпеи. Британский музей  126003413   \n",
      "3840                     Зур концерт (Большой концерт).  217027010   \n",
      "4052  Ганс Сэйфуллин \"Авылым чишмэлэре. Ганс Сэйфулл...  217017310   \n",
      "4298                        Изге Вэли (Святой Валентин)  217020610   \n",
      "4415                          Bon Jovi. The Circle Tour  126001710   \n",
      "4441                           Мульт личности. Выпуск 5  214000410   \n",
      "4923  Георг Фридрих Гендель. Мессия. Оратория. Корол...  126001111   \n",
      "4942             Питер Гэбриэл и New Blood Orchestra 3D  126002711   \n",
      "\n",
      "     show_start_date            type                   film_studio  \\\n",
      "764       2012-12-04          прочие            Райзинг Алтернатив   \n",
      "1735      2013-09-12          прочие  МортуСкрин, Британский музей   \n",
      "3840      2010-06-24  художественный            ООО \"Барс Рекордс\"   \n",
      "4052      2010-04-23  художественный            ООО \"Барс-Рекордс\"   \n",
      "4298      2010-05-21  художественный            ООО \"Барс Рекордс\"   \n",
      "4415      2010-11-11          прочие     Эншутц Интертейнмент Груп   \n",
      "4441      2010-01-25  художественный                           nan   \n",
      "4923      2011-04-26          прочие                      Опус Арт   \n",
      "4942      2011-11-12          прочие               Омниверс Визион   \n",
      "\n",
      "     production_country director                      producer  \\\n",
      "764      Великобритания      NaN               Вальдбюне Театр   \n",
      "1735     Великобритания      NaN              Британский музей   \n",
      "3840             Россия      NaN                           NaN   \n",
      "4052             Россия      NaN                           NaN   \n",
      "4298             Россия      NaN                           NaN   \n",
      "4415                США      NaN     Эншутц Интертейнмент Груп   \n",
      "4441                nan      NaN                           NaN   \n",
      "4923     Великобритания      NaN  Короевский колледж Кембриджа   \n",
      "4942     Великобритания      NaN               Омниверс Визион   \n",
      "\n",
      "                             age_restriction  refundable_support  \\\n",
      "764   «0+» - для любой зрительской аудитории                 NaN   \n",
      "1735  «0+» - для любой зрительской аудитории                 NaN   \n",
      "3840         «12+» - для детей старше 12 лет                 NaN   \n",
      "4052  «0+» - для любой зрительской аудитории                 NaN   \n",
      "4298         «12+» - для детей старше 12 лет                 NaN   \n",
      "4415  «0+» - для любой зрительской аудитории                 NaN   \n",
      "4441  «0+» - для любой зрительской аудитории                 NaN   \n",
      "4923  «0+» - для любой зрительской аудитории                 NaN   \n",
      "4942  «0+» - для любой зрительской аудитории                 NaN   \n",
      "\n",
      "      nonrefundable_support  budget financing_source ratings  \\\n",
      "764                     NaN     NaN              NaN     NaN   \n",
      "1735                    NaN     NaN              NaN     NaN   \n",
      "3840                    NaN     NaN              NaN     NaN   \n",
      "4052                    NaN     NaN              NaN     NaN   \n",
      "4298                    NaN     NaN              NaN     NaN   \n",
      "4415                    NaN     NaN              NaN     7.9   \n",
      "4441                    NaN     NaN              NaN     4.0   \n",
      "4923                    NaN     NaN              NaN     NaN   \n",
      "4942                    NaN     NaN              NaN     6.7   \n",
      "\n",
      "                  genres  \n",
      "764                  NaN  \n",
      "1735                 NaN  \n",
      "3840                 NaN  \n",
      "4052                 NaN  \n",
      "4298                 NaN  \n",
      "4415      концерт,музыка  \n",
      "4441  мультфильм,комедия  \n",
      "4923                 NaN  \n",
      "4942      концерт,музыка  \n"
     ]
    }
   ],
   "source": [
    "movies_pass['director'].value_counts()\n",
    "print(movies_pass[movies_pass['director'].isna()])"
   ]
  },
  {
   "cell_type": "markdown",
   "id": "dc0b9daf-8ff8-4f6b-891b-1f6d71193226",
   "metadata": {},
   "source": [
    "### Check directors"
   ]
  },
  {
   "cell_type": "code",
   "execution_count": 20,
   "id": "6069d6c5-c7ac-466f-a4b7-415d7c473641",
   "metadata": {},
   "outputs": [
    {
     "name": "stdout",
     "output_type": "stream",
     "text": [
      "<class 'pandas.core.frame.DataFrame'>\n",
      "RangeIndex: 7486 entries, 0 to 7485\n",
      "Data columns (total 15 columns):\n",
      " #   Column                 Non-Null Count  Dtype         \n",
      "---  ------                 --------------  -----         \n",
      " 0   title                  7486 non-null   object        \n",
      " 1   pu_number              7486 non-null   object        \n",
      " 2   show_start_date        7486 non-null   datetime64[ns]\n",
      " 3   type                   7486 non-null   object        \n",
      " 4   film_studio            7486 non-null   object        \n",
      " 5   production_country     7486 non-null   object        \n",
      " 6   director               7477 non-null   object        \n",
      " 7   producer               6918 non-null   object        \n",
      " 8   age_restriction        7486 non-null   object        \n",
      " 9   refundable_support     332 non-null    float64       \n",
      " 10  nonrefundable_support  332 non-null    float64       \n",
      " 11  budget                 332 non-null    float64       \n",
      " 12  financing_source       332 non-null    object        \n",
      " 13  ratings                6519 non-null   object        \n",
      " 14  genres                 6510 non-null   object        \n",
      "dtypes: datetime64[ns](1), float64(3), object(11)\n",
      "memory usage: 877.4+ KB\n"
     ]
    }
   ],
   "source": [
    "movies_pass.info()"
   ]
  },
  {
   "cell_type": "code",
   "execution_count": 21,
   "id": "b5c2e5f6-89f7-40cb-b86d-b5b2ef93d7ca",
   "metadata": {},
   "outputs": [],
   "source": [
    "# list(movies_pass.producer.unique())"
   ]
  },
  {
   "cell_type": "markdown",
   "id": "a16a7721-f0b3-4e5e-b289-64faa0bdae6c",
   "metadata": {},
   "source": [
    "### Check age_restriction"
   ]
  },
  {
   "cell_type": "code",
   "execution_count": 22,
   "id": "c50eb287-c44e-479d-be74-f20113c5ce0b",
   "metadata": {},
   "outputs": [
    {
     "data": {
      "text/plain": [
       "array(['«18+» - запрещено для детей', '«6+» - для детей старше 6 лет',\n",
       "       '«12+» - для детей старше 12 лет',\n",
       "       '«16+» - для детей старше 16 лет',\n",
       "       '«0+» - для любой зрительской аудитории'], dtype=object)"
      ]
     },
     "execution_count": 22,
     "metadata": {},
     "output_type": "execute_result"
    }
   ],
   "source": [
    "movies_pass.age_restriction.unique()"
   ]
  },
  {
   "cell_type": "markdown",
   "id": "5a8b1f8b-2df5-42d6-971e-858704f4dea0",
   "metadata": {},
   "source": [
    "Looks clear"
   ]
  },
  {
   "cell_type": "markdown",
   "id": "85db13d4-e620-4c66-ac44-dd768580f3c9",
   "metadata": {},
   "source": [
    "### Refundable support"
   ]
  },
  {
   "cell_type": "code",
   "execution_count": 23,
   "id": "002a41fd-304c-41e3-a80c-67cc816ff554",
   "metadata": {},
   "outputs": [
    {
     "data": {
      "image/png": "[encoded data removed]",
      "text/plain": [
       "<Figure size 640x480 with 1 Axes>"
      ]
     },
     "metadata": {},
     "output_type": "display_data"
    }
   ],
   "source": [
    "movies_pass.refundable_support.unique()\n",
    "# movies_pass.sort_values('refundable_support', ascending=False)\n",
    "movies_pass.query('refundable_support > 0'\n",
    "                 ).refundable_support.plot(kind='hist',bins=50, xlabel='amount of refundable support')\n",
    "movies_pass['refundable_support'] = movies_pass['refundable_support'].fillna(0).astype(int)"
   ]
  },
  {
   "cell_type": "markdown",
   "id": "a7b7ddde-ba59-460c-8e28-de3ba02452ff",
   "metadata": {},
   "source": [
    "### Non-refundable support"
   ]
  },
  {
   "cell_type": "code",
   "execution_count": 24,
   "id": "eb31bc2f-ecac-4d4f-8c7a-4ebf27b02b26",
   "metadata": {},
   "outputs": [
    {
     "data": {
      "image/png": "[encoded data removed]",
      "text/plain": [
       "<Figure size 640x480 with 1 Axes>"
      ]
     },
     "metadata": {},
     "output_type": "display_data"
    },
    {
     "data": {
      "image/png": "[encoded data removed]",
      "text/plain": [
       "<Figure size 640x480 with 1 Axes>"
      ]
     },
     "metadata": {},
     "output_type": "display_data"
    }
   ],
   "source": [
    "movies_pass.query('nonrefundable_support > 0'\n",
    "                 ).sort_values(by='nonrefundable_support', ascending=False\n",
    "                              ).plot(kind='hist',bins=100, y ='nonrefundable_support')\n",
    "movies_pass.nonrefundable_support = movies_pass.nonrefundable_support.fillna(0)\n",
    "movies_pass.query('nonrefundable_support > 0'\n",
    "                 ).sort_values(by='nonrefundable_support', ascending=False\n",
    "                              ).pivot_table(index='production_country',values='nonrefundable_support'\n",
    "                                       ).plot(kind='pie',y='nonrefundable_support')\n",
    "plt.legend().set_visible(False)\n",
    "plt.show\n",
    "movies_pass.nonrefundable_support = movies_pass.nonrefundable_support.fillna(0).astype(int)"
   ]
  },
  {
   "cell_type": "markdown",
   "id": "58e354b7-60e1-4dac-87dc-f56c49bcb9f0",
   "metadata": {},
   "source": [
    "### Budget"
   ]
  },
  {
   "cell_type": "code",
   "execution_count": 25,
   "id": "e88dbe2a-fe68-463d-a692-e19bb956f767",
   "metadata": {},
   "outputs": [
    {
     "data": {
      "text/plain": [
       "['Россия',\n",
       " 'Латвия, Россия, Франция',\n",
       " 'Россия, Украина',\n",
       " 'Италия, Россия',\n",
       " 'Польша, Россия, Украина',\n",
       " 'Великобритания, Германия, Россия',\n",
       " 'Германия, Россия',\n",
       " 'Армения, Россия',\n",
       " 'Россия, Словакия, Чехия',\n",
       " 'Латвия, Россия, Чешская Республика',\n",
       " 'Германия, Казахстан, Китай, Польша, Россия',\n",
       " 'Россия, Сербия',\n",
       " 'Грузия, Россия',\n",
       " 'Китай, Россия',\n",
       " 'Бельгия, Россия, Финляндия']"
      ]
     },
     "execution_count": 25,
     "metadata": {},
     "output_type": "execute_result"
    }
   ],
   "source": [
    "list(movies_pass.query('budget>0').production_country.unique())"
   ]
  },
  {
   "cell_type": "markdown",
   "id": "c6001f49-9770-4f66-a994-45bf5385e315",
   "metadata": {},
   "source": [
    "As we can see. All films with non 0 budget has Russia as their country of origin. "
   ]
  },
  {
   "cell_type": "markdown",
   "id": "722bda4c-8ee1-496e-85f4-aef6a541c0d2",
   "metadata": {},
   "source": [
    "### Financing sources"
   ]
  },
  {
   "cell_type": "code",
   "execution_count": 26,
   "id": "0b69a869-b1f4-4dea-b36e-b5ec9c6b71ca",
   "metadata": {
    "scrolled": true
   },
   "outputs": [
    {
     "data": {
      "text/plain": [
       "array([nan, 'Министерство культуры', 'Фонд кино',\n",
       "       'Министерство культуры, Фонд кино'], dtype=object)"
      ]
     },
     "execution_count": 26,
     "metadata": {},
     "output_type": "execute_result"
    }
   ],
   "source": [
    "movies_pass.financing_source.unique()"
   ]
  },
  {
   "cell_type": "markdown",
   "id": "2d85a7d8-9943-484d-b0db-56fcf8c2a77d",
   "metadata": {},
   "source": [
    "All financing sources are Russian goverment related"
   ]
  },
  {
   "cell_type": "markdown",
   "id": "94c4102a-296c-4f78-8f86-6598c70a96c0",
   "metadata": {},
   "source": [
    "### Ratings"
   ]
  },
  {
   "cell_type": "code",
   "execution_count": 27,
   "id": "e57d2d1e-6944-4e29-8d08-4fa46be61db0",
   "metadata": {},
   "outputs": [
    {
     "name": "stdout",
     "output_type": "stream",
     "text": [
      "95\n",
      "[7.2 6.6 6.8 7.7 8.3 8.  7.8 8.1 7.1 6.  7.4 5.8 8.7 6.3 6.9 5.  4.3 7.3\n",
      " 7.  6.4 nan 8.2 7.5 6.7 7.9 5.9 6.2 5.6 6.5 2.4 7.6 6.1 8.6 8.5 8.8 5.5\n",
      " 5.1 5.7 5.4 9.9 4.4 4.5 5.3 4.1 8.4 2.6 3.8 4.6 4.8 4.  3.  1.6 4.2 5.2\n",
      " 4.7 4.9 3.9 2.7 3.3 2.9 2.8 3.7 1.4 3.1 9.7 3.5 3.2 1.5 2.1 2.5 9.2 3.4\n",
      " 1.1 3.6 9.1 9.4 9.  1.9 1.  8.9 1.3 1.8 1.2 1.7 9.8]\n",
      "<class 'pandas.core.frame.DataFrame'>\n",
      "RangeIndex: 7486 entries, 0 to 7485\n",
      "Data columns (total 15 columns):\n",
      " #   Column                 Non-Null Count  Dtype         \n",
      "---  ------                 --------------  -----         \n",
      " 0   title                  7486 non-null   object        \n",
      " 1   pu_number              7486 non-null   object        \n",
      " 2   show_start_date        7486 non-null   datetime64[ns]\n",
      " 3   type                   7486 non-null   object        \n",
      " 4   film_studio            7486 non-null   object        \n",
      " 5   production_country     7486 non-null   object        \n",
      " 6   director               7477 non-null   object        \n",
      " 7   producer               6918 non-null   object        \n",
      " 8   age_restriction        7486 non-null   object        \n",
      " 9   refundable_support     7486 non-null   int64         \n",
      " 10  nonrefundable_support  7486 non-null   int64         \n",
      " 11  budget                 332 non-null    float64       \n",
      " 12  financing_source       332 non-null    object        \n",
      " 13  ratings                6519 non-null   float64       \n",
      " 14  genres                 6510 non-null   object        \n",
      "dtypes: datetime64[ns](1), float64(2), int64(2), object(10)\n",
      "memory usage: 877.4+ KB\n",
      "None\n"
     ]
    }
   ],
   "source": [
    "print(len(movies_pass.ratings.unique()))\n",
    "def convert_percentages(value):\n",
    "    if isinstance(value,str) and value.endswith('%'): # if value is a string and ends with %\n",
    "        value = value[:-1]\n",
    "        try:\n",
    "            return float(value) /10\n",
    "        except ValueError:\n",
    "            print(f'Invalid value encountered:{value}')\n",
    "    else:\n",
    "        return value\n",
    "        \n",
    "movies_pass.ratings = movies_pass.ratings.apply(convert_percentages\n",
    "                                               ).astype('float')\n",
    "                                                       \n",
    "print(movies_pass.ratings.unique())\n",
    "print(movies_pass.info())\n",
    "# movies_pass.pivot_table(index='age_restriction',values='ratings',aggfunc='mean')"
   ]
  },
  {
   "cell_type": "markdown",
   "id": "5db648dd-6379-44b8-92ec-4b7fc28b53e4",
   "metadata": {},
   "source": [
    "### Genres"
   ]
  },
  {
   "cell_type": "markdown",
   "id": "23b68f36-2afd-44d9-8f92-01b79222f226",
   "metadata": {},
   "source": [
    "Let's remove a single genre column and split repeated genres into separate columns"
   ]
  },
  {
   "cell_type": "code",
   "execution_count": 28,
   "id": "48069590-6391-45bb-a0a2-5a1b11fe0698",
   "metadata": {},
   "outputs": [
    {
     "data": {
      "text/plain": [
       "['боевик',\n",
       " 'драма',\n",
       " 'мелодрама',\n",
       " 'военный',\n",
       " 'фантастика',\n",
       " 'триллер',\n",
       " 'комедия',\n",
       " 'мюзикл',\n",
       " 'криминал',\n",
       " 'детектив',\n",
       " 'приключения',\n",
       " 'спорт',\n",
       " 'история',\n",
       " 'семейный',\n",
       " 'ужасы',\n",
       " 'мультфильм',\n",
       " 'короткометражка',\n",
       " 'фэнтези',\n",
       " 'биография',\n",
       " 'документальный',\n",
       " 'детский',\n",
       " 'музыка',\n",
       " 'вестерн',\n",
       " 'аниме',\n",
       " 'для взрослых',\n",
       " 'концерт',\n",
       " 'фильм-нуар',\n",
       " 'новости',\n",
       " 'реальное ТВ']"
      ]
     },
     "execution_count": 28,
     "metadata": {},
     "output_type": "execute_result"
    }
   ],
   "source": [
    "# Let's check all unique genres so there would be no duplicates\n",
    "genres = []\n",
    "def standardise_genres(row):\n",
    "    if isinstance(row['genres'], str):\n",
    "        for genre in row['genres'].split(','):\n",
    "            genre = genre.strip()\n",
    "            if genre not in genres:\n",
    "                genres.append(genre)\n",
    "    return row  \n",
    "\n",
    "\n",
    "# movies_pass[['genre1', 'genre2', 'genre3']] = movies_pass['genres'].str.split(',', expand=True).apply(lambda x: x.str.strip())\n",
    "# movies_pass = movies_pass.drop('genres',axis=1)\n",
    "movies_pass.apply(standardise_genres, axis=1)\n",
    "list(genres)"
   ]
  },
  {
   "cell_type": "markdown",
   "id": "894d63c7-05fc-4ceb-a1b4-1ff2b4ee3d94",
   "metadata": {},
   "source": [
    "No duplicates. All good man"
   ]
  },
  {
   "cell_type": "code",
   "execution_count": 29,
   "id": "ebf7e503-03d6-4bed-80d7-f7b8d92c5502",
   "metadata": {},
   "outputs": [
    {
     "data": {
      "text/html": [
       "<div>\n",
       "<style scoped>\n",
       "    .dataframe tbody tr th:only-of-type {\n",
       "        vertical-align: middle;\n",
       "    }\n",
       "\n",
       "    .dataframe tbody tr th {\n",
       "        vertical-align: top;\n",
       "    }\n",
       "\n",
       "    .dataframe thead th {\n",
       "        text-align: right;\n",
       "    }\n",
       "</style>\n",
       "<table border=\"1\" class=\"dataframe\">\n",
       "  <thead>\n",
       "    <tr style=\"text-align: right;\">\n",
       "      <th></th>\n",
       "      <th>title</th>\n",
       "      <th>pu_number</th>\n",
       "      <th>show_start_date</th>\n",
       "      <th>type</th>\n",
       "      <th>film_studio</th>\n",
       "      <th>production_country</th>\n",
       "      <th>director</th>\n",
       "      <th>producer</th>\n",
       "      <th>age_restriction</th>\n",
       "      <th>refundable_support</th>\n",
       "      <th>nonrefundable_support</th>\n",
       "      <th>budget</th>\n",
       "      <th>financing_source</th>\n",
       "      <th>ratings</th>\n",
       "      <th>genres</th>\n",
       "    </tr>\n",
       "  </thead>\n",
       "  <tbody>\n",
       "    <tr>\n",
       "      <th>0</th>\n",
       "      <td>Открытый простор</td>\n",
       "      <td>221048915</td>\n",
       "      <td>2015-11-27</td>\n",
       "      <td>художественный</td>\n",
       "      <td>Тачстоун Пикчерз, Кобальт Пикчерз, Бикон Пикче...</td>\n",
       "      <td>США</td>\n",
       "      <td>Кевин Костнер</td>\n",
       "      <td>Дэвид Валдес, Кевин Костнер, Джейк Эбертс</td>\n",
       "      <td>«18+» - запрещено для детей</td>\n",
       "      <td>0</td>\n",
       "      <td>0</td>\n",
       "      <td>NaN</td>\n",
       "      <td>NaN</td>\n",
       "      <td>7.2</td>\n",
       "      <td>боевик,драма,мелодрама</td>\n",
       "    </tr>\n",
       "    <tr>\n",
       "      <th>1</th>\n",
       "      <td>Особо важное задание</td>\n",
       "      <td>111013716</td>\n",
       "      <td>2016-09-14</td>\n",
       "      <td>художественный</td>\n",
       "      <td>Киностудия \"Мосфильм\"</td>\n",
       "      <td>СССР</td>\n",
       "      <td>Е.Матвеев</td>\n",
       "      <td>NaN</td>\n",
       "      <td>«6+» - для детей старше 6 лет</td>\n",
       "      <td>0</td>\n",
       "      <td>0</td>\n",
       "      <td>NaN</td>\n",
       "      <td>NaN</td>\n",
       "      <td>6.6</td>\n",
       "      <td>драма,военный</td>\n",
       "    </tr>\n",
       "  </tbody>\n",
       "</table>\n",
       "</div>"
      ],
      "text/plain": [
       "                  title  pu_number show_start_date            type  \\\n",
       "0      Открытый простор  221048915      2015-11-27  художественный   \n",
       "1  Особо важное задание  111013716      2016-09-14  художественный   \n",
       "\n",
       "                                         film_studio production_country  \\\n",
       "0  Тачстоун Пикчерз, Кобальт Пикчерз, Бикон Пикче...                США   \n",
       "1                              Киностудия \"Мосфильм\"               СССР   \n",
       "\n",
       "        director                                   producer  \\\n",
       "0  Кевин Костнер  Дэвид Валдес, Кевин Костнер, Джейк Эбертс   \n",
       "1      Е.Матвеев                                        NaN   \n",
       "\n",
       "                 age_restriction  refundable_support  nonrefundable_support  \\\n",
       "0    «18+» - запрещено для детей                   0                      0   \n",
       "1  «6+» - для детей старше 6 лет                   0                      0   \n",
       "\n",
       "   budget financing_source  ratings                  genres  \n",
       "0     NaN              NaN      7.2  боевик,драма,мелодрама  \n",
       "1     NaN              NaN      6.6           драма,военный  "
      ]
     },
     "execution_count": 29,
     "metadata": {},
     "output_type": "execute_result"
    }
   ],
   "source": [
    "movies_pass.head(2)"
   ]
  },
  {
   "cell_type": "code",
   "execution_count": 30,
   "id": "d1ca96f9-0ec8-417f-855f-02be90f35b5a",
   "metadata": {},
   "outputs": [
    {
     "data": {
      "text/html": [
       "<div>\n",
       "<style scoped>\n",
       "    .dataframe tbody tr th:only-of-type {\n",
       "        vertical-align: middle;\n",
       "    }\n",
       "\n",
       "    .dataframe tbody tr th {\n",
       "        vertical-align: top;\n",
       "    }\n",
       "\n",
       "    .dataframe thead th {\n",
       "        text-align: right;\n",
       "    }\n",
       "</style>\n",
       "<table border=\"1\" class=\"dataframe\">\n",
       "  <thead>\n",
       "    <tr style=\"text-align: right;\">\n",
       "      <th></th>\n",
       "      <th>title</th>\n",
       "      <th>pu_number</th>\n",
       "      <th>show_start_date</th>\n",
       "      <th>type</th>\n",
       "      <th>film_studio</th>\n",
       "      <th>production_country</th>\n",
       "      <th>director</th>\n",
       "      <th>producer</th>\n",
       "      <th>age_restriction</th>\n",
       "      <th>refundable_support</th>\n",
       "      <th>nonrefundable_support</th>\n",
       "      <th>budget</th>\n",
       "      <th>financing_source</th>\n",
       "      <th>ratings</th>\n",
       "      <th>genres</th>\n",
       "    </tr>\n",
       "  </thead>\n",
       "  <tbody>\n",
       "    <tr>\n",
       "      <th>43</th>\n",
       "      <td>Мемуары гейши (по роману Артура Голдена)</td>\n",
       "      <td>121000606</td>\n",
       "      <td>2012-12-14</td>\n",
       "      <td>художественный</td>\n",
       "      <td>Коламбия Пикчерз Корпорейшн, ДримУоркс ЭсКейДж...</td>\n",
       "      <td>США</td>\n",
       "      <td>Роб Маршалл</td>\n",
       "      <td>Стивен Спилберг, Люси Фишер, Дуглас Уик, Джон ...</td>\n",
       "      <td>«12+» - для детей старше 12 лет</td>\n",
       "      <td>0</td>\n",
       "      <td>0</td>\n",
       "      <td>NaN</td>\n",
       "      <td>NaN</td>\n",
       "      <td>NaN</td>\n",
       "      <td>NaN</td>\n",
       "    </tr>\n",
       "    <tr>\n",
       "      <th>150</th>\n",
       "      <td>Жди меня</td>\n",
       "      <td>111013615</td>\n",
       "      <td>2015-08-25</td>\n",
       "      <td>художественный</td>\n",
       "      <td>Киностудия \"Мосфильм\"</td>\n",
       "      <td>СССР</td>\n",
       "      <td>А.Столпер, Б.Иванов</td>\n",
       "      <td>NaN</td>\n",
       "      <td>«6+» - для детей старше 6 лет</td>\n",
       "      <td>0</td>\n",
       "      <td>0</td>\n",
       "      <td>NaN</td>\n",
       "      <td>NaN</td>\n",
       "      <td>NaN</td>\n",
       "      <td>NaN</td>\n",
       "    </tr>\n",
       "  </tbody>\n",
       "</table>\n",
       "</div>"
      ],
      "text/plain": [
       "                                        title  pu_number show_start_date  \\\n",
       "43   Мемуары гейши (по роману Артура Голдена)  121000606      2012-12-14   \n",
       "150                                  Жди меня  111013615      2015-08-25   \n",
       "\n",
       "               type                                        film_studio  \\\n",
       "43   художественный  Коламбия Пикчерз Корпорейшн, ДримУоркс ЭсКейДж...   \n",
       "150  художественный                              Киностудия \"Мосфильм\"   \n",
       "\n",
       "    production_country             director  \\\n",
       "43                 США          Роб Маршалл   \n",
       "150               СССР  А.Столпер, Б.Иванов   \n",
       "\n",
       "                                              producer  \\\n",
       "43   Стивен Спилберг, Люси Фишер, Дуглас Уик, Джон ...   \n",
       "150                                                NaN   \n",
       "\n",
       "                     age_restriction  refundable_support  \\\n",
       "43   «12+» - для детей старше 12 лет                   0   \n",
       "150    «6+» - для детей старше 6 лет                   0   \n",
       "\n",
       "     nonrefundable_support  budget financing_source  ratings genres  \n",
       "43                       0     NaN              NaN      NaN    NaN  \n",
       "150                      0     NaN              NaN      NaN    NaN  "
      ]
     },
     "execution_count": 30,
     "metadata": {},
     "output_type": "execute_result"
    }
   ],
   "source": [
    "movies_pass[movies_pass['genres'].isna()].head(2)"
   ]
  },
  {
   "cell_type": "markdown",
   "id": "4bfd8024-d733-4be6-896f-cc78836d7edf",
   "metadata": {},
   "source": [
    "Overall correction"
   ]
  },
  {
   "cell_type": "code",
   "execution_count": 31,
   "id": "9289e92c-0f66-4609-b44a-e444bd73a493",
   "metadata": {},
   "outputs": [
    {
     "name": "stdout",
     "output_type": "stream",
     "text": [
      "Unique in director\n",
      "было  4811\n",
      "стало 4800\n",
      "Unique in producer\n",
      "было  5349\n",
      "стало 5333\n",
      "Unique in film_studio\n",
      "было  5472\n",
      "стало 5444\n",
      "Unique in production_country\n",
      "было  675\n",
      "стало 675\n",
      "Unique in genres\n",
      "было  742\n",
      "стало 742\n"
     ]
    }
   ],
   "source": [
    "for column in [\n",
    "    'director',\n",
    "    'producer',\n",
    "    'film_studio',\n",
    "    'production_country',\n",
    "    'genres'\n",
    "]:\n",
    "    print('Unique in', column)\n",
    "    print('было ',movies_pass[column].nunique())\n",
    "\n",
    "    movies_pass[column] = movies_pass[column].dropna(       \n",
    "    ).apply(lambda x: ','\n",
    "            .join([x.strip() for x in x.split(',')])) \n",
    "    print('стало',movies_pass[column].nunique())"
   ]
  },
  {
   "cell_type": "markdown",
   "id": "14f095b1-0f6c-48b1-8daa-0e61ee9f69c6",
   "metadata": {},
   "source": [
    "## 2. Data correction of ru_rentals"
   ]
  },
  {
   "cell_type": "code",
   "execution_count": 32,
   "id": "e8030b96-d4a7-4d4d-8d59-0a36f0609faa",
   "metadata": {},
   "outputs": [
    {
     "name": "stdout",
     "output_type": "stream",
     "text": [
      "<class 'pandas.core.frame.DataFrame'>\n",
      "RangeIndex: 3158 entries, 0 to 3157\n",
      "Data columns (total 2 columns):\n",
      " #   Column      Non-Null Count  Dtype  \n",
      "---  ------      --------------  -----  \n",
      " 0   puNumber    3158 non-null   int64  \n",
      " 1   box_office  3158 non-null   float64\n",
      "dtypes: float64(1), int64(1)\n",
      "memory usage: 49.5 KB\n"
     ]
    }
   ],
   "source": [
    "ru_rentals.info()"
   ]
  },
  {
   "cell_type": "code",
   "execution_count": 33,
   "id": "821079a6-0b5c-4d78-ad2a-0dc77e7c4875",
   "metadata": {},
   "outputs": [
    {
     "data": {
      "text/html": [
       "<div>\n",
       "<style scoped>\n",
       "    .dataframe tbody tr th:only-of-type {\n",
       "        vertical-align: middle;\n",
       "    }\n",
       "\n",
       "    .dataframe tbody tr th {\n",
       "        vertical-align: top;\n",
       "    }\n",
       "\n",
       "    .dataframe thead th {\n",
       "        text-align: right;\n",
       "    }\n",
       "</style>\n",
       "<table border=\"1\" class=\"dataframe\">\n",
       "  <thead>\n",
       "    <tr style=\"text-align: right;\">\n",
       "      <th></th>\n",
       "      <th>puNumber</th>\n",
       "      <th>box_office</th>\n",
       "    </tr>\n",
       "  </thead>\n",
       "  <tbody>\n",
       "    <tr>\n",
       "      <th>0</th>\n",
       "      <td>111000113</td>\n",
       "      <td>2450.0</td>\n",
       "    </tr>\n",
       "    <tr>\n",
       "      <th>1</th>\n",
       "      <td>111000115</td>\n",
       "      <td>61040.0</td>\n",
       "    </tr>\n",
       "  </tbody>\n",
       "</table>\n",
       "</div>"
      ],
      "text/plain": [
       "    puNumber  box_office\n",
       "0  111000113      2450.0\n",
       "1  111000115     61040.0"
      ]
     },
     "execution_count": 33,
     "metadata": {},
     "output_type": "execute_result"
    }
   ],
   "source": [
    "ru_rentals.head(2)"
   ]
  },
  {
   "cell_type": "markdown",
   "id": "d94ba3b2-e5e8-4932-ae96-d02a446127c3",
   "metadata": {},
   "source": [
    "* `puNumber` — номер прокатного удостоверения;\n",
    "* `box_office` — сборы в рублях."
   ]
  },
  {
   "cell_type": "code",
   "execution_count": 34,
   "id": "1bb8fd49-d326-41b7-b253-6bcaefcda547",
   "metadata": {},
   "outputs": [
    {
     "data": {
      "text/plain": [
       "3158"
      ]
     },
     "execution_count": 34,
     "metadata": {},
     "output_type": "execute_result"
    }
   ],
   "source": [
    "len(ru_rentals.puNumber.unique())"
   ]
  },
  {
   "cell_type": "code",
   "execution_count": 35,
   "id": "454063ca-c5f7-4d86-a934-c30a49fc5fc0",
   "metadata": {},
   "outputs": [
    {
     "data": {
      "text/plain": [
       "count    3.158000e+03\n",
       "mean     7.647870e+07\n",
       "std      2.403531e+08\n",
       "min      0.000000e+00\n",
       "25%      8.623900e+04\n",
       "50%      2.327988e+06\n",
       "75%      2.397967e+07\n",
       "max      3.073569e+09\n",
       "Name: box_office, dtype: float64"
      ]
     },
     "execution_count": 35,
     "metadata": {},
     "output_type": "execute_result"
    },
    {
     "data": {
      "image/png": "[encoded data removed]",
      "text/plain": [
       "<Figure size 640x480 with 1 Axes>"
      ]
     },
     "metadata": {},
     "output_type": "display_data"
    }
   ],
   "source": [
    "ru_rentals.boxplot('box_office')\n",
    "ru_rentals.box_office.describe()"
   ]
  },
  {
   "cell_type": "code",
   "execution_count": 36,
   "id": "dfc55dba-0499-494c-9c2b-e57b62e147ff",
   "metadata": {},
   "outputs": [
    {
     "data": {
      "text/plain": [
       "np.int64(0)"
      ]
     },
     "execution_count": 36,
     "metadata": {},
     "output_type": "execute_result"
    }
   ],
   "source": [
    "ru_rentals.duplicated().sum()"
   ]
  },
  {
   "cell_type": "markdown",
   "id": "3eefae7b-4494-4011-a98c-a14f1d3de832",
   "metadata": {},
   "source": [
    "## 3. Adding columns "
   ]
  },
  {
   "cell_type": "markdown",
   "id": "7610ed67-cb42-492e-9681-d69fb185d3ec",
   "metadata": {},
   "source": [
    "### 3.1. Show start year"
   ]
  },
  {
   "cell_type": "code",
   "execution_count": 37,
   "id": "1f96cc42-3b0e-464c-91ee-6b4f787566a2",
   "metadata": {},
   "outputs": [
    {
     "data": {
      "text/html": [
       "<div>\n",
       "<style scoped>\n",
       "    .dataframe tbody tr th:only-of-type {\n",
       "        vertical-align: middle;\n",
       "    }\n",
       "\n",
       "    .dataframe tbody tr th {\n",
       "        vertical-align: top;\n",
       "    }\n",
       "\n",
       "    .dataframe thead th {\n",
       "        text-align: right;\n",
       "    }\n",
       "</style>\n",
       "<table border=\"1\" class=\"dataframe\">\n",
       "  <thead>\n",
       "    <tr style=\"text-align: right;\">\n",
       "      <th></th>\n",
       "      <th>title</th>\n",
       "      <th>pu_number</th>\n",
       "      <th>show_start_date</th>\n",
       "      <th>type</th>\n",
       "      <th>film_studio</th>\n",
       "      <th>production_country</th>\n",
       "      <th>director</th>\n",
       "      <th>producer</th>\n",
       "      <th>age_restriction</th>\n",
       "      <th>refundable_support</th>\n",
       "      <th>nonrefundable_support</th>\n",
       "      <th>budget</th>\n",
       "      <th>financing_source</th>\n",
       "      <th>ratings</th>\n",
       "      <th>genres</th>\n",
       "    </tr>\n",
       "  </thead>\n",
       "  <tbody>\n",
       "    <tr>\n",
       "      <th>7484</th>\n",
       "      <td>Машины песенки. Серия \"Испанские мотивы\"</td>\n",
       "      <td>124010619</td>\n",
       "      <td>2019-12-30</td>\n",
       "      <td>анимационный</td>\n",
       "      <td>Анимаккорд Лтд</td>\n",
       "      <td>Республика Кипр,Россия</td>\n",
       "      <td>А.Беляев</td>\n",
       "      <td>Д.Ловейко</td>\n",
       "      <td>«0+» - для любой зрительской аудитории</td>\n",
       "      <td>0</td>\n",
       "      <td>0</td>\n",
       "      <td>NaN</td>\n",
       "      <td>NaN</td>\n",
       "      <td>NaN</td>\n",
       "      <td>NaN</td>\n",
       "    </tr>\n",
       "    <tr>\n",
       "      <th>7485</th>\n",
       "      <td>Машины песенки. Серия \"Когда цветут кактусы\"</td>\n",
       "      <td>124010719</td>\n",
       "      <td>2019-12-30</td>\n",
       "      <td>анимационный</td>\n",
       "      <td>Анимаккорд Лтд</td>\n",
       "      <td>Республика Кипр,Россия</td>\n",
       "      <td>И.Трусов</td>\n",
       "      <td>Д.Ловейко</td>\n",
       "      <td>«0+» - для любой зрительской аудитории</td>\n",
       "      <td>0</td>\n",
       "      <td>0</td>\n",
       "      <td>NaN</td>\n",
       "      <td>NaN</td>\n",
       "      <td>6.3</td>\n",
       "      <td>комедия,вестерн</td>\n",
       "    </tr>\n",
       "  </tbody>\n",
       "</table>\n",
       "</div>"
      ],
      "text/plain": [
       "                                             title  pu_number show_start_date  \\\n",
       "7484      Машины песенки. Серия \"Испанские мотивы\"  124010619      2019-12-30   \n",
       "7485  Машины песенки. Серия \"Когда цветут кактусы\"  124010719      2019-12-30   \n",
       "\n",
       "              type     film_studio      production_country  director  \\\n",
       "7484  анимационный  Анимаккорд Лтд  Республика Кипр,Россия  А.Беляев   \n",
       "7485  анимационный  Анимаккорд Лтд  Республика Кипр,Россия  И.Трусов   \n",
       "\n",
       "       producer                         age_restriction  refundable_support  \\\n",
       "7484  Д.Ловейко  «0+» - для любой зрительской аудитории                   0   \n",
       "7485  Д.Ловейко  «0+» - для любой зрительской аудитории                   0   \n",
       "\n",
       "      nonrefundable_support  budget financing_source  ratings           genres  \n",
       "7484                      0     NaN              NaN      NaN              NaN  \n",
       "7485                      0     NaN              NaN      6.3  комедия,вестерн  "
      ]
     },
     "execution_count": 37,
     "metadata": {},
     "output_type": "execute_result"
    }
   ],
   "source": [
    "movies_pass.tail(2)"
   ]
  },
  {
   "cell_type": "code",
   "execution_count": 38,
   "id": "0715a501-1d13-4b99-acf4-7c968811f143",
   "metadata": {},
   "outputs": [],
   "source": [
    "movies_pass['show_start_year'] = movies_pass.show_start_date.dt.year"
   ]
  },
  {
   "cell_type": "code",
   "execution_count": 39,
   "id": "a4fa408f-fecd-40dd-a3b8-bad7818d7abc",
   "metadata": {},
   "outputs": [
    {
     "data": {
      "text/html": [
       "<div>\n",
       "<style scoped>\n",
       "    .dataframe tbody tr th:only-of-type {\n",
       "        vertical-align: middle;\n",
       "    }\n",
       "\n",
       "    .dataframe tbody tr th {\n",
       "        vertical-align: top;\n",
       "    }\n",
       "\n",
       "    .dataframe thead th {\n",
       "        text-align: right;\n",
       "    }\n",
       "</style>\n",
       "<table border=\"1\" class=\"dataframe\">\n",
       "  <thead>\n",
       "    <tr style=\"text-align: right;\">\n",
       "      <th></th>\n",
       "      <th>title</th>\n",
       "      <th>pu_number</th>\n",
       "      <th>show_start_date</th>\n",
       "      <th>type</th>\n",
       "      <th>film_studio</th>\n",
       "      <th>production_country</th>\n",
       "      <th>director</th>\n",
       "      <th>producer</th>\n",
       "      <th>age_restriction</th>\n",
       "      <th>refundable_support</th>\n",
       "      <th>nonrefundable_support</th>\n",
       "      <th>budget</th>\n",
       "      <th>financing_source</th>\n",
       "      <th>ratings</th>\n",
       "      <th>genres</th>\n",
       "      <th>show_start_year</th>\n",
       "    </tr>\n",
       "  </thead>\n",
       "  <tbody>\n",
       "    <tr>\n",
       "      <th>0</th>\n",
       "      <td>Открытый простор</td>\n",
       "      <td>221048915</td>\n",
       "      <td>2015-11-27</td>\n",
       "      <td>художественный</td>\n",
       "      <td>Тачстоун Пикчерз,Кобальт Пикчерз,Бикон Пикчерз...</td>\n",
       "      <td>США</td>\n",
       "      <td>Кевин Костнер</td>\n",
       "      <td>Дэвид Валдес,Кевин Костнер,Джейк Эбертс</td>\n",
       "      <td>«18+» - запрещено для детей</td>\n",
       "      <td>0</td>\n",
       "      <td>0</td>\n",
       "      <td>NaN</td>\n",
       "      <td>NaN</td>\n",
       "      <td>7.2</td>\n",
       "      <td>боевик,драма,мелодрама</td>\n",
       "      <td>2015</td>\n",
       "    </tr>\n",
       "    <tr>\n",
       "      <th>1</th>\n",
       "      <td>Особо важное задание</td>\n",
       "      <td>111013716</td>\n",
       "      <td>2016-09-14</td>\n",
       "      <td>художественный</td>\n",
       "      <td>Киностудия \"Мосфильм\"</td>\n",
       "      <td>СССР</td>\n",
       "      <td>Е.Матвеев</td>\n",
       "      <td>NaN</td>\n",
       "      <td>«6+» - для детей старше 6 лет</td>\n",
       "      <td>0</td>\n",
       "      <td>0</td>\n",
       "      <td>NaN</td>\n",
       "      <td>NaN</td>\n",
       "      <td>6.6</td>\n",
       "      <td>драма,военный</td>\n",
       "      <td>2016</td>\n",
       "    </tr>\n",
       "  </tbody>\n",
       "</table>\n",
       "</div>"
      ],
      "text/plain": [
       "                  title  pu_number show_start_date            type  \\\n",
       "0      Открытый простор  221048915      2015-11-27  художественный   \n",
       "1  Особо важное задание  111013716      2016-09-14  художественный   \n",
       "\n",
       "                                         film_studio production_country  \\\n",
       "0  Тачстоун Пикчерз,Кобальт Пикчерз,Бикон Пикчерз...                США   \n",
       "1                              Киностудия \"Мосфильм\"               СССР   \n",
       "\n",
       "        director                                 producer  \\\n",
       "0  Кевин Костнер  Дэвид Валдес,Кевин Костнер,Джейк Эбертс   \n",
       "1      Е.Матвеев                                      NaN   \n",
       "\n",
       "                 age_restriction  refundable_support  nonrefundable_support  \\\n",
       "0    «18+» - запрещено для детей                   0                      0   \n",
       "1  «6+» - для детей старше 6 лет                   0                      0   \n",
       "\n",
       "   budget financing_source  ratings                  genres  show_start_year  \n",
       "0     NaN              NaN      7.2  боевик,драма,мелодрама             2015  \n",
       "1     NaN              NaN      6.6           драма,военный             2016  "
      ]
     },
     "execution_count": 39,
     "metadata": {},
     "output_type": "execute_result"
    }
   ],
   "source": [
    "movies_pass.head(2)"
   ]
  },
  {
   "cell_type": "markdown",
   "id": "a89ac237-9279-48c9-a205-5d658777c4f3",
   "metadata": {},
   "source": [
    "### 3.2. Chief film director and main genre"
   ]
  },
  {
   "cell_type": "markdown",
   "id": "24d426c2-acad-46e6-845d-26bd81c60201",
   "metadata": {},
   "source": [
    "Let's check if we can bring a better version of current director's name and replace hidden duplicates"
   ]
  },
  {
   "cell_type": "code",
   "execution_count": 40,
   "id": "630e7835-70eb-4d78-b08d-0eef831869b8",
   "metadata": {},
   "outputs": [],
   "source": [
    "# Step 1: Extracting `director_last_name` and `chief_director` columns.\n",
    "movies_pass['director_last_name'] = (movies_pass['director']\n",
    "                                     .apply(lambda x: str(x).split(',')[0])\n",
    "                                     .replace(r'\\.', ' ', regex=True)\n",
    "                                     .str.split().str[-1]\n",
    "                                    )\n",
    "movies_pass['chief_director'] = (movies_pass['director']\n",
    "                                 .apply(lambda x: str(x).split(',')[0])\n",
    "                                )\n",
    "\n",
    "# Step 2: Creating a dictionary `longest_name_dict` where the key is the `director_last_name` and the value is the longest full name (excluding anything after the first comma) among all full names that share the same last name.\n",
    "unique_directors = movies_pass['director_last_name'].unique()\n",
    "\n",
    "longest_name_dict = {}\n",
    "for director in unique_directors:\n",
    "    matching_rows = movies_pass[movies_pass['director_last_name'] == director]\n",
    "    unique_chief_directors = matching_rows['chief_director'].unique()\n",
    "    if len(unique_chief_directors) > 0:\n",
    "        longest_name = sorted(unique_chief_directors, key=lambda x: len(x), reverse=True)[0]\n",
    "    else:\n",
    "        longest_name = None\n",
    "    longest_name_dict[director] = longest_name\n",
    "\n",
    "# Step 3: Updating the `chief_director` column such that if the first letter of the first name matches the first letter of the first name in the `longest_name` for a given last name, it should use the `longest_name`; otherwise, it should keep the original `chief_director` value.\n",
    "def update_chief_director(row):\n",
    "    director_last_name = row['director_last_name']\n",
    "    chief_director = row['chief_director']\n",
    "    \n",
    "    # Get the longest name for the given last name from the dictionary\n",
    "    longest_name = longest_name_dict.get(director_last_name, None)\n",
    "    \n",
    "    if longest_name is not None:\n",
    "        # Extract the first letter of the first name for the current chief_director\n",
    "        chief_director_first_letter = (chief_director\n",
    "                                       .replace('.', ' ')\n",
    "                                       .strip()\n",
    "                                       .split(' ')[0][0]\n",
    "                                       .upper()\n",
    "                                      )   \n",
    "        \n",
    "        # Extract the first letter of the first name for the longest_name\n",
    "        longest_name_first_letter = (longest_name\n",
    "                                     .replace('.', ' ')\n",
    "                                     .strip()\n",
    "                                     .split(' ')[0][0]\n",
    "                                     .upper()\n",
    "                                    )\n",
    "        # If the first letters match, return the longest_name; otherwise, return the chief_director\n",
    "        if chief_director_first_letter == longest_name_first_letter:\n",
    "            return longest_name\n",
    "        else:\n",
    "            return chief_director\n",
    "    else:\n",
    "        return chief_director\n",
    "\n",
    "# Apply the function to update the chief_director column\n",
    "movies_pass['chief_director'] = movies_pass.apply(update_chief_director, axis=1)\n",
    "movies_pass = movies_pass.drop('director_last_name', axis=1)"
   ]
  },
  {
   "cell_type": "code",
   "execution_count": 41,
   "id": "3b2ae052-dbaa-41d5-93bf-af1926e93df1",
   "metadata": {},
   "outputs": [
    {
     "name": "stdout",
     "output_type": "stream",
     "text": [
      "                    director       chief_director\n",
      "0              Кевин Костнер        Кевин Костнер\n",
      "1                  Е.Матвеев            Е.Матвеев\n",
      "2          Тимур Бекмамбетов    Тимур Бекмамбетов\n",
      "3          Тимур Бекмамбетов    Тимур Бекмамбетов\n",
      "4          Тимур Бекмамбетов    Тимур Бекмамбетов\n",
      "5               В.Абдрашитов         В.Абдрашитов\n",
      "6                  В.Меньшов            В.Меньшов\n",
      "7              Джон Туртурро        Джон Туртурро\n",
      "8               Эрик Беснард         Эрик Беснард\n",
      "9                    В.Титов              В.Титов\n",
      "10             Пол Грингросс        Пол Грингросс\n",
      "11             М.Туманишвили        М.Туманишвили\n",
      "12              Клинт Иствуд         Клинт Иствуд\n",
      "13       Фернанду Мейрелльеш  Фернанду Мейрелльеш\n",
      "14               Майк Фиггис         Майкл Фиггис\n",
      "15                А.Салтыков           А.Салтыков\n",
      "16                 Г.Данелия            Г.Данелия\n",
      "17                 А.Смирнов            А.Смирнов\n",
      "18                 Ю.Чулюкин            Ю.Чулюкин\n",
      "19  В.Краснопольский,В.Усков     В.Краснопольский\n",
      "20                М.Чиаурели           М.Чиаурели\n",
      "21           Лассе Халлстрем      Лассе Халлстрем\n",
      "22                  Л.Гайдай             Л.Гайдай\n",
      "23               В.Чеботарев   Владимир Чеботарев\n",
      "24                  В.Азаров             В.Азаров\n"
     ]
    }
   ],
   "source": [
    "print(movies_pass[['director', 'chief_director']].head(25))"
   ]
  },
  {
   "cell_type": "code",
   "execution_count": 42,
   "id": "a2a39056-7666-49ff-a43c-398c3528c5e5",
   "metadata": {
    "jupyter": {
     "source_hidden": true
    }
   },
   "outputs": [],
   "source": [
    "movies_pass['main_genre'] = (movies_pass['genres']\n",
    "                             .apply(lambda x: str(x).split(',')[0])\n",
    "                            )\n",
    "# print(movies_pass[['genres','main_genre']].head(15))"
   ]
  },
  {
   "cell_type": "markdown",
   "id": "2f3e69a0-a39b-4be6-864f-dbfabeab111b",
   "metadata": {},
   "source": [
    "### 3.3. Percentage of goverment_financed to the total budget"
   ]
  },
  {
   "cell_type": "code",
   "execution_count": 43,
   "id": "db2f1895-be2e-450a-a3b2-4a1b3f671b8c",
   "metadata": {},
   "outputs": [],
   "source": [
    "movies_pass['gov_financed'] = np.where(\n",
    "    movies_pass['budget'] != 0,\n",
    "    round(((movies_pass['nonrefundable_support'] + movies_pass['refundable_support']) / movies_pass['budget']) * 100, 2),\n",
    "    0\n",
    ")"
   ]
  },
  {
   "cell_type": "code",
   "execution_count": 44,
   "id": "4f69fffe-d6d1-4c05-be47-def61f9bedcb",
   "metadata": {},
   "outputs": [
    {
     "name": "stdout",
     "output_type": "stream",
     "text": [
      "                            title  pu_number show_start_date            type  \\\n",
      "1281                Пока еще жива  111005313      2013-10-12  художественный   \n",
      "1448          Бесславные придурки  111003314      2014-03-29  художественный   \n",
      "1498                    Невидимки  111004213      2013-09-10  художественный   \n",
      "1524                        БЕРЦЫ  111004314      2014-05-06  художественный   \n",
      "1792                     Братья Ч  111004414      2014-04-24  художественный   \n",
      "...                           ...        ...             ...             ...   \n",
      "7464                Союз спасения  111022019      2019-12-26  художественный   \n",
      "7466  Иван Царевич и Серый Волк 4  114005019      2019-12-20    анимационный   \n",
      "7474                    Вторжение  111022519      2019-12-24  художественный   \n",
      "7476                   Я свободен  111023019      2019-12-26  художественный   \n",
      "7478        (Не)идеальный мужчина  111023119      2019-12-24  художественный   \n",
      "\n",
      "                                            film_studio production_country  \\\n",
      "1281  АНО содействия развитию кинематографии \"Ангел-...             Россия   \n",
      "1448                         ООО \"Компания \"АТК-Студио\"             Россия   \n",
      "1498                        ООО \"Компания \"РЕАЛ-ДАКОТА\"             Россия   \n",
      "1524                             ООО \"Студия \"Пассажир\"             Россия   \n",
      "1792                             ООО \"Студия \"Пассажир\"             Россия   \n",
      "...                                                 ...                ...   \n",
      "7464                                ЗАО \"Дирекция кино\"             Россия   \n",
      "7466          ООО \"Студия анимационного кино \"Мельница\"             Россия   \n",
      "7474        ООО \"Арт Пикчерс Студия\",ООО \"Водород 2011\"             Россия   \n",
      "7476                АО \"ТПО \"Киностудия им. М.Горького\"             Россия   \n",
      "7478                            ООО \"Нон-Стоп Продакшн\"             Россия   \n",
      "\n",
      "                                  director  \\\n",
      "1281                            А.Атанесян   \n",
      "1448                             А.Якимчук   \n",
      "1498               Р.Давлетьяров,С.Комаров   \n",
      "1524  Е.Миндадзе (псевдоним Катя Шагалова)   \n",
      "1792                              М.Угаров   \n",
      "...                                    ...   \n",
      "7464                             А.Кравчук   \n",
      "7466                  Д.Шмидт,К.Феоктистов   \n",
      "7474                           Ф.Бондарчук   \n",
      "7476                             И.Северов   \n",
      "7478    М.Бальчюнас (псевдоним М.Вайсберг)   \n",
      "\n",
      "                                              producer  \\\n",
      "1281                    А.Атанесян,М.Бабаханов,Р.Бутко   \n",
      "1448                                        А.Тютрюмов   \n",
      "1498           Р.Давлетьяров,А.Котелевский,А.Олейников   \n",
      "1524                                        Л.Антонова   \n",
      "1792                             А.Миндадзе,Л.Антонова   \n",
      "...                                                ...   \n",
      "7464                                А.Максимов,К.Эрнст   \n",
      "7466                             С.Сельянов,А.Боярский   \n",
      "7474    Ф.Бондарчук,М.Врубель,А.Андрющенко,Д.Рудовский   \n",
      "7476                                          С.Зернов   \n",
      "7478  С.Мелькумов,А.Роднянский,М.Вайсберг,Р.Минасбекян   \n",
      "\n",
      "                      age_restriction  refundable_support  \\\n",
      "1281  «16+» - для детей старше 16 лет                   0   \n",
      "1448  «12+» - для детей старше 12 лет                   0   \n",
      "1498  «12+» - для детей старше 12 лет                   0   \n",
      "1524  «16+» - для детей старше 16 лет                   0   \n",
      "1792  «16+» - для детей старше 16 лет                   0   \n",
      "...                               ...                 ...   \n",
      "7464  «12+» - для детей старше 12 лет           100000000   \n",
      "7466    «6+» - для детей старше 6 лет           100000000   \n",
      "7474  «12+» - для детей старше 12 лет           100000000   \n",
      "7476  «12+» - для детей старше 12 лет                   0   \n",
      "7478  «12+» - для детей старше 12 лет            40000000   \n",
      "\n",
      "      nonrefundable_support       budget       financing_source  ratings  \\\n",
      "1281               26500000   79411900.0  Министерство культуры      8.1   \n",
      "1448               26000000   37142857.0  Министерство культуры      NaN   \n",
      "1498              107847945  176023490.0              Фонд кино      5.3   \n",
      "1524               28000000   40574140.0  Министерство культуры      4.2   \n",
      "1792               25000000   40015122.0  Министерство культуры      6.4   \n",
      "...                     ...          ...                    ...      ...   \n",
      "7464              400000000  980000000.0              Фонд кино      6.0   \n",
      "7466                      0  190000000.0              Фонд кино      6.7   \n",
      "7474              400000000  944000000.0              Фонд кино      5.7   \n",
      "7476               30000000   46154000.0  Министерство культуры      5.9   \n",
      "7478               60000000  150147502.0              Фонд кино      4.5   \n",
      "\n",
      "                               genres  show_start_year  \\\n",
      "1281                  драма,мелодрама             2013   \n",
      "1448                              NaN             2014   \n",
      "1498               комедия,фантастика             2013   \n",
      "1524                            драма             2014   \n",
      "1792                            драма             2014   \n",
      "...                               ...              ...   \n",
      "7464          история,биография,драма             2019   \n",
      "7466  мультфильм,приключения,семейный             2019   \n",
      "7474                фантастика,боевик             2019   \n",
      "7476                            драма             2019   \n",
      "7478     комедия,фантастика,мелодрама             2019   \n",
      "\n",
      "                              chief_director  main_genre  gov_financed  \n",
      "1281                              А.Атанесян       драма         33.37  \n",
      "1448                               А.Якимчук         nan         70.00  \n",
      "1498                           Р.Давлетьяров     комедия         61.27  \n",
      "1524    Е.Миндадзе (псевдоним Катя Шагалова)       драма         69.01  \n",
      "1792                                М.Угаров       драма         62.48  \n",
      "...                                      ...         ...           ...  \n",
      "7464                               А.Кравчук     история         51.02  \n",
      "7466                                 Д.Шмидт  мультфильм         52.63  \n",
      "7474                             Ф.Бондарчук  фантастика         52.97  \n",
      "7476                               И.Северов       драма         65.00  \n",
      "7478  М.Бальчюнас (псевдоним Марюс Вайсберг)     комедия         66.60  \n",
      "\n",
      "[315 rows x 19 columns]\n"
     ]
    }
   ],
   "source": [
    "print(movies_pass.query('gov_financed > 0'))"
   ]
  },
  {
   "cell_type": "markdown",
   "id": "8a09d185-2870-4ada-bd33-f0895bf01bd6",
   "metadata": {},
   "source": [
    "## 4. Data analysis"
   ]
  },
  {
   "cell_type": "markdown",
   "id": "b2203545-8dbe-49f0-949b-e1db60d9129d",
   "metadata": {},
   "source": [
    "### 4.1. Amount of films by year"
   ]
  },
  {
   "cell_type": "code",
   "execution_count": 45,
   "id": "e29b081a-8eda-4c41-94b6-e7f11c8d5293",
   "metadata": {},
   "outputs": [
    {
     "name": "stdout",
     "output_type": "stream",
     "text": [
      "<class 'pandas.core.frame.DataFrame'>\n",
      "RangeIndex: 7486 entries, 0 to 7485\n",
      "Data columns (total 19 columns):\n",
      " #   Column                 Non-Null Count  Dtype         \n",
      "---  ------                 --------------  -----         \n",
      " 0   title                  7486 non-null   object        \n",
      " 1   pu_number              7486 non-null   object        \n",
      " 2   show_start_date        7486 non-null   datetime64[ns]\n",
      " 3   type                   7486 non-null   object        \n",
      " 4   film_studio            7486 non-null   object        \n",
      " 5   production_country     7486 non-null   object        \n",
      " 6   director               7477 non-null   object        \n",
      " 7   producer               6918 non-null   object        \n",
      " 8   age_restriction        7486 non-null   object        \n",
      " 9   refundable_support     7486 non-null   int64         \n",
      " 10  nonrefundable_support  7486 non-null   int64         \n",
      " 11  budget                 332 non-null    float64       \n",
      " 12  financing_source       332 non-null    object        \n",
      " 13  ratings                6519 non-null   float64       \n",
      " 14  genres                 6510 non-null   object        \n",
      " 15  show_start_year        7486 non-null   int32         \n",
      " 16  chief_director         7486 non-null   object        \n",
      " 17  main_genre             7486 non-null   object        \n",
      " 18  gov_financed           332 non-null    float64       \n",
      "dtypes: datetime64[ns](1), float64(3), int32(1), int64(2), object(12)\n",
      "memory usage: 1.1+ MB\n"
     ]
    }
   ],
   "source": [
    "movies_pass.info()"
   ]
  },
  {
   "cell_type": "code",
   "execution_count": 46,
   "id": "64a88a98-98f8-4937-a1ef-5d6f8e1c0352",
   "metadata": {},
   "outputs": [
    {
     "data": {
      "text/plain": [
       "<Axes: xlabel='show_start_year'>"
      ]
     },
     "execution_count": 46,
     "metadata": {},
     "output_type": "execute_result"
    },
    {
     "data": {
      "image/png": "[encoded data removed]",
      "text/plain": [
       "<Figure size 640x480 with 1 Axes>"
      ]
     },
     "metadata": {},
     "output_type": "display_data"
    }
   ],
   "source": [
    "task_4_1 = ( \n",
    "    movies_pass\n",
    "    .groupby('show_start_year')['title']\n",
    "    .count()\n",
    "    .reset_index()\n",
    "    .rename(columns={'title': 'amount'})\n",
    "    )\n",
    "task_4_1.plot(\n",
    "        kind='bar',\n",
    "        y ='amount',\n",
    "        x='show_start_year')"
   ]
  },
  {
   "cell_type": "markdown",
   "id": "f5ac2933-fc5a-4c6c-8c11-9da6af632a60",
   "metadata": {},
   "source": [
    "### 4.2. Percentage of films with known box_office"
   ]
  },
  {
   "cell_type": "code",
   "execution_count": 47,
   "id": "11bf3916-c3a6-4516-96c4-b2db8d1bb065",
   "metadata": {},
   "outputs": [
    {
     "data": {
      "text/plain": [
       "np.int64(0)"
      ]
     },
     "execution_count": 47,
     "metadata": {},
     "output_type": "execute_result"
    }
   ],
   "source": [
    "ru_rentals.box_office.isna().sum()"
   ]
  },
  {
   "cell_type": "code",
   "execution_count": 48,
   "id": "2d5edee1-9f21-4b2b-a4fa-15826bb7b331",
   "metadata": {
    "scrolled": true
   },
   "outputs": [],
   "source": [
    "ru_rentals = ru_rentals.rename(columns={'puNumber' :'pu_number'})\n",
    "movies_pass['pu_number'] = pd.to_numeric(movies_pass['pu_number'], errors='coerce')"
   ]
  },
  {
   "cell_type": "code",
   "execution_count": 49,
   "id": "5f3196cc-b78f-47c2-a9c0-7aeee930684f",
   "metadata": {},
   "outputs": [],
   "source": [
    "task_4_2 = movies_pass.merge(ru_rentals, on='pu_number', how='inner')"
   ]
  },
  {
   "cell_type": "code",
   "execution_count": 50,
   "id": "d2c17706-0615-478e-a8e7-5c71f104156b",
   "metadata": {},
   "outputs": [
    {
     "data": {
      "text/plain": [
       "0.42"
      ]
     },
     "execution_count": 50,
     "metadata": {},
     "output_type": "execute_result"
    }
   ],
   "source": [
    "round(len(task_4_2)/len(movies_pass),2)"
   ]
  },
  {
   "cell_type": "code",
   "execution_count": 51,
   "id": "75e6ac4d-af4a-495b-b48e-fa23b6f946e8",
   "metadata": {},
   "outputs": [
    {
     "data": {
      "text/plain": [
       "<Axes: xlabel='show_start_year'>"
      ]
     },
     "execution_count": 51,
     "metadata": {},
     "output_type": "execute_result"
    },
    {
     "data": {
      "image/png": "[encoded data removed]",
      "text/plain": [
       "<Figure size 640x480 with 1 Axes>"
      ]
     },
     "metadata": {},
     "output_type": "display_data"
    }
   ],
   "source": [
    "task_4_2_1 = ( \n",
    "    task_4_2\n",
    "    .groupby('show_start_year')['title']\n",
    "    .count()\n",
    "    .reset_index()\n",
    "    .rename(columns={'title': 'amount'})\n",
    ")\n",
    "task_4_2_1.plot(\n",
    "        kind='bar',\n",
    "        y ='amount',\n",
    "        x='show_start_year')"
   ]
  },
  {
   "cell_type": "code",
   "execution_count": 52,
   "id": "4692d8ff-5506-42aa-97f3-94e05ab583e0",
   "metadata": {},
   "outputs": [
    {
     "name": "stdout",
     "output_type": "stream",
     "text": [
      "   show_start_year  amount_with_box  amount_without_box  known_box\n",
      "0             2010              105                 985       11.0\n",
      "1             2011              109                 622       18.0\n",
      "2             2012              127                 590       22.0\n",
      "3             2013              185                 633       29.0\n",
      "4             2014              279                 806       35.0\n",
      "5             2015              465                 706       66.0\n",
      "6             2016              526                 818       64.0\n",
      "7             2017              357                 505       71.0\n",
      "8             2018              475                 891       53.0\n",
      "9             2019              530                 930       57.0\n"
     ]
    }
   ],
   "source": [
    "task_4_2_2 = (task_4_2_1\n",
    "              .merge(\n",
    "                  task_4_1,\n",
    "                  on='show_start_year',\n",
    "                  how='left')\n",
    "              .rename(\n",
    "                  columns={'amount_x':'amount_with_box','amount_y' :'amount_without_box'})\n",
    "             )\n",
    "\n",
    "task_4_2_2['known_box'] = round((task_4_2_2.amount_with_box / task_4_2_2.amount_without_box)*100)\n",
    "print(task_4_2_2)"
   ]
  },
  {
   "cell_type": "code",
   "execution_count": 53,
   "id": "ea4490a8-63d9-4079-b48e-c2e4be7482a2",
   "metadata": {},
   "outputs": [
    {
     "data": {
      "text/plain": [
       "<Axes: xlabel='year', ylabel='%'>"
      ]
     },
     "execution_count": 53,
     "metadata": {},
     "output_type": "execute_result"
    },
    {
     "data": {
      "image/png": "[encoded data removed]",
      "text/plain": [
       "<Figure size 640x480 with 1 Axes>"
      ]
     },
     "metadata": {},
     "output_type": "display_data"
    }
   ],
   "source": [
    "task_4_2_2.plot(\n",
    "    kind = 'bar',\n",
    "    y = 'known_box',\n",
    "    x = 'show_start_year',\n",
    "    ylabel =  '%',\n",
    "    xlabel = 'year')\n"
   ]
  },
  {
   "cell_type": "markdown",
   "id": "0ddea67b-fcf9-4af1-89ff-cc510bc7474f",
   "metadata": {},
   "source": [
    "### 4.3. Box_office dynamics"
   ]
  },
  {
   "cell_type": "code",
   "execution_count": 54,
   "id": "ba7893da-3227-445e-b8c7-0947a0ffdc14",
   "metadata": {},
   "outputs": [
    {
     "name": "stdout",
     "output_type": "stream",
     "text": [
      "<class 'pandas.core.frame.DataFrame'>\n",
      "RangeIndex: 3158 entries, 0 to 3157\n",
      "Data columns (total 20 columns):\n",
      " #   Column                 Non-Null Count  Dtype         \n",
      "---  ------                 --------------  -----         \n",
      " 0   title                  3158 non-null   object        \n",
      " 1   pu_number              3158 non-null   float64       \n",
      " 2   show_start_date        3158 non-null   datetime64[ns]\n",
      " 3   type                   3158 non-null   object        \n",
      " 4   film_studio            3158 non-null   object        \n",
      " 5   production_country     3158 non-null   object        \n",
      " 6   director               3157 non-null   object        \n",
      " 7   producer               3042 non-null   object        \n",
      " 8   age_restriction        3158 non-null   object        \n",
      " 9   refundable_support     3158 non-null   int64         \n",
      " 10  nonrefundable_support  3158 non-null   int64         \n",
      " 11  budget                 318 non-null    float64       \n",
      " 12  financing_source       318 non-null    object        \n",
      " 13  ratings                2914 non-null   float64       \n",
      " 14  genres                 2909 non-null   object        \n",
      " 15  show_start_year        3158 non-null   int32         \n",
      " 16  chief_director         3158 non-null   object        \n",
      " 17  main_genre             3158 non-null   object        \n",
      " 18  gov_financed           318 non-null    float64       \n",
      " 19  box_office             3158 non-null   float64       \n",
      "dtypes: datetime64[ns](1), float64(5), int32(1), int64(2), object(11)\n",
      "memory usage: 481.2+ KB\n"
     ]
    }
   ],
   "source": [
    "task_4_2.info()"
   ]
  },
  {
   "cell_type": "code",
   "execution_count": 55,
   "id": "36d7d920-6691-4c54-abfb-77e23a510574",
   "metadata": {},
   "outputs": [],
   "source": [
    "task_4_3 = (task_4_2\n",
    "            .pivot_table(\n",
    "                index='show_start_year',\n",
    "                values='box_office',\n",
    "                aggfunc=(['count','mean','median','sum']))\n",
    "            .reset_index()\n",
    "               )\n",
    "task_4_3.columns = ['show_start_year','count','mean','median','sum']"
   ]
  },
  {
   "cell_type": "code",
   "execution_count": 56,
   "id": "53edac72-7622-4a85-9bb2-37767812b20e",
   "metadata": {},
   "outputs": [
    {
     "name": "stdout",
     "output_type": "stream",
     "text": [
      "   show_start_year  count          mean       median           sum\n",
      "0             2010    105  2.313004e+04     1700.000  2.428654e+06\n",
      "1             2011    109  1.293832e+05     3000.000  1.410276e+07\n",
      "2             2012    127  5.476278e+04     5760.000  6.954873e+06\n",
      "3             2013    185  1.610825e+05     3500.000  2.980026e+07\n",
      "4             2014    279  2.668442e+07    18160.000  7.444952e+09\n",
      "5             2015    465  8.494057e+07  4920933.000  3.949737e+10\n",
      "6             2016    526  9.100057e+07  3846679.410  4.786630e+10\n",
      "7             2017    357  1.360328e+08  9968340.000  4.856371e+10\n",
      "8             2018    475  1.045651e+08  8891102.210  4.966840e+10\n",
      "9             2019    530  9.136926e+07  4627798.345  4.842571e+10\n"
     ]
    }
   ],
   "source": [
    "print(task_4_3)"
   ]
  },
  {
   "cell_type": "code",
   "execution_count": 57,
   "id": "10f4c67e-cc60-438d-9c85-d2c0b242b85e",
   "metadata": {
    "scrolled": true
   },
   "outputs": [
    {
     "name": "stdout",
     "output_type": "stream",
     "text": [
      "Maximum amount of money in year 2018 \n",
      "Minimum amount of money in year 2010 \n"
     ]
    }
   ],
   "source": [
    "print(f'Maximum amount of money in year {task_4_3[task_4_3['sum'] == task_4_3['sum'].max()]['show_start_year'].values[0]} ')\n",
    "print(f'Minimum amount of money in year {task_4_3[task_4_3['sum'] == task_4_3['sum'].min()]['show_start_year'].values[0]} ')"
   ]
  },
  {
   "cell_type": "code",
   "execution_count": 58,
   "id": "3c10305b-bc3f-4b66-9209-c3b32b59eb72",
   "metadata": {},
   "outputs": [],
   "source": [
    "a = task_4_3[task_4_3['sum'] == task_4_3['sum'].max()]['show_start_year'].values[0]"
   ]
  },
  {
   "cell_type": "markdown",
   "id": "24c6c5fa-a734-44cf-a615-721627994aef",
   "metadata": {},
   "source": [
    "### 4.4. Find the dependecies between age_restriction and an mean/median box_office"
   ]
  },
  {
   "cell_type": "code",
   "execution_count": 59,
   "id": "b5c262a9-591e-45a1-aa53-9dcc4ccb2d7f",
   "metadata": {},
   "outputs": [
    {
     "name": "stdout",
     "output_type": "stream",
     "text": [
      "age_restriction  show_start_year  «0+» - для любой зрительской аудитории  \\\n",
      "0                           2010                            1.887611e+06   \n",
      "1                           2011                            1.349987e+07   \n",
      "2                           2012                            2.266483e+06   \n",
      "3                           2013                            2.710302e+06   \n",
      "4                           2014                            3.755623e+08   \n",
      "5                           2015                            3.790546e+08   \n",
      "6                           2016                            1.502288e+08   \n",
      "7                           2017                            2.295989e+08   \n",
      "8                           2018                            3.244900e+07   \n",
      "9                           2019                            1.774607e+07   \n",
      "\n",
      "age_restriction  «12+» - для детей старше 12 лет  \\\n",
      "0                                   1.201460e+05   \n",
      "1                                   2.198910e+05   \n",
      "2                                   1.087340e+05   \n",
      "3                                   2.091034e+07   \n",
      "4                                   2.584782e+09   \n",
      "5                                   1.361608e+10   \n",
      "6                                   1.220445e+10   \n",
      "7                                   7.851428e+09   \n",
      "8                                   1.426729e+10   \n",
      "9                                   1.268020e+10   \n",
      "\n",
      "age_restriction  «16+» - для детей старше 16 лет  «18+» - запрещено для детей  \\\n",
      "0                                   3.665120e+05                 5.438500e+04   \n",
      "1                                   3.815130e+05                 1.040000e+03   \n",
      "2                                   3.253666e+06                 1.825800e+05   \n",
      "3                                   6.586196e+05                 5.161246e+06   \n",
      "4                                   5.442801e+08                 2.209713e+09   \n",
      "5                                   1.136812e+10                 5.432308e+09   \n",
      "6                                   1.666455e+10                 6.793930e+09   \n",
      "7                                   1.874504e+10                 9.651496e+09   \n",
      "8                                   1.650360e+10                 8.760086e+09   \n",
      "9                                   1.275342e+10                 1.012180e+10   \n",
      "\n",
      "age_restriction  «6+» - для детей старше 6 лет  \n",
      "0                                          NaN  \n",
      "1                                 4.500000e+02  \n",
      "2                                 1.143410e+06  \n",
      "3                                 3.597520e+05  \n",
      "4                                 1.730614e+09  \n",
      "5                                 8.701799e+09  \n",
      "6                                 1.205315e+10  \n",
      "7                                 1.208614e+10  \n",
      "8                                 1.010497e+10  \n",
      "9                                 1.285255e+10  \n"
     ]
    }
   ],
   "source": [
    "task_4_4 = (task_4_2\n",
    "            .pivot_table(\n",
    "                index = 'show_start_year',\n",
    "                columns = 'age_restriction',\n",
    "                values = 'box_office',\n",
    "                aggfunc = 'sum'\n",
    "            ).reset_index()\n",
    "           )\n",
    "print(task_4_4)"
   ]
  },
  {
   "cell_type": "code",
   "execution_count": 60,
   "id": "f88c3bde-1523-44e5-9413-3e433fe253ca",
   "metadata": {},
   "outputs": [
    {
     "data": {
      "text/plain": [
       "<matplotlib.legend.Legend at 0x251de7d45f0>"
      ]
     },
     "execution_count": 60,
     "metadata": {},
     "output_type": "execute_result"
    },
    {
     "data": {
      "image/png": "[encoded data removed]",
      "text/plain": [
       "<Figure size 1500x600 with 1 Axes>"
      ]
     },
     "metadata": {},
     "output_type": "display_data"
    }
   ],
   "source": [
    "(task_4_4.plot(\n",
    "                title='Сборы по категориям',\n",
    "                xlabel='',\n",
    "                x = 'show_start_year',\n",
    "                figsize =(15,6),\n",
    "                xlim=[2015,2019]\n",
    "            )\n",
    "           )\n",
    "plt.xticks(np.arange(2015,2020,1))\n",
    "plt.legend(loc='lower right')\n",
    "# task_4_4.columns = ['show_start_year','age_restriction','sum']"
   ]
  },
  {
   "cell_type": "markdown",
   "id": "95b068ef-f34b-41a4-947b-26091e90e8e3",
   "metadata": {},
   "source": [
    "## 5. Government-funded films"
   ]
  },
  {
   "cell_type": "markdown",
   "id": "c43f2686-6f4a-474a-b2d2-e800d9706d01",
   "metadata": {},
   "source": [
    "### 5.1. Let's see the general statistics for the goverment-funded films"
   ]
  },
  {
   "cell_type": "code",
   "execution_count": 61,
   "id": "524ef3c0-506e-4b27-845c-dcf56a70995f",
   "metadata": {},
   "outputs": [],
   "source": [
    "gov_supported_movies = movies_pass.query('refundable_support>0 or nonrefundable_support>0')"
   ]
  },
  {
   "cell_type": "code",
   "execution_count": 62,
   "id": "36eff6d0-0299-4ce1-8124-18171c324cef",
   "metadata": {},
   "outputs": [
    {
     "name": "stdout",
     "output_type": "stream",
     "text": [
      "1281    33.37\n",
      "1448    70.00\n",
      "1498    61.27\n",
      "1524    69.01\n",
      "1792    62.48\n",
      "        ...  \n",
      "7464    51.02\n",
      "7466    52.63\n",
      "7474    52.97\n",
      "7476    65.00\n",
      "7478    66.60\n",
      "Name: gov_financed, Length: 332, dtype: float64\n"
     ]
    }
   ],
   "source": [
    "print(gov_supported_movies['gov_financed'])"
   ]
  },
  {
   "cell_type": "code",
   "execution_count": 63,
   "id": "8f1fe432-7622-423b-9eb5-0f36bb52e96f",
   "metadata": {},
   "outputs": [],
   "source": [
    "gov_supported_movies.loc[gov_supported_movies['gov_financed'] == 'inf', 'gov_financed'] = None"
   ]
  },
  {
   "cell_type": "code",
   "execution_count": 64,
   "id": "ede39fef-e087-4c9c-bd45-edd30af34c93",
   "metadata": {},
   "outputs": [
    {
     "name": "stdout",
     "output_type": "stream",
     "text": [
      "49\n"
     ]
    }
   ],
   "source": [
    "print(round(gov_supported_movies['gov_financed'].mean()))"
   ]
  },
  {
   "cell_type": "markdown",
   "id": "660308a1-ffc6-4f08-9eb7-256638e8695e",
   "metadata": {},
   "source": [
    "Average government-funded films gets half of it's budget covered by the government fundings"
   ]
  },
  {
   "cell_type": "code",
   "execution_count": 65,
   "id": "52e09e8b-4583-4130-b54c-4792a237b18e",
   "metadata": {},
   "outputs": [
    {
     "name": "stdout",
     "output_type": "stream",
     "text": [
      "<class 'pandas.core.frame.DataFrame'>\n",
      "Index: 332 entries, 1281 to 7478\n",
      "Data columns (total 19 columns):\n",
      " #   Column                 Non-Null Count  Dtype         \n",
      "---  ------                 --------------  -----         \n",
      " 0   title                  332 non-null    object        \n",
      " 1   pu_number              332 non-null    float64       \n",
      " 2   show_start_date        332 non-null    datetime64[ns]\n",
      " 3   type                   332 non-null    object        \n",
      " 4   film_studio            332 non-null    object        \n",
      " 5   production_country     332 non-null    object        \n",
      " 6   director               332 non-null    object        \n",
      " 7   producer               330 non-null    object        \n",
      " 8   age_restriction        332 non-null    object        \n",
      " 9   refundable_support     332 non-null    int64         \n",
      " 10  nonrefundable_support  332 non-null    int64         \n",
      " 11  budget                 332 non-null    float64       \n",
      " 12  financing_source       332 non-null    object        \n",
      " 13  ratings                316 non-null    float64       \n",
      " 14  genres                 316 non-null    object        \n",
      " 15  show_start_year        332 non-null    int32         \n",
      " 16  chief_director         332 non-null    object        \n",
      " 17  main_genre             332 non-null    object        \n",
      " 18  gov_financed           332 non-null    float64       \n",
      "dtypes: datetime64[ns](1), float64(4), int32(1), int64(2), object(11)\n",
      "memory usage: 50.6+ KB\n"
     ]
    }
   ],
   "source": [
    "gov_supported_movies.info()"
   ]
  },
  {
   "cell_type": "code",
   "execution_count": 66,
   "id": "331c4d99-810b-47b3-8ac6-e90754bf22a8",
   "metadata": {},
   "outputs": [],
   "source": [
    "columns_to_modify = ['refundable_support','nonrefundable_support']\n",
    "def iqr(df, columns, iqr_multiplier=1.5):\n",
    "    \n",
    "    # Create the mask to keep all rows initially \n",
    "    keep_mask = pd.Series(True,index=df.index)\n",
    "    \n",
    "    for column in columns:\n",
    "        q1 = df[column].quantile(0.25)\n",
    "        q3 = df[column].quantile(0.75)\n",
    "        iqr = q3 - q1\n",
    "\n",
    "        # Update the mask to incllude only rows within interquartile range\n",
    "        column_mask = (df[column] >= q1 - iqr_multiplier * iqr) & (df[column] <= q3 + iqr_multiplier * iqr)\n",
    "        keep_mask &= column_mask\n",
    "    \n",
    "    return df[keep_mask]   \n",
    "\n",
    "filt_gov_sup_movies= iqr(gov_supported_movies,columns_to_modify)"
   ]
  },
  {
   "cell_type": "code",
   "execution_count": 67,
   "id": "faed5264-7a80-4f33-9fa5-3ff6a0866c68",
   "metadata": {},
   "outputs": [
    {
     "data": {
      "text/plain": [
       "<Axes: title={'center': 'refundable_support'}, xlabel='10th of millions', ylabel='Frequency'>"
      ]
     },
     "execution_count": 67,
     "metadata": {},
     "output_type": "execute_result"
    },
    {
     "data": {
      "image/png": "[encoded data removed]",
      "text/plain": [
       "<Figure size 640x480 with 1 Axes>"
      ]
     },
     "metadata": {},
     "output_type": "display_data"
    }
   ],
   "source": [
    "(filt_gov_sup_movies.loc[filt_gov_sup_movies['refundable_support'] !=0, 'refundable_support']\n",
    " .plot(\n",
    "     kind='hist',\n",
    "     title='refundable_support',\n",
    "     bins=100,\n",
    "     xlabel = '10th of millions')\n",
    ")"
   ]
  },
  {
   "cell_type": "code",
   "execution_count": 68,
   "id": "77ab56b4-2900-4a92-9643-188c388c1d88",
   "metadata": {},
   "outputs": [
    {
     "data": {
      "text/plain": [
       "<Axes: title={'center': 'nonrefundable_support'}, xlabel='10th of millions', ylabel='Frequency'>"
      ]
     },
     "execution_count": 68,
     "metadata": {},
     "output_type": "execute_result"
    },
    {
     "data": {
      "image/png": "[encoded data removed]",
      "text/plain": [
       "<Figure size 640x480 with 1 Axes>"
      ]
     },
     "metadata": {},
     "output_type": "display_data"
    }
   ],
   "source": [
    "(filt_gov_sup_movies.loc[filt_gov_sup_movies['nonrefundable_support'] !=0, 'nonrefundable_support']\n",
    " .plot(\n",
    "     kind='hist',\n",
    "     title='nonrefundable_support',\n",
    "     bins=100,\n",
    "     xlabel = '10th of millions')\n",
    ")"
   ]
  },
  {
   "cell_type": "markdown",
   "id": "2767fa5a-5e59-4604-8652-1303e389c478",
   "metadata": {},
   "source": [
    "### 5.2. Check if movies were actually profitable"
   ]
  },
  {
   "cell_type": "code",
   "execution_count": 69,
   "id": "b2dfe6bf-cdf1-4f37-943e-7b1be5ac6dd6",
   "metadata": {},
   "outputs": [
    {
     "data": {
      "text/html": [
       "<div>\n",
       "<style scoped>\n",
       "    .dataframe tbody tr th:only-of-type {\n",
       "        vertical-align: middle;\n",
       "    }\n",
       "\n",
       "    .dataframe tbody tr th {\n",
       "        vertical-align: top;\n",
       "    }\n",
       "\n",
       "    .dataframe thead th {\n",
       "        text-align: right;\n",
       "    }\n",
       "</style>\n",
       "<table border=\"1\" class=\"dataframe\">\n",
       "  <thead>\n",
       "    <tr style=\"text-align: right;\">\n",
       "      <th></th>\n",
       "      <th>budget</th>\n",
       "      <th>refundable_support</th>\n",
       "      <th>nonrefundable_support</th>\n",
       "    </tr>\n",
       "  </thead>\n",
       "  <tbody>\n",
       "    <tr>\n",
       "      <th>1281</th>\n",
       "      <td>79411900.0</td>\n",
       "      <td>0</td>\n",
       "      <td>26500000</td>\n",
       "    </tr>\n",
       "    <tr>\n",
       "      <th>1448</th>\n",
       "      <td>37142857.0</td>\n",
       "      <td>0</td>\n",
       "      <td>26000000</td>\n",
       "    </tr>\n",
       "    <tr>\n",
       "      <th>1524</th>\n",
       "      <td>40574140.0</td>\n",
       "      <td>0</td>\n",
       "      <td>28000000</td>\n",
       "    </tr>\n",
       "    <tr>\n",
       "      <th>1792</th>\n",
       "      <td>40015122.0</td>\n",
       "      <td>0</td>\n",
       "      <td>25000000</td>\n",
       "    </tr>\n",
       "    <tr>\n",
       "      <th>1854</th>\n",
       "      <td>51850000.0</td>\n",
       "      <td>0</td>\n",
       "      <td>25000000</td>\n",
       "    </tr>\n",
       "    <tr>\n",
       "      <th>1871</th>\n",
       "      <td>86210067.0</td>\n",
       "      <td>0</td>\n",
       "      <td>46502299</td>\n",
       "    </tr>\n",
       "    <tr>\n",
       "      <th>1912</th>\n",
       "      <td>48571430.0</td>\n",
       "      <td>0</td>\n",
       "      <td>34000000</td>\n",
       "    </tr>\n",
       "    <tr>\n",
       "      <th>1987</th>\n",
       "      <td>80000000.0</td>\n",
       "      <td>26000000</td>\n",
       "      <td>30000000</td>\n",
       "    </tr>\n",
       "    <tr>\n",
       "      <th>1991</th>\n",
       "      <td>36259500.0</td>\n",
       "      <td>0</td>\n",
       "      <td>25000000</td>\n",
       "    </tr>\n",
       "    <tr>\n",
       "      <th>1997</th>\n",
       "      <td>70876172.0</td>\n",
       "      <td>0</td>\n",
       "      <td>25000000</td>\n",
       "    </tr>\n",
       "    <tr>\n",
       "      <th>2005</th>\n",
       "      <td>252489571.0</td>\n",
       "      <td>30000000</td>\n",
       "      <td>40000000</td>\n",
       "    </tr>\n",
       "    <tr>\n",
       "      <th>2014</th>\n",
       "      <td>74910000.0</td>\n",
       "      <td>0</td>\n",
       "      <td>28000000</td>\n",
       "    </tr>\n",
       "    <tr>\n",
       "      <th>2053</th>\n",
       "      <td>0.0</td>\n",
       "      <td>0</td>\n",
       "      <td>23000000</td>\n",
       "    </tr>\n",
       "    <tr>\n",
       "      <th>2084</th>\n",
       "      <td>89782312.0</td>\n",
       "      <td>0</td>\n",
       "      <td>45000000</td>\n",
       "    </tr>\n",
       "    <tr>\n",
       "      <th>2092</th>\n",
       "      <td>436437176.0</td>\n",
       "      <td>0</td>\n",
       "      <td>56579055</td>\n",
       "    </tr>\n",
       "  </tbody>\n",
       "</table>\n",
       "</div>"
      ],
      "text/plain": [
       "           budget  refundable_support  nonrefundable_support\n",
       "1281   79411900.0                   0               26500000\n",
       "1448   37142857.0                   0               26000000\n",
       "1524   40574140.0                   0               28000000\n",
       "1792   40015122.0                   0               25000000\n",
       "1854   51850000.0                   0               25000000\n",
       "1871   86210067.0                   0               46502299\n",
       "1912   48571430.0                   0               34000000\n",
       "1987   80000000.0            26000000               30000000\n",
       "1991   36259500.0                   0               25000000\n",
       "1997   70876172.0                   0               25000000\n",
       "2005  252489571.0            30000000               40000000\n",
       "2014   74910000.0                   0               28000000\n",
       "2053          0.0                   0               23000000\n",
       "2084   89782312.0                   0               45000000\n",
       "2092  436437176.0                   0               56579055"
      ]
     },
     "execution_count": 69,
     "metadata": {},
     "output_type": "execute_result"
    }
   ],
   "source": [
    "filt_gov_sup_movies[['budget','refundable_support','nonrefundable_support']].head(15)"
   ]
  },
  {
   "cell_type": "code",
   "execution_count": 70,
   "id": "1e223674-7227-4e7d-81f8-f2e58d607053",
   "metadata": {},
   "outputs": [
    {
     "name": "stdout",
     "output_type": "stream",
     "text": [
      "9\n",
      "      budget  refundable_support  nonrefundable_support\n",
      "2053     0.0                   0               23000000\n",
      "2684     0.0                   0               59000000\n",
      "2788     0.0                   0               35000000\n",
      "2874     0.0                   0                6000000\n",
      "3047     0.0            19000000               51000000\n",
      "3675     0.0            20000000               20000000\n",
      "3739     0.0            25000000               20000000\n",
      "5673     0.0            20000000               40000000\n",
      "5806     0.0            10000000               60000000\n"
     ]
    }
   ],
   "source": [
    "print(len\n",
    "      (filt_gov_sup_movies.query('budget < (refundable_support+nonrefundable_support)'))\n",
    "     )\n",
    "print(filt_gov_sup_movies[['budget','refundable_support','nonrefundable_support']]\n",
    "      .query('budget < (refundable_support+nonrefundable_support)')\n",
    "     )"
   ]
  },
  {
   "cell_type": "markdown",
   "id": "d4e823af-8c21-44fa-9f34-eb51085067a8",
   "metadata": {},
   "source": [
    "I think if set set the budget of these films to the sum of both `nonrefundable_support` and `refundable_support` it would not bring that much of a chaos into data structure"
   ]
  },
  {
   "cell_type": "code",
   "execution_count": 71,
   "id": "f2bf3f57-ec3a-4015-84db-2eebf001045e",
   "metadata": {},
   "outputs": [],
   "source": [
    "filt_gov_sup_movies.loc[\n",
    " filt_gov_sup_movies.query('budget < (refundable_support+nonrefundable_support)')\n",
    " .index,'budget'\n",
    " ] = (filt_gov_sup_movies['refundable_support'] + filt_gov_sup_movies['nonrefundable_support'])"
   ]
  },
  {
   "cell_type": "markdown",
   "id": "94a44bf7-782a-4f09-9e36-2fdf3ced6f51",
   "metadata": {},
   "source": [
    "Let's check if code does what it's supposed to do"
   ]
  },
  {
   "cell_type": "code",
   "execution_count": 72,
   "id": "add5e9f1-a4ce-4872-a155-2e32f411afa0",
   "metadata": {},
   "outputs": [
    {
     "name": "stdout",
     "output_type": "stream",
     "text": [
      "0\n"
     ]
    }
   ],
   "source": [
    "print(len\n",
    "      (filt_gov_sup_movies.query('budget < (refundable_support+nonrefundable_support)'))\n",
    "     )"
   ]
  },
  {
   "cell_type": "code",
   "execution_count": null,
   "id": "4c7d52bc-5baa-4f61-b05f-a6a42520e787",
   "metadata": {},
   "outputs": [],
   "source": [
    "def profitable_check:\n",
    "    if filt_gov_sup_movies['budget'] <\n",
    "    filt_gov_sup_movies['profitable'] =True"
   ]
  },
  {
   "cell_type": "code",
   "execution_count": null,
   "id": "77d632ac-8f84-4a94-85f5-b580fcd16e17",
   "metadata": {},
   "outputs": [],
   "source": []
  },
  {
   "cell_type": "code",
   "execution_count": null,
   "id": "1ecc0b98-db82-492b-8df8-9c79109a05f4",
   "metadata": {},
   "outputs": [],
   "source": [
    "data_fergana = pd.read_excel(r'C:\\Users\\stazher3\\Desktop\\Ферганское водохранилище.xlsx',sheet='данные')"
   ]
  },
  {
   "cell_type": "code",
   "execution_count": null,
   "id": "0e8ea601-3979-49c8-9041-e8171f0b47ef",
   "metadata": {},
   "outputs": [],
   "source": []
  },
  {
   "cell_type": "code",
   "execution_count": null,
   "id": "c963c68e-52cc-4a37-b5c3-3e91f35a6dc4",
   "metadata": {},
   "outputs": [],
   "source": []
  }
 ],
 "metadata": {
  "kernelspec": {
   "display_name": "Python 3 (ipykernel)",
   "language": "python",
   "name": "python3"
  },
  "language_info": {
   "codemirror_mode": {
    "name": "ipython",
    "version": 3
   },
   "file_extension": ".py",
   "mimetype": "text/x-python",
   "name": "python",
   "nbconvert_exporter": "python",
   "pygments_lexer": "ipython3",
   "version": "3.12.3"
  }
 },
 "nbformat": 4,
 "nbformat_minor": 5
}
