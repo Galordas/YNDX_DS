{
 "cells": [
  {
   "cell_type": "markdown",
   "id": "267fd804-435d-4ca5-be8c-d257a71a7e44",
   "metadata": {},
   "source": [
    "## 3. Изменение типов данных"
   ]
  },
  {
   "cell_type": "markdown",
   "id": "add01b7d-9d74-46fe-80e1-7ed6dbda27e2",
   "metadata": {},
   "source": [
    "## 3.1. Чтение файлов из excel"
   ]
  },
  {
   "cell_type": "code",
   "execution_count": 1,
   "id": "74da0884-4ed0-4ee7-ac94-8e9b6bfd3ef8",
   "metadata": {},
   "outputs": [
    {
     "name": "stdout",
     "output_type": "stream",
     "text": [
      "  subcategory_id  source         visits\n",
      "0     cf2e61c7af  direct  501165.668858\n",
      "1     0cd903d1cc  direct  126342.359505\n",
      "2     ef35bc88a7  direct   95626.321402\n",
      "3     6ff9f4014c  direct   75680.653002\n",
      "4     72bc238e4d  direct   64435.934651\n",
      "5     88c78ea685  direct   39638.202995\n",
      "6     179bfacf4a  direct   31007.471245\n",
      "7     b0fb8f259a  direct   30324.097324\n",
      "8     3c67eb2d90  direct   25878.814329\n",
      "9     24e6c815c6  direct   25276.373358\n",
      "\n",
      "Index(['subcategory_id', 'source', 'visits'], dtype='object')\n",
      "\n",
      "<class 'pandas.core.frame.DataFrame'>\n",
      "RangeIndex: 1930 entries, 0 to 1929\n",
      "Data columns (total 3 columns):\n",
      " #   Column          Non-Null Count  Dtype \n",
      "---  ------          --------------  ----- \n",
      " 0   subcategory_id  1930 non-null   object\n",
      " 1   source          1930 non-null   object\n",
      " 2   visits          1930 non-null   object\n",
      "dtypes: object(3)\n",
      "memory usage: 45.4+ KB\n",
      "None\n",
      "\n",
      "['traffic_data', 'subcategory_ids', 'category_ids']\n"
     ]
    }
   ],
   "source": [
    "import pandas as pd\n",
    "\n",
    "traffic_data = pd.read_excel(r'E:\\COURSES\\Кодинг\\[Yandex praxis]. DS specialist + (2022)\\2\\[SuperSliv.biz] 03 Изменение типов данных\\04 work\\seo_data.xlsx', sheet_name ='traffic_data')\n",
    "\n",
    "print(traffic_data.head(10))\n",
    "print()\n",
    "print(traffic_data.columns)\n",
    "print()\n",
    "print(traffic_data.info())\n",
    "print()\n",
    "\n",
    "#read excel sheets names:\n",
    "print(list(pd.read_excel(r'E:\\COURSES\\Кодинг\\[Yandex praxis]. DS specialist + (2022)\\2\\[SuperSliv.biz] 03 Изменение типов данных\\04 work\\seo_data.xlsx', sheet_name = None).keys()))"
   ]
  },
  {
   "cell_type": "markdown",
   "id": "7c5fc117-632a-4c45-9715-6b32f8909c9c",
   "metadata": {},
   "source": [
    "Пока в первых 5 строчках таблицы виден только один источник трафика `direct`. Проверьте, какие источники есть в столбце `source`. Выведите на экран список уникальных значений этого столбца\n"
   ]
  },
  {
   "cell_type": "code",
   "execution_count": 3,
   "id": "219b06cc-4792-4956-b3de-05b026c72b9f",
   "metadata": {},
   "outputs": [
    {
     "name": "stdout",
     "output_type": "stream",
     "text": [
      "['direct' 'organic']\n"
     ]
    }
   ],
   "source": [
    "print(traffic_data['source'].unique())"
   ]
  },
  {
   "cell_type": "code",
   "execution_count": 4,
   "id": "40ed89d1-7692-4c57-817f-e52f8e79977d",
   "metadata": {},
   "outputs": [
    {
     "name": "stdout",
     "output_type": "stream",
     "text": [
      "  subcategory_id                subcategory_name category_id\n",
      "0     cf2e61c7af              Мобильные телефоны  09f279a643\n",
      "1     0cd903d1cc                        Ноутбуки  3509869a61\n",
      "2     ef35bc88a7                      Телевизоры  09f279a643\n",
      "3     6ff9f4014c                        Планшеты  3509869a61\n",
      "4     72bc238e4d  Наушники и Bluetooth-гарнитуры  09f279a643\n",
      "5     88c78ea685                            Шины  65922fa39c\n",
      "6     179bfacf4a           Умные часы и браслеты  09f279a643\n",
      "7     b0fb8f259a                        Мониторы  3509869a61\n",
      "8     3c67eb2d90                   Наручные часы  6074ad29ac\n",
      "9     24e6c815c6  Лекарственные препараты и БАДы  10a493e03b\n",
      "\n",
      "Index(['subcategory_id', 'subcategory_name', 'category_id'], dtype='object')\n",
      "\n",
      "<class 'pandas.core.frame.DataFrame'>\n",
      "RangeIndex: 964 entries, 0 to 963\n",
      "Data columns (total 3 columns):\n",
      " #   Column            Non-Null Count  Dtype \n",
      "---  ------            --------------  ----- \n",
      " 0   subcategory_id    964 non-null    object\n",
      " 1   subcategory_name  964 non-null    object\n",
      " 2   category_id       964 non-null    object\n",
      "dtypes: object(3)\n",
      "memory usage: 22.7+ KB\n",
      "None\n",
      "\n"
     ]
    }
   ],
   "source": [
    "subcategory_dict = pd.read_excel(r'E:\\COURSES\\Кодинг\\[Yandex praxis]. DS specialist + (2022)\\2\\[SuperSliv.biz] 03 Изменение типов данных\\04 work\\seo_data.xlsx', sheet_name ='subcategory_ids')\n",
    "\n",
    "print(subcategory_dict.head(10))\n",
    "print()\n",
    "print(subcategory_dict.columns)\n",
    "print()\n",
    "print(subcategory_dict.info())\n",
    "print()"
   ]
  },
  {
   "cell_type": "code",
   "execution_count": 5,
   "id": "48c278b0-33c1-46ba-a41e-8fccdb29d797",
   "metadata": {},
   "outputs": [
    {
     "name": "stdout",
     "output_type": "stream",
     "text": [
      "  category_id               category_name\n",
      "0  09f279a643                 Электроника\n",
      "1  3509869a61        Компьютерная техника\n",
      "2  65922fa39c                        Авто\n",
      "3  6074ad29ac  Одежда, обувь и аксессуары\n",
      "4  10a493e03b         Товары для здоровья\n",
      "5  5a0d8ac946             Бытовая техника\n",
      "6  7dbac4c1a3              Детские товары\n",
      "7  ae99947659               Спорт и отдых\n",
      "8  655ccc3c49          Товары для красоты\n",
      "9  394f20d8fa      Строительство и ремонт\n",
      "\n",
      "Index(['category_id', 'category_name'], dtype='object')\n",
      "\n",
      "<class 'pandas.core.frame.DataFrame'>\n",
      "RangeIndex: 16 entries, 0 to 15\n",
      "Data columns (total 2 columns):\n",
      " #   Column         Non-Null Count  Dtype \n",
      "---  ------         --------------  ----- \n",
      " 0   category_id    16 non-null     object\n",
      " 1   category_name  16 non-null     object\n",
      "dtypes: object(2)\n",
      "memory usage: 388.0+ bytes\n",
      "None\n",
      "\n"
     ]
    }
   ],
   "source": [
    "category_ids = pd.read_excel(r'E:\\COURSES\\Кодинг\\[Yandex praxis]. DS specialist + (2022)\\2\\[SuperSliv.biz] 03 Изменение типов данных\\04 work\\seo_data.xlsx', sheet_name ='category_ids')\n",
    "\n",
    "print(category_ids.head(10))\n",
    "print()\n",
    "print(category_ids.columns)\n",
    "print()\n",
    "print(category_ids.info())\n",
    "print()"
   ]
  },
  {
   "cell_type": "markdown",
   "id": "f9959fde-b591-4951-bb33-77343afa6fb0",
   "metadata": {},
   "source": [
    "Сгруппируем датафрейм 'traffic_data' по источнику трафика и посчитаем сумму визитов:"
   ]
  },
  {
   "cell_type": "code",
   "execution_count": 7,
   "id": "9562e5bd-28c6-48a6-bc80-28039bd4ddc2",
   "metadata": {},
   "outputs": [
    {
     "name": "stdout",
     "output_type": "stream",
     "text": [
      "source\n",
      "direct     965\n",
      "organic    965\n",
      "Name: subcategory_id, dtype: int64\n"
     ]
    }
   ],
   "source": [
    "# print(traffic_data.groupby('source').count())\n",
    "\n",
    "# print(traffic_data[traffic_data['source'] == 'direct']['source'].count())\n",
    "# print(traffic_data[traffic_data['source'] == 'organic']['source'].count())\n",
    "\n",
    "# or we could do the same thing in one row with groupby method\n",
    "\n",
    "print(traffic_data.groupby('source')['subcategory_id'].count())"
   ]
  },
  {
   "cell_type": "markdown",
   "id": "05a68e9a-8975-4ad0-8fec-f1566cddae4d",
   "metadata": {},
   "source": [
    "## 3.2. Перевод строковых значений в числа"
   ]
  },
  {
   "cell_type": "code",
   "execution_count": 9,
   "id": "fccea36c-3a87-4eec-8b08-e8b02d6237bc",
   "metadata": {},
   "outputs": [
    {
     "name": "stdout",
     "output_type": "stream",
     "text": [
      "['Лист1']\n",
      "             id category    amount\n",
      "0  600748331392        C  17515.36\n",
      "1  600748331404        B  10117.56\n",
      "2  600748331412        B  18489.26\n",
      "3  600748331430        B   6620.22\n",
      "4  600748331447        C    7559.9\n",
      "5  600748331496        D  10567.82\n",
      "6  600748331504        A  14460.94\n",
      "7  600748331539        C   9504.54\n",
      "8  600748331577        C  14499.01\n",
      "9  600748331592        C  17336.38\n",
      "\n",
      "Index(['id', 'category', 'amount'], dtype='object')\n",
      "\n",
      "<class 'pandas.core.frame.DataFrame'>\n",
      "RangeIndex: 49 entries, 0 to 48\n",
      "Data columns (total 3 columns):\n",
      " #   Column    Non-Null Count  Dtype \n",
      "---  ------    --------------  ----- \n",
      " 0   id        49 non-null     object\n",
      " 1   category  49 non-null     object\n",
      " 2   amount    49 non-null     object\n",
      "dtypes: object(3)\n",
      "memory usage: 1.3+ KB\n",
      "None\n",
      "\n"
     ]
    }
   ],
   "source": [
    "import pandas as pd\n",
    "\n",
    "print(list(pd.read_excel(r'E:\\COURSES\\Кодинг\\[Yandex praxis]. DS specialist + (2022)\\2\\[SuperSliv.biz] 03 Изменение типов данных\\04 work\\ids.xlsx', sheet_name=None)))\n",
    "\n",
    "data = pd.read_excel(r'E:\\COURSES\\Кодинг\\[Yandex praxis]. DS specialist + (2022)\\2\\[SuperSliv.biz] 03 Изменение типов данных\\04 work\\ids.xlsx', sheet_name='Лист1')\n",
    "\n",
    "print(data.head(10))\n",
    "print()\n",
    "print(data.columns)\n",
    "print()\n",
    "print(data.info())\n",
    "print()"
   ]
  },
  {
   "cell_type": "markdown",
   "id": "c3921612-0d1a-4b83-bf68-59357d680521",
   "metadata": {},
   "source": [
    "Вычислить сумму продаж:"
   ]
  },
  {
   "cell_type": "code",
   "execution_count": 11,
   "id": "c0e1d3ac-8957-4a58-b954-149cc5a38146",
   "metadata": {},
   "outputs": [
    {
     "name": "stdout",
     "output_type": "stream",
     "text": [
      "596107.1\n",
      "<class 'pandas.core.series.Series'>\n",
      "RangeIndex: 49 entries, 0 to 48\n",
      "Series name: amount\n",
      "Non-Null Count  Dtype  \n",
      "--------------  -----  \n",
      "45 non-null     float64\n",
      "dtypes: float64(1)\n",
      "memory usage: 524.0 bytes\n",
      "None\n"
     ]
    }
   ],
   "source": [
    "# There is str in `amount` column\n",
    "# print(data['amount'].sum())\n",
    "\n",
    "data['amount'] = pd.to_numeric(data['amount'], errors = 'coerce')\n",
    "\n",
    "print(data['amount'].sum())\n",
    "\n",
    "print(data['amount'].info())\n",
    "# `errors='raise' — дефолтное поведение: при встрече с некорректным значением выдаётся ошибка, операция перевода в числа прерывается;\n",
    "# `errors='coerce' — некорректные значения принудительно заменяются на NaN;\n",
    "# `errors='ignore' — некорректные значения игнорируются, но остаются."
   ]
  },
  {
   "cell_type": "markdown",
   "id": "ed230580-7b87-4b87-982a-9b6b699428a8",
   "metadata": {},
   "source": [
    "Переведите значения столбца `'id'` из строк в числа методом `to_numeric()`."
   ]
  },
  {
   "cell_type": "code",
   "execution_count": 13,
   "id": "7fb4bc79-136a-48cf-ae46-866c0dd852aa",
   "metadata": {},
   "outputs": [],
   "source": [
    "# There is str in `amount` column\n",
    "# print(data['id'].sum())\n",
    "# print(data['id'].unique())\n",
    "\n",
    "data['id'] = pd.to_numeric(data['id'], errors = 'coerce')"
   ]
  },
  {
   "cell_type": "code",
   "execution_count": 14,
   "id": "2669e9a3-8924-4db9-9ecf-dec7266bad59",
   "metadata": {},
   "outputs": [
    {
     "name": "stdout",
     "output_type": "stream",
     "text": [
      "category\n",
      "A       133988.50\n",
      "B       168617.89\n",
      "C       173332.50\n",
      "D        62630.82\n",
      "E        57537.39\n",
      "Null         0.00\n",
      "Name: amount, dtype: float64\n"
     ]
    }
   ],
   "source": [
    "print(data.groupby('category')['amount'].sum())"
   ]
  },
  {
   "cell_type": "code",
   "execution_count": 15,
   "id": "1c2f619c-f6ca-43e6-a051-87e395f49e92",
   "metadata": {},
   "outputs": [
    {
     "name": "stdout",
     "output_type": "stream",
     "text": [
      "source\n",
      "direct     965\n",
      "organic    965\n",
      "Name: subcategory_id, dtype: int64\n"
     ]
    }
   ],
   "source": [
    "traffic_data['visits'] = pd.to_numeric(traffic_data['visits'], errors = 'coerce')\n",
    "# print(traffic_data.columns)\n",
    "\n",
    "print(traffic_data.groupby('source')['subcategory_id'].count())"
   ]
  },
  {
   "cell_type": "markdown",
   "id": "4da8c72d-29b2-4f2a-b847-f1f1967384a3",
   "metadata": {},
   "source": [
    "Узнайте, что не так со строкой 964. Вызовите знакомый из вводного курса метод `loc`\n"
   ]
  },
  {
   "cell_type": "code",
   "execution_count": 17,
   "id": "00c6a593-cdea-4c1c-b6cc-c2da317f1a99",
   "metadata": {},
   "outputs": [
    {
     "name": "stdout",
     "output_type": "stream",
     "text": [
      "  subcategory_id  source         visits\n",
      "0     cf2e61c7af  direct  501165.668858\n",
      "1     0cd903d1cc  direct  126342.359505\n",
      "2     ef35bc88a7  direct   95626.321402\n",
      "3     6ff9f4014c  direct   75680.653002\n",
      "4     72bc238e4d  direct   64435.934651\n",
      "5     88c78ea685  direct   39638.202995\n",
      "6     179bfacf4a  direct   31007.471245\n",
      "7     b0fb8f259a  direct   30324.097324\n",
      "8     3c67eb2d90  direct   25878.814329\n",
      "9     24e6c815c6  direct   25276.373358\n",
      "<class 'pandas.core.frame.DataFrame'>\n",
      "RangeIndex: 1930 entries, 0 to 1929\n",
      "Data columns (total 3 columns):\n",
      " #   Column          Non-Null Count  Dtype  \n",
      "---  ------          --------------  -----  \n",
      " 0   subcategory_id  1930 non-null   object \n",
      " 1   source          1930 non-null   object \n",
      " 2   visits          1928 non-null   float64\n",
      "dtypes: float64(1), object(2)\n",
      "memory usage: 45.4+ KB\n",
      "None\n",
      "8057349.934393608\n",
      "subcategory_id     total\n",
      "source            direct\n",
      "visits               NaN\n",
      "Name: 964, dtype: object\n"
     ]
    }
   ],
   "source": [
    "print(traffic_data.head(10))\n",
    "print(traffic_data.info())\n",
    "\n",
    "print(traffic_data['visits'].sum())\n",
    "\n",
    "print(traffic_data.loc[964])"
   ]
  },
  {
   "cell_type": "markdown",
   "id": "a3832c3b-7a88-4f5e-aca0-936a45eac260",
   "metadata": {},
   "source": [
    "Вычислите, сколько всего строк в датафрейме и выведите на экран в формате:\n",
    "`Количество строк: 1000`\n",
    "Затем выведите на экран строки, которые имеют значение `'total'` в столбце `'subcategory_id'`. Изучите полученные результаты: сколько строк портят весь датасет?"
   ]
  },
  {
   "cell_type": "code",
   "execution_count": 19,
   "id": "adeec77a-e4ad-4a0f-ba1f-eab1ed562a89",
   "metadata": {},
   "outputs": [
    {
     "name": "stdout",
     "output_type": "stream",
     "text": [
      "     subcategory_id   source  visits\n",
      "964           total   direct     NaN\n",
      "1929          total  organic     NaN\n",
      "  subcategory_id  source         visits\n",
      "0     cf2e61c7af  direct  501165.668858\n",
      "1     0cd903d1cc  direct  126342.359505\n",
      "2     ef35bc88a7  direct   95626.321402\n",
      "3     6ff9f4014c  direct   75680.653002\n",
      "4     72bc238e4d  direct   64435.934651\n",
      "5     88c78ea685  direct   39638.202995\n",
      "6     179bfacf4a  direct   31007.471245\n",
      "7     b0fb8f259a  direct   30324.097324\n",
      "8     3c67eb2d90  direct   25878.814329\n",
      "9     24e6c815c6  direct   25276.373358\n"
     ]
    }
   ],
   "source": [
    "print(traffic_data[traffic_data['subcategory_id'] == 'total'])\n",
    "\n",
    "print(traffic_data.head(10))"
   ]
  },
  {
   "cell_type": "markdown",
   "id": "71ed9fb8-7bf1-4b0f-8133-0da95193ff49",
   "metadata": {},
   "source": [
    "Оставьте в датафрейме только строки, удовлетворяющие условию `data['subcategory_id'] != 'total'`. Проверьте результат: выведите на экран датафрейм с условием `data['subcategory_id'] == 'total'`."
   ]
  },
  {
   "cell_type": "code",
   "execution_count": 21,
   "id": "663fc0f7-341e-4206-8782-a6bb7e5c8535",
   "metadata": {},
   "outputs": [
    {
     "name": "stdout",
     "output_type": "stream",
     "text": [
      "Empty DataFrame\n",
      "Columns: [subcategory_id, source, visits]\n",
      "Index: []\n",
      "  subcategory_id  source         visits\n",
      "0     cf2e61c7af  direct  501165.668858\n",
      "1     0cd903d1cc  direct  126342.359505\n",
      "2     ef35bc88a7  direct   95626.321402\n",
      "3     6ff9f4014c  direct   75680.653002\n",
      "4     72bc238e4d  direct   64435.934651\n",
      "5     88c78ea685  direct   39638.202995\n",
      "6     179bfacf4a  direct   31007.471245\n",
      "7     b0fb8f259a  direct   30324.097324\n",
      "8     3c67eb2d90  direct   25878.814329\n",
      "9     24e6c815c6  direct   25276.373358\n",
      "\n",
      "<class 'pandas.core.frame.DataFrame'>\n",
      "Index: 1928 entries, 0 to 1928\n",
      "Data columns (total 3 columns):\n",
      " #   Column          Non-Null Count  Dtype  \n",
      "---  ------          --------------  -----  \n",
      " 0   subcategory_id  1928 non-null   object \n",
      " 1   source          1928 non-null   object \n",
      " 2   visits          1928 non-null   float64\n",
      "dtypes: float64(1), object(2)\n",
      "memory usage: 60.2+ KB\n",
      "None\n"
     ]
    }
   ],
   "source": [
    "traffic_data = traffic_data[traffic_data['subcategory_id'] != 'total']\n",
    "\n",
    "\n",
    "print(traffic_data[traffic_data['subcategory_id'] == 'total'])\n",
    "\n",
    "print(traffic_data.head(10))\n",
    "print()\n",
    "\n",
    "print(traffic_data.info())"
   ]
  },
  {
   "cell_type": "markdown",
   "id": "be4c88f3-e1b1-44d1-bbee-457f01a4282f",
   "metadata": {},
   "source": [
    "Измените тип данных в столбце `['visits']` на `integer`. Проверьте полученный результат, вызвав метод `info()`."
   ]
  },
  {
   "cell_type": "code",
   "execution_count": 23,
   "id": "473e7916-345f-4b13-a133-938faca2c3ec",
   "metadata": {},
   "outputs": [
    {
     "name": "stdout",
     "output_type": "stream",
     "text": [
      "  subcategory_id  source  visits\n",
      "0     cf2e61c7af  direct  501165\n",
      "1     0cd903d1cc  direct  126342\n",
      "2     ef35bc88a7  direct   95626\n",
      "3     6ff9f4014c  direct   75680\n",
      "4     72bc238e4d  direct   64435\n",
      "5     88c78ea685  direct   39638\n",
      "6     179bfacf4a  direct   31007\n",
      "7     b0fb8f259a  direct   30324\n",
      "8     3c67eb2d90  direct   25878\n",
      "9     24e6c815c6  direct   25276\n",
      "<class 'pandas.core.frame.DataFrame'>\n",
      "Index: 1928 entries, 0 to 1928\n",
      "Data columns (total 3 columns):\n",
      " #   Column          Non-Null Count  Dtype \n",
      "---  ------          --------------  ----- \n",
      " 0   subcategory_id  1928 non-null   object\n",
      " 1   source          1928 non-null   object\n",
      " 2   visits          1928 non-null   int32 \n",
      "dtypes: int32(1), object(2)\n",
      "memory usage: 52.7+ KB\n",
      "None\n"
     ]
    }
   ],
   "source": [
    "traffic_data['visits'] = traffic_data['visits'].astype(int)\n",
    "\n",
    "print(traffic_data.head(10))\n",
    "\n",
    "print(traffic_data.info())"
   ]
  },
  {
   "cell_type": "code",
   "execution_count": 24,
   "id": "04ab4254-61aa-43e3-bcf9-3be2bd74766f",
   "metadata": {},
   "outputs": [
    {
     "name": "stdout",
     "output_type": "stream",
     "text": [
      "source\n",
      "direct     2368980\n",
      "organic    5687407\n",
      "Name: visits, dtype: int32\n"
     ]
    }
   ],
   "source": [
    "print(traffic_data.groupby('source')['visits'].sum())"
   ]
  },
  {
   "cell_type": "markdown",
   "id": "1ae454cc-b00c-41d7-99f3-bea1d3f031f3",
   "metadata": {},
   "source": [
    "## 3.3. Time and data in `Pandas`"
   ]
  },
  {
   "cell_type": "code",
   "execution_count": 26,
   "id": "40bfc878-b99f-4872-aefe-2a3197fbf213",
   "metadata": {},
   "outputs": [
    {
     "name": "stdout",
     "output_type": "stream",
     "text": [
      "<class 'pandas.core.frame.DataFrame'>\n",
      "RangeIndex: 39 entries, 0 to 38\n",
      "Data columns (total 3 columns):\n",
      " #   Column     Non-Null Count  Dtype \n",
      "---  ------     --------------  ----- \n",
      " 0   timestamp  39 non-null     object\n",
      " 1   level      39 non-null     int64 \n",
      " 2   page_id    39 non-null     object\n",
      "dtypes: int64(1), object(2)\n",
      "memory usage: 1.0+ KB\n",
      "None\n",
      "\n",
      "              timestamp  level   page_id\n",
      "0   2019-02-04T13:22:34      1  6ukoNykP\n",
      "1   2019-02-06T15:30:54      1  Q62R1Ue7\n",
      "2   2019-02-08T14:53:45      1  GmfSxgPs\n",
      "3   2019-02-10T16:50:22      2  M56OK96C\n",
      "4   2019-02-12T14:16:28      1  q2fqVqPc\n",
      "5   2019-02-14T15:10:45      1  LioXfSPk\n",
      "6   2019-02-16T14:52:23      3  bQXWpQ2z\n",
      "7   2019-02-18T15:45:33      2  gsFVGOTy\n",
      "8   2019-02-20T16:35:12      3  zVuiSTm1\n",
      "9   2019-02-22T15:52:27      1  kuULtbnm\n",
      "10  2019-02-24T12:39:30      2  MKDhBt9L\n",
      "11  2019-02-26T12:45:10      3  FEgRztcr\n",
      "12  2019-03-04T15:34:46      4  OUBWQSCl\n",
      "13  2019-03-06T14:20:57      5  6YeTUHgm\n",
      "14  2019-03-08T12:34:43      6  zlrBrZ0d\n",
      "\n",
      "Index(['timestamp', 'level', 'page_id'], dtype='object')\n"
     ]
    }
   ],
   "source": [
    "import pandas as pd\n",
    "\n",
    "position = pd.read_csv(r'E:\\COURSES\\Кодинг\\[Yandex praxis]. DS specialist + (2022)\\2\\[SuperSliv.biz] 03 Изменение типов данных\\05 work\\position.csv')\n",
    "\n",
    "print(position.info())\n",
    "print()\n",
    "print(position.head(15))\n",
    "print()\n",
    "print(position.columns)"
   ]
  },
  {
   "cell_type": "markdown",
   "id": "c295d6a1-fd6a-477e-9053-3111b2732e8c",
   "metadata": {},
   "source": [
    "Методом `to_datetime()` превратим содержимое этого столбца в понятные для Python даты.\n",
    "Для этого строку форматируют, обращаясь к специальной системе обозначений, где:\n",
    "\n",
    "* `%d` — день месяца (от 01 до 31)\n",
    "* `%m` — номер месяца (от 01 до 12)\n",
    "* `%Y` — четырёхзначный номер года (например, 2019)\n",
    "* `Z` — стандартный разделитель даты и времени\n",
    "* `%H` — номер часа в 24-часовом формате\n",
    "* `%I` — номер часа в 12-часовом формате\n",
    "* `%M` — минуты (от 00 до 59)\n",
    "* `%S` — секунды (от 00 до 59)"
   ]
  },
  {
   "cell_type": "markdown",
   "id": "3248a397-89a4-4e76-a750-f31c6b679e8d",
   "metadata": {},
   "source": [
    "Метод `to_datetime()` работает и с форматом `unix time`. Первый аргумент — это столбец со временем в формате `unix time`, второй аргумент `unit` со значением `'s'` сообщит о том, что нужно перевести время в привычный формат с точностью до секунды."
   ]
  },
  {
   "cell_type": "code",
   "execution_count": 29,
   "id": "dee24eb9-802d-4356-ad6a-c7043535218d",
   "metadata": {},
   "outputs": [
    {
     "name": "stdout",
     "output_type": "stream",
     "text": [
      "            timestamp  level   page_id\n",
      "0 2019-02-04 13:22:34      1  6ukoNykP\n",
      "1 2019-02-06 15:30:54      1  Q62R1Ue7\n",
      "2 2019-02-08 14:53:45      1  GmfSxgPs\n",
      "3 2019-02-10 16:50:22      2  M56OK96C\n",
      "4 2019-02-12 14:16:28      1  q2fqVqPc\n",
      "5 2019-02-14 15:10:45      1  LioXfSPk\n",
      "6 2019-02-16 14:52:23      3  bQXWpQ2z\n",
      "7 2019-02-18 15:45:33      2  gsFVGOTy\n",
      "8 2019-02-20 16:35:12      3  zVuiSTm1\n",
      "9 2019-02-22 15:52:27      1  kuULtbnm\n",
      "<class 'pandas.core.frame.DataFrame'>\n",
      "RangeIndex: 39 entries, 0 to 38\n",
      "Data columns (total 3 columns):\n",
      " #   Column     Non-Null Count  Dtype         \n",
      "---  ------     --------------  -----         \n",
      " 0   timestamp  39 non-null     datetime64[ns]\n",
      " 1   level      39 non-null     int64         \n",
      " 2   page_id    39 non-null     object        \n",
      "dtypes: datetime64[ns](1), int64(1), object(1)\n",
      "memory usage: 1.0+ KB\n",
      "None\n"
     ]
    }
   ],
   "source": [
    "position['timestamp'] = pd.to_datetime(position['timestamp'], format = '%Y-%m-%dT%H:%M:%S')\n",
    "\n",
    "print(position.head(10))\n",
    "print(position.info())"
   ]
  },
  {
   "cell_type": "code",
   "execution_count": 30,
   "id": "79bc3196-1f0d-4a3e-a6bd-b454fa6b8c1c",
   "metadata": {},
   "outputs": [
    {
     "name": "stdout",
     "output_type": "stream",
     "text": [
      "            timestamp  level   page_id\n",
      "0 2019-03-24 13:49:22      9  WklxK6k4\n",
      "1 2019-04-27 12:48:14      8  5VRryKr6\n",
      "2 2019-04-21 14:40:17      8  JvTMAbs7\n",
      "3 2019-04-11 13:39:15      8  9mL07Mjl\n",
      "4 2019-03-22 16:36:19      8  s24ZIat3\n",
      "5 2019-03-10 13:12:57      7  Vih5ARKA\n",
      "6 2019-04-19 15:43:24      7  MSHZViNg\n",
      "7 2019-04-13 12:13:26      7  ILfc3WmK\n",
      "8 2019-04-09 14:57:20      7  SfnhoGh6\n",
      "9 2019-04-05 14:51:38      7  7JKRCdPA\n"
     ]
    }
   ],
   "source": [
    "position = position.sort_values(by='level', ascending=False).reset_index(drop=True)\n",
    "\n",
    "print(position.head(10))"
   ]
  },
  {
   "cell_type": "markdown",
   "id": "12c9fba4-4487-4c1e-9303-df93e533108a",
   "metadata": {},
   "source": [
    "Часто приходится исследовать статистику по месяцам: например, узнать, на сколько минут сотрудник опаздывал в среднем. Чтобы осуществить такой расчёт, нужно поместить время в класс `DatetimeIndex` и применить к нему атрибут `month`:"
   ]
  },
  {
   "cell_type": "markdown",
   "id": "7cf39f8d-4892-4155-b213-aff2be4eade3",
   "metadata": {},
   "source": [
    "In addition to .year and .month, pd.DatetimeIndex provides several other useful attributes and methods for extracting and manipulating datetime components:\n",
    "\n",
    "* `day`: Extracts the day of the month.\n",
    "* `weekday`: Extracts the day of the week (Monday=0, Sunday=6).\n",
    "* `dayofyear`: Extracts the day of the year (1-365/366).\n",
    "* `quarter`: Extracts the quarter of the year (1-4).\n",
    "* `hour`: Extracts the hour component for datetime entries that include time.\n",
    "* `minute`: Extracts the minute component.\n",
    "* `second`: Extracts the second component."
   ]
  },
  {
   "cell_type": "code",
   "execution_count": 33,
   "id": "59ee810f-b34b-43f6-8a87-4912b2b6ca77",
   "metadata": {},
   "outputs": [
    {
     "data": {
      "text/html": [
       "<div>\n",
       "<style scoped>\n",
       "    .dataframe tbody tr th:only-of-type {\n",
       "        vertical-align: middle;\n",
       "    }\n",
       "\n",
       "    .dataframe tbody tr th {\n",
       "        vertical-align: top;\n",
       "    }\n",
       "\n",
       "    .dataframe thead th {\n",
       "        text-align: right;\n",
       "    }\n",
       "</style>\n",
       "<table border=\"1\" class=\"dataframe\">\n",
       "  <thead>\n",
       "    <tr style=\"text-align: right;\">\n",
       "      <th></th>\n",
       "      <th>timestamp</th>\n",
       "      <th>level</th>\n",
       "      <th>page_id</th>\n",
       "      <th>month</th>\n",
       "    </tr>\n",
       "  </thead>\n",
       "  <tbody>\n",
       "    <tr>\n",
       "      <th>0</th>\n",
       "      <td>2019-03-24 13:49:22</td>\n",
       "      <td>9</td>\n",
       "      <td>WklxK6k4</td>\n",
       "      <td>3</td>\n",
       "    </tr>\n",
       "    <tr>\n",
       "      <th>1</th>\n",
       "      <td>2019-04-27 12:48:14</td>\n",
       "      <td>8</td>\n",
       "      <td>5VRryKr6</td>\n",
       "      <td>4</td>\n",
       "    </tr>\n",
       "    <tr>\n",
       "      <th>2</th>\n",
       "      <td>2019-04-21 14:40:17</td>\n",
       "      <td>8</td>\n",
       "      <td>JvTMAbs7</td>\n",
       "      <td>4</td>\n",
       "    </tr>\n",
       "    <tr>\n",
       "      <th>3</th>\n",
       "      <td>2019-04-11 13:39:15</td>\n",
       "      <td>8</td>\n",
       "      <td>9mL07Mjl</td>\n",
       "      <td>4</td>\n",
       "    </tr>\n",
       "    <tr>\n",
       "      <th>4</th>\n",
       "      <td>2019-03-22 16:36:19</td>\n",
       "      <td>8</td>\n",
       "      <td>s24ZIat3</td>\n",
       "      <td>3</td>\n",
       "    </tr>\n",
       "  </tbody>\n",
       "</table>\n",
       "</div>"
      ],
      "text/plain": [
       "            timestamp  level   page_id  month\n",
       "0 2019-03-24 13:49:22      9  WklxK6k4      3\n",
       "1 2019-04-27 12:48:14      8  5VRryKr6      4\n",
       "2 2019-04-21 14:40:17      8  JvTMAbs7      4\n",
       "3 2019-04-11 13:39:15      8  9mL07Mjl      4\n",
       "4 2019-03-22 16:36:19      8  s24ZIat3      3"
      ]
     },
     "execution_count": 33,
     "metadata": {},
     "output_type": "execute_result"
    }
   ],
   "source": [
    "position['month'] = pd.DatetimeIndex(position['timestamp']).month\n",
    "\n",
    "position.head(5)"
   ]
  },
  {
   "cell_type": "code",
   "execution_count": 34,
   "id": "7c9ff519-ba40-4b51-8676-4e934881612c",
   "metadata": {},
   "outputs": [
    {
     "name": "stdout",
     "output_type": "stream",
     "text": [
      "month\n",
      "2    1.750000\n",
      "3    5.769231\n",
      "4    6.214286\n",
      "Name: level, dtype: float64\n",
      "\n",
      "3.051282051282051\n"
     ]
    }
   ],
   "source": [
    "print(position.groupby('month')['level'].mean())\n",
    "print()\n",
    "\n",
    "print(position['month'].mean())"
   ]
  },
  {
   "cell_type": "markdown",
   "id": "391aad8a-41d9-4429-9255-3905bb55475e",
   "metadata": {},
   "source": [
    "## 3.4. Обработка ошибок: try-except"
   ]
  },
  {
   "cell_type": "code",
   "execution_count": 36,
   "id": "6109ba90-230f-4517-95d2-09c6735f6d4a",
   "metadata": {},
   "outputs": [
    {
     "name": "stdout",
     "output_type": "stream",
     "text": [
      "10\n"
     ]
    }
   ],
   "source": [
    "opposition = [\n",
    "    ['2data9-05-data', '6'],\n",
    "    ['2data9-05-02', '5'],\n",
    "    ['2data9-05-03', '5'],\n",
    "    ['2data9-05-04', '4'],\n",
    "    ['2data9-05-05', '5'],\n",
    "    ['2data9-05-06', '5'],\n",
    "    ['2data9-05-07', '4'],\n",
    "    ['2data9-05-08', '4'],\n",
    "    ['2data9-05-09', '3'],\n",
    "    ['2data9-05-10', '3'],\n",
    "]\n",
    "\n",
    "count_lines = 0\n",
    "\n",
    "for row in opposition:\n",
    "    count_lines+=1\n",
    "print(count_lines)\n",
    "    # допишите"
   ]
  },
  {
   "cell_type": "code",
   "execution_count": 37,
   "id": "f0a2c636-31ab-4961-8189-4b4e00d18d5c",
   "metadata": {},
   "outputs": [
    {
     "name": "stdout",
     "output_type": "stream",
     "text": [
      "4.4\n"
     ]
    }
   ],
   "source": [
    "sum = 0\n",
    "count = 0\n",
    "for row in opposition:\n",
    "    count+=1\n",
    "    sum = sum+int(row[1])\n",
    "print(sum/count)"
   ]
  },
  {
   "cell_type": "markdown",
   "id": "8623f616-27f4-4564-94cd-57b6d8242ca6",
   "metadata": {},
   "source": [
    "Формат поставки статистики согласован. Разработчики прислали финальную выгрузку, где в данных появились проблемы: отрицательные значения, пробелы и даже ошибки.\n",
    "\r\n",
    "Посчитайте среднюю позицию в выдаче и нажмите «Выполнить код»."
   ]
  },
  {
   "cell_type": "code",
   "execution_count": 39,
   "id": "c9fef612-639d-48e4-a5c5-0ff84f16ae23",
   "metadata": {},
   "outputs": [],
   "source": [
    "opposition1 = [\n",
    "    ['2019-05-01', ' - 6'],\n",
    "    ['2019-05-02', ' + 5'],\n",
    "    ['2019-05-data', ' 5'],\n",
    "    ['2019-05-04', '4'],\n",
    "    ['2019-05-05', '5'],\n",
    "    ['2019-05-06', '5'],\n",
    "    ['2019-05-07', '4'],\n",
    "    ['2019-05-08', 'Error 5'],\n",
    "    ['2019-05-09', '3'],\n",
    "    ['2019-05-10', '3'],\n",
    "]"
   ]
  },
  {
   "cell_type": "markdown",
   "id": "530bf109-2615-4196-994e-ff6c3bfda678",
   "metadata": {},
   "source": [
    "Let's introduce some `try` `except` into our code:"
   ]
  },
  {
   "cell_type": "code",
   "execution_count": 41,
   "id": "6649387b-e114-4d2f-86e4-0b906872a0d6",
   "metadata": {},
   "outputs": [
    {
     "name": "stdout",
     "output_type": "stream",
     "text": [
      "10\n",
      "Couldn't add  - 6 from the 0 line\n",
      "Couldn't add  + 5 from the 0 line\n",
      "Couldn't add Error 5 from the 5 line\n",
      "4.142857142857143\n",
      "[['2019-05-01', ' - 6'], ['2019-05-02', ' + 5'], ['2019-05-08', 'Error 5']]\n"
     ]
    }
   ],
   "source": [
    "count_lines = 0\n",
    "\n",
    "for row in opposition1:\n",
    "    count_lines +=1\n",
    "print(count_lines)\n",
    "\n",
    "errors =[]\n",
    "sum = 0\n",
    "count = 0 \n",
    "for row in opposition1:\n",
    "    try:\n",
    "        sum = sum + int(row[1])\n",
    "        count += 1\n",
    "    except:\n",
    "        # row[1] = int(row[1])\n",
    "        print(f\"Couldn't add {row[1]} from the {count} line\")\n",
    "        errors.append(row)\n",
    "print(sum/count)\n",
    "print(errors)\n"
   ]
  },
  {
   "cell_type": "code",
   "execution_count": 42,
   "id": "119841a0-396d-492c-8a49-05d54eaa7cb4",
   "metadata": {},
   "outputs": [
    {
     "name": "stdout",
     "output_type": "stream",
     "text": [
      "[['2019-05-01', ' - 6']]\n",
      "[['2019-05-02', ' + 5']]\n"
     ]
    }
   ],
   "source": [
    "print(errors[0:1])\n",
    "print(errors[1:2])"
   ]
  },
  {
   "cell_type": "markdown",
   "id": "ca502674-dafc-495b-a03e-b12331d72ced",
   "metadata": {},
   "source": [
    "Let's make a correct string value for each row in the turple\n",
    "* Let's start with removing all the unwanted spaces between the nubmers and their respective signs by `replace(' ', '')`\n",
    "* After we remove the string part of the value with `filter` function using `isdigit` method \n",
    "* After that join all filtered digits into an integer by adding it up to the empty space `''` with `''.join()`\n",
    "\n",
    "    Instead of `replace('',' ')` method it would be more convenient to use `.strip()`"
   ]
  },
  {
   "cell_type": "code",
   "execution_count": 44,
   "id": "6eb92c67-3c7a-46eb-96a6-797cb33217fb",
   "metadata": {},
   "outputs": [
    {
     "name": "stdout",
     "output_type": "stream",
     "text": [
      "3.3\n",
      "[]\n"
     ]
    }
   ],
   "source": [
    "errors =[]\n",
    "sum = 0\n",
    "count = 0 \n",
    "for row in opposition1:\n",
    "    value = + int(''.join(filter(str.isdigit, row[1].strip())))\n",
    "    count += 1\n",
    "    if row[1].strip().startswith('-'):\n",
    "        value = -value\n",
    "    else:\n",
    "        value = value\n",
    "    sum += value\n",
    "    # \n",
    "    # except:\n",
    "    #     print(f\"Couldn't add {row[1]} from the {count} line\")\n",
    "    #     errors.append(row)\n",
    "print(sum/count)\n",
    "print(errors)"
   ]
  },
  {
   "cell_type": "markdown",
   "id": "45f83256-584c-48c4-af83-86a95cdb002b",
   "metadata": {},
   "source": [
    "## 3.5. `merge()` method"
   ]
  },
  {
   "cell_type": "markdown",
   "id": "37c62fd3-65fb-4c3c-bd6b-07a1e5ff582f",
   "metadata": {},
   "source": [
    "Данные хранят в Excel-таблице из нескольких листов. Как смотреть на категории, подкатегории и трафик в одном месте? Идея — склеить таблицы!\n",
    "\n",
    "Объединим несколько таблиц в одну методом `merge()`.\n",
    "\n",
    "`merge()` применяют к таблице, к которой присоединяют другую. У метода следующие аргументы\n",
    "\n",
    "1.\n",
    "* `left` -The first DataFrame to be merged.\n",
    "* `right` -The second DataFrame to be merged.\n",
    "\n",
    "2. \n",
    "* `how='left'` - Keeps all elements from the left DataFrame and fills in NaN for missing values in the right DataFrame.\n",
    "* `how='right'` - Keeps all elements from the right DataFrame and fills in NaN for missing values in the left DataFrame.\n",
    "* `how='inner'` - Keeps only the common elements between the left and right DataFrames.\n",
    "* `how='outer'` - Keeps all elements from both DataFrames and fills in NaN for missing values.\n",
    "\n",
    "3. `on` - Column(s) to join on. Must be found in both DataFrames. If not specified and `left_index` and right_index are `False`, it will attempt to merge on the intersection of the column names.\n",
    "* `left_on`: Column(s) from the left DataFrame to use as keys for the merge.\n",
    "* `right_on`: Column(s) from the right DataFrame to use as keys for the merge.\n",
    "\n",
    "4. `sort`:   If True, sort the result by the join keys in lexicographical order. Defaults to True.\n",
    "\n",
    "5. `suffixes`: A tuple of string suffixes to append to overlapping columns. Defaults to `('_x', '_y')` It allows to distinguish `values` from overlapping columns.\n",
    "\n",
    "6. `copy`: If `False`, avoid copying data if possible. Defaults to `True`.\n",
    "\n",
    "7. `indicator`: If `True`, adds a column to the output DataFrame called `_merge` with information on the source of each row. Defaults to `False`.\n",
    "\n",
    "8. `validate`: String indicating validation to perform after merging. Possible values are `\n",
    "\n",
    "* `'one_to_one'`  Each value in the left DataFrame must match at most one value in the right DataFrame, and vice versa.\r\n",
    "*  `'one_to_many' Each value in the left DataFrame can match multiple values in the right DataFrame.`\n",
    "*  `'many_to_one' Each value in the right DataFrame can match multiple values in the left DataFrame.`\n",
    "*  Defaults to `None`.\n",
    "\n",
    "\n",
    "\n",
    "\n",
    "`pandas.merge(left, right, how='inner', on=None, left_on=None, right_on=None, left_index=False, right_index=False, sort=True, suffixes=('_x', '_y'), copy=True, indicator=False, validate=None)`)` "
   ]
  },
  {
   "cell_type": "code",
   "execution_count": 142,
   "id": "0101bdf4-d6da-43d5-adbf-110415696fa2",
   "metadata": {},
   "outputs": [
    {
     "name": "stdout",
     "output_type": "stream",
     "text": [
      "['traffic_data', 'subcategory_ids', 'category_ids']\n",
      "\n",
      "<class 'pandas.core.frame.DataFrame'>\n",
      "RangeIndex: 1930 entries, 0 to 1929\n",
      "Data columns (total 3 columns):\n",
      " #   Column          Non-Null Count  Dtype \n",
      "---  ------          --------------  ----- \n",
      " 0   subcategory_id  1930 non-null   object\n",
      " 1   source          1930 non-null   object\n",
      " 2   visits          1930 non-null   object\n",
      "dtypes: object(3)\n",
      "memory usage: 45.4+ KB\n",
      "None\n",
      "\n",
      "Index(['subcategory_id', 'source', 'visits'], dtype='object')\n",
      "\n",
      "  subcategory_id  source         visits\n",
      "0     cf2e61c7af  direct  501165.668858\n",
      "1     0cd903d1cc  direct  126342.359505\n",
      "2     ef35bc88a7  direct   95626.321402\n",
      "3     6ff9f4014c  direct   75680.653002\n",
      "4     72bc238e4d  direct   64435.934651\n",
      "5     88c78ea685  direct   39638.202995\n",
      "6     179bfacf4a  direct   31007.471245\n",
      "7     b0fb8f259a  direct   30324.097324\n",
      "8     3c67eb2d90  direct   25878.814329\n",
      "9     24e6c815c6  direct   25276.373358\n"
     ]
    }
   ],
   "source": [
    "import pandas as pd\n",
    "\n",
    "print(list(pd.read_excel(r'E:\\COURSES\\Кодинг\\[Yandex praxis]. DS specialist + (2022)\\2\\[SuperSliv.biz] 03 Изменение типов данных\\07 work\\seo_data.xlsx', sheet_name=None)))\n",
    "print()\n",
    "\n",
    "data = pd.read_excel(r'E:\\COURSES\\Кодинг\\[Yandex praxis]. DS specialist + (2022)\\2\\[SuperSliv.biz] 03 Изменение типов данных\\07 work\\seo_data.xlsx', sheet_name='traffic_data')\n",
    "\n",
    "print(data.info())\n",
    "print()\n",
    "print(data.columns)\n",
    "print()\n",
    "print(data.head(10))"
   ]
  },
  {
   "cell_type": "code",
   "execution_count": 143,
   "id": "d0806232-2196-42d6-827f-910df8ce00f2",
   "metadata": {},
   "outputs": [
    {
     "name": "stdout",
     "output_type": "stream",
     "text": [
      "<class 'pandas.core.frame.DataFrame'>\n",
      "RangeIndex: 964 entries, 0 to 963\n",
      "Data columns (total 3 columns):\n",
      " #   Column            Non-Null Count  Dtype \n",
      "---  ------            --------------  ----- \n",
      " 0   subcategory_id    964 non-null    object\n",
      " 1   subcategory_name  964 non-null    object\n",
      " 2   category_id       964 non-null    object\n",
      "dtypes: object(3)\n",
      "memory usage: 22.7+ KB\n",
      "None\n",
      "\n",
      "Index(['subcategory_id', 'subcategory_name', 'category_id'], dtype='object')\n",
      "\n",
      "  subcategory_id                subcategory_name category_id\n",
      "0     cf2e61c7af              Мобильные телефоны  09f279a643\n",
      "1     0cd903d1cc                        Ноутбуки  3509869a61\n",
      "2     ef35bc88a7                      Телевизоры  09f279a643\n",
      "3     6ff9f4014c                        Планшеты  3509869a61\n",
      "4     72bc238e4d  Наушники и Bluetooth-гарнитуры  09f279a643\n",
      "5     88c78ea685                            Шины  65922fa39c\n",
      "6     179bfacf4a           Умные часы и браслеты  09f279a643\n",
      "7     b0fb8f259a                        Мониторы  3509869a61\n",
      "8     3c67eb2d90                   Наручные часы  6074ad29ac\n",
      "9     24e6c815c6  Лекарственные препараты и БАДы  10a493e03b\n"
     ]
    }
   ],
   "source": [
    "subcategory_dict = pd.read_excel(r'E:\\COURSES\\Кодинг\\[Yandex praxis]. DS specialist + (2022)\\2\\[SuperSliv.biz] 03 Изменение типов данных\\04 work\\seo_data.xlsx', sheet_name ='subcategory_ids')\n",
    "\n",
    "print(subcategory_dict.info())\n",
    "print()\n",
    "print(subcategory_dict.columns)\n",
    "print()\n",
    "print(subcategory_dict.head(10))"
   ]
  },
  {
   "cell_type": "markdown",
   "id": "4023fd26-966b-498f-9f92-d5f79a381ff9",
   "metadata": {},
   "source": [
    "Объедините самостоятельно таблицы subcategory_dict и data. Результат сохраните в переменной data_subcategory и выведите на экран первые 10 строк новой таблицы."
   ]
  },
  {
   "cell_type": "code",
   "execution_count": 147,
   "id": "2ca9bf7f-f96b-44c3-9417-070e8cf0edf0",
   "metadata": {},
   "outputs": [
    {
     "name": "stdout",
     "output_type": "stream",
     "text": [
      "<class 'pandas.core.frame.DataFrame'>\n",
      "RangeIndex: 16 entries, 0 to 15\n",
      "Data columns (total 2 columns):\n",
      " #   Column         Non-Null Count  Dtype \n",
      "---  ------         --------------  ----- \n",
      " 0   category_id    16 non-null     object\n",
      " 1   category_name  16 non-null     object\n",
      "dtypes: object(2)\n",
      "memory usage: 388.0+ bytes\n",
      "None\n",
      "Index(['category_id', 'category_name'], dtype='object')\n",
      "\n",
      "  category_id               category_name\n",
      "0  09f279a643                 Электроника\n",
      "1  3509869a61        Компьютерная техника\n",
      "2  65922fa39c                        Авто\n",
      "3  6074ad29ac  Одежда, обувь и аксессуары\n",
      "4  10a493e03b         Товары для здоровья\n",
      "5  5a0d8ac946             Бытовая техника\n",
      "6  7dbac4c1a3              Детские товары\n",
      "7  ae99947659               Спорт и отдых\n",
      "8  655ccc3c49          Товары для красоты\n",
      "9  394f20d8fa      Строительство и ремонт\n"
     ]
    }
   ],
   "source": [
    "category_dict = pd.read_excel(r'E:\\COURSES\\Кодинг\\[Yandex praxis]. DS specialist + (2022)\\2\\[SuperSliv.biz] 03 Изменение типов данных\\04 work\\seo_data.xlsx', sheet_name ='category_ids')\n",
    "\n",
    "print(category_ids.info())\n",
    "print(category_ids.columns)\n",
    "print()\n",
    "print(category_ids.head(10))"
   ]
  },
  {
   "cell_type": "code",
   "execution_count": 149,
   "id": "16407b3f-7af5-49ae-86fb-345d8245caca",
   "metadata": {},
   "outputs": [
    {
     "name": "stdout",
     "output_type": "stream",
     "text": [
      "<class 'pandas.core.frame.DataFrame'>\n",
      "RangeIndex: 1930 entries, 0 to 1929\n",
      "Data columns (total 5 columns):\n",
      " #   Column            Non-Null Count  Dtype \n",
      "---  ------            --------------  ----- \n",
      " 0   subcategory_id    1930 non-null   object\n",
      " 1   source            1930 non-null   object\n",
      " 2   visits            1930 non-null   object\n",
      " 3   subcategory_name  1928 non-null   object\n",
      " 4   category_id       1928 non-null   object\n",
      "dtypes: object(5)\n",
      "memory usage: 75.5+ KB\n",
      "None\n",
      "\n",
      "Index(['subcategory_id', 'source', 'visits', 'subcategory_name',\n",
      "       'category_id'],\n",
      "      dtype='object')\n",
      "\n",
      "  subcategory_id  source         visits                subcategory_name  \\\n",
      "0     cf2e61c7af  direct  501165.668858              Мобильные телефоны   \n",
      "1     0cd903d1cc  direct  126342.359505                        Ноутбуки   \n",
      "2     ef35bc88a7  direct   95626.321402                      Телевизоры   \n",
      "3     6ff9f4014c  direct   75680.653002                        Планшеты   \n",
      "4     72bc238e4d  direct   64435.934651  Наушники и Bluetooth-гарнитуры   \n",
      "5     88c78ea685  direct   39638.202995                            Шины   \n",
      "6     179bfacf4a  direct   31007.471245           Умные часы и браслеты   \n",
      "7     b0fb8f259a  direct   30324.097324                        Мониторы   \n",
      "8     3c67eb2d90  direct   25878.814329                   Наручные часы   \n",
      "9     24e6c815c6  direct   25276.373358  Лекарственные препараты и БАДы   \n",
      "\n",
      "  category_id  \n",
      "0  09f279a643  \n",
      "1  3509869a61  \n",
      "2  09f279a643  \n",
      "3  3509869a61  \n",
      "4  09f279a643  \n",
      "5  65922fa39c  \n",
      "6  09f279a643  \n",
      "7  3509869a61  \n",
      "8  6074ad29ac  \n",
      "9  10a493e03b  \n"
     ]
    }
   ],
   "source": [
    "data_subcategory = data.merge(subcategory_dict, on='subcategory_id', how ='left',suffixes=('_data', '_subcategory'))\n",
    "\n",
    "print(data_subcategory.info())\n",
    "print()\n",
    "print(data_subcategory.columns)\n",
    "print()\n",
    "print(data_subcategory.head(10))"
   ]
  },
  {
   "cell_type": "markdown",
   "id": "00c2baf9-1872-4a9d-ba59-c6a62beaa2df",
   "metadata": {},
   "source": [
    "Объедините таблицы `data_subcategory` и `category_dict`. Результат сохраните в переменной `data_final` и выведите на экран первые 10 строк новой таблицы."
   ]
  },
  {
   "cell_type": "code",
   "execution_count": 154,
   "id": "7cb92a69-e9e1-4c0b-b863-50b93f5eb28b",
   "metadata": {},
   "outputs": [
    {
     "name": "stdout",
     "output_type": "stream",
     "text": [
      "<class 'pandas.core.frame.DataFrame'>\n",
      "RangeIndex: 1930 entries, 0 to 1929\n",
      "Data columns (total 6 columns):\n",
      " #   Column            Non-Null Count  Dtype \n",
      "---  ------            --------------  ----- \n",
      " 0   subcategory_id    1930 non-null   object\n",
      " 1   source            1930 non-null   object\n",
      " 2   visits            1930 non-null   int32 \n",
      " 3   subcategory_name  1928 non-null   object\n",
      " 4   category_id       1928 non-null   object\n",
      " 5   category_name     1928 non-null   object\n",
      "dtypes: int32(1), object(5)\n",
      "memory usage: 83.1+ KB\n",
      "None\n",
      "\n",
      "Index(['subcategory_id', 'source', 'visits', 'subcategory_name', 'category_id',\n",
      "       'category_name'],\n",
      "      dtype='object')\n",
      "\n",
      "  subcategory_id  source  visits                subcategory_name category_id  \\\n",
      "0     cf2e61c7af  direct  501165              Мобильные телефоны  09f279a643   \n",
      "1     0cd903d1cc  direct  126342                        Ноутбуки  3509869a61   \n",
      "2     ef35bc88a7  direct   95626                      Телевизоры  09f279a643   \n",
      "3     6ff9f4014c  direct   75680                        Планшеты  3509869a61   \n",
      "4     72bc238e4d  direct   64435  Наушники и Bluetooth-гарнитуры  09f279a643   \n",
      "5     88c78ea685  direct   39638                            Шины  65922fa39c   \n",
      "6     179bfacf4a  direct   31007           Умные часы и браслеты  09f279a643   \n",
      "7     b0fb8f259a  direct   30324                        Мониторы  3509869a61   \n",
      "8     3c67eb2d90  direct   25878                   Наручные часы  6074ad29ac   \n",
      "9     24e6c815c6  direct   25276  Лекарственные препараты и БАДы  10a493e03b   \n",
      "\n",
      "                category_name  \n",
      "0                 Электроника  \n",
      "1        Компьютерная техника  \n",
      "2                 Электроника  \n",
      "3        Компьютерная техника  \n",
      "4                 Электроника  \n",
      "5                        Авто  \n",
      "6                 Электроника  \n",
      "7        Компьютерная техника  \n",
      "8  Одежда, обувь и аксессуары  \n",
      "9         Товары для здоровья  \n"
     ]
    }
   ],
   "source": [
    "data_final = pd.merge(data_subcategory, category_dict, on='category_id', how='left')\n",
    "data_final['visits'] = data_final['visits'].astype(str).str.replace('\"', '').astype(float).astype(int) \n",
    "\n",
    "print(data_final.info())\n",
    "print()\n",
    "print(data_final.columns)\n",
    "print()\n",
    "print(data_final.head(10))"
   ]
  },
  {
   "cell_type": "markdown",
   "id": "59badb89-3e1f-4dd5-82b5-5f68b4f815b2",
   "metadata": {},
   "source": [
    "## 3.6. `pivot_table` method"
   ]
  },
  {
   "cell_type": "markdown",
   "id": "e4583541-94bc-48ab-bf5b-41e4b53df06d",
   "metadata": {},
   "source": [
    "Сделаем по ней сводную таблицу методом `pivot_table():`"
   ]
  },
  {
   "cell_type": "markdown",
   "id": "9e380f38-5721-407d-aeba-ec31af0c1cda",
   "metadata": {},
   "source": [
    "Аргументы метода:\n",
    "\n",
    "* `data`: The DataFrame to use for creating the pivot table.\n",
    "* `values`: Column or list of columns to aggregate.\n",
    "* `index`: Column or list of columns to use as the row labels of the pivot table.\n",
    "* `columns`: Column or list of columns to use as the column labels of the pivot table.\n",
    "* `aggfunc`: Function to aggregate values. This can be a single function or a list of functions.\n",
    "* `fill_value`: Value to replace missing values with.\n",
    "* `margins`: If True, add a row and a column that will aggregate results over the other indexes.\n",
    "* `dropna`: If True, do not include columns whose entries are all NaN.\n",
    "* `margins_name`: Name of the row and column that will aggregate results (default is 'All').\n",
    "\n",
    "`pivot_table = pd.pivot_table(df, values=['Sales', 'Expenses'], index='Region', columns='Year', aggfunc='sum')` "
   ]
  },
  {
   "cell_type": "code",
   "execution_count": 176,
   "id": "bc7889db-404e-4cf6-b9d1-237b402276d1",
   "metadata": {},
   "outputs": [
    {
     "name": "stdout",
     "output_type": "stream",
     "text": [
      "source                                   direct  organic\n",
      "category_name subcategory_name                          \n",
      "Авто          Автоакустика                 5915    15433\n",
      "              Автомагнитолы                7783    18690\n",
      "              Автомобильные инверторы       145      150\n",
      "              Автомобильные компрессоры     407      790\n",
      "              Автомобильные телевизоры      975     2246\n"
     ]
    }
   ],
   "source": [
    "data_pivot = pd.pivot_table(data_final, index=['category_name', 'subcategory_name'], columns='source', values='visits', aggfunc='sum')\n",
    "print(data_pivot.head(5))"
   ]
  },
  {
   "cell_type": "markdown",
   "id": "9a696bac-1129-4e4e-8773-47892f7a3896",
   "metadata": {},
   "source": [
    "Как видно, основная категория включает в себя подкатегорию и это представлено в структуре датафрейма: категория отображена иерархически главной над подкатегорией. Такие датафреймы содержат в себе мультииндекс. Часто при работе с такими датафреймами мультииндекс убирают, чтобы категория была отображена на каждой строчке датафрейма:"
   ]
  },
  {
   "cell_type": "code",
   "execution_count": 178,
   "id": "a7033d05-f301-4e91-96a2-e6c4a2d0c07b",
   "metadata": {},
   "outputs": [
    {
     "name": "stdout",
     "output_type": "stream",
     "text": [
      "source category_name           subcategory_name  direct  organic\n",
      "0               Авто               Автоакустика    5915    15433\n",
      "1               Авто              Автомагнитолы    7783    18690\n",
      "2               Авто    Автомобильные инверторы     145      150\n",
      "3               Авто  Автомобильные компрессоры     407      790\n",
      "4               Авто   Автомобильные телевизоры     975     2246\n"
     ]
    }
   ],
   "source": [
    "data_pivot_reset_index = data_pivot.reset_index()\n",
    "print(data_pivot_reset_index.head(5))"
   ]
  },
  {
   "cell_type": "markdown",
   "id": "ddea08a4-b141-473b-9d31-002668083c4e",
   "metadata": {},
   "source": [
    "Решим ту же задачу по SEO-оптимизации методами `groupby()` и `agg()`:"
   ]
  },
  {
   "cell_type": "code",
   "execution_count": 282,
   "id": "fb59da36-7560-4970-87de-a61aaa4276eb",
   "metadata": {},
   "outputs": [
    {
     "name": "stdout",
     "output_type": "stream",
     "text": [
      "  subcategory_id  source  visits                subcategory_name category_id  \\\n",
      "0     cf2e61c7af  direct  501165              Мобильные телефоны  09f279a643   \n",
      "1     0cd903d1cc  direct  126342                        Ноутбуки  3509869a61   \n",
      "2     ef35bc88a7  direct   95626                      Телевизоры  09f279a643   \n",
      "3     6ff9f4014c  direct   75680                        Планшеты  3509869a61   \n",
      "4     72bc238e4d  direct   64435  Наушники и Bluetooth-гарнитуры  09f279a643   \n",
      "\n",
      "          category_name  \n",
      "0           Электроника  \n",
      "1  Компьютерная техника  \n",
      "2           Электроника  \n",
      "3  Компьютерная техника  \n",
      "4           Электроника  \n",
      "\n",
      "     subcategory_id   source  visits                subcategory_name  \\\n",
      "0        cf2e61c7af   direct  501165              Мобильные телефоны   \n",
      "1        0cd903d1cc   direct  126342                        Ноутбуки   \n",
      "2        ef35bc88a7   direct   95626                      Телевизоры   \n",
      "3        6ff9f4014c   direct   75680                        Планшеты   \n",
      "4        72bc238e4d   direct   64435  Наушники и Bluetooth-гарнитуры   \n",
      "...             ...      ...     ...                             ...   \n",
      "1924     779e246861  organic      15                       Проволока   \n",
      "1925     c51343bf77  organic      15             Свитеры и кардиганы   \n",
      "1926     d942687638  organic      13                      Термобелье   \n",
      "1927     976642886f  organic       9     Наклейки, шильдики и значки   \n",
      "1928     075994491e  organic       4             Гигиена полости рта   \n",
      "\n",
      "     category_id               category_name  \n",
      "0     09f279a643                 Электроника  \n",
      "1     3509869a61        Компьютерная техника  \n",
      "2     09f279a643                 Электроника  \n",
      "3     3509869a61        Компьютерная техника  \n",
      "4     09f279a643                 Электроника  \n",
      "...          ...                         ...  \n",
      "1924  394f20d8fa      Строительство и ремонт  \n",
      "1925  6074ad29ac  Одежда, обувь и аксессуары  \n",
      "1926  6074ad29ac  Одежда, обувь и аксессуары  \n",
      "1927  65922fa39c                        Авто  \n",
      "1928  7dbac4c1a3              Детские товары  \n",
      "\n",
      "[1928 rows x 6 columns]\n",
      "\n",
      "                                               visits\n",
      "category_name subcategory_name        source         \n",
      "Авто          Автоакустика            direct     5915\n",
      "                                      organic   15433\n",
      "              Автомагнитолы           direct     7783\n",
      "                                      organic   18690\n",
      "              Автомобильные инверторы direct      145\n"
     ]
    }
   ],
   "source": [
    "print(data_final.head(5))\n",
    "print()\n",
    "\n",
    "data_grouped =  data_final.groupby(['category_name','subcategory_name','source'])\n",
    "print(data_grouped.head(5))\n",
    "print()\n",
    "\n",
    "data_grouped_agg = data_final.groupby(['category_name','subcategory_name','source']).agg({'visits':'sum'})\n",
    "print(data_grouped_agg.head(5))"
   ]
  },
  {
   "cell_type": "code",
   "execution_count": 224,
   "id": "879bd2d8-311d-4dde-9eaa-3672ceb9e3ea",
   "metadata": {},
   "outputs": [
    {
     "name": "stdout",
     "output_type": "stream",
     "text": [
      "                                               visits  dailty_visits\n",
      "category_name subcategory_name        source                        \n",
      "Авто          Автоакустика            direct     5915            197\n",
      "                                      organic   15433            514\n",
      "              Автомагнитолы           direct     7783            259\n",
      "                                      organic   18690            623\n",
      "              Автомобильные инверторы direct      145              4\n"
     ]
    }
   ],
   "source": [
    "data_grouped_agg['dailty_visits'] = (data_grouped_agg['visits']/30).astype(int)\n",
    "print(data_grouped_agg.head(5))"
   ]
  },
  {
   "cell_type": "markdown",
   "id": "de6ff321-9ab4-4e64-8de9-d78b823df590",
   "metadata": {},
   "source": [
    "Создадим pivot_table"
   ]
  },
  {
   "cell_type": "code",
   "execution_count": 227,
   "id": "b3ab50c7-9a5a-431d-be42-82c4a5e74598",
   "metadata": {},
   "outputs": [
    {
     "name": "stdout",
     "output_type": "stream",
     "text": [
      "source                                    direct  organic\n",
      "category_name subcategory_name                           \n",
      "Авто          Автоакустика                  5915    15433\n",
      "              Автомагнитолы                 7783    18690\n",
      "              Автомобильные инверторы        145      150\n",
      "              Автомобильные компрессоры      407      790\n",
      "              Автомобильные телевизоры       975     2246\n",
      "              Автомобильные холодильники     204      285\n",
      "              Автосигнализации               494     1026\n",
      "              Аккумуляторные батареи        1175     2657\n",
      "              Антифризы                      736     1568\n",
      "              Багажники, рейлинги            342      664\n"
     ]
    }
   ],
   "source": [
    "data_pivot = pd.pivot_table(data_final, index=['category_name', 'subcategory_name'], columns='source', values='visits', aggfunc='sum')\n",
    "\n",
    "print(data_pivot.head(10))"
   ]
  },
  {
   "cell_type": "code",
   "execution_count": 231,
   "id": "4dd66b7a-0852-4b0a-b604-c47f52db7f8a",
   "metadata": {},
   "outputs": [
    {
     "name": "stdout",
     "output_type": "stream",
     "text": [
      "source                                    direct  organic  ratio\n",
      "category_name subcategory_name                                  \n",
      "Авто          Автоакустика                  5915    15433   2.61\n",
      "              Автомагнитолы                 7783    18690   2.40\n",
      "              Автомобильные инверторы        145      150   1.03\n",
      "              Автомобильные компрессоры      407      790   1.94\n",
      "              Автомобильные телевизоры       975     2246   2.30\n",
      "              Автомобильные холодильники     204      285   1.40\n",
      "              Автосигнализации               494     1026   2.08\n",
      "              Аккумуляторные батареи        1175     2657   2.26\n",
      "              Антифризы                      736     1568   2.13\n",
      "              Багажники, рейлинги            342      664   1.94\n"
     ]
    }
   ],
   "source": [
    "data_pivot['ratio'] = round(data_pivot['organic'] / data_pivot['direct'],2)\n",
    "\n",
    "print(data_pivot.head(10))"
   ]
  },
  {
   "cell_type": "code",
   "execution_count": 245,
   "id": "0174b9b7-051a-4375-9ec5-3bbe27c06fae",
   "metadata": {},
   "outputs": [
    {
     "name": "stdout",
     "output_type": "stream",
     "text": [
      "source                                                  direct  organic  ratio\n",
      "category_name              subcategory_name                                   \n",
      "Детские товары             Глобусы                          89       26   0.29\n",
      "Товары для красоты         Кисти, спонжи и аппликаторы      96       27   0.28\n",
      "Продукты                   Макароны                         86       24   0.28\n",
      "Спорт и отдых              Гребные тренажеры                89       24   0.27\n",
      "Детские товары             Играем в салон красоты           88       24   0.27\n",
      "                           Блокноты                         79       21   0.27\n",
      "Строительство и ремонт     Проволока                        76       15   0.20\n",
      "Одежда, обувь и аксессуары Термобелье                       67       13   0.19\n",
      "Авто                       Наклейки, шильдики и значки      50        9   0.18\n",
      "Детские товары             Гигиена полости рта              27        4   0.15\n"
     ]
    }
   ],
   "source": [
    "data_pivot = data_pivot.sort_values(['ratio'],ascending=False)\n",
    "print(data_pivot.tail(10))"
   ]
  },
  {
   "cell_type": "code",
   "execution_count": 278,
   "id": "56251861-0fb6-432a-b90f-e2111aa8c167",
   "metadata": {},
   "outputs": [
    {
     "name": "stdout",
     "output_type": "stream",
     "text": [
      "source                                                       direct  organic  \\\n",
      "category_name              subcategory_name                                    \n",
      "Товары для дома            Люстры                              2016     4209   \n",
      "Строительство и ремонт     Дисковые пилы                       2040     4255   \n",
      "Товары для дома            Компьютерные и письменные столы     1999     4177   \n",
      "Бытовая техника            Оверлоки и распошивальные машины    1536     3215   \n",
      "Строительство и ремонт     Воздушные компрессоры               1690     3520   \n",
      "Товары для здоровья        Бандажи и ортезы                    1659     3453   \n",
      "Строительство и ремонт     Нивелиры и лазерные уровни          1651     3436   \n",
      "Электроника                Защитные пленки и стекла            1560     3246   \n",
      "Одежда, обувь и аксессуары Туфли                               1035     2096   \n",
      "                           Сапоги                              1008     2021   \n",
      "\n",
      "source                                                       ratio  \n",
      "category_name              subcategory_name                         \n",
      "Товары для дома            Люстры                             2.09  \n",
      "Строительство и ремонт     Дисковые пилы                      2.09  \n",
      "Товары для дома            Компьютерные и письменные столы    2.09  \n",
      "Бытовая техника            Оверлоки и распошивальные машины   2.09  \n",
      "Строительство и ремонт     Воздушные компрессоры              2.08  \n",
      "Товары для здоровья        Бандажи и ортезы                   2.08  \n",
      "Строительство и ремонт     Нивелиры и лазерные уровни         2.08  \n",
      "Электроника                Защитные пленки и стекла           2.08  \n",
      "Одежда, обувь и аксессуары Туфли                              2.03  \n",
      "                           Сапоги                             2.00  \n"
     ]
    }
   ],
   "source": [
    "print(data_pivot[data_pivot['direct'] >1000].tail(10))"
   ]
  },
  {
   "cell_type": "code",
   "execution_count": null,
   "id": "5741dbeb-4ccf-445f-ab6c-97243010219b",
   "metadata": {},
   "outputs": [],
   "source": []
  },
  {
   "cell_type": "code",
   "execution_count": null,
   "id": "3a581dbc-09c0-4756-a26e-24deeb179af7",
   "metadata": {},
   "outputs": [],
   "source": []
  }
 ],
 "metadata": {
  "kernelspec": {
   "display_name": "Python 3 (ipykernel)",
   "language": "python",
   "name": "python3"
  },
  "language_info": {
   "codemirror_mode": {
    "name": "ipython",
    "version": 3
   },
   "file_extension": ".py",
   "mimetype": "text/x-python",
   "name": "python",
   "nbconvert_exporter": "python",
   "pygments_lexer": "ipython3",
   "version": "3.12.4"
  }
 },
 "nbformat": 4,
 "nbformat_minor": 5
}
