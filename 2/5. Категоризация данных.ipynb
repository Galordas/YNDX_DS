{
 "cells": [
  {
   "cell_type": "markdown",
   "id": "77076202-0d38-488c-aa07-008dd7ef6b55",
   "metadata": {},
   "source": [
    "## 5. Категориз/ация данных"
   ]
  },
  {
   "cell_type": "markdown",
   "id": "60a5c03b-e398-4e07-99dd-022bb9a49131",
   "metadata": {},
   "source": [
    "## 5.1. Классификация по типу"
   ]
  },
  {
   "cell_type": "code",
   "execution_count": 99,
   "id": "5fd1b3e7-bd51-4e4d-9ffb-cf08313d90f2",
   "metadata": {},
   "outputs": [
    {
     "name": "stdout",
     "output_type": "stream",
     "text": [
      "<class 'pandas.core.frame.DataFrame'>\n",
      "RangeIndex: 3000 entries, 0 to 2999\n",
      "Data columns (total 4 columns):\n",
      " #   Column           Non-Null Count  Dtype \n",
      "---  ------           --------------  ----- \n",
      " 0   user_id          3000 non-null   object\n",
      " 1   Тип обращения    3000 non-null   object\n",
      " 2   type_id          3000 non-null   int64 \n",
      " 3   Время обращения  3000 non-null   object\n",
      "dtypes: int64(1), object(3)\n",
      "memory usage: 93.9+ KB\n",
      "None\n",
      "\n",
      "    user_id                Тип обращения  type_id      Время обращения\n",
      "0  DNcd8dnS   Жалоба на товар в магазине        3  2019-03-28 13:58:24\n",
      "1  0e9MvwGs                Мошенничество        5  2019-03-08 17:11:59\n",
      "2  boyDUG4C                Мошенничество        5  2019-03-03 17:52:34\n",
      "3  5jMA27s1   Жалоба на товар в магазине        3  2019-03-16 15:18:21\n",
      "4  wvtyctOK             Накрутка отзывов        2  2019-03-13 14:43:14\n",
      "5  zvN8W1tc         Жалоба на видеообзор        8  2019-03-29 20:32:17\n",
      "6  bBmybSbr             Не работает сайт        1  2019-04-08 21:37:15\n",
      "7  5JX1P5G8  Продажа запрещенных товаров        6  2019-04-06 12:15:20\n",
      "8  pbbG3xWx             Не работает сайт        1  2019-04-09 17:30:43\n",
      "9  vZWtTovT   Жалоба на товар в магазине        3  2019-04-16 12:26:16\n",
      "\n",
      "Index(['user_id', 'Тип обращения', 'type_id', 'Время обращения'], dtype='object')\n"
     ]
    }
   ],
   "source": [
    "import pandas as pd\n",
    "\n",
    "support = pd.read_csv(r'E:\\COURSES\\Кодинг\\[Yandex praxis]. DS specialist + (2022)\\2\\[SuperSliv.biz] 05 Категоризация данных\\02 work\\support.csv')\n",
    "print(support.info())\n",
    "print()\n",
    "print(support.head(10))\n",
    "print()\n",
    "print(support.columns)"
   ]
  },
  {
   "cell_type": "code",
   "execution_count": 101,
   "id": "eb10f9ba-04a0-4103-a2e7-8f9db7156860",
   "metadata": {},
   "outputs": [
    {
     "name": "stdout",
     "output_type": "stream",
     "text": [
      "\n",
      "       user_id                type_message  type_id           time_stamp\n",
      "0     DNcd8dnS  Жалоба на товар в магазине        3  2019-03-28 13:58:24\n",
      "1     0e9MvwGs               Мошенничество        5  2019-03-08 17:11:59\n",
      "2     boyDUG4C               Мошенничество        5  2019-03-03 17:52:34\n",
      "3     5jMA27s1  Жалоба на товар в магазине        3  2019-03-16 15:18:21\n",
      "4     wvtyctOK            Накрутка отзывов        2  2019-03-13 14:43:14\n",
      "...        ...                         ...      ...                  ...\n",
      "2995  6X0OF5EB  Жалоба на товар в магазине        3  2019-04-23 17:30:21\n",
      "2996  dQ4DCfeo  Жалоба на товар в магазине        3  2019-04-02 14:13:30\n",
      "2997  nSwKhw7e  Жалоба на товар в магазине        3  2019-03-02 10:53:54\n",
      "2998  UE5G4T3x  Жалоба на товар в магазине        3  2019-03-24 10:21:57\n",
      "2999  uwPq9D2m            Не работает сайт        1  2019-04-20 15:45:55\n",
      "\n",
      "[3000 rows x 4 columns]\n"
     ]
    }
   ],
   "source": [
    "support = support.rename(columns = {'Тип обращения':'type_message', 'Время обращения':'time_stamp'})\n",
    "print()\n",
    "print(support)"
   ]
  },
  {
   "cell_type": "code",
   "execution_count": 103,
   "id": "969e834e-bb0e-4037-845c-2dfebb508630",
   "metadata": {},
   "outputs": [
    {
     "name": "stdout",
     "output_type": "stream",
     "text": [
      "type_message\n",
      "Жалоба на видеообзор            297\n",
      "Жалоба на товар в магазине      606\n",
      "Мошенничество                   586\n",
      "Накрутка отзывов                302\n",
      "Не работает сайт                311\n",
      "Отзыв удалён                    283\n",
      "Продажа запрещенных товаров     303\n",
      "Продажа поддельной продукции    312\n",
      "Name: count, dtype: int64\n"
     ]
    }
   ],
   "source": [
    "print(support.groupby(['type_message'])['type_message'].value_counts())"
   ]
  },
  {
   "cell_type": "code",
   "execution_count": 105,
   "id": "c2e21496-a64c-4b4d-a1dc-989462ed0881",
   "metadata": {},
   "outputs": [
    {
     "name": "stdout",
     "output_type": "stream",
     "text": [
      "    user_id  type_id           time_stamp\n",
      "0  DNcd8dnS        3  2019-03-28 13:58:24\n",
      "1  0e9MvwGs        5  2019-03-08 17:11:59\n",
      "2  boyDUG4C        5  2019-03-03 17:52:34\n",
      "3  5jMA27s1        3  2019-03-16 15:18:21\n",
      "4  wvtyctOK        2  2019-03-13 14:43:14\n",
      "5  zvN8W1tc        8  2019-03-29 20:32:17\n",
      "6  bBmybSbr        1  2019-04-08 21:37:15\n",
      "7  5JX1P5G8        6  2019-04-06 12:15:20\n",
      "8  pbbG3xWx        1  2019-04-09 17:30:43\n",
      "9  vZWtTovT        3  2019-04-16 12:26:16\n"
     ]
    }
   ],
   "source": [
    "support_log = support[['user_id','type_id','time_stamp']]\n",
    "print(support_log.head(10))"
   ]
  },
  {
   "cell_type": "code",
   "execution_count": 107,
   "id": "2757ce49-c16e-4d9c-8df1-df8897e8ace8",
   "metadata": {},
   "outputs": [
    {
     "name": "stdout",
     "output_type": "stream",
     "text": [
      "                  type_message  type_id\n",
      "0   Жалоба на товар в магазине        3\n",
      "1                Мошенничество        5\n",
      "2                Мошенничество        5\n",
      "3   Жалоба на товар в магазине        3\n",
      "4             Накрутка отзывов        2\n",
      "5         Жалоба на видеообзор        8\n",
      "6             Не работает сайт        1\n",
      "7  Продажа запрещенных товаров        6\n",
      "8             Не работает сайт        1\n",
      "9   Жалоба на товар в магазине        3\n",
      "<class 'pandas.core.frame.DataFrame'>\n",
      "RangeIndex: 3000 entries, 0 to 2999\n",
      "Data columns (total 2 columns):\n",
      " #   Column        Non-Null Count  Dtype \n",
      "---  ------        --------------  ----- \n",
      " 0   type_message  3000 non-null   object\n",
      " 1   type_id       3000 non-null   int64 \n",
      "dtypes: int64(1), object(1)\n",
      "memory usage: 47.0+ KB\n",
      "None\n"
     ]
    }
   ],
   "source": [
    "support_dict = support[['type_message','type_id']]\n",
    "print(support_dict.head(10))\n",
    "print(support_dict.info())"
   ]
  },
  {
   "cell_type": "code",
   "execution_count": 114,
   "id": "9cc60fdf-0461-487b-89e4-fa4c509a345b",
   "metadata": {},
   "outputs": [
    {
     "name": "stdout",
     "output_type": "stream",
     "text": [
      "<class 'pandas.core.frame.DataFrame'>\n",
      "Index: 8 entries, 4 to 3\n",
      "Data columns (total 2 columns):\n",
      " #   Column        Non-Null Count  Dtype \n",
      "---  ------        --------------  ----- \n",
      " 0   type_message  8 non-null      object\n",
      " 1   type_id       8 non-null      int64 \n",
      "dtypes: int64(1), object(1)\n",
      "memory usage: 192.0+ bytes\n",
      "None\n",
      "                   type_message  type_id\n",
      "4              Не работает сайт        1\n",
      "2              Накрутка отзывов        2\n",
      "0    Жалоба на товар в магазине        3\n",
      "6  Продажа поддельной продукции        4\n",
      "1                 Мошенничество        5\n",
      "5   Продажа запрещенных товаров        6\n",
      "7                  Отзыв удалён        7\n",
      "3          Жалоба на видеообзор        8\n"
     ]
    }
   ],
   "source": [
    "support_dict = support_dict.drop_duplicates().reset_index(drop=True).sort_values(['type_id'], ascending=True)\n",
    "print(support_dict.info())\n",
    "print(support_dict.head(10))"
   ]
  },
  {
   "cell_type": "markdown",
   "id": "732bf073-1639-4346-bcc8-a7a3cd66cd46",
   "metadata": {},
   "source": [
    "## 5.2. Классификация по возрастным группам"
   ]
  },
  {
   "cell_type": "code",
   "execution_count": 287,
   "id": "c5b4e241-ca85-4bc3-803d-2c454dac03a5",
   "metadata": {},
   "outputs": [
    {
     "name": "stdout",
     "output_type": "stream",
     "text": [
      "<class 'pandas.core.frame.DataFrame'>\n",
      "RangeIndex: 3000 entries, 0 to 2999\n",
      "Data columns (total 4 columns):\n",
      " #   Column      Non-Null Count  Dtype \n",
      "---  ------      --------------  ----- \n",
      " 0   Unnamed: 0  3000 non-null   int64 \n",
      " 1   user_id     3000 non-null   object\n",
      " 2   type_id     3000 non-null   int64 \n",
      " 3   timestamp   3000 non-null   object\n",
      "dtypes: int64(2), object(2)\n",
      "memory usage: 93.9+ KB\n",
      "None\n",
      "\n",
      "   Unnamed: 0   user_id  type_id            timestamp\n",
      "0           0  DNcd8dnS        3  2019-03-28 13:58:24\n",
      "1           1  0e9MvwGs        5  2019-03-08 17:11:59\n",
      "2           2  boyDUG4C        5  2019-03-03 17:52:34\n",
      "3           3  5jMA27s1        3  2019-03-16 15:18:21\n",
      "4           4  wvtyctOK        2  2019-03-13 14:43:14\n",
      "5           5  zvN8W1tc        8  2019-03-29 20:32:17\n",
      "6           6  bBmybSbr        1  2019-04-08 21:37:15\n",
      "7           7  5JX1P5G8        6  2019-04-06 12:15:20\n",
      "8           8  pbbG3xWx        1  2019-04-09 17:30:43\n",
      "9           9  vZWtTovT        3  2019-04-16 12:26:16\n",
      "\n",
      "Index(['Unnamed: 0', 'user_id', 'type_id', 'timestamp'], dtype='object')\n"
     ]
    }
   ],
   "source": [
    "import pandas as pd\n",
    "\n",
    "support = pd.read_csv(r'E:\\COURSES\\Кодинг\\[Yandex praxis]. DS specialist + (2022)\\2\\[SuperSliv.biz] 05 Категоризация данных\\04 work\\support_log.csv')\n",
    "print(support.info())\n",
    "print()\n",
    "print(support.head(10))\n",
    "print()\n",
    "print(support.columns)"
   ]
  },
  {
   "cell_type": "code",
   "execution_count": 245,
   "id": "19778d89-61c7-474b-8fe1-8dafc4fce928",
   "metadata": {},
   "outputs": [
    {
     "name": "stdout",
     "output_type": "stream",
     "text": [
      "         Unnamed: 0  user_id  timestamp\n",
      "type_id                                \n",
      "1               311      311        311\n",
      "2               302      302        302\n",
      "3               606      606        606\n",
      "4               312      312        312\n",
      "5               586      586        586\n",
      "6               303      303        303\n",
      "7               283      283        283\n",
      "8               297      297        297\n",
      "Index(['Unnamed: 0', 'user_id', 'timestamp'], dtype='object')\n"
     ]
    }
   ],
   "source": [
    "support_log_grouped = support.groupby('type_id').count()\n",
    "print(support_log_grouped)\n",
    "print(support_log_grouped.columns)"
   ]
  },
  {
   "cell_type": "markdown",
   "id": "937a151f-e039-48c4-b015-fa6d7e681a6e",
   "metadata": {},
   "source": [
    "Напишите функцию `alert_group(messages)` , которая оценивает приоритет в зависимости от количества сообщений. Если параметр не более `300`, она должна возвращать строку `'средний'`, если значение параметра от `301` до `500` включительно, тогда строку `'высокий'`. Для более высоких значений должна возвращаться строка `'критичный'`.\n",
    "Проверьте, что ваша функция отвечает верно, когда ей передают числа `10`, `450`, `1000`. Каждое значение выводите на новой строке."
   ]
  },
  {
   "cell_type": "code",
   "execution_count": 248,
   "id": "e3655b6c-4f8f-456f-ae01-390e63afcad7",
   "metadata": {},
   "outputs": [],
   "source": [
    "def alert_group(messages):\n",
    "    if messages<300:\n",
    "        return 'средний' \n",
    "    elif messages<=500:\n",
    "        return 'высокий' \n",
    "    else:\n",
    "        return ('критичный')"
   ]
  },
  {
   "cell_type": "markdown",
   "id": "44b8a230-50f8-4985-acb1-c1b926638c75",
   "metadata": {},
   "source": [
    "Добавьте к таблице `support_log_grouped` столбец `'alert_group'`, где хранятся результаты применения вашей функции `alert_group()`.\n",
    "Закомментируйте результаты предыдущего задания. Посмотрите верхние 10 строк `support_log_grouped`: убедитесь, что функция правильно расставила приоритеты."
   ]
  },
  {
   "cell_type": "code",
   "execution_count": 265,
   "id": "271c7125-290c-40ef-80c4-983cd07cf39b",
   "metadata": {},
   "outputs": [
    {
     "name": "stdout",
     "output_type": "stream",
     "text": [
      "         Unnamed: 0  user_id  timestamp alert_group\n",
      "type_id                                            \n",
      "1               311      311        311     высокий\n",
      "2               302      302        302     высокий\n",
      "3               606      606        606   критичный\n",
      "4               312      312        312     высокий\n",
      "5               586      586        586   критичный\n",
      "6               303      303        303     высокий\n",
      "7               283      283        283     средний\n",
      "8               297      297        297     средний\n"
     ]
    }
   ],
   "source": [
    "support_log_grouped['alert_group'] = support_log_grouped['user_id'].apply(alert_group)\n",
    "print(support_log_grouped.head(10))"
   ]
  },
  {
   "cell_type": "code",
   "execution_count": 267,
   "id": "1d2e9cc8-36e7-4796-a9c2-8263b5e52007",
   "metadata": {},
   "outputs": [
    {
     "name": "stdout",
     "output_type": "stream",
     "text": [
      "             Unnamed: 0  user_id  timestamp\n",
      "alert_group                                \n",
      "высокий            1228     1228       1228\n",
      "критичный          1192     1192       1192\n",
      "средний             580      580        580\n"
     ]
    }
   ],
   "source": [
    "print(support_log_grouped.groupby('alert_group').sum())"
   ]
  },
  {
   "cell_type": "markdown",
   "id": "3ad6c10f-39f3-4c4b-8029-fcf2f05734f0",
   "metadata": {},
   "source": [
    "## 5.3. Функция для одной строки"
   ]
  },
  {
   "cell_type": "code",
   "execution_count": 297,
   "id": "6e529110-3778-4391-b036-14de7f3c5738",
   "metadata": {},
   "outputs": [
    {
     "name": "stdout",
     "output_type": "stream",
     "text": [
      "   type_id  user_id  timestamp alert_group  importance\n",
      "0        1      311        311     высокий           1\n",
      "1        2      302        302     высокий           0\n",
      "2        3      606        606   критичный           0\n",
      "3        4      312        312     высокий           1\n",
      "4        5      586        586   критичный           1\n",
      "5        6      303        303     высокий           1\n",
      "6        7      283        283     средний           1\n",
      "7        8      297        297     средний           0\n",
      "\n",
      "<class 'pandas.core.frame.DataFrame'>\n",
      "RangeIndex: 8 entries, 0 to 7\n",
      "Data columns (total 5 columns):\n",
      " #   Column       Non-Null Count  Dtype \n",
      "---  ------       --------------  ----- \n",
      " 0   type_id      8 non-null      int64 \n",
      " 1   user_id      8 non-null      int64 \n",
      " 2   timestamp    8 non-null      int64 \n",
      " 3   alert_group  8 non-null      object\n",
      " 4   importance   8 non-null      int64 \n",
      "dtypes: int64(4), object(1)\n",
      "memory usage: 452.0+ bytes\n",
      "None\n",
      "\n",
      "Index(['type_id', 'user_id', 'timestamp', 'alert_group', 'importance'], dtype='object')\n"
     ]
    }
   ],
   "source": [
    "import pandas as pd\n",
    "\n",
    "support_logs_grouped = pd.read_csv(r'E:\\COURSES\\Кодинг\\[Yandex praxis]. DS specialist + (2022)\\2\\[SuperSliv.biz] 05 Категоризация данных\\05 work\\support_log_grouped.csv')\n",
    "\n",
    "print(support_logs_grouped.head(10))\n",
    "print()\n",
    "print(support_logs_grouped.info())\n",
    "print()\n",
    "print(support_logs_grouped.columns)"
   ]
  },
  {
   "cell_type": "code",
   "execution_count": 317,
   "id": "864a9a12-e906-47e8-99ed-ddd32be809d9",
   "metadata": {},
   "outputs": [],
   "source": [
    "def alert_group_importance(row):\n",
    "        if (row['alert_group'] == 'средний') & (row['importance']==1):\n",
    "            return 'обратить внимание'\n",
    "        elif (row['alert_group'] == 'высокий') & (row['importance']==1):\n",
    "            return 'высокий риск'\n",
    "        elif (row['alert_group'] == 'критичный') & (row['importance']==1):\n",
    "            return 'блокер'\n",
    "        else:\n",
    "            return 'в порядке очереди'"
   ]
  },
  {
   "cell_type": "code",
   "execution_count": 319,
   "id": "05bb77d7-ffd3-45a1-b6e4-d3be1ddc4f67",
   "metadata": {},
   "outputs": [
    {
     "name": "stdout",
     "output_type": "stream",
     "text": [
      "   type_id  user_id  timestamp alert_group  importance  importance_status\n",
      "0        1      311        311     высокий           1       высокий риск\n",
      "1        2      302        302     высокий           0  в порядке очереди\n",
      "2        3      606        606   критичный           0  в порядке очереди\n",
      "3        4      312        312     высокий           1       высокий риск\n",
      "4        5      586        586   критичный           1             блокер\n",
      "5        6      303        303     высокий           1       высокий риск\n",
      "6        7      283        283     средний           1  обратить внимание\n",
      "7        8      297        297     средний           0  в порядке очереди\n"
     ]
    }
   ],
   "source": [
    "support_logs_grouped['importance_status'] = support_logs_grouped.apply(alert_group_importance, axis=1)\n",
    "print(support_logs_grouped)"
   ]
  },
  {
   "cell_type": "code",
   "execution_count": 335,
   "id": "19623548-68fb-410d-96c2-e018e4ebfec5",
   "metadata": {},
   "outputs": [
    {
     "name": "stdout",
     "output_type": "stream",
     "text": [
      "importance_status\n",
      "блокер               1\n",
      "в порядке очереди    3\n",
      "высокий риск         3\n",
      "обратить внимание    1\n",
      "Name: importance_status, dtype: int64\n",
      "importance_status\n",
      "высокий риск         3\n",
      "в порядке очереди    3\n",
      "блокер               1\n",
      "обратить внимание    1\n",
      "Name: count, dtype: int64\n"
     ]
    }
   ],
   "source": [
    "print(support_logs_grouped.groupby('importance_status')['importance_status'].count())\n",
    "print(support_logs_grouped['importance_status'].value_counts())"
   ]
  }
 ],
 "metadata": {
  "kernelspec": {
   "display_name": "Python 3 (ipykernel)",
   "language": "python",
   "name": "python3"
  },
  "language_info": {
   "codemirror_mode": {
    "name": "ipython",
    "version": 3
   },
   "file_extension": ".py",
   "mimetype": "text/x-python",
   "name": "python",
   "nbconvert_exporter": "python",
   "pygments_lexer": "ipython3",
   "version": "3.12.3"
  }
 },
 "nbformat": 4,
 "nbformat_minor": 5
}
