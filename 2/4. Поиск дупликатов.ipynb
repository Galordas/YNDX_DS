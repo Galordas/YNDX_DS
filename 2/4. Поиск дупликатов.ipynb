{
 "cells": [
  {
   "cell_type": "code",
   "execution_count": 357,
   "id": "dd189421-db0e-4160-aeb6-59a223ec91a3",
   "metadata": {},
   "outputs": [
    {
     "name": "stdout",
     "output_type": "stream",
     "text": [
      "['storehouse']\n",
      "<class 'pandas.core.frame.DataFrame'>\n",
      "RangeIndex: 10 entries, 0 to 9\n",
      "Data columns (total 3 columns):\n",
      " #   Column  Non-Null Count  Dtype \n",
      "---  ------  --------------  ----- \n",
      " 0   id      10 non-null     int64 \n",
      " 1   item    10 non-null     object\n",
      " 2   count   10 non-null     int64 \n",
      "dtypes: int64(2), object(1)\n",
      "memory usage: 372.0+ bytes\n",
      "None\n",
      "\n",
      "Index(['id', 'item', 'count'], dtype='object')\n",
      "\n",
      "          id                              item  count\n",
      "0  100480924     Смартфон Xiaomi Redmi 6A 16GB     32\n",
      "1  100480929     Смартфон Xiaomi Redmi 6A 16GB     10\n",
      "2  100480938  Смартфон Samsung Galaxy A30 32GB     49\n",
      "3  100480952  смартфон Samsung Galaxy A30 32gb     11\n",
      "4  100480959          Смартфон HUAWEI P30 lite      5\n",
      "5  100480975     Смартфон Apple iPhone Xr 64gb     10\n",
      "6  100480988            Смартфон Honor 8X 64GB     64\n",
      "7  100480998          Смартфон HUAWEI P30 lite     33\n",
      "8  100481008     Смартфон Xiaomi Redmi 6A 16GB      2\n",
      "9  100481020     Смартфон Apple iPhone Xr 64GB     19\n"
     ]
    }
   ],
   "source": [
    "import pandas as pd\n",
    "\n",
    "print(list(pd.read_excel(r'E:\\COURSES\\Кодинг\\[Yandex praxis]. DS specialist + (2022)\\2\\[SuperSliv.biz] 04 Поиск дубликатов\\02 work\\stock.xlsx',sheet_name=None)))\n",
    "\n",
    "stocks = pd.read_excel(r'E:\\COURSES\\Кодинг\\[Yandex praxis]. DS specialist + (2022)\\2\\[SuperSliv.biz] 04 Поиск дубликатов\\02 work\\stock.xlsx',sheet_name='storehouse')\n",
    "\n",
    "print(stocks.info())\n",
    "print()\n",
    "print(stocks.columns)\n",
    "print()\n",
    "print(stocks.head(10))"
   ]
  },
  {
   "cell_type": "code",
   "execution_count": 359,
   "id": "50457a25-92cc-4445-a122-f2e2a307a536",
   "metadata": {},
   "outputs": [
    {
     "name": "stdout",
     "output_type": "stream",
     "text": [
      "['Смартфон Xiaomi Redmi 6A 16GB' 'Смартфон Samsung Galaxy A30 32GB'\n",
      " 'смартфон Samsung Galaxy A30 32gb' 'Смартфон HUAWEI P30 lite'\n",
      " 'Смартфон Apple iPhone Xr 64gb' 'Смартфон Honor 8X 64GB'\n",
      " 'Смартфон Apple iPhone Xr 64GB']\n"
     ]
    }
   ],
   "source": [
    "print(stocks['item'].unique())"
   ]
  },
  {
   "cell_type": "code",
   "execution_count": 361,
   "id": "26f9ed57-3000-426e-8e0e-b75de19c72a6",
   "metadata": {
    "scrolled": true
   },
   "outputs": [
    {
     "name": "stdout",
     "output_type": "stream",
     "text": [
      "          id                           item  count\n",
      "1  100480929  Смартфон Xiaomi Redmi 6A 16GB     10\n",
      "7  100480998       Смартфон HUAWEI P30 lite     33\n",
      "8  100481008  Смартфон Xiaomi Redmi 6A 16GB      2\n"
     ]
    }
   ],
   "source": [
    "print(stocks[stocks['item'].duplicated()])"
   ]
  },
  {
   "cell_type": "code",
   "execution_count": 363,
   "id": "3d5564af-5fdb-4201-aa18-446fe5926080",
   "metadata": {},
   "outputs": [
    {
     "name": "stdout",
     "output_type": "stream",
     "text": [
      "item\n",
      "Смартфон Xiaomi Redmi 6A 16GB       3\n",
      "Смартфон HUAWEI P30 lite            2\n",
      "Смартфон Samsung Galaxy A30 32GB    1\n",
      "смартфон Samsung Galaxy A30 32gb    1\n",
      "Смартфон Apple iPhone Xr 64gb       1\n",
      "Смартфон Honor 8X 64GB              1\n",
      "Смартфон Apple iPhone Xr 64GB       1\n",
      "Name: count, dtype: int64\n"
     ]
    }
   ],
   "source": [
    "print(stocks['item'].value_counts())"
   ]
  },
  {
   "cell_type": "code",
   "execution_count": 365,
   "id": "faba89e8-5e51-47c7-ad82-d29f16d8c5ac",
   "metadata": {},
   "outputs": [
    {
     "name": "stdout",
     "output_type": "stream",
     "text": [
      "44\n"
     ]
    }
   ],
   "source": [
    "xiaomi = stocks[stocks['item'] == 'Смартфон Xiaomi Redmi 6A 16GB']['count'].sum()\n",
    "print(xiaomi)"
   ]
  },
  {
   "cell_type": "code",
   "execution_count": 367,
   "id": "bf750955-e0a1-49d1-8389-9677c7cf5cfb",
   "metadata": {},
   "outputs": [
    {
     "name": "stdout",
     "output_type": "stream",
     "text": [
      "38\n"
     ]
    }
   ],
   "source": [
    "huawei = stocks[stocks['item'] == 'Смартфон HUAWEI P30 lite']['count'].sum()\n",
    "print(huawei)"
   ]
  },
  {
   "cell_type": "code",
   "execution_count": 369,
   "id": "06daef7c-ce45-47da-959a-1cbb13859f3d",
   "metadata": {},
   "outputs": [
    {
     "name": "stdout",
     "output_type": "stream",
     "text": [
      "          id                              item  count\n",
      "0  100480924     Смартфон Xiaomi Redmi 6A 16GB     32\n",
      "1  100480929                               NaN     10\n",
      "2  100480938  Смартфон Samsung Galaxy A30 32GB     49\n",
      "3  100480952  смартфон Samsung Galaxy A30 32gb     11\n",
      "4  100480959          Смартфон HUAWEI P30 lite      5\n",
      "5  100480975     Смартфон Apple iPhone Xr 64gb     10\n",
      "6  100480988            Смартфон Honor 8X 64GB     64\n",
      "7  100480998                               NaN     33\n",
      "8  100481008                               NaN      2\n",
      "9  100481020     Смартфон Apple iPhone Xr 64GB     19\n"
     ]
    }
   ],
   "source": [
    "stocks['item'] = stocks['item'].drop_duplicates()\n",
    "print(stocks)"
   ]
  },
  {
   "cell_type": "code",
   "execution_count": 371,
   "id": "1e2b135e-47cf-4c9a-8ad6-fa14413e8498",
   "metadata": {},
   "outputs": [
    {
     "name": "stdout",
     "output_type": "stream",
     "text": [
      "3\n",
      "\n",
      "          id                              item  count\n",
      "0  100480924     Смартфон Xiaomi Redmi 6A 16GB     32\n",
      "1  100480929                               NaN     10\n",
      "2  100480938  Смартфон Samsung Galaxy A30 32GB     49\n",
      "3  100480952  смартфон Samsung Galaxy A30 32gb     11\n",
      "4  100480959          Смартфон HUAWEI P30 lite      5\n",
      "5  100480975     Смартфон Apple iPhone Xr 64gb     10\n",
      "6  100480988            Смартфон Honor 8X 64GB     64\n",
      "7  100480998                               NaN     33\n",
      "8  100481008                               NaN      2\n",
      "9  100481020     Смартфон Apple iPhone Xr 64GB     19\n",
      "\n",
      "          id                              item  count\n",
      "0  100480924     Смартфон Xiaomi Redmi 6A 16GB     32\n",
      "1  100480938  Смартфон Samsung Galaxy A30 32GB     49\n",
      "2  100480952  смартфон Samsung Galaxy A30 32gb     11\n",
      "3  100480959          Смартфон HUAWEI P30 lite      5\n",
      "4  100480975     Смартфон Apple iPhone Xr 64gb     10\n",
      "5  100480988            Смартфон Honor 8X 64GB     64\n",
      "6  100481020     Смартфон Apple iPhone Xr 64GB     19\n",
      "\n",
      "0\n"
     ]
    }
   ],
   "source": [
    "print(stocks[stocks.isna().any(axis=1)].shape[0])\n",
    "print()\n",
    "print(stocks)\n",
    "print()\n",
    "stocks = stocks.dropna().reset_index(drop=True)\n",
    "print(stocks)\n",
    "print()\n",
    "print(stocks[stocks.isna().any(axis=1)].shape[0])"
   ]
  },
  {
   "cell_type": "code",
   "execution_count": 378,
   "id": "0f4388c3-3a5f-4b12-994c-4ebcd4ab8435",
   "metadata": {},
   "outputs": [
    {
     "name": "stdout",
     "output_type": "stream",
     "text": [
      "          id                              item  count\n",
      "0  100480924     Смартфон Xiaomi Redmi 6A 16GB     44\n",
      "1  100480938  Смартфон Samsung Galaxy A30 32GB     49\n",
      "2  100480952  смартфон Samsung Galaxy A30 32gb     11\n",
      "3  100480959          Смартфон HUAWEI P30 lite     38\n",
      "4  100480975     Смартфон Apple iPhone Xr 64gb     10\n",
      "5  100480988            Смартфон Honor 8X 64GB     64\n",
      "6  100481020     Смартфон Apple iPhone Xr 64GB     19\n"
     ]
    }
   ],
   "source": [
    "stocks.loc[stocks['item'] =='Смартфон Xiaomi Redmi 6A 16GB','count'] = xiaomi\n",
    "stocks.loc[stocks['item'] =='Смартфон HUAWEI P30 lite','count'] = huawei\n",
    "print(stocks)"
   ]
  },
  {
   "cell_type": "markdown",
   "id": "121463a9-c7a3-4d9c-8127-c0c817dfb647",
   "metadata": {},
   "source": [
    "Переведите названия моделей в нижний регистр методом `str.lower()`. Сохраните их в новом столбце `'item_lowercase'`.\n",
    "Распечатайте таблицу после преобразования."
   ]
  },
  {
   "cell_type": "code",
   "execution_count": 383,
   "id": "3c0e1e94-71b7-4e93-87ca-38b45f3a39c5",
   "metadata": {},
   "outputs": [
    {
     "name": "stdout",
     "output_type": "stream",
     "text": [
      "          id                              item  count  \\\n",
      "0  100480924     Смартфон Xiaomi Redmi 6A 16GB     44   \n",
      "1  100480938  Смартфон Samsung Galaxy A30 32GB     49   \n",
      "2  100480952  смартфон Samsung Galaxy A30 32gb     11   \n",
      "3  100480959          Смартфон HUAWEI P30 lite     38   \n",
      "4  100480975     Смартфон Apple iPhone Xr 64gb     10   \n",
      "5  100480988            Смартфон Honor 8X 64GB     64   \n",
      "6  100481020     Смартфон Apple iPhone Xr 64GB     19   \n",
      "\n",
      "                     item_lowercase  \n",
      "0     смартфон xiaomi redmi 6a 16gb  \n",
      "1  смартфон samsung galaxy a30 32gb  \n",
      "2  смартфон samsung galaxy a30 32gb  \n",
      "3          смартфон huawei p30 lite  \n",
      "4     смартфон apple iphone xr 64gb  \n",
      "5            смартфон honor 8x 64gb  \n",
      "6     смартфон apple iphone xr 64gb  \n"
     ]
    }
   ],
   "source": [
    "stocks['item_lowercase'] = stocks['item'].str.lower()\n",
    "\n",
    "print(stocks)"
   ]
  },
  {
   "cell_type": "code",
   "execution_count": 389,
   "id": "8ee946cb-380b-4bd6-8250-cdde52414c80",
   "metadata": {},
   "outputs": [
    {
     "name": "stdout",
     "output_type": "stream",
     "text": [
      "item_lowercase\n",
      "смартфон samsung galaxy a30 32gb    2\n",
      "смартфон apple iphone xr 64gb       2\n",
      "смартфон xiaomi redmi 6a 16gb       1\n",
      "смартфон huawei p30 lite            1\n",
      "смартфон honor 8x 64gb              1\n",
      "Name: count, dtype: int64\n"
     ]
    }
   ],
   "source": [
    "print(stocks['item_lowercase'].value_counts())"
   ]
  },
  {
   "cell_type": "code",
   "execution_count": 401,
   "id": "12f09ae0-84b9-4837-9374-a9b87b1a5039",
   "metadata": {},
   "outputs": [
    {
     "name": "stdout",
     "output_type": "stream",
     "text": [
      "29\n",
      "\n",
      "60\n"
     ]
    }
   ],
   "source": [
    "apple = stocks[stocks['item_lowercase'] == 'смартфон apple iphone xr 64gb']['count'].sum()\n",
    "print(apple)\n",
    "print()\n",
    "\n",
    "samsung = stocks[stocks['item_lowercase'] =='смартфон samsung galaxy a30 32gb']['count'].sum()\n",
    "print(samsung)"
   ]
  },
  {
   "cell_type": "code",
   "execution_count": 427,
   "id": "671ca0fd-d7a5-4bab-885e-b0ddfb7ef2b8",
   "metadata": {},
   "outputs": [
    {
     "name": "stdout",
     "output_type": "stream",
     "text": [
      "          id                              item  count\n",
      "0  100480924     смартфон xiaomi redmi 6a 16gb     44\n",
      "1  100480938  смартфон samsung galaxy a30 32gb     60\n",
      "3  100480959          смартфон huawei p30 lite     38\n",
      "4  100480975     смартфон apple iphone xr 64gb     29\n",
      "5  100480988            смартфон honor 8x 64gb     64\n"
     ]
    }
   ],
   "source": [
    "stocks['item_lowercase'] = stocks['item_lowercase'].drop_duplicates()\n",
    "stocks = stocks.dropna()\n",
    "\n",
    "stocks.loc[stocks['item_lowercase'] == 'смартфон apple iphone xr 64gb','count'] = apple\n",
    "stocks.loc[stocks['item_lowercase'] == 'смартфон samsung galaxy a30 32gb','count'] = samsung\n",
    "\n",
    "stocks['item'] = stocks['item_lowercase']\n",
    "stocks = stocks.drop('item_lowercase',axis=1)\n",
    "\n",
    "print(stocks)"
   ]
  },
  {
   "cell_type": "code",
   "execution_count": null,
   "id": "e5831ec5-dd8f-4f60-8772-88eb1c290874",
   "metadata": {},
   "outputs": [],
   "source": []
  }
 ],
 "metadata": {
  "kernelspec": {
   "display_name": "Python 3 (ipykernel)",
   "language": "python",
   "name": "python3"
  },
  "language_info": {
   "codemirror_mode": {
    "name": "ipython",
    "version": 3
   },
   "file_extension": ".py",
   "mimetype": "text/x-python",
   "name": "python",
   "nbconvert_exporter": "python",
   "pygments_lexer": "ipython3",
   "version": "3.12.4"
  }
 },
 "nbformat": 4,
 "nbformat_minor": 5
}
