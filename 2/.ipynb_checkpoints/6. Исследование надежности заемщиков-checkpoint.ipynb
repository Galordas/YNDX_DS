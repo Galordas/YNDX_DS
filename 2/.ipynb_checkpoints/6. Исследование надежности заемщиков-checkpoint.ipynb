{
 "cells": [
  {
   "cell_type": "markdown",
   "id": "7c28646a",
   "metadata": {},
   "source": [
    "# Исследование надежности заемщиков."
   ]
  },
  {
   "cell_type": "markdown",
   "id": "62b78ca6",
   "metadata": {},
   "source": [
    "### Шаг 1. Обзор данных"
   ]
  },
  {
   "cell_type": "code",
   "execution_count": 1,
   "id": "9c60221f",
   "metadata": {},
   "outputs": [
    {
     "name": "stdout",
     "output_type": "stream",
     "text": [
      "<class 'pandas.core.frame.DataFrame'>\n",
      "RangeIndex: 21525 entries, 0 to 21524\n",
      "Data columns (total 12 columns):\n",
      " #   Column            Non-Null Count  Dtype  \n",
      "---  ------            --------------  -----  \n",
      " 0   children          21525 non-null  int64  \n",
      " 1   days_employed     19351 non-null  float64\n",
      " 2   dob_years         21525 non-null  int64  \n",
      " 3   education         21525 non-null  object \n",
      " 4   education_id      21525 non-null  int64  \n",
      " 5   family_status     21525 non-null  object \n",
      " 6   family_status_id  21525 non-null  int64  \n",
      " 7   gender            21525 non-null  object \n",
      " 8   income_type       21525 non-null  object \n",
      " 9   debt              21525 non-null  int64  \n",
      " 10  total_income      19351 non-null  float64\n",
      " 11  purpose           21525 non-null  object \n",
      "dtypes: float64(2), int64(5), object(5)\n",
      "memory usage: 2.0+ MB\n",
      "None\n",
      "\n",
      "Index(['children', 'days_employed', 'dob_years', 'education', 'education_id',\n",
      "       'family_status', 'family_status_id', 'gender', 'income_type', 'debt',\n",
      "       'total_income', 'purpose'],\n",
      "      dtype='object')\n",
      "\n",
      "   children  days_employed  dob_years education  education_id  \\\n",
      "0         1   -8437.673028         42    высшее             0   \n",
      "1         1   -4024.803754         36   среднее             1   \n",
      "2         0   -5623.422610         33   Среднее             1   \n",
      "3         3   -4124.747207         32   среднее             1   \n",
      "4         0  340266.072047         53   среднее             1   \n",
      "5         0    -926.185831         27    высшее             0   \n",
      "6         0   -2879.202052         43    высшее             0   \n",
      "7         0    -152.779569         50   СРЕДНЕЕ             1   \n",
      "8         2   -6929.865299         35    ВЫСШЕЕ             0   \n",
      "9         0   -2188.756445         41   среднее             1   \n",
      "\n",
      "      family_status  family_status_id gender income_type  debt   total_income  \\\n",
      "0   женат / замужем                 0      F   сотрудник     0  253875.639453   \n",
      "1   женат / замужем                 0      F   сотрудник     0  112080.014102   \n",
      "2   женат / замужем                 0      M   сотрудник     0  145885.952297   \n",
      "3   женат / замужем                 0      M   сотрудник     0  267628.550329   \n",
      "4  гражданский брак                 1      F   пенсионер     0  158616.077870   \n",
      "5  гражданский брак                 1      M   компаньон     0  255763.565419   \n",
      "6   женат / замужем                 0      F   компаньон     0  240525.971920   \n",
      "7   женат / замужем                 0      M   сотрудник     0  135823.934197   \n",
      "8  гражданский брак                 1      F   сотрудник     0   95856.832424   \n",
      "9   женат / замужем                 0      M   сотрудник     0  144425.938277   \n",
      "\n",
      "                      purpose  \n",
      "0               покупка жилья  \n",
      "1     приобретение автомобиля  \n",
      "2               покупка жилья  \n",
      "3  дополнительное образование  \n",
      "4             сыграть свадьбу  \n",
      "5               покупка жилья  \n",
      "6           операции с жильем  \n",
      "7                 образование  \n",
      "8       на проведение свадьбы  \n",
      "9     покупка жилья для семьи  \n"
     ]
    }
   ],
   "source": [
    "import pandas as pd\n",
    "\n",
    "data = pd.read_csv (r'C:\\Users\\stazher3\\Downloads\\Yandex.Disk.Files\\2\\[SuperSliv.biz] 07 Проектная работа\\data.csv')\n",
    "\n",
    "print(data.info())\n",
    "print()\n",
    "print(data.columns)\n",
    "print()\n",
    "print(data.head(10))"
   ]
  },
  {
   "cell_type": "markdown",
   "id": "c57294bf",
   "metadata": {},
   "source": [
    "### Шаг 2.1 Заполнение пропусков"
   ]
  },
  {
   "cell_type": "code",
   "execution_count": 2,
   "id": "6a78a628",
   "metadata": {},
   "outputs": [
    {
     "name": "stdout",
     "output_type": "stream",
     "text": [
      "children               0\n",
      "days_employed       2174\n",
      "dob_years              0\n",
      "education              0\n",
      "education_id           0\n",
      "family_status          0\n",
      "family_status_id       0\n",
      "gender                 0\n",
      "income_type            0\n",
      "debt                   0\n",
      "total_income        2174\n",
      "purpose                0\n",
      "dtype: int64\n",
      "167422.30220817294\n",
      "167422.30220817297\n",
      "children               0\n",
      "days_employed       2174\n",
      "dob_years              0\n",
      "education              0\n",
      "education_id           0\n",
      "family_status          0\n",
      "family_status_id       0\n",
      "gender                 0\n",
      "income_type            0\n",
      "debt                   0\n",
      "total_income           0\n",
      "purpose                0\n",
      "dtype: int64\n"
     ]
    }
   ],
   "source": [
    "print(data.isna().sum())\n",
    "\n",
    "mean_income = data['total_income'].mean()\n",
    "print(mean_income)\n",
    "\n",
    "data['total_income'] = data['total_income'].fillna(mean_income)\n",
    "print(data['total_income'].mean())\n",
    "print(data.isna().sum())"
   ]
  },
  {
   "cell_type": "markdown",
   "id": "841b572b",
   "metadata": {},
   "source": [
    "### Шаг 2.2 Проверка данных на аномалии и исправления."
   ]
  },
  {
   "cell_type": "code",
   "execution_count": 3,
   "id": "ff2aa49d",
   "metadata": {},
   "outputs": [
    {
     "name": "stdout",
     "output_type": "stream",
     "text": [
      "   children  days_employed  dob_years education  education_id  \\\n",
      "0         1    8437.673028         42    высшее             0   \n",
      "1         1    4024.803754         36   среднее             1   \n",
      "2         0    5623.422610         33   Среднее             1   \n",
      "3         3    4124.747207         32   среднее             1   \n",
      "4         0  340266.072047         53   среднее             1   \n",
      "5         0     926.185831         27    высшее             0   \n",
      "6         0    2879.202052         43    высшее             0   \n",
      "7         0     152.779569         50   СРЕДНЕЕ             1   \n",
      "8         2    6929.865299         35    ВЫСШЕЕ             0   \n",
      "9         0    2188.756445         41   среднее             1   \n",
      "\n",
      "      family_status  family_status_id gender income_type  debt   total_income  \\\n",
      "0   женат / замужем                 0      F   сотрудник     0  253875.639453   \n",
      "1   женат / замужем                 0      F   сотрудник     0  112080.014102   \n",
      "2   женат / замужем                 0      M   сотрудник     0  145885.952297   \n",
      "3   женат / замужем                 0      M   сотрудник     0  267628.550329   \n",
      "4  гражданский брак                 1      F   пенсионер     0  158616.077870   \n",
      "5  гражданский брак                 1      M   компаньон     0  255763.565419   \n",
      "6   женат / замужем                 0      F   компаньон     0  240525.971920   \n",
      "7   женат / замужем                 0      M   сотрудник     0  135823.934197   \n",
      "8  гражданский брак                 1      F   сотрудник     0   95856.832424   \n",
      "9   женат / замужем                 0      M   сотрудник     0  144425.938277   \n",
      "\n",
      "                      purpose  \n",
      "0               покупка жилья  \n",
      "1     приобретение автомобиля  \n",
      "2               покупка жилья  \n",
      "3  дополнительное образование  \n",
      "4             сыграть свадьбу  \n",
      "5               покупка жилья  \n",
      "6           операции с жильем  \n",
      "7                 образование  \n",
      "8       на проведение свадьбы  \n",
      "9     покупка жилья для семьи  \n",
      "children               0\n",
      "days_employed       2174\n",
      "dob_years              0\n",
      "education              0\n",
      "education_id           0\n",
      "family_status          0\n",
      "family_status_id       0\n",
      "gender                 0\n",
      "income_type            0\n",
      "debt                   0\n",
      "total_income           0\n",
      "purpose                0\n",
      "dtype: int64\n",
      "66914.72890682236\n",
      "2194.220566878695\n",
      "75\n",
      "2353.0159319988766\n",
      "1630.0193809778218\n",
      "2353.0159319988766\n",
      "children            0\n",
      "days_employed       0\n",
      "dob_years           0\n",
      "education           0\n",
      "education_id        0\n",
      "family_status       0\n",
      "family_status_id    0\n",
      "gender              0\n",
      "income_type         0\n",
      "debt                0\n",
      "total_income        0\n",
      "purpose             0\n",
      "dtype: int64\n",
      "   children  days_employed  dob_years education  education_id  \\\n",
      "0         1    8437.673028         42    высшее             0   \n",
      "1         1    4024.803754         36   среднее             1   \n",
      "2         0    5623.422610         33   Среднее             1   \n",
      "3         3    4124.747207         32   среднее             1   \n",
      "4         0    2353.015932         53   среднее             1   \n",
      "5         0     926.185831         27    высшее             0   \n",
      "6         0    2879.202052         43    высшее             0   \n",
      "7         0     152.779569         50   СРЕДНЕЕ             1   \n",
      "8         2    6929.865299         35    ВЫСШЕЕ             0   \n",
      "9         0    2188.756445         41   среднее             1   \n",
      "\n",
      "      family_status  family_status_id gender income_type  debt   total_income  \\\n",
      "0   женат / замужем                 0      F   сотрудник     0  253875.639453   \n",
      "1   женат / замужем                 0      F   сотрудник     0  112080.014102   \n",
      "2   женат / замужем                 0      M   сотрудник     0  145885.952297   \n",
      "3   женат / замужем                 0      M   сотрудник     0  267628.550329   \n",
      "4  гражданский брак                 1      F   пенсионер     0  158616.077870   \n",
      "5  гражданский брак                 1      M   компаньон     0  255763.565419   \n",
      "6   женат / замужем                 0      F   компаньон     0  240525.971920   \n",
      "7   женат / замужем                 0      M   сотрудник     0  135823.934197   \n",
      "8  гражданский брак                 1      F   сотрудник     0   95856.832424   \n",
      "9   женат / замужем                 0      M   сотрудник     0  144425.938277   \n",
      "\n",
      "                      purpose  \n",
      "0               покупка жилья  \n",
      "1     приобретение автомобиля  \n",
      "2               покупка жилья  \n",
      "3  дополнительное образование  \n",
      "4             сыграть свадьбу  \n",
      "5               покупка жилья  \n",
      "6           операции с жильем  \n",
      "7                 образование  \n",
      "8       на проведение свадьбы  \n",
      "9     покупка жилья для семьи  \n",
      "\n",
      "Index(['children', 'days_employed', 'job_years', 'education', 'education_id',\n",
      "       'family_status', 'family_status_id', 'gender', 'income_type', 'debt',\n",
      "       'total_income', 'purpose'],\n",
      "      dtype='object')\n"
     ]
    }
   ],
   "source": [
    "# Normalise values of the 'days_employed' column except for NaN\n",
    "def negative_days_employed(dataframe):\n",
    "    try:\n",
    "        dataframe['days_employed'] = dataframe['days_employed'].astype(str).str.replace('\"\"','').str.replace(' ','').astype(float).abs()\n",
    "    except Exception as e:\n",
    "        print(f'An error occured: {e}')\n",
    "    return dataframe\n",
    "\n",
    "print(negative_days_employed(data).head(10))\n",
    "print(data.isna().sum())\n",
    "print(data['days_employed'].mean())\n",
    "print(data['days_employed'].median())\n",
    "print(data['dob_years'].max())\n",
    "# The difference between the mean and median amount of days employed is really drastic. \n",
    "# We should exclude all values which are greater than max job year 75*365=27375 as unrealistic.\n",
    "\n",
    "\n",
    "days_employed_corrected = data[data['days_employed'] <=27375]\n",
    "data['days_employed'] = days_employed_corrected['days_employed']\n",
    "mean_days_employed = data['days_employed'].mean()\n",
    "\n",
    "\n",
    "print(data['days_employed'].mean())\n",
    "print(data['days_employed'].median())\n",
    "\n",
    "data['days_employed'] = data['days_employed'].fillna(mean_days_employed)\n",
    "print(data['days_employed'].mean())\n",
    "\n",
    "print(data.isna().sum())\n",
    "print(data.head(10))\n",
    "\n",
    "# data['dob_years'] correction\n",
    "data = data.rename(columns = {'dob_years' : 'job_years'})\n",
    "print()\n",
    "print(data.columns)"
   ]
  },
  {
   "cell_type": "markdown",
   "id": "3fc78259",
   "metadata": {},
   "source": [
    "### Шаг 2.3. Изменение типов данных."
   ]
  },
  {
   "cell_type": "code",
   "execution_count": 4,
   "id": "46ca101f",
   "metadata": {},
   "outputs": [
    {
     "name": "stdout",
     "output_type": "stream",
     "text": [
      "   children  days_employed  job_years education  education_id  \\\n",
      "0         1    8437.673028         42    высшее             0   \n",
      "1         1    4024.803754         36   среднее             1   \n",
      "2         0    5623.422610         33   Среднее             1   \n",
      "3         3    4124.747207         32   среднее             1   \n",
      "4         0    2353.015932         53   среднее             1   \n",
      "5         0     926.185831         27    высшее             0   \n",
      "6         0    2879.202052         43    высшее             0   \n",
      "7         0     152.779569         50   СРЕДНЕЕ             1   \n",
      "8         2    6929.865299         35    ВЫСШЕЕ             0   \n",
      "9         0    2188.756445         41   среднее             1   \n",
      "\n",
      "      family_status  family_status_id gender income_type  debt  total_income  \\\n",
      "0   женат / замужем                 0      F   сотрудник     0        253875   \n",
      "1   женат / замужем                 0      F   сотрудник     0        112080   \n",
      "2   женат / замужем                 0      M   сотрудник     0        145885   \n",
      "3   женат / замужем                 0      M   сотрудник     0        267628   \n",
      "4  гражданский брак                 1      F   пенсионер     0        158616   \n",
      "5  гражданский брак                 1      M   компаньон     0        255763   \n",
      "6   женат / замужем                 0      F   компаньон     0        240525   \n",
      "7   женат / замужем                 0      M   сотрудник     0        135823   \n",
      "8  гражданский брак                 1      F   сотрудник     0         95856   \n",
      "9   женат / замужем                 0      M   сотрудник     0        144425   \n",
      "\n",
      "                      purpose  \n",
      "0               покупка жилья  \n",
      "1     приобретение автомобиля  \n",
      "2               покупка жилья  \n",
      "3  дополнительное образование  \n",
      "4             сыграть свадьбу  \n",
      "5               покупка жилья  \n",
      "6           операции с жильем  \n",
      "7                 образование  \n",
      "8       на проведение свадьбы  \n",
      "9     покупка жилья для семьи  \n"
     ]
    }
   ],
   "source": [
    "data['total_income'] = data['total_income'].astype(int)\n",
    "print(data.head(10))"
   ]
  },
  {
   "cell_type": "markdown",
   "id": "8e824159",
   "metadata": {},
   "source": [
    "### Шаг 2.4. Удаление дубликатов."
   ]
  },
  {
   "cell_type": "code",
   "execution_count": 5,
   "id": "5e50328e",
   "metadata": {},
   "outputs": [
    {
     "name": "stdout",
     "output_type": "stream",
     "text": [
      "['высшее' 'среднее' 'Среднее' 'СРЕДНЕЕ' 'ВЫСШЕЕ' 'неоконченное высшее'\n",
      " 'начальное' 'Высшее' 'НЕОКОНЧЕННОЕ ВЫСШЕЕ' 'Неоконченное высшее'\n",
      " 'НАЧАЛЬНОЕ' 'Начальное' 'Ученая степень' 'УЧЕНАЯ СТЕПЕНЬ'\n",
      " 'ученая степень']\n",
      "\n",
      "['высшее' 'среднее' 'неоконченное высшее' 'начальное' 'ученая степень']\n",
      "       children  days_employed  job_years education  education_id  \\\n",
      "4             0    2353.015932         53   среднее             1   \n",
      "12            0    2353.015932         65   среднее             1   \n",
      "18            0    2353.015932         53   среднее             1   \n",
      "24            1    2353.015932         57   среднее             1   \n",
      "25            0    2353.015932         67   среднее             1   \n",
      "...         ...            ...        ...       ...           ...   \n",
      "21508         0    2353.015932         62   среднее             1   \n",
      "21509         0    2353.015932         59    высшее             0   \n",
      "21510         2    2353.015932         28   среднее             1   \n",
      "21518         0    2353.015932         59   среднее             1   \n",
      "21521         0    2353.015932         67   среднее             1   \n",
      "\n",
      "               family_status  family_status_id gender income_type  debt  \\\n",
      "4           гражданский брак                 1      F   пенсионер     0   \n",
      "12          гражданский брак                 1      M   пенсионер     0   \n",
      "18            вдовец / вдова                 2      F   пенсионер     0   \n",
      "24     Не женат / не замужем                 4      F   пенсионер     0   \n",
      "25           женат / замужем                 0      M   пенсионер     0   \n",
      "...                      ...               ...    ...         ...   ...   \n",
      "21508        женат / замужем                 0      M   пенсионер     0   \n",
      "21509        женат / замужем                 0      M   пенсионер     0   \n",
      "21510        женат / замужем                 0      F   сотрудник     0   \n",
      "21518        женат / замужем                 0      F   пенсионер     0   \n",
      "21521        женат / замужем                 0      F   пенсионер     0   \n",
      "\n",
      "       total_income                                purpose  \n",
      "4            158616                        сыграть свадьбу  \n",
      "12           167422                        сыграть свадьбу  \n",
      "18            56823     на покупку подержанного автомобиля  \n",
      "24           290547  операции с коммерческой недвижимостью  \n",
      "25            55112                   покупка недвижимости  \n",
      "...             ...                                    ...  \n",
      "21508         72638                           недвижимость  \n",
      "21509         73029               операции с недвижимостью  \n",
      "21510        167422                приобретение автомобиля  \n",
      "21518        153864                   сделка с автомобилем  \n",
      "21521        155999                   сделка с автомобилем  \n",
      "\n",
      "[5476 rows x 12 columns]\n",
      "5476\n",
      "0\n",
      "<class 'pandas.core.frame.DataFrame'>\n",
      "RangeIndex: 21454 entries, 0 to 21453\n",
      "Data columns (total 12 columns):\n",
      " #   Column            Non-Null Count  Dtype  \n",
      "---  ------            --------------  -----  \n",
      " 0   children          21454 non-null  int64  \n",
      " 1   days_employed     21454 non-null  float64\n",
      " 2   job_years         21454 non-null  int64  \n",
      " 3   education         21454 non-null  object \n",
      " 4   education_id      21454 non-null  int64  \n",
      " 5   family_status     21454 non-null  object \n",
      " 6   family_status_id  21454 non-null  int64  \n",
      " 7   gender            21454 non-null  object \n",
      " 8   income_type       21454 non-null  object \n",
      " 9   debt              21454 non-null  int64  \n",
      " 10  total_income      21454 non-null  int64  \n",
      " 11  purpose           21454 non-null  object \n",
      "dtypes: float64(1), int64(6), object(5)\n",
      "memory usage: 2.0+ MB\n",
      "None\n"
     ]
    }
   ],
   "source": [
    "# Remove duplicates in data['education'] column\n",
    "print(data['education'].unique())\n",
    "education_incorrect = {'Среднее':'среднее', \n",
    "                       'СРЕДНЕЕ':'среднее', \n",
    "                       'ВЫСШЕЕ':'высшее', \n",
    "                       'Высшее':'высшее', \n",
    "                       'НЕОКОНЧЕННОЕ ВЫСШЕЕ':'неоконченное высшее',\n",
    "                       'Неоконченное высшее':'неоконченное высшее',\n",
    "                       'НАЧАЛЬНОЕ':'начальное', \n",
    "                       'Начальное':'начальное',\n",
    "                       'Ученая степень':'ученая степень',\n",
    "                       'УЧЕНАЯ СТЕПЕНЬ':'ученая степень'\n",
    "                      }\n",
    "data['education'] = data['education'].replace(education_incorrect)\n",
    "print()\n",
    "print(data['education'].unique())\n",
    "\n",
    "# Remove duplicates from data\n",
    "print(data[data.duplicated(subset=['days_employed','job_years','children','income_type'],keep=False)])\n",
    "print(data[data.duplicated(subset=['days_employed','job_years','children','income_type'],keep=False)].shape[0])\n",
    "data = data.drop_duplicates().reset_index(drop=True)\n",
    "print(data.duplicated().sum())\n",
    "print(data.info())"
   ]
  },
  {
   "cell_type": "markdown",
   "id": "4da9060d",
   "metadata": {},
   "source": [
    "### Шаг 2.5. Формирование дополнительных датафреймов словарей, декомпозиция исходного датафрейма."
   ]
  },
  {
   "cell_type": "code",
   "execution_count": 6,
   "id": "d22b70cd",
   "metadata": {},
   "outputs": [
    {
     "name": "stdout",
     "output_type": "stream",
     "text": [
      "{0: 'высшее', 1: 'среднее', 2: 'неоконченное высшее', 3: 'начальное', 4: 'ученая степень'}\n",
      "{0: 'женат / замужем', 1: 'гражданский брак', 2: 'вдовец / вдова', 3: 'в разводе', 4: 'Не женат / не замужем'}\n",
      "Index(['children', 'days_employed', 'job_years', 'education_id',\n",
      "       'family_status_id', 'gender', 'income_type', 'debt', 'total_income',\n",
      "       'purpose'],\n",
      "      dtype='object')\n"
     ]
    }
   ],
   "source": [
    "education_dict = data.drop_duplicates(subset=['education_id']).set_index('education_id')['education'].to_dict()\n",
    "print(education_dict)\n",
    "\n",
    "family_status_dict = data.drop_duplicates(subset=['family_status_id']).set_index('family_status_id')['family_status'].to_dict()\n",
    "print(family_status_dict)\n",
    "\n",
    "data = data.drop(['education', 'family_status'], axis=1)\n",
    "print(data.columns)"
   ]
  },
  {
   "cell_type": "markdown",
   "id": "2fd70664",
   "metadata": {},
   "source": [
    "### Шаг 2.6. Категоризация дохода."
   ]
  },
  {
   "cell_type": "code",
   "execution_count": 7,
   "id": "4988844d",
   "metadata": {},
   "outputs": [
    {
     "name": "stdout",
     "output_type": "stream",
     "text": [
      "   children  days_employed  job_years  education_id  family_status_id gender  \\\n",
      "0         1    8437.673028         42             0                 0      F   \n",
      "1         1    4024.803754         36             1                 0      F   \n",
      "2         0    5623.422610         33             1                 0      M   \n",
      "3         3    4124.747207         32             1                 0      M   \n",
      "4         0    2353.015932         53             1                 1      F   \n",
      "5         0     926.185831         27             0                 1      M   \n",
      "6         0    2879.202052         43             0                 0      F   \n",
      "7         0     152.779569         50             1                 0      M   \n",
      "8         2    6929.865299         35             0                 1      F   \n",
      "9         0    2188.756445         41             1                 0      M   \n",
      "\n",
      "  income_type  debt  total_income                     purpose  \\\n",
      "0   сотрудник     0        253875               покупка жилья   \n",
      "1   сотрудник     0        112080     приобретение автомобиля   \n",
      "2   сотрудник     0        145885               покупка жилья   \n",
      "3   сотрудник     0        267628  дополнительное образование   \n",
      "4   пенсионер     0        158616             сыграть свадьбу   \n",
      "5   компаньон     0        255763               покупка жилья   \n",
      "6   компаньон     0        240525           операции с жильем   \n",
      "7   сотрудник     0        135823                 образование   \n",
      "8   сотрудник     0         95856       на проведение свадьбы   \n",
      "9   сотрудник     0        144425     покупка жилья для семьи   \n",
      "\n",
      "  total_income_category  \n",
      "0                     B  \n",
      "1                     C  \n",
      "2                     C  \n",
      "3                     B  \n",
      "4                     C  \n",
      "5                     B  \n",
      "6                     B  \n",
      "7                     C  \n",
      "8                     C  \n",
      "9                     C  \n"
     ]
    }
   ],
   "source": [
    "def income_category(income):\n",
    "    if income <=30000:\n",
    "        return 'E'\n",
    "    elif income <=50000:\n",
    "        return 'D'\n",
    "    elif income <=200000:\n",
    "        return 'C'\n",
    "    elif income <=1000000:\n",
    "        return 'B'\n",
    "    else:\n",
    "        return 'A'\n",
    "data['total_income_category'] = data['total_income'].apply(income_category)\n",
    "print(data.head(10))"
   ]
  },
  {
   "cell_type": "markdown",
   "id": "5dacda3c",
   "metadata": {},
   "source": [
    "### Шаг 2.7. Категоризация целей кредита."
   ]
  },
  {
   "cell_type": "code",
   "execution_count": 8,
   "id": "1700d4c0",
   "metadata": {},
   "outputs": [
    {
     "name": "stdout",
     "output_type": "stream",
     "text": [
      "38\n",
      "4\n",
      "['операции с недвижимостью' 'операции с автомобилем'\n",
      " 'получение образования' 'проведение свадьбы']\n"
     ]
    }
   ],
   "source": [
    "print(data['purpose'].unique().shape[0])\n",
    "wrong_purposes_auto = ['приобретение автомобиля', 'на покупку подержанного автомобиля', 'на покупку своего автомобиля', 'автомобили','автомобиль',\n",
    "                       'сделка с подержанным автомобилем','свой автомобиль', 'сделка с автомобилем','на покупку автомобиля']\n",
    "right_purpose_auto = 'операции с автомобилем'\n",
    "\n",
    "wrong_purposes_house = ['покупка жилья','покупка жилья для семьи','покупка недвижимости','покупка коммерческой недвижимости', \n",
    "                        'покупка жилой недвижимости','строительство собственной недвижимости', 'недвижимость', 'строительство недвижимости',\n",
    "                        'операции с коммерческой недвижимостью','строительство жилой недвижимости', 'жилье', 'операции со своей недвижимостью', \n",
    "                        'покупка своего жилья', 'операции с недвижимостью','покупка своего жилья','покупка жилья для сдачи', 'ремонт жилью',\n",
    "                        'операции с жильем']\n",
    "right_purpose_house = 'операции с недвижимостью'\n",
    "\n",
    "wrong_purposes_wedding = ['сыграть свадьбу','свадьба','на проведение свадьбы','на проведение свадьбы']\n",
    "right_purpose_wedding = 'проведение свадьбы'\n",
    "\n",
    "wrong_purposes_education = ['получение высшего образования','дополнительное образование','заняться образованием', 'получение дополнительного образования',\n",
    "'профильное образование','высшее образование','заняться высшим образованием','образование']\n",
    "right_purpose_education = 'получение образования'\n",
    "\n",
    "def replace_wrong_values(wrong_values,correct_value):\n",
    "    for wrong_value in wrong_values:\n",
    "        data['purpose'] = data['purpose'].replace(wrong_value, correct_value)\n",
    "replace_wrong_values(wrong_purposes_auto, right_purpose_auto)\n",
    "replace_wrong_values(wrong_purposes_house, right_purpose_house)\n",
    "replace_wrong_values(wrong_purposes_wedding, right_purpose_wedding)\n",
    "replace_wrong_values(wrong_purposes_education, right_purpose_education)\n",
    "print(data['purpose'].unique().shape[0])\n",
    "print(data['purpose'].unique())"
   ]
  },
  {
   "cell_type": "markdown",
   "id": "bb841749",
   "metadata": {},
   "source": [
    "### Ответы на вопросы."
   ]
  },
  {
   "cell_type": "markdown",
   "id": "91e853a3",
   "metadata": {},
   "source": [
    "##### Вопрос 1: Есть ли зависимость между количеством детей и возвратом кредита в срок?"
   ]
  },
  {
   "cell_type": "code",
   "execution_count": 9,
   "id": "7bc43d7d-8cd9-46fa-af7d-afcc31e58c3e",
   "metadata": {},
   "outputs": [
    {
     "name": "stdout",
     "output_type": "stream",
     "text": [
      "children\n",
      "0     14138\n",
      "1      4808\n",
      "2      2052\n",
      "3       330\n",
      "4        41\n",
      "5         9\n",
      "20       76\n",
      "Name: children, dtype: int64\n",
      "children\n",
      "0     1063\n",
      "1      444\n",
      "2      194\n",
      "3       27\n",
      "4        4\n",
      "5        0\n",
      "20       8\n",
      "Name: debt, dtype: int64\n",
      "debt\n",
      "0    19714\n",
      "1     1740\n",
      "Name: count, dtype: int64\n",
      "children\n",
      "0     0.075187\n",
      "1     0.092346\n",
      "2     0.094542\n",
      "3     0.081818\n",
      "4     0.097561\n",
      "5     0.000000\n",
      "20    0.105263\n",
      "dtype: float64\n"
     ]
    }
   ],
   "source": [
    "# data_children correction\n",
    "data[data['children'] ==-1] = 0\n",
    "\n",
    "children = data.groupby('children')['children'].count()\n",
    "debt = data.groupby('children')['debt'].sum()\n",
    "\n",
    "#info\n",
    "print(children)\n",
    "print(debt)\n",
    "print(data['debt'].value_counts())\n",
    "\n",
    "#correlation between amount of children and amount of debt\n",
    "\n",
    "correlation_children = debt/children\n",
    "print(correlation_children)"
   ]
  },
  {
   "cell_type": "markdown",
   "id": "8209751b",
   "metadata": {},
   "source": [
    "##### Вывод 1: \n",
    "* 1, 2, 4 ребенка - больше всего долга\n",
    "* 0 - меньше всего"
   ]
  },
  {
   "cell_type": "markdown",
   "id": "ec987342-f4b1-45ef-a057-87e6d9bbf4cc",
   "metadata": {},
   "source": [
    "##### Вопрос 2: Есть ли зависимость между семейным положением и возвратом кредита в срок?"
   ]
  },
  {
   "cell_type": "code",
   "execution_count": 10,
   "id": "a343611b-e11e-49f2-b802-927c7e2be585",
   "metadata": {},
   "outputs": [
    {
     "name": "stdout",
     "output_type": "stream",
     "text": [
      "family_status_id\n",
      "0    12357\n",
      "1     4146\n",
      "2      955\n",
      "3     1191\n",
      "4     2805\n",
      "Name: family_status_id, dtype: int64\n",
      "family_status_id\n",
      "0    930\n",
      "1    388\n",
      "2     63\n",
      "3     85\n",
      "4    274\n",
      "Name: debt, dtype: int64\n",
      "        family_status_id  debt_percentage\n",
      "0        женат / замужем         7.526099\n",
      "1       гражданский брак         9.358418\n",
      "2         вдовец / вдова         6.596859\n",
      "3              в разводе         7.136860\n",
      "4  Не женат / не замужем         9.768271\n"
     ]
    }
   ],
   "source": [
    "print(data.groupby('family_status_id')['family_status_id'].count())\n",
    "print(data.groupby('family_status_id')['debt'].sum())\n",
    "correlation_family_status = (data.groupby('family_status_id')['debt'].sum() / data.groupby('family_status_id')['family_status_id'].count() * 100).reset_index(name='debt_percentage')\n",
    "\n",
    "correlation_family_status['family_status_id'] = correlation_family_status['family_status_id'].map(family_status_dict)\n",
    "print(correlation_family_status)"
   ]
  },
  {
   "cell_type": "markdown",
   "id": "d49aa06b-6135-4a1a-8821-33991566925c",
   "metadata": {},
   "source": [
    "Мы можем сделать вывод, что наименее подвержены просрочке по выплате кредита вдовец/вдова, а наиболее не женат/не замужем и граждаский брак."
   ]
  },
  {
   "cell_type": "markdown",
   "id": "088e8bf6-e9fb-453c-8e45-08a5860adb5d",
   "metadata": {},
   "source": [
    "##### Вопрос 3: Есть ли зависимость между уровнем дохода и возвратом кредита в срок?"
   ]
  },
  {
   "cell_type": "code",
   "execution_count": null,
   "id": "d186b92a-1311-437e-a7f5-4c1830a0c63b",
   "metadata": {},
   "outputs": [],
   "source": []
  },
  {
   "cell_type": "code",
   "execution_count": null,
   "id": "67fcb3c8-fc2c-4f7a-9d50-84a749e17deb",
   "metadata": {},
   "outputs": [],
   "source": []
  },
  {
   "cell_type": "code",
   "execution_count": null,
   "id": "4398009c-044a-420a-9f6a-b876ba6d80d6",
   "metadata": {},
   "outputs": [],
   "source": []
  },
  {
   "cell_type": "code",
   "execution_count": null,
   "id": "2a996c18-abdd-4548-939f-4090b1675a04",
   "metadata": {},
   "outputs": [],
   "source": []
  },
  {
   "cell_type": "markdown",
   "id": "8f07c736",
   "metadata": {},
   "source": [
    "## Общий вывод:"
   ]
  },
  {
   "cell_type": "markdown",
   "id": "d5630d27",
   "metadata": {},
   "source": []
  }
 ],
 "metadata": {
  "kernelspec": {
   "display_name": "Python 3 (ipykernel)",
   "language": "python",
   "name": "python3"
  },
  "language_info": {
   "codemirror_mode": {
    "name": "ipython",
    "version": 3
   },
   "file_extension": ".py",
   "mimetype": "text/x-python",
   "name": "python",
   "nbconvert_exporter": "python",
   "pygments_lexer": "ipython3",
   "version": "3.12.3"
  },
  "toc": {
   "base_numbering": 1,
   "nav_menu": {},
   "number_sections": true,
   "sideBar": true,
   "skip_h1_title": true,
   "title_cell": "Table of Contents",
   "title_sidebar": "Contents",
   "toc_cell": false,
   "toc_position": {},
   "toc_section_display": true,
   "toc_window_display": false
  }
 },
 "nbformat": 4,
 "nbformat_minor": 5
}
