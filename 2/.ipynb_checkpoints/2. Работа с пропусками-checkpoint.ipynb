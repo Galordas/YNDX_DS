{
 "cells": [
  {
   "cell_type": "markdown",
   "id": "69f103da-cf7c-48b6-8468-84375a562410",
   "metadata": {},
   "source": [
    "### 2. Работа с пропусками\n",
    "\n",
    "## 2.2"
   ]
  },
  {
   "cell_type": "code",
   "execution_count": 5,
   "id": "00b53d88-b7be-43e2-991f-88092738fde2",
   "metadata": {},
   "outputs": [
    {
     "ename": "FileNotFoundError",
     "evalue": "[Errno 2] No such file or directory: 'C:\\\\Users\\\\stazher3\\\\Downloads\\\\Yandex.Disk.Files\\\\2\\\\[SuperSliv.biz] 02 Работа с пропусками\\\\02 work\\\\returned.csv'",
     "output_type": "error",
     "traceback": [
      "\u001b[1;31m---------------------------------------------------------------------------\u001b[0m",
      "\u001b[1;31mFileNotFoundError\u001b[0m                         Traceback (most recent call last)",
      "Cell \u001b[1;32mIn[5], line 2\u001b[0m\n\u001b[0;32m      1\u001b[0m \u001b[38;5;28;01mimport\u001b[39;00m \u001b[38;5;21;01mpandas\u001b[39;00m \u001b[38;5;28;01mas\u001b[39;00m \u001b[38;5;21;01mpd\u001b[39;00m\n\u001b[1;32m----> 2\u001b[0m purchases \u001b[38;5;241m=\u001b[39m pd\u001b[38;5;241m.\u001b[39mread_csv(\u001b[38;5;124mr\u001b[39m\u001b[38;5;124m'\u001b[39m\u001b[38;5;124mC:\u001b[39m\u001b[38;5;124m\\\u001b[39m\u001b[38;5;124mUsers\u001b[39m\u001b[38;5;124m\\\u001b[39m\u001b[38;5;124mstazher3\u001b[39m\u001b[38;5;124m\\\u001b[39m\u001b[38;5;124mDownloads\u001b[39m\u001b[38;5;124m\\\u001b[39m\u001b[38;5;124mYandex.Disk.Files\u001b[39m\u001b[38;5;124m\\\u001b[39m\u001b[38;5;124m2\u001b[39m\u001b[38;5;124m\\\u001b[39m\u001b[38;5;124m[SuperSliv.biz] 02 Работа с пропусками\u001b[39m\u001b[38;5;124m\\\u001b[39m\u001b[38;5;124m02 work\u001b[39m\u001b[38;5;124m\\\u001b[39m\u001b[38;5;124mreturned.csv\u001b[39m\u001b[38;5;124m'\u001b[39m)\n\u001b[0;32m      3\u001b[0m df\u001b[38;5;241m.\u001b[39mhead(\u001b[38;5;241m10\u001b[39m)\n",
      "File \u001b[1;32me:\\anaconda3\\Lib\\site-packages\\pandas\\io\\parsers\\readers.py:1026\u001b[0m, in \u001b[0;36mread_csv\u001b[1;34m(filepath_or_buffer, sep, delimiter, header, names, index_col, usecols, dtype, engine, converters, true_values, false_values, skipinitialspace, skiprows, skipfooter, nrows, na_values, keep_default_na, na_filter, verbose, skip_blank_lines, parse_dates, infer_datetime_format, keep_date_col, date_parser, date_format, dayfirst, cache_dates, iterator, chunksize, compression, thousands, decimal, lineterminator, quotechar, quoting, doublequote, escapechar, comment, encoding, encoding_errors, dialect, on_bad_lines, delim_whitespace, low_memory, memory_map, float_precision, storage_options, dtype_backend)\u001b[0m\n\u001b[0;32m   1013\u001b[0m kwds_defaults \u001b[38;5;241m=\u001b[39m _refine_defaults_read(\n\u001b[0;32m   1014\u001b[0m     dialect,\n\u001b[0;32m   1015\u001b[0m     delimiter,\n\u001b[1;32m   (...)\u001b[0m\n\u001b[0;32m   1022\u001b[0m     dtype_backend\u001b[38;5;241m=\u001b[39mdtype_backend,\n\u001b[0;32m   1023\u001b[0m )\n\u001b[0;32m   1024\u001b[0m kwds\u001b[38;5;241m.\u001b[39mupdate(kwds_defaults)\n\u001b[1;32m-> 1026\u001b[0m \u001b[38;5;28;01mreturn\u001b[39;00m _read(filepath_or_buffer, kwds)\n",
      "File \u001b[1;32me:\\anaconda3\\Lib\\site-packages\\pandas\\io\\parsers\\readers.py:620\u001b[0m, in \u001b[0;36m_read\u001b[1;34m(filepath_or_buffer, kwds)\u001b[0m\n\u001b[0;32m    617\u001b[0m _validate_names(kwds\u001b[38;5;241m.\u001b[39mget(\u001b[38;5;124m\"\u001b[39m\u001b[38;5;124mnames\u001b[39m\u001b[38;5;124m\"\u001b[39m, \u001b[38;5;28;01mNone\u001b[39;00m))\n\u001b[0;32m    619\u001b[0m \u001b[38;5;66;03m# Create the parser.\u001b[39;00m\n\u001b[1;32m--> 620\u001b[0m parser \u001b[38;5;241m=\u001b[39m TextFileReader(filepath_or_buffer, \u001b[38;5;241m*\u001b[39m\u001b[38;5;241m*\u001b[39mkwds)\n\u001b[0;32m    622\u001b[0m \u001b[38;5;28;01mif\u001b[39;00m chunksize \u001b[38;5;129;01mor\u001b[39;00m iterator:\n\u001b[0;32m    623\u001b[0m     \u001b[38;5;28;01mreturn\u001b[39;00m parser\n",
      "File \u001b[1;32me:\\anaconda3\\Lib\\site-packages\\pandas\\io\\parsers\\readers.py:1620\u001b[0m, in \u001b[0;36mTextFileReader.__init__\u001b[1;34m(self, f, engine, **kwds)\u001b[0m\n\u001b[0;32m   1617\u001b[0m     \u001b[38;5;28mself\u001b[39m\u001b[38;5;241m.\u001b[39moptions[\u001b[38;5;124m\"\u001b[39m\u001b[38;5;124mhas_index_names\u001b[39m\u001b[38;5;124m\"\u001b[39m] \u001b[38;5;241m=\u001b[39m kwds[\u001b[38;5;124m\"\u001b[39m\u001b[38;5;124mhas_index_names\u001b[39m\u001b[38;5;124m\"\u001b[39m]\n\u001b[0;32m   1619\u001b[0m \u001b[38;5;28mself\u001b[39m\u001b[38;5;241m.\u001b[39mhandles: IOHandles \u001b[38;5;241m|\u001b[39m \u001b[38;5;28;01mNone\u001b[39;00m \u001b[38;5;241m=\u001b[39m \u001b[38;5;28;01mNone\u001b[39;00m\n\u001b[1;32m-> 1620\u001b[0m \u001b[38;5;28mself\u001b[39m\u001b[38;5;241m.\u001b[39m_engine \u001b[38;5;241m=\u001b[39m \u001b[38;5;28mself\u001b[39m\u001b[38;5;241m.\u001b[39m_make_engine(f, \u001b[38;5;28mself\u001b[39m\u001b[38;5;241m.\u001b[39mengine)\n",
      "File \u001b[1;32me:\\anaconda3\\Lib\\site-packages\\pandas\\io\\parsers\\readers.py:1880\u001b[0m, in \u001b[0;36mTextFileReader._make_engine\u001b[1;34m(self, f, engine)\u001b[0m\n\u001b[0;32m   1878\u001b[0m     \u001b[38;5;28;01mif\u001b[39;00m \u001b[38;5;124m\"\u001b[39m\u001b[38;5;124mb\u001b[39m\u001b[38;5;124m\"\u001b[39m \u001b[38;5;129;01mnot\u001b[39;00m \u001b[38;5;129;01min\u001b[39;00m mode:\n\u001b[0;32m   1879\u001b[0m         mode \u001b[38;5;241m+\u001b[39m\u001b[38;5;241m=\u001b[39m \u001b[38;5;124m\"\u001b[39m\u001b[38;5;124mb\u001b[39m\u001b[38;5;124m\"\u001b[39m\n\u001b[1;32m-> 1880\u001b[0m \u001b[38;5;28mself\u001b[39m\u001b[38;5;241m.\u001b[39mhandles \u001b[38;5;241m=\u001b[39m get_handle(\n\u001b[0;32m   1881\u001b[0m     f,\n\u001b[0;32m   1882\u001b[0m     mode,\n\u001b[0;32m   1883\u001b[0m     encoding\u001b[38;5;241m=\u001b[39m\u001b[38;5;28mself\u001b[39m\u001b[38;5;241m.\u001b[39moptions\u001b[38;5;241m.\u001b[39mget(\u001b[38;5;124m\"\u001b[39m\u001b[38;5;124mencoding\u001b[39m\u001b[38;5;124m\"\u001b[39m, \u001b[38;5;28;01mNone\u001b[39;00m),\n\u001b[0;32m   1884\u001b[0m     compression\u001b[38;5;241m=\u001b[39m\u001b[38;5;28mself\u001b[39m\u001b[38;5;241m.\u001b[39moptions\u001b[38;5;241m.\u001b[39mget(\u001b[38;5;124m\"\u001b[39m\u001b[38;5;124mcompression\u001b[39m\u001b[38;5;124m\"\u001b[39m, \u001b[38;5;28;01mNone\u001b[39;00m),\n\u001b[0;32m   1885\u001b[0m     memory_map\u001b[38;5;241m=\u001b[39m\u001b[38;5;28mself\u001b[39m\u001b[38;5;241m.\u001b[39moptions\u001b[38;5;241m.\u001b[39mget(\u001b[38;5;124m\"\u001b[39m\u001b[38;5;124mmemory_map\u001b[39m\u001b[38;5;124m\"\u001b[39m, \u001b[38;5;28;01mFalse\u001b[39;00m),\n\u001b[0;32m   1886\u001b[0m     is_text\u001b[38;5;241m=\u001b[39mis_text,\n\u001b[0;32m   1887\u001b[0m     errors\u001b[38;5;241m=\u001b[39m\u001b[38;5;28mself\u001b[39m\u001b[38;5;241m.\u001b[39moptions\u001b[38;5;241m.\u001b[39mget(\u001b[38;5;124m\"\u001b[39m\u001b[38;5;124mencoding_errors\u001b[39m\u001b[38;5;124m\"\u001b[39m, \u001b[38;5;124m\"\u001b[39m\u001b[38;5;124mstrict\u001b[39m\u001b[38;5;124m\"\u001b[39m),\n\u001b[0;32m   1888\u001b[0m     storage_options\u001b[38;5;241m=\u001b[39m\u001b[38;5;28mself\u001b[39m\u001b[38;5;241m.\u001b[39moptions\u001b[38;5;241m.\u001b[39mget(\u001b[38;5;124m\"\u001b[39m\u001b[38;5;124mstorage_options\u001b[39m\u001b[38;5;124m\"\u001b[39m, \u001b[38;5;28;01mNone\u001b[39;00m),\n\u001b[0;32m   1889\u001b[0m )\n\u001b[0;32m   1890\u001b[0m \u001b[38;5;28;01massert\u001b[39;00m \u001b[38;5;28mself\u001b[39m\u001b[38;5;241m.\u001b[39mhandles \u001b[38;5;129;01mis\u001b[39;00m \u001b[38;5;129;01mnot\u001b[39;00m \u001b[38;5;28;01mNone\u001b[39;00m\n\u001b[0;32m   1891\u001b[0m f \u001b[38;5;241m=\u001b[39m \u001b[38;5;28mself\u001b[39m\u001b[38;5;241m.\u001b[39mhandles\u001b[38;5;241m.\u001b[39mhandle\n",
      "File \u001b[1;32me:\\anaconda3\\Lib\\site-packages\\pandas\\io\\common.py:873\u001b[0m, in \u001b[0;36mget_handle\u001b[1;34m(path_or_buf, mode, encoding, compression, memory_map, is_text, errors, storage_options)\u001b[0m\n\u001b[0;32m    868\u001b[0m \u001b[38;5;28;01melif\u001b[39;00m \u001b[38;5;28misinstance\u001b[39m(handle, \u001b[38;5;28mstr\u001b[39m):\n\u001b[0;32m    869\u001b[0m     \u001b[38;5;66;03m# Check whether the filename is to be opened in binary mode.\u001b[39;00m\n\u001b[0;32m    870\u001b[0m     \u001b[38;5;66;03m# Binary mode does not support 'encoding' and 'newline'.\u001b[39;00m\n\u001b[0;32m    871\u001b[0m     \u001b[38;5;28;01mif\u001b[39;00m ioargs\u001b[38;5;241m.\u001b[39mencoding \u001b[38;5;129;01mand\u001b[39;00m \u001b[38;5;124m\"\u001b[39m\u001b[38;5;124mb\u001b[39m\u001b[38;5;124m\"\u001b[39m \u001b[38;5;129;01mnot\u001b[39;00m \u001b[38;5;129;01min\u001b[39;00m ioargs\u001b[38;5;241m.\u001b[39mmode:\n\u001b[0;32m    872\u001b[0m         \u001b[38;5;66;03m# Encoding\u001b[39;00m\n\u001b[1;32m--> 873\u001b[0m         handle \u001b[38;5;241m=\u001b[39m \u001b[38;5;28mopen\u001b[39m(\n\u001b[0;32m    874\u001b[0m             handle,\n\u001b[0;32m    875\u001b[0m             ioargs\u001b[38;5;241m.\u001b[39mmode,\n\u001b[0;32m    876\u001b[0m             encoding\u001b[38;5;241m=\u001b[39mioargs\u001b[38;5;241m.\u001b[39mencoding,\n\u001b[0;32m    877\u001b[0m             errors\u001b[38;5;241m=\u001b[39merrors,\n\u001b[0;32m    878\u001b[0m             newline\u001b[38;5;241m=\u001b[39m\u001b[38;5;124m\"\u001b[39m\u001b[38;5;124m\"\u001b[39m,\n\u001b[0;32m    879\u001b[0m         )\n\u001b[0;32m    880\u001b[0m     \u001b[38;5;28;01melse\u001b[39;00m:\n\u001b[0;32m    881\u001b[0m         \u001b[38;5;66;03m# Binary mode\u001b[39;00m\n\u001b[0;32m    882\u001b[0m         handle \u001b[38;5;241m=\u001b[39m \u001b[38;5;28mopen\u001b[39m(handle, ioargs\u001b[38;5;241m.\u001b[39mmode)\n",
      "\u001b[1;31mFileNotFoundError\u001b[0m: [Errno 2] No such file or directory: 'C:\\\\Users\\\\stazher3\\\\Downloads\\\\Yandex.Disk.Files\\\\2\\\\[SuperSliv.biz] 02 Работа с пропусками\\\\02 work\\\\returned.csv'"
     ]
    }
   ],
   "source": [
    "import pandas as pd\n",
    "purchases = pd.read_csv(r'C:\\Users\\stazher3\\Downloads\\Yandex.Disk.Files\\2\\[SuperSliv.biz] 02 Работа с пропусками\\02 work\\returned.csv')\n",
    "df.head(10)"
   ]
  },
  {
   "cell_type": "code",
   "execution_count": 11,
   "id": "d9ea5347-4ebd-4755-8fc7-fab60df83c00",
   "metadata": {
    "scrolled": true
   },
   "outputs": [
    {
     "ename": "NameError",
     "evalue": "name 'purchases' is not defined",
     "output_type": "error",
     "traceback": [
      "\u001b[1;31m---------------------------------------------------------------------------\u001b[0m",
      "\u001b[1;31mNameError\u001b[0m                                 Traceback (most recent call last)",
      "Cell \u001b[1;32mIn[11], line 2\u001b[0m\n\u001b[0;32m      1\u001b[0m \u001b[38;5;66;03m#Fetching data\u001b[39;00m\n\u001b[1;32m----> 2\u001b[0m email_f \u001b[38;5;241m=\u001b[39m purchases\u001b[38;5;241m.\u001b[39mloc[\u001b[38;5;241m1\u001b[39m, \u001b[38;5;124m'\u001b[39m\u001b[38;5;124mfirst\u001b[39m\u001b[38;5;124m'\u001b[39m]\n\u001b[0;32m      3\u001b[0m context_f \u001b[38;5;241m=\u001b[39m purchases\u001b[38;5;241m.\u001b[39mloc[\u001b[38;5;241m0\u001b[39m,\u001b[38;5;124m'\u001b[39m\u001b[38;5;124mfirst\u001b[39m\u001b[38;5;124m'\u001b[39m]\n\u001b[0;32m      4\u001b[0m smm_f \u001b[38;5;241m=\u001b[39m purchases\u001b[38;5;241m.\u001b[39mloc[\u001b[38;5;241m2\u001b[39m,\u001b[38;5;124m'\u001b[39m\u001b[38;5;124mfirst\u001b[39m\u001b[38;5;124m'\u001b[39m]\n",
      "\u001b[1;31mNameError\u001b[0m: name 'purchases' is not defined"
     ]
    }
   ],
   "source": [
    "#Fetching data\n",
    "email_f = purchases.loc[1, 'first']\n",
    "context_f = purchases.loc[0,'first']\n",
    "smm_f = purchases.loc[2,'first']\n",
    "\n",
    "total = purchases['first'].sum()\n",
    "print(total)"
   ]
  },
  {
   "cell_type": "code",
   "execution_count": 12,
   "id": "4d551bb5-e6c7-45c0-9aa5-e9b68b4468a5",
   "metadata": {},
   "outputs": [
    {
     "ename": "NameError",
     "evalue": "name 'purchases' is not defined",
     "output_type": "error",
     "traceback": [
      "\u001b[1;31m---------------------------------------------------------------------------\u001b[0m",
      "\u001b[1;31mNameError\u001b[0m                                 Traceback (most recent call last)",
      "Cell \u001b[1;32mIn[12], line 2\u001b[0m\n\u001b[0;32m      1\u001b[0m \u001b[38;5;66;03m# Counting repeated shares and adding as a column\u001b[39;00m\n\u001b[1;32m----> 2\u001b[0m purchases[\u001b[38;5;124m'\u001b[39m\u001b[38;5;124mrepeated_shares\u001b[39m\u001b[38;5;124m'\u001b[39m] \u001b[38;5;241m=\u001b[39m \u001b[38;5;28mround\u001b[39m(purchases[\u001b[38;5;124m'\u001b[39m\u001b[38;5;124mrepeated\u001b[39m\u001b[38;5;124m'\u001b[39m] \u001b[38;5;241m/\u001b[39m purchases[\u001b[38;5;124m'\u001b[39m\u001b[38;5;124mfirst\u001b[39m\u001b[38;5;124m'\u001b[39m] \u001b[38;5;241m*\u001b[39m \u001b[38;5;241m100\u001b[39m,\u001b[38;5;241m2\u001b[39m)\n\u001b[0;32m      4\u001b[0m \u001b[38;5;66;03m# The following row uses lamda to modify all values in columns rounding them to two points after the dot and adding any \u001b[39;00m\n\u001b[0;32m      5\u001b[0m purchases[\u001b[38;5;124m'\u001b[39m\u001b[38;5;124mrepeated_shares\u001b[39m\u001b[38;5;124m'\u001b[39m] \u001b[38;5;241m=\u001b[39m purchases[\u001b[38;5;124m'\u001b[39m\u001b[38;5;124mrepeated_shares\u001b[39m\u001b[38;5;124m'\u001b[39m]\u001b[38;5;241m.\u001b[39mapply(\u001b[38;5;28;01mlambda\u001b[39;00m x: \u001b[38;5;124mf\u001b[39m\u001b[38;5;124m'\u001b[39m\u001b[38;5;132;01m{\u001b[39;00mx\u001b[38;5;132;01m:\u001b[39;00m\u001b[38;5;124m.2f\u001b[39m\u001b[38;5;132;01m}\u001b[39;00m\u001b[38;5;124m'\u001b[39m)\n",
      "\u001b[1;31mNameError\u001b[0m: name 'purchases' is not defined"
     ]
    }
   ],
   "source": [
    "# Counting repeated shares and adding as a column\n",
    "purchases['repeated_shares'] = round(purchases['repeated'] / purchases['first'] * 100,2)\n",
    "\n",
    "# The following row uses lamda to modify all values in columns rounding them to two points after the dot and adding any symbol if needed after '\n",
    "purchases['repeated_shares'] = purchases['repeated_shares'].apply(lambda x: f'{x:.2f}')\n",
    "\n",
    "print(purchases)"
   ]
  },
  {
   "cell_type": "code",
   "execution_count": 14,
   "id": "6108fe50-8832-4057-81a6-24ef891bf617",
   "metadata": {},
   "outputs": [
    {
     "ename": "NameError",
     "evalue": "name 'purchases' is not defined",
     "output_type": "error",
     "traceback": [
      "\u001b[1;31m---------------------------------------------------------------------------\u001b[0m",
      "\u001b[1;31mNameError\u001b[0m                                 Traceback (most recent call last)",
      "Cell \u001b[1;32mIn[14], line 2\u001b[0m\n\u001b[0;32m      1\u001b[0m \u001b[38;5;66;03m#rating and sorting\u001b[39;00m\n\u001b[1;32m----> 2\u001b[0m purchases \u001b[38;5;241m=\u001b[39m purchases\u001b[38;5;241m.\u001b[39msort_values(by\u001b[38;5;241m=\u001b[39m\u001b[38;5;124m'\u001b[39m\u001b[38;5;124mrepeated_shares\u001b[39m\u001b[38;5;124m'\u001b[39m,ascending\u001b[38;5;241m=\u001b[39m\u001b[38;5;28;01mTrue\u001b[39;00m)\n\u001b[0;32m      3\u001b[0m \u001b[38;5;28mprint\u001b[39m(purchases)\n",
      "\u001b[1;31mNameError\u001b[0m: name 'purchases' is not defined"
     ]
    }
   ],
   "source": [
    "#rating and sorting\n",
    "purchases = purchases.sort_values(by='repeated_shares',ascending=True)\n",
    "print(purchases)"
   ]
  },
  {
   "cell_type": "markdown",
   "id": "f5362af6-b1e8-4e9c-90fe-2f7142ef4495",
   "metadata": {},
   "source": [
    "## 2.3"
   ]
  },
  {
   "cell_type": "code",
   "execution_count": 17,
   "id": "f7bcc81c-05cd-4030-acb2-a2c9c082a7e4",
   "metadata": {},
   "outputs": [
    {
     "ename": "FileNotFoundError",
     "evalue": "[Errno 2] No such file or directory: 'C:\\\\Users\\\\stazher3\\\\Downloads\\\\Yandex.Disk.Files\\\\2\\\\[SuperSliv.biz] 02 Работа с пропусками\\\\03 work\\\\logs.csv'",
     "output_type": "error",
     "traceback": [
      "\u001b[1;31m---------------------------------------------------------------------------\u001b[0m",
      "\u001b[1;31mFileNotFoundError\u001b[0m                         Traceback (most recent call last)",
      "Cell \u001b[1;32mIn[17], line 1\u001b[0m\n\u001b[1;32m----> 1\u001b[0m logs \u001b[38;5;241m=\u001b[39m pd\u001b[38;5;241m.\u001b[39mread_csv(\u001b[38;5;124mr\u001b[39m\u001b[38;5;124m'\u001b[39m\u001b[38;5;124mC:\u001b[39m\u001b[38;5;124m\\\u001b[39m\u001b[38;5;124mUsers\u001b[39m\u001b[38;5;124m\\\u001b[39m\u001b[38;5;124mstazher3\u001b[39m\u001b[38;5;124m\\\u001b[39m\u001b[38;5;124mDownloads\u001b[39m\u001b[38;5;124m\\\u001b[39m\u001b[38;5;124mYandex.Disk.Files\u001b[39m\u001b[38;5;124m\\\u001b[39m\u001b[38;5;124m2\u001b[39m\u001b[38;5;124m\\\u001b[39m\u001b[38;5;124m[SuperSliv.biz] 02 Работа с пропусками\u001b[39m\u001b[38;5;124m\\\u001b[39m\u001b[38;5;124m03 work\u001b[39m\u001b[38;5;124m\\\u001b[39m\u001b[38;5;124mlogs.csv\u001b[39m\u001b[38;5;124m'\u001b[39m)\n\u001b[0;32m      2\u001b[0m logs\u001b[38;5;241m.\u001b[39mhead(\u001b[38;5;241m5\u001b[39m)\n",
      "File \u001b[1;32me:\\anaconda3\\Lib\\site-packages\\pandas\\io\\parsers\\readers.py:1026\u001b[0m, in \u001b[0;36mread_csv\u001b[1;34m(filepath_or_buffer, sep, delimiter, header, names, index_col, usecols, dtype, engine, converters, true_values, false_values, skipinitialspace, skiprows, skipfooter, nrows, na_values, keep_default_na, na_filter, verbose, skip_blank_lines, parse_dates, infer_datetime_format, keep_date_col, date_parser, date_format, dayfirst, cache_dates, iterator, chunksize, compression, thousands, decimal, lineterminator, quotechar, quoting, doublequote, escapechar, comment, encoding, encoding_errors, dialect, on_bad_lines, delim_whitespace, low_memory, memory_map, float_precision, storage_options, dtype_backend)\u001b[0m\n\u001b[0;32m   1013\u001b[0m kwds_defaults \u001b[38;5;241m=\u001b[39m _refine_defaults_read(\n\u001b[0;32m   1014\u001b[0m     dialect,\n\u001b[0;32m   1015\u001b[0m     delimiter,\n\u001b[1;32m   (...)\u001b[0m\n\u001b[0;32m   1022\u001b[0m     dtype_backend\u001b[38;5;241m=\u001b[39mdtype_backend,\n\u001b[0;32m   1023\u001b[0m )\n\u001b[0;32m   1024\u001b[0m kwds\u001b[38;5;241m.\u001b[39mupdate(kwds_defaults)\n\u001b[1;32m-> 1026\u001b[0m \u001b[38;5;28;01mreturn\u001b[39;00m _read(filepath_or_buffer, kwds)\n",
      "File \u001b[1;32me:\\anaconda3\\Lib\\site-packages\\pandas\\io\\parsers\\readers.py:620\u001b[0m, in \u001b[0;36m_read\u001b[1;34m(filepath_or_buffer, kwds)\u001b[0m\n\u001b[0;32m    617\u001b[0m _validate_names(kwds\u001b[38;5;241m.\u001b[39mget(\u001b[38;5;124m\"\u001b[39m\u001b[38;5;124mnames\u001b[39m\u001b[38;5;124m\"\u001b[39m, \u001b[38;5;28;01mNone\u001b[39;00m))\n\u001b[0;32m    619\u001b[0m \u001b[38;5;66;03m# Create the parser.\u001b[39;00m\n\u001b[1;32m--> 620\u001b[0m parser \u001b[38;5;241m=\u001b[39m TextFileReader(filepath_or_buffer, \u001b[38;5;241m*\u001b[39m\u001b[38;5;241m*\u001b[39mkwds)\n\u001b[0;32m    622\u001b[0m \u001b[38;5;28;01mif\u001b[39;00m chunksize \u001b[38;5;129;01mor\u001b[39;00m iterator:\n\u001b[0;32m    623\u001b[0m     \u001b[38;5;28;01mreturn\u001b[39;00m parser\n",
      "File \u001b[1;32me:\\anaconda3\\Lib\\site-packages\\pandas\\io\\parsers\\readers.py:1620\u001b[0m, in \u001b[0;36mTextFileReader.__init__\u001b[1;34m(self, f, engine, **kwds)\u001b[0m\n\u001b[0;32m   1617\u001b[0m     \u001b[38;5;28mself\u001b[39m\u001b[38;5;241m.\u001b[39moptions[\u001b[38;5;124m\"\u001b[39m\u001b[38;5;124mhas_index_names\u001b[39m\u001b[38;5;124m\"\u001b[39m] \u001b[38;5;241m=\u001b[39m kwds[\u001b[38;5;124m\"\u001b[39m\u001b[38;5;124mhas_index_names\u001b[39m\u001b[38;5;124m\"\u001b[39m]\n\u001b[0;32m   1619\u001b[0m \u001b[38;5;28mself\u001b[39m\u001b[38;5;241m.\u001b[39mhandles: IOHandles \u001b[38;5;241m|\u001b[39m \u001b[38;5;28;01mNone\u001b[39;00m \u001b[38;5;241m=\u001b[39m \u001b[38;5;28;01mNone\u001b[39;00m\n\u001b[1;32m-> 1620\u001b[0m \u001b[38;5;28mself\u001b[39m\u001b[38;5;241m.\u001b[39m_engine \u001b[38;5;241m=\u001b[39m \u001b[38;5;28mself\u001b[39m\u001b[38;5;241m.\u001b[39m_make_engine(f, \u001b[38;5;28mself\u001b[39m\u001b[38;5;241m.\u001b[39mengine)\n",
      "File \u001b[1;32me:\\anaconda3\\Lib\\site-packages\\pandas\\io\\parsers\\readers.py:1880\u001b[0m, in \u001b[0;36mTextFileReader._make_engine\u001b[1;34m(self, f, engine)\u001b[0m\n\u001b[0;32m   1878\u001b[0m     \u001b[38;5;28;01mif\u001b[39;00m \u001b[38;5;124m\"\u001b[39m\u001b[38;5;124mb\u001b[39m\u001b[38;5;124m\"\u001b[39m \u001b[38;5;129;01mnot\u001b[39;00m \u001b[38;5;129;01min\u001b[39;00m mode:\n\u001b[0;32m   1879\u001b[0m         mode \u001b[38;5;241m+\u001b[39m\u001b[38;5;241m=\u001b[39m \u001b[38;5;124m\"\u001b[39m\u001b[38;5;124mb\u001b[39m\u001b[38;5;124m\"\u001b[39m\n\u001b[1;32m-> 1880\u001b[0m \u001b[38;5;28mself\u001b[39m\u001b[38;5;241m.\u001b[39mhandles \u001b[38;5;241m=\u001b[39m get_handle(\n\u001b[0;32m   1881\u001b[0m     f,\n\u001b[0;32m   1882\u001b[0m     mode,\n\u001b[0;32m   1883\u001b[0m     encoding\u001b[38;5;241m=\u001b[39m\u001b[38;5;28mself\u001b[39m\u001b[38;5;241m.\u001b[39moptions\u001b[38;5;241m.\u001b[39mget(\u001b[38;5;124m\"\u001b[39m\u001b[38;5;124mencoding\u001b[39m\u001b[38;5;124m\"\u001b[39m, \u001b[38;5;28;01mNone\u001b[39;00m),\n\u001b[0;32m   1884\u001b[0m     compression\u001b[38;5;241m=\u001b[39m\u001b[38;5;28mself\u001b[39m\u001b[38;5;241m.\u001b[39moptions\u001b[38;5;241m.\u001b[39mget(\u001b[38;5;124m\"\u001b[39m\u001b[38;5;124mcompression\u001b[39m\u001b[38;5;124m\"\u001b[39m, \u001b[38;5;28;01mNone\u001b[39;00m),\n\u001b[0;32m   1885\u001b[0m     memory_map\u001b[38;5;241m=\u001b[39m\u001b[38;5;28mself\u001b[39m\u001b[38;5;241m.\u001b[39moptions\u001b[38;5;241m.\u001b[39mget(\u001b[38;5;124m\"\u001b[39m\u001b[38;5;124mmemory_map\u001b[39m\u001b[38;5;124m\"\u001b[39m, \u001b[38;5;28;01mFalse\u001b[39;00m),\n\u001b[0;32m   1886\u001b[0m     is_text\u001b[38;5;241m=\u001b[39mis_text,\n\u001b[0;32m   1887\u001b[0m     errors\u001b[38;5;241m=\u001b[39m\u001b[38;5;28mself\u001b[39m\u001b[38;5;241m.\u001b[39moptions\u001b[38;5;241m.\u001b[39mget(\u001b[38;5;124m\"\u001b[39m\u001b[38;5;124mencoding_errors\u001b[39m\u001b[38;5;124m\"\u001b[39m, \u001b[38;5;124m\"\u001b[39m\u001b[38;5;124mstrict\u001b[39m\u001b[38;5;124m\"\u001b[39m),\n\u001b[0;32m   1888\u001b[0m     storage_options\u001b[38;5;241m=\u001b[39m\u001b[38;5;28mself\u001b[39m\u001b[38;5;241m.\u001b[39moptions\u001b[38;5;241m.\u001b[39mget(\u001b[38;5;124m\"\u001b[39m\u001b[38;5;124mstorage_options\u001b[39m\u001b[38;5;124m\"\u001b[39m, \u001b[38;5;28;01mNone\u001b[39;00m),\n\u001b[0;32m   1889\u001b[0m )\n\u001b[0;32m   1890\u001b[0m \u001b[38;5;28;01massert\u001b[39;00m \u001b[38;5;28mself\u001b[39m\u001b[38;5;241m.\u001b[39mhandles \u001b[38;5;129;01mis\u001b[39;00m \u001b[38;5;129;01mnot\u001b[39;00m \u001b[38;5;28;01mNone\u001b[39;00m\n\u001b[0;32m   1891\u001b[0m f \u001b[38;5;241m=\u001b[39m \u001b[38;5;28mself\u001b[39m\u001b[38;5;241m.\u001b[39mhandles\u001b[38;5;241m.\u001b[39mhandle\n",
      "File \u001b[1;32me:\\anaconda3\\Lib\\site-packages\\pandas\\io\\common.py:873\u001b[0m, in \u001b[0;36mget_handle\u001b[1;34m(path_or_buf, mode, encoding, compression, memory_map, is_text, errors, storage_options)\u001b[0m\n\u001b[0;32m    868\u001b[0m \u001b[38;5;28;01melif\u001b[39;00m \u001b[38;5;28misinstance\u001b[39m(handle, \u001b[38;5;28mstr\u001b[39m):\n\u001b[0;32m    869\u001b[0m     \u001b[38;5;66;03m# Check whether the filename is to be opened in binary mode.\u001b[39;00m\n\u001b[0;32m    870\u001b[0m     \u001b[38;5;66;03m# Binary mode does not support 'encoding' and 'newline'.\u001b[39;00m\n\u001b[0;32m    871\u001b[0m     \u001b[38;5;28;01mif\u001b[39;00m ioargs\u001b[38;5;241m.\u001b[39mencoding \u001b[38;5;129;01mand\u001b[39;00m \u001b[38;5;124m\"\u001b[39m\u001b[38;5;124mb\u001b[39m\u001b[38;5;124m\"\u001b[39m \u001b[38;5;129;01mnot\u001b[39;00m \u001b[38;5;129;01min\u001b[39;00m ioargs\u001b[38;5;241m.\u001b[39mmode:\n\u001b[0;32m    872\u001b[0m         \u001b[38;5;66;03m# Encoding\u001b[39;00m\n\u001b[1;32m--> 873\u001b[0m         handle \u001b[38;5;241m=\u001b[39m \u001b[38;5;28mopen\u001b[39m(\n\u001b[0;32m    874\u001b[0m             handle,\n\u001b[0;32m    875\u001b[0m             ioargs\u001b[38;5;241m.\u001b[39mmode,\n\u001b[0;32m    876\u001b[0m             encoding\u001b[38;5;241m=\u001b[39mioargs\u001b[38;5;241m.\u001b[39mencoding,\n\u001b[0;32m    877\u001b[0m             errors\u001b[38;5;241m=\u001b[39merrors,\n\u001b[0;32m    878\u001b[0m             newline\u001b[38;5;241m=\u001b[39m\u001b[38;5;124m\"\u001b[39m\u001b[38;5;124m\"\u001b[39m,\n\u001b[0;32m    879\u001b[0m         )\n\u001b[0;32m    880\u001b[0m     \u001b[38;5;28;01melse\u001b[39;00m:\n\u001b[0;32m    881\u001b[0m         \u001b[38;5;66;03m# Binary mode\u001b[39;00m\n\u001b[0;32m    882\u001b[0m         handle \u001b[38;5;241m=\u001b[39m \u001b[38;5;28mopen\u001b[39m(handle, ioargs\u001b[38;5;241m.\u001b[39mmode)\n",
      "\u001b[1;31mFileNotFoundError\u001b[0m: [Errno 2] No such file or directory: 'C:\\\\Users\\\\stazher3\\\\Downloads\\\\Yandex.Disk.Files\\\\2\\\\[SuperSliv.biz] 02 Работа с пропусками\\\\03 work\\\\logs.csv'"
     ]
    }
   ],
   "source": [
    "logs = pd.read_csv(r'C:\\Users\\stazher3\\Downloads\\Yandex.Disk.Files\\2\\[SuperSliv.biz] 02 Работа с пропусками\\03 work\\logs.csv')\n",
    "logs.head(5)"
   ]
  },
  {
   "cell_type": "code",
   "execution_count": null,
   "id": "328163c8-2f5a-4190-8d5c-5c088231dfc6",
   "metadata": {},
   "outputs": [],
   "source": [
    "emails = logs['email'].unique().shape[0]\n",
    "user_id = logs['user_id'].unique().shape[0]\n",
    "sources = logs['source'].unique()\n",
    "print(emails,end=' ')\n",
    "print()\n",
    "print(user_id)\n",
    "print()\n",
    "print(sources)"
   ]
  },
  {
   "cell_type": "markdown",
   "id": "178147bc-9841-4399-9217-74322463492f",
   "metadata": {},
   "source": [
    "Replace all `nan` sources with `unknown`"
   ]
  },
  {
   "cell_type": "code",
   "execution_count": 21,
   "id": "27598bb8-d1db-46a8-ba9e-e8dfae1fb5ad",
   "metadata": {},
   "outputs": [
    {
     "ename": "NameError",
     "evalue": "name 'logs' is not defined",
     "output_type": "error",
     "traceback": [
      "\u001b[1;31m---------------------------------------------------------------------------\u001b[0m",
      "\u001b[1;31mNameError\u001b[0m                                 Traceback (most recent call last)",
      "Cell \u001b[1;32mIn[21], line 1\u001b[0m\n\u001b[1;32m----> 1\u001b[0m logs[[\u001b[38;5;124m'\u001b[39m\u001b[38;5;124msource\u001b[39m\u001b[38;5;124m'\u001b[39m,\u001b[38;5;124m'\u001b[39m\u001b[38;5;124memail\u001b[39m\u001b[38;5;124m'\u001b[39m]] \u001b[38;5;241m=\u001b[39m logs[[\u001b[38;5;124m'\u001b[39m\u001b[38;5;124msource\u001b[39m\u001b[38;5;124m'\u001b[39m,\u001b[38;5;124m'\u001b[39m\u001b[38;5;124memail\u001b[39m\u001b[38;5;124m'\u001b[39m]]\u001b[38;5;241m.\u001b[39mfillna(\u001b[38;5;124m'\u001b[39m\u001b[38;5;124munknown\u001b[39m\u001b[38;5;124m'\u001b[39m)\n\u001b[0;32m      2\u001b[0m \u001b[38;5;28mprint\u001b[39m(logs\u001b[38;5;241m.\u001b[39mhead(\u001b[38;5;241m5\u001b[39m))\n",
      "\u001b[1;31mNameError\u001b[0m: name 'logs' is not defined"
     ]
    }
   ],
   "source": [
    "logs[['source','email']] = logs[['source','email']].fillna('unknown')\n",
    "print(logs.head(5))"
   ]
  },
  {
   "cell_type": "markdown",
   "id": "5a5c7608-7eec-4113-867f-180cd99e24a0",
   "metadata": {},
   "source": [
    "count values"
   ]
  },
  {
   "cell_type": "code",
   "execution_count": 24,
   "id": "4f3e6878-627c-4c59-b758-cc2105071ca4",
   "metadata": {},
   "outputs": [
    {
     "ename": "NameError",
     "evalue": "name 'logs' is not defined",
     "output_type": "error",
     "traceback": [
      "\u001b[1;31m---------------------------------------------------------------------------\u001b[0m",
      "\u001b[1;31mNameError\u001b[0m                                 Traceback (most recent call last)",
      "Cell \u001b[1;32mIn[24], line 1\u001b[0m\n\u001b[1;32m----> 1\u001b[0m \u001b[38;5;28mprint\u001b[39m(logs[\u001b[38;5;124m'\u001b[39m\u001b[38;5;124msource\u001b[39m\u001b[38;5;124m'\u001b[39m]\u001b[38;5;241m.\u001b[39mvalue_counts())\n",
      "\u001b[1;31mNameError\u001b[0m: name 'logs' is not defined"
     ]
    }
   ],
   "source": [
    "print(logs['source'].value_counts())"
   ]
  },
  {
   "cell_type": "markdown",
   "id": "e5d18066-b6e6-4cf7-b1c4-1b166e5cee16",
   "metadata": {},
   "source": [
    "count rows without emails"
   ]
  },
  {
   "cell_type": "code",
   "execution_count": 136,
   "id": "ebb7ac46-e743-45c2-b9ba-2c019d30b425",
   "metadata": {},
   "outputs": [
    {
     "name": "stdout",
     "output_type": "stream",
     "text": [
      "0\n"
     ]
    }
   ],
   "source": [
    "print(len(logs[logs['email'].isna()]))"
   ]
  },
  {
   "cell_type": "markdown",
   "id": "0c4989e1-4a43-491e-ae07-0e56e993cd8e",
   "metadata": {},
   "source": [
    "## 2.4.2 Hogwarts points"
   ]
  },
  {
   "cell_type": "code",
   "execution_count": 9,
   "id": "c1667c4b-962b-412e-9626-97422b2ef75e",
   "metadata": {},
   "outputs": [
    {
     "name": "stdout",
     "output_type": "stream",
     "text": [
      "  faculty_name      student_name  points\n",
      "0   Гриффиндор      Гарри Поттер      15\n",
      "1     Слизерин      Драко Малфой      28\n",
      "2    Когтевран    Полумна Лавгуд      10\n",
      "3          NaN         Рон Уизли       5\n",
      "4    Пуффендуй    Седрик Диггори      17\n",
      "5   Гриффиндор  Невилл Долгопупс      12\n"
     ]
    }
   ],
   "source": [
    "import pandas as pd\n",
    "hogwarts_points = pd.read_csv(r'E:\\COURSES\\Кодинг\\[Yandex praxis]. DS specialist + (2022)\\2\\[SuperSliv.biz] 02 Работа с пропусками\\04 work\\hogwarts_points.csv')\n",
    "\n",
    "print(hogwarts_points.head(10))"
   ]
  },
  {
   "cell_type": "code",
   "execution_count": 11,
   "id": "e31f646e-bc95-4331-8472-a3a7f7e8298a",
   "metadata": {},
   "outputs": [
    {
     "name": "stdout",
     "output_type": "stream",
     "text": [
      "87\n"
     ]
    }
   ],
   "source": [
    "print(hogwarts_points['points'].sum())"
   ]
  },
  {
   "cell_type": "markdown",
   "id": "1668d224-96a2-4866-9d6d-5ba8e0a63ce1",
   "metadata": {},
   "source": [
    "Each faculty points"
   ]
  },
  {
   "cell_type": "code",
   "execution_count": 14,
   "id": "6bfbe6b9-bee5-4ee6-ae26-bc57a9178c4f",
   "metadata": {},
   "outputs": [
    {
     "name": "stdout",
     "output_type": "stream",
     "text": [
      "faculty_name\n",
      "Гриффиндор    27\n",
      "Когтевран     10\n",
      "Пуффендуй     17\n",
      "Слизерин      28\n",
      "Name: points, dtype: int64\n"
     ]
    }
   ],
   "source": [
    "print(hogwarts_points.groupby('faculty_name')['points'].sum())"
   ]
  },
  {
   "cell_type": "markdown",
   "id": "6dae72e1-dfb0-4cb7-8cee-592615500061",
   "metadata": {},
   "source": [
    "Add up each faculty points"
   ]
  },
  {
   "cell_type": "code",
   "execution_count": 17,
   "id": "0b3fd13e-330c-439b-ace8-fe344a331687",
   "metadata": {},
   "outputs": [
    {
     "name": "stdout",
     "output_type": "stream",
     "text": [
      "82\n"
     ]
    }
   ],
   "source": [
    "print(hogwarts_points.groupby('faculty_name')['points'].sum().sum())"
   ]
  },
  {
   "cell_type": "code",
   "execution_count": 25,
   "id": "327c5464-cdba-4725-a1f7-a42ccdd8107b",
   "metadata": {},
   "outputs": [
    {
     "name": "stdout",
     "output_type": "stream",
     "text": [
      "  faculty_name      student_name  points\n",
      "0   Гриффиндор      Гарри Поттер      15\n",
      "1     Слизерин      Драко Малфой      28\n",
      "2    Когтевран    Полумна Лавгуд      10\n",
      "3   Гриффиндор         Рон Уизли       5\n",
      "4    Пуффендуй    Седрик Диггори      17\n",
      "5   Гриффиндор  Невилл Долгопупс      12\n"
     ]
    }
   ],
   "source": [
    "#it would work if there were NaN in cell. But there is just nothing which python interprets as NaN\n",
    "hogwarts_points['faculty_name'] = hogwarts_points['faculty_name'].replace('NaN','Гриффиндор')\n",
    "\n",
    "hogwarts_points['faculty_name'] = hogwarts_points['faculty_name'].fillna('Гриффиндор')\n",
    "print(hogwarts_points.head(10))"
   ]
  },
  {
   "cell_type": "markdown",
   "id": "a17a3f11-eaa6-44ce-ab5c-269f0c27a4b1",
   "metadata": {},
   "source": [
    " Let's recount each faculty total points"
   ]
  },
  {
   "cell_type": "code",
   "execution_count": 85,
   "id": "d4ffd220-9eb2-4a49-851a-f1bdd1d04258",
   "metadata": {},
   "outputs": [
    {
     "name": "stdout",
     "output_type": "stream",
     "text": [
      "  faculty_name  points\n",
      "0   Гриффиндор      32\n",
      "1    Когтевран      10\n",
      "2    Пуффендуй      17\n",
      "3     Слизерин      28\n"
     ]
    }
   ],
   "source": [
    "faculty_points = hogwarts_points.groupby('faculty_name')['points'].sum().reset_index()\n",
    "print(faculty_points)"
   ]
  },
  {
   "cell_type": "code",
   "execution_count": 111,
   "id": "589ba4b6-a6d7-4518-b862-0dfeb72f5d19",
   "metadata": {},
   "outputs": [
    {
     "name": "stdout",
     "output_type": "stream",
     "text": [
      "Гриффиндор\n"
     ]
    }
   ],
   "source": [
    "winner = faculty_points.loc[faculty_points['points'].idxmax(),'faculty_name']\n",
    "print(winner)"
   ]
  },
  {
   "cell_type": "markdown",
   "id": "a034a838-f249-42e2-bcdf-2ff2f1f576c2",
   "metadata": {},
   "source": [
    "## 2.4.2 Conversion\n"
   ]
  },
  {
   "cell_type": "code",
   "execution_count": 148,
   "id": "c2abb4cc-993e-4660-b257-e9850d3cd653",
   "metadata": {},
   "outputs": [
    {
     "ename": "FileNotFoundError",
     "evalue": "[Errno 2] No such file or directory: 'E:\\\\COURSES\\\\Кодинг\\\\[Yandex praxis]. DS specialist + (2022)\\\\2\\\\[SuperSliv.biz] 02 Работа с пропусками\\\\04 work\\\\logs.csv'",
     "output_type": "error",
     "traceback": [
      "\u001b[1;31m---------------------------------------------------------------------------\u001b[0m",
      "\u001b[1;31mFileNotFoundError\u001b[0m                         Traceback (most recent call last)",
      "Cell \u001b[1;32mIn[148], line 2\u001b[0m\n\u001b[0;32m      1\u001b[0m \u001b[38;5;28;01mimport\u001b[39;00m \u001b[38;5;21;01mpandas\u001b[39;00m\n\u001b[1;32m----> 2\u001b[0m logs \u001b[38;5;241m=\u001b[39m \u001b[43mpd\u001b[49m\u001b[38;5;241;43m.\u001b[39;49m\u001b[43mread_csv\u001b[49m\u001b[43m(\u001b[49m\u001b[38;5;124;43mr\u001b[39;49m\u001b[38;5;124;43m'\u001b[39;49m\u001b[38;5;124;43mE:\u001b[39;49m\u001b[38;5;124;43m\\\u001b[39;49m\u001b[38;5;124;43mCOURSES\u001b[39;49m\u001b[38;5;124;43m\\\u001b[39;49m\u001b[38;5;124;43mКодинг\u001b[39;49m\u001b[38;5;124;43m\\\u001b[39;49m\u001b[38;5;124;43m[Yandex praxis]. DS specialist + (2022)\u001b[39;49m\u001b[38;5;124;43m\\\u001b[39;49m\u001b[38;5;124;43m2\u001b[39;49m\u001b[38;5;124;43m\\\u001b[39;49m\u001b[38;5;124;43m[SuperSliv.biz] 02 Работа с пропусками\u001b[39;49m\u001b[38;5;124;43m\\\u001b[39;49m\u001b[38;5;124;43m04 work\u001b[39;49m\u001b[38;5;124;43m\\\u001b[39;49m\u001b[38;5;124;43mlogs.csv\u001b[39;49m\u001b[38;5;124;43m'\u001b[39;49m\u001b[43m)\u001b[49m\n\u001b[0;32m      4\u001b[0m \u001b[38;5;28mprint\u001b[39m(logs\u001b[38;5;241m.\u001b[39mhead(\u001b[38;5;241m10\u001b[39m))\n\u001b[0;32m      8\u001b[0m purchase \u001b[38;5;241m=\u001b[39m logs\u001b[38;5;241m.\u001b[39mgroupby(\u001b[38;5;124m'\u001b[39m\u001b[38;5;124msource\u001b[39m\u001b[38;5;124m'\u001b[39m)[\u001b[38;5;124m'\u001b[39m\u001b[38;5;124mpurchase\u001b[39m\u001b[38;5;124m'\u001b[39m]\u001b[38;5;241m.\u001b[39msum()\n",
      "File \u001b[1;32m~\\AppData\\Local\\Programs\\Python\\Python312\\Lib\\site-packages\\pandas\\io\\parsers\\readers.py:1026\u001b[0m, in \u001b[0;36mread_csv\u001b[1;34m(filepath_or_buffer, sep, delimiter, header, names, index_col, usecols, dtype, engine, converters, true_values, false_values, skipinitialspace, skiprows, skipfooter, nrows, na_values, keep_default_na, na_filter, verbose, skip_blank_lines, parse_dates, infer_datetime_format, keep_date_col, date_parser, date_format, dayfirst, cache_dates, iterator, chunksize, compression, thousands, decimal, lineterminator, quotechar, quoting, doublequote, escapechar, comment, encoding, encoding_errors, dialect, on_bad_lines, delim_whitespace, low_memory, memory_map, float_precision, storage_options, dtype_backend)\u001b[0m\n\u001b[0;32m   1013\u001b[0m kwds_defaults \u001b[38;5;241m=\u001b[39m _refine_defaults_read(\n\u001b[0;32m   1014\u001b[0m     dialect,\n\u001b[0;32m   1015\u001b[0m     delimiter,\n\u001b[1;32m   (...)\u001b[0m\n\u001b[0;32m   1022\u001b[0m     dtype_backend\u001b[38;5;241m=\u001b[39mdtype_backend,\n\u001b[0;32m   1023\u001b[0m )\n\u001b[0;32m   1024\u001b[0m kwds\u001b[38;5;241m.\u001b[39mupdate(kwds_defaults)\n\u001b[1;32m-> 1026\u001b[0m \u001b[38;5;28;01mreturn\u001b[39;00m \u001b[43m_read\u001b[49m\u001b[43m(\u001b[49m\u001b[43mfilepath_or_buffer\u001b[49m\u001b[43m,\u001b[49m\u001b[43m \u001b[49m\u001b[43mkwds\u001b[49m\u001b[43m)\u001b[49m\n",
      "File \u001b[1;32m~\\AppData\\Local\\Programs\\Python\\Python312\\Lib\\site-packages\\pandas\\io\\parsers\\readers.py:620\u001b[0m, in \u001b[0;36m_read\u001b[1;34m(filepath_or_buffer, kwds)\u001b[0m\n\u001b[0;32m    617\u001b[0m _validate_names(kwds\u001b[38;5;241m.\u001b[39mget(\u001b[38;5;124m\"\u001b[39m\u001b[38;5;124mnames\u001b[39m\u001b[38;5;124m\"\u001b[39m, \u001b[38;5;28;01mNone\u001b[39;00m))\n\u001b[0;32m    619\u001b[0m \u001b[38;5;66;03m# Create the parser.\u001b[39;00m\n\u001b[1;32m--> 620\u001b[0m parser \u001b[38;5;241m=\u001b[39m \u001b[43mTextFileReader\u001b[49m\u001b[43m(\u001b[49m\u001b[43mfilepath_or_buffer\u001b[49m\u001b[43m,\u001b[49m\u001b[43m \u001b[49m\u001b[38;5;241;43m*\u001b[39;49m\u001b[38;5;241;43m*\u001b[39;49m\u001b[43mkwds\u001b[49m\u001b[43m)\u001b[49m\n\u001b[0;32m    622\u001b[0m \u001b[38;5;28;01mif\u001b[39;00m chunksize \u001b[38;5;129;01mor\u001b[39;00m iterator:\n\u001b[0;32m    623\u001b[0m     \u001b[38;5;28;01mreturn\u001b[39;00m parser\n",
      "File \u001b[1;32m~\\AppData\\Local\\Programs\\Python\\Python312\\Lib\\site-packages\\pandas\\io\\parsers\\readers.py:1620\u001b[0m, in \u001b[0;36mTextFileReader.__init__\u001b[1;34m(self, f, engine, **kwds)\u001b[0m\n\u001b[0;32m   1617\u001b[0m     \u001b[38;5;28mself\u001b[39m\u001b[38;5;241m.\u001b[39moptions[\u001b[38;5;124m\"\u001b[39m\u001b[38;5;124mhas_index_names\u001b[39m\u001b[38;5;124m\"\u001b[39m] \u001b[38;5;241m=\u001b[39m kwds[\u001b[38;5;124m\"\u001b[39m\u001b[38;5;124mhas_index_names\u001b[39m\u001b[38;5;124m\"\u001b[39m]\n\u001b[0;32m   1619\u001b[0m \u001b[38;5;28mself\u001b[39m\u001b[38;5;241m.\u001b[39mhandles: IOHandles \u001b[38;5;241m|\u001b[39m \u001b[38;5;28;01mNone\u001b[39;00m \u001b[38;5;241m=\u001b[39m \u001b[38;5;28;01mNone\u001b[39;00m\n\u001b[1;32m-> 1620\u001b[0m \u001b[38;5;28mself\u001b[39m\u001b[38;5;241m.\u001b[39m_engine \u001b[38;5;241m=\u001b[39m \u001b[38;5;28;43mself\u001b[39;49m\u001b[38;5;241;43m.\u001b[39;49m\u001b[43m_make_engine\u001b[49m\u001b[43m(\u001b[49m\u001b[43mf\u001b[49m\u001b[43m,\u001b[49m\u001b[43m \u001b[49m\u001b[38;5;28;43mself\u001b[39;49m\u001b[38;5;241;43m.\u001b[39;49m\u001b[43mengine\u001b[49m\u001b[43m)\u001b[49m\n",
      "File \u001b[1;32m~\\AppData\\Local\\Programs\\Python\\Python312\\Lib\\site-packages\\pandas\\io\\parsers\\readers.py:1880\u001b[0m, in \u001b[0;36mTextFileReader._make_engine\u001b[1;34m(self, f, engine)\u001b[0m\n\u001b[0;32m   1878\u001b[0m     \u001b[38;5;28;01mif\u001b[39;00m \u001b[38;5;124m\"\u001b[39m\u001b[38;5;124mb\u001b[39m\u001b[38;5;124m\"\u001b[39m \u001b[38;5;129;01mnot\u001b[39;00m \u001b[38;5;129;01min\u001b[39;00m mode:\n\u001b[0;32m   1879\u001b[0m         mode \u001b[38;5;241m+\u001b[39m\u001b[38;5;241m=\u001b[39m \u001b[38;5;124m\"\u001b[39m\u001b[38;5;124mb\u001b[39m\u001b[38;5;124m\"\u001b[39m\n\u001b[1;32m-> 1880\u001b[0m \u001b[38;5;28mself\u001b[39m\u001b[38;5;241m.\u001b[39mhandles \u001b[38;5;241m=\u001b[39m \u001b[43mget_handle\u001b[49m\u001b[43m(\u001b[49m\n\u001b[0;32m   1881\u001b[0m \u001b[43m    \u001b[49m\u001b[43mf\u001b[49m\u001b[43m,\u001b[49m\n\u001b[0;32m   1882\u001b[0m \u001b[43m    \u001b[49m\u001b[43mmode\u001b[49m\u001b[43m,\u001b[49m\n\u001b[0;32m   1883\u001b[0m \u001b[43m    \u001b[49m\u001b[43mencoding\u001b[49m\u001b[38;5;241;43m=\u001b[39;49m\u001b[38;5;28;43mself\u001b[39;49m\u001b[38;5;241;43m.\u001b[39;49m\u001b[43moptions\u001b[49m\u001b[38;5;241;43m.\u001b[39;49m\u001b[43mget\u001b[49m\u001b[43m(\u001b[49m\u001b[38;5;124;43m\"\u001b[39;49m\u001b[38;5;124;43mencoding\u001b[39;49m\u001b[38;5;124;43m\"\u001b[39;49m\u001b[43m,\u001b[49m\u001b[43m \u001b[49m\u001b[38;5;28;43;01mNone\u001b[39;49;00m\u001b[43m)\u001b[49m\u001b[43m,\u001b[49m\n\u001b[0;32m   1884\u001b[0m \u001b[43m    \u001b[49m\u001b[43mcompression\u001b[49m\u001b[38;5;241;43m=\u001b[39;49m\u001b[38;5;28;43mself\u001b[39;49m\u001b[38;5;241;43m.\u001b[39;49m\u001b[43moptions\u001b[49m\u001b[38;5;241;43m.\u001b[39;49m\u001b[43mget\u001b[49m\u001b[43m(\u001b[49m\u001b[38;5;124;43m\"\u001b[39;49m\u001b[38;5;124;43mcompression\u001b[39;49m\u001b[38;5;124;43m\"\u001b[39;49m\u001b[43m,\u001b[49m\u001b[43m \u001b[49m\u001b[38;5;28;43;01mNone\u001b[39;49;00m\u001b[43m)\u001b[49m\u001b[43m,\u001b[49m\n\u001b[0;32m   1885\u001b[0m \u001b[43m    \u001b[49m\u001b[43mmemory_map\u001b[49m\u001b[38;5;241;43m=\u001b[39;49m\u001b[38;5;28;43mself\u001b[39;49m\u001b[38;5;241;43m.\u001b[39;49m\u001b[43moptions\u001b[49m\u001b[38;5;241;43m.\u001b[39;49m\u001b[43mget\u001b[49m\u001b[43m(\u001b[49m\u001b[38;5;124;43m\"\u001b[39;49m\u001b[38;5;124;43mmemory_map\u001b[39;49m\u001b[38;5;124;43m\"\u001b[39;49m\u001b[43m,\u001b[49m\u001b[43m \u001b[49m\u001b[38;5;28;43;01mFalse\u001b[39;49;00m\u001b[43m)\u001b[49m\u001b[43m,\u001b[49m\n\u001b[0;32m   1886\u001b[0m \u001b[43m    \u001b[49m\u001b[43mis_text\u001b[49m\u001b[38;5;241;43m=\u001b[39;49m\u001b[43mis_text\u001b[49m\u001b[43m,\u001b[49m\n\u001b[0;32m   1887\u001b[0m \u001b[43m    \u001b[49m\u001b[43merrors\u001b[49m\u001b[38;5;241;43m=\u001b[39;49m\u001b[38;5;28;43mself\u001b[39;49m\u001b[38;5;241;43m.\u001b[39;49m\u001b[43moptions\u001b[49m\u001b[38;5;241;43m.\u001b[39;49m\u001b[43mget\u001b[49m\u001b[43m(\u001b[49m\u001b[38;5;124;43m\"\u001b[39;49m\u001b[38;5;124;43mencoding_errors\u001b[39;49m\u001b[38;5;124;43m\"\u001b[39;49m\u001b[43m,\u001b[49m\u001b[43m \u001b[49m\u001b[38;5;124;43m\"\u001b[39;49m\u001b[38;5;124;43mstrict\u001b[39;49m\u001b[38;5;124;43m\"\u001b[39;49m\u001b[43m)\u001b[49m\u001b[43m,\u001b[49m\n\u001b[0;32m   1888\u001b[0m \u001b[43m    \u001b[49m\u001b[43mstorage_options\u001b[49m\u001b[38;5;241;43m=\u001b[39;49m\u001b[38;5;28;43mself\u001b[39;49m\u001b[38;5;241;43m.\u001b[39;49m\u001b[43moptions\u001b[49m\u001b[38;5;241;43m.\u001b[39;49m\u001b[43mget\u001b[49m\u001b[43m(\u001b[49m\u001b[38;5;124;43m\"\u001b[39;49m\u001b[38;5;124;43mstorage_options\u001b[39;49m\u001b[38;5;124;43m\"\u001b[39;49m\u001b[43m,\u001b[49m\u001b[43m \u001b[49m\u001b[38;5;28;43;01mNone\u001b[39;49;00m\u001b[43m)\u001b[49m\u001b[43m,\u001b[49m\n\u001b[0;32m   1889\u001b[0m \u001b[43m\u001b[49m\u001b[43m)\u001b[49m\n\u001b[0;32m   1890\u001b[0m \u001b[38;5;28;01massert\u001b[39;00m \u001b[38;5;28mself\u001b[39m\u001b[38;5;241m.\u001b[39mhandles \u001b[38;5;129;01mis\u001b[39;00m \u001b[38;5;129;01mnot\u001b[39;00m \u001b[38;5;28;01mNone\u001b[39;00m\n\u001b[0;32m   1891\u001b[0m f \u001b[38;5;241m=\u001b[39m \u001b[38;5;28mself\u001b[39m\u001b[38;5;241m.\u001b[39mhandles\u001b[38;5;241m.\u001b[39mhandle\n",
      "File \u001b[1;32m~\\AppData\\Local\\Programs\\Python\\Python312\\Lib\\site-packages\\pandas\\io\\common.py:873\u001b[0m, in \u001b[0;36mget_handle\u001b[1;34m(path_or_buf, mode, encoding, compression, memory_map, is_text, errors, storage_options)\u001b[0m\n\u001b[0;32m    868\u001b[0m \u001b[38;5;28;01melif\u001b[39;00m \u001b[38;5;28misinstance\u001b[39m(handle, \u001b[38;5;28mstr\u001b[39m):\n\u001b[0;32m    869\u001b[0m     \u001b[38;5;66;03m# Check whether the filename is to be opened in binary mode.\u001b[39;00m\n\u001b[0;32m    870\u001b[0m     \u001b[38;5;66;03m# Binary mode does not support 'encoding' and 'newline'.\u001b[39;00m\n\u001b[0;32m    871\u001b[0m     \u001b[38;5;28;01mif\u001b[39;00m ioargs\u001b[38;5;241m.\u001b[39mencoding \u001b[38;5;129;01mand\u001b[39;00m \u001b[38;5;124m\"\u001b[39m\u001b[38;5;124mb\u001b[39m\u001b[38;5;124m\"\u001b[39m \u001b[38;5;129;01mnot\u001b[39;00m \u001b[38;5;129;01min\u001b[39;00m ioargs\u001b[38;5;241m.\u001b[39mmode:\n\u001b[0;32m    872\u001b[0m         \u001b[38;5;66;03m# Encoding\u001b[39;00m\n\u001b[1;32m--> 873\u001b[0m         handle \u001b[38;5;241m=\u001b[39m \u001b[38;5;28;43mopen\u001b[39;49m\u001b[43m(\u001b[49m\n\u001b[0;32m    874\u001b[0m \u001b[43m            \u001b[49m\u001b[43mhandle\u001b[49m\u001b[43m,\u001b[49m\n\u001b[0;32m    875\u001b[0m \u001b[43m            \u001b[49m\u001b[43mioargs\u001b[49m\u001b[38;5;241;43m.\u001b[39;49m\u001b[43mmode\u001b[49m\u001b[43m,\u001b[49m\n\u001b[0;32m    876\u001b[0m \u001b[43m            \u001b[49m\u001b[43mencoding\u001b[49m\u001b[38;5;241;43m=\u001b[39;49m\u001b[43mioargs\u001b[49m\u001b[38;5;241;43m.\u001b[39;49m\u001b[43mencoding\u001b[49m\u001b[43m,\u001b[49m\n\u001b[0;32m    877\u001b[0m \u001b[43m            \u001b[49m\u001b[43merrors\u001b[49m\u001b[38;5;241;43m=\u001b[39;49m\u001b[43merrors\u001b[49m\u001b[43m,\u001b[49m\n\u001b[0;32m    878\u001b[0m \u001b[43m            \u001b[49m\u001b[43mnewline\u001b[49m\u001b[38;5;241;43m=\u001b[39;49m\u001b[38;5;124;43m\"\u001b[39;49m\u001b[38;5;124;43m\"\u001b[39;49m\u001b[43m,\u001b[49m\n\u001b[0;32m    879\u001b[0m \u001b[43m        \u001b[49m\u001b[43m)\u001b[49m\n\u001b[0;32m    880\u001b[0m     \u001b[38;5;28;01melse\u001b[39;00m:\n\u001b[0;32m    881\u001b[0m         \u001b[38;5;66;03m# Binary mode\u001b[39;00m\n\u001b[0;32m    882\u001b[0m         handle \u001b[38;5;241m=\u001b[39m \u001b[38;5;28mopen\u001b[39m(handle, ioargs\u001b[38;5;241m.\u001b[39mmode)\n",
      "\u001b[1;31mFileNotFoundError\u001b[0m: [Errno 2] No such file or directory: 'E:\\\\COURSES\\\\Кодинг\\\\[Yandex praxis]. DS specialist + (2022)\\\\2\\\\[SuperSliv.biz] 02 Работа с пропусками\\\\04 work\\\\logs.csv'"
     ]
    }
   ],
   "source": [
    "import pandas\n",
    "logs = pd.read_csv(r'E:\\COURSES\\Кодинг\\[Yandex praxis]. DS specialist + (2022)\\2\\[SuperSliv.biz] 02 Работа с пропусками\\04 work\\logs.csv')\n",
    "\n",
    "print(logs.head(10))\n",
    "\n",
    "\n",
    "\n",
    "purchase = logs.groupby('source')['purchase'].sum()\n",
    "print(purchase)"
   ]
  },
  {
   "cell_type": "markdown",
   "id": "04a86057-4a45-4722-ab9d-2086577ab129",
   "metadata": {},
   "source": [
    "Amount of visits by source"
   ]
  },
  {
   "cell_type": "code",
   "execution_count": 141,
   "id": "f6e73e5f-6722-49ba-b700-1dc163663124",
   "metadata": {},
   "outputs": [
    {
     "name": "stdout",
     "output_type": "stream",
     "text": [
      "source\n",
      "context     52032\n",
      "email       12279\n",
      "other      133834\n",
      "undef         181\n",
      "Name: user_id, dtype: int64\n"
     ]
    }
   ],
   "source": [
    "visits = logs.groupby('source')['user_id'].count()\n",
    "print(visits)"
   ]
  },
  {
   "cell_type": "markdown",
   "id": "67fe5a18-eb63-4e96-ab9a-cf80d2352c51",
   "metadata": {},
   "source": [
    "Amount of purchases by source"
   ]
  },
  {
   "cell_type": "code",
   "execution_count": 145,
   "id": "0fc61aa3-4022-4b1a-bf0d-adb0c7492adb",
   "metadata": {},
   "outputs": [
    {
     "name": "stdout",
     "output_type": "stream",
     "text": [
      "source\n",
      "context    3029\n",
      "email       913\n",
      "other      8041\n",
      "undef        12\n",
      "Name: purchase, dtype: int64\n"
     ]
    }
   ],
   "source": [
    "purchase = logs.groupby('source')['purchase'].sum()\n",
    "print(purchase)"
   ]
  },
  {
   "cell_type": "markdown",
   "id": "8b89c55f-6c74-4956-b836-cc561b5a0879",
   "metadata": {},
   "source": [
    "Conversion rate"
   ]
  },
  {
   "cell_type": "code",
   "execution_count": 169,
   "id": "52391ffd-0afc-43dd-958c-96ffe1a0cec5",
   "metadata": {},
   "outputs": [
    {
     "name": "stdout",
     "output_type": "stream",
     "text": [
      "    source  Conversion\n",
      "0  context        5.82\n",
      "1    email        7.44\n",
      "2    other        6.01\n",
      "3    undef        6.63\n"
     ]
    }
   ],
   "source": [
    "conversion = round(purchase / visits *100, 2).reset_index()\n",
    "conversion.columns = ['source','Conversion']\n",
    "print(conversion)"
   ]
  },
  {
   "cell_type": "markdown",
   "id": "11f3809e-d1b9-492f-8d5f-62fb03dee960",
   "metadata": {},
   "source": [
    "## 2.5 Loc indexation"
   ]
  },
  {
   "cell_type": "code",
   "execution_count": 149,
   "id": "ad05a3fd-3cab-4c6f-9568-d615521ea108",
   "metadata": {},
   "outputs": [
    {
     "name": "stdout",
     "output_type": "stream",
     "text": [
      "     Имя         Роль Новая_функция Эксперимент Статья\n",
      "0   Маша  разработчик             +        None   None\n",
      "1   Петя     аналитик             +           -      -\n",
      "2   Вася  разработчик          None           +      +\n",
      "3   Катя     менеджер             +           -      +\n",
      "4   Ваня     аналитик          None           +   None\n",
      "5   Дима     менеджер          None           +   None\n",
      "6  Настя  разработчик             +           +      -\n",
      "7   Лена   копирайтер          None        None      +\n"
     ]
    }
   ],
   "source": [
    "import pandas as pd\n",
    "data = [['Маша',\t'разработчик','+'],\n",
    "['Петя',\t'аналитик','+' ,\t'-',\t'-'],\n",
    "['Вася',\t'разработчик', '',\t\t'+',\t'+'],\n",
    "['Катя',\t'менеджер',\t'+',\t'-',\t'+'],\n",
    "['Ваня',\t'аналитик',\t'',\t'+'\t],\n",
    "['Дима',\t'менеджер',\t'',\t'+'\t],\n",
    "['Настя',\t'разработчик',\t'+',\t'+',\t'-'],\n",
    "['Лена',\t'копирайтер','','','+']\n",
    "       ]\n",
    "headers = ['Имя','Роль','Новая_функция','Эксперимент', 'Статья']\n",
    "\n",
    "for row in data:\n",
    "    for i in range(2,5):\n",
    "        if i < len(row) and row[i] =='':\n",
    "            row[i] = None\n",
    "team = pd.DataFrame(data = data,columns = headers)\n",
    "print(team)"
   ]
  },
  {
   "cell_type": "markdown",
   "id": "b2717822-768c-42e5-9f15-4c9e62826694",
   "metadata": {},
   "source": [
    "Роль Васи:"
   ]
  },
  {
   "cell_type": "code",
   "execution_count": 53,
   "id": "b309cd59-4e48-4754-b69b-f5035586c5ee",
   "metadata": {},
   "outputs": [
    {
     "name": "stdout",
     "output_type": "stream",
     "text": [
      "разработчик\n"
     ]
    }
   ],
   "source": [
    "Vasya_role = team.loc[team['Имя'] == 'Вася','Роль'].iloc[0]\n",
    "print(Vasya_role)"
   ]
  },
  {
   "cell_type": "markdown",
   "id": "e3263b1c-5bbc-4c7f-93be-fe67a8e25353",
   "metadata": {},
   "source": [
    "Задействовать в новой функции всю команду"
   ]
  },
  {
   "cell_type": "code",
   "execution_count": 118,
   "id": "5f577ca1-8eb0-484d-9979-237943a1aedf",
   "metadata": {},
   "outputs": [
    {
     "name": "stdout",
     "output_type": "stream",
     "text": [
      "     Имя         Роль Новая_функция Эксперимент Статья\n",
      "0   Маша  разработчик             +           -      -\n",
      "1   Петя     аналитик             +           -      -\n",
      "2   Вася  разработчик             +           +      +\n",
      "3   Катя     менеджер             +           -      +\n",
      "4   Ваня     аналитик             +           +      -\n",
      "5   Дима     менеджер             +           +      -\n",
      "6  Настя  разработчик             +           +      -\n",
      "7   Лена   копирайтер             +           -      +\n"
     ]
    }
   ],
   "source": [
    "team.loc[team['Новая_функция'].isna(),'Новая_функция'] = '+'\n",
    "print(team)"
   ]
  },
  {
   "cell_type": "markdown",
   "id": "5ca3935f-1bf3-4c85-b6f4-5c83204bb1a1",
   "metadata": {},
   "source": [
    "Logical Indexation"
   ]
  },
  {
   "cell_type": "code",
   "execution_count": 117,
   "id": "21f9650c-600d-4a6d-9369-c7e20e50bb05",
   "metadata": {},
   "outputs": [
    {
     "name": "stdout",
     "output_type": "stream",
     "text": [
      "     Имя         Роль Новая_функция Эксперимент Статья\n",
      "0   Маша  разработчик             +           -      -\n",
      "2   Вася  разработчик             +           +      +\n",
      "6  Настя  разработчик             +           +      -\n"
     ]
    }
   ],
   "source": [
    "logical_indexation = [True, False, True, False, False, False, True, False] \n",
    "print(team.loc[logical_indexation])"
   ]
  },
  {
   "cell_type": "code",
   "execution_count": 56,
   "id": "9c841445-7980-46fe-8562-f46d8b3859dc",
   "metadata": {},
   "outputs": [
    {
     "name": "stdout",
     "output_type": "stream",
     "text": [
      "     Имя         Роль Новая_функция Эксперимент Статья\n",
      "2   Вася  разработчик             +           +      +\n",
      "4   Ваня     аналитик             +           +   None\n",
      "5   Дима     менеджер             +           +   None\n",
      "6  Настя  разработчик             +           +      -\n"
     ]
    }
   ],
   "source": [
    "experiment = team['Эксперимент'] == '+'\n",
    "print(team.loc[experiment])"
   ]
  },
  {
   "cell_type": "markdown",
   "id": "82f15591-5fbe-4e5a-ae11-4a49b3294521",
   "metadata": {},
   "source": [
    "Find developers"
   ]
  },
  {
   "cell_type": "code",
   "execution_count": 58,
   "id": "9052aff9-f2c8-4410-bd68-f689e0c721ac",
   "metadata": {},
   "outputs": [
    {
     "name": "stdout",
     "output_type": "stream",
     "text": [
      "     Имя         Роль Новая_функция Эксперимент Статья\n",
      "0   Маша  разработчик             +        None   None\n",
      "2   Вася  разработчик             +           +      +\n",
      "6  Настя  разработчик             +           +      -\n"
     ]
    }
   ],
   "source": [
    "developers = team.loc[team['Роль'] == 'разработчик']\n",
    "print(developers)"
   ]
  },
  {
   "cell_type": "markdown",
   "id": "1a509676-350a-4d09-9f3f-b31e5ef8b258",
   "metadata": {},
   "source": [
    "Not managers"
   ]
  },
  {
   "cell_type": "code",
   "execution_count": 71,
   "id": "5a25ef77-7f0b-4250-94ac-1147090a94b3",
   "metadata": {},
   "outputs": [
    {
     "name": "stdout",
     "output_type": "stream",
     "text": [
      "     Имя         Роль Новая_функция Эксперимент Статья\n",
      "0   Маша  разработчик             +        None   None\n",
      "1   Петя     аналитик             +           -      -\n",
      "2   Вася  разработчик             +           +      +\n",
      "4   Ваня     аналитик             +           +   None\n",
      "6  Настя  разработчик             +           +      -\n",
      "7   Лена   копирайтер             +        None      +\n",
      "\n",
      "    Имя        Роль Новая_функция Эксперимент Статья\n",
      "1  Петя    аналитик             +           -      -\n",
      "3  Катя    менеджер             +           -      +\n",
      "4  Ваня    аналитик             +           +   None\n",
      "5  Дима    менеджер             +           +   None\n",
      "7  Лена  копирайтер             +        None      +\n"
     ]
    }
   ],
   "source": [
    "non_managers = team.loc[team['Роль'] != 'менеджер']\n",
    "print(non_managers)\n",
    "print()\n",
    "\n",
    "non_developers = team.loc[team['Роль'] != 'разработчик']\n",
    "print(non_developers)      "
   ]
  },
  {
   "cell_type": "markdown",
   "id": "51152da1-de4d-40ec-868a-dd0efb6b4867",
   "metadata": {},
   "source": [
    "## 2.6. Logical expressions in `.loc` attribute"
   ]
  },
  {
   "cell_type": "markdown",
   "id": "ee977554-6f18-4d69-8b4b-f4f0d536f0a5",
   "metadata": {},
   "source": [
    "Here we're using abovementioned `team` table"
   ]
  },
  {
   "cell_type": "code",
   "execution_count": 89,
   "id": "50203e04-ab02-4434-8e5c-5e959e2b48d4",
   "metadata": {},
   "outputs": [
    {
     "name": "stdout",
     "output_type": "stream",
     "text": [
      "    Имя\n",
      "2  Вася\n",
      "3  Катя\n",
      "7  Лена\n",
      "<class 'pandas.core.frame.DataFrame'>\n",
      "\n",
      "2    Вася\n",
      "3    Катя\n",
      "7    Лена\n",
      "Name: Имя, dtype: object\n",
      "<class 'pandas.core.series.Series'>\n"
     ]
    }
   ],
   "source": [
    "# Here we create a DataFrame\n",
    "print(team.loc[team['Статья'] == '+',['Имя']])\n",
    "print(type(team.loc[team['Статья'] == '+',['Имя']]))\n",
    "print()\n",
    "\n",
    "# and there is a Series\n",
    "print(team.loc[team['Статья'] == '+','Имя'])\n",
    "print(type(team.loc[team['Статья'] == '+','Имя']))"
   ]
  },
  {
   "cell_type": "markdown",
   "id": "0b56ee28-dd88-48a4-aa30-77ba8723d515",
   "metadata": {},
   "source": [
    "Type all team's members"
   ]
  },
  {
   "cell_type": "code",
   "execution_count": 101,
   "id": "c6c3b141-7025-45f6-a9f4-0001ef4f0711",
   "metadata": {},
   "outputs": [
    {
     "name": "stdout",
     "output_type": "stream",
     "text": [
      "0     Маша\n",
      "1     Петя\n",
      "2     Вася\n",
      "3     Катя\n",
      "4     Ваня\n",
      "5     Дима\n",
      "6    Настя\n",
      "7     Лена\n",
      "Name: Имя, dtype: object\n",
      "<class 'pandas.core.series.Series'>\n"
     ]
    }
   ],
   "source": [
    "print(team['Имя'])\n",
    "print(type(team['Имя']))"
   ]
  },
  {
   "cell_type": "markdown",
   "id": "df18c666-d954-4afa-a1a4-3c16a6df4b90",
   "metadata": {},
   "source": [
    "Let's replace all `NaN` with `-`"
   ]
  },
  {
   "cell_type": "code",
   "execution_count": 105,
   "id": "7722d4bf-6597-4ed7-9087-ea2f000b0c98",
   "metadata": {},
   "outputs": [
    {
     "name": "stdout",
     "output_type": "stream",
     "text": [
      "     Имя         Роль Новая_функция Эксперимент Статья\n",
      "0   Маша  разработчик             +           -      -\n",
      "1   Петя     аналитик             +           -      -\n",
      "2   Вася  разработчик             +           +      +\n",
      "3   Катя     менеджер             +           -      +\n",
      "4   Ваня     аналитик             +           +      -\n",
      "5   Дима     менеджер             +           +      -\n",
      "6  Настя  разработчик             +           +      -\n",
      "7   Лена   копирайтер             +           -      +\n"
     ]
    }
   ],
   "source": [
    "team = team.fillna('-') \n",
    "print(team)"
   ]
  },
  {
   "cell_type": "markdown",
   "id": "6b30336f-8b14-461f-9aae-105409e74b61",
   "metadata": {},
   "source": [
    "Logical operators"
   ]
  },
  {
   "cell_type": "code",
   "execution_count": 133,
   "id": "f91c9374-24a4-4235-a60a-cdcb1248df46",
   "metadata": {},
   "outputs": [
    {
     "name": "stdout",
     "output_type": "stream",
     "text": [
      "     Имя         Роль Новая_функция Эксперимент Статья\n",
      "0   Маша  разработчик             +        None   None\n",
      "6  Настя  разработчик             +           +      -\n"
     ]
    }
   ],
   "source": [
    "print(team.loc[(team['Новая_функция'] =='+') & (team['Роль'] == 'разработчик')])"
   ]
  },
  {
   "cell_type": "markdown",
   "id": "dee87a14-61ff-4844-bfc4-f63c59ec636a",
   "metadata": {},
   "source": [
    "Rename all `разработчик` which are working on the `Новая_функция` into `улучшатель`"
   ]
  },
  {
   "cell_type": "code",
   "execution_count": 150,
   "id": "37b8fa9b-482c-4639-a0a1-575a1c79d6b6",
   "metadata": {},
   "outputs": [
    {
     "name": "stdout",
     "output_type": "stream",
     "text": [
      "     Имя         Роль Новая_функция Эксперимент Статья\n",
      "0   Маша   улучшатель             +        None   None\n",
      "1   Петя     аналитик             +           -      -\n",
      "2   Вася  разработчик          None           +      +\n",
      "3   Катя     менеджер             +           -      +\n",
      "4   Ваня     аналитик          None           +   None\n",
      "5   Дима     менеджер          None           +   None\n",
      "6  Настя   улучшатель             +           +      -\n",
      "7   Лена   копирайтер          None        None      +\n"
     ]
    }
   ],
   "source": [
    "# locate all developers which are working on the new function by .loc and go to the 'Роль' to rename them to 'improver' by assignign ==\n",
    "\n",
    "team.loc[(team['Новая_функция'] =='+') & (team['Роль'] == 'разработчик'),\"Роль\"] = \"улучшатель\"\n",
    "print(team)\n",
    "# improvers = improvers['роль']"
   ]
  },
  {
   "cell_type": "markdown",
   "id": "b073ec0c-9319-4f83-ba2f-b9d6135b42dc",
   "metadata": {},
   "source": [
    "Let's find all team members which are working on `Эксперимент` and simultaneosly writing `Статья`"
   ]
  },
  {
   "cell_type": "code",
   "execution_count": 160,
   "id": "c3651c47-814f-41c6-971c-bd6462a19eec",
   "metadata": {},
   "outputs": [
    {
     "name": "stdout",
     "output_type": "stream",
     "text": [
      "     Имя         Роль Новая_функция Эксперимент Статья\n",
      "0   Маша   улучшатель             +        None   None\n",
      "1   Петя     аналитик             +           -      -\n",
      "2  Васян  разработчик          None           +      +\n",
      "3   Катя     менеджер             +           -      +\n",
      "4   Ваня     аналитик          None           +   None\n",
      "5   Дима     менеджер          None           +   None\n",
      "6  Настя   улучшатель             +           +      -\n",
      "7   Лена   копирайтер          None        None      +\n"
     ]
    }
   ],
   "source": [
    "team.loc[(team['Эксперимент'] == '+') & (team['Статья'] =='+'),'Имя'] = 'Васян'\n",
    "print(team)"
   ]
  },
  {
   "cell_type": "code",
   "execution_count": 164,
   "id": "3fd13e7a-0588-429e-a386-17c37431e1c8",
   "metadata": {},
   "outputs": [
    {
     "name": "stdout",
     "output_type": "stream",
     "text": [
      "     Имя         Роль Новая_функция Эксперимент Статья\n",
      "0   Маша   улучшатель             -        None   None\n",
      "1   Петя     аналитик             +           -      -\n",
      "2  Васян  разработчик          None           +      +\n",
      "3   Катя     менеджер             +           -      +\n",
      "4   Ваня     аналитик          None           +   None\n",
      "5   Дима     менеджер          None           +   None\n",
      "6  Настя   улучшатель             -           +      -\n",
      "7   Лена   копирайтер          None        None      +\n"
     ]
    }
   ],
   "source": [
    "team.loc[((team['Роль'] == 'разработчик') | (team['Роль'] == ('улучшатель'))) & (team['Новая_функция'] == '+'), 'Новая_функция'] = '-'\n",
    "print(team)"
   ]
  },
  {
   "cell_type": "markdown",
   "id": "2b3bd7f3-162d-4072-8b1e-429fd8089017",
   "metadata": {},
   "source": [
    "Напоследок о разнице между loc и его сокращенной записью. Вот эти две записи на примере поиска всех работающих над новой функцией:"
   ]
  },
  {
   "cell_type": "code",
   "execution_count": null,
   "id": "5944958b-80ca-4cd4-be49-bdc394a3aa7a",
   "metadata": {},
   "outputs": [],
   "source": [
    "# полная запись\n",
    "print(data.loc[data['Новая функция'] == '+'])\n",
    "\n",
    "# сокращённая запись\n",
    "print(data[data['Новая функция'] == '+']) "
   ]
  },
  {
   "cell_type": "markdown",
   "id": "a9dcac4b-8283-4820-8421-587033f107a7",
   "metadata": {},
   "source": [
    "Если мы передаем только условие (как в примере выше), то можно использовать любую из двух записей, они идентичны. Логические операторы тоже можно использовать.\n",
    "\n",
    "Если мы хотим указать и условие, и столбец, подойдет только полная запись с `loc`.\n",
    "Если мы хотим изменить значения в таблице, подойдет только полная запись с `loc`."
   ]
  },
  {
   "cell_type": "markdown",
   "id": "838c4606-0630-49db-a266-2e2be8290341",
   "metadata": {},
   "source": [
    "## 2.8. Работа с пропусками в категориальных переменных"
   ]
  },
  {
   "cell_type": "code",
   "execution_count": 319,
   "id": "184d36d1-5ac9-446d-906d-930681536e55",
   "metadata": {},
   "outputs": [
    {
     "name": "stdout",
     "output_type": "stream",
     "text": [
      "      user_id   source       email  purchase\n",
      "0  7141786820    other         NaN         0\n",
      "1  5644686960    email  c129aa540a         0\n",
      "2  1914055396  context         NaN         0\n",
      "3  4099355752    other         NaN         0\n",
      "4  6032477554  context         NaN         1\n",
      "5  5872473344    other         NaN         0\n",
      "6  7977025176    other         NaN         0\n",
      "7  3512872755    other         NaN         0\n",
      "8  1827368713  context         NaN         0\n",
      "9  8688870165    other         NaN         0\n",
      "\n",
      "user_id          0\n",
      "source        1674\n",
      "email       186047\n",
      "purchase         0\n",
      "dtype: int64\n",
      "\n",
      "<class 'pandas.core.frame.DataFrame'>\n",
      "RangeIndex: 200000 entries, 0 to 199999\n",
      "Data columns (total 4 columns):\n",
      " #   Column    Non-Null Count   Dtype \n",
      "---  ------    --------------   ----- \n",
      " 0   user_id   200000 non-null  int64 \n",
      " 1   source    198326 non-null  object\n",
      " 2   email     13953 non-null   object\n",
      " 3   purchase  200000 non-null  int64 \n",
      "dtypes: int64(2), object(2)\n",
      "memory usage: 6.1+ MB\n",
      "None\n"
     ]
    }
   ],
   "source": [
    "import pandas as pd\n",
    "\n",
    "logs = pd.read_csv(r'C:\\Users\\stazher3\\Downloads\\Yandex.Disk.Files\\2\\[SuperSliv.biz] 02 Работа с пропусками\\08 work\\logs.csv')\n",
    "\n",
    "print(logs.head(10))\n",
    "print()\n",
    "\n",
    "print(logs.isna().sum())\n",
    "print()\n",
    "\n",
    "print(logs.info())"
   ]
  },
  {
   "cell_type": "code",
   "execution_count": 320,
   "id": "f87cfe4c-ebe3-43b7-811e-b8c4503f1a92",
   "metadata": {},
   "outputs": [
    {
     "name": "stdout",
     "output_type": "stream",
     "text": [
      "      user_id   source       email  purchase\n",
      "0  7141786820    other     unknown         0\n",
      "1  5644686960    email  c129aa540a         0\n",
      "2  1914055396  context     unknown         0\n",
      "3  4099355752    other     unknown         0\n",
      "4  6032477554  context     unknown         1\n",
      "\n",
      "0\n",
      "<class 'pandas.core.frame.DataFrame'>\n",
      "RangeIndex: 200000 entries, 0 to 199999\n",
      "Data columns (total 4 columns):\n",
      " #   Column    Non-Null Count   Dtype \n",
      "---  ------    --------------   ----- \n",
      " 0   user_id   200000 non-null  int64 \n",
      " 1   source    198326 non-null  object\n",
      " 2   email     200000 non-null  object\n",
      " 3   purchase  200000 non-null  int64 \n",
      "dtypes: int64(2), object(2)\n",
      "memory usage: 6.1+ MB\n",
      "None\n"
     ]
    }
   ],
   "source": [
    "logs['email'] = logs['email'].fillna(value='unknown')\n",
    "print(logs.head(5))\n",
    "\n",
    "print()\n",
    "print(logs['email'].isna().sum())\n",
    "print(logs.info())"
   ]
  },
  {
   "cell_type": "markdown",
   "id": "3d829ebe-e84a-45ec-84c0-ac7093a1c465",
   "metadata": {},
   "source": [
    "Пропуски в столбце source записаны в строковом формате — `'None'` вместо `None`. Выясните, случайно ли их возникновение: проверьте, имеет ли каждая строка с источником `None` определённый email.\n",
    "\n",
    "Для этого примените к датафрейму `logs` два фильтра:\n",
    "Источник source равен `'None'`;\n",
    "Значение столбца email равно пустой строке `''`.\n",
    "Выведите датафрейм с применёнными фильтрами. Переменную с датафреймом при этом перезаписывать не нужно."
   ]
  },
  {
   "cell_type": "code",
   "execution_count": 335,
   "id": "f405d383-5694-471e-9b73-a8f28d9ae976",
   "metadata": {},
   "outputs": [
    {
     "name": "stdout",
     "output_type": "stream",
     "text": [
      "Empty DataFrame\n",
      "Columns: [user_id, source, email, purchase, sources]\n",
      "Index: []\n"
     ]
    }
   ],
   "source": [
    "print(logs.loc[(logs['source'] == 'None') & (logs['email'] == '')])"
   ]
  },
  {
   "cell_type": "markdown",
   "id": "78033e61-1f07-4d5d-a7e7-c78596d9b3c3",
   "metadata": {},
   "source": [
    "We can see that there is no rows that contains `'None'` as a string and blanc `email` columns"
   ]
  },
  {
   "cell_type": "code",
   "execution_count": 336,
   "id": "ea4fd7aa-2fc1-4159-9de8-90c10059aaa1",
   "metadata": {},
   "outputs": [
    {
     "name": "stdout",
     "output_type": "stream",
     "text": [
      "<class 'pandas.core.frame.DataFrame'>\n",
      "RangeIndex: 200000 entries, 0 to 199999\n",
      "Data columns (total 5 columns):\n",
      " #   Column    Non-Null Count   Dtype \n",
      "---  ------    --------------   ----- \n",
      " 0   user_id   200000 non-null  int64 \n",
      " 1   source    198326 non-null  object\n",
      " 2   email     200000 non-null  object\n",
      " 3   purchase  200000 non-null  int64 \n",
      " 4   sources   0 non-null       object\n",
      "dtypes: int64(2), object(3)\n",
      "memory usage: 7.6+ MB\n",
      "None\n",
      "\n",
      "user_id          0\n",
      "source        1674\n",
      "email            0\n",
      "purchase         0\n",
      "sources     200000\n",
      "dtype: int64\n",
      "\n",
      "      user_id   source       email  purchase sources\n",
      "0  7141786820    other     unknown         0     NaN\n",
      "1  5644686960    email  c129aa540a         0     NaN\n",
      "2  1914055396  context     unknown         0     NaN\n",
      "3  4099355752    other     unknown         0     NaN\n",
      "4  6032477554  context     unknown         1     NaN\n",
      "5  5872473344    other     unknown         0     NaN\n",
      "6  7977025176    other     unknown         0     NaN\n",
      "7  3512872755    other     unknown         0     NaN\n",
      "8  1827368713  context     unknown         0     NaN\n",
      "9  8688870165    other     unknown         0     NaN\n"
     ]
    }
   ],
   "source": [
    "logs.loc[logs['source'] == 'None', 'sources'] = 'email'\n",
    "\n",
    "print(logs.info())\n",
    "print()\n",
    "\n",
    "print(logs.isna().sum())\n",
    "print()\n",
    "\n",
    "print(logs.head(10))"
   ]
  },
  {
   "cell_type": "markdown",
   "id": "03fa276c-fcb9-4664-97e3-5847ec5f2285",
   "metadata": {},
   "source": [
    "Посчитайте количество визитов и покупок по источнику трафика `('source')`. Вызовите метод `agg`.\n",
    "Сохраните результат в переменной `logs_grouped` и выведите на экран."
   ]
  },
  {
   "cell_type": "code",
   "execution_count": 339,
   "id": "9e6ad240-bcd3-4e42-8e89-927abd7d3ff2",
   "metadata": {},
   "outputs": [
    {
     "name": "stdout",
     "output_type": "stream",
     "text": [
      "          count   sum\n",
      "source               \n",
      "context   52032  3029\n",
      "email     12279   913\n",
      "other    134015  8053\n",
      "Index(['count', 'sum'], dtype='object')\n"
     ]
    }
   ],
   "source": [
    "#Undef is replaced to other earlier so it would not bring down the entire code structure\n",
    "logs.loc[logs['source'] == 'undef', 'source'] = 'other'\n",
    "\n",
    "logs_grouped = logs.groupby('source').agg(\n",
    "    count =('purchase','count'),\n",
    "    sum = ('purchase','sum'))\n",
    "print(logs_grouped)\n",
    "print(logs_grouped.columns)"
   ]
  },
  {
   "cell_type": "code",
   "execution_count": 340,
   "id": "0577df1b-0287-4814-8c16-14ad18f4f7e4",
   "metadata": {},
   "outputs": [
    {
     "name": "stdout",
     "output_type": "stream",
     "text": [
      "          count   sum  conversion\n",
      "source                           \n",
      "context   52032  3029        5.82\n",
      "email     12279   913        7.44\n",
      "other    134015  8053        6.01\n"
     ]
    }
   ],
   "source": [
    "logs_grouped['conversion'] = round(logs_grouped['sum'] / logs_grouped['count'] * 100,2)\n",
    "print(logs_grouped)"
   ]
  },
  {
   "cell_type": "markdown",
   "id": "60b6b027-f19d-4171-a758-82d9fa56ebd8",
   "metadata": {},
   "source": [
    "У `'undef'` всего 12 покупок. Эта категория на порядки отличается от своих более объёмных конкурентов, и сравнивать их некорректно. Объедините её с одной из «больших» категорий в данных, похожей на `'undef'` своей конверсией. Замените значение источника `'undef'` на `'other'` и посчитайте конверсию в покупки для каждого источника трафика после замены. Выведите `logs_grouped` на экран."
   ]
  },
  {
   "cell_type": "code",
   "execution_count": 341,
   "id": "058faeaf-92b2-40b6-a9dd-51f4086bd057",
   "metadata": {},
   "outputs": [
    {
     "name": "stdout",
     "output_type": "stream",
     "text": [
      "          count   sum  conversion\n",
      "source                           \n",
      "context   52032  3029        5.82\n",
      "email     12279   913        7.44\n",
      "other    134015  8053        6.01\n"
     ]
    }
   ],
   "source": [
    "logs_grouped['conversion'] = round(logs_grouped['sum'] / logs_grouped['count'] * 100,2)\n",
    "print(logs_grouped)"
   ]
  },
  {
   "cell_type": "markdown",
   "id": "06dbbbe8-3a12-4c36-8379-be28e37662dc",
   "metadata": {},
   "source": [
    "## 2.9. Работа с пропусками в количественных переменных"
   ]
  },
  {
   "cell_type": "code",
   "execution_count": 370,
   "id": "7729d157-3d0c-4c6b-aa59-45667c4a29fe",
   "metadata": {},
   "outputs": [
    {
     "name": "stdout",
     "output_type": "stream",
     "text": [
      "      user_id device_type   age    time\n",
      "0  7141786820     desktop  33.0  2127.0\n",
      "1  5644686960      mobile  30.0    35.0\n",
      "2  1914055396     desktop  25.0     NaN\n",
      "3  4099355752     desktop  25.0  2123.0\n",
      "4  6032477554     desktop  27.0    59.0\n",
      "5  5872473344      mobile  27.0     NaN\n",
      "6  7977025176      mobile   NaN     NaN\n",
      "7  3512872755     desktop  40.0    65.0\n",
      "8  1827368713     desktop  37.0     NaN\n",
      "9  8688870165     desktop  36.0  2124.0\n",
      "\n",
      "Index(['user_id', 'device_type', 'age', 'time'], dtype='object')\n",
      "\n",
      "<class 'pandas.core.frame.DataFrame'>\n",
      "RangeIndex: 100000 entries, 0 to 99999\n",
      "Data columns (total 4 columns):\n",
      " #   Column       Non-Null Count   Dtype  \n",
      "---  ------       --------------   -----  \n",
      " 0   user_id      100000 non-null  int64  \n",
      " 1   device_type  100000 non-null  object \n",
      " 2   age          94228 non-null   float64\n",
      " 3   time         75411 non-null   float64\n",
      "dtypes: float64(2), int64(1), object(1)\n",
      "memory usage: 3.1+ MB\n",
      "None\n",
      "\n",
      "user_id            0\n",
      "device_type        0\n",
      "age             5772\n",
      "time           24589\n",
      "dtype: int64\n"
     ]
    }
   ],
   "source": [
    "import pandas as pd\n",
    "\n",
    "metrica = pd.read_csv(r'C:\\Users\\stazher3\\Downloads\\Yandex.Disk.Files\\2\\[SuperSliv.biz] 02 Работа с пропусками\\09 work\\metrica_data.csv')\n",
    "\n",
    "print(metrica.head(10))\n",
    "print()\n",
    "print(metrica.columns)\n",
    "print()\n",
    "print(metrica.info())\n",
    "print()\n",
    "print(metrica.isna().sum())"
   ]
  },
  {
   "cell_type": "code",
   "execution_count": 371,
   "id": "cd0cfb51-e143-4bd2-b644-6d570904da25",
   "metadata": {},
   "outputs": [
    {
     "name": "stdout",
     "output_type": "stream",
     "text": [
      "32.48966336969903\n"
     ]
    }
   ],
   "source": [
    "age_avg = metrica['age'].mean()\n",
    "print(age_avg)"
   ]
  },
  {
   "cell_type": "code",
   "execution_count": 372,
   "id": "9ce3b187-5671-46ae-afea-7a56eebb625d",
   "metadata": {},
   "outputs": [
    {
     "name": "stdout",
     "output_type": "stream",
     "text": [
      "<class 'pandas.core.frame.DataFrame'>\n",
      "RangeIndex: 100000 entries, 0 to 99999\n",
      "Data columns (total 4 columns):\n",
      " #   Column       Non-Null Count   Dtype  \n",
      "---  ------       --------------   -----  \n",
      " 0   user_id      100000 non-null  int64  \n",
      " 1   device_type  100000 non-null  object \n",
      " 2   age          100000 non-null  float64\n",
      " 3   time         75411 non-null   float64\n",
      "dtypes: float64(2), int64(1), object(1)\n",
      "memory usage: 3.1+ MB\n",
      "None\n",
      "user_id            0\n",
      "device_type        0\n",
      "age                0\n",
      "time           24589\n",
      "dtype: int64\n",
      "32.48966336969903\n"
     ]
    }
   ],
   "source": [
    "metrica['age'] = metrica['age'].fillna(age_avg)\n",
    "\n",
    "print(metrica.info())\n",
    "print(metrica.isna().sum())\n",
    "\n",
    "age_avg = metrica['age'].mean()\n",
    "\n",
    "print(age_avg)"
   ]
  },
  {
   "cell_type": "code",
   "execution_count": 375,
   "id": "7bd8824f-b8e9-4f4b-975d-261483c425a9",
   "metadata": {},
   "outputs": [
    {
     "name": "stdout",
     "output_type": "stream",
     "text": [
      "1430.1294506106535\n"
     ]
    }
   ],
   "source": [
    "time_avg = metrica['time'].mean()\n",
    "print(time_avg)"
   ]
  },
  {
   "cell_type": "code",
   "execution_count": 379,
   "id": "50878769-8ae3-4301-9983-b25bb9e68687",
   "metadata": {},
   "outputs": [
    {
     "name": "stdout",
     "output_type": "stream",
     "text": [
      "   index    time\n",
      "0      0  2127.0\n",
      "1      2     NaN\n",
      "2      3  2123.0\n",
      "3      4    59.0\n",
      "4      7    65.0\n",
      "5      8     NaN\n",
      "6      9  2124.0\n",
      "7     11  2098.0\n",
      "8     12     NaN\n",
      "9     13  2139.0\n"
     ]
    }
   ],
   "source": [
    "desktop_data = metrica.loc[metrica['device_type'] == 'desktop', 'time'].reset_index()\n",
    "print(desktop_data.head(10))"
   ]
  },
  {
   "cell_type": "markdown",
   "id": "002fa7a4-9a32-4fa8-af58-60766623d028",
   "metadata": {},
   "source": [
    "Установите, сколько времени в среднем проводят на сайте пользователи настольных компьютеров. Результат сохраните в переменной `desktop_data_time_avg`. Закомментируйте вывод предыдущего задания и выведите значение `desktop_data_time_avg` на экран."
   ]
  },
  {
   "cell_type": "code",
   "execution_count": 382,
   "id": "5552dfbf-cd7c-4f89-abea-b6dafe63efdc",
   "metadata": {},
   "outputs": [
    {
     "name": "stdout",
     "output_type": "stream",
     "text": [
      "1741.8747158537378\n"
     ]
    }
   ],
   "source": [
    "desktop_data_time_avg = desktop_data['time'].mean()\n",
    "print(desktop_data_time_avg)"
   ]
  },
  {
   "cell_type": "code",
   "execution_count": 385,
   "id": "34fdbd94-025f-49ab-81af-d17435255885",
   "metadata": {},
   "outputs": [
    {
     "name": "stdout",
     "output_type": "stream",
     "text": [
      "   index  time\n",
      "0      1  35.0\n",
      "1      5   NaN\n",
      "2      6   NaN\n",
      "3     10   NaN\n",
      "4     14  40.0\n",
      "5     15  48.0\n",
      "6     18   NaN\n",
      "7     32   NaN\n",
      "8     33  49.0\n",
      "9     34   NaN\n"
     ]
    }
   ],
   "source": [
    "mobile_data = metrica.loc[metrica['device_type'] == 'mobile', 'time'].reset_index()\n",
    "print(mobile_data.head(10))"
   ]
  },
  {
   "cell_type": "code",
   "execution_count": 387,
   "id": "a09c16ce-ac69-408b-8e87-e21b24f069a4",
   "metadata": {},
   "outputs": [
    {
     "name": "stdout",
     "output_type": "stream",
     "text": [
      "41.15691239238949\n"
     ]
    }
   ],
   "source": [
    "mobile_data_time_avg = mobile_data['time'].mean()\n",
    "print(mobile_data_time_avg)"
   ]
  },
  {
   "cell_type": "code",
   "execution_count": null,
   "id": "cbac3ded-038c-4dcd-a8dd-b4e86dab25ad",
   "metadata": {},
   "outputs": [],
   "source": []
  }
 ],
 "metadata": {
  "kernelspec": {
   "display_name": "Python 3 (ipykernel)",
   "language": "python",
   "name": "python3"
  },
  "language_info": {
   "codemirror_mode": {
    "name": "ipython",
    "version": 3
   },
   "file_extension": ".py",
   "mimetype": "text/x-python",
   "name": "python",
   "nbconvert_exporter": "python",
   "pygments_lexer": "ipython3",
   "version": "3.12.3"
  }
 },
 "nbformat": 4,
 "nbformat_minor": 5
}
