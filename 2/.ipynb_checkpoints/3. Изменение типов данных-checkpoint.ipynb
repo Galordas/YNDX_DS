{
 "cells": [
  {
   "cell_type": "markdown",
   "id": "267fd804-435d-4ca5-be8c-d257a71a7e44",
   "metadata": {},
   "source": [
    "## 3. Изменение типов данных"
   ]
  },
  {
   "cell_type": "markdown",
   "id": "add01b7d-9d74-46fe-80e1-7ed6dbda27e2",
   "metadata": {},
   "source": [
    "## 3.1. Чтение файлов из excel"
   ]
  },
  {
   "cell_type": "code",
   "execution_count": null,
   "id": "74da0884-4ed0-4ee7-ac94-8e9b6bfd3ef8",
   "metadata": {},
   "outputs": [],
   "source": [
    "import pandas as pd\n",
    "\n",
    "traffic_data = pd.read_excel(r'E:\\COURSES\\Кодинг\\[Yandex praxis]. DS specialist + (2022)\\2\\[SuperSliv.biz] 03 Изменение типов данных\\04 work\\seo_data.xlsx', sheet_name ='traffic_data')\n",
    "\n",
    "print(traffic_data.head(10))\n",
    "print()\n",
    "print(traffic_data.columns)\n",
    "print()\n",
    "print(traffic_data.info())\n",
    "print()\n",
    "\n",
    "#read excel sheets names:\n",
    "print(list(pd.read_excel(r'E:\\COURSES\\Кодинг\\[Yandex praxis]. DS specialist + (2022)\\2\\[SuperSliv.biz] 03 Изменение типов данных\\04 work\\seo_data.xlsx', sheet_name = None).keys()))"
   ]
  },
  {
   "cell_type": "markdown",
   "id": "7c5fc117-632a-4c45-9715-6b32f8909c9c",
   "metadata": {},
   "source": [
    "Пока в первых 5 строчках таблицы виден только один источник трафика `direct`. Проверьте, какие источники есть в столбце `source`. Выведите на экран список уникальных значений этого столбца\n"
   ]
  },
  {
   "cell_type": "code",
   "execution_count": null,
   "id": "219b06cc-4792-4956-b3de-05b026c72b9f",
   "metadata": {},
   "outputs": [],
   "source": [
    "print(traffic_data['source'].unique())"
   ]
  },
  {
   "cell_type": "code",
   "execution_count": null,
   "id": "40ed89d1-7692-4c57-817f-e52f8e79977d",
   "metadata": {},
   "outputs": [],
   "source": [
    "subcategory_dict = pd.read_excel(r'E:\\COURSES\\Кодинг\\[Yandex praxis]. DS specialist + (2022)\\2\\[SuperSliv.biz] 03 Изменение типов данных\\04 work\\seo_data.xlsx', sheet_name ='subcategory_ids')\n",
    "\n",
    "print(subcategory_dict.head(10))\n",
    "print()\n",
    "print(subcategory_dict.columns)\n",
    "print()\n",
    "print(subcategory_dict.info())\n",
    "print()"
   ]
  },
  {
   "cell_type": "code",
   "execution_count": null,
   "id": "48c278b0-33c1-46ba-a41e-8fccdb29d797",
   "metadata": {},
   "outputs": [],
   "source": [
    "category_ids = pd.read_excel(r'E:\\COURSES\\Кодинг\\[Yandex praxis]. DS specialist + (2022)\\2\\[SuperSliv.biz] 03 Изменение типов данных\\04 work\\seo_data.xlsx', sheet_name ='category_ids')\n",
    "\n",
    "print(category_ids.head(10))\n",
    "print()\n",
    "print(category_ids.columns)\n",
    "print()\n",
    "print(category_ids.info())\n",
    "print()"
   ]
  },
  {
   "cell_type": "markdown",
   "id": "f9959fde-b591-4951-bb33-77343afa6fb0",
   "metadata": {},
   "source": [
    "Сгруппируем датафрейм 'traffic_data' по источнику трафика и посчитаем сумму визитов:"
   ]
  },
  {
   "cell_type": "code",
   "execution_count": null,
   "id": "9562e5bd-28c6-48a6-bc80-28039bd4ddc2",
   "metadata": {},
   "outputs": [],
   "source": [
    "# print(traffic_data.groupby('source').count())\n",
    "\n",
    "# print(traffic_data[traffic_data['source'] == 'direct']['source'].count())\n",
    "# print(traffic_data[traffic_data['source'] == 'organic']['source'].count())\n",
    "\n",
    "# or we could do the same thing in one row with groupby method\n",
    "\n",
    "print(traffic_data.groupby('source')['subcategory_id'].count())"
   ]
  },
  {
   "cell_type": "markdown",
   "id": "05a68e9a-8975-4ad0-8fec-f1566cddae4d",
   "metadata": {},
   "source": [
    "## 3.2. Перевод строковых значений в числа"
   ]
  },
  {
   "cell_type": "code",
   "execution_count": null,
   "id": "fccea36c-3a87-4eec-8b08-e8b02d6237bc",
   "metadata": {},
   "outputs": [],
   "source": [
    "import pandas as pd\n",
    "\n",
    "print(list(pd.read_excel(r'E:\\COURSES\\Кодинг\\[Yandex praxis]. DS specialist + (2022)\\2\\[SuperSliv.biz] 03 Изменение типов данных\\04 work\\ids.xlsx', sheet_name=None)))\n",
    "\n",
    "data = pd.read_excel(r'E:\\COURSES\\Кодинг\\[Yandex praxis]. DS specialist + (2022)\\2\\[SuperSliv.biz] 03 Изменение типов данных\\04 work\\ids.xlsx', sheet_name='Лист1')\n",
    "\n",
    "print(data.head(10))\n",
    "print()\n",
    "print(data.columns)\n",
    "print()\n",
    "print(data.info())\n",
    "print()"
   ]
  },
  {
   "cell_type": "markdown",
   "id": "c3921612-0d1a-4b83-bf68-59357d680521",
   "metadata": {},
   "source": [
    "Вычислить сумму продаж:"
   ]
  },
  {
   "cell_type": "code",
   "execution_count": null,
   "id": "c0e1d3ac-8957-4a58-b954-149cc5a38146",
   "metadata": {},
   "outputs": [],
   "source": [
    "# There is str in `amount` column\n",
    "# print(data['amount'].sum())\n",
    "\n",
    "data['amount'] = pd.to_numeric(data['amount'], errors = 'coerce')\n",
    "\n",
    "print(data['amount'].sum())\n",
    "\n",
    "print(data['amount'].info())\n",
    "# `errors='raise' — дефолтное поведение: при встрече с некорректным значением выдаётся ошибка, операция перевода в числа прерывается;\n",
    "# `errors='coerce' — некорректные значения принудительно заменяются на NaN;\n",
    "# `errors='ignore' — некорректные значения игнорируются, но остаются."
   ]
  },
  {
   "cell_type": "markdown",
   "id": "ed230580-7b87-4b87-982a-9b6b699428a8",
   "metadata": {},
   "source": [
    "Переведите значения столбца `'id'` из строк в числа методом `to_numeric()`."
   ]
  },
  {
   "cell_type": "code",
   "execution_count": null,
   "id": "7fb4bc79-136a-48cf-ae46-866c0dd852aa",
   "metadata": {},
   "outputs": [],
   "source": [
    "# There is str in `amount` column\n",
    "# print(data['id'].sum())\n",
    "# print(data['id'].unique())\n",
    "\n",
    "data['id'] = pd.to_numeric(data['id'], errors = 'coerce')"
   ]
  },
  {
   "cell_type": "code",
   "execution_count": null,
   "id": "2669e9a3-8924-4db9-9ecf-dec7266bad59",
   "metadata": {},
   "outputs": [],
   "source": [
    "print(data.groupby('category')['amount'].sum())"
   ]
  },
  {
   "cell_type": "code",
   "execution_count": null,
   "id": "1c2f619c-f6ca-43e6-a051-87e395f49e92",
   "metadata": {},
   "outputs": [],
   "source": [
    "traffic_data['visits'] = pd.to_numeric(traffic_data['visits'], errors = 'coerce')\n",
    "# print(traffic_data.columns)\n",
    "\n",
    "print(traffic_data.groupby('source')['subcategory_id'].count())"
   ]
  },
  {
   "cell_type": "markdown",
   "id": "4da8c72d-29b2-4f2a-b847-f1f1967384a3",
   "metadata": {},
   "source": [
    "Узнайте, что не так со строкой 964. Вызовите знакомый из вводного курса метод `loc`\n"
   ]
  },
  {
   "cell_type": "code",
   "execution_count": null,
   "id": "00c6a593-cdea-4c1c-b6cc-c2da317f1a99",
   "metadata": {},
   "outputs": [],
   "source": [
    "print(traffic_data.head(10))\n",
    "print(traffic_data.info())\n",
    "\n",
    "print(traffic_data['visits'].sum())\n",
    "\n",
    "print(traffic_data.loc[964])"
   ]
  },
  {
   "cell_type": "markdown",
   "id": "a3832c3b-7a88-4f5e-aca0-936a45eac260",
   "metadata": {},
   "source": [
    "Вычислите, сколько всего строк в датафрейме и выведите на экран в формате:\n",
    "`Количество строк: 1000`\n",
    "Затем выведите на экран строки, которые имеют значение `'total'` в столбце `'subcategory_id'`. Изучите полученные результаты: сколько строк портят весь датасет?"
   ]
  },
  {
   "cell_type": "code",
   "execution_count": null,
   "id": "adeec77a-e4ad-4a0f-ba1f-eab1ed562a89",
   "metadata": {},
   "outputs": [],
   "source": [
    "print(traffic_data[traffic_data['subcategory_id'] == 'total'])\n",
    "\n",
    "print(traffic_data.head(10))"
   ]
  },
  {
   "cell_type": "markdown",
   "id": "71ed9fb8-7bf1-4b0f-8133-0da95193ff49",
   "metadata": {},
   "source": [
    "Оставьте в датафрейме только строки, удовлетворяющие условию `data['subcategory_id'] != 'total'`. Проверьте результат: выведите на экран датафрейм с условием `data['subcategory_id'] == 'total'`."
   ]
  },
  {
   "cell_type": "code",
   "execution_count": null,
   "id": "663fc0f7-341e-4206-8782-a6bb7e5c8535",
   "metadata": {},
   "outputs": [],
   "source": [
    "traffic_data = traffic_data[traffic_data['subcategory_id'] != 'total']\n",
    "\n",
    "\n",
    "print(traffic_data[traffic_data['subcategory_id'] == 'total'])\n",
    "\n",
    "print(traffic_data.head(10))\n",
    "print()\n",
    "\n",
    "print(traffic_data.info())"
   ]
  },
  {
   "cell_type": "markdown",
   "id": "be4c88f3-e1b1-44d1-bbee-457f01a4282f",
   "metadata": {},
   "source": [
    "Измените тип данных в столбце `['visits']` на `integer`. Проверьте полученный результат, вызвав метод `info()`."
   ]
  },
  {
   "cell_type": "code",
   "execution_count": null,
   "id": "473e7916-345f-4b13-a133-938faca2c3ec",
   "metadata": {},
   "outputs": [],
   "source": [
    "traffic_data['visits'] = traffic_data['visits'].astype(int)\n",
    "\n",
    "print(traffic_data.head(10))\n",
    "\n",
    "print(traffic_data.info())"
   ]
  },
  {
   "cell_type": "code",
   "execution_count": null,
   "id": "04ab4254-61aa-43e3-bcf9-3be2bd74766f",
   "metadata": {},
   "outputs": [],
   "source": [
    "print(traffic_data.groupby('source')['visits'].sum())"
   ]
  },
  {
   "cell_type": "markdown",
   "id": "1ae454cc-b00c-41d7-99f3-bea1d3f031f3",
   "metadata": {},
   "source": [
    "## 3.3. Time and data in `Pandas`"
   ]
  },
  {
   "cell_type": "code",
   "execution_count": null,
   "id": "40bfc878-b99f-4872-aefe-2a3197fbf213",
   "metadata": {},
   "outputs": [],
   "source": [
    "import pandas as pd\n",
    "\n",
    "position = pd.read_csv(r'E:\\COURSES\\Кодинг\\[Yandex praxis]. DS specialist + (2022)\\2\\[SuperSliv.biz] 03 Изменение типов данных\\05 work\\position.csv')\n",
    "\n",
    "print(position.info())\n",
    "print()\n",
    "print(position.head(15))\n",
    "print()\n",
    "print(position.columns)"
   ]
  },
  {
   "cell_type": "markdown",
   "id": "c295d6a1-fd6a-477e-9053-3111b2732e8c",
   "metadata": {},
   "source": [
    "Методом `to_datetime()` превратим содержимое этого столбца в понятные для Python даты.\n",
    "Для этого строку форматируют, обращаясь к специальной системе обозначений, где:\n",
    "\n",
    "* `%d` — день месяца (от 01 до 31)\n",
    "* `%m` — номер месяца (от 01 до 12)\n",
    "* `%Y` — четырёхзначный номер года (например, 2019)\n",
    "* `Z` — стандартный разделитель даты и времени\n",
    "* `%H` — номер часа в 24-часовом формате\n",
    "* `%I` — номер часа в 12-часовом формате\n",
    "* `%M` — минуты (от 00 до 59)\n",
    "* `%S` — секунды (от 00 до 59)"
   ]
  },
  {
   "cell_type": "markdown",
   "id": "3248a397-89a4-4e76-a750-f31c6b679e8d",
   "metadata": {},
   "source": [
    "Метод `to_datetime()` работает и с форматом `unix time`. Первый аргумент — это столбец со временем в формате `unix time`, второй аргумент `unit` со значением `'s'` сообщит о том, что нужно перевести время в привычный формат с точностью до секунды."
   ]
  },
  {
   "cell_type": "code",
   "execution_count": null,
   "id": "dee24eb9-802d-4356-ad6a-c7043535218d",
   "metadata": {},
   "outputs": [],
   "source": [
    "position['timestamp'] = pd.to_datetime(position['timestamp'], format = '%Y-%m-%dT%H:%M:%S')\n",
    "\n",
    "print(position.head(10))\n",
    "print(position.info())"
   ]
  },
  {
   "cell_type": "code",
   "execution_count": null,
   "id": "79bc3196-1f0d-4a3e-a6bd-b454fa6b8c1c",
   "metadata": {},
   "outputs": [],
   "source": [
    "position = position.sort_values(by='level', ascending=False).reset_index(drop=True)\n",
    "\n",
    "print(position.head(10))"
   ]
  },
  {
   "cell_type": "markdown",
   "id": "12c9fba4-4487-4c1e-9303-df93e533108a",
   "metadata": {},
   "source": [
    "Часто приходится исследовать статистику по месяцам: например, узнать, на сколько минут сотрудник опаздывал в среднем. Чтобы осуществить такой расчёт, нужно поместить время в класс `DatetimeIndex` и применить к нему атрибут `month`:"
   ]
  },
  {
   "cell_type": "markdown",
   "id": "7cf39f8d-4892-4155-b213-aff2be4eade3",
   "metadata": {},
   "source": [
    "In addition to .year and .month, pd.DatetimeIndex provides several other useful attributes and methods for extracting and manipulating datetime components:\n",
    "\n",
    "* `day`: Extracts the day of the month.\n",
    "* `weekday`: Extracts the day of the week (Monday=0, Sunday=6).\n",
    "* `dayofyear`: Extracts the day of the year (1-365/366).\n",
    "* `quarter`: Extracts the quarter of the year (1-4).\n",
    "* `hour`: Extracts the hour component for datetime entries that include time.\n",
    "* `minute`: Extracts the minute component.\n",
    "* `second`: Extracts the second component."
   ]
  },
  {
   "cell_type": "code",
   "execution_count": null,
   "id": "59ee810f-b34b-43f6-8a87-4912b2b6ca77",
   "metadata": {},
   "outputs": [],
   "source": [
    "position['month'] = pd.DatetimeIndex(position['timestamp']).month\n",
    "\n",
    "position.head(5)"
   ]
  },
  {
   "cell_type": "code",
   "execution_count": null,
   "id": "7c9ff519-ba40-4b51-8676-4e934881612c",
   "metadata": {},
   "outputs": [],
   "source": [
    "print(position.groupby('month')['level'].mean())\n",
    "print()\n",
    "\n",
    "print(position['month'].mean())"
   ]
  },
  {
   "cell_type": "markdown",
   "id": "391aad8a-41d9-4429-9255-3905bb55475e",
   "metadata": {},
   "source": [
    "## 3.4. Обработка ошибок: try-except"
   ]
  },
  {
   "cell_type": "code",
   "execution_count": null,
   "id": "6109ba90-230f-4517-95d2-09c6735f6d4a",
   "metadata": {},
   "outputs": [],
   "source": [
    "opposition = [\n",
    "    ['2data9-05-data', '6'],\n",
    "    ['2data9-05-02', '5'],\n",
    "    ['2data9-05-03', '5'],\n",
    "    ['2data9-05-04', '4'],\n",
    "    ['2data9-05-05', '5'],\n",
    "    ['2data9-05-06', '5'],\n",
    "    ['2data9-05-07', '4'],\n",
    "    ['2data9-05-08', '4'],\n",
    "    ['2data9-05-09', '3'],\n",
    "    ['2data9-05-10', '3'],\n",
    "]\n",
    "\n",
    "count_lines = 0\n",
    "\n",
    "for row in opposition:\n",
    "    count_lines+=1\n",
    "print(count_lines)\n",
    "    # допишите"
   ]
  },
  {
   "cell_type": "code",
   "execution_count": null,
   "id": "f0a2c636-31ab-4961-8189-4b4e00d18d5c",
   "metadata": {},
   "outputs": [],
   "source": [
    "sum = 0\n",
    "count = 0\n",
    "for row in opposition:\n",
    "    count+=1\n",
    "    sum = sum+int(row[1])\n",
    "print(sum/count)"
   ]
  },
  {
   "cell_type": "markdown",
   "id": "8623f616-27f4-4564-94cd-57b6d8242ca6",
   "metadata": {},
   "source": [
    "Формат поставки статистики согласован. Разработчики прислали финальную выгрузку, где в данных появились проблемы: отрицательные значения, пробелы и даже ошибки.\n",
    "\r\n",
    "Посчитайте среднюю позицию в выдаче и нажмите «Выполнить код»."
   ]
  },
  {
   "cell_type": "code",
   "execution_count": null,
   "id": "c9fef612-639d-48e4-a5c5-0ff84f16ae23",
   "metadata": {},
   "outputs": [],
   "source": [
    "opposition1 = [\n",
    "    ['2019-05-01', ' - 6'],\n",
    "    ['2019-05-02', ' + 5'],\n",
    "    ['2019-05-data', ' 5'],\n",
    "    ['2019-05-04', '4'],\n",
    "    ['2019-05-05', '5'],\n",
    "    ['2019-05-06', '5'],\n",
    "    ['2019-05-07', '4'],\n",
    "    ['2019-05-08', 'Error 5'],\n",
    "    ['2019-05-09', '3'],\n",
    "    ['2019-05-10', '3'],\n",
    "]"
   ]
  },
  {
   "cell_type": "markdown",
   "id": "530bf109-2615-4196-994e-ff6c3bfda678",
   "metadata": {},
   "source": [
    "Let's introduce some `try` `except` into our code:"
   ]
  },
  {
   "cell_type": "code",
   "execution_count": null,
   "id": "6649387b-e114-4d2f-86e4-0b906872a0d6",
   "metadata": {},
   "outputs": [],
   "source": [
    "count_lines = 0\n",
    "\n",
    "for row in opposition1:\n",
    "    count_lines +=1\n",
    "print(count_lines)\n",
    "\n",
    "errors =[]\n",
    "sum = 0\n",
    "count = 0 \n",
    "for row in opposition1:\n",
    "    try:\n",
    "        sum = sum + int(row[1])\n",
    "        count += 1\n",
    "    except:\n",
    "        # row[1] = int(row[1])\n",
    "        print(f\"Couldn't add {row[1]} from the {count} line\")\n",
    "        errors.append(row)\n",
    "print(sum/count)\n",
    "print(errors)\n"
   ]
  },
  {
   "cell_type": "code",
   "execution_count": null,
   "id": "119841a0-396d-492c-8a49-05d54eaa7cb4",
   "metadata": {},
   "outputs": [],
   "source": [
    "print(errors[0:1])\n",
    "print(errors[1:2])"
   ]
  },
  {
   "cell_type": "markdown",
   "id": "ca502674-dafc-495b-a03e-b12331d72ced",
   "metadata": {},
   "source": [
    "Let's make a correct string value for each row in the turple\n",
    "* Let's start with removing all the unwanted spaces between the nubmers and their respective signs by `replace(' ', '')`\n",
    "* After we remove the string part of the value with `filter` function using `isdigit` method \n",
    "* After that join all filtered digits into an integer by adding it up to the empty space `''` with `''.join()`\n",
    "\n",
    "    Instead of `replace('',' ')` method it would be more convenient to use `.strip()`"
   ]
  },
  {
   "cell_type": "code",
   "execution_count": null,
   "id": "6eb92c67-3c7a-46eb-96a6-797cb33217fb",
   "metadata": {},
   "outputs": [],
   "source": [
    "errors =[]\n",
    "sum = 0\n",
    "count = 0 \n",
    "for row in opposition1:\n",
    "    value = + int(''.join(filter(str.isdigit, row[1].strip())))\n",
    "    count += 1\n",
    "    if row[1].strip().startswith('-'):\n",
    "        value = -value\n",
    "    else:\n",
    "        value = value\n",
    "    sum += value\n",
    "    # \n",
    "    # except:\n",
    "    #     print(f\"Couldn't add {row[1]} from the {count} line\")\n",
    "    #     errors.append(row)\n",
    "print(sum/count)\n",
    "print(errors)"
   ]
  },
  {
   "cell_type": "markdown",
   "id": "45f83256-584c-48c4-af83-86a95cdb002b",
   "metadata": {},
   "source": [
    "## 3.5. `merge()` method"
   ]
  },
  {
   "cell_type": "markdown",
   "id": "37c62fd3-65fb-4c3c-bd6b-07a1e5ff582f",
   "metadata": {},
   "source": [
    "Данные хранят в Excel-таблице из нескольких листов. Как смотреть на категории, подкатегории и трафик в одном месте? Идея — склеить таблицы!\n",
    "\n",
    "Объединим несколько таблиц в одну методом `merge()`.\n",
    "\n",
    "`merge()` применяют к таблице, к которой присоединяют другую. У метода следующие аргументы\n",
    "\n",
    "1.\n",
    "* `left` -The first DataFrame to be merged.\n",
    "* `right` -The second DataFrame to be merged.\n",
    "\n",
    "2. \n",
    "* `how='left'` - Keeps all elements from the left DataFrame and fills in NaN for missing values in the right DataFrame.\n",
    "* `how='right'` - Keeps all elements from the right DataFrame and fills in NaN for missing values in the left DataFrame.\n",
    "* `how='inner'` - Keeps only the common elements between the left and right DataFrames.\n",
    "* `how='outer'` - Keeps all elements from both DataFrames and fills in NaN for missing values.\n",
    "\n",
    "3. `on` - Column(s) to join on. Must be found in both DataFrames. If not specified and `left_index` and right_index are `False`, it will attempt to merge on the intersection of the column names.\n",
    "* `left_on`: Column(s) from the left DataFrame to use as keys for the merge.\n",
    "* `right_on`: Column(s) from the right DataFrame to use as keys for the merge.\n",
    "\n",
    "4. `sort`:   If True, sort the result by the join keys in lexicographical order. Defaults to True.\n",
    "\n",
    "5. `suffixes`: A tuple of string suffixes to append to overlapping columns. Defaults to `('_x', '_y')` It allows to distinguish `values` from overlapping columns.\n",
    "\n",
    "6. `copy`: If `False`, avoid copying data if possible. Defaults to `True`.\n",
    "\n",
    "7. `indicator`: If `True`, adds a column to the output DataFrame called `_merge` with information on the source of each row. Defaults to `False`.\n",
    "\n",
    "8. `validate`: String indicating validation to perform after merging. Possible values are `\n",
    "\n",
    "* `'one_to_one'`  Each value in the left DataFrame must match at most one value in the right DataFrame, and vice versa.\r\n",
    "*  `'one_to_many' Each value in the left DataFrame can match multiple values in the right DataFrame.`\n",
    "*  `'many_to_one' Each value in the right DataFrame can match multiple values in the left DataFrame.`\n",
    "*  Defaults to `None`.\n",
    "\n",
    "\n",
    "\n",
    "\n",
    "`pandas.merge(left, right, how='inner', on=None, left_on=None, right_on=None, left_index=False, right_index=False, sort=True, suffixes=('_x', '_y'), copy=True, indicator=False, validate=None)`)` "
   ]
  },
  {
   "cell_type": "code",
   "execution_count": 8,
   "id": "0101bdf4-d6da-43d5-adbf-110415696fa2",
   "metadata": {},
   "outputs": [
    {
     "name": "stdout",
     "output_type": "stream",
     "text": [
      "['traffic_data', 'subcategory_ids', 'category_ids']\n",
      "\n",
      "<class 'pandas.core.frame.DataFrame'>\n",
      "RangeIndex: 1930 entries, 0 to 1929\n",
      "Data columns (total 3 columns):\n",
      " #   Column          Non-Null Count  Dtype \n",
      "---  ------          --------------  ----- \n",
      " 0   subcategory_id  1930 non-null   object\n",
      " 1   source          1930 non-null   object\n",
      " 2   visits          1930 non-null   object\n",
      "dtypes: object(3)\n",
      "memory usage: 45.4+ KB\n",
      "None\n",
      "\n",
      "Index(['subcategory_id', 'source', 'visits'], dtype='object')\n",
      "\n",
      "  subcategory_id  source         visits\n",
      "0     cf2e61c7af  direct  501165.668858\n",
      "1     0cd903d1cc  direct  126342.359505\n",
      "2     ef35bc88a7  direct   95626.321402\n",
      "3     6ff9f4014c  direct   75680.653002\n",
      "4     72bc238e4d  direct   64435.934651\n",
      "5     88c78ea685  direct   39638.202995\n",
      "6     179bfacf4a  direct   31007.471245\n",
      "7     b0fb8f259a  direct   30324.097324\n",
      "8     3c67eb2d90  direct   25878.814329\n",
      "9     24e6c815c6  direct   25276.373358\n"
     ]
    }
   ],
   "source": [
    "import pandas as pd\n",
    "\n",
    "print(list(pd.read_excel(r'E:\\COURSES\\Кодинг\\[Yandex praxis]. DS specialist + (2022)\\2\\[SuperSliv.biz] 03 Изменение типов данных\\07 work\\seo_data.xlsx', sheet_name=None)))\n",
    "print()\n",
    "\n",
    "data = pd.read_excel(r'E:\\COURSES\\Кодинг\\[Yandex praxis]. DS specialist + (2022)\\2\\[SuperSliv.biz] 03 Изменение типов данных\\07 work\\seo_data.xlsx', sheet_name='traffic_data')\n",
    "\n",
    "print(data.info())\n",
    "print()\n",
    "print(data.columns)\n",
    "print()\n",
    "print(data.head(10))"
   ]
  },
  {
   "cell_type": "code",
   "execution_count": 10,
   "id": "d0806232-2196-42d6-827f-910df8ce00f2",
   "metadata": {},
   "outputs": [
    {
     "name": "stdout",
     "output_type": "stream",
     "text": [
      "<class 'pandas.core.frame.DataFrame'>\n",
      "RangeIndex: 964 entries, 0 to 963\n",
      "Data columns (total 3 columns):\n",
      " #   Column            Non-Null Count  Dtype \n",
      "---  ------            --------------  ----- \n",
      " 0   subcategory_id    964 non-null    object\n",
      " 1   subcategory_name  964 non-null    object\n",
      " 2   category_id       964 non-null    object\n",
      "dtypes: object(3)\n",
      "memory usage: 22.7+ KB\n",
      "None\n",
      "\n",
      "Index(['subcategory_id', 'subcategory_name', 'category_id'], dtype='object')\n",
      "\n",
      "  subcategory_id                subcategory_name category_id\n",
      "0     cf2e61c7af              Мобильные телефоны  09f279a643\n",
      "1     0cd903d1cc                        Ноутбуки  3509869a61\n",
      "2     ef35bc88a7                      Телевизоры  09f279a643\n",
      "3     6ff9f4014c                        Планшеты  3509869a61\n",
      "4     72bc238e4d  Наушники и Bluetooth-гарнитуры  09f279a643\n",
      "5     88c78ea685                            Шины  65922fa39c\n",
      "6     179bfacf4a           Умные часы и браслеты  09f279a643\n",
      "7     b0fb8f259a                        Мониторы  3509869a61\n",
      "8     3c67eb2d90                   Наручные часы  6074ad29ac\n",
      "9     24e6c815c6  Лекарственные препараты и БАДы  10a493e03b\n"
     ]
    }
   ],
   "source": [
    "subcategory_dict = pd.read_excel(r'E:\\COURSES\\Кодинг\\[Yandex praxis]. DS specialist + (2022)\\2\\[SuperSliv.biz] 03 Изменение типов данных\\04 work\\seo_data.xlsx', sheet_name ='subcategory_ids')\n",
    "\n",
    "print(subcategory_dict.info())\n",
    "print()\n",
    "print(subcategory_dict.columns)\n",
    "print()\n",
    "print(subcategory_dict.head(10))"
   ]
  },
  {
   "cell_type": "markdown",
   "id": "4023fd26-966b-498f-9f92-d5f79a381ff9",
   "metadata": {},
   "source": [
    "Объедините самостоятельно таблицы subcategory_dict и data. Результат сохраните в переменной data_subcategory и выведите на экран первые 10 строк новой таблицы."
   ]
  },
  {
   "cell_type": "code",
   "execution_count": 45,
   "id": "2ca9bf7f-f96b-44c3-9417-070e8cf0edf0",
   "metadata": {},
   "outputs": [
    {
     "name": "stdout",
     "output_type": "stream",
     "text": [
      "<class 'pandas.core.frame.DataFrame'>\n",
      "RangeIndex: 16 entries, 0 to 15\n",
      "Data columns (total 2 columns):\n",
      " #   Column         Non-Null Count  Dtype \n",
      "---  ------         --------------  ----- \n",
      " 0   category_id    16 non-null     object\n",
      " 1   category_name  16 non-null     object\n",
      "dtypes: object(2)\n",
      "memory usage: 388.0+ bytes\n",
      "None\n",
      "Index(['category_id', 'category_name'], dtype='object')\n",
      "\n",
      "  category_id               category_name\n",
      "0  09f279a643                 Электроника\n",
      "1  3509869a61        Компьютерная техника\n",
      "2  65922fa39c                        Авто\n",
      "3  6074ad29ac  Одежда, обувь и аксессуары\n",
      "4  10a493e03b         Товары для здоровья\n",
      "5  5a0d8ac946             Бытовая техника\n",
      "6  7dbac4c1a3              Детские товары\n",
      "7  ae99947659               Спорт и отдых\n",
      "8  655ccc3c49          Товары для красоты\n",
      "9  394f20d8fa      Строительство и ремонт\n"
     ]
    }
   ],
   "source": [
    "category_dict = pd.read_excel(r'E:\\COURSES\\Кодинг\\[Yandex praxis]. DS specialist + (2022)\\2\\[SuperSliv.biz] 03 Изменение типов данных\\04 work\\seo_data.xlsx', sheet_name ='category_ids')\n",
    "\n",
    "print(category_ids.info())\n",
    "print(category_ids.columns)\n",
    "print()\n",
    "print(category_ids.head(10))"
   ]
  },
  {
   "cell_type": "code",
   "execution_count": 50,
   "id": "16407b3f-7af5-49ae-86fb-345d8245caca",
   "metadata": {},
   "outputs": [
    {
     "name": "stdout",
     "output_type": "stream",
     "text": [
      "<class 'pandas.core.frame.DataFrame'>\n",
      "RangeIndex: 1930 entries, 0 to 1929\n",
      "Data columns (total 5 columns):\n",
      " #   Column            Non-Null Count  Dtype \n",
      "---  ------            --------------  ----- \n",
      " 0   subcategory_id    1930 non-null   object\n",
      " 1   source            1930 non-null   object\n",
      " 2   visits            1930 non-null   object\n",
      " 3   subcategory_name  1928 non-null   object\n",
      " 4   category_id       1928 non-null   object\n",
      "dtypes: object(5)\n",
      "memory usage: 75.5+ KB\n",
      "None\n",
      "\n",
      "Index(['subcategory_id', 'source', 'visits', 'subcategory_name',\n",
      "       'category_id'],\n",
      "      dtype='object')\n",
      "\n",
      "  subcategory_id  source         visits                subcategory_name  \\\n",
      "0     cf2e61c7af  direct  501165.668858              Мобильные телефоны   \n",
      "1     0cd903d1cc  direct  126342.359505                        Ноутбуки   \n",
      "2     ef35bc88a7  direct   95626.321402                      Телевизоры   \n",
      "3     6ff9f4014c  direct   75680.653002                        Планшеты   \n",
      "4     72bc238e4d  direct   64435.934651  Наушники и Bluetooth-гарнитуры   \n",
      "5     88c78ea685  direct   39638.202995                            Шины   \n",
      "6     179bfacf4a  direct   31007.471245           Умные часы и браслеты   \n",
      "7     b0fb8f259a  direct   30324.097324                        Мониторы   \n",
      "8     3c67eb2d90  direct   25878.814329                   Наручные часы   \n",
      "9     24e6c815c6  direct   25276.373358  Лекарственные препараты и БАДы   \n",
      "\n",
      "  category_id  \n",
      "0  09f279a643  \n",
      "1  3509869a61  \n",
      "2  09f279a643  \n",
      "3  3509869a61  \n",
      "4  09f279a643  \n",
      "5  65922fa39c  \n",
      "6  09f279a643  \n",
      "7  3509869a61  \n",
      "8  6074ad29ac  \n",
      "9  10a493e03b  \n"
     ]
    }
   ],
   "source": [
    "data_subcategory = data.merge(subcategory_dict, on='subcategory_id', how ='left',suffixes=('_data', '_subcategory'))\n",
    "\n",
    "print(data_subcategory.info())\n",
    "print()\n",
    "print(data_subcategory.columns)\n",
    "print()\n",
    "print(data_subcategory.head(10))"
   ]
  },
  {
   "cell_type": "markdown",
   "id": "00c2baf9-1872-4a9d-ba59-c6a62beaa2df",
   "metadata": {},
   "source": [
    "Объедините таблицы `data_subcategory` и `category_dict`. Результат сохраните в переменной `data_final` и выведите на экран первые 10 строк новой таблицы."
   ]
  },
  {
   "cell_type": "code",
   "execution_count": 53,
   "id": "7cb92a69-e9e1-4c0b-b863-50b93f5eb28b",
   "metadata": {},
   "outputs": [
    {
     "name": "stdout",
     "output_type": "stream",
     "text": [
      "<class 'pandas.core.frame.DataFrame'>\n",
      "RangeIndex: 1930 entries, 0 to 1929\n",
      "Data columns (total 6 columns):\n",
      " #   Column            Non-Null Count  Dtype \n",
      "---  ------            --------------  ----- \n",
      " 0   subcategory_id    1930 non-null   object\n",
      " 1   source            1930 non-null   object\n",
      " 2   visits            1930 non-null   object\n",
      " 3   subcategory_name  1928 non-null   object\n",
      " 4   category_id       1928 non-null   object\n",
      " 5   category_name     1928 non-null   object\n",
      "dtypes: object(6)\n",
      "memory usage: 90.6+ KB\n",
      "None\n",
      "\n",
      "Index(['subcategory_id', 'source', 'visits', 'subcategory_name', 'category_id',\n",
      "       'category_name'],\n",
      "      dtype='object')\n",
      "\n",
      "  subcategory_id  source         visits                subcategory_name  \\\n",
      "0     cf2e61c7af  direct  501165.668858              Мобильные телефоны   \n",
      "1     0cd903d1cc  direct  126342.359505                        Ноутбуки   \n",
      "2     ef35bc88a7  direct   95626.321402                      Телевизоры   \n",
      "3     6ff9f4014c  direct   75680.653002                        Планшеты   \n",
      "4     72bc238e4d  direct   64435.934651  Наушники и Bluetooth-гарнитуры   \n",
      "5     88c78ea685  direct   39638.202995                            Шины   \n",
      "6     179bfacf4a  direct   31007.471245           Умные часы и браслеты   \n",
      "7     b0fb8f259a  direct   30324.097324                        Мониторы   \n",
      "8     3c67eb2d90  direct   25878.814329                   Наручные часы   \n",
      "9     24e6c815c6  direct   25276.373358  Лекарственные препараты и БАДы   \n",
      "\n",
      "  category_id               category_name  \n",
      "0  09f279a643                 Электроника  \n",
      "1  3509869a61        Компьютерная техника  \n",
      "2  09f279a643                 Электроника  \n",
      "3  3509869a61        Компьютерная техника  \n",
      "4  09f279a643                 Электроника  \n",
      "5  65922fa39c                        Авто  \n",
      "6  09f279a643                 Электроника  \n",
      "7  3509869a61        Компьютерная техника  \n",
      "8  6074ad29ac  Одежда, обувь и аксессуары  \n",
      "9  10a493e03b         Товары для здоровья  \n"
     ]
    }
   ],
   "source": [
    "data_final = pd.merge(data_subcategory, category_dict, on='category_id', how='left')\n",
    "\n",
    "print(data_final.info())\n",
    "print()\n",
    "print(data_final.columns)\n",
    "print()\n",
    "print(data_final.head(10))"
   ]
  },
  {
   "cell_type": "code",
   "execution_count": null,
   "id": "dbdf5678-edc2-4f85-b3e7-ed4933c6fea4",
   "metadata": {},
   "outputs": [],
   "source": []
  }
 ],
 "metadata": {
  "kernelspec": {
   "display_name": "Python 3 (ipykernel)",
   "language": "python",
   "name": "python3"
  },
  "language_info": {
   "codemirror_mode": {
    "name": "ipython",
    "version": 3
   },
   "file_extension": ".py",
   "mimetype": "text/x-python",
   "name": "python",
   "nbconvert_exporter": "python",
   "pygments_lexer": "ipython3",
   "version": "3.12.4"
  }
 },
 "nbformat": 4,
 "nbformat_minor": 5
}
